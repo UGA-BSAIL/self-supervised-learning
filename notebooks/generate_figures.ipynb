{
 "cells": [
  {
   "cell_type": "code",
   "execution_count": 1,
   "id": "33529baf-fe32-4998-af8a-002e228c640d",
   "metadata": {
    "tags": []
   },
   "outputs": [
    {
     "data": {
      "text/html": [
       "<pre style=\"white-space:pre;overflow-x:auto;line-height:normal;font-family:Menlo,'DejaVu Sans Mono',consolas,'Courier New',monospace\"></pre>\n"
      ],
      "text/plain": []
     },
     "metadata": {},
     "output_type": "display_data"
    },
    {
     "data": {
      "text/html": [
       "<div>\n",
       "<style scoped>\n",
       "    .dataframe tbody tr th:only-of-type {\n",
       "        vertical-align: middle;\n",
       "    }\n",
       "\n",
       "    .dataframe tbody tr th {\n",
       "        vertical-align: top;\n",
       "    }\n",
       "\n",
       "    .dataframe thead th {\n",
       "        text-align: right;\n",
       "    }\n",
       "</style>\n",
       "<table border=\"1\" class=\"dataframe\">\n",
       "  <thead>\n",
       "    <tr style=\"text-align: right;\">\n",
       "      <th></th>\n",
       "      <th>Pre-Train</th>\n",
       "      <th>Multi View?</th>\n",
       "      <th># Views</th>\n",
       "      <th>Train Set</th>\n",
       "      <th>Test Set</th>\n",
       "      <th>MAE</th>\n",
       "      <th>SMAPE</th>\n",
       "    </tr>\n",
       "  </thead>\n",
       "  <tbody>\n",
       "    <tr>\n",
       "      <th>0</th>\n",
       "      <td>COCo</td>\n",
       "      <td>N</td>\n",
       "      <td>NaN</td>\n",
       "      <td>ssl_active_3</td>\n",
       "      <td>ssl_active_2</td>\n",
       "      <td>0.87</td>\n",
       "      <td>128</td>\n",
       "    </tr>\n",
       "    <tr>\n",
       "      <th>1</th>\n",
       "      <td>Random</td>\n",
       "      <td>N</td>\n",
       "      <td>NaN</td>\n",
       "      <td>ssl_active_3</td>\n",
       "      <td>ssl_active_2</td>\n",
       "      <td>0.82</td>\n",
       "      <td>123</td>\n",
       "    </tr>\n",
       "    <tr>\n",
       "      <th>2</th>\n",
       "      <td>SimCLR</td>\n",
       "      <td>Y</td>\n",
       "      <td>4.0</td>\n",
       "      <td>ssl_active_3</td>\n",
       "      <td>ssl_active_2</td>\n",
       "      <td>0.88</td>\n",
       "      <td>130</td>\n",
       "    </tr>\n",
       "    <tr>\n",
       "      <th>3</th>\n",
       "      <td>COCo</td>\n",
       "      <td>N</td>\n",
       "      <td>NaN</td>\n",
       "      <td>active_1</td>\n",
       "      <td>2018-08-22 00:00:00</td>\n",
       "      <td>1.73</td>\n",
       "      <td>99</td>\n",
       "    </tr>\n",
       "    <tr>\n",
       "      <th>4</th>\n",
       "      <td>Random</td>\n",
       "      <td>N</td>\n",
       "      <td>NaN</td>\n",
       "      <td>active_1</td>\n",
       "      <td>2018-08-22 00:00:00</td>\n",
       "      <td>1.76</td>\n",
       "      <td>91</td>\n",
       "    </tr>\n",
       "    <tr>\n",
       "      <th>5</th>\n",
       "      <td>SimCLR</td>\n",
       "      <td>Y</td>\n",
       "      <td>4.0</td>\n",
       "      <td>active_1</td>\n",
       "      <td>2018-08-22 00:00:00</td>\n",
       "      <td>1.71</td>\n",
       "      <td>111</td>\n",
       "    </tr>\n",
       "    <tr>\n",
       "      <th>6</th>\n",
       "      <td>SimCLR</td>\n",
       "      <td>Y</td>\n",
       "      <td>2.0</td>\n",
       "      <td>active_1</td>\n",
       "      <td>2018-08-22 00:00:00</td>\n",
       "      <td>1.62</td>\n",
       "      <td>92</td>\n",
       "    </tr>\n",
       "    <tr>\n",
       "      <th>7</th>\n",
       "      <td>SimCLR</td>\n",
       "      <td>Y</td>\n",
       "      <td>2.0</td>\n",
       "      <td>ssl_active_3</td>\n",
       "      <td>ssl_active_2</td>\n",
       "      <td>0.72</td>\n",
       "      <td>130</td>\n",
       "    </tr>\n",
       "    <tr>\n",
       "      <th>8</th>\n",
       "      <td>SimCLR</td>\n",
       "      <td>N</td>\n",
       "      <td>NaN</td>\n",
       "      <td>active_1</td>\n",
       "      <td>2018-08-22 00:00:00</td>\n",
       "      <td>1.70</td>\n",
       "      <td>109</td>\n",
       "    </tr>\n",
       "    <tr>\n",
       "      <th>9</th>\n",
       "      <td>SimCLR</td>\n",
       "      <td>N</td>\n",
       "      <td>NaN</td>\n",
       "      <td>ssl_active_3</td>\n",
       "      <td>ssl_active_2</td>\n",
       "      <td>0.84</td>\n",
       "      <td>138</td>\n",
       "    </tr>\n",
       "    <tr>\n",
       "      <th>10</th>\n",
       "      <td>SimCLR</td>\n",
       "      <td>Y</td>\n",
       "      <td>3.0</td>\n",
       "      <td>active_1</td>\n",
       "      <td>2018-08-22 00:00:00</td>\n",
       "      <td>1.80</td>\n",
       "      <td>112</td>\n",
       "    </tr>\n",
       "    <tr>\n",
       "      <th>11</th>\n",
       "      <td>SimCLR</td>\n",
       "      <td>Y</td>\n",
       "      <td>3.0</td>\n",
       "      <td>ssl_active_3</td>\n",
       "      <td>ssl_active_2</td>\n",
       "      <td>0.86</td>\n",
       "      <td>134</td>\n",
       "    </tr>\n",
       "    <tr>\n",
       "      <th>12</th>\n",
       "      <td>SimCLR</td>\n",
       "      <td>Y</td>\n",
       "      <td>5.0</td>\n",
       "      <td>active_1</td>\n",
       "      <td>2018-08-22 00:00:00</td>\n",
       "      <td>1.91</td>\n",
       "      <td>116</td>\n",
       "    </tr>\n",
       "    <tr>\n",
       "      <th>13</th>\n",
       "      <td>SimCLR</td>\n",
       "      <td>Y</td>\n",
       "      <td>5.0</td>\n",
       "      <td>ssl_active_3</td>\n",
       "      <td>ssl_active_2</td>\n",
       "      <td>0.84</td>\n",
       "      <td>138</td>\n",
       "    </tr>\n",
       "  </tbody>\n",
       "</table>\n",
       "</div>"
      ],
      "text/plain": [
       "\n",
       "   Pre-Train Multi View?  # Views     Train Set             Test Set   MAE  \\\n",
       "\u001b[1;36m0\u001b[0m       COCo           N      NaN  ssl_active_3         ssl_active_2  \u001b[1;36m0.87\u001b[0m   \n",
       "\u001b[1;36m1\u001b[0m     Random           N      NaN  ssl_active_3         ssl_active_2  \u001b[1;36m0.82\u001b[0m   \n",
       "\u001b[1;36m2\u001b[0m     SimCLR           Y      \u001b[1;36m4.0\u001b[0m  ssl_active_3         ssl_active_2  \u001b[1;36m0.88\u001b[0m   \n",
       "\u001b[1;36m3\u001b[0m       COCo           N      NaN      active_1  \u001b[1;36m2018\u001b[0m-\u001b[1;36m08\u001b[0m-\u001b[1;36m22\u001b[0m \u001b[1;92m00:00:00\u001b[0m  \u001b[1;36m1.73\u001b[0m   \n",
       "\u001b[1;36m4\u001b[0m     Random           N      NaN      active_1  \u001b[1;36m2018\u001b[0m-\u001b[1;36m08\u001b[0m-\u001b[1;36m22\u001b[0m \u001b[1;92m00:00:00\u001b[0m  \u001b[1;36m1.76\u001b[0m   \n",
       "\u001b[1;36m5\u001b[0m     SimCLR           Y      \u001b[1;36m4.0\u001b[0m      active_1  \u001b[1;36m2018\u001b[0m-\u001b[1;36m08\u001b[0m-\u001b[1;36m22\u001b[0m \u001b[1;92m00:00:00\u001b[0m  \u001b[1;36m1.71\u001b[0m   \n",
       "\u001b[1;36m6\u001b[0m     SimCLR           Y      \u001b[1;36m2.0\u001b[0m      active_1  \u001b[1;36m2018\u001b[0m-\u001b[1;36m08\u001b[0m-\u001b[1;36m22\u001b[0m \u001b[1;92m00:00:00\u001b[0m  \u001b[1;36m1.62\u001b[0m   \n",
       "\u001b[1;36m7\u001b[0m     SimCLR           Y      \u001b[1;36m2.0\u001b[0m  ssl_active_3         ssl_active_2  \u001b[1;36m0.72\u001b[0m   \n",
       "\u001b[1;36m8\u001b[0m     SimCLR           N      NaN      active_1  \u001b[1;36m2018\u001b[0m-\u001b[1;36m08\u001b[0m-\u001b[1;36m22\u001b[0m \u001b[1;92m00:00:00\u001b[0m  \u001b[1;36m1.70\u001b[0m   \n",
       "\u001b[1;36m9\u001b[0m     SimCLR           N      NaN  ssl_active_3         ssl_active_2  \u001b[1;36m0.84\u001b[0m   \n",
       "\u001b[1;36m10\u001b[0m    SimCLR           Y      \u001b[1;36m3.0\u001b[0m      active_1  \u001b[1;36m2018\u001b[0m-\u001b[1;36m08\u001b[0m-\u001b[1;36m22\u001b[0m \u001b[1;92m00:00:00\u001b[0m  \u001b[1;36m1.80\u001b[0m   \n",
       "\u001b[1;36m11\u001b[0m    SimCLR           Y      \u001b[1;36m3.0\u001b[0m  ssl_active_3         ssl_active_2  \u001b[1;36m0.86\u001b[0m   \n",
       "\u001b[1;36m12\u001b[0m    SimCLR           Y      \u001b[1;36m5.0\u001b[0m      active_1  \u001b[1;36m2018\u001b[0m-\u001b[1;36m08\u001b[0m-\u001b[1;36m22\u001b[0m \u001b[1;92m00:00:00\u001b[0m  \u001b[1;36m1.91\u001b[0m   \n",
       "\u001b[1;36m13\u001b[0m    SimCLR           Y      \u001b[1;36m5.0\u001b[0m  ssl_active_3         ssl_active_2  \u001b[1;36m0.84\u001b[0m   \n",
       "\n",
       "    SMAPE  \n",
       "\u001b[1;36m0\u001b[0m     \u001b[1;36m128\u001b[0m  \n",
       "\u001b[1;36m1\u001b[0m     \u001b[1;36m123\u001b[0m  \n",
       "\u001b[1;36m2\u001b[0m     \u001b[1;36m130\u001b[0m  \n",
       "\u001b[1;36m3\u001b[0m      \u001b[1;36m99\u001b[0m  \n",
       "\u001b[1;36m4\u001b[0m      \u001b[1;36m91\u001b[0m  \n",
       "\u001b[1;36m5\u001b[0m     \u001b[1;36m111\u001b[0m  \n",
       "\u001b[1;36m6\u001b[0m      \u001b[1;36m92\u001b[0m  \n",
       "\u001b[1;36m7\u001b[0m     \u001b[1;36m130\u001b[0m  \n",
       "\u001b[1;36m8\u001b[0m     \u001b[1;36m109\u001b[0m  \n",
       "\u001b[1;36m9\u001b[0m     \u001b[1;36m138\u001b[0m  \n",
       "\u001b[1;36m10\u001b[0m    \u001b[1;36m112\u001b[0m  \n",
       "\u001b[1;36m11\u001b[0m    \u001b[1;36m134\u001b[0m  \n",
       "\u001b[1;36m12\u001b[0m    \u001b[1;36m116\u001b[0m  \n",
       "\u001b[1;36m13\u001b[0m    \u001b[1;36m138\u001b[0m  "
      ]
     },
     "execution_count": 1,
     "metadata": {},
     "output_type": "execute_result"
    }
   ],
   "source": [
    "# Figure showing flower counting linear evaluation performance.\n",
    "import pandas as pd\n",
    "\n",
    "linear_eval_data = pd.read_excel(\"Linear Evaluation Results.xlsx\", sheet_name=\"# Flowers\")\n",
    "linear_eval_data"
   ]
  },
  {
   "cell_type": "code",
   "execution_count": 2,
   "id": "ff5d498c-392d-488d-9699-97969e6c8552",
   "metadata": {
    "tags": []
   },
   "outputs": [],
   "source": [
    "is_ground = linear_eval_data[\"Train Set\"] == \"ssl_active_3\"\n",
    "linear_eval_data[\"Platform\"] = [\"ground\" if g else \"aerial\" for g in is_ground]"
   ]
  },
  {
   "cell_type": "code",
   "execution_count": 3,
   "id": "d9024251-e7c6-47fd-b387-c878c087029c",
   "metadata": {
    "tags": []
   },
   "outputs": [],
   "source": [
    "def _create_model_name(row: pd.Series) -> str:\n",
    "    if row[\"Pre-Train\"] != \"SimCLR\":\n",
    "        return row[\"Pre-Train\"]\n",
    "    if row[\"Multi View?\"] == \"N\":\n",
    "        return \"Vanilla SimCLR\"\n",
    "    return f\"{int(row['# Views'])}-View SimCLR\"\n",
    "\n",
    "linear_eval_data[\"Name\"] = linear_eval_data.apply(_create_model_name, axis=1)"
   ]
  },
  {
   "cell_type": "code",
   "execution_count": 4,
   "id": "0bc3198f-5573-4647-8504-022de361cff5",
   "metadata": {
    "tags": []
   },
   "outputs": [
    {
     "data": {
      "text/html": [
       "<pre style=\"white-space:pre;overflow-x:auto;line-height:normal;font-family:Menlo,'DejaVu Sans Mono',consolas,'Courier New',monospace\"></pre>\n"
      ],
      "text/plain": []
     },
     "metadata": {},
     "output_type": "display_data"
    },
    {
     "data": {
      "text/html": [
       "<div>\n",
       "<style scoped>\n",
       "    .dataframe tbody tr th:only-of-type {\n",
       "        vertical-align: middle;\n",
       "    }\n",
       "\n",
       "    .dataframe tbody tr th {\n",
       "        vertical-align: top;\n",
       "    }\n",
       "\n",
       "    .dataframe thead th {\n",
       "        text-align: right;\n",
       "    }\n",
       "</style>\n",
       "<table border=\"1\" class=\"dataframe\">\n",
       "  <thead>\n",
       "    <tr style=\"text-align: right;\">\n",
       "      <th></th>\n",
       "      <th>Pre-Train</th>\n",
       "      <th>Multi View?</th>\n",
       "      <th># Views</th>\n",
       "      <th>Train Set</th>\n",
       "      <th>Test Set</th>\n",
       "      <th>MAE</th>\n",
       "      <th>SMAPE</th>\n",
       "      <th>Platform</th>\n",
       "      <th>Name</th>\n",
       "    </tr>\n",
       "  </thead>\n",
       "  <tbody>\n",
       "    <tr>\n",
       "      <th>0</th>\n",
       "      <td>COCo</td>\n",
       "      <td>N</td>\n",
       "      <td>NaN</td>\n",
       "      <td>ssl_active_3</td>\n",
       "      <td>ssl_active_2</td>\n",
       "      <td>0.87</td>\n",
       "      <td>128</td>\n",
       "      <td>ground</td>\n",
       "      <td>COCo</td>\n",
       "    </tr>\n",
       "    <tr>\n",
       "      <th>1</th>\n",
       "      <td>Random</td>\n",
       "      <td>N</td>\n",
       "      <td>NaN</td>\n",
       "      <td>ssl_active_3</td>\n",
       "      <td>ssl_active_2</td>\n",
       "      <td>0.82</td>\n",
       "      <td>123</td>\n",
       "      <td>ground</td>\n",
       "      <td>Random</td>\n",
       "    </tr>\n",
       "    <tr>\n",
       "      <th>2</th>\n",
       "      <td>SimCLR</td>\n",
       "      <td>Y</td>\n",
       "      <td>4.0</td>\n",
       "      <td>ssl_active_3</td>\n",
       "      <td>ssl_active_2</td>\n",
       "      <td>0.88</td>\n",
       "      <td>130</td>\n",
       "      <td>ground</td>\n",
       "      <td>4-View SimCLR</td>\n",
       "    </tr>\n",
       "    <tr>\n",
       "      <th>3</th>\n",
       "      <td>COCo</td>\n",
       "      <td>N</td>\n",
       "      <td>NaN</td>\n",
       "      <td>active_1</td>\n",
       "      <td>2018-08-22 00:00:00</td>\n",
       "      <td>1.73</td>\n",
       "      <td>99</td>\n",
       "      <td>aerial</td>\n",
       "      <td>COCo</td>\n",
       "    </tr>\n",
       "    <tr>\n",
       "      <th>4</th>\n",
       "      <td>Random</td>\n",
       "      <td>N</td>\n",
       "      <td>NaN</td>\n",
       "      <td>active_1</td>\n",
       "      <td>2018-08-22 00:00:00</td>\n",
       "      <td>1.76</td>\n",
       "      <td>91</td>\n",
       "      <td>aerial</td>\n",
       "      <td>Random</td>\n",
       "    </tr>\n",
       "    <tr>\n",
       "      <th>5</th>\n",
       "      <td>SimCLR</td>\n",
       "      <td>Y</td>\n",
       "      <td>4.0</td>\n",
       "      <td>active_1</td>\n",
       "      <td>2018-08-22 00:00:00</td>\n",
       "      <td>1.71</td>\n",
       "      <td>111</td>\n",
       "      <td>aerial</td>\n",
       "      <td>4-View SimCLR</td>\n",
       "    </tr>\n",
       "    <tr>\n",
       "      <th>6</th>\n",
       "      <td>SimCLR</td>\n",
       "      <td>Y</td>\n",
       "      <td>2.0</td>\n",
       "      <td>active_1</td>\n",
       "      <td>2018-08-22 00:00:00</td>\n",
       "      <td>1.62</td>\n",
       "      <td>92</td>\n",
       "      <td>aerial</td>\n",
       "      <td>2-View SimCLR</td>\n",
       "    </tr>\n",
       "    <tr>\n",
       "      <th>7</th>\n",
       "      <td>SimCLR</td>\n",
       "      <td>Y</td>\n",
       "      <td>2.0</td>\n",
       "      <td>ssl_active_3</td>\n",
       "      <td>ssl_active_2</td>\n",
       "      <td>0.72</td>\n",
       "      <td>130</td>\n",
       "      <td>ground</td>\n",
       "      <td>2-View SimCLR</td>\n",
       "    </tr>\n",
       "    <tr>\n",
       "      <th>8</th>\n",
       "      <td>SimCLR</td>\n",
       "      <td>N</td>\n",
       "      <td>NaN</td>\n",
       "      <td>active_1</td>\n",
       "      <td>2018-08-22 00:00:00</td>\n",
       "      <td>1.70</td>\n",
       "      <td>109</td>\n",
       "      <td>aerial</td>\n",
       "      <td>Vanilla SimCLR</td>\n",
       "    </tr>\n",
       "    <tr>\n",
       "      <th>9</th>\n",
       "      <td>SimCLR</td>\n",
       "      <td>N</td>\n",
       "      <td>NaN</td>\n",
       "      <td>ssl_active_3</td>\n",
       "      <td>ssl_active_2</td>\n",
       "      <td>0.84</td>\n",
       "      <td>138</td>\n",
       "      <td>ground</td>\n",
       "      <td>Vanilla SimCLR</td>\n",
       "    </tr>\n",
       "    <tr>\n",
       "      <th>10</th>\n",
       "      <td>SimCLR</td>\n",
       "      <td>Y</td>\n",
       "      <td>3.0</td>\n",
       "      <td>active_1</td>\n",
       "      <td>2018-08-22 00:00:00</td>\n",
       "      <td>1.80</td>\n",
       "      <td>112</td>\n",
       "      <td>aerial</td>\n",
       "      <td>3-View SimCLR</td>\n",
       "    </tr>\n",
       "    <tr>\n",
       "      <th>11</th>\n",
       "      <td>SimCLR</td>\n",
       "      <td>Y</td>\n",
       "      <td>3.0</td>\n",
       "      <td>ssl_active_3</td>\n",
       "      <td>ssl_active_2</td>\n",
       "      <td>0.86</td>\n",
       "      <td>134</td>\n",
       "      <td>ground</td>\n",
       "      <td>3-View SimCLR</td>\n",
       "    </tr>\n",
       "    <tr>\n",
       "      <th>12</th>\n",
       "      <td>SimCLR</td>\n",
       "      <td>Y</td>\n",
       "      <td>5.0</td>\n",
       "      <td>active_1</td>\n",
       "      <td>2018-08-22 00:00:00</td>\n",
       "      <td>1.91</td>\n",
       "      <td>116</td>\n",
       "      <td>aerial</td>\n",
       "      <td>5-View SimCLR</td>\n",
       "    </tr>\n",
       "    <tr>\n",
       "      <th>13</th>\n",
       "      <td>SimCLR</td>\n",
       "      <td>Y</td>\n",
       "      <td>5.0</td>\n",
       "      <td>ssl_active_3</td>\n",
       "      <td>ssl_active_2</td>\n",
       "      <td>0.84</td>\n",
       "      <td>138</td>\n",
       "      <td>ground</td>\n",
       "      <td>5-View SimCLR</td>\n",
       "    </tr>\n",
       "  </tbody>\n",
       "</table>\n",
       "</div>"
      ],
      "text/plain": [
       "\n",
       "   Pre-Train Multi View?  # Views     Train Set             Test Set   MAE  \\\n",
       "\u001b[1;36m0\u001b[0m       COCo           N      NaN  ssl_active_3         ssl_active_2  \u001b[1;36m0.87\u001b[0m   \n",
       "\u001b[1;36m1\u001b[0m     Random           N      NaN  ssl_active_3         ssl_active_2  \u001b[1;36m0.82\u001b[0m   \n",
       "\u001b[1;36m2\u001b[0m     SimCLR           Y      \u001b[1;36m4.0\u001b[0m  ssl_active_3         ssl_active_2  \u001b[1;36m0.88\u001b[0m   \n",
       "\u001b[1;36m3\u001b[0m       COCo           N      NaN      active_1  \u001b[1;36m2018\u001b[0m-\u001b[1;36m08\u001b[0m-\u001b[1;36m22\u001b[0m \u001b[1;92m00:00:00\u001b[0m  \u001b[1;36m1.73\u001b[0m   \n",
       "\u001b[1;36m4\u001b[0m     Random           N      NaN      active_1  \u001b[1;36m2018\u001b[0m-\u001b[1;36m08\u001b[0m-\u001b[1;36m22\u001b[0m \u001b[1;92m00:00:00\u001b[0m  \u001b[1;36m1.76\u001b[0m   \n",
       "\u001b[1;36m5\u001b[0m     SimCLR           Y      \u001b[1;36m4.0\u001b[0m      active_1  \u001b[1;36m2018\u001b[0m-\u001b[1;36m08\u001b[0m-\u001b[1;36m22\u001b[0m \u001b[1;92m00:00:00\u001b[0m  \u001b[1;36m1.71\u001b[0m   \n",
       "\u001b[1;36m6\u001b[0m     SimCLR           Y      \u001b[1;36m2.0\u001b[0m      active_1  \u001b[1;36m2018\u001b[0m-\u001b[1;36m08\u001b[0m-\u001b[1;36m22\u001b[0m \u001b[1;92m00:00:00\u001b[0m  \u001b[1;36m1.62\u001b[0m   \n",
       "\u001b[1;36m7\u001b[0m     SimCLR           Y      \u001b[1;36m2.0\u001b[0m  ssl_active_3         ssl_active_2  \u001b[1;36m0.72\u001b[0m   \n",
       "\u001b[1;36m8\u001b[0m     SimCLR           N      NaN      active_1  \u001b[1;36m2018\u001b[0m-\u001b[1;36m08\u001b[0m-\u001b[1;36m22\u001b[0m \u001b[1;92m00:00:00\u001b[0m  \u001b[1;36m1.70\u001b[0m   \n",
       "\u001b[1;36m9\u001b[0m     SimCLR           N      NaN  ssl_active_3         ssl_active_2  \u001b[1;36m0.84\u001b[0m   \n",
       "\u001b[1;36m10\u001b[0m    SimCLR           Y      \u001b[1;36m3.0\u001b[0m      active_1  \u001b[1;36m2018\u001b[0m-\u001b[1;36m08\u001b[0m-\u001b[1;36m22\u001b[0m \u001b[1;92m00:00:00\u001b[0m  \u001b[1;36m1.80\u001b[0m   \n",
       "\u001b[1;36m11\u001b[0m    SimCLR           Y      \u001b[1;36m3.0\u001b[0m  ssl_active_3         ssl_active_2  \u001b[1;36m0.86\u001b[0m   \n",
       "\u001b[1;36m12\u001b[0m    SimCLR           Y      \u001b[1;36m5.0\u001b[0m      active_1  \u001b[1;36m2018\u001b[0m-\u001b[1;36m08\u001b[0m-\u001b[1;36m22\u001b[0m \u001b[1;92m00:00:00\u001b[0m  \u001b[1;36m1.91\u001b[0m   \n",
       "\u001b[1;36m13\u001b[0m    SimCLR           Y      \u001b[1;36m5.0\u001b[0m  ssl_active_3         ssl_active_2  \u001b[1;36m0.84\u001b[0m   \n",
       "\n",
       "    SMAPE Platform            Name  \n",
       "\u001b[1;36m0\u001b[0m     \u001b[1;36m128\u001b[0m   ground            COCo  \n",
       "\u001b[1;36m1\u001b[0m     \u001b[1;36m123\u001b[0m   ground          Random  \n",
       "\u001b[1;36m2\u001b[0m     \u001b[1;36m130\u001b[0m   ground   \u001b[1;36m4\u001b[0m-View SimCLR  \n",
       "\u001b[1;36m3\u001b[0m      \u001b[1;36m99\u001b[0m   aerial            COCo  \n",
       "\u001b[1;36m4\u001b[0m      \u001b[1;36m91\u001b[0m   aerial          Random  \n",
       "\u001b[1;36m5\u001b[0m     \u001b[1;36m111\u001b[0m   aerial   \u001b[1;36m4\u001b[0m-View SimCLR  \n",
       "\u001b[1;36m6\u001b[0m      \u001b[1;36m92\u001b[0m   aerial   \u001b[1;36m2\u001b[0m-View SimCLR  \n",
       "\u001b[1;36m7\u001b[0m     \u001b[1;36m130\u001b[0m   ground   \u001b[1;36m2\u001b[0m-View SimCLR  \n",
       "\u001b[1;36m8\u001b[0m     \u001b[1;36m109\u001b[0m   aerial  Vanilla SimCLR  \n",
       "\u001b[1;36m9\u001b[0m     \u001b[1;36m138\u001b[0m   ground  Vanilla SimCLR  \n",
       "\u001b[1;36m10\u001b[0m    \u001b[1;36m112\u001b[0m   aerial   \u001b[1;36m3\u001b[0m-View SimCLR  \n",
       "\u001b[1;36m11\u001b[0m    \u001b[1;36m134\u001b[0m   ground   \u001b[1;36m3\u001b[0m-View SimCLR  \n",
       "\u001b[1;36m12\u001b[0m    \u001b[1;36m116\u001b[0m   aerial   \u001b[1;36m5\u001b[0m-View SimCLR  \n",
       "\u001b[1;36m13\u001b[0m    \u001b[1;36m138\u001b[0m   ground   \u001b[1;36m5\u001b[0m-View SimCLR  "
      ]
     },
     "execution_count": 4,
     "metadata": {},
     "output_type": "execute_result"
    }
   ],
   "source": [
    "linear_eval_data"
   ]
  },
  {
   "cell_type": "code",
   "execution_count": 5,
   "id": "5576951f-a547-4023-82ba-36e0681753a2",
   "metadata": {
    "tags": []
   },
   "outputs": [
    {
     "data": {
      "text/html": [
       "<pre style=\"white-space:pre;overflow-x:auto;line-height:normal;font-family:Menlo,'DejaVu Sans Mono',consolas,'Courier New',monospace\"></pre>\n"
      ],
      "text/plain": []
     },
     "metadata": {},
     "output_type": "display_data"
    },
    {
     "data": {
      "text/plain": [
       "\u001b[1m<\u001b[0m\u001b[1;95mmatplotlib.legend.Legend\u001b[0m\u001b[39m object at \u001b[0m\u001b[1;36m0x7e2264e0f9a0\u001b[0m\u001b[1m>\u001b[0m"
      ]
     },
     "execution_count": 5,
     "metadata": {},
     "output_type": "execute_result"
    },
    {
     "data": {
      "text/html": [
       "<pre style=\"white-space:pre;overflow-x:auto;line-height:normal;font-family:Menlo,'DejaVu Sans Mono',consolas,'Courier New',monospace\"></pre>\n"
      ],
      "text/plain": []
     },
     "metadata": {},
     "output_type": "display_data"
    },
    {
     "data": {
      "image/png": "[encoded data removed]",
      "text/plain": [
       "\u001b[1m<\u001b[0m\u001b[1;95mFigure\u001b[0m\u001b[39m size 120\u001b[0m\u001b[1;36m0x600\u001b[0m\u001b[39m with \u001b[0m\u001b[1;36m1\u001b[0m\u001b[39m Axes\u001b[0m\u001b[1m>\u001b[0m"
      ]
     },
     "metadata": {},
     "output_type": "display_data"
    }
   ],
   "source": [
    "import seaborn as sns\n",
    "import matplotlib.pyplot as plt\n",
    "\n",
    "# Set seaborn style\n",
    "sns.set(style=\"whitegrid\")\n",
    "\n",
    "# Create the bar plot\n",
    "plt.figure(figsize=(12, 6))\n",
    "x_ordered = [\"Random\", \"COCo\", \"Vanilla SimCLR\", \"2-View SimCLR\", \"3-View SimCLR\", \"4-View SimCLR\", \"5-View SimCLR\"]\n",
    "sns.barplot(data=linear_eval_data, x=\"Name\", y='MAE', hue='Platform', palette='bright', order=x_ordered)\n",
    "plt.title('Flower Counting Linear Evaluation MAE')\n",
    "plt.xlabel('Pre-Training Method')\n",
    "plt.ylabel('Mean Absolute Error')\n",
    "plt.legend(title='Platform')"
   ]
  },
  {
   "cell_type": "code",
   "execution_count": 6,
   "id": "3dac053f-741c-487e-b8fc-622dc3d72179",
   "metadata": {
    "tags": []
   },
   "outputs": [
    {
     "data": {
      "text/html": [
       "<pre style=\"white-space:pre;overflow-x:auto;line-height:normal;font-family:Menlo,'DejaVu Sans Mono',consolas,'Courier New',monospace\"></pre>\n"
      ],
      "text/plain": []
     },
     "metadata": {},
     "output_type": "display_data"
    },
    {
     "data": {
      "text/plain": [
       "\u001b[1m<\u001b[0m\u001b[1;95mmatplotlib.legend.Legend\u001b[0m\u001b[39m object at \u001b[0m\u001b[1;36m0x7e2224348a00\u001b[0m\u001b[1m>\u001b[0m"
      ]
     },
     "execution_count": 6,
     "metadata": {},
     "output_type": "execute_result"
    },
    {
     "data": {
      "text/html": [
       "<pre style=\"white-space:pre;overflow-x:auto;line-height:normal;font-family:Menlo,'DejaVu Sans Mono',consolas,'Courier New',monospace\"></pre>\n"
      ],
      "text/plain": []
     },
     "metadata": {},
     "output_type": "display_data"
    },
    {
     "data": {
      "image/png": "[encoded data removed]",
      "text/plain": [
       "\u001b[1m<\u001b[0m\u001b[1;95mFigure\u001b[0m\u001b[39m size 120\u001b[0m\u001b[1;36m0x600\u001b[0m\u001b[39m with \u001b[0m\u001b[1;36m1\u001b[0m\u001b[39m Axes\u001b[0m\u001b[1m>\u001b[0m"
      ]
     },
     "metadata": {},
     "output_type": "display_data"
    }
   ],
   "source": [
    "# Create the bar plot\n",
    "plt.figure(figsize=(12, 6))\n",
    "sns.barplot(data=linear_eval_data, x='Name', y='SMAPE', hue='Platform', palette='bright', order=x_ordered)\n",
    "plt.title('Flower Counting Linear Evaluation SMAPE')\n",
    "plt.xlabel('Pre-Training Method')\n",
    "plt.ylabel('SMAPE (%)')\n",
    "plt.legend(title='Platform')"
   ]
  },
  {
   "cell_type": "code",
   "execution_count": 7,
   "id": "06b68476-c7fe-4a6a-b7ba-ef00f38feb9d",
   "metadata": {
    "tags": []
   },
   "outputs": [
    {
     "data": {
      "text/html": [
       "<pre style=\"white-space:pre;overflow-x:auto;line-height:normal;font-family:Menlo,'DejaVu Sans Mono',consolas,'Courier New',monospace\"></pre>\n"
      ],
      "text/plain": []
     },
     "metadata": {},
     "output_type": "display_data"
    },
    {
     "data": {
      "text/html": [
       "<div>\n",
       "<style scoped>\n",
       "    .dataframe tbody tr th:only-of-type {\n",
       "        vertical-align: middle;\n",
       "    }\n",
       "\n",
       "    .dataframe tbody tr th {\n",
       "        vertical-align: top;\n",
       "    }\n",
       "\n",
       "    .dataframe thead th {\n",
       "        text-align: right;\n",
       "    }\n",
       "</style>\n",
       "<table border=\"1\" class=\"dataframe\">\n",
       "  <thead>\n",
       "    <tr style=\"text-align: right;\">\n",
       "      <th></th>\n",
       "      <th>Pre-Train</th>\n",
       "      <th>Multi View?</th>\n",
       "      <th># Views</th>\n",
       "      <th>Test Acc.</th>\n",
       "    </tr>\n",
       "  </thead>\n",
       "  <tbody>\n",
       "    <tr>\n",
       "      <th>0</th>\n",
       "      <td>SimCLR</td>\n",
       "      <td>Y</td>\n",
       "      <td>4.0</td>\n",
       "      <td>0.85</td>\n",
       "    </tr>\n",
       "    <tr>\n",
       "      <th>1</th>\n",
       "      <td>COCo</td>\n",
       "      <td>N</td>\n",
       "      <td>NaN</td>\n",
       "      <td>0.70</td>\n",
       "    </tr>\n",
       "    <tr>\n",
       "      <th>2</th>\n",
       "      <td>Random</td>\n",
       "      <td>N</td>\n",
       "      <td>NaN</td>\n",
       "      <td>0.45</td>\n",
       "    </tr>\n",
       "    <tr>\n",
       "      <th>3</th>\n",
       "      <td>SimCLR</td>\n",
       "      <td>Y</td>\n",
       "      <td>2.0</td>\n",
       "      <td>0.85</td>\n",
       "    </tr>\n",
       "    <tr>\n",
       "      <th>4</th>\n",
       "      <td>SimCLR</td>\n",
       "      <td>N</td>\n",
       "      <td>NaN</td>\n",
       "      <td>0.80</td>\n",
       "    </tr>\n",
       "    <tr>\n",
       "      <th>5</th>\n",
       "      <td>SimCLR</td>\n",
       "      <td>Y</td>\n",
       "      <td>3.0</td>\n",
       "      <td>0.90</td>\n",
       "    </tr>\n",
       "    <tr>\n",
       "      <th>6</th>\n",
       "      <td>SimCLR</td>\n",
       "      <td>Y</td>\n",
       "      <td>5.0</td>\n",
       "      <td>0.80</td>\n",
       "    </tr>\n",
       "  </tbody>\n",
       "</table>\n",
       "</div>"
      ],
      "text/plain": [
       "\n",
       "  Pre-Train Multi View?  # Views  Test Acc.\n",
       "\u001b[1;36m0\u001b[0m    SimCLR           Y      \u001b[1;36m4.0\u001b[0m       \u001b[1;36m0.85\u001b[0m\n",
       "\u001b[1;36m1\u001b[0m      COCo           N      NaN       \u001b[1;36m0.70\u001b[0m\n",
       "\u001b[1;36m2\u001b[0m    Random           N      NaN       \u001b[1;36m0.45\u001b[0m\n",
       "\u001b[1;36m3\u001b[0m    SimCLR           Y      \u001b[1;36m2.0\u001b[0m       \u001b[1;36m0.85\u001b[0m\n",
       "\u001b[1;36m4\u001b[0m    SimCLR           N      NaN       \u001b[1;36m0.80\u001b[0m\n",
       "\u001b[1;36m5\u001b[0m    SimCLR           Y      \u001b[1;36m3.0\u001b[0m       \u001b[1;36m0.90\u001b[0m\n",
       "\u001b[1;36m6\u001b[0m    SimCLR           Y      \u001b[1;36m5.0\u001b[0m       \u001b[1;36m0.80\u001b[0m"
      ]
     },
     "execution_count": 7,
     "metadata": {},
     "output_type": "execute_result"
    }
   ],
   "source": [
    "# Create the figure showing plot status linear eval data.\n",
    "plot_status_data = pd.read_excel(\"Linear Evaluation Results.xlsx\", sheet_name=\"Plot Status\")\n",
    "plot_status_data"
   ]
  },
  {
   "cell_type": "code",
   "execution_count": 8,
   "id": "68515069-20bb-4362-8ceb-cc4058632c10",
   "metadata": {
    "tags": []
   },
   "outputs": [
    {
     "data": {
      "text/html": [
       "<pre style=\"white-space:pre;overflow-x:auto;line-height:normal;font-family:Menlo,'DejaVu Sans Mono',consolas,'Courier New',monospace\"></pre>\n"
      ],
      "text/plain": []
     },
     "metadata": {},
     "output_type": "display_data"
    },
    {
     "data": {
      "text/html": [
       "<div>\n",
       "<style scoped>\n",
       "    .dataframe tbody tr th:only-of-type {\n",
       "        vertical-align: middle;\n",
       "    }\n",
       "\n",
       "    .dataframe tbody tr th {\n",
       "        vertical-align: top;\n",
       "    }\n",
       "\n",
       "    .dataframe thead th {\n",
       "        text-align: right;\n",
       "    }\n",
       "</style>\n",
       "<table border=\"1\" class=\"dataframe\">\n",
       "  <thead>\n",
       "    <tr style=\"text-align: right;\">\n",
       "      <th></th>\n",
       "      <th>Pre-Train</th>\n",
       "      <th>Multi View?</th>\n",
       "      <th># Views</th>\n",
       "      <th>Test Acc.</th>\n",
       "      <th>Name</th>\n",
       "    </tr>\n",
       "  </thead>\n",
       "  <tbody>\n",
       "    <tr>\n",
       "      <th>0</th>\n",
       "      <td>SimCLR</td>\n",
       "      <td>Y</td>\n",
       "      <td>4.0</td>\n",
       "      <td>0.85</td>\n",
       "      <td>4-View SimCLR</td>\n",
       "    </tr>\n",
       "    <tr>\n",
       "      <th>1</th>\n",
       "      <td>COCo</td>\n",
       "      <td>N</td>\n",
       "      <td>NaN</td>\n",
       "      <td>0.70</td>\n",
       "      <td>COCo</td>\n",
       "    </tr>\n",
       "    <tr>\n",
       "      <th>2</th>\n",
       "      <td>Random</td>\n",
       "      <td>N</td>\n",
       "      <td>NaN</td>\n",
       "      <td>0.45</td>\n",
       "      <td>Random</td>\n",
       "    </tr>\n",
       "    <tr>\n",
       "      <th>3</th>\n",
       "      <td>SimCLR</td>\n",
       "      <td>Y</td>\n",
       "      <td>2.0</td>\n",
       "      <td>0.85</td>\n",
       "      <td>2-View SimCLR</td>\n",
       "    </tr>\n",
       "    <tr>\n",
       "      <th>4</th>\n",
       "      <td>SimCLR</td>\n",
       "      <td>N</td>\n",
       "      <td>NaN</td>\n",
       "      <td>0.80</td>\n",
       "      <td>Vanilla SimCLR</td>\n",
       "    </tr>\n",
       "    <tr>\n",
       "      <th>5</th>\n",
       "      <td>SimCLR</td>\n",
       "      <td>Y</td>\n",
       "      <td>3.0</td>\n",
       "      <td>0.90</td>\n",
       "      <td>3-View SimCLR</td>\n",
       "    </tr>\n",
       "    <tr>\n",
       "      <th>6</th>\n",
       "      <td>SimCLR</td>\n",
       "      <td>Y</td>\n",
       "      <td>5.0</td>\n",
       "      <td>0.80</td>\n",
       "      <td>5-View SimCLR</td>\n",
       "    </tr>\n",
       "  </tbody>\n",
       "</table>\n",
       "</div>"
      ],
      "text/plain": [
       "\n",
       "  Pre-Train Multi View?  # Views  Test Acc.            Name\n",
       "\u001b[1;36m0\u001b[0m    SimCLR           Y      \u001b[1;36m4.0\u001b[0m       \u001b[1;36m0.85\u001b[0m   \u001b[1;36m4\u001b[0m-View SimCLR\n",
       "\u001b[1;36m1\u001b[0m      COCo           N      NaN       \u001b[1;36m0.70\u001b[0m            COCo\n",
       "\u001b[1;36m2\u001b[0m    Random           N      NaN       \u001b[1;36m0.45\u001b[0m          Random\n",
       "\u001b[1;36m3\u001b[0m    SimCLR           Y      \u001b[1;36m2.0\u001b[0m       \u001b[1;36m0.85\u001b[0m   \u001b[1;36m2\u001b[0m-View SimCLR\n",
       "\u001b[1;36m4\u001b[0m    SimCLR           N      NaN       \u001b[1;36m0.80\u001b[0m  Vanilla SimCLR\n",
       "\u001b[1;36m5\u001b[0m    SimCLR           Y      \u001b[1;36m3.0\u001b[0m       \u001b[1;36m0.90\u001b[0m   \u001b[1;36m3\u001b[0m-View SimCLR\n",
       "\u001b[1;36m6\u001b[0m    SimCLR           Y      \u001b[1;36m5.0\u001b[0m       \u001b[1;36m0.80\u001b[0m   \u001b[1;36m5\u001b[0m-View SimCLR"
      ]
     },
     "execution_count": 8,
     "metadata": {},
     "output_type": "execute_result"
    }
   ],
   "source": [
    "plot_status_data[\"Name\"] = plot_status_data.apply(_create_model_name, axis=1)\n",
    "plot_status_data"
   ]
  },
  {
   "cell_type": "code",
   "execution_count": 9,
   "id": "c3ea9df8-13c6-440a-95d3-94c29bea8094",
   "metadata": {
    "tags": []
   },
   "outputs": [
    {
     "data": {
      "text/html": [
       "<pre style=\"white-space:pre;overflow-x:auto;line-height:normal;font-family:Menlo,'DejaVu Sans Mono',consolas,'Courier New',monospace\"></pre>\n"
      ],
      "text/plain": []
     },
     "metadata": {},
     "output_type": "display_data"
    },
    {
     "data": {
      "text/plain": [
       "\u001b[1;35mText\u001b[0m\u001b[1m(\u001b[0m\u001b[1;36m0\u001b[0m, \u001b[1;36m0.5\u001b[0m, \u001b[32m'Accuracy \u001b[0m\u001b[32m(\u001b[0m\u001b[32m%\u001b[0m\u001b[32m)\u001b[0m\u001b[32m'\u001b[0m\u001b[1m)\u001b[0m"
      ]
     },
     "execution_count": 9,
     "metadata": {},
     "output_type": "execute_result"
    },
    {
     "data": {
      "text/html": [
       "<pre style=\"white-space:pre;overflow-x:auto;line-height:normal;font-family:Menlo,'DejaVu Sans Mono',consolas,'Courier New',monospace\"></pre>\n"
      ],
      "text/plain": []
     },
     "metadata": {},
     "output_type": "display_data"
    },
    {
     "data": {
      "image/png": "[encoded data removed]",
      "text/plain": [
       "\u001b[1m<\u001b[0m\u001b[1;95mFigure\u001b[0m\u001b[39m size 120\u001b[0m\u001b[1;36m0x600\u001b[0m\u001b[39m with \u001b[0m\u001b[1;36m1\u001b[0m\u001b[39m Axes\u001b[0m\u001b[1m>\u001b[0m"
      ]
     },
     "metadata": {},
     "output_type": "display_data"
    }
   ],
   "source": [
    "# Create the bar plot\n",
    "plt.figure(figsize=(12, 6))\n",
    "sns.barplot(data=plot_status_data, x='Name', y='Test Acc.', palette='bright', order=x_ordered)\n",
    "plt.title('Plot Status Linear Evaluation')\n",
    "plt.xlabel('Pre-Training Method')\n",
    "plt.ylabel('Accuracy (%)')"
   ]
  },
  {
   "cell_type": "code",
   "execution_count": null,
   "id": "25e51293-018f-4c98-a8af-c0ba82bb84f8",
   "metadata": {},
   "outputs": [],
   "source": []
  }
 ],
 "metadata": {
  "kernelspec": {
   "display_name": "Kedro (self_supervised)",
   "language": "python",
   "name": "kedro_self_supervised"
  },
  "language_info": {
   "codemirror_mode": {
    "name": "ipython",
    "version": 3
   },
   "file_extension": ".py",
   "mimetype": "text/x-python",
   "name": "python",
   "nbconvert_exporter": "python",
   "pygments_lexer": "ipython3",
   "version": "3.10.4"
  }
 },
 "nbformat": 4,
 "nbformat_minor": 5
}
