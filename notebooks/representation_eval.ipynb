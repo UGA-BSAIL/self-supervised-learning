{
 "cells": [
  {
   "cell_type": "code",
   "execution_count": 1,
   "id": "acfda911-ae74-4318-a246-949fe66cdd10",
   "metadata": {
    "tags": []
   },
   "outputs": [
    {
     "name": "stdout",
     "output_type": "stream",
     "text": [
      "2023-03-16 11:55:19,063 - py.warnings - WARNING - /home/daniel/git/self-supervised-learning/.venv/lib/python3.10/site-packages/thop/profile.py:12: DeprecationWarning: distutils Version classes are deprecated. Use packaging.version instead.\n",
      "  if LooseVersion(torch.__version__) < LooseVersion(\"1.0.0\"):\n",
      "\n",
      "2023-03-16 11:55:19,064 - py.warnings - WARNING - /home/daniel/git/self-supervised-learning/.venv/lib/python3.10/site-packages/thop/profile.py:68: DeprecationWarning: distutils Version classes are deprecated. Use packaging.version instead.\n",
      "  if LooseVersion(torch.__version__) >= LooseVersion(\"1.1.0\"):\n",
      "\n",
      "2023-03-16 11:55:19,187 - py.warnings - WARNING - /home/daniel/git/self-supervised-learning/.venv/lib/python3.10/site-packages/seaborn/rcmod.py:82: DeprecationWarning: distutils Version classes are deprecated. Use packaging.version instead.\n",
      "  if LooseVersion(mpl.__version__) >= \"3.0\":\n",
      "\n",
      "2023-03-16 11:55:19,187 - py.warnings - WARNING - /home/daniel/git/self-supervised-learning/.venv/lib/python3.10/site-packages/setuptools/_distutils/version.py:346: DeprecationWarning: distutils Version classes are deprecated. Use packaging.version instead.\n",
      "  other = LooseVersion(other)\n",
      "\n",
      "2023-03-16 11:55:19,196 - py.warnings - WARNING - /home/daniel/git/self-supervised-learning/.venv/lib/python3.10/site-packages/seaborn/cm.py:1582: MatplotlibDeprecationWarning: The register_cmap function was deprecated in Matplotlib 3.7 and will be removed two minor releases later. Use ``matplotlib.colormaps.register(name)`` instead.\n",
      "  mpl_cm.register_cmap(_name, _cmap)\n",
      "\n",
      "2023-03-16 11:55:19,196 - py.warnings - WARNING - /home/daniel/git/self-supervised-learning/.venv/lib/python3.10/site-packages/seaborn/cm.py:1583: MatplotlibDeprecationWarning: The register_cmap function was deprecated in Matplotlib 3.7 and will be removed two minor releases later. Use ``matplotlib.colormaps.register(name)`` instead.\n",
      "  mpl_cm.register_cmap(_name + \"_r\", _cmap_r)\n",
      "\n",
      "2023-03-16 11:55:19,200 - kedro.ipython - INFO - Resolved project path as: /home/daniel/git/self-supervised-learning.\n",
      "To set a different path, run '%reload_kedro <project_root>'\n",
      "2023-03-16 11:55:19,201 - py.warnings - WARNING - /home/daniel/git/self-supervised-learning/.venv/lib/python3.10/site-packages/kedro/framework/startup.py:98: DeprecationWarning: project_version in pyproject.toml is deprecated, use kedro_init_version instead\n",
      "  warnings.warn(\n",
      "\n",
      "2023-03-16 11:55:19,415 - kedro.ipython - INFO - Kedro project Self-Supervised Learning\n",
      "2023-03-16 11:55:19,416 - kedro.ipython - INFO - Defined global variable 'context', 'session', 'catalog' and 'pipelines'\n",
      "2023-03-16 11:55:19,421 - kedro.io.data_catalog - INFO - Loading data from 'yolov5_l_description' (YAMLDataSet)...\n",
      "2023-03-16 11:55:19,426 - kedro.io.data_catalog - INFO - Loading data from 'trained_model' (PytorchModelDataSet)...\n"
     ]
    },
    {
     "name": "stderr",
     "output_type": "stream",
     "text": [
      "2023-03-16 11:55:19.427 | WARNING  | self_supervised.extras.datasets.pytorch_model_data_set:_load:42 - CUDA not available, automatically mapping variables to the CPU.\n",
      "\n",
      "                 from  n    params  module                                  arguments                     \n",
      "  0                -1  1      7040  yolov5.models.common.Conv               [3, 64, 6, 2, 2]              \n",
      "  1                -1  1     73984  yolov5.models.common.Conv               [64, 128, 3, 2]               \n",
      "  2                -1  3    156928  yolov5.models.common.C3                 [128, 128, 3]                 \n",
      "  3                -1  1    295424  yolov5.models.common.Conv               [128, 256, 3, 2]              \n",
      "  4                -1  6   1118208  yolov5.models.common.C3                 [256, 256, 6]                 \n",
      "  5                -1  1   1180672  yolov5.models.common.Conv               [256, 512, 3, 2]              \n",
      "  6                -1  9   6433792  yolov5.models.common.C3                 [512, 512, 9]                 \n",
      "  7                -1  1   4720640  yolov5.models.common.Conv               [512, 1024, 3, 2]             \n",
      "  8                -1  3   9971712  yolov5.models.common.C3                 [1024, 1024, 3]               \n",
      "  9                -1  1   2624512  yolov5.models.common.SPPF               [1024, 1024, 5]               \n",
      " 10                -1  1    525312  yolov5.models.common.Conv               [1024, 512, 1, 1]             \n",
      " 11                -1  1         0  torch.nn.modules.upsampling.Upsample    [None, 2, 'nearest']          \n",
      " 12           [-1, 6]  1         0  yolov5.models.common.Concat             [1]                           \n",
      " 13                -1  3   2757632  yolov5.models.common.C3                 [1024, 512, 3, False]         \n",
      " 14                -1  1    131584  yolov5.models.common.Conv               [512, 256, 1, 1]              \n",
      " 15                -1  1         0  torch.nn.modules.upsampling.Upsample    [None, 2, 'nearest']          \n",
      " 16           [-1, 4]  1         0  yolov5.models.common.Concat             [1]                           \n",
      " 17                -1  3    690688  yolov5.models.common.C3                 [512, 256, 3, False]          \n",
      " 18                -1  1    590336  yolov5.models.common.Conv               [256, 256, 3, 2]              \n",
      " 19          [-1, 14]  1         0  yolov5.models.common.Concat             [1]                           \n",
      " 20                -1  3   2495488  yolov5.models.common.C3                 [512, 512, 3, False]          \n",
      " 21                -1  1   2360320  yolov5.models.common.Conv               [512, 512, 3, 2]              \n",
      " 22          [-1, 10]  1         0  yolov5.models.common.Concat             [1]                           \n",
      " 23                -1  3   9971712  yolov5.models.common.C3                 [1024, 1024, 3, False]        \n",
      "Model summary: 363 layers, 46105984 parameters, 46105984 gradients, 108.1 GFLOPs\n",
      "\n"
     ]
    }
   ],
   "source": [
    "from self_supervised.pipelines.representation_model import RepresentationModel, YoloEncoder\n",
    "from yolov5.models.yolo import DetectionModel\n",
    "import torch\n",
    "\n",
    "%reload_kedro\n",
    "model_description = catalog.load(\"yolov5_l_description\")\n",
    "trained_model = catalog.load(\"trained_model\", version=\"2023-03-16T11.39.00.000Z\")\n",
    "\n",
    "# Random model\n",
    "encoder = YoloEncoder(model_description=model_description)\n",
    "trained_model = RepresentationModel(encoder=encoder)\n",
    "\n",
    "# CoCO model\n",
    "# model_description[\"head\"] = model_description[\"head\"][:-1]\n",
    "# trained_model = DetectionModel(model_description)\n",
    "# weights_model = torch.load(\"../yolov5l.pt\", map_location=\"cpu\")\n",
    "# state_dict = weights_model[\"model\"].float().state_dict()\n",
    "# trained_model.load_state_dict(state_dict, strict=False)\n",
    "\n",
    "trained_model = trained_model.encoder\n",
    "trained_model = trained_model.eval()"
   ]
  },
  {
   "cell_type": "code",
   "execution_count": 2,
   "id": "c1878dbc-46f2-463f-b313-6dc1aed75b69",
   "metadata": {
    "tags": []
   },
   "outputs": [],
   "source": [
    "from pathlib import Path\n",
    "\n",
    "dataset_path = Path(\"/home/daniel/lab_share/projects/CottonFlower2021/flower_dataset\")\n",
    "image_dir = dataset_path / \"active_1\" / \"images\""
   ]
  },
  {
   "cell_type": "code",
   "execution_count": 3,
   "id": "c41fe7f6-ac26-435f-a8ed-996eacd3b5fd",
   "metadata": {
    "tags": []
   },
   "outputs": [],
   "source": [
    "# import random\n",
    "# random.sample(range(160), 10)\n",
    "\n",
    "# indices = [143, 159, 78, 12, 34, 116, 118, 0, 44, 124]"
   ]
  },
  {
   "cell_type": "code",
   "execution_count": 4,
   "id": "5a67e6c7-88c4-40b3-a33d-1a67a76f0d5f",
   "metadata": {
    "tags": []
   },
   "outputs": [
    {
     "name": "stderr",
     "output_type": "stream",
     "text": [
      "100%|████████████████████████████████████████████████████| 160/160 [00:23<00:00,  6.87it/s]\n"
     ]
    }
   ],
   "source": [
    "from torchvision.io import read_image\n",
    "from torchvision.transforms.functional import resize\n",
    "from tqdm import tqdm\n",
    "import torch\n",
    "\n",
    "image_reps = []\n",
    "\n",
    "image_list = sorted(list(image_dir.iterdir()))\n",
    "# image_list = [image_list[i] for i in indices]\n",
    "for image_path in tqdm(image_list):\n",
    "    image = read_image(image_path.as_posix())\n",
    "    image.requires_grad = False\n",
    "    image = resize(image, (512, 512))\n",
    "    image = image.to(torch.float) / 255\n",
    "    image_ex = image[None, :, :, :]\n",
    "    \n",
    "    image_reps.append(trained_model(image_ex)[0].detach().reshape((1, -1)).numpy())"
   ]
  },
  {
   "cell_type": "code",
   "execution_count": 5,
   "id": "43808fe8-1319-464a-8977-4e7f42db135f",
   "metadata": {
    "tags": []
   },
   "outputs": [
    {
     "data": {
      "text/html": [
       "<div>\n",
       "<style scoped>\n",
       "    .dataframe tbody tr th:only-of-type {\n",
       "        vertical-align: middle;\n",
       "    }\n",
       "\n",
       "    .dataframe tbody tr th {\n",
       "        vertical-align: top;\n",
       "    }\n",
       "\n",
       "    .dataframe thead th {\n",
       "        text-align: right;\n",
       "    }\n",
       "</style>\n",
       "<table border=\"1\" class=\"dataframe\">\n",
       "  <thead>\n",
       "    <tr style=\"text-align: right;\">\n",
       "      <th></th>\n",
       "      <th>class</th>\n",
       "      <th>x</th>\n",
       "      <th>y</th>\n",
       "      <th>width</th>\n",
       "      <th>height</th>\n",
       "      <th>frame</th>\n",
       "    </tr>\n",
       "  </thead>\n",
       "  <tbody>\n",
       "    <tr>\n",
       "      <th>0</th>\n",
       "      <td>0</td>\n",
       "      <td>0.386324</td>\n",
       "      <td>0.308469</td>\n",
       "      <td>0.030488</td>\n",
       "      <td>0.046636</td>\n",
       "      <td>p0_P1090018.txt</td>\n",
       "    </tr>\n",
       "    <tr>\n",
       "      <th>1</th>\n",
       "      <td>0</td>\n",
       "      <td>0.284843</td>\n",
       "      <td>0.252320</td>\n",
       "      <td>0.026132</td>\n",
       "      <td>0.038283</td>\n",
       "      <td>p0_P1090081.txt</td>\n",
       "    </tr>\n",
       "    <tr>\n",
       "      <th>2</th>\n",
       "      <td>0</td>\n",
       "      <td>0.448606</td>\n",
       "      <td>0.327726</td>\n",
       "      <td>0.013937</td>\n",
       "      <td>0.029002</td>\n",
       "      <td>p0_P1090300.txt</td>\n",
       "    </tr>\n",
       "    <tr>\n",
       "      <th>3</th>\n",
       "      <td>0</td>\n",
       "      <td>0.138937</td>\n",
       "      <td>0.221578</td>\n",
       "      <td>0.023519</td>\n",
       "      <td>0.032483</td>\n",
       "      <td>p0_P1090300.txt</td>\n",
       "    </tr>\n",
       "    <tr>\n",
       "      <th>4</th>\n",
       "      <td>0</td>\n",
       "      <td>0.030488</td>\n",
       "      <td>0.099768</td>\n",
       "      <td>0.024390</td>\n",
       "      <td>0.034803</td>\n",
       "      <td>p0_P1090300.txt</td>\n",
       "    </tr>\n",
       "    <tr>\n",
       "      <th>...</th>\n",
       "      <td>...</td>\n",
       "      <td>...</td>\n",
       "      <td>...</td>\n",
       "      <td>...</td>\n",
       "      <td>...</td>\n",
       "      <td>...</td>\n",
       "    </tr>\n",
       "    <tr>\n",
       "      <th>300</th>\n",
       "      <td>0</td>\n",
       "      <td>0.309612</td>\n",
       "      <td>0.294762</td>\n",
       "      <td>0.010253</td>\n",
       "      <td>0.014188</td>\n",
       "      <td>p9_P1680757.txt</td>\n",
       "    </tr>\n",
       "    <tr>\n",
       "      <th>301</th>\n",
       "      <td>0</td>\n",
       "      <td>0.365584</td>\n",
       "      <td>0.297645</td>\n",
       "      <td>0.009460</td>\n",
       "      <td>0.017842</td>\n",
       "      <td>p9_P1680757.txt</td>\n",
       "    </tr>\n",
       "    <tr>\n",
       "      <th>302</th>\n",
       "      <td>0</td>\n",
       "      <td>0.500000</td>\n",
       "      <td>0.379350</td>\n",
       "      <td>0.013937</td>\n",
       "      <td>0.016241</td>\n",
       "      <td>p9_P1680757.txt</td>\n",
       "    </tr>\n",
       "    <tr>\n",
       "      <th>303</th>\n",
       "      <td>0</td>\n",
       "      <td>0.908537</td>\n",
       "      <td>0.736079</td>\n",
       "      <td>0.012195</td>\n",
       "      <td>0.017401</td>\n",
       "      <td>p9_P1680757.txt</td>\n",
       "    </tr>\n",
       "    <tr>\n",
       "      <th>304</th>\n",
       "      <td>0</td>\n",
       "      <td>0.827539</td>\n",
       "      <td>0.119165</td>\n",
       "      <td>0.013406</td>\n",
       "      <td>0.016798</td>\n",
       "      <td>p9_P1780789.txt</td>\n",
       "    </tr>\n",
       "  </tbody>\n",
       "</table>\n",
       "<p>305 rows × 6 columns</p>\n",
       "</div>"
      ]
     },
     "execution_count": 5,
     "metadata": {},
     "output_type": "execute_result"
    }
   ],
   "source": [
    "# Load flower counts.\n",
    "import pandas as pd\n",
    "\n",
    "labels_dir = dataset_path / \"active_1\" / \"labels\"\n",
    "all_labels = []\n",
    "labels_list = sorted(list(labels_dir.iterdir()))\n",
    "# labels_list = [labels_list[i] for i in indices]\n",
    "for labels_path in labels_list:\n",
    "    frame_labels = pd.read_csv(labels_path, sep=\" \", names=[\"class\", \"x\", \"y\", \"width\", \"height\"])\n",
    "    frame_labels[\"frame\"] = labels_path.name\n",
    "    all_labels.append(frame_labels)\n",
    "    \n",
    "all_labels = pd.concat(all_labels, ignore_index=True)\n",
    "all_labels"
   ]
  },
  {
   "cell_type": "code",
   "execution_count": 6,
   "id": "96a261b8-3343-4c52-a567-4a94fcbc3964",
   "metadata": {
    "tags": []
   },
   "outputs": [],
   "source": [
    "import numpy as np\n",
    "\n",
    "# Create flower counts labels.\n",
    "flower_counts = []\n",
    "for image_path in labels_list:\n",
    "    flower_counts.append(np.count_nonzero(all_labels[\"frame\"] == image_path.name))\n",
    "    \n",
    "# Any missing counts are zeros.\n",
    "for _ in range(len(flower_counts), len(image_reps)):\n",
    "    flower_counts.append(0)"
   ]
  },
  {
   "cell_type": "code",
   "execution_count": 7,
   "id": "8cd84dd2-fc0b-482e-b69a-7bed0e95f7e5",
   "metadata": {
    "tags": []
   },
   "outputs": [
    {
     "name": "stderr",
     "output_type": "stream",
     "text": [
      "100%|████████████████████████████████████████████████████| 160/160 [00:24<00:00,  6.52it/s]\n"
     ]
    }
   ],
   "source": [
    "test_image_dir = dataset_path / \"2018-08-22\" / \"images\"\n",
    "\n",
    "test_image_reps = []\n",
    "\n",
    "image_list = sorted(list(test_image_dir.iterdir()))\n",
    "for image_path in tqdm(image_list):\n",
    "    image = read_image(image_path.as_posix())\n",
    "    image.requires_grad = False\n",
    "    image = resize(image, (512, 512))\n",
    "    image = image.to(torch.float) / 255\n",
    "    image_ex = image[None, :, :, :]\n",
    "    \n",
    "    test_image_reps.append(trained_model(image_ex)[0].detach().reshape((1, -1)).numpy())"
   ]
  },
  {
   "cell_type": "code",
   "execution_count": 8,
   "id": "1d4b4cc4-c178-4e22-be2e-d21b0bb5d899",
   "metadata": {
    "tags": []
   },
   "outputs": [
    {
     "data": {
      "text/html": [
       "<div>\n",
       "<style scoped>\n",
       "    .dataframe tbody tr th:only-of-type {\n",
       "        vertical-align: middle;\n",
       "    }\n",
       "\n",
       "    .dataframe tbody tr th {\n",
       "        vertical-align: top;\n",
       "    }\n",
       "\n",
       "    .dataframe thead th {\n",
       "        text-align: right;\n",
       "    }\n",
       "</style>\n",
       "<table border=\"1\" class=\"dataframe\">\n",
       "  <thead>\n",
       "    <tr style=\"text-align: right;\">\n",
       "      <th></th>\n",
       "      <th>class</th>\n",
       "      <th>x</th>\n",
       "      <th>y</th>\n",
       "      <th>width</th>\n",
       "      <th>height</th>\n",
       "      <th>frame</th>\n",
       "    </tr>\n",
       "  </thead>\n",
       "  <tbody>\n",
       "    <tr>\n",
       "      <th>0</th>\n",
       "      <td>0</td>\n",
       "      <td>0.414497</td>\n",
       "      <td>0.818287</td>\n",
       "      <td>0.039062</td>\n",
       "      <td>0.046296</td>\n",
       "      <td>p0_P2530585.txt</td>\n",
       "    </tr>\n",
       "    <tr>\n",
       "      <th>1</th>\n",
       "      <td>0</td>\n",
       "      <td>0.245660</td>\n",
       "      <td>0.649884</td>\n",
       "      <td>0.019097</td>\n",
       "      <td>0.028935</td>\n",
       "      <td>p0_P2530668.txt</td>\n",
       "    </tr>\n",
       "    <tr>\n",
       "      <th>2</th>\n",
       "      <td>0</td>\n",
       "      <td>0.636719</td>\n",
       "      <td>0.209491</td>\n",
       "      <td>0.018229</td>\n",
       "      <td>0.025463</td>\n",
       "      <td>p0_P2530668.txt</td>\n",
       "    </tr>\n",
       "    <tr>\n",
       "      <th>3</th>\n",
       "      <td>0</td>\n",
       "      <td>0.827691</td>\n",
       "      <td>0.566551</td>\n",
       "      <td>0.019965</td>\n",
       "      <td>0.026620</td>\n",
       "      <td>p0_P2530668.txt</td>\n",
       "    </tr>\n",
       "    <tr>\n",
       "      <th>4</th>\n",
       "      <td>0</td>\n",
       "      <td>0.392734</td>\n",
       "      <td>0.709734</td>\n",
       "      <td>0.022448</td>\n",
       "      <td>0.033588</td>\n",
       "      <td>p0_P2530668.txt</td>\n",
       "    </tr>\n",
       "    <tr>\n",
       "      <th>...</th>\n",
       "      <td>...</td>\n",
       "      <td>...</td>\n",
       "      <td>...</td>\n",
       "      <td>...</td>\n",
       "      <td>...</td>\n",
       "      <td>...</td>\n",
       "    </tr>\n",
       "    <tr>\n",
       "      <th>382</th>\n",
       "      <td>0</td>\n",
       "      <td>0.053385</td>\n",
       "      <td>0.823495</td>\n",
       "      <td>0.021701</td>\n",
       "      <td>0.028935</td>\n",
       "      <td>p9_P2540369.txt</td>\n",
       "    </tr>\n",
       "    <tr>\n",
       "      <th>383</th>\n",
       "      <td>0</td>\n",
       "      <td>0.441840</td>\n",
       "      <td>0.266204</td>\n",
       "      <td>0.019097</td>\n",
       "      <td>0.025463</td>\n",
       "      <td>p9_P2540369.txt</td>\n",
       "    </tr>\n",
       "    <tr>\n",
       "      <th>384</th>\n",
       "      <td>0</td>\n",
       "      <td>0.533854</td>\n",
       "      <td>0.799769</td>\n",
       "      <td>0.032986</td>\n",
       "      <td>0.041667</td>\n",
       "      <td>p9_P2540420.txt</td>\n",
       "    </tr>\n",
       "    <tr>\n",
       "      <th>385</th>\n",
       "      <td>0</td>\n",
       "      <td>0.404948</td>\n",
       "      <td>0.767361</td>\n",
       "      <td>0.019965</td>\n",
       "      <td>0.025463</td>\n",
       "      <td>p9_P2540420.txt</td>\n",
       "    </tr>\n",
       "    <tr>\n",
       "      <th>386</th>\n",
       "      <td>0</td>\n",
       "      <td>0.343316</td>\n",
       "      <td>0.987269</td>\n",
       "      <td>0.016493</td>\n",
       "      <td>0.025463</td>\n",
       "      <td>p9_P2540420.txt</td>\n",
       "    </tr>\n",
       "  </tbody>\n",
       "</table>\n",
       "<p>387 rows × 6 columns</p>\n",
       "</div>"
      ]
     },
     "execution_count": 8,
     "metadata": {},
     "output_type": "execute_result"
    }
   ],
   "source": [
    "test_labels_dir = dataset_path / \"2018-08-22\" / \"labels\"\n",
    "all_labels_test = []\n",
    "labels_list = sorted(list(test_labels_dir.iterdir()))\n",
    "for labels_path in labels_list:\n",
    "    frame_labels = pd.read_csv(labels_path, sep=\" \", names=[\"class\", \"x\", \"y\", \"width\", \"height\"])\n",
    "    frame_labels[\"frame\"] = labels_path.name\n",
    "    all_labels_test.append(frame_labels)\n",
    "    \n",
    "all_labels_test = pd.concat(all_labels_test, ignore_index=True)\n",
    "all_labels_test"
   ]
  },
  {
   "cell_type": "code",
   "execution_count": 9,
   "id": "0543d1a7-4b18-4d0f-8536-3529a2cda92a",
   "metadata": {
    "tags": []
   },
   "outputs": [],
   "source": [
    "# Create flower counts.\n",
    "test_flower_counts = []\n",
    "for image_path in labels_list:\n",
    "    test_flower_counts.append(np.count_nonzero(all_labels_test[\"frame\"] == image_path.name))\n",
    "    \n",
    "# Any missing counts are zeros.\n",
    "for _ in range(len(test_flower_counts), len(test_image_reps)):\n",
    "    test_flower_counts.append(0)"
   ]
  },
  {
   "cell_type": "code",
   "execution_count": 10,
   "id": "1741b680-ed08-476e-9a0f-5cb5f0118805",
   "metadata": {
    "tags": []
   },
   "outputs": [],
   "source": [
    "from sklearn.model_selection import PredefinedSplit\n",
    "\n",
    "# Create combined dataset.\n",
    "all_image_reps = image_reps + test_image_reps\n",
    "all_flower_counts = flower_counts + test_flower_counts\n",
    "train_indices = [-1] * len(image_reps)\n",
    "test_indices = [0] * len(test_image_reps)\n",
    "split = PredefinedSplit(train_indices + test_indices)"
   ]
  },
  {
   "cell_type": "code",
   "execution_count": 11,
   "id": "8ca94b64-b75c-41e7-a3f3-459bd29de228",
   "metadata": {
    "tags": []
   },
   "outputs": [],
   "source": [
    "from sklearn.linear_model import RidgeCV, Ridge\n",
    "\n",
    "all_flower_counts = np.array(all_flower_counts, dtype=float)\n",
    "all_image_reps_arr = np.concatenate(all_image_reps, axis=0)\n",
    "\n",
    "alphas = [1e-6, 1e-4, 0.01, 0.1, 1.0, 2.0, 4.0, 8.0, 16.0, 32.0, 64.0, 128.0]\n",
    "reg_search = RidgeCV(alphas=alphas, cv=split).fit(all_image_reps_arr, all_flower_counts)\n",
    "# RidgeCV is going to go and refit on the whole dataset once it finds the best alpha, which we don't want.\n",
    "# Fit manually with the best alpha on just the training data.\n",
    "reg = Ridge(reg_search.alpha_).fit(np.concatenate(image_reps, axis=0), np.array(flower_counts))"
   ]
  },
  {
   "cell_type": "code",
   "execution_count": 12,
   "id": "23cf629c-e859-47c7-92ac-593d56789b05",
   "metadata": {
    "tags": []
   },
   "outputs": [
    {
     "data": {
      "text/html": [
       "<pre style=\"white-space:pre;overflow-x:auto;line-height:normal;font-family:Menlo,'DejaVu Sans Mono',consolas,'Courier New',monospace\">\n",
       "<span style=\"color: #800080; text-decoration-color: #800080; font-weight: bold\">array</span><span style=\"font-weight: bold\">([</span>     <span style=\"color: #008080; text-decoration-color: #008080; font-weight: bold\">1.9062</span>,      <span style=\"color: #008080; text-decoration-color: #008080; font-weight: bold\">1.9062</span>,      <span style=\"color: #008080; text-decoration-color: #008080; font-weight: bold\">1.9062</span>,      <span style=\"color: #008080; text-decoration-color: #008080; font-weight: bold\">1.9062</span>,      <span style=\"color: #008080; text-decoration-color: #008080; font-weight: bold\">1.9062</span>,      <span style=\"color: #008080; text-decoration-color: #008080; font-weight: bold\">1.9062</span>,      <span style=\"color: #008080; text-decoration-color: #008080; font-weight: bold\">1.9062</span>,      <span style=\"color: #008080; text-decoration-color: #008080; font-weight: bold\">1.9062</span>,      <span style=\"color: #008080; text-decoration-color: #008080; font-weight: bold\">1.9062</span>,      <span style=\"color: #008080; text-decoration-color: #008080; font-weight: bold\">1.9062</span>,      <span style=\"color: #008080; text-decoration-color: #008080; font-weight: bold\">1.9062</span>,      <span style=\"color: #008080; text-decoration-color: #008080; font-weight: bold\">1.9062</span>,      <span style=\"color: #008080; text-decoration-color: #008080; font-weight: bold\">1.9062</span>,      <span style=\"color: #008080; text-decoration-color: #008080; font-weight: bold\">1.9062</span>,      <span style=\"color: #008080; text-decoration-color: #008080; font-weight: bold\">1.9062</span>,      <span style=\"color: #008080; text-decoration-color: #008080; font-weight: bold\">1.9062</span>,      <span style=\"color: #008080; text-decoration-color: #008080; font-weight: bold\">1.9062</span>,      <span style=\"color: #008080; text-decoration-color: #008080; font-weight: bold\">1.9062</span>,      <span style=\"color: #008080; text-decoration-color: #008080; font-weight: bold\">1.9062</span>,      <span style=\"color: #008080; text-decoration-color: #008080; font-weight: bold\">1.9062</span>,      <span style=\"color: #008080; text-decoration-color: #008080; font-weight: bold\">1.9062</span>,      <span style=\"color: #008080; text-decoration-color: #008080; font-weight: bold\">1.9062</span>,      <span style=\"color: #008080; text-decoration-color: #008080; font-weight: bold\">1.9062</span>,      <span style=\"color: #008080; text-decoration-color: #008080; font-weight: bold\">1.9062</span>,\n",
       "            <span style=\"color: #008080; text-decoration-color: #008080; font-weight: bold\">1.9062</span>,      <span style=\"color: #008080; text-decoration-color: #008080; font-weight: bold\">1.9062</span>,      <span style=\"color: #008080; text-decoration-color: #008080; font-weight: bold\">1.9062</span>,      <span style=\"color: #008080; text-decoration-color: #008080; font-weight: bold\">1.9062</span>,      <span style=\"color: #008080; text-decoration-color: #008080; font-weight: bold\">1.9062</span>,      <span style=\"color: #008080; text-decoration-color: #008080; font-weight: bold\">1.9062</span>,      <span style=\"color: #008080; text-decoration-color: #008080; font-weight: bold\">1.9062</span>,      <span style=\"color: #008080; text-decoration-color: #008080; font-weight: bold\">1.9062</span>,      <span style=\"color: #008080; text-decoration-color: #008080; font-weight: bold\">1.9062</span>,      <span style=\"color: #008080; text-decoration-color: #008080; font-weight: bold\">1.9062</span>,      <span style=\"color: #008080; text-decoration-color: #008080; font-weight: bold\">1.9062</span>,      <span style=\"color: #008080; text-decoration-color: #008080; font-weight: bold\">1.9062</span>,      <span style=\"color: #008080; text-decoration-color: #008080; font-weight: bold\">1.9062</span>,      <span style=\"color: #008080; text-decoration-color: #008080; font-weight: bold\">1.9062</span>,      <span style=\"color: #008080; text-decoration-color: #008080; font-weight: bold\">1.9062</span>,      <span style=\"color: #008080; text-decoration-color: #008080; font-weight: bold\">1.9062</span>,      <span style=\"color: #008080; text-decoration-color: #008080; font-weight: bold\">1.9062</span>,      <span style=\"color: #008080; text-decoration-color: #008080; font-weight: bold\">1.9062</span>,      <span style=\"color: #008080; text-decoration-color: #008080; font-weight: bold\">1.9062</span>,      <span style=\"color: #008080; text-decoration-color: #008080; font-weight: bold\">1.9062</span>,      <span style=\"color: #008080; text-decoration-color: #008080; font-weight: bold\">1.9062</span>,      <span style=\"color: #008080; text-decoration-color: #008080; font-weight: bold\">1.9062</span>,      <span style=\"color: #008080; text-decoration-color: #008080; font-weight: bold\">1.9062</span>,      <span style=\"color: #008080; text-decoration-color: #008080; font-weight: bold\">1.9062</span>,\n",
       "            <span style=\"color: #008080; text-decoration-color: #008080; font-weight: bold\">1.9062</span>,      <span style=\"color: #008080; text-decoration-color: #008080; font-weight: bold\">1.9062</span>,      <span style=\"color: #008080; text-decoration-color: #008080; font-weight: bold\">1.9062</span>,      <span style=\"color: #008080; text-decoration-color: #008080; font-weight: bold\">1.9062</span>,      <span style=\"color: #008080; text-decoration-color: #008080; font-weight: bold\">1.9062</span>,      <span style=\"color: #008080; text-decoration-color: #008080; font-weight: bold\">1.9062</span>,      <span style=\"color: #008080; text-decoration-color: #008080; font-weight: bold\">1.9062</span>,      <span style=\"color: #008080; text-decoration-color: #008080; font-weight: bold\">1.9062</span>,      <span style=\"color: #008080; text-decoration-color: #008080; font-weight: bold\">1.9062</span>,      <span style=\"color: #008080; text-decoration-color: #008080; font-weight: bold\">1.9062</span>,      <span style=\"color: #008080; text-decoration-color: #008080; font-weight: bold\">1.9062</span>,      <span style=\"color: #008080; text-decoration-color: #008080; font-weight: bold\">1.9062</span>,      <span style=\"color: #008080; text-decoration-color: #008080; font-weight: bold\">1.9062</span>,      <span style=\"color: #008080; text-decoration-color: #008080; font-weight: bold\">1.9062</span>,      <span style=\"color: #008080; text-decoration-color: #008080; font-weight: bold\">1.9062</span>,      <span style=\"color: #008080; text-decoration-color: #008080; font-weight: bold\">1.9062</span>,      <span style=\"color: #008080; text-decoration-color: #008080; font-weight: bold\">1.9062</span>,      <span style=\"color: #008080; text-decoration-color: #008080; font-weight: bold\">1.9062</span>,      <span style=\"color: #008080; text-decoration-color: #008080; font-weight: bold\">1.9062</span>,      <span style=\"color: #008080; text-decoration-color: #008080; font-weight: bold\">1.9062</span>,      <span style=\"color: #008080; text-decoration-color: #008080; font-weight: bold\">1.9062</span>,      <span style=\"color: #008080; text-decoration-color: #008080; font-weight: bold\">1.9062</span>,      <span style=\"color: #008080; text-decoration-color: #008080; font-weight: bold\">1.9062</span>,      <span style=\"color: #008080; text-decoration-color: #008080; font-weight: bold\">1.9062</span>,\n",
       "            <span style=\"color: #008080; text-decoration-color: #008080; font-weight: bold\">1.9062</span>,      <span style=\"color: #008080; text-decoration-color: #008080; font-weight: bold\">1.9062</span>,      <span style=\"color: #008080; text-decoration-color: #008080; font-weight: bold\">1.9062</span>,      <span style=\"color: #008080; text-decoration-color: #008080; font-weight: bold\">1.9062</span>,      <span style=\"color: #008080; text-decoration-color: #008080; font-weight: bold\">1.9062</span>,      <span style=\"color: #008080; text-decoration-color: #008080; font-weight: bold\">1.9062</span>,      <span style=\"color: #008080; text-decoration-color: #008080; font-weight: bold\">1.9062</span>,      <span style=\"color: #008080; text-decoration-color: #008080; font-weight: bold\">1.9062</span>,      <span style=\"color: #008080; text-decoration-color: #008080; font-weight: bold\">1.9062</span>,      <span style=\"color: #008080; text-decoration-color: #008080; font-weight: bold\">1.9062</span>,      <span style=\"color: #008080; text-decoration-color: #008080; font-weight: bold\">1.9062</span>,      <span style=\"color: #008080; text-decoration-color: #008080; font-weight: bold\">1.9062</span>,      <span style=\"color: #008080; text-decoration-color: #008080; font-weight: bold\">1.9062</span>,      <span style=\"color: #008080; text-decoration-color: #008080; font-weight: bold\">1.9062</span>,      <span style=\"color: #008080; text-decoration-color: #008080; font-weight: bold\">1.9062</span>,      <span style=\"color: #008080; text-decoration-color: #008080; font-weight: bold\">1.9062</span>,      <span style=\"color: #008080; text-decoration-color: #008080; font-weight: bold\">1.9062</span>,      <span style=\"color: #008080; text-decoration-color: #008080; font-weight: bold\">1.9062</span>,      <span style=\"color: #008080; text-decoration-color: #008080; font-weight: bold\">1.9062</span>,      <span style=\"color: #008080; text-decoration-color: #008080; font-weight: bold\">1.9062</span>,      <span style=\"color: #008080; text-decoration-color: #008080; font-weight: bold\">1.9062</span>,      <span style=\"color: #008080; text-decoration-color: #008080; font-weight: bold\">1.9062</span>,      <span style=\"color: #008080; text-decoration-color: #008080; font-weight: bold\">1.9062</span>,      <span style=\"color: #008080; text-decoration-color: #008080; font-weight: bold\">1.9062</span>,\n",
       "            <span style=\"color: #008080; text-decoration-color: #008080; font-weight: bold\">1.9062</span>,      <span style=\"color: #008080; text-decoration-color: #008080; font-weight: bold\">1.9062</span>,      <span style=\"color: #008080; text-decoration-color: #008080; font-weight: bold\">1.9062</span>,      <span style=\"color: #008080; text-decoration-color: #008080; font-weight: bold\">1.9062</span>,      <span style=\"color: #008080; text-decoration-color: #008080; font-weight: bold\">1.9062</span>,      <span style=\"color: #008080; text-decoration-color: #008080; font-weight: bold\">1.9062</span>,      <span style=\"color: #008080; text-decoration-color: #008080; font-weight: bold\">1.9062</span>,      <span style=\"color: #008080; text-decoration-color: #008080; font-weight: bold\">1.9062</span>,      <span style=\"color: #008080; text-decoration-color: #008080; font-weight: bold\">1.9062</span>,      <span style=\"color: #008080; text-decoration-color: #008080; font-weight: bold\">1.9062</span>,      <span style=\"color: #008080; text-decoration-color: #008080; font-weight: bold\">1.9062</span>,      <span style=\"color: #008080; text-decoration-color: #008080; font-weight: bold\">1.9062</span>,      <span style=\"color: #008080; text-decoration-color: #008080; font-weight: bold\">1.9062</span>,      <span style=\"color: #008080; text-decoration-color: #008080; font-weight: bold\">1.9062</span>,      <span style=\"color: #008080; text-decoration-color: #008080; font-weight: bold\">1.9062</span>,      <span style=\"color: #008080; text-decoration-color: #008080; font-weight: bold\">1.9062</span>,      <span style=\"color: #008080; text-decoration-color: #008080; font-weight: bold\">1.9062</span>,      <span style=\"color: #008080; text-decoration-color: #008080; font-weight: bold\">1.9062</span>,      <span style=\"color: #008080; text-decoration-color: #008080; font-weight: bold\">1.9062</span>,      <span style=\"color: #008080; text-decoration-color: #008080; font-weight: bold\">1.9062</span>,      <span style=\"color: #008080; text-decoration-color: #008080; font-weight: bold\">1.9062</span>,      <span style=\"color: #008080; text-decoration-color: #008080; font-weight: bold\">1.9062</span>,      <span style=\"color: #008080; text-decoration-color: #008080; font-weight: bold\">1.9062</span>,      <span style=\"color: #008080; text-decoration-color: #008080; font-weight: bold\">1.9062</span>,\n",
       "            <span style=\"color: #008080; text-decoration-color: #008080; font-weight: bold\">1.9062</span>,      <span style=\"color: #008080; text-decoration-color: #008080; font-weight: bold\">1.9062</span>,      <span style=\"color: #008080; text-decoration-color: #008080; font-weight: bold\">1.9062</span>,      <span style=\"color: #008080; text-decoration-color: #008080; font-weight: bold\">1.9062</span>,      <span style=\"color: #008080; text-decoration-color: #008080; font-weight: bold\">1.9062</span>,      <span style=\"color: #008080; text-decoration-color: #008080; font-weight: bold\">1.9062</span>,      <span style=\"color: #008080; text-decoration-color: #008080; font-weight: bold\">1.9062</span>,      <span style=\"color: #008080; text-decoration-color: #008080; font-weight: bold\">1.9062</span>,      <span style=\"color: #008080; text-decoration-color: #008080; font-weight: bold\">1.9062</span>,      <span style=\"color: #008080; text-decoration-color: #008080; font-weight: bold\">1.9062</span>,      <span style=\"color: #008080; text-decoration-color: #008080; font-weight: bold\">1.9062</span>,      <span style=\"color: #008080; text-decoration-color: #008080; font-weight: bold\">1.9062</span>,      <span style=\"color: #008080; text-decoration-color: #008080; font-weight: bold\">1.9062</span>,      <span style=\"color: #008080; text-decoration-color: #008080; font-weight: bold\">1.9062</span>,      <span style=\"color: #008080; text-decoration-color: #008080; font-weight: bold\">1.9062</span>,      <span style=\"color: #008080; text-decoration-color: #008080; font-weight: bold\">1.9062</span>,      <span style=\"color: #008080; text-decoration-color: #008080; font-weight: bold\">1.9062</span>,      <span style=\"color: #008080; text-decoration-color: #008080; font-weight: bold\">1.9062</span>,      <span style=\"color: #008080; text-decoration-color: #008080; font-weight: bold\">1.9062</span>,      <span style=\"color: #008080; text-decoration-color: #008080; font-weight: bold\">1.9062</span>,      <span style=\"color: #008080; text-decoration-color: #008080; font-weight: bold\">1.9062</span>,      <span style=\"color: #008080; text-decoration-color: #008080; font-weight: bold\">1.9062</span>,      <span style=\"color: #008080; text-decoration-color: #008080; font-weight: bold\">1.9062</span>,      <span style=\"color: #008080; text-decoration-color: #008080; font-weight: bold\">1.9062</span>,\n",
       "            <span style=\"color: #008080; text-decoration-color: #008080; font-weight: bold\">1.9062</span>,      <span style=\"color: #008080; text-decoration-color: #008080; font-weight: bold\">1.9062</span>,      <span style=\"color: #008080; text-decoration-color: #008080; font-weight: bold\">1.9062</span>,      <span style=\"color: #008080; text-decoration-color: #008080; font-weight: bold\">1.9062</span>,      <span style=\"color: #008080; text-decoration-color: #008080; font-weight: bold\">1.9062</span>,      <span style=\"color: #008080; text-decoration-color: #008080; font-weight: bold\">1.9062</span>,      <span style=\"color: #008080; text-decoration-color: #008080; font-weight: bold\">1.9062</span>,      <span style=\"color: #008080; text-decoration-color: #008080; font-weight: bold\">1.9062</span>,      <span style=\"color: #008080; text-decoration-color: #008080; font-weight: bold\">1.9062</span>,      <span style=\"color: #008080; text-decoration-color: #008080; font-weight: bold\">1.9062</span>,      <span style=\"color: #008080; text-decoration-color: #008080; font-weight: bold\">1.9062</span>,      <span style=\"color: #008080; text-decoration-color: #008080; font-weight: bold\">1.9062</span>,      <span style=\"color: #008080; text-decoration-color: #008080; font-weight: bold\">1.9062</span>,      <span style=\"color: #008080; text-decoration-color: #008080; font-weight: bold\">1.9062</span>,      <span style=\"color: #008080; text-decoration-color: #008080; font-weight: bold\">1.9062</span>,      <span style=\"color: #008080; text-decoration-color: #008080; font-weight: bold\">1.9062</span><span style=\"font-weight: bold\">]</span>, <span style=\"color: #808000; text-decoration-color: #808000\">dtype</span>=<span style=\"color: #800080; text-decoration-color: #800080\">float32</span><span style=\"font-weight: bold\">)</span>\n",
       "</pre>\n"
      ],
      "text/plain": [
       "\n",
       "\u001B[1;35marray\u001B[0m\u001B[1m(\u001B[0m\u001B[1m[\u001B[0m     \u001B[1;36m1.9062\u001B[0m,      \u001B[1;36m1.9062\u001B[0m,      \u001B[1;36m1.9062\u001B[0m,      \u001B[1;36m1.9062\u001B[0m,      \u001B[1;36m1.9062\u001B[0m,      \u001B[1;36m1.9062\u001B[0m,      \u001B[1;36m1.9062\u001B[0m,      \u001B[1;36m1.9062\u001B[0m,      \u001B[1;36m1.9062\u001B[0m,      \u001B[1;36m1.9062\u001B[0m,      \u001B[1;36m1.9062\u001B[0m,      \u001B[1;36m1.9062\u001B[0m,      \u001B[1;36m1.9062\u001B[0m,      \u001B[1;36m1.9062\u001B[0m,      \u001B[1;36m1.9062\u001B[0m,      \u001B[1;36m1.9062\u001B[0m,      \u001B[1;36m1.9062\u001B[0m,      \u001B[1;36m1.9062\u001B[0m,      \u001B[1;36m1.9062\u001B[0m,      \u001B[1;36m1.9062\u001B[0m,      \u001B[1;36m1.9062\u001B[0m,      \u001B[1;36m1.9062\u001B[0m,      \u001B[1;36m1.9062\u001B[0m,      \u001B[1;36m1.9062\u001B[0m,\n",
       "            \u001B[1;36m1.9062\u001B[0m,      \u001B[1;36m1.9062\u001B[0m,      \u001B[1;36m1.9062\u001B[0m,      \u001B[1;36m1.9062\u001B[0m,      \u001B[1;36m1.9062\u001B[0m,      \u001B[1;36m1.9062\u001B[0m,      \u001B[1;36m1.9062\u001B[0m,      \u001B[1;36m1.9062\u001B[0m,      \u001B[1;36m1.9062\u001B[0m,      \u001B[1;36m1.9062\u001B[0m,      \u001B[1;36m1.9062\u001B[0m,      \u001B[1;36m1.9062\u001B[0m,      \u001B[1;36m1.9062\u001B[0m,      \u001B[1;36m1.9062\u001B[0m,      \u001B[1;36m1.9062\u001B[0m,      \u001B[1;36m1.9062\u001B[0m,      \u001B[1;36m1.9062\u001B[0m,      \u001B[1;36m1.9062\u001B[0m,      \u001B[1;36m1.9062\u001B[0m,      \u001B[1;36m1.9062\u001B[0m,      \u001B[1;36m1.9062\u001B[0m,      \u001B[1;36m1.9062\u001B[0m,      \u001B[1;36m1.9062\u001B[0m,      \u001B[1;36m1.9062\u001B[0m,\n",
       "            \u001B[1;36m1.9062\u001B[0m,      \u001B[1;36m1.9062\u001B[0m,      \u001B[1;36m1.9062\u001B[0m,      \u001B[1;36m1.9062\u001B[0m,      \u001B[1;36m1.9062\u001B[0m,      \u001B[1;36m1.9062\u001B[0m,      \u001B[1;36m1.9062\u001B[0m,      \u001B[1;36m1.9062\u001B[0m,      \u001B[1;36m1.9062\u001B[0m,      \u001B[1;36m1.9062\u001B[0m,      \u001B[1;36m1.9062\u001B[0m,      \u001B[1;36m1.9062\u001B[0m,      \u001B[1;36m1.9062\u001B[0m,      \u001B[1;36m1.9062\u001B[0m,      \u001B[1;36m1.9062\u001B[0m,      \u001B[1;36m1.9062\u001B[0m,      \u001B[1;36m1.9062\u001B[0m,      \u001B[1;36m1.9062\u001B[0m,      \u001B[1;36m1.9062\u001B[0m,      \u001B[1;36m1.9062\u001B[0m,      \u001B[1;36m1.9062\u001B[0m,      \u001B[1;36m1.9062\u001B[0m,      \u001B[1;36m1.9062\u001B[0m,      \u001B[1;36m1.9062\u001B[0m,\n",
       "            \u001B[1;36m1.9062\u001B[0m,      \u001B[1;36m1.9062\u001B[0m,      \u001B[1;36m1.9062\u001B[0m,      \u001B[1;36m1.9062\u001B[0m,      \u001B[1;36m1.9062\u001B[0m,      \u001B[1;36m1.9062\u001B[0m,      \u001B[1;36m1.9062\u001B[0m,      \u001B[1;36m1.9062\u001B[0m,      \u001B[1;36m1.9062\u001B[0m,      \u001B[1;36m1.9062\u001B[0m,      \u001B[1;36m1.9062\u001B[0m,      \u001B[1;36m1.9062\u001B[0m,      \u001B[1;36m1.9062\u001B[0m,      \u001B[1;36m1.9062\u001B[0m,      \u001B[1;36m1.9062\u001B[0m,      \u001B[1;36m1.9062\u001B[0m,      \u001B[1;36m1.9062\u001B[0m,      \u001B[1;36m1.9062\u001B[0m,      \u001B[1;36m1.9062\u001B[0m,      \u001B[1;36m1.9062\u001B[0m,      \u001B[1;36m1.9062\u001B[0m,      \u001B[1;36m1.9062\u001B[0m,      \u001B[1;36m1.9062\u001B[0m,      \u001B[1;36m1.9062\u001B[0m,\n",
       "            \u001B[1;36m1.9062\u001B[0m,      \u001B[1;36m1.9062\u001B[0m,      \u001B[1;36m1.9062\u001B[0m,      \u001B[1;36m1.9062\u001B[0m,      \u001B[1;36m1.9062\u001B[0m,      \u001B[1;36m1.9062\u001B[0m,      \u001B[1;36m1.9062\u001B[0m,      \u001B[1;36m1.9062\u001B[0m,      \u001B[1;36m1.9062\u001B[0m,      \u001B[1;36m1.9062\u001B[0m,      \u001B[1;36m1.9062\u001B[0m,      \u001B[1;36m1.9062\u001B[0m,      \u001B[1;36m1.9062\u001B[0m,      \u001B[1;36m1.9062\u001B[0m,      \u001B[1;36m1.9062\u001B[0m,      \u001B[1;36m1.9062\u001B[0m,      \u001B[1;36m1.9062\u001B[0m,      \u001B[1;36m1.9062\u001B[0m,      \u001B[1;36m1.9062\u001B[0m,      \u001B[1;36m1.9062\u001B[0m,      \u001B[1;36m1.9062\u001B[0m,      \u001B[1;36m1.9062\u001B[0m,      \u001B[1;36m1.9062\u001B[0m,      \u001B[1;36m1.9062\u001B[0m,\n",
       "            \u001B[1;36m1.9062\u001B[0m,      \u001B[1;36m1.9062\u001B[0m,      \u001B[1;36m1.9062\u001B[0m,      \u001B[1;36m1.9062\u001B[0m,      \u001B[1;36m1.9062\u001B[0m,      \u001B[1;36m1.9062\u001B[0m,      \u001B[1;36m1.9062\u001B[0m,      \u001B[1;36m1.9062\u001B[0m,      \u001B[1;36m1.9062\u001B[0m,      \u001B[1;36m1.9062\u001B[0m,      \u001B[1;36m1.9062\u001B[0m,      \u001B[1;36m1.9062\u001B[0m,      \u001B[1;36m1.9062\u001B[0m,      \u001B[1;36m1.9062\u001B[0m,      \u001B[1;36m1.9062\u001B[0m,      \u001B[1;36m1.9062\u001B[0m,      \u001B[1;36m1.9062\u001B[0m,      \u001B[1;36m1.9062\u001B[0m,      \u001B[1;36m1.9062\u001B[0m,      \u001B[1;36m1.9062\u001B[0m,      \u001B[1;36m1.9062\u001B[0m,      \u001B[1;36m1.9062\u001B[0m,      \u001B[1;36m1.9062\u001B[0m,      \u001B[1;36m1.9062\u001B[0m,\n",
       "            \u001B[1;36m1.9062\u001B[0m,      \u001B[1;36m1.9062\u001B[0m,      \u001B[1;36m1.9062\u001B[0m,      \u001B[1;36m1.9062\u001B[0m,      \u001B[1;36m1.9062\u001B[0m,      \u001B[1;36m1.9062\u001B[0m,      \u001B[1;36m1.9062\u001B[0m,      \u001B[1;36m1.9062\u001B[0m,      \u001B[1;36m1.9062\u001B[0m,      \u001B[1;36m1.9062\u001B[0m,      \u001B[1;36m1.9062\u001B[0m,      \u001B[1;36m1.9062\u001B[0m,      \u001B[1;36m1.9062\u001B[0m,      \u001B[1;36m1.9062\u001B[0m,      \u001B[1;36m1.9062\u001B[0m,      \u001B[1;36m1.9062\u001B[0m\u001B[1m]\u001B[0m, \u001B[33mdtype\u001B[0m=\u001B[35mfloat32\u001B[0m\u001B[1m)\u001B[0m\n"
      ]
     },
     "metadata": {},
     "output_type": "display_data"
    }
   ],
   "source": [
    "test_image_reps_arr = np.concatenate(test_image_reps, axis=0)\n",
    "test_preds = reg.predict(test_image_reps_arr)\n",
    "test_preds"
   ]
  },
  {
   "cell_type": "code",
   "execution_count": 13,
   "id": "e0ba65bb-ddf2-45f3-a121-b66e8fbe3224",
   "metadata": {
    "tags": []
   },
   "outputs": [
    {
     "data": {
      "text/html": [
       "<pre style=\"white-space:pre;overflow-x:auto;line-height:normal;font-family:Menlo,'DejaVu Sans Mono',consolas,'Courier New',monospace\"><span style=\"color: #008080; text-decoration-color: #008080; font-weight: bold\">1.7625</span>\n",
       "</pre>\n"
      ],
      "text/plain": [
       "\u001B[1;36m1.7625\u001B[0m\n"
      ]
     },
     "metadata": {},
     "output_type": "display_data"
    }
   ],
   "source": [
    "errors = test_preds - test_flower_counts\n",
    "np.mean(np.abs(errors))"
   ]
  },
  {
   "cell_type": "code",
   "execution_count": 14,
   "id": "2e929358-790f-4dd5-bb00-6e35baf2838b",
   "metadata": {
    "tags": []
   },
   "outputs": [
    {
     "name": "stdout",
     "output_type": "stream",
     "text": [
      "2023-03-16 11:57:00,449 - py.warnings - WARNING - /home/daniel/git/self-supervised-learning/.venv/lib/python3.10/site-packages/seaborn/rcmod.py:400: DeprecationWarning: distutils Version classes are deprecated. Use packaging.version instead.\n",
      "  if LooseVersion(mpl.__version__) >= \"3.0\":\n",
      "\n",
      "2023-03-16 11:57:00,449 - py.warnings - WARNING - /home/daniel/git/self-supervised-learning/.venv/lib/python3.10/site-packages/setuptools/_distutils/version.py:346: DeprecationWarning: distutils Version classes are deprecated. Use packaging.version instead.\n",
      "  other = LooseVersion(other)\n",
      "\n"
     ]
    },
    {
     "data": {
      "image/png": "[encoded data removed]"
     },
     "metadata": {},
     "output_type": "display_data"
    }
   ],
   "source": [
    "%matplotlib inline\n",
    "import seaborn as sns\n",
    "import matplotlib.pyplot as plt\n",
    "\n",
    "sns.set()\n",
    "\n",
    "sns.regplot(x=test_preds, y=test_flower_counts)\n",
    "plt.show()"
   ]
  },
  {
   "cell_type": "code",
   "execution_count": 15,
   "id": "edbe2b6a-40f5-457c-98b9-80735eef556c",
   "metadata": {},
   "outputs": [
    {
     "data": {
      "image/png": "[encoded data removed]"
     },
     "metadata": {},
     "output_type": "display_data"
    }
   ],
   "source": [
    "sns.histplot(x=errors)"
   ]
  },
  {
   "cell_type": "code",
   "execution_count": 16,
   "id": "eca935db-8542-4b2a-93e9-9e88eae781ea",
   "metadata": {},
   "outputs": [
    {
     "data": {
      "text/html": [
       "<pre style=\"white-space:pre;overflow-x:auto;line-height:normal;font-family:Menlo,'DejaVu Sans Mono',consolas,'Courier New',monospace\"><span style=\"color: #008080; text-decoration-color: #008080; font-weight: bold\">301.705982705017</span>\n",
       "</pre>\n"
      ],
      "text/plain": [
       "\u001B[1;36m301.705982705017\u001B[0m\n"
      ]
     },
     "metadata": {},
     "output_type": "display_data"
    }
   ],
   "source": [
    "import numpy as np\n",
    "\n",
    "# Use the coefficient of variation of the differences between frames to provide a measure of \"smoothness\".\n",
    "gt_diff = np.diff(test_flower_counts)\n",
    "gt_smoothness = np.std(gt_diff) / np.abs(np.mean(gt_diff))\n",
    "gt_smoothness"
   ]
  },
  {
   "cell_type": "code",
   "execution_count": 17,
   "id": "4184c156-a024-42ce-8bb0-b1a81f1480ea",
   "metadata": {
    "tags": []
   },
   "outputs": [
    {
     "name": "stdout",
     "output_type": "stream",
     "text": [
      "2023-03-16 11:57:02,985 - py.warnings - WARNING - /tmp/ipykernel_886361/3773555429.py:2: RuntimeWarning: invalid value encountered in float_scalars\n",
      "  pred_smoothness = np.std(pred_diff) / np.abs(np.mean(pred_diff))\n",
      "\n"
     ]
    },
    {
     "data": {
      "text/html": [
       "<pre style=\"white-space:pre;overflow-x:auto;line-height:normal;font-family:Menlo,'DejaVu Sans Mono',consolas,'Courier New',monospace\">nan\n",
       "</pre>\n"
      ],
      "text/plain": [
       "nan\n"
      ]
     },
     "metadata": {},
     "output_type": "display_data"
    }
   ],
   "source": [
    "pred_diff = np.diff(test_preds)\n",
    "pred_smoothness = np.std(pred_diff) / np.abs(np.mean(pred_diff))\n",
    "pred_smoothness"
   ]
  },
  {
   "cell_type": "code",
   "execution_count": 18,
   "id": "da4ca9a6-95c7-4cf8-b188-12ab036b7aa4",
   "metadata": {
    "tags": []
   },
   "outputs": [
    {
     "name": "stdout",
     "output_type": "stream",
     "text": [
      "2023-03-16 11:57:06,193 - py.warnings - WARNING - /tmp/ipykernel_886361/2307232259.py:2: RuntimeWarning: divide by zero encountered in true_divide\n",
      "  reps_smoothness = np.std(reps_diff, axis=0) / np.abs(np.mean(reps_diff, axis=0))\n",
      "\n",
      "2023-03-16 11:57:06,194 - py.warnings - WARNING - /tmp/ipykernel_886361/2307232259.py:2: RuntimeWarning: invalid value encountered in true_divide\n",
      "  reps_smoothness = np.std(reps_diff, axis=0) / np.abs(np.mean(reps_diff, axis=0))\n",
      "\n"
     ]
    },
    {
     "data": {
      "text/html": [
       "<pre style=\"white-space:pre;overflow-x:auto;line-height:normal;font-family:Menlo,'DejaVu Sans Mono',consolas,'Courier New',monospace\">nan\n",
       "</pre>\n"
      ],
      "text/plain": [
       "nan\n"
      ]
     },
     "metadata": {},
     "output_type": "display_data"
    }
   ],
   "source": [
    "reps_diff = np.diff(test_image_reps_arr, axis=0)\n",
    "reps_smoothness = np.std(reps_diff, axis=0) / np.abs(np.mean(reps_diff, axis=0))\n",
    "np.mean(reps_smoothness)"
   ]
  },
  {
   "cell_type": "code",
   "execution_count": null,
   "id": "188b9381-72fe-4df0-b337-be48cca9c078",
   "metadata": {},
   "outputs": [],
   "source": []
  }
 ],
 "metadata": {
  "kernelspec": {
   "display_name": "Kedro (self_supervised)",
   "language": "python",
   "name": "kedro_self_supervised"
  },
  "language_info": {
   "codemirror_mode": {
    "name": "ipython",
    "version": 3
   },
   "file_extension": ".py",
   "mimetype": "text/x-python",
   "name": "python",
   "nbconvert_exporter": "python",
   "pygments_lexer": "ipython3",
   "version": "3.10.10"
  }
 },
 "nbformat": 4,
 "nbformat_minor": 5
}
