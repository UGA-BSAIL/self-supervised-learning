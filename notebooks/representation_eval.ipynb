{
 "cells": [
  {
   "cell_type": "code",
   "execution_count": 1,
   "id": "acfda911-ae74-4318-a246-949fe66cdd10",
   "metadata": {
    "tags": []
   },
   "outputs": [
    {
     "name": "stdout",
     "output_type": "stream",
     "text": [
      "2023-03-03 12:28:11,719 - py.warnings - WARNING - /home/daniel/git/self-supervised-learning/.venv/lib/python3.9/site-packages/thop/profile.py:12: DeprecationWarning: distutils Version classes are deprecated. Use packaging.version instead.\n",
      "  if LooseVersion(torch.__version__) < LooseVersion(\"1.0.0\"):\n",
      "\n",
      "2023-03-03 12:28:11,719 - py.warnings - WARNING - /home/daniel/git/self-supervised-learning/.venv/lib/python3.9/site-packages/thop/profile.py:68: DeprecationWarning: distutils Version classes are deprecated. Use packaging.version instead.\n",
      "  if LooseVersion(torch.__version__) >= LooseVersion(\"1.1.0\"):\n",
      "\n",
      "2023-03-03 12:28:11,899 - py.warnings - WARNING - /home/daniel/git/self-supervised-learning/.venv/lib/python3.9/site-packages/seaborn/rcmod.py:82: DeprecationWarning: distutils Version classes are deprecated. Use packaging.version instead.\n",
      "  if LooseVersion(mpl.__version__) >= \"3.0\":\n",
      "\n",
      "2023-03-03 12:28:11,899 - py.warnings - WARNING - /home/daniel/git/self-supervised-learning/.venv/lib/python3.9/site-packages/setuptools/_distutils/version.py:346: DeprecationWarning: distutils Version classes are deprecated. Use packaging.version instead.\n",
      "  other = LooseVersion(other)\n",
      "\n",
      "2023-03-03 12:28:11,913 - py.warnings - WARNING - /home/daniel/git/self-supervised-learning/.venv/lib/python3.9/site-packages/seaborn/cm.py:1582: MatplotlibDeprecationWarning: The register_cmap function was deprecated in Matplotlib 3.7 and will be removed two minor releases later. Use ``matplotlib.colormaps.register(name)`` instead.\n",
      "  mpl_cm.register_cmap(_name, _cmap)\n",
      "\n",
      "2023-03-03 12:28:11,913 - py.warnings - WARNING - /home/daniel/git/self-supervised-learning/.venv/lib/python3.9/site-packages/seaborn/cm.py:1583: MatplotlibDeprecationWarning: The register_cmap function was deprecated in Matplotlib 3.7 and will be removed two minor releases later. Use ``matplotlib.colormaps.register(name)`` instead.\n",
      "  mpl_cm.register_cmap(_name + \"_r\", _cmap_r)\n",
      "\n",
      "2023-03-03 12:28:11,979 - kedro.ipython - INFO - Resolved project path as: /home/daniel/git/self-supervised-learning.\n",
      "To set a different path, run '%reload_kedro <project_root>'\n",
      "2023-03-03 12:28:11,980 - py.warnings - WARNING - /home/daniel/git/self-supervised-learning/.venv/lib/python3.9/site-packages/kedro/framework/startup.py:98: DeprecationWarning: project_version in pyproject.toml is deprecated, use kedro_init_version instead\n",
      "  warnings.warn(\n",
      "\n",
      "2023-03-03 12:28:12,145 - kedro.ipython - INFO - Kedro project Self-Supervised Learning\n",
      "2023-03-03 12:28:12,146 - kedro.ipython - INFO - Defined global variable 'context', 'session', 'catalog' and 'pipelines'\n",
      "2023-03-03 12:28:12,151 - kedro.io.data_catalog - INFO - Loading data from 'yolov5_l_description' (YAMLDataSet)...\n",
      "2023-03-03 12:28:12,157 - kedro.io.data_catalog - INFO - Loading data from 'trained_model' (PytorchModelDataSet)...\n"
     ]
    },
    {
     "name": "stderr",
     "output_type": "stream",
     "text": [
      "2023-03-03 12:28:12.157 | WARNING  | self_supervised.extras.datasets.pytorch_model_data_set:_load:42 - CUDA not available, automatically mapping variables to the CPU.\n"
     ]
    }
   ],
   "source": [
    "from self_supervised.pipelines.representation_model import RepresentationModel, YoloEncoder\n",
    "\n",
    "%reload_kedro\n",
    "model_description = catalog.load(\"yolov5_l_description\")\n",
    "trained_model = catalog.load(\"trained_model\")\n",
    "#encoder = YoloEncoder(model_description=model_description)\n",
    "#trained_model = RepresentationModel(encoder=encoder)\n",
    "trained_model = trained_model.eval()"
   ]
  },
  {
   "cell_type": "code",
   "execution_count": 2,
   "id": "c1878dbc-46f2-463f-b313-6dc1aed75b69",
   "metadata": {
    "tags": []
   },
   "outputs": [],
   "source": [
    "from pathlib import Path\n",
    "\n",
    "dataset_path = Path(\"/home/daniel/lab_share/projects/CottonFlower2021/flower_dataset\")\n",
    "image_dir = dataset_path / \"flower01\" / \"images\""
   ]
  },
  {
   "cell_type": "code",
   "execution_count": 3,
   "id": "5a67e6c7-88c4-40b3-a33d-1a67a76f0d5f",
   "metadata": {
    "tags": []
   },
   "outputs": [
    {
     "name": "stderr",
     "output_type": "stream",
     "text": [
      "100%|██████████████████████████████████████████████████████████████████████████████████████████████████████████████████████████████████████████████████████████████████████████████████████████████████████████████████████████████████████████████████████████████████████████████████████████████████████████████████████████████| 458/458 [01:11<00:00,  6.45it/s]\n"
     ]
    }
   ],
   "source": [
    "from torchvision.io import read_image\n",
    "from torchvision.transforms.functional import resize\n",
    "from tqdm import tqdm\n",
    "import torch\n",
    "\n",
    "image_reps = []\n",
    "\n",
    "image_list = sorted(list(image_dir.iterdir()))\n",
    "for image_path in tqdm(image_list):\n",
    "    image = read_image(image_path.as_posix())\n",
    "    image.requires_grad = False\n",
    "    image = resize(image, (512, 512))\n",
    "    image = image.to(torch.float) / 255\n",
    "    image_ex = image[None, :, :, :]\n",
    "    \n",
    "    image_reps.append(trained_model(image_ex)[0].detach().numpy())"
   ]
  },
  {
   "cell_type": "code",
   "execution_count": 4,
   "id": "43808fe8-1319-464a-8977-4e7f42db135f",
   "metadata": {
    "tags": []
   },
   "outputs": [
    {
     "data": {
      "text/html": [
       "<div>\n",
       "<style scoped>\n",
       "    .dataframe tbody tr th:only-of-type {\n",
       "        vertical-align: middle;\n",
       "    }\n",
       "\n",
       "    .dataframe tbody tr th {\n",
       "        vertical-align: top;\n",
       "    }\n",
       "\n",
       "    .dataframe thead th {\n",
       "        text-align: right;\n",
       "    }\n",
       "</style>\n",
       "<table border=\"1\" class=\"dataframe\">\n",
       "  <thead>\n",
       "    <tr style=\"text-align: right;\">\n",
       "      <th></th>\n",
       "      <th>class</th>\n",
       "      <th>x</th>\n",
       "      <th>y</th>\n",
       "      <th>width</th>\n",
       "      <th>height</th>\n",
       "      <th>frame</th>\n",
       "    </tr>\n",
       "  </thead>\n",
       "  <tbody>\n",
       "    <tr>\n",
       "      <th>0</th>\n",
       "      <td>0</td>\n",
       "      <td>0.635938</td>\n",
       "      <td>0.238889</td>\n",
       "      <td>0.020833</td>\n",
       "      <td>0.037037</td>\n",
       "      <td>000001.txt</td>\n",
       "    </tr>\n",
       "    <tr>\n",
       "      <th>1</th>\n",
       "      <td>0</td>\n",
       "      <td>0.379427</td>\n",
       "      <td>0.065278</td>\n",
       "      <td>0.015104</td>\n",
       "      <td>0.034259</td>\n",
       "      <td>000001.txt</td>\n",
       "    </tr>\n",
       "    <tr>\n",
       "      <th>2</th>\n",
       "      <td>0</td>\n",
       "      <td>0.634375</td>\n",
       "      <td>0.245370</td>\n",
       "      <td>0.020833</td>\n",
       "      <td>0.037037</td>\n",
       "      <td>000002.txt</td>\n",
       "    </tr>\n",
       "    <tr>\n",
       "      <th>3</th>\n",
       "      <td>0</td>\n",
       "      <td>0.379948</td>\n",
       "      <td>0.068981</td>\n",
       "      <td>0.015104</td>\n",
       "      <td>0.034259</td>\n",
       "      <td>000002.txt</td>\n",
       "    </tr>\n",
       "    <tr>\n",
       "      <th>4</th>\n",
       "      <td>0</td>\n",
       "      <td>0.379948</td>\n",
       "      <td>0.069907</td>\n",
       "      <td>0.015104</td>\n",
       "      <td>0.034259</td>\n",
       "      <td>000003.txt</td>\n",
       "    </tr>\n",
       "    <tr>\n",
       "      <th>...</th>\n",
       "      <td>...</td>\n",
       "      <td>...</td>\n",
       "      <td>...</td>\n",
       "      <td>...</td>\n",
       "      <td>...</td>\n",
       "      <td>...</td>\n",
       "    </tr>\n",
       "    <tr>\n",
       "      <th>1987</th>\n",
       "      <td>0</td>\n",
       "      <td>0.495833</td>\n",
       "      <td>0.971759</td>\n",
       "      <td>0.030208</td>\n",
       "      <td>0.052778</td>\n",
       "      <td>000383.txt</td>\n",
       "    </tr>\n",
       "    <tr>\n",
       "      <th>1988</th>\n",
       "      <td>0</td>\n",
       "      <td>0.496875</td>\n",
       "      <td>0.976852</td>\n",
       "      <td>0.030208</td>\n",
       "      <td>0.046296</td>\n",
       "      <td>000384.txt</td>\n",
       "    </tr>\n",
       "    <tr>\n",
       "      <th>1989</th>\n",
       "      <td>0</td>\n",
       "      <td>0.497656</td>\n",
       "      <td>0.980093</td>\n",
       "      <td>0.028646</td>\n",
       "      <td>0.037963</td>\n",
       "      <td>000385.txt</td>\n",
       "    </tr>\n",
       "    <tr>\n",
       "      <th>1990</th>\n",
       "      <td>0</td>\n",
       "      <td>0.497135</td>\n",
       "      <td>0.986111</td>\n",
       "      <td>0.028646</td>\n",
       "      <td>0.027778</td>\n",
       "      <td>000386.txt</td>\n",
       "    </tr>\n",
       "    <tr>\n",
       "      <th>1991</th>\n",
       "      <td>0</td>\n",
       "      <td>0.497656</td>\n",
       "      <td>0.991667</td>\n",
       "      <td>0.028646</td>\n",
       "      <td>0.016667</td>\n",
       "      <td>000387.txt</td>\n",
       "    </tr>\n",
       "  </tbody>\n",
       "</table>\n",
       "<p>1992 rows × 6 columns</p>\n",
       "</div>"
      ]
     },
     "execution_count": 4,
     "metadata": {},
     "output_type": "execute_result"
    }
   ],
   "source": [
    "# Load flower counts.\n",
    "import pandas as pd\n",
    "\n",
    "labels_dir = dataset_path / \"flower01\" / \"labels\"\n",
    "all_labels = []\n",
    "labels_list = sorted(list(labels_dir.iterdir()))\n",
    "for labels_path in labels_list:\n",
    "    frame_labels = pd.read_csv(labels_path, sep=\" \", names=[\"class\", \"x\", \"y\", \"width\", \"height\"])\n",
    "    frame_labels[\"frame\"] = labels_path.name\n",
    "    all_labels.append(frame_labels)\n",
    "    \n",
    "all_labels = pd.concat(all_labels, ignore_index=True)\n",
    "all_labels"
   ]
  },
  {
   "cell_type": "code",
   "execution_count": 5,
   "id": "96a261b8-3343-4c52-a567-4a94fcbc3964",
   "metadata": {
    "tags": []
   },
   "outputs": [],
   "source": [
    "import numpy as np\n",
    "\n",
    "# Create flower counts labels.\n",
    "flower_counts = []\n",
    "for image_path in labels_list:\n",
    "    flower_counts.append(np.count_nonzero(all_labels[\"frame\"] == image_path.name))\n",
    "    \n",
    "# Any missing counts are zeros.\n",
    "for _ in range(len(flower_counts), len(image_reps)):\n",
    "    flower_counts.append(0)"
   ]
  },
  {
   "cell_type": "code",
   "execution_count": 6,
   "id": "8cd84dd2-fc0b-482e-b69a-7bed0e95f7e5",
   "metadata": {
    "tags": []
   },
   "outputs": [
    {
     "name": "stderr",
     "output_type": "stream",
     "text": [
      "100%|██████████████████████████████████████████████████████████████████████████████████████████████████████████████████████████████████████████████████████████████████████████████████████████████████████████████████████████████████████████████████████████████████████████████████████████████████████████████████████████████| 333/333 [00:51<00:00,  6.43it/s]\n"
     ]
    }
   ],
   "source": [
    "test_image_dir = dataset_path / \"flower02\" / \"images\"\n",
    "\n",
    "test_image_reps = []\n",
    "\n",
    "image_list = sorted(list(test_image_dir.iterdir()))\n",
    "for image_path in tqdm(image_list):\n",
    "    image = read_image(image_path.as_posix())\n",
    "    image.requires_grad = False\n",
    "    image = resize(image, (512, 512))\n",
    "    image = image.to(torch.float) / 255\n",
    "    image_ex = image[None, :, :, :]\n",
    "    \n",
    "    test_image_reps.append(trained_model(image_ex)[0].detach().numpy())"
   ]
  },
  {
   "cell_type": "code",
   "execution_count": 7,
   "id": "1d4b4cc4-c178-4e22-be2e-d21b0bb5d899",
   "metadata": {
    "tags": []
   },
   "outputs": [
    {
     "data": {
      "text/html": [
       "<div>\n",
       "<style scoped>\n",
       "    .dataframe tbody tr th:only-of-type {\n",
       "        vertical-align: middle;\n",
       "    }\n",
       "\n",
       "    .dataframe tbody tr th {\n",
       "        vertical-align: top;\n",
       "    }\n",
       "\n",
       "    .dataframe thead th {\n",
       "        text-align: right;\n",
       "    }\n",
       "</style>\n",
       "<table border=\"1\" class=\"dataframe\">\n",
       "  <thead>\n",
       "    <tr style=\"text-align: right;\">\n",
       "      <th></th>\n",
       "      <th>class</th>\n",
       "      <th>x</th>\n",
       "      <th>y</th>\n",
       "      <th>width</th>\n",
       "      <th>height</th>\n",
       "      <th>frame</th>\n",
       "    </tr>\n",
       "  </thead>\n",
       "  <tbody>\n",
       "    <tr>\n",
       "      <th>0</th>\n",
       "      <td>0</td>\n",
       "      <td>0.407813</td>\n",
       "      <td>0.032870</td>\n",
       "      <td>0.014583</td>\n",
       "      <td>0.023148</td>\n",
       "      <td>000001.txt</td>\n",
       "    </tr>\n",
       "    <tr>\n",
       "      <th>1</th>\n",
       "      <td>0</td>\n",
       "      <td>0.408854</td>\n",
       "      <td>0.042130</td>\n",
       "      <td>0.014583</td>\n",
       "      <td>0.023148</td>\n",
       "      <td>000002.txt</td>\n",
       "    </tr>\n",
       "    <tr>\n",
       "      <th>2</th>\n",
       "      <td>0</td>\n",
       "      <td>0.408854</td>\n",
       "      <td>0.042130</td>\n",
       "      <td>0.014583</td>\n",
       "      <td>0.023148</td>\n",
       "      <td>000003.txt</td>\n",
       "    </tr>\n",
       "    <tr>\n",
       "      <th>3</th>\n",
       "      <td>0</td>\n",
       "      <td>0.408854</td>\n",
       "      <td>0.042130</td>\n",
       "      <td>0.014583</td>\n",
       "      <td>0.023148</td>\n",
       "      <td>000004.txt</td>\n",
       "    </tr>\n",
       "    <tr>\n",
       "      <th>4</th>\n",
       "      <td>0</td>\n",
       "      <td>0.408854</td>\n",
       "      <td>0.042130</td>\n",
       "      <td>0.014583</td>\n",
       "      <td>0.023148</td>\n",
       "      <td>000005.txt</td>\n",
       "    </tr>\n",
       "    <tr>\n",
       "      <th>...</th>\n",
       "      <td>...</td>\n",
       "      <td>...</td>\n",
       "      <td>...</td>\n",
       "      <td>...</td>\n",
       "      <td>...</td>\n",
       "      <td>...</td>\n",
       "    </tr>\n",
       "    <tr>\n",
       "      <th>1583</th>\n",
       "      <td>0</td>\n",
       "      <td>0.441406</td>\n",
       "      <td>0.814352</td>\n",
       "      <td>0.020313</td>\n",
       "      <td>0.036111</td>\n",
       "      <td>000287.txt</td>\n",
       "    </tr>\n",
       "    <tr>\n",
       "      <th>1584</th>\n",
       "      <td>0</td>\n",
       "      <td>0.437240</td>\n",
       "      <td>0.838426</td>\n",
       "      <td>0.020313</td>\n",
       "      <td>0.036111</td>\n",
       "      <td>000288.txt</td>\n",
       "    </tr>\n",
       "    <tr>\n",
       "      <th>1585</th>\n",
       "      <td>0</td>\n",
       "      <td>0.433073</td>\n",
       "      <td>0.858796</td>\n",
       "      <td>0.020313</td>\n",
       "      <td>0.036111</td>\n",
       "      <td>000289.txt</td>\n",
       "    </tr>\n",
       "    <tr>\n",
       "      <th>1586</th>\n",
       "      <td>0</td>\n",
       "      <td>0.434635</td>\n",
       "      <td>0.871759</td>\n",
       "      <td>0.011979</td>\n",
       "      <td>0.028704</td>\n",
       "      <td>000290.txt</td>\n",
       "    </tr>\n",
       "    <tr>\n",
       "      <th>1587</th>\n",
       "      <td>0</td>\n",
       "      <td>0.439844</td>\n",
       "      <td>0.879167</td>\n",
       "      <td>0.011979</td>\n",
       "      <td>0.028704</td>\n",
       "      <td>000291.txt</td>\n",
       "    </tr>\n",
       "  </tbody>\n",
       "</table>\n",
       "<p>1588 rows × 6 columns</p>\n",
       "</div>"
      ]
     },
     "execution_count": 7,
     "metadata": {},
     "output_type": "execute_result"
    }
   ],
   "source": [
    "test_labels_dir = dataset_path / \"flower02\" / \"labels\"\n",
    "all_labels_test = []\n",
    "labels_list = sorted(list(test_labels_dir.iterdir()))\n",
    "for labels_path in labels_list:\n",
    "    frame_labels = pd.read_csv(labels_path, sep=\" \", names=[\"class\", \"x\", \"y\", \"width\", \"height\"])\n",
    "    frame_labels[\"frame\"] = labels_path.name\n",
    "    all_labels_test.append(frame_labels)\n",
    "    \n",
    "all_labels_test = pd.concat(all_labels_test, ignore_index=True)\n",
    "all_labels_test"
   ]
  },
  {
   "cell_type": "code",
   "execution_count": 8,
   "id": "0543d1a7-4b18-4d0f-8536-3529a2cda92a",
   "metadata": {
    "tags": []
   },
   "outputs": [],
   "source": [
    "# Create flower counts.\n",
    "test_flower_counts = []\n",
    "for image_path in labels_list:\n",
    "    test_flower_counts.append(np.count_nonzero(all_labels_test[\"frame\"] == image_path.name))\n",
    "    \n",
    "# Any missing counts are zeros.\n",
    "for _ in range(len(test_flower_counts), len(test_image_reps)):\n",
    "    test_flower_counts.append(0)"
   ]
  },
  {
   "cell_type": "code",
   "execution_count": 9,
   "id": "1741b680-ed08-476e-9a0f-5cb5f0118805",
   "metadata": {
    "tags": []
   },
   "outputs": [],
   "source": [
    "# Create combined dataset.\n",
    "all_image_reps = image_reps + test_image_reps\n",
    "all_flower_counts = flower_counts + test_flower_counts\n",
    "train_indices = np.arange(len(image_reps))\n",
    "test_indices = np.arange(len(image_reps), len(all_image_reps))"
   ]
  },
  {
   "cell_type": "code",
   "execution_count": 10,
   "id": "8ca94b64-b75c-41e7-a3f3-459bd29de228",
   "metadata": {
    "tags": []
   },
   "outputs": [
    {
     "name": "stdout",
     "output_type": "stream",
     "text": [
      "2023-03-03 12:30:35,045 - py.warnings - WARNING - /home/daniel/git/self-supervised-learning/.venv/lib/python3.9/site-packages/sklearn/linear_model/_ridge.py:216: LinAlgWarning: Ill-conditioned matrix (rcond=1.32861e-08): result may not be accurate.\n",
      "  return linalg.solve(A, Xy, assume_a=\"pos\", overwrite_a=True).T\n",
      "\n"
     ]
    }
   ],
   "source": [
    "from sklearn.linear_model import RidgeCV\n",
    "\n",
    "all_flower_counts = np.array(all_flower_counts, dtype=float)\n",
    "all_image_reps_arr = np.concatenate(all_image_reps, axis=0)\n",
    "\n",
    "alphas = [1e-6, 1e-4, 0.01, 0.1, 1.0, 2.0, 4.0, 8.0, 16.0, 32.0, 64.0, 128.0]\n",
    "reg = RidgeCV(alphas=alphas, cv=((train_indices, test_indices),)).fit(all_image_reps_arr, all_flower_counts)"
   ]
  },
  {
   "cell_type": "code",
   "execution_count": 11,
   "id": "23cf629c-e859-47c7-92ac-593d56789b05",
   "metadata": {
    "tags": []
   },
   "outputs": [
    {
     "data": {
      "text/html": [
       "<pre style=\"white-space:pre;overflow-x:auto;line-height:normal;font-family:Menlo,'DejaVu Sans Mono',consolas,'Courier New',monospace\">\n",
       "<span style=\"color: #800080; text-decoration-color: #800080; font-weight: bold\">array</span><span style=\"font-weight: bold\">([</span>     <span style=\"color: #008080; text-decoration-color: #008080; font-weight: bold\">1.0576</span>,     <span style=\"color: #008080; text-decoration-color: #008080; font-weight: bold\">0.75535</span>,     <span style=\"color: #008080; text-decoration-color: #008080; font-weight: bold\">0.61279</span>,      <span style=\"color: #008080; text-decoration-color: #008080; font-weight: bold\">1.0851</span>,     <span style=\"color: #008080; text-decoration-color: #008080; font-weight: bold\">0.98348</span>,      <span style=\"color: #008080; text-decoration-color: #008080; font-weight: bold\">1.2274</span>,      <span style=\"color: #008080; text-decoration-color: #008080; font-weight: bold\">1.1777</span>,      <span style=\"color: #008080; text-decoration-color: #008080; font-weight: bold\">1.1343</span>,     <span style=\"color: #008080; text-decoration-color: #008080; font-weight: bold\">0.84324</span>,      <span style=\"color: #008080; text-decoration-color: #008080; font-weight: bold\">1.1453</span>,      <span style=\"color: #008080; text-decoration-color: #008080; font-weight: bold\">1.3338</span>,      <span style=\"color: #008080; text-decoration-color: #008080; font-weight: bold\">1.0147</span>,      <span style=\"color: #008080; text-decoration-color: #008080; font-weight: bold\">1.3584</span>,      <span style=\"color: #008080; text-decoration-color: #008080; font-weight: bold\">1.6034</span>,      <span style=\"color: #008080; text-decoration-color: #008080; font-weight: bold\">1.6625</span>,      <span style=\"color: #008080; text-decoration-color: #008080; font-weight: bold\">1.7077</span>,      <span style=\"color: #008080; text-decoration-color: #008080; font-weight: bold\">1.5615</span>,      <span style=\"color: #008080; text-decoration-color: #008080; font-weight: bold\">1.2957</span>,      <span style=\"color: #008080; text-decoration-color: #008080; font-weight: bold\">1.8764</span>,      <span style=\"color: #008080; text-decoration-color: #008080; font-weight: bold\">1.7837</span>,      <span style=\"color: #008080; text-decoration-color: #008080; font-weight: bold\">1.8689</span>,      <span style=\"color: #008080; text-decoration-color: #008080; font-weight: bold\">2.1458</span>,      <span style=\"color: #008080; text-decoration-color: #008080; font-weight: bold\">2.1344</span>,      <span style=\"color: #008080; text-decoration-color: #008080; font-weight: bold\">2.2308</span>,\n",
       "            <span style=\"color: #008080; text-decoration-color: #008080; font-weight: bold\">2.3477</span>,      <span style=\"color: #008080; text-decoration-color: #008080; font-weight: bold\">2.3918</span>,      <span style=\"color: #008080; text-decoration-color: #008080; font-weight: bold\">2.2935</span>,      <span style=\"color: #008080; text-decoration-color: #008080; font-weight: bold\">2.5938</span>,      <span style=\"color: #008080; text-decoration-color: #008080; font-weight: bold\">2.4714</span>,      <span style=\"color: #008080; text-decoration-color: #008080; font-weight: bold\">2.2384</span>,      <span style=\"color: #008080; text-decoration-color: #008080; font-weight: bold\">2.4554</span>,      <span style=\"color: #008080; text-decoration-color: #008080; font-weight: bold\">2.6416</span>,      <span style=\"color: #008080; text-decoration-color: #008080; font-weight: bold\">2.4339</span>,      <span style=\"color: #008080; text-decoration-color: #008080; font-weight: bold\">2.7062</span>,      <span style=\"color: #008080; text-decoration-color: #008080; font-weight: bold\">2.6185</span>,       <span style=\"color: #008080; text-decoration-color: #008080; font-weight: bold\">2.913</span>,      <span style=\"color: #008080; text-decoration-color: #008080; font-weight: bold\">3.0856</span>,       <span style=\"color: #008080; text-decoration-color: #008080; font-weight: bold\">3.023</span>,       <span style=\"color: #008080; text-decoration-color: #008080; font-weight: bold\">3.157</span>,       <span style=\"color: #008080; text-decoration-color: #008080; font-weight: bold\">3.358</span>,      <span style=\"color: #008080; text-decoration-color: #008080; font-weight: bold\">3.3309</span>,      <span style=\"color: #008080; text-decoration-color: #008080; font-weight: bold\">3.7503</span>,      <span style=\"color: #008080; text-decoration-color: #008080; font-weight: bold\">4.1175</span>,      <span style=\"color: #008080; text-decoration-color: #008080; font-weight: bold\">4.1849</span>,      <span style=\"color: #008080; text-decoration-color: #008080; font-weight: bold\">4.3719</span>,      <span style=\"color: #008080; text-decoration-color: #008080; font-weight: bold\">4.7161</span>,      <span style=\"color: #008080; text-decoration-color: #008080; font-weight: bold\">4.8092</span>,      <span style=\"color: #008080; text-decoration-color: #008080; font-weight: bold\">4.8297</span>,\n",
       "            <span style=\"color: #008080; text-decoration-color: #008080; font-weight: bold\">4.9574</span>,      <span style=\"color: #008080; text-decoration-color: #008080; font-weight: bold\">4.5543</span>,      <span style=\"color: #008080; text-decoration-color: #008080; font-weight: bold\">4.4712</span>,       <span style=\"color: #008080; text-decoration-color: #008080; font-weight: bold\">4.678</span>,      <span style=\"color: #008080; text-decoration-color: #008080; font-weight: bold\">4.5229</span>,      <span style=\"color: #008080; text-decoration-color: #008080; font-weight: bold\">4.9664</span>,      <span style=\"color: #008080; text-decoration-color: #008080; font-weight: bold\">5.1861</span>,      <span style=\"color: #008080; text-decoration-color: #008080; font-weight: bold\">5.3828</span>,      <span style=\"color: #008080; text-decoration-color: #008080; font-weight: bold\">6.0487</span>,      <span style=\"color: #008080; text-decoration-color: #008080; font-weight: bold\">5.3292</span>,      <span style=\"color: #008080; text-decoration-color: #008080; font-weight: bold\">5.5194</span>,      <span style=\"color: #008080; text-decoration-color: #008080; font-weight: bold\">5.4464</span>,      <span style=\"color: #008080; text-decoration-color: #008080; font-weight: bold\">5.7595</span>,      <span style=\"color: #008080; text-decoration-color: #008080; font-weight: bold\">5.4803</span>,       <span style=\"color: #008080; text-decoration-color: #008080; font-weight: bold\">5.153</span>,      <span style=\"color: #008080; text-decoration-color: #008080; font-weight: bold\">5.4395</span>,      <span style=\"color: #008080; text-decoration-color: #008080; font-weight: bold\">5.8605</span>,      <span style=\"color: #008080; text-decoration-color: #008080; font-weight: bold\">5.7091</span>,      <span style=\"color: #008080; text-decoration-color: #008080; font-weight: bold\">6.0818</span>,      <span style=\"color: #008080; text-decoration-color: #008080; font-weight: bold\">6.3755</span>,      <span style=\"color: #008080; text-decoration-color: #008080; font-weight: bold\">5.5235</span>,      <span style=\"color: #008080; text-decoration-color: #008080; font-weight: bold\">5.3666</span>,      <span style=\"color: #008080; text-decoration-color: #008080; font-weight: bold\">5.1927</span>,      <span style=\"color: #008080; text-decoration-color: #008080; font-weight: bold\">5.6141</span>,\n",
       "            <span style=\"color: #008080; text-decoration-color: #008080; font-weight: bold\">6.5353</span>,      <span style=\"color: #008080; text-decoration-color: #008080; font-weight: bold\">6.3837</span>,      <span style=\"color: #008080; text-decoration-color: #008080; font-weight: bold\">6.6306</span>,      <span style=\"color: #008080; text-decoration-color: #008080; font-weight: bold\">7.2097</span>,      <span style=\"color: #008080; text-decoration-color: #008080; font-weight: bold\">6.9096</span>,      <span style=\"color: #008080; text-decoration-color: #008080; font-weight: bold\">6.5598</span>,      <span style=\"color: #008080; text-decoration-color: #008080; font-weight: bold\">5.9088</span>,      <span style=\"color: #008080; text-decoration-color: #008080; font-weight: bold\">6.1128</span>,      <span style=\"color: #008080; text-decoration-color: #008080; font-weight: bold\">6.0088</span>,      <span style=\"color: #008080; text-decoration-color: #008080; font-weight: bold\">5.8607</span>,      <span style=\"color: #008080; text-decoration-color: #008080; font-weight: bold\">6.2576</span>,      <span style=\"color: #008080; text-decoration-color: #008080; font-weight: bold\">7.1367</span>,      <span style=\"color: #008080; text-decoration-color: #008080; font-weight: bold\">7.5486</span>,      <span style=\"color: #008080; text-decoration-color: #008080; font-weight: bold\">7.7455</span>,      <span style=\"color: #008080; text-decoration-color: #008080; font-weight: bold\">7.8373</span>,      <span style=\"color: #008080; text-decoration-color: #008080; font-weight: bold\">6.9184</span>,      <span style=\"color: #008080; text-decoration-color: #008080; font-weight: bold\">6.8055</span>,       <span style=\"color: #008080; text-decoration-color: #008080; font-weight: bold\">6.828</span>,      <span style=\"color: #008080; text-decoration-color: #008080; font-weight: bold\">6.5625</span>,      <span style=\"color: #008080; text-decoration-color: #008080; font-weight: bold\">6.9385</span>,      <span style=\"color: #008080; text-decoration-color: #008080; font-weight: bold\">7.9496</span>,      <span style=\"color: #008080; text-decoration-color: #008080; font-weight: bold\">7.8367</span>,      <span style=\"color: #008080; text-decoration-color: #008080; font-weight: bold\">7.5662</span>,      <span style=\"color: #008080; text-decoration-color: #008080; font-weight: bold\">7.2623</span>,\n",
       "            <span style=\"color: #008080; text-decoration-color: #008080; font-weight: bold\">6.7912</span>,      <span style=\"color: #008080; text-decoration-color: #008080; font-weight: bold\">6.7275</span>,      <span style=\"color: #008080; text-decoration-color: #008080; font-weight: bold\">7.0486</span>,      <span style=\"color: #008080; text-decoration-color: #008080; font-weight: bold\">6.8193</span>,      <span style=\"color: #008080; text-decoration-color: #008080; font-weight: bold\">6.4097</span>,      <span style=\"color: #008080; text-decoration-color: #008080; font-weight: bold\">6.7239</span>,      <span style=\"color: #008080; text-decoration-color: #008080; font-weight: bold\">6.3621</span>,      <span style=\"color: #008080; text-decoration-color: #008080; font-weight: bold\">6.8948</span>,      <span style=\"color: #008080; text-decoration-color: #008080; font-weight: bold\">6.3259</span>,      <span style=\"color: #008080; text-decoration-color: #008080; font-weight: bold\">6.5799</span>,      <span style=\"color: #008080; text-decoration-color: #008080; font-weight: bold\">6.9572</span>,      <span style=\"color: #008080; text-decoration-color: #008080; font-weight: bold\">6.8477</span>,      <span style=\"color: #008080; text-decoration-color: #008080; font-weight: bold\">6.3554</span>,       <span style=\"color: #008080; text-decoration-color: #008080; font-weight: bold\">6.353</span>,      <span style=\"color: #008080; text-decoration-color: #008080; font-weight: bold\">6.3557</span>,      <span style=\"color: #008080; text-decoration-color: #008080; font-weight: bold\">6.3064</span>,      <span style=\"color: #008080; text-decoration-color: #008080; font-weight: bold\">5.7302</span>,       <span style=\"color: #008080; text-decoration-color: #008080; font-weight: bold\">6.411</span>,      <span style=\"color: #008080; text-decoration-color: #008080; font-weight: bold\">5.7928</span>,       <span style=\"color: #008080; text-decoration-color: #008080; font-weight: bold\">5.793</span>,      <span style=\"color: #008080; text-decoration-color: #008080; font-weight: bold\">5.9009</span>,      <span style=\"color: #008080; text-decoration-color: #008080; font-weight: bold\">6.2703</span>,      <span style=\"color: #008080; text-decoration-color: #008080; font-weight: bold\">6.0853</span>,      <span style=\"color: #008080; text-decoration-color: #008080; font-weight: bold\">6.0086</span>,\n",
       "            <span style=\"color: #008080; text-decoration-color: #008080; font-weight: bold\">5.8901</span>,      <span style=\"color: #008080; text-decoration-color: #008080; font-weight: bold\">5.7972</span>,      <span style=\"color: #008080; text-decoration-color: #008080; font-weight: bold\">6.0456</span>,      <span style=\"color: #008080; text-decoration-color: #008080; font-weight: bold\">5.4189</span>,      <span style=\"color: #008080; text-decoration-color: #008080; font-weight: bold\">5.7059</span>,      <span style=\"color: #008080; text-decoration-color: #008080; font-weight: bold\">5.6925</span>,      <span style=\"color: #008080; text-decoration-color: #008080; font-weight: bold\">6.2125</span>,      <span style=\"color: #008080; text-decoration-color: #008080; font-weight: bold\">6.1785</span>,       <span style=\"color: #008080; text-decoration-color: #008080; font-weight: bold\">6.223</span>,      <span style=\"color: #008080; text-decoration-color: #008080; font-weight: bold\">6.0308</span>,      <span style=\"color: #008080; text-decoration-color: #008080; font-weight: bold\">6.0276</span>,      <span style=\"color: #008080; text-decoration-color: #008080; font-weight: bold\">6.2949</span>,      <span style=\"color: #008080; text-decoration-color: #008080; font-weight: bold\">5.9465</span>,      <span style=\"color: #008080; text-decoration-color: #008080; font-weight: bold\">5.7773</span>,      <span style=\"color: #008080; text-decoration-color: #008080; font-weight: bold\">5.7773</span>,      <span style=\"color: #008080; text-decoration-color: #008080; font-weight: bold\">5.6714</span>,      <span style=\"color: #008080; text-decoration-color: #008080; font-weight: bold\">5.4984</span>,      <span style=\"color: #008080; text-decoration-color: #008080; font-weight: bold\">5.5796</span>,      <span style=\"color: #008080; text-decoration-color: #008080; font-weight: bold\">5.8374</span>,      <span style=\"color: #008080; text-decoration-color: #008080; font-weight: bold\">6.6452</span>,      <span style=\"color: #008080; text-decoration-color: #008080; font-weight: bold\">6.5646</span>,      <span style=\"color: #008080; text-decoration-color: #008080; font-weight: bold\">6.1842</span>,      <span style=\"color: #008080; text-decoration-color: #008080; font-weight: bold\">5.9929</span>,       <span style=\"color: #008080; text-decoration-color: #008080; font-weight: bold\">5.837</span>,\n",
       "            <span style=\"color: #008080; text-decoration-color: #008080; font-weight: bold\">5.8278</span>,      <span style=\"color: #008080; text-decoration-color: #008080; font-weight: bold\">5.7395</span>,      <span style=\"color: #008080; text-decoration-color: #008080; font-weight: bold\">5.8664</span>,      <span style=\"color: #008080; text-decoration-color: #008080; font-weight: bold\">6.3138</span>,      <span style=\"color: #008080; text-decoration-color: #008080; font-weight: bold\">5.8629</span>,      <span style=\"color: #008080; text-decoration-color: #008080; font-weight: bold\">5.7749</span>,      <span style=\"color: #008080; text-decoration-color: #008080; font-weight: bold\">5.8036</span>,      <span style=\"color: #008080; text-decoration-color: #008080; font-weight: bold\">5.4016</span>,      <span style=\"color: #008080; text-decoration-color: #008080; font-weight: bold\">5.4986</span>,      <span style=\"color: #008080; text-decoration-color: #008080; font-weight: bold\">5.4154</span>,       <span style=\"color: #008080; text-decoration-color: #008080; font-weight: bold\">5.137</span>,      <span style=\"color: #008080; text-decoration-color: #008080; font-weight: bold\">4.9396</span>,      <span style=\"color: #008080; text-decoration-color: #008080; font-weight: bold\">5.6179</span>,      <span style=\"color: #008080; text-decoration-color: #008080; font-weight: bold\">5.7266</span>,      <span style=\"color: #008080; text-decoration-color: #008080; font-weight: bold\">5.9078</span>,      <span style=\"color: #008080; text-decoration-color: #008080; font-weight: bold\">6.1857</span>,      <span style=\"color: #008080; text-decoration-color: #008080; font-weight: bold\">5.5203</span>,      <span style=\"color: #008080; text-decoration-color: #008080; font-weight: bold\">5.5227</span>,      <span style=\"color: #008080; text-decoration-color: #008080; font-weight: bold\">5.1408</span>,      <span style=\"color: #008080; text-decoration-color: #008080; font-weight: bold\">4.9837</span>,      <span style=\"color: #008080; text-decoration-color: #008080; font-weight: bold\">4.9921</span>,      <span style=\"color: #008080; text-decoration-color: #008080; font-weight: bold\">5.4907</span>,      <span style=\"color: #008080; text-decoration-color: #008080; font-weight: bold\">5.5222</span>,      <span style=\"color: #008080; text-decoration-color: #008080; font-weight: bold\">5.8321</span>,\n",
       "            <span style=\"color: #008080; text-decoration-color: #008080; font-weight: bold\">5.7704</span>,      <span style=\"color: #008080; text-decoration-color: #008080; font-weight: bold\">6.4434</span>,      <span style=\"color: #008080; text-decoration-color: #008080; font-weight: bold\">6.3876</span>,      <span style=\"color: #008080; text-decoration-color: #008080; font-weight: bold\">6.1723</span>,       <span style=\"color: #008080; text-decoration-color: #008080; font-weight: bold\">5.828</span>,      <span style=\"color: #008080; text-decoration-color: #008080; font-weight: bold\">5.1822</span>,      <span style=\"color: #008080; text-decoration-color: #008080; font-weight: bold\">5.4056</span>,      <span style=\"color: #008080; text-decoration-color: #008080; font-weight: bold\">5.3765</span>,      <span style=\"color: #008080; text-decoration-color: #008080; font-weight: bold\">5.5137</span>,      <span style=\"color: #008080; text-decoration-color: #008080; font-weight: bold\">5.7408</span>,      <span style=\"color: #008080; text-decoration-color: #008080; font-weight: bold\">6.2551</span>,      <span style=\"color: #008080; text-decoration-color: #008080; font-weight: bold\">5.7668</span>,      <span style=\"color: #008080; text-decoration-color: #008080; font-weight: bold\">6.5068</span>,      <span style=\"color: #008080; text-decoration-color: #008080; font-weight: bold\">6.4032</span>,       <span style=\"color: #008080; text-decoration-color: #008080; font-weight: bold\">6.011</span>,      <span style=\"color: #008080; text-decoration-color: #008080; font-weight: bold\">6.0578</span>,       <span style=\"color: #008080; text-decoration-color: #008080; font-weight: bold\">6.386</span>,      <span style=\"color: #008080; text-decoration-color: #008080; font-weight: bold\">6.6563</span>,      <span style=\"color: #008080; text-decoration-color: #008080; font-weight: bold\">7.1603</span>,      <span style=\"color: #008080; text-decoration-color: #008080; font-weight: bold\">7.6444</span>,      <span style=\"color: #008080; text-decoration-color: #008080; font-weight: bold\">7.8505</span>,      <span style=\"color: #008080; text-decoration-color: #008080; font-weight: bold\">7.8439</span>,      <span style=\"color: #008080; text-decoration-color: #008080; font-weight: bold\">7.5088</span>,      <span style=\"color: #008080; text-decoration-color: #008080; font-weight: bold\">7.0582</span>,\n",
       "            <span style=\"color: #008080; text-decoration-color: #008080; font-weight: bold\">6.8136</span>,      <span style=\"color: #008080; text-decoration-color: #008080; font-weight: bold\">6.1616</span>,      <span style=\"color: #008080; text-decoration-color: #008080; font-weight: bold\">6.5068</span>,      <span style=\"color: #008080; text-decoration-color: #008080; font-weight: bold\">6.3079</span>,      <span style=\"color: #008080; text-decoration-color: #008080; font-weight: bold\">6.4237</span>,      <span style=\"color: #008080; text-decoration-color: #008080; font-weight: bold\">6.5177</span>,      <span style=\"color: #008080; text-decoration-color: #008080; font-weight: bold\">6.3913</span>,      <span style=\"color: #008080; text-decoration-color: #008080; font-weight: bold\">6.8143</span>,      <span style=\"color: #008080; text-decoration-color: #008080; font-weight: bold\">7.0009</span>,      <span style=\"color: #008080; text-decoration-color: #008080; font-weight: bold\">6.8693</span>,      <span style=\"color: #008080; text-decoration-color: #008080; font-weight: bold\">6.6605</span>,      <span style=\"color: #008080; text-decoration-color: #008080; font-weight: bold\">6.4277</span>,      <span style=\"color: #008080; text-decoration-color: #008080; font-weight: bold\">6.9598</span>,       <span style=\"color: #008080; text-decoration-color: #008080; font-weight: bold\">6.867</span>,      <span style=\"color: #008080; text-decoration-color: #008080; font-weight: bold\">6.5859</span>,      <span style=\"color: #008080; text-decoration-color: #008080; font-weight: bold\">7.1919</span>,      <span style=\"color: #008080; text-decoration-color: #008080; font-weight: bold\">6.9227</span>,      <span style=\"color: #008080; text-decoration-color: #008080; font-weight: bold\">7.3634</span>,      <span style=\"color: #008080; text-decoration-color: #008080; font-weight: bold\">7.3907</span>,      <span style=\"color: #008080; text-decoration-color: #008080; font-weight: bold\">6.7622</span>,       <span style=\"color: #008080; text-decoration-color: #008080; font-weight: bold\">6.671</span>,      <span style=\"color: #008080; text-decoration-color: #008080; font-weight: bold\">6.3515</span>,      <span style=\"color: #008080; text-decoration-color: #008080; font-weight: bold\">6.5912</span>,      <span style=\"color: #008080; text-decoration-color: #008080; font-weight: bold\">6.3281</span>,\n",
       "            <span style=\"color: #008080; text-decoration-color: #008080; font-weight: bold\">7.0992</span>,      <span style=\"color: #008080; text-decoration-color: #008080; font-weight: bold\">6.9244</span>,      <span style=\"color: #008080; text-decoration-color: #008080; font-weight: bold\">7.0869</span>,      <span style=\"color: #008080; text-decoration-color: #008080; font-weight: bold\">7.2118</span>,      <span style=\"color: #008080; text-decoration-color: #008080; font-weight: bold\">7.0761</span>,      <span style=\"color: #008080; text-decoration-color: #008080; font-weight: bold\">7.0738</span>,      <span style=\"color: #008080; text-decoration-color: #008080; font-weight: bold\">6.7704</span>,      <span style=\"color: #008080; text-decoration-color: #008080; font-weight: bold\">6.2366</span>,      <span style=\"color: #008080; text-decoration-color: #008080; font-weight: bold\">6.4152</span>,      <span style=\"color: #008080; text-decoration-color: #008080; font-weight: bold\">6.6781</span>,      <span style=\"color: #008080; text-decoration-color: #008080; font-weight: bold\">7.2409</span>,      <span style=\"color: #008080; text-decoration-color: #008080; font-weight: bold\">7.5565</span>,       <span style=\"color: #008080; text-decoration-color: #008080; font-weight: bold\">6.718</span>,      <span style=\"color: #008080; text-decoration-color: #008080; font-weight: bold\">6.8842</span>,      <span style=\"color: #008080; text-decoration-color: #008080; font-weight: bold\">6.8017</span>,      <span style=\"color: #008080; text-decoration-color: #008080; font-weight: bold\">6.5976</span>,      <span style=\"color: #008080; text-decoration-color: #008080; font-weight: bold\">6.1257</span>,      <span style=\"color: #008080; text-decoration-color: #008080; font-weight: bold\">6.4162</span>,       <span style=\"color: #008080; text-decoration-color: #008080; font-weight: bold\">6.636</span>,      <span style=\"color: #008080; text-decoration-color: #008080; font-weight: bold\">7.1224</span>,      <span style=\"color: #008080; text-decoration-color: #008080; font-weight: bold\">7.0709</span>,      <span style=\"color: #008080; text-decoration-color: #008080; font-weight: bold\">6.8143</span>,      <span style=\"color: #008080; text-decoration-color: #008080; font-weight: bold\">6.6847</span>,      <span style=\"color: #008080; text-decoration-color: #008080; font-weight: bold\">6.2637</span>,\n",
       "            <span style=\"color: #008080; text-decoration-color: #008080; font-weight: bold\">5.7615</span>,      <span style=\"color: #008080; text-decoration-color: #008080; font-weight: bold\">5.6216</span>,       <span style=\"color: #008080; text-decoration-color: #008080; font-weight: bold\">5.383</span>,      <span style=\"color: #008080; text-decoration-color: #008080; font-weight: bold\">5.6976</span>,      <span style=\"color: #008080; text-decoration-color: #008080; font-weight: bold\">5.6897</span>,      <span style=\"color: #008080; text-decoration-color: #008080; font-weight: bold\">5.5667</span>,      <span style=\"color: #008080; text-decoration-color: #008080; font-weight: bold\">5.8508</span>,      <span style=\"color: #008080; text-decoration-color: #008080; font-weight: bold\">6.4278</span>,      <span style=\"color: #008080; text-decoration-color: #008080; font-weight: bold\">5.9064</span>,      <span style=\"color: #008080; text-decoration-color: #008080; font-weight: bold\">5.3155</span>,      <span style=\"color: #008080; text-decoration-color: #008080; font-weight: bold\">5.0602</span>,      <span style=\"color: #008080; text-decoration-color: #008080; font-weight: bold\">4.9927</span>,      <span style=\"color: #008080; text-decoration-color: #008080; font-weight: bold\">5.0827</span>,      <span style=\"color: #008080; text-decoration-color: #008080; font-weight: bold\">4.7095</span>,      <span style=\"color: #008080; text-decoration-color: #008080; font-weight: bold\">4.8294</span>,      <span style=\"color: #008080; text-decoration-color: #008080; font-weight: bold\">5.1817</span>,      <span style=\"color: #008080; text-decoration-color: #008080; font-weight: bold\">5.5762</span>,      <span style=\"color: #008080; text-decoration-color: #008080; font-weight: bold\">5.6879</span>,      <span style=\"color: #008080; text-decoration-color: #008080; font-weight: bold\">5.9555</span>,      <span style=\"color: #008080; text-decoration-color: #008080; font-weight: bold\">5.5613</span>,      <span style=\"color: #008080; text-decoration-color: #008080; font-weight: bold\">5.5188</span>,      <span style=\"color: #008080; text-decoration-color: #008080; font-weight: bold\">5.2146</span>,      <span style=\"color: #008080; text-decoration-color: #008080; font-weight: bold\">4.9673</span>,      <span style=\"color: #008080; text-decoration-color: #008080; font-weight: bold\">5.3296</span>,\n",
       "            <span style=\"color: #008080; text-decoration-color: #008080; font-weight: bold\">5.7961</span>,      <span style=\"color: #008080; text-decoration-color: #008080; font-weight: bold\">5.6952</span>,      <span style=\"color: #008080; text-decoration-color: #008080; font-weight: bold\">5.9506</span>,      <span style=\"color: #008080; text-decoration-color: #008080; font-weight: bold\">5.3238</span>,      <span style=\"color: #008080; text-decoration-color: #008080; font-weight: bold\">5.5528</span>,      <span style=\"color: #008080; text-decoration-color: #008080; font-weight: bold\">4.6774</span>,      <span style=\"color: #008080; text-decoration-color: #008080; font-weight: bold\">4.1487</span>,      <span style=\"color: #008080; text-decoration-color: #008080; font-weight: bold\">4.1835</span>,      <span style=\"color: #008080; text-decoration-color: #008080; font-weight: bold\">4.1734</span>,      <span style=\"color: #008080; text-decoration-color: #008080; font-weight: bold\">4.7533</span>,      <span style=\"color: #008080; text-decoration-color: #008080; font-weight: bold\">4.4775</span>,      <span style=\"color: #008080; text-decoration-color: #008080; font-weight: bold\">5.1795</span>,      <span style=\"color: #008080; text-decoration-color: #008080; font-weight: bold\">5.3144</span>,      <span style=\"color: #008080; text-decoration-color: #008080; font-weight: bold\">5.3597</span>,      <span style=\"color: #008080; text-decoration-color: #008080; font-weight: bold\">4.4918</span>,      <span style=\"color: #008080; text-decoration-color: #008080; font-weight: bold\">3.2521</span>,      <span style=\"color: #008080; text-decoration-color: #008080; font-weight: bold\">3.2287</span>,      <span style=\"color: #008080; text-decoration-color: #008080; font-weight: bold\">3.4666</span>,      <span style=\"color: #008080; text-decoration-color: #008080; font-weight: bold\">3.1447</span>,      <span style=\"color: #008080; text-decoration-color: #008080; font-weight: bold\">2.9533</span>,      <span style=\"color: #008080; text-decoration-color: #008080; font-weight: bold\">2.9761</span>,      <span style=\"color: #008080; text-decoration-color: #008080; font-weight: bold\">3.4802</span>,      <span style=\"color: #008080; text-decoration-color: #008080; font-weight: bold\">2.8642</span>,      <span style=\"color: #008080; text-decoration-color: #008080; font-weight: bold\">2.3823</span>,\n",
       "            <span style=\"color: #008080; text-decoration-color: #008080; font-weight: bold\">2.0356</span>,      <span style=\"color: #008080; text-decoration-color: #008080; font-weight: bold\">1.9022</span>,      <span style=\"color: #008080; text-decoration-color: #008080; font-weight: bold\">1.7262</span>,      <span style=\"color: #008080; text-decoration-color: #008080; font-weight: bold\">1.7158</span>,       <span style=\"color: #008080; text-decoration-color: #008080; font-weight: bold\">1.699</span>,      <span style=\"color: #008080; text-decoration-color: #008080; font-weight: bold\">1.5565</span>,      <span style=\"color: #008080; text-decoration-color: #008080; font-weight: bold\">2.3857</span>,      <span style=\"color: #008080; text-decoration-color: #008080; font-weight: bold\">2.4402</span>,      <span style=\"color: #008080; text-decoration-color: #008080; font-weight: bold\">2.7255</span>,      <span style=\"color: #008080; text-decoration-color: #008080; font-weight: bold\">2.6212</span>,      <span style=\"color: #008080; text-decoration-color: #008080; font-weight: bold\">1.7492</span>,      <span style=\"color: #008080; text-decoration-color: #008080; font-weight: bold\">1.4274</span>,      <span style=\"color: #008080; text-decoration-color: #008080; font-weight: bold\">1.1463</span>,     <span style=\"color: #008080; text-decoration-color: #008080; font-weight: bold\">0.90382</span>,     <span style=\"color: #008080; text-decoration-color: #008080; font-weight: bold\">0.66553</span>,     <span style=\"color: #008080; text-decoration-color: #008080; font-weight: bold\">0.96852</span>,      <span style=\"color: #008080; text-decoration-color: #008080; font-weight: bold\">1.1125</span>,      <span style=\"color: #008080; text-decoration-color: #008080; font-weight: bold\">1.3704</span>,      <span style=\"color: #008080; text-decoration-color: #008080; font-weight: bold\">1.1106</span>,     <span style=\"color: #008080; text-decoration-color: #008080; font-weight: bold\">0.99871</span>,     <span style=\"color: #008080; text-decoration-color: #008080; font-weight: bold\">0.92644</span>,     <span style=\"color: #008080; text-decoration-color: #008080; font-weight: bold\">0.56448</span>,     <span style=\"color: #008080; text-decoration-color: #008080; font-weight: bold\">0.31051</span>,      <span style=\"color: #008080; text-decoration-color: #008080; font-weight: bold\">-0.116</span>,\n",
       "         <span style=\"color: #008080; text-decoration-color: #008080; font-weight: bold\">-0.080681</span>,   <span style=\"color: #008080; text-decoration-color: #008080; font-weight: bold\">-0.023065</span>,    <span style=\"color: #008080; text-decoration-color: #008080; font-weight: bold\">0.029277</span>,     <span style=\"color: #008080; text-decoration-color: #008080; font-weight: bold\">0.29797</span>,      <span style=\"color: #008080; text-decoration-color: #008080; font-weight: bold\">0.3377</span>,      <span style=\"color: #008080; text-decoration-color: #008080; font-weight: bold\">0.3898</span>,     <span style=\"color: #008080; text-decoration-color: #008080; font-weight: bold\">0.18501</span>,    <span style=\"color: #008080; text-decoration-color: #008080; font-weight: bold\">-0.14862</span>,    <span style=\"color: #008080; text-decoration-color: #008080; font-weight: bold\">-0.37023</span>,    <span style=\"color: #008080; text-decoration-color: #008080; font-weight: bold\">-0.81959</span>,    <span style=\"color: #008080; text-decoration-color: #008080; font-weight: bold\">-0.35855</span>,    <span style=\"color: #008080; text-decoration-color: #008080; font-weight: bold\">-0.35186</span>,    <span style=\"color: #008080; text-decoration-color: #008080; font-weight: bold\">-0.17491</span>,    <span style=\"color: #008080; text-decoration-color: #008080; font-weight: bold\">-0.12257</span>,   <span style=\"color: #008080; text-decoration-color: #008080; font-weight: bold\">-0.069515</span>,   <span style=\"color: #008080; text-decoration-color: #008080; font-weight: bold\">-0.096931</span>,     <span style=\"color: #008080; text-decoration-color: #008080; font-weight: bold\">0.07339</span>,   <span style=\"color: #008080; text-decoration-color: #008080; font-weight: bold\">-0.035298</span>,    <span style=\"color: #008080; text-decoration-color: #008080; font-weight: bold\">-0.11377</span>,    <span style=\"color: #008080; text-decoration-color: #008080; font-weight: bold\">-0.30106</span>,    <span style=\"color: #008080; text-decoration-color: #008080; font-weight: bold\">-0.51173</span><span style=\"font-weight: bold\">]</span>, <span style=\"color: #808000; text-decoration-color: #808000\">dtype</span>=<span style=\"color: #800080; text-decoration-color: #800080\">float32</span><span style=\"font-weight: bold\">)</span>\n",
       "</pre>\n"
      ],
      "text/plain": [
       "\n",
       "\u001B[1;35marray\u001B[0m\u001B[1m(\u001B[0m\u001B[1m[\u001B[0m     \u001B[1;36m1.0576\u001B[0m,     \u001B[1;36m0.75535\u001B[0m,     \u001B[1;36m0.61279\u001B[0m,      \u001B[1;36m1.0851\u001B[0m,     \u001B[1;36m0.98348\u001B[0m,      \u001B[1;36m1.2274\u001B[0m,      \u001B[1;36m1.1777\u001B[0m,      \u001B[1;36m1.1343\u001B[0m,     \u001B[1;36m0.84324\u001B[0m,      \u001B[1;36m1.1453\u001B[0m,      \u001B[1;36m1.3338\u001B[0m,      \u001B[1;36m1.0147\u001B[0m,      \u001B[1;36m1.3584\u001B[0m,      \u001B[1;36m1.6034\u001B[0m,      \u001B[1;36m1.6625\u001B[0m,      \u001B[1;36m1.7077\u001B[0m,      \u001B[1;36m1.5615\u001B[0m,      \u001B[1;36m1.2957\u001B[0m,      \u001B[1;36m1.8764\u001B[0m,      \u001B[1;36m1.7837\u001B[0m,      \u001B[1;36m1.8689\u001B[0m,      \u001B[1;36m2.1458\u001B[0m,      \u001B[1;36m2.1344\u001B[0m,      \u001B[1;36m2.2308\u001B[0m,\n",
       "            \u001B[1;36m2.3477\u001B[0m,      \u001B[1;36m2.3918\u001B[0m,      \u001B[1;36m2.2935\u001B[0m,      \u001B[1;36m2.5938\u001B[0m,      \u001B[1;36m2.4714\u001B[0m,      \u001B[1;36m2.2384\u001B[0m,      \u001B[1;36m2.4554\u001B[0m,      \u001B[1;36m2.6416\u001B[0m,      \u001B[1;36m2.4339\u001B[0m,      \u001B[1;36m2.7062\u001B[0m,      \u001B[1;36m2.6185\u001B[0m,       \u001B[1;36m2.913\u001B[0m,      \u001B[1;36m3.0856\u001B[0m,       \u001B[1;36m3.023\u001B[0m,       \u001B[1;36m3.157\u001B[0m,       \u001B[1;36m3.358\u001B[0m,      \u001B[1;36m3.3309\u001B[0m,      \u001B[1;36m3.7503\u001B[0m,      \u001B[1;36m4.1175\u001B[0m,      \u001B[1;36m4.1849\u001B[0m,      \u001B[1;36m4.3719\u001B[0m,      \u001B[1;36m4.7161\u001B[0m,      \u001B[1;36m4.8092\u001B[0m,      \u001B[1;36m4.8297\u001B[0m,\n",
       "            \u001B[1;36m4.9574\u001B[0m,      \u001B[1;36m4.5543\u001B[0m,      \u001B[1;36m4.4712\u001B[0m,       \u001B[1;36m4.678\u001B[0m,      \u001B[1;36m4.5229\u001B[0m,      \u001B[1;36m4.9664\u001B[0m,      \u001B[1;36m5.1861\u001B[0m,      \u001B[1;36m5.3828\u001B[0m,      \u001B[1;36m6.0487\u001B[0m,      \u001B[1;36m5.3292\u001B[0m,      \u001B[1;36m5.5194\u001B[0m,      \u001B[1;36m5.4464\u001B[0m,      \u001B[1;36m5.7595\u001B[0m,      \u001B[1;36m5.4803\u001B[0m,       \u001B[1;36m5.153\u001B[0m,      \u001B[1;36m5.4395\u001B[0m,      \u001B[1;36m5.8605\u001B[0m,      \u001B[1;36m5.7091\u001B[0m,      \u001B[1;36m6.0818\u001B[0m,      \u001B[1;36m6.3755\u001B[0m,      \u001B[1;36m5.5235\u001B[0m,      \u001B[1;36m5.3666\u001B[0m,      \u001B[1;36m5.1927\u001B[0m,      \u001B[1;36m5.6141\u001B[0m,\n",
       "            \u001B[1;36m6.5353\u001B[0m,      \u001B[1;36m6.3837\u001B[0m,      \u001B[1;36m6.6306\u001B[0m,      \u001B[1;36m7.2097\u001B[0m,      \u001B[1;36m6.9096\u001B[0m,      \u001B[1;36m6.5598\u001B[0m,      \u001B[1;36m5.9088\u001B[0m,      \u001B[1;36m6.1128\u001B[0m,      \u001B[1;36m6.0088\u001B[0m,      \u001B[1;36m5.8607\u001B[0m,      \u001B[1;36m6.2576\u001B[0m,      \u001B[1;36m7.1367\u001B[0m,      \u001B[1;36m7.5486\u001B[0m,      \u001B[1;36m7.7455\u001B[0m,      \u001B[1;36m7.8373\u001B[0m,      \u001B[1;36m6.9184\u001B[0m,      \u001B[1;36m6.8055\u001B[0m,       \u001B[1;36m6.828\u001B[0m,      \u001B[1;36m6.5625\u001B[0m,      \u001B[1;36m6.9385\u001B[0m,      \u001B[1;36m7.9496\u001B[0m,      \u001B[1;36m7.8367\u001B[0m,      \u001B[1;36m7.5662\u001B[0m,      \u001B[1;36m7.2623\u001B[0m,\n",
       "            \u001B[1;36m6.7912\u001B[0m,      \u001B[1;36m6.7275\u001B[0m,      \u001B[1;36m7.0486\u001B[0m,      \u001B[1;36m6.8193\u001B[0m,      \u001B[1;36m6.4097\u001B[0m,      \u001B[1;36m6.7239\u001B[0m,      \u001B[1;36m6.3621\u001B[0m,      \u001B[1;36m6.8948\u001B[0m,      \u001B[1;36m6.3259\u001B[0m,      \u001B[1;36m6.5799\u001B[0m,      \u001B[1;36m6.9572\u001B[0m,      \u001B[1;36m6.8477\u001B[0m,      \u001B[1;36m6.3554\u001B[0m,       \u001B[1;36m6.353\u001B[0m,      \u001B[1;36m6.3557\u001B[0m,      \u001B[1;36m6.3064\u001B[0m,      \u001B[1;36m5.7302\u001B[0m,       \u001B[1;36m6.411\u001B[0m,      \u001B[1;36m5.7928\u001B[0m,       \u001B[1;36m5.793\u001B[0m,      \u001B[1;36m5.9009\u001B[0m,      \u001B[1;36m6.2703\u001B[0m,      \u001B[1;36m6.0853\u001B[0m,      \u001B[1;36m6.0086\u001B[0m,\n",
       "            \u001B[1;36m5.8901\u001B[0m,      \u001B[1;36m5.7972\u001B[0m,      \u001B[1;36m6.0456\u001B[0m,      \u001B[1;36m5.4189\u001B[0m,      \u001B[1;36m5.7059\u001B[0m,      \u001B[1;36m5.6925\u001B[0m,      \u001B[1;36m6.2125\u001B[0m,      \u001B[1;36m6.1785\u001B[0m,       \u001B[1;36m6.223\u001B[0m,      \u001B[1;36m6.0308\u001B[0m,      \u001B[1;36m6.0276\u001B[0m,      \u001B[1;36m6.2949\u001B[0m,      \u001B[1;36m5.9465\u001B[0m,      \u001B[1;36m5.7773\u001B[0m,      \u001B[1;36m5.7773\u001B[0m,      \u001B[1;36m5.6714\u001B[0m,      \u001B[1;36m5.4984\u001B[0m,      \u001B[1;36m5.5796\u001B[0m,      \u001B[1;36m5.8374\u001B[0m,      \u001B[1;36m6.6452\u001B[0m,      \u001B[1;36m6.5646\u001B[0m,      \u001B[1;36m6.1842\u001B[0m,      \u001B[1;36m5.9929\u001B[0m,       \u001B[1;36m5.837\u001B[0m,\n",
       "            \u001B[1;36m5.8278\u001B[0m,      \u001B[1;36m5.7395\u001B[0m,      \u001B[1;36m5.8664\u001B[0m,      \u001B[1;36m6.3138\u001B[0m,      \u001B[1;36m5.8629\u001B[0m,      \u001B[1;36m5.7749\u001B[0m,      \u001B[1;36m5.8036\u001B[0m,      \u001B[1;36m5.4016\u001B[0m,      \u001B[1;36m5.4986\u001B[0m,      \u001B[1;36m5.4154\u001B[0m,       \u001B[1;36m5.137\u001B[0m,      \u001B[1;36m4.9396\u001B[0m,      \u001B[1;36m5.6179\u001B[0m,      \u001B[1;36m5.7266\u001B[0m,      \u001B[1;36m5.9078\u001B[0m,      \u001B[1;36m6.1857\u001B[0m,      \u001B[1;36m5.5203\u001B[0m,      \u001B[1;36m5.5227\u001B[0m,      \u001B[1;36m5.1408\u001B[0m,      \u001B[1;36m4.9837\u001B[0m,      \u001B[1;36m4.9921\u001B[0m,      \u001B[1;36m5.4907\u001B[0m,      \u001B[1;36m5.5222\u001B[0m,      \u001B[1;36m5.8321\u001B[0m,\n",
       "            \u001B[1;36m5.7704\u001B[0m,      \u001B[1;36m6.4434\u001B[0m,      \u001B[1;36m6.3876\u001B[0m,      \u001B[1;36m6.1723\u001B[0m,       \u001B[1;36m5.828\u001B[0m,      \u001B[1;36m5.1822\u001B[0m,      \u001B[1;36m5.4056\u001B[0m,      \u001B[1;36m5.3765\u001B[0m,      \u001B[1;36m5.5137\u001B[0m,      \u001B[1;36m5.7408\u001B[0m,      \u001B[1;36m6.2551\u001B[0m,      \u001B[1;36m5.7668\u001B[0m,      \u001B[1;36m6.5068\u001B[0m,      \u001B[1;36m6.4032\u001B[0m,       \u001B[1;36m6.011\u001B[0m,      \u001B[1;36m6.0578\u001B[0m,       \u001B[1;36m6.386\u001B[0m,      \u001B[1;36m6.6563\u001B[0m,      \u001B[1;36m7.1603\u001B[0m,      \u001B[1;36m7.6444\u001B[0m,      \u001B[1;36m7.8505\u001B[0m,      \u001B[1;36m7.8439\u001B[0m,      \u001B[1;36m7.5088\u001B[0m,      \u001B[1;36m7.0582\u001B[0m,\n",
       "            \u001B[1;36m6.8136\u001B[0m,      \u001B[1;36m6.1616\u001B[0m,      \u001B[1;36m6.5068\u001B[0m,      \u001B[1;36m6.3079\u001B[0m,      \u001B[1;36m6.4237\u001B[0m,      \u001B[1;36m6.5177\u001B[0m,      \u001B[1;36m6.3913\u001B[0m,      \u001B[1;36m6.8143\u001B[0m,      \u001B[1;36m7.0009\u001B[0m,      \u001B[1;36m6.8693\u001B[0m,      \u001B[1;36m6.6605\u001B[0m,      \u001B[1;36m6.4277\u001B[0m,      \u001B[1;36m6.9598\u001B[0m,       \u001B[1;36m6.867\u001B[0m,      \u001B[1;36m6.5859\u001B[0m,      \u001B[1;36m7.1919\u001B[0m,      \u001B[1;36m6.9227\u001B[0m,      \u001B[1;36m7.3634\u001B[0m,      \u001B[1;36m7.3907\u001B[0m,      \u001B[1;36m6.7622\u001B[0m,       \u001B[1;36m6.671\u001B[0m,      \u001B[1;36m6.3515\u001B[0m,      \u001B[1;36m6.5912\u001B[0m,      \u001B[1;36m6.3281\u001B[0m,\n",
       "            \u001B[1;36m7.0992\u001B[0m,      \u001B[1;36m6.9244\u001B[0m,      \u001B[1;36m7.0869\u001B[0m,      \u001B[1;36m7.2118\u001B[0m,      \u001B[1;36m7.0761\u001B[0m,      \u001B[1;36m7.0738\u001B[0m,      \u001B[1;36m6.7704\u001B[0m,      \u001B[1;36m6.2366\u001B[0m,      \u001B[1;36m6.4152\u001B[0m,      \u001B[1;36m6.6781\u001B[0m,      \u001B[1;36m7.2409\u001B[0m,      \u001B[1;36m7.5565\u001B[0m,       \u001B[1;36m6.718\u001B[0m,      \u001B[1;36m6.8842\u001B[0m,      \u001B[1;36m6.8017\u001B[0m,      \u001B[1;36m6.5976\u001B[0m,      \u001B[1;36m6.1257\u001B[0m,      \u001B[1;36m6.4162\u001B[0m,       \u001B[1;36m6.636\u001B[0m,      \u001B[1;36m7.1224\u001B[0m,      \u001B[1;36m7.0709\u001B[0m,      \u001B[1;36m6.8143\u001B[0m,      \u001B[1;36m6.6847\u001B[0m,      \u001B[1;36m6.2637\u001B[0m,\n",
       "            \u001B[1;36m5.7615\u001B[0m,      \u001B[1;36m5.6216\u001B[0m,       \u001B[1;36m5.383\u001B[0m,      \u001B[1;36m5.6976\u001B[0m,      \u001B[1;36m5.6897\u001B[0m,      \u001B[1;36m5.5667\u001B[0m,      \u001B[1;36m5.8508\u001B[0m,      \u001B[1;36m6.4278\u001B[0m,      \u001B[1;36m5.9064\u001B[0m,      \u001B[1;36m5.3155\u001B[0m,      \u001B[1;36m5.0602\u001B[0m,      \u001B[1;36m4.9927\u001B[0m,      \u001B[1;36m5.0827\u001B[0m,      \u001B[1;36m4.7095\u001B[0m,      \u001B[1;36m4.8294\u001B[0m,      \u001B[1;36m5.1817\u001B[0m,      \u001B[1;36m5.5762\u001B[0m,      \u001B[1;36m5.6879\u001B[0m,      \u001B[1;36m5.9555\u001B[0m,      \u001B[1;36m5.5613\u001B[0m,      \u001B[1;36m5.5188\u001B[0m,      \u001B[1;36m5.2146\u001B[0m,      \u001B[1;36m4.9673\u001B[0m,      \u001B[1;36m5.3296\u001B[0m,\n",
       "            \u001B[1;36m5.7961\u001B[0m,      \u001B[1;36m5.6952\u001B[0m,      \u001B[1;36m5.9506\u001B[0m,      \u001B[1;36m5.3238\u001B[0m,      \u001B[1;36m5.5528\u001B[0m,      \u001B[1;36m4.6774\u001B[0m,      \u001B[1;36m4.1487\u001B[0m,      \u001B[1;36m4.1835\u001B[0m,      \u001B[1;36m4.1734\u001B[0m,      \u001B[1;36m4.7533\u001B[0m,      \u001B[1;36m4.4775\u001B[0m,      \u001B[1;36m5.1795\u001B[0m,      \u001B[1;36m5.3144\u001B[0m,      \u001B[1;36m5.3597\u001B[0m,      \u001B[1;36m4.4918\u001B[0m,      \u001B[1;36m3.2521\u001B[0m,      \u001B[1;36m3.2287\u001B[0m,      \u001B[1;36m3.4666\u001B[0m,      \u001B[1;36m3.1447\u001B[0m,      \u001B[1;36m2.9533\u001B[0m,      \u001B[1;36m2.9761\u001B[0m,      \u001B[1;36m3.4802\u001B[0m,      \u001B[1;36m2.8642\u001B[0m,      \u001B[1;36m2.3823\u001B[0m,\n",
       "            \u001B[1;36m2.0356\u001B[0m,      \u001B[1;36m1.9022\u001B[0m,      \u001B[1;36m1.7262\u001B[0m,      \u001B[1;36m1.7158\u001B[0m,       \u001B[1;36m1.699\u001B[0m,      \u001B[1;36m1.5565\u001B[0m,      \u001B[1;36m2.3857\u001B[0m,      \u001B[1;36m2.4402\u001B[0m,      \u001B[1;36m2.7255\u001B[0m,      \u001B[1;36m2.6212\u001B[0m,      \u001B[1;36m1.7492\u001B[0m,      \u001B[1;36m1.4274\u001B[0m,      \u001B[1;36m1.1463\u001B[0m,     \u001B[1;36m0.90382\u001B[0m,     \u001B[1;36m0.66553\u001B[0m,     \u001B[1;36m0.96852\u001B[0m,      \u001B[1;36m1.1125\u001B[0m,      \u001B[1;36m1.3704\u001B[0m,      \u001B[1;36m1.1106\u001B[0m,     \u001B[1;36m0.99871\u001B[0m,     \u001B[1;36m0.92644\u001B[0m,     \u001B[1;36m0.56448\u001B[0m,     \u001B[1;36m0.31051\u001B[0m,      \u001B[1;36m-0.116\u001B[0m,\n",
       "         \u001B[1;36m-0.080681\u001B[0m,   \u001B[1;36m-0.023065\u001B[0m,    \u001B[1;36m0.029277\u001B[0m,     \u001B[1;36m0.29797\u001B[0m,      \u001B[1;36m0.3377\u001B[0m,      \u001B[1;36m0.3898\u001B[0m,     \u001B[1;36m0.18501\u001B[0m,    \u001B[1;36m-0.14862\u001B[0m,    \u001B[1;36m-0.37023\u001B[0m,    \u001B[1;36m-0.81959\u001B[0m,    \u001B[1;36m-0.35855\u001B[0m,    \u001B[1;36m-0.35186\u001B[0m,    \u001B[1;36m-0.17491\u001B[0m,    \u001B[1;36m-0.12257\u001B[0m,   \u001B[1;36m-0.069515\u001B[0m,   \u001B[1;36m-0.096931\u001B[0m,     \u001B[1;36m0.07339\u001B[0m,   \u001B[1;36m-0.035298\u001B[0m,    \u001B[1;36m-0.11377\u001B[0m,    \u001B[1;36m-0.30106\u001B[0m,    \u001B[1;36m-0.51173\u001B[0m\u001B[1m]\u001B[0m, \u001B[33mdtype\u001B[0m=\u001B[35mfloat32\u001B[0m\u001B[1m)\u001B[0m\n"
      ]
     },
     "metadata": {},
     "output_type": "display_data"
    }
   ],
   "source": [
    "test_image_reps_arr = np.concatenate(test_image_reps, axis=0)\n",
    "test_preds = reg.predict(test_image_reps_arr)\n",
    "test_preds"
   ]
  },
  {
   "cell_type": "code",
   "execution_count": 12,
   "id": "e0ba65bb-ddf2-45f3-a121-b66e8fbe3224",
   "metadata": {
    "tags": []
   },
   "outputs": [
    {
     "data": {
      "text/html": [
       "<pre style=\"white-space:pre;overflow-x:auto;line-height:normal;font-family:Menlo,'DejaVu Sans Mono',consolas,'Courier New',monospace\"><span style=\"color: #008080; text-decoration-color: #008080; font-weight: bold\">0.8390444381100995</span>\n",
       "</pre>\n"
      ],
      "text/plain": [
       "\u001B[1;36m0.8390444381100995\u001B[0m\n"
      ]
     },
     "metadata": {},
     "output_type": "display_data"
    }
   ],
   "source": [
    "errors = test_preds - test_flower_counts\n",
    "np.mean(np.abs(errors))"
   ]
  },
  {
   "cell_type": "code",
   "execution_count": 13,
   "id": "2e929358-790f-4dd5-bb00-6e35baf2838b",
   "metadata": {
    "tags": []
   },
   "outputs": [
    {
     "name": "stdout",
     "output_type": "stream",
     "text": [
      "2023-03-03 12:30:42,710 - py.warnings - WARNING - /home/daniel/git/self-supervised-learning/.venv/lib/python3.9/site-packages/seaborn/rcmod.py:400: DeprecationWarning: distutils Version classes are deprecated. Use packaging.version instead.\n",
      "  if LooseVersion(mpl.__version__) >= \"3.0\":\n",
      "\n",
      "2023-03-03 12:30:42,711 - py.warnings - WARNING - /home/daniel/git/self-supervised-learning/.venv/lib/python3.9/site-packages/setuptools/_distutils/version.py:346: DeprecationWarning: distutils Version classes are deprecated. Use packaging.version instead.\n",
      "  other = LooseVersion(other)\n",
      "\n"
     ]
    },
    {
     "data": {
      "image/png": "[encoded data removed]"
     },
     "metadata": {},
     "output_type": "display_data"
    }
   ],
   "source": [
    "%matplotlib inline\n",
    "import seaborn as sns\n",
    "import matplotlib.pyplot as plt\n",
    "\n",
    "sns.set()\n",
    "\n",
    "sns.regplot(x=test_preds, y=test_flower_counts)\n",
    "plt.show()"
   ]
  },
  {
   "cell_type": "code",
   "execution_count": 14,
   "id": "edbe2b6a-40f5-457c-98b9-80735eef556c",
   "metadata": {},
   "outputs": [
    {
     "data": {
      "image/png": "[encoded data removed]"
     },
     "metadata": {},
     "output_type": "display_data"
    }
   ],
   "source": [
    "sns.histplot(x=errors)"
   ]
  },
  {
   "cell_type": "code",
   "execution_count": null,
   "id": "0e8dd73c-0f3b-4e13-ad22-636b0f095cac",
   "metadata": {},
   "outputs": [],
   "source": []
  }
 ],
 "metadata": {
  "kernelspec": {
   "display_name": "Kedro (self_supervised)",
   "language": "python",
   "name": "kedro_self_supervised"
  },
  "language_info": {
   "codemirror_mode": {
    "name": "ipython",
    "version": 3
   },
   "file_extension": ".py",
   "mimetype": "text/x-python",
   "name": "python",
   "nbconvert_exporter": "python",
   "pygments_lexer": "ipython3",
   "version": "3.9.16"
  }
 },
 "nbformat": 4,
 "nbformat_minor": 5
}
