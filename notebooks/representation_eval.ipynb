{
 "cells": [
  {
   "cell_type": "code",
   "execution_count": 1,
   "id": "acfda911-ae74-4318-a246-949fe66cdd10",
   "metadata": {
    "tags": []
   },
   "outputs": [
    {
     "name": "stdout",
     "output_type": "stream",
     "text": [
      "2023-03-07 14:27:59,129 - py.warnings - WARNING - /home/daniel/git/self-supervised-learning/.venv/lib/python3.10/site-packages/thop/profile.py:12: DeprecationWarning: distutils Version classes are deprecated. Use packaging.version instead.\n",
      "  if LooseVersion(torch.__version__) < LooseVersion(\"1.0.0\"):\n",
      "\n",
      "2023-03-07 14:27:59,129 - py.warnings - WARNING - /home/daniel/git/self-supervised-learning/.venv/lib/python3.10/site-packages/thop/profile.py:68: DeprecationWarning: distutils Version classes are deprecated. Use packaging.version instead.\n",
      "  if LooseVersion(torch.__version__) >= LooseVersion(\"1.1.0\"):\n",
      "\n",
      "2023-03-07 14:27:59,248 - py.warnings - WARNING - /home/daniel/git/self-supervised-learning/.venv/lib/python3.10/site-packages/seaborn/rcmod.py:82: DeprecationWarning: distutils Version classes are deprecated. Use packaging.version instead.\n",
      "  if LooseVersion(mpl.__version__) >= \"3.0\":\n",
      "\n",
      "2023-03-07 14:27:59,249 - py.warnings - WARNING - /home/daniel/git/self-supervised-learning/.venv/lib/python3.10/site-packages/setuptools/_distutils/version.py:346: DeprecationWarning: distutils Version classes are deprecated. Use packaging.version instead.\n",
      "  other = LooseVersion(other)\n",
      "\n",
      "2023-03-07 14:27:59,256 - py.warnings - WARNING - /home/daniel/git/self-supervised-learning/.venv/lib/python3.10/site-packages/seaborn/cm.py:1582: MatplotlibDeprecationWarning: The register_cmap function was deprecated in Matplotlib 3.7 and will be removed two minor releases later. Use ``matplotlib.colormaps.register(name)`` instead.\n",
      "  mpl_cm.register_cmap(_name, _cmap)\n",
      "\n",
      "2023-03-07 14:27:59,257 - py.warnings - WARNING - /home/daniel/git/self-supervised-learning/.venv/lib/python3.10/site-packages/seaborn/cm.py:1583: MatplotlibDeprecationWarning: The register_cmap function was deprecated in Matplotlib 3.7 and will be removed two minor releases later. Use ``matplotlib.colormaps.register(name)`` instead.\n",
      "  mpl_cm.register_cmap(_name + \"_r\", _cmap_r)\n",
      "\n",
      "2023-03-07 14:27:59,260 - kedro.ipython - INFO - Resolved project path as: /home/daniel/git/self-supervised-learning.\n",
      "To set a different path, run '%reload_kedro <project_root>'\n",
      "2023-03-07 14:27:59,262 - py.warnings - WARNING - /home/daniel/git/self-supervised-learning/.venv/lib/python3.10/site-packages/kedro/framework/startup.py:98: DeprecationWarning: project_version in pyproject.toml is deprecated, use kedro_init_version instead\n",
      "  warnings.warn(\n",
      "\n",
      "2023-03-07 14:27:59,485 - kedro.ipython - INFO - Kedro project Self-Supervised Learning\n",
      "2023-03-07 14:27:59,485 - kedro.ipython - INFO - Defined global variable 'context', 'session', 'catalog' and 'pipelines'\n",
      "2023-03-07 14:27:59,490 - kedro.io.data_catalog - INFO - Loading data from 'yolov5_l_description' (YAMLDataSet)...\n",
      "2023-03-07 14:27:59,495 - kedro.io.data_catalog - INFO - Loading data from 'trained_model' (PytorchModelDataSet)...\n"
     ]
    },
    {
     "name": "stderr",
     "output_type": "stream",
     "text": [
      "2023-03-07 14:27:59.496 | WARNING  | self_supervised.extras.datasets.pytorch_model_data_set:_load:42 - CUDA not available, automatically mapping variables to the CPU.\n"
     ]
    }
   ],
   "source": [
    "from self_supervised.pipelines.representation_model import RepresentationModel, YoloEncoder\n",
    "\n",
    "%reload_kedro\n",
    "model_description = catalog.load(\"yolov5_l_description\")\n",
    "trained_model = catalog.load(\"trained_model\")\n",
    "#encoder = YoloEncoder(model_description=model_description)\n",
    "#trained_model = RepresentationModel(encoder=encoder)\n",
    "trained_model = trained_model.eval()"
   ]
  },
  {
   "cell_type": "code",
   "execution_count": 2,
   "id": "c1878dbc-46f2-463f-b313-6dc1aed75b69",
   "metadata": {
    "tags": []
   },
   "outputs": [],
   "source": [
    "from pathlib import Path\n",
    "\n",
    "dataset_path = Path(\"/home/daniel/lab_share/projects/CottonFlower2021/flower_dataset\")\n",
    "image_dir = dataset_path / \"flower01\" / \"images\""
   ]
  },
  {
   "cell_type": "code",
   "execution_count": 3,
   "id": "5a67e6c7-88c4-40b3-a33d-1a67a76f0d5f",
   "metadata": {
    "tags": []
   },
   "outputs": [
    {
     "name": "stderr",
     "output_type": "stream",
     "text": [
      "100%|██████████████████████████████████████████████████████████████████████████████████████████████████████████████████████████████████████████████████████████████████████████████████████████████████████████████████████████████████████████████████████████████████████████████████████████████████████████████████████████████| 458/458 [01:06<00:00,  6.85it/s]\n"
     ]
    }
   ],
   "source": [
    "from torchvision.io import read_image\n",
    "from torchvision.transforms.functional import resize\n",
    "from tqdm import tqdm\n",
    "import torch\n",
    "\n",
    "image_reps = []\n",
    "\n",
    "image_list = sorted(list(image_dir.iterdir()))\n",
    "for image_path in tqdm(image_list):\n",
    "    image = read_image(image_path.as_posix())\n",
    "    image.requires_grad = False\n",
    "    image = resize(image, (512, 512))\n",
    "    image = image.to(torch.float) / 255\n",
    "    image_ex = image[None, :, :, :]\n",
    "    \n",
    "    image_reps.append(trained_model(image_ex)[0].detach().numpy())"
   ]
  },
  {
   "cell_type": "code",
   "execution_count": 4,
   "id": "43808fe8-1319-464a-8977-4e7f42db135f",
   "metadata": {
    "tags": []
   },
   "outputs": [
    {
     "data": {
      "text/html": [
       "<div>\n",
       "<style scoped>\n",
       "    .dataframe tbody tr th:only-of-type {\n",
       "        vertical-align: middle;\n",
       "    }\n",
       "\n",
       "    .dataframe tbody tr th {\n",
       "        vertical-align: top;\n",
       "    }\n",
       "\n",
       "    .dataframe thead th {\n",
       "        text-align: right;\n",
       "    }\n",
       "</style>\n",
       "<table border=\"1\" class=\"dataframe\">\n",
       "  <thead>\n",
       "    <tr style=\"text-align: right;\">\n",
       "      <th></th>\n",
       "      <th>class</th>\n",
       "      <th>x</th>\n",
       "      <th>y</th>\n",
       "      <th>width</th>\n",
       "      <th>height</th>\n",
       "      <th>frame</th>\n",
       "    </tr>\n",
       "  </thead>\n",
       "  <tbody>\n",
       "    <tr>\n",
       "      <th>0</th>\n",
       "      <td>0</td>\n",
       "      <td>0.635938</td>\n",
       "      <td>0.238889</td>\n",
       "      <td>0.020833</td>\n",
       "      <td>0.037037</td>\n",
       "      <td>000001.txt</td>\n",
       "    </tr>\n",
       "    <tr>\n",
       "      <th>1</th>\n",
       "      <td>0</td>\n",
       "      <td>0.379427</td>\n",
       "      <td>0.065278</td>\n",
       "      <td>0.015104</td>\n",
       "      <td>0.034259</td>\n",
       "      <td>000001.txt</td>\n",
       "    </tr>\n",
       "    <tr>\n",
       "      <th>2</th>\n",
       "      <td>0</td>\n",
       "      <td>0.634375</td>\n",
       "      <td>0.245370</td>\n",
       "      <td>0.020833</td>\n",
       "      <td>0.037037</td>\n",
       "      <td>000002.txt</td>\n",
       "    </tr>\n",
       "    <tr>\n",
       "      <th>3</th>\n",
       "      <td>0</td>\n",
       "      <td>0.379948</td>\n",
       "      <td>0.068981</td>\n",
       "      <td>0.015104</td>\n",
       "      <td>0.034259</td>\n",
       "      <td>000002.txt</td>\n",
       "    </tr>\n",
       "    <tr>\n",
       "      <th>4</th>\n",
       "      <td>0</td>\n",
       "      <td>0.379948</td>\n",
       "      <td>0.069907</td>\n",
       "      <td>0.015104</td>\n",
       "      <td>0.034259</td>\n",
       "      <td>000003.txt</td>\n",
       "    </tr>\n",
       "    <tr>\n",
       "      <th>...</th>\n",
       "      <td>...</td>\n",
       "      <td>...</td>\n",
       "      <td>...</td>\n",
       "      <td>...</td>\n",
       "      <td>...</td>\n",
       "      <td>...</td>\n",
       "    </tr>\n",
       "    <tr>\n",
       "      <th>1987</th>\n",
       "      <td>0</td>\n",
       "      <td>0.495833</td>\n",
       "      <td>0.971759</td>\n",
       "      <td>0.030208</td>\n",
       "      <td>0.052778</td>\n",
       "      <td>000383.txt</td>\n",
       "    </tr>\n",
       "    <tr>\n",
       "      <th>1988</th>\n",
       "      <td>0</td>\n",
       "      <td>0.496875</td>\n",
       "      <td>0.976852</td>\n",
       "      <td>0.030208</td>\n",
       "      <td>0.046296</td>\n",
       "      <td>000384.txt</td>\n",
       "    </tr>\n",
       "    <tr>\n",
       "      <th>1989</th>\n",
       "      <td>0</td>\n",
       "      <td>0.497656</td>\n",
       "      <td>0.980093</td>\n",
       "      <td>0.028646</td>\n",
       "      <td>0.037963</td>\n",
       "      <td>000385.txt</td>\n",
       "    </tr>\n",
       "    <tr>\n",
       "      <th>1990</th>\n",
       "      <td>0</td>\n",
       "      <td>0.497135</td>\n",
       "      <td>0.986111</td>\n",
       "      <td>0.028646</td>\n",
       "      <td>0.027778</td>\n",
       "      <td>000386.txt</td>\n",
       "    </tr>\n",
       "    <tr>\n",
       "      <th>1991</th>\n",
       "      <td>0</td>\n",
       "      <td>0.497656</td>\n",
       "      <td>0.991667</td>\n",
       "      <td>0.028646</td>\n",
       "      <td>0.016667</td>\n",
       "      <td>000387.txt</td>\n",
       "    </tr>\n",
       "  </tbody>\n",
       "</table>\n",
       "<p>1992 rows × 6 columns</p>\n",
       "</div>"
      ]
     },
     "execution_count": 4,
     "metadata": {},
     "output_type": "execute_result"
    }
   ],
   "source": [
    "# Load flower counts.\n",
    "import pandas as pd\n",
    "\n",
    "labels_dir = dataset_path / \"flower01\" / \"labels\"\n",
    "all_labels = []\n",
    "labels_list = sorted(list(labels_dir.iterdir()))\n",
    "for labels_path in labels_list:\n",
    "    frame_labels = pd.read_csv(labels_path, sep=\" \", names=[\"class\", \"x\", \"y\", \"width\", \"height\"])\n",
    "    frame_labels[\"frame\"] = labels_path.name\n",
    "    all_labels.append(frame_labels)\n",
    "    \n",
    "all_labels = pd.concat(all_labels, ignore_index=True)\n",
    "all_labels"
   ]
  },
  {
   "cell_type": "code",
   "execution_count": 5,
   "id": "96a261b8-3343-4c52-a567-4a94fcbc3964",
   "metadata": {
    "tags": []
   },
   "outputs": [],
   "source": [
    "import numpy as np\n",
    "\n",
    "# Create flower counts labels.\n",
    "flower_counts = []\n",
    "for image_path in labels_list:\n",
    "    flower_counts.append(np.count_nonzero(all_labels[\"frame\"] == image_path.name))\n",
    "    \n",
    "# Any missing counts are zeros.\n",
    "for _ in range(len(flower_counts), len(image_reps)):\n",
    "    flower_counts.append(0)"
   ]
  },
  {
   "cell_type": "code",
   "execution_count": 6,
   "id": "8cd84dd2-fc0b-482e-b69a-7bed0e95f7e5",
   "metadata": {
    "tags": []
   },
   "outputs": [
    {
     "name": "stderr",
     "output_type": "stream",
     "text": [
      "100%|██████████████████████████████████████████████████████████████████████████████████████████████████████████████████████████████████████████████████████████████████████████████████████████████████████████████████████████████████████████████████████████████████████████████████████████████████████████████████████████████| 333/333 [00:48<00:00,  6.88it/s]\n"
     ]
    }
   ],
   "source": [
    "test_image_dir = dataset_path / \"flower02\" / \"images\"\n",
    "\n",
    "test_image_reps = []\n",
    "\n",
    "image_list = sorted(list(test_image_dir.iterdir()))\n",
    "for image_path in tqdm(image_list):\n",
    "    image = read_image(image_path.as_posix())\n",
    "    image.requires_grad = False\n",
    "    image = resize(image, (512, 512))\n",
    "    image = image.to(torch.float) / 255\n",
    "    image_ex = image[None, :, :, :]\n",
    "    \n",
    "    test_image_reps.append(trained_model(image_ex)[0].detach().numpy())"
   ]
  },
  {
   "cell_type": "code",
   "execution_count": 7,
   "id": "1d4b4cc4-c178-4e22-be2e-d21b0bb5d899",
   "metadata": {
    "tags": []
   },
   "outputs": [
    {
     "data": {
      "text/html": [
       "<div>\n",
       "<style scoped>\n",
       "    .dataframe tbody tr th:only-of-type {\n",
       "        vertical-align: middle;\n",
       "    }\n",
       "\n",
       "    .dataframe tbody tr th {\n",
       "        vertical-align: top;\n",
       "    }\n",
       "\n",
       "    .dataframe thead th {\n",
       "        text-align: right;\n",
       "    }\n",
       "</style>\n",
       "<table border=\"1\" class=\"dataframe\">\n",
       "  <thead>\n",
       "    <tr style=\"text-align: right;\">\n",
       "      <th></th>\n",
       "      <th>class</th>\n",
       "      <th>x</th>\n",
       "      <th>y</th>\n",
       "      <th>width</th>\n",
       "      <th>height</th>\n",
       "      <th>frame</th>\n",
       "    </tr>\n",
       "  </thead>\n",
       "  <tbody>\n",
       "    <tr>\n",
       "      <th>0</th>\n",
       "      <td>0</td>\n",
       "      <td>0.407813</td>\n",
       "      <td>0.032870</td>\n",
       "      <td>0.014583</td>\n",
       "      <td>0.023148</td>\n",
       "      <td>000001.txt</td>\n",
       "    </tr>\n",
       "    <tr>\n",
       "      <th>1</th>\n",
       "      <td>0</td>\n",
       "      <td>0.408854</td>\n",
       "      <td>0.042130</td>\n",
       "      <td>0.014583</td>\n",
       "      <td>0.023148</td>\n",
       "      <td>000002.txt</td>\n",
       "    </tr>\n",
       "    <tr>\n",
       "      <th>2</th>\n",
       "      <td>0</td>\n",
       "      <td>0.408854</td>\n",
       "      <td>0.042130</td>\n",
       "      <td>0.014583</td>\n",
       "      <td>0.023148</td>\n",
       "      <td>000003.txt</td>\n",
       "    </tr>\n",
       "    <tr>\n",
       "      <th>3</th>\n",
       "      <td>0</td>\n",
       "      <td>0.408854</td>\n",
       "      <td>0.042130</td>\n",
       "      <td>0.014583</td>\n",
       "      <td>0.023148</td>\n",
       "      <td>000004.txt</td>\n",
       "    </tr>\n",
       "    <tr>\n",
       "      <th>4</th>\n",
       "      <td>0</td>\n",
       "      <td>0.408854</td>\n",
       "      <td>0.042130</td>\n",
       "      <td>0.014583</td>\n",
       "      <td>0.023148</td>\n",
       "      <td>000005.txt</td>\n",
       "    </tr>\n",
       "    <tr>\n",
       "      <th>...</th>\n",
       "      <td>...</td>\n",
       "      <td>...</td>\n",
       "      <td>...</td>\n",
       "      <td>...</td>\n",
       "      <td>...</td>\n",
       "      <td>...</td>\n",
       "    </tr>\n",
       "    <tr>\n",
       "      <th>1583</th>\n",
       "      <td>0</td>\n",
       "      <td>0.441406</td>\n",
       "      <td>0.814352</td>\n",
       "      <td>0.020313</td>\n",
       "      <td>0.036111</td>\n",
       "      <td>000287.txt</td>\n",
       "    </tr>\n",
       "    <tr>\n",
       "      <th>1584</th>\n",
       "      <td>0</td>\n",
       "      <td>0.437240</td>\n",
       "      <td>0.838426</td>\n",
       "      <td>0.020313</td>\n",
       "      <td>0.036111</td>\n",
       "      <td>000288.txt</td>\n",
       "    </tr>\n",
       "    <tr>\n",
       "      <th>1585</th>\n",
       "      <td>0</td>\n",
       "      <td>0.433073</td>\n",
       "      <td>0.858796</td>\n",
       "      <td>0.020313</td>\n",
       "      <td>0.036111</td>\n",
       "      <td>000289.txt</td>\n",
       "    </tr>\n",
       "    <tr>\n",
       "      <th>1586</th>\n",
       "      <td>0</td>\n",
       "      <td>0.434635</td>\n",
       "      <td>0.871759</td>\n",
       "      <td>0.011979</td>\n",
       "      <td>0.028704</td>\n",
       "      <td>000290.txt</td>\n",
       "    </tr>\n",
       "    <tr>\n",
       "      <th>1587</th>\n",
       "      <td>0</td>\n",
       "      <td>0.439844</td>\n",
       "      <td>0.879167</td>\n",
       "      <td>0.011979</td>\n",
       "      <td>0.028704</td>\n",
       "      <td>000291.txt</td>\n",
       "    </tr>\n",
       "  </tbody>\n",
       "</table>\n",
       "<p>1588 rows × 6 columns</p>\n",
       "</div>"
      ]
     },
     "execution_count": 7,
     "metadata": {},
     "output_type": "execute_result"
    }
   ],
   "source": [
    "test_labels_dir = dataset_path / \"flower02\" / \"labels\"\n",
    "all_labels_test = []\n",
    "labels_list = sorted(list(test_labels_dir.iterdir()))\n",
    "for labels_path in labels_list:\n",
    "    frame_labels = pd.read_csv(labels_path, sep=\" \", names=[\"class\", \"x\", \"y\", \"width\", \"height\"])\n",
    "    frame_labels[\"frame\"] = labels_path.name\n",
    "    all_labels_test.append(frame_labels)\n",
    "    \n",
    "all_labels_test = pd.concat(all_labels_test, ignore_index=True)\n",
    "all_labels_test"
   ]
  },
  {
   "cell_type": "code",
   "execution_count": 8,
   "id": "0543d1a7-4b18-4d0f-8536-3529a2cda92a",
   "metadata": {
    "tags": []
   },
   "outputs": [],
   "source": [
    "# Create flower counts.\n",
    "test_flower_counts = []\n",
    "for image_path in labels_list:\n",
    "    test_flower_counts.append(np.count_nonzero(all_labels_test[\"frame\"] == image_path.name))\n",
    "    \n",
    "# Any missing counts are zeros.\n",
    "for _ in range(len(test_flower_counts), len(test_image_reps)):\n",
    "    test_flower_counts.append(0)"
   ]
  },
  {
   "cell_type": "code",
   "execution_count": 9,
   "id": "1741b680-ed08-476e-9a0f-5cb5f0118805",
   "metadata": {
    "tags": []
   },
   "outputs": [],
   "source": [
    "# Create combined dataset.\n",
    "all_image_reps = image_reps + test_image_reps\n",
    "all_flower_counts = flower_counts + test_flower_counts\n",
    "train_indices = np.arange(len(image_reps))\n",
    "test_indices = np.arange(len(image_reps), len(all_image_reps))"
   ]
  },
  {
   "cell_type": "code",
   "execution_count": 10,
   "id": "8ca94b64-b75c-41e7-a3f3-459bd29de228",
   "metadata": {
    "tags": []
   },
   "outputs": [
    {
     "name": "stdout",
     "output_type": "stream",
     "text": [
      "2023-03-07 14:30:21,029 - py.warnings - WARNING - /home/daniel/git/self-supervised-learning/.venv/lib/python3.10/site-packages/sklearn/linear_model/_ridge.py:216: LinAlgWarning: Ill-conditioned matrix (rcond=1.96353e-08): result may not be accurate.\n",
      "  return linalg.solve(A, Xy, assume_a=\"pos\", overwrite_a=True).T\n",
      "\n"
     ]
    }
   ],
   "source": [
    "from sklearn.linear_model import RidgeCV\n",
    "\n",
    "all_flower_counts = np.array(all_flower_counts, dtype=float)\n",
    "all_image_reps_arr = np.concatenate(all_image_reps, axis=0)\n",
    "\n",
    "alphas = [1e-6, 1e-4, 0.01, 0.1, 1.0, 2.0, 4.0, 8.0, 16.0, 32.0, 64.0, 128.0]\n",
    "reg = RidgeCV(alphas=alphas, cv=((train_indices, test_indices),)).fit(all_image_reps_arr, all_flower_counts)"
   ]
  },
  {
   "cell_type": "code",
   "execution_count": 11,
   "id": "23cf629c-e859-47c7-92ac-593d56789b05",
   "metadata": {
    "tags": []
   },
   "outputs": [
    {
     "data": {
      "text/html": [
       "<pre style=\"white-space:pre;overflow-x:auto;line-height:normal;font-family:Menlo,'DejaVu Sans Mono',consolas,'Courier New',monospace\">\n",
       "<span style=\"color: #800080; text-decoration-color: #800080; font-weight: bold\">array</span><span style=\"font-weight: bold\">([</span>    <span style=\"color: #008080; text-decoration-color: #008080; font-weight: bold\">0.58056</span>,      <span style=\"color: #008080; text-decoration-color: #008080; font-weight: bold\">0.5641</span>,     <span style=\"color: #008080; text-decoration-color: #008080; font-weight: bold\">0.74656</span>,     <span style=\"color: #008080; text-decoration-color: #008080; font-weight: bold\">0.45662</span>,     <span style=\"color: #008080; text-decoration-color: #008080; font-weight: bold\">0.90921</span>,      <span style=\"color: #008080; text-decoration-color: #008080; font-weight: bold\">1.4635</span>,       <span style=\"color: #008080; text-decoration-color: #008080; font-weight: bold\">1.875</span>,      <span style=\"color: #008080; text-decoration-color: #008080; font-weight: bold\">1.3719</span>,      <span style=\"color: #008080; text-decoration-color: #008080; font-weight: bold\">1.1617</span>,      <span style=\"color: #008080; text-decoration-color: #008080; font-weight: bold\">1.2825</span>,      <span style=\"color: #008080; text-decoration-color: #008080; font-weight: bold\">1.2309</span>,      <span style=\"color: #008080; text-decoration-color: #008080; font-weight: bold\">1.0852</span>,     <span style=\"color: #008080; text-decoration-color: #008080; font-weight: bold\">0.89589</span>,     <span style=\"color: #008080; text-decoration-color: #008080; font-weight: bold\">0.48078</span>,      <span style=\"color: #008080; text-decoration-color: #008080; font-weight: bold\">0.9278</span>,      <span style=\"color: #008080; text-decoration-color: #008080; font-weight: bold\">1.0094</span>,      <span style=\"color: #008080; text-decoration-color: #008080; font-weight: bold\">0.6431</span>,      <span style=\"color: #008080; text-decoration-color: #008080; font-weight: bold\">1.7351</span>,      <span style=\"color: #008080; text-decoration-color: #008080; font-weight: bold\">2.3227</span>,      <span style=\"color: #008080; text-decoration-color: #008080; font-weight: bold\">1.8994</span>,       <span style=\"color: #008080; text-decoration-color: #008080; font-weight: bold\">1.516</span>,      <span style=\"color: #008080; text-decoration-color: #008080; font-weight: bold\">2.2096</span>,      <span style=\"color: #008080; text-decoration-color: #008080; font-weight: bold\">2.3904</span>,      <span style=\"color: #008080; text-decoration-color: #008080; font-weight: bold\">2.1751</span>,\n",
       "            <span style=\"color: #008080; text-decoration-color: #008080; font-weight: bold\">2.9011</span>,      <span style=\"color: #008080; text-decoration-color: #008080; font-weight: bold\">2.5875</span>,      <span style=\"color: #008080; text-decoration-color: #008080; font-weight: bold\">2.5877</span>,      <span style=\"color: #008080; text-decoration-color: #008080; font-weight: bold\">3.3114</span>,      <span style=\"color: #008080; text-decoration-color: #008080; font-weight: bold\">2.6957</span>,      <span style=\"color: #008080; text-decoration-color: #008080; font-weight: bold\">2.3799</span>,      <span style=\"color: #008080; text-decoration-color: #008080; font-weight: bold\">2.6058</span>,       <span style=\"color: #008080; text-decoration-color: #008080; font-weight: bold\">2.151</span>,      <span style=\"color: #008080; text-decoration-color: #008080; font-weight: bold\">2.1533</span>,      <span style=\"color: #008080; text-decoration-color: #008080; font-weight: bold\">2.9728</span>,      <span style=\"color: #008080; text-decoration-color: #008080; font-weight: bold\">2.8035</span>,      <span style=\"color: #008080; text-decoration-color: #008080; font-weight: bold\">3.1658</span>,      <span style=\"color: #008080; text-decoration-color: #008080; font-weight: bold\">4.1238</span>,      <span style=\"color: #008080; text-decoration-color: #008080; font-weight: bold\">3.6793</span>,      <span style=\"color: #008080; text-decoration-color: #008080; font-weight: bold\">4.2177</span>,      <span style=\"color: #008080; text-decoration-color: #008080; font-weight: bold\">3.9664</span>,      <span style=\"color: #008080; text-decoration-color: #008080; font-weight: bold\">3.4252</span>,       <span style=\"color: #008080; text-decoration-color: #008080; font-weight: bold\">3.867</span>,       <span style=\"color: #008080; text-decoration-color: #008080; font-weight: bold\">3.952</span>,      <span style=\"color: #008080; text-decoration-color: #008080; font-weight: bold\">3.4174</span>,      <span style=\"color: #008080; text-decoration-color: #008080; font-weight: bold\">4.0295</span>,      <span style=\"color: #008080; text-decoration-color: #008080; font-weight: bold\">4.6991</span>,      <span style=\"color: #008080; text-decoration-color: #008080; font-weight: bold\">4.8069</span>,      <span style=\"color: #008080; text-decoration-color: #008080; font-weight: bold\">4.5663</span>,\n",
       "            <span style=\"color: #008080; text-decoration-color: #008080; font-weight: bold\">4.3814</span>,      <span style=\"color: #008080; text-decoration-color: #008080; font-weight: bold\">4.3656</span>,      <span style=\"color: #008080; text-decoration-color: #008080; font-weight: bold\">3.8539</span>,      <span style=\"color: #008080; text-decoration-color: #008080; font-weight: bold\">4.4869</span>,      <span style=\"color: #008080; text-decoration-color: #008080; font-weight: bold\">4.4771</span>,       <span style=\"color: #008080; text-decoration-color: #008080; font-weight: bold\">4.722</span>,      <span style=\"color: #008080; text-decoration-color: #008080; font-weight: bold\">4.6282</span>,      <span style=\"color: #008080; text-decoration-color: #008080; font-weight: bold\">4.5298</span>,      <span style=\"color: #008080; text-decoration-color: #008080; font-weight: bold\">4.8702</span>,      <span style=\"color: #008080; text-decoration-color: #008080; font-weight: bold\">5.1029</span>,      <span style=\"color: #008080; text-decoration-color: #008080; font-weight: bold\">5.3018</span>,      <span style=\"color: #008080; text-decoration-color: #008080; font-weight: bold\">4.9713</span>,      <span style=\"color: #008080; text-decoration-color: #008080; font-weight: bold\">4.9985</span>,       <span style=\"color: #008080; text-decoration-color: #008080; font-weight: bold\">5.254</span>,      <span style=\"color: #008080; text-decoration-color: #008080; font-weight: bold\">5.8276</span>,      <span style=\"color: #008080; text-decoration-color: #008080; font-weight: bold\">5.7468</span>,      <span style=\"color: #008080; text-decoration-color: #008080; font-weight: bold\">6.1716</span>,      <span style=\"color: #008080; text-decoration-color: #008080; font-weight: bold\">6.2836</span>,      <span style=\"color: #008080; text-decoration-color: #008080; font-weight: bold\">6.3144</span>,      <span style=\"color: #008080; text-decoration-color: #008080; font-weight: bold\">6.6752</span>,      <span style=\"color: #008080; text-decoration-color: #008080; font-weight: bold\">6.5445</span>,      <span style=\"color: #008080; text-decoration-color: #008080; font-weight: bold\">6.4605</span>,      <span style=\"color: #008080; text-decoration-color: #008080; font-weight: bold\">6.6124</span>,      <span style=\"color: #008080; text-decoration-color: #008080; font-weight: bold\">5.8838</span>,\n",
       "            <span style=\"color: #008080; text-decoration-color: #008080; font-weight: bold\">6.8427</span>,      <span style=\"color: #008080; text-decoration-color: #008080; font-weight: bold\">6.5554</span>,       <span style=\"color: #008080; text-decoration-color: #008080; font-weight: bold\">7.039</span>,      <span style=\"color: #008080; text-decoration-color: #008080; font-weight: bold\">7.1157</span>,      <span style=\"color: #008080; text-decoration-color: #008080; font-weight: bold\">7.3677</span>,      <span style=\"color: #008080; text-decoration-color: #008080; font-weight: bold\">7.2441</span>,      <span style=\"color: #008080; text-decoration-color: #008080; font-weight: bold\">7.1763</span>,      <span style=\"color: #008080; text-decoration-color: #008080; font-weight: bold\">6.6101</span>,      <span style=\"color: #008080; text-decoration-color: #008080; font-weight: bold\">6.9875</span>,      <span style=\"color: #008080; text-decoration-color: #008080; font-weight: bold\">6.9305</span>,      <span style=\"color: #008080; text-decoration-color: #008080; font-weight: bold\">7.1935</span>,      <span style=\"color: #008080; text-decoration-color: #008080; font-weight: bold\">7.1349</span>,      <span style=\"color: #008080; text-decoration-color: #008080; font-weight: bold\">8.0322</span>,      <span style=\"color: #008080; text-decoration-color: #008080; font-weight: bold\">7.1695</span>,      <span style=\"color: #008080; text-decoration-color: #008080; font-weight: bold\">7.1214</span>,      <span style=\"color: #008080; text-decoration-color: #008080; font-weight: bold\">8.0418</span>,      <span style=\"color: #008080; text-decoration-color: #008080; font-weight: bold\">8.1084</span>,      <span style=\"color: #008080; text-decoration-color: #008080; font-weight: bold\">8.1337</span>,       <span style=\"color: #008080; text-decoration-color: #008080; font-weight: bold\">8.247</span>,      <span style=\"color: #008080; text-decoration-color: #008080; font-weight: bold\">7.9158</span>,      <span style=\"color: #008080; text-decoration-color: #008080; font-weight: bold\">8.6127</span>,      <span style=\"color: #008080; text-decoration-color: #008080; font-weight: bold\">8.2848</span>,      <span style=\"color: #008080; text-decoration-color: #008080; font-weight: bold\">8.1871</span>,       <span style=\"color: #008080; text-decoration-color: #008080; font-weight: bold\">8.246</span>,\n",
       "            <span style=\"color: #008080; text-decoration-color: #008080; font-weight: bold\">7.8146</span>,      <span style=\"color: #008080; text-decoration-color: #008080; font-weight: bold\">7.5039</span>,      <span style=\"color: #008080; text-decoration-color: #008080; font-weight: bold\">7.6217</span>,      <span style=\"color: #008080; text-decoration-color: #008080; font-weight: bold\">6.8245</span>,      <span style=\"color: #008080; text-decoration-color: #008080; font-weight: bold\">7.1588</span>,      <span style=\"color: #008080; text-decoration-color: #008080; font-weight: bold\">7.6763</span>,      <span style=\"color: #008080; text-decoration-color: #008080; font-weight: bold\">7.0386</span>,      <span style=\"color: #008080; text-decoration-color: #008080; font-weight: bold\">7.5636</span>,      <span style=\"color: #008080; text-decoration-color: #008080; font-weight: bold\">7.0264</span>,      <span style=\"color: #008080; text-decoration-color: #008080; font-weight: bold\">7.6475</span>,      <span style=\"color: #008080; text-decoration-color: #008080; font-weight: bold\">7.8087</span>,      <span style=\"color: #008080; text-decoration-color: #008080; font-weight: bold\">7.7804</span>,      <span style=\"color: #008080; text-decoration-color: #008080; font-weight: bold\">7.3065</span>,      <span style=\"color: #008080; text-decoration-color: #008080; font-weight: bold\">6.6991</span>,      <span style=\"color: #008080; text-decoration-color: #008080; font-weight: bold\">6.1963</span>,      <span style=\"color: #008080; text-decoration-color: #008080; font-weight: bold\">6.6096</span>,      <span style=\"color: #008080; text-decoration-color: #008080; font-weight: bold\">6.5227</span>,       <span style=\"color: #008080; text-decoration-color: #008080; font-weight: bold\">5.952</span>,      <span style=\"color: #008080; text-decoration-color: #008080; font-weight: bold\">6.3454</span>,      <span style=\"color: #008080; text-decoration-color: #008080; font-weight: bold\">6.7344</span>,      <span style=\"color: #008080; text-decoration-color: #008080; font-weight: bold\">6.7053</span>,      <span style=\"color: #008080; text-decoration-color: #008080; font-weight: bold\">6.7534</span>,      <span style=\"color: #008080; text-decoration-color: #008080; font-weight: bold\">5.6646</span>,       <span style=\"color: #008080; text-decoration-color: #008080; font-weight: bold\">5.391</span>,\n",
       "            <span style=\"color: #008080; text-decoration-color: #008080; font-weight: bold\">5.6702</span>,      <span style=\"color: #008080; text-decoration-color: #008080; font-weight: bold\">6.6986</span>,      <span style=\"color: #008080; text-decoration-color: #008080; font-weight: bold\">6.1813</span>,      <span style=\"color: #008080; text-decoration-color: #008080; font-weight: bold\">6.5018</span>,      <span style=\"color: #008080; text-decoration-color: #008080; font-weight: bold\">6.0182</span>,      <span style=\"color: #008080; text-decoration-color: #008080; font-weight: bold\">5.5791</span>,      <span style=\"color: #008080; text-decoration-color: #008080; font-weight: bold\">5.3365</span>,       <span style=\"color: #008080; text-decoration-color: #008080; font-weight: bold\">5.674</span>,      <span style=\"color: #008080; text-decoration-color: #008080; font-weight: bold\">5.7713</span>,      <span style=\"color: #008080; text-decoration-color: #008080; font-weight: bold\">5.7023</span>,      <span style=\"color: #008080; text-decoration-color: #008080; font-weight: bold\">6.1199</span>,      <span style=\"color: #008080; text-decoration-color: #008080; font-weight: bold\">6.8782</span>,      <span style=\"color: #008080; text-decoration-color: #008080; font-weight: bold\">6.6639</span>,      <span style=\"color: #008080; text-decoration-color: #008080; font-weight: bold\">6.2583</span>,      <span style=\"color: #008080; text-decoration-color: #008080; font-weight: bold\">6.8232</span>,      <span style=\"color: #008080; text-decoration-color: #008080; font-weight: bold\">6.6421</span>,      <span style=\"color: #008080; text-decoration-color: #008080; font-weight: bold\">6.8446</span>,      <span style=\"color: #008080; text-decoration-color: #008080; font-weight: bold\">6.9824</span>,      <span style=\"color: #008080; text-decoration-color: #008080; font-weight: bold\">6.6835</span>,      <span style=\"color: #008080; text-decoration-color: #008080; font-weight: bold\">7.0834</span>,      <span style=\"color: #008080; text-decoration-color: #008080; font-weight: bold\">7.2636</span>,       <span style=\"color: #008080; text-decoration-color: #008080; font-weight: bold\">6.864</span>,      <span style=\"color: #008080; text-decoration-color: #008080; font-weight: bold\">7.1817</span>,      <span style=\"color: #008080; text-decoration-color: #008080; font-weight: bold\">6.2765</span>,\n",
       "            <span style=\"color: #008080; text-decoration-color: #008080; font-weight: bold\">6.3875</span>,      <span style=\"color: #008080; text-decoration-color: #008080; font-weight: bold\">6.3269</span>,      <span style=\"color: #008080; text-decoration-color: #008080; font-weight: bold\">5.8799</span>,      <span style=\"color: #008080; text-decoration-color: #008080; font-weight: bold\">6.8362</span>,      <span style=\"color: #008080; text-decoration-color: #008080; font-weight: bold\">6.8844</span>,       <span style=\"color: #008080; text-decoration-color: #008080; font-weight: bold\">7.204</span>,      <span style=\"color: #008080; text-decoration-color: #008080; font-weight: bold\">7.0037</span>,      <span style=\"color: #008080; text-decoration-color: #008080; font-weight: bold\">6.5086</span>,      <span style=\"color: #008080; text-decoration-color: #008080; font-weight: bold\">6.4049</span>,      <span style=\"color: #008080; text-decoration-color: #008080; font-weight: bold\">6.3917</span>,      <span style=\"color: #008080; text-decoration-color: #008080; font-weight: bold\">6.3357</span>,      <span style=\"color: #008080; text-decoration-color: #008080; font-weight: bold\">5.8045</span>,      <span style=\"color: #008080; text-decoration-color: #008080; font-weight: bold\">6.6122</span>,      <span style=\"color: #008080; text-decoration-color: #008080; font-weight: bold\">6.3629</span>,      <span style=\"color: #008080; text-decoration-color: #008080; font-weight: bold\">6.2522</span>,      <span style=\"color: #008080; text-decoration-color: #008080; font-weight: bold\">6.1394</span>,      <span style=\"color: #008080; text-decoration-color: #008080; font-weight: bold\">6.3513</span>,      <span style=\"color: #008080; text-decoration-color: #008080; font-weight: bold\">6.4717</span>,       <span style=\"color: #008080; text-decoration-color: #008080; font-weight: bold\">5.679</span>,      <span style=\"color: #008080; text-decoration-color: #008080; font-weight: bold\">5.5545</span>,      <span style=\"color: #008080; text-decoration-color: #008080; font-weight: bold\">4.6273</span>,      <span style=\"color: #008080; text-decoration-color: #008080; font-weight: bold\">5.1416</span>,      <span style=\"color: #008080; text-decoration-color: #008080; font-weight: bold\">4.9658</span>,      <span style=\"color: #008080; text-decoration-color: #008080; font-weight: bold\">5.3671</span>,\n",
       "            <span style=\"color: #008080; text-decoration-color: #008080; font-weight: bold\">5.7257</span>,      <span style=\"color: #008080; text-decoration-color: #008080; font-weight: bold\">6.1678</span>,      <span style=\"color: #008080; text-decoration-color: #008080; font-weight: bold\">5.9082</span>,      <span style=\"color: #008080; text-decoration-color: #008080; font-weight: bold\">5.6785</span>,      <span style=\"color: #008080; text-decoration-color: #008080; font-weight: bold\">5.4472</span>,      <span style=\"color: #008080; text-decoration-color: #008080; font-weight: bold\">5.2675</span>,      <span style=\"color: #008080; text-decoration-color: #008080; font-weight: bold\">6.4048</span>,      <span style=\"color: #008080; text-decoration-color: #008080; font-weight: bold\">6.4726</span>,      <span style=\"color: #008080; text-decoration-color: #008080; font-weight: bold\">5.9957</span>,      <span style=\"color: #008080; text-decoration-color: #008080; font-weight: bold\">6.2908</span>,      <span style=\"color: #008080; text-decoration-color: #008080; font-weight: bold\">5.8505</span>,      <span style=\"color: #008080; text-decoration-color: #008080; font-weight: bold\">5.9547</span>,      <span style=\"color: #008080; text-decoration-color: #008080; font-weight: bold\">6.5734</span>,      <span style=\"color: #008080; text-decoration-color: #008080; font-weight: bold\">6.2048</span>,       <span style=\"color: #008080; text-decoration-color: #008080; font-weight: bold\">6.603</span>,      <span style=\"color: #008080; text-decoration-color: #008080; font-weight: bold\">6.6179</span>,      <span style=\"color: #008080; text-decoration-color: #008080; font-weight: bold\">6.6719</span>,      <span style=\"color: #008080; text-decoration-color: #008080; font-weight: bold\">7.5903</span>,      <span style=\"color: #008080; text-decoration-color: #008080; font-weight: bold\">7.3055</span>,       <span style=\"color: #008080; text-decoration-color: #008080; font-weight: bold\">6.984</span>,      <span style=\"color: #008080; text-decoration-color: #008080; font-weight: bold\">6.8497</span>,      <span style=\"color: #008080; text-decoration-color: #008080; font-weight: bold\">7.3088</span>,      <span style=\"color: #008080; text-decoration-color: #008080; font-weight: bold\">7.6523</span>,      <span style=\"color: #008080; text-decoration-color: #008080; font-weight: bold\">7.7065</span>,\n",
       "            <span style=\"color: #008080; text-decoration-color: #008080; font-weight: bold\">8.1973</span>,      <span style=\"color: #008080; text-decoration-color: #008080; font-weight: bold\">7.8822</span>,      <span style=\"color: #008080; text-decoration-color: #008080; font-weight: bold\">7.0423</span>,      <span style=\"color: #008080; text-decoration-color: #008080; font-weight: bold\">7.4916</span>,       <span style=\"color: #008080; text-decoration-color: #008080; font-weight: bold\">7.469</span>,       <span style=\"color: #008080; text-decoration-color: #008080; font-weight: bold\">6.385</span>,      <span style=\"color: #008080; text-decoration-color: #008080; font-weight: bold\">7.7975</span>,      <span style=\"color: #008080; text-decoration-color: #008080; font-weight: bold\">8.7105</span>,      <span style=\"color: #008080; text-decoration-color: #008080; font-weight: bold\">8.4703</span>,      <span style=\"color: #008080; text-decoration-color: #008080; font-weight: bold\">8.9802</span>,      <span style=\"color: #008080; text-decoration-color: #008080; font-weight: bold\">8.6418</span>,      <span style=\"color: #008080; text-decoration-color: #008080; font-weight: bold\">7.4842</span>,        <span style=\"color: #008080; text-decoration-color: #008080; font-weight: bold\">7.06</span>,      <span style=\"color: #008080; text-decoration-color: #008080; font-weight: bold\">8.2655</span>,      <span style=\"color: #008080; text-decoration-color: #008080; font-weight: bold\">7.4228</span>,       <span style=\"color: #008080; text-decoration-color: #008080; font-weight: bold\">6.671</span>,      <span style=\"color: #008080; text-decoration-color: #008080; font-weight: bold\">6.9394</span>,      <span style=\"color: #008080; text-decoration-color: #008080; font-weight: bold\">7.1792</span>,      <span style=\"color: #008080; text-decoration-color: #008080; font-weight: bold\">8.0458</span>,      <span style=\"color: #008080; text-decoration-color: #008080; font-weight: bold\">8.0314</span>,      <span style=\"color: #008080; text-decoration-color: #008080; font-weight: bold\">6.6147</span>,      <span style=\"color: #008080; text-decoration-color: #008080; font-weight: bold\">8.3647</span>,      <span style=\"color: #008080; text-decoration-color: #008080; font-weight: bold\">7.4457</span>,      <span style=\"color: #008080; text-decoration-color: #008080; font-weight: bold\">7.6361</span>,\n",
       "            <span style=\"color: #008080; text-decoration-color: #008080; font-weight: bold\">7.2302</span>,      <span style=\"color: #008080; text-decoration-color: #008080; font-weight: bold\">7.8073</span>,      <span style=\"color: #008080; text-decoration-color: #008080; font-weight: bold\">6.4504</span>,       <span style=\"color: #008080; text-decoration-color: #008080; font-weight: bold\">7.479</span>,      <span style=\"color: #008080; text-decoration-color: #008080; font-weight: bold\">7.8038</span>,      <span style=\"color: #008080; text-decoration-color: #008080; font-weight: bold\">6.6727</span>,      <span style=\"color: #008080; text-decoration-color: #008080; font-weight: bold\">6.7181</span>,      <span style=\"color: #008080; text-decoration-color: #008080; font-weight: bold\">6.5102</span>,      <span style=\"color: #008080; text-decoration-color: #008080; font-weight: bold\">7.3043</span>,      <span style=\"color: #008080; text-decoration-color: #008080; font-weight: bold\">7.2537</span>,      <span style=\"color: #008080; text-decoration-color: #008080; font-weight: bold\">6.2445</span>,      <span style=\"color: #008080; text-decoration-color: #008080; font-weight: bold\">6.3683</span>,      <span style=\"color: #008080; text-decoration-color: #008080; font-weight: bold\">6.5595</span>,      <span style=\"color: #008080; text-decoration-color: #008080; font-weight: bold\">6.2744</span>,      <span style=\"color: #008080; text-decoration-color: #008080; font-weight: bold\">6.1319</span>,      <span style=\"color: #008080; text-decoration-color: #008080; font-weight: bold\">5.5262</span>,      <span style=\"color: #008080; text-decoration-color: #008080; font-weight: bold\">5.0083</span>,      <span style=\"color: #008080; text-decoration-color: #008080; font-weight: bold\">4.9966</span>,      <span style=\"color: #008080; text-decoration-color: #008080; font-weight: bold\">5.0118</span>,      <span style=\"color: #008080; text-decoration-color: #008080; font-weight: bold\">5.6837</span>,      <span style=\"color: #008080; text-decoration-color: #008080; font-weight: bold\">4.4976</span>,       <span style=\"color: #008080; text-decoration-color: #008080; font-weight: bold\">5.673</span>,      <span style=\"color: #008080; text-decoration-color: #008080; font-weight: bold\">4.4061</span>,      <span style=\"color: #008080; text-decoration-color: #008080; font-weight: bold\">5.4551</span>,\n",
       "            <span style=\"color: #008080; text-decoration-color: #008080; font-weight: bold\">4.3637</span>,      <span style=\"color: #008080; text-decoration-color: #008080; font-weight: bold\">5.6829</span>,      <span style=\"color: #008080; text-decoration-color: #008080; font-weight: bold\">5.8745</span>,      <span style=\"color: #008080; text-decoration-color: #008080; font-weight: bold\">5.2035</span>,      <span style=\"color: #008080; text-decoration-color: #008080; font-weight: bold\">5.1274</span>,      <span style=\"color: #008080; text-decoration-color: #008080; font-weight: bold\">5.2987</span>,      <span style=\"color: #008080; text-decoration-color: #008080; font-weight: bold\">5.9818</span>,      <span style=\"color: #008080; text-decoration-color: #008080; font-weight: bold\">5.5764</span>,      <span style=\"color: #008080; text-decoration-color: #008080; font-weight: bold\">5.5224</span>,      <span style=\"color: #008080; text-decoration-color: #008080; font-weight: bold\">5.1852</span>,      <span style=\"color: #008080; text-decoration-color: #008080; font-weight: bold\">4.7063</span>,      <span style=\"color: #008080; text-decoration-color: #008080; font-weight: bold\">5.0463</span>,      <span style=\"color: #008080; text-decoration-color: #008080; font-weight: bold\">5.5292</span>,      <span style=\"color: #008080; text-decoration-color: #008080; font-weight: bold\">5.4068</span>,      <span style=\"color: #008080; text-decoration-color: #008080; font-weight: bold\">5.8217</span>,      <span style=\"color: #008080; text-decoration-color: #008080; font-weight: bold\">5.4078</span>,      <span style=\"color: #008080; text-decoration-color: #008080; font-weight: bold\">6.0024</span>,      <span style=\"color: #008080; text-decoration-color: #008080; font-weight: bold\">5.5765</span>,      <span style=\"color: #008080; text-decoration-color: #008080; font-weight: bold\">5.1885</span>,      <span style=\"color: #008080; text-decoration-color: #008080; font-weight: bold\">5.1062</span>,      <span style=\"color: #008080; text-decoration-color: #008080; font-weight: bold\">4.5464</span>,      <span style=\"color: #008080; text-decoration-color: #008080; font-weight: bold\">4.8567</span>,       <span style=\"color: #008080; text-decoration-color: #008080; font-weight: bold\">4.299</span>,        <span style=\"color: #008080; text-decoration-color: #008080; font-weight: bold\">4.84</span>,\n",
       "            <span style=\"color: #008080; text-decoration-color: #008080; font-weight: bold\">4.9007</span>,      <span style=\"color: #008080; text-decoration-color: #008080; font-weight: bold\">4.1955</span>,      <span style=\"color: #008080; text-decoration-color: #008080; font-weight: bold\">3.8785</span>,      <span style=\"color: #008080; text-decoration-color: #008080; font-weight: bold\">4.1456</span>,      <span style=\"color: #008080; text-decoration-color: #008080; font-weight: bold\">3.8314</span>,      <span style=\"color: #008080; text-decoration-color: #008080; font-weight: bold\">3.7361</span>,      <span style=\"color: #008080; text-decoration-color: #008080; font-weight: bold\">3.6197</span>,      <span style=\"color: #008080; text-decoration-color: #008080; font-weight: bold\">3.8529</span>,        <span style=\"color: #008080; text-decoration-color: #008080; font-weight: bold\">3.42</span>,      <span style=\"color: #008080; text-decoration-color: #008080; font-weight: bold\">3.6455</span>,      <span style=\"color: #008080; text-decoration-color: #008080; font-weight: bold\">3.4924</span>,      <span style=\"color: #008080; text-decoration-color: #008080; font-weight: bold\">2.9509</span>,      <span style=\"color: #008080; text-decoration-color: #008080; font-weight: bold\">3.1374</span>,      <span style=\"color: #008080; text-decoration-color: #008080; font-weight: bold\">3.1606</span>,      <span style=\"color: #008080; text-decoration-color: #008080; font-weight: bold\">2.7436</span>,      <span style=\"color: #008080; text-decoration-color: #008080; font-weight: bold\">2.3833</span>,      <span style=\"color: #008080; text-decoration-color: #008080; font-weight: bold\">2.4522</span>,      <span style=\"color: #008080; text-decoration-color: #008080; font-weight: bold\">2.2514</span>,      <span style=\"color: #008080; text-decoration-color: #008080; font-weight: bold\">1.7627</span>,      <span style=\"color: #008080; text-decoration-color: #008080; font-weight: bold\">2.7758</span>,      <span style=\"color: #008080; text-decoration-color: #008080; font-weight: bold\">2.2938</span>,      <span style=\"color: #008080; text-decoration-color: #008080; font-weight: bold\">2.6875</span>,      <span style=\"color: #008080; text-decoration-color: #008080; font-weight: bold\">2.2215</span>,      <span style=\"color: #008080; text-decoration-color: #008080; font-weight: bold\">1.2218</span>,\n",
       "            <span style=\"color: #008080; text-decoration-color: #008080; font-weight: bold\">1.2189</span>,     <span style=\"color: #008080; text-decoration-color: #008080; font-weight: bold\">0.45255</span>,     <span style=\"color: #008080; text-decoration-color: #008080; font-weight: bold\">0.72705</span>,     <span style=\"color: #008080; text-decoration-color: #008080; font-weight: bold\">0.14572</span>,      <span style=\"color: #008080; text-decoration-color: #008080; font-weight: bold\">1.1033</span>,      <span style=\"color: #008080; text-decoration-color: #008080; font-weight: bold\">1.2602</span>,      <span style=\"color: #008080; text-decoration-color: #008080; font-weight: bold\">1.4002</span>,     <span style=\"color: #008080; text-decoration-color: #008080; font-weight: bold\">0.29674</span>,     <span style=\"color: #008080; text-decoration-color: #008080; font-weight: bold\">0.59372</span>,      <span style=\"color: #008080; text-decoration-color: #008080; font-weight: bold\">0.2334</span>,     <span style=\"color: #008080; text-decoration-color: #008080; font-weight: bold\">0.22415</span>,     <span style=\"color: #008080; text-decoration-color: #008080; font-weight: bold\">0.69083</span>,       <span style=\"color: #008080; text-decoration-color: #008080; font-weight: bold\">0.569</span>,    <span style=\"color: #008080; text-decoration-color: #008080; font-weight: bold\">0.032517</span>,   <span style=\"color: #008080; text-decoration-color: #008080; font-weight: bold\">-0.067521</span>,     <span style=\"color: #008080; text-decoration-color: #008080; font-weight: bold\">0.60842</span>,     <span style=\"color: #008080; text-decoration-color: #008080; font-weight: bold\">0.12691</span>,     <span style=\"color: #008080; text-decoration-color: #008080; font-weight: bold\">0.53385</span>,     <span style=\"color: #008080; text-decoration-color: #008080; font-weight: bold\">0.84466</span>,     <span style=\"color: #008080; text-decoration-color: #008080; font-weight: bold\">0.25204</span>,    <span style=\"color: #008080; text-decoration-color: #008080; font-weight: bold\">-0.11404</span>,    <span style=\"color: #008080; text-decoration-color: #008080; font-weight: bold\">-0.31097</span>,     <span style=\"color: #008080; text-decoration-color: #008080; font-weight: bold\">0.26367</span>,    <span style=\"color: #008080; text-decoration-color: #008080; font-weight: bold\">-0.30134</span>,\n",
       "          <span style=\"color: #008080; text-decoration-color: #008080; font-weight: bold\">-0.51486</span>,     <span style=\"color: #008080; text-decoration-color: #008080; font-weight: bold\">-0.1554</span>,     <span style=\"color: #008080; text-decoration-color: #008080; font-weight: bold\">-0.3269</span>,    <span style=\"color: #008080; text-decoration-color: #008080; font-weight: bold\">0.081336</span>,    <span style=\"color: #008080; text-decoration-color: #008080; font-weight: bold\">-0.38282</span>,     <span style=\"color: #008080; text-decoration-color: #008080; font-weight: bold\">0.45433</span>,    <span style=\"color: #008080; text-decoration-color: #008080; font-weight: bold\">-0.22609</span>,   <span style=\"color: #008080; text-decoration-color: #008080; font-weight: bold\">-0.069757</span>,     <span style=\"color: #008080; text-decoration-color: #008080; font-weight: bold\">0.10822</span>,     <span style=\"color: #008080; text-decoration-color: #008080; font-weight: bold\">0.26333</span>,     <span style=\"color: #008080; text-decoration-color: #008080; font-weight: bold\">0.40571</span>,    <span style=\"color: #008080; text-decoration-color: #008080; font-weight: bold\">-0.52932</span>,    <span style=\"color: #008080; text-decoration-color: #008080; font-weight: bold\">-0.58368</span>,    <span style=\"color: #008080; text-decoration-color: #008080; font-weight: bold\">-0.49458</span>,    <span style=\"color: #008080; text-decoration-color: #008080; font-weight: bold\">0.034841</span>,    <span style=\"color: #008080; text-decoration-color: #008080; font-weight: bold\">-0.18625</span>,    <span style=\"color: #008080; text-decoration-color: #008080; font-weight: bold\">-0.37453</span>,    <span style=\"color: #008080; text-decoration-color: #008080; font-weight: bold\">-0.49288</span>,     <span style=\"color: #008080; text-decoration-color: #008080; font-weight: bold\">0.56839</span>,    <span style=\"color: #008080; text-decoration-color: #008080; font-weight: bold\">-0.09794</span>,   <span style=\"color: #008080; text-decoration-color: #008080; font-weight: bold\">-0.018011</span><span style=\"font-weight: bold\">]</span>, <span style=\"color: #808000; text-decoration-color: #808000\">dtype</span>=<span style=\"color: #800080; text-decoration-color: #800080\">float32</span><span style=\"font-weight: bold\">)</span>\n",
       "</pre>\n"
      ],
      "text/plain": [
       "\n",
       "\u001B[1;35marray\u001B[0m\u001B[1m(\u001B[0m\u001B[1m[\u001B[0m    \u001B[1;36m0.58056\u001B[0m,      \u001B[1;36m0.5641\u001B[0m,     \u001B[1;36m0.74656\u001B[0m,     \u001B[1;36m0.45662\u001B[0m,     \u001B[1;36m0.90921\u001B[0m,      \u001B[1;36m1.4635\u001B[0m,       \u001B[1;36m1.875\u001B[0m,      \u001B[1;36m1.3719\u001B[0m,      \u001B[1;36m1.1617\u001B[0m,      \u001B[1;36m1.2825\u001B[0m,      \u001B[1;36m1.2309\u001B[0m,      \u001B[1;36m1.0852\u001B[0m,     \u001B[1;36m0.89589\u001B[0m,     \u001B[1;36m0.48078\u001B[0m,      \u001B[1;36m0.9278\u001B[0m,      \u001B[1;36m1.0094\u001B[0m,      \u001B[1;36m0.6431\u001B[0m,      \u001B[1;36m1.7351\u001B[0m,      \u001B[1;36m2.3227\u001B[0m,      \u001B[1;36m1.8994\u001B[0m,       \u001B[1;36m1.516\u001B[0m,      \u001B[1;36m2.2096\u001B[0m,      \u001B[1;36m2.3904\u001B[0m,      \u001B[1;36m2.1751\u001B[0m,\n",
       "            \u001B[1;36m2.9011\u001B[0m,      \u001B[1;36m2.5875\u001B[0m,      \u001B[1;36m2.5877\u001B[0m,      \u001B[1;36m3.3114\u001B[0m,      \u001B[1;36m2.6957\u001B[0m,      \u001B[1;36m2.3799\u001B[0m,      \u001B[1;36m2.6058\u001B[0m,       \u001B[1;36m2.151\u001B[0m,      \u001B[1;36m2.1533\u001B[0m,      \u001B[1;36m2.9728\u001B[0m,      \u001B[1;36m2.8035\u001B[0m,      \u001B[1;36m3.1658\u001B[0m,      \u001B[1;36m4.1238\u001B[0m,      \u001B[1;36m3.6793\u001B[0m,      \u001B[1;36m4.2177\u001B[0m,      \u001B[1;36m3.9664\u001B[0m,      \u001B[1;36m3.4252\u001B[0m,       \u001B[1;36m3.867\u001B[0m,       \u001B[1;36m3.952\u001B[0m,      \u001B[1;36m3.4174\u001B[0m,      \u001B[1;36m4.0295\u001B[0m,      \u001B[1;36m4.6991\u001B[0m,      \u001B[1;36m4.8069\u001B[0m,      \u001B[1;36m4.5663\u001B[0m,\n",
       "            \u001B[1;36m4.3814\u001B[0m,      \u001B[1;36m4.3656\u001B[0m,      \u001B[1;36m3.8539\u001B[0m,      \u001B[1;36m4.4869\u001B[0m,      \u001B[1;36m4.4771\u001B[0m,       \u001B[1;36m4.722\u001B[0m,      \u001B[1;36m4.6282\u001B[0m,      \u001B[1;36m4.5298\u001B[0m,      \u001B[1;36m4.8702\u001B[0m,      \u001B[1;36m5.1029\u001B[0m,      \u001B[1;36m5.3018\u001B[0m,      \u001B[1;36m4.9713\u001B[0m,      \u001B[1;36m4.9985\u001B[0m,       \u001B[1;36m5.254\u001B[0m,      \u001B[1;36m5.8276\u001B[0m,      \u001B[1;36m5.7468\u001B[0m,      \u001B[1;36m6.1716\u001B[0m,      \u001B[1;36m6.2836\u001B[0m,      \u001B[1;36m6.3144\u001B[0m,      \u001B[1;36m6.6752\u001B[0m,      \u001B[1;36m6.5445\u001B[0m,      \u001B[1;36m6.4605\u001B[0m,      \u001B[1;36m6.6124\u001B[0m,      \u001B[1;36m5.8838\u001B[0m,\n",
       "            \u001B[1;36m6.8427\u001B[0m,      \u001B[1;36m6.5554\u001B[0m,       \u001B[1;36m7.039\u001B[0m,      \u001B[1;36m7.1157\u001B[0m,      \u001B[1;36m7.3677\u001B[0m,      \u001B[1;36m7.2441\u001B[0m,      \u001B[1;36m7.1763\u001B[0m,      \u001B[1;36m6.6101\u001B[0m,      \u001B[1;36m6.9875\u001B[0m,      \u001B[1;36m6.9305\u001B[0m,      \u001B[1;36m7.1935\u001B[0m,      \u001B[1;36m7.1349\u001B[0m,      \u001B[1;36m8.0322\u001B[0m,      \u001B[1;36m7.1695\u001B[0m,      \u001B[1;36m7.1214\u001B[0m,      \u001B[1;36m8.0418\u001B[0m,      \u001B[1;36m8.1084\u001B[0m,      \u001B[1;36m8.1337\u001B[0m,       \u001B[1;36m8.247\u001B[0m,      \u001B[1;36m7.9158\u001B[0m,      \u001B[1;36m8.6127\u001B[0m,      \u001B[1;36m8.2848\u001B[0m,      \u001B[1;36m8.1871\u001B[0m,       \u001B[1;36m8.246\u001B[0m,\n",
       "            \u001B[1;36m7.8146\u001B[0m,      \u001B[1;36m7.5039\u001B[0m,      \u001B[1;36m7.6217\u001B[0m,      \u001B[1;36m6.8245\u001B[0m,      \u001B[1;36m7.1588\u001B[0m,      \u001B[1;36m7.6763\u001B[0m,      \u001B[1;36m7.0386\u001B[0m,      \u001B[1;36m7.5636\u001B[0m,      \u001B[1;36m7.0264\u001B[0m,      \u001B[1;36m7.6475\u001B[0m,      \u001B[1;36m7.8087\u001B[0m,      \u001B[1;36m7.7804\u001B[0m,      \u001B[1;36m7.3065\u001B[0m,      \u001B[1;36m6.6991\u001B[0m,      \u001B[1;36m6.1963\u001B[0m,      \u001B[1;36m6.6096\u001B[0m,      \u001B[1;36m6.5227\u001B[0m,       \u001B[1;36m5.952\u001B[0m,      \u001B[1;36m6.3454\u001B[0m,      \u001B[1;36m6.7344\u001B[0m,      \u001B[1;36m6.7053\u001B[0m,      \u001B[1;36m6.7534\u001B[0m,      \u001B[1;36m5.6646\u001B[0m,       \u001B[1;36m5.391\u001B[0m,\n",
       "            \u001B[1;36m5.6702\u001B[0m,      \u001B[1;36m6.6986\u001B[0m,      \u001B[1;36m6.1813\u001B[0m,      \u001B[1;36m6.5018\u001B[0m,      \u001B[1;36m6.0182\u001B[0m,      \u001B[1;36m5.5791\u001B[0m,      \u001B[1;36m5.3365\u001B[0m,       \u001B[1;36m5.674\u001B[0m,      \u001B[1;36m5.7713\u001B[0m,      \u001B[1;36m5.7023\u001B[0m,      \u001B[1;36m6.1199\u001B[0m,      \u001B[1;36m6.8782\u001B[0m,      \u001B[1;36m6.6639\u001B[0m,      \u001B[1;36m6.2583\u001B[0m,      \u001B[1;36m6.8232\u001B[0m,      \u001B[1;36m6.6421\u001B[0m,      \u001B[1;36m6.8446\u001B[0m,      \u001B[1;36m6.9824\u001B[0m,      \u001B[1;36m6.6835\u001B[0m,      \u001B[1;36m7.0834\u001B[0m,      \u001B[1;36m7.2636\u001B[0m,       \u001B[1;36m6.864\u001B[0m,      \u001B[1;36m7.1817\u001B[0m,      \u001B[1;36m6.2765\u001B[0m,\n",
       "            \u001B[1;36m6.3875\u001B[0m,      \u001B[1;36m6.3269\u001B[0m,      \u001B[1;36m5.8799\u001B[0m,      \u001B[1;36m6.8362\u001B[0m,      \u001B[1;36m6.8844\u001B[0m,       \u001B[1;36m7.204\u001B[0m,      \u001B[1;36m7.0037\u001B[0m,      \u001B[1;36m6.5086\u001B[0m,      \u001B[1;36m6.4049\u001B[0m,      \u001B[1;36m6.3917\u001B[0m,      \u001B[1;36m6.3357\u001B[0m,      \u001B[1;36m5.8045\u001B[0m,      \u001B[1;36m6.6122\u001B[0m,      \u001B[1;36m6.3629\u001B[0m,      \u001B[1;36m6.2522\u001B[0m,      \u001B[1;36m6.1394\u001B[0m,      \u001B[1;36m6.3513\u001B[0m,      \u001B[1;36m6.4717\u001B[0m,       \u001B[1;36m5.679\u001B[0m,      \u001B[1;36m5.5545\u001B[0m,      \u001B[1;36m4.6273\u001B[0m,      \u001B[1;36m5.1416\u001B[0m,      \u001B[1;36m4.9658\u001B[0m,      \u001B[1;36m5.3671\u001B[0m,\n",
       "            \u001B[1;36m5.7257\u001B[0m,      \u001B[1;36m6.1678\u001B[0m,      \u001B[1;36m5.9082\u001B[0m,      \u001B[1;36m5.6785\u001B[0m,      \u001B[1;36m5.4472\u001B[0m,      \u001B[1;36m5.2675\u001B[0m,      \u001B[1;36m6.4048\u001B[0m,      \u001B[1;36m6.4726\u001B[0m,      \u001B[1;36m5.9957\u001B[0m,      \u001B[1;36m6.2908\u001B[0m,      \u001B[1;36m5.8505\u001B[0m,      \u001B[1;36m5.9547\u001B[0m,      \u001B[1;36m6.5734\u001B[0m,      \u001B[1;36m6.2048\u001B[0m,       \u001B[1;36m6.603\u001B[0m,      \u001B[1;36m6.6179\u001B[0m,      \u001B[1;36m6.6719\u001B[0m,      \u001B[1;36m7.5903\u001B[0m,      \u001B[1;36m7.3055\u001B[0m,       \u001B[1;36m6.984\u001B[0m,      \u001B[1;36m6.8497\u001B[0m,      \u001B[1;36m7.3088\u001B[0m,      \u001B[1;36m7.6523\u001B[0m,      \u001B[1;36m7.7065\u001B[0m,\n",
       "            \u001B[1;36m8.1973\u001B[0m,      \u001B[1;36m7.8822\u001B[0m,      \u001B[1;36m7.0423\u001B[0m,      \u001B[1;36m7.4916\u001B[0m,       \u001B[1;36m7.469\u001B[0m,       \u001B[1;36m6.385\u001B[0m,      \u001B[1;36m7.7975\u001B[0m,      \u001B[1;36m8.7105\u001B[0m,      \u001B[1;36m8.4703\u001B[0m,      \u001B[1;36m8.9802\u001B[0m,      \u001B[1;36m8.6418\u001B[0m,      \u001B[1;36m7.4842\u001B[0m,        \u001B[1;36m7.06\u001B[0m,      \u001B[1;36m8.2655\u001B[0m,      \u001B[1;36m7.4228\u001B[0m,       \u001B[1;36m6.671\u001B[0m,      \u001B[1;36m6.9394\u001B[0m,      \u001B[1;36m7.1792\u001B[0m,      \u001B[1;36m8.0458\u001B[0m,      \u001B[1;36m8.0314\u001B[0m,      \u001B[1;36m6.6147\u001B[0m,      \u001B[1;36m8.3647\u001B[0m,      \u001B[1;36m7.4457\u001B[0m,      \u001B[1;36m7.6361\u001B[0m,\n",
       "            \u001B[1;36m7.2302\u001B[0m,      \u001B[1;36m7.8073\u001B[0m,      \u001B[1;36m6.4504\u001B[0m,       \u001B[1;36m7.479\u001B[0m,      \u001B[1;36m7.8038\u001B[0m,      \u001B[1;36m6.6727\u001B[0m,      \u001B[1;36m6.7181\u001B[0m,      \u001B[1;36m6.5102\u001B[0m,      \u001B[1;36m7.3043\u001B[0m,      \u001B[1;36m7.2537\u001B[0m,      \u001B[1;36m6.2445\u001B[0m,      \u001B[1;36m6.3683\u001B[0m,      \u001B[1;36m6.5595\u001B[0m,      \u001B[1;36m6.2744\u001B[0m,      \u001B[1;36m6.1319\u001B[0m,      \u001B[1;36m5.5262\u001B[0m,      \u001B[1;36m5.0083\u001B[0m,      \u001B[1;36m4.9966\u001B[0m,      \u001B[1;36m5.0118\u001B[0m,      \u001B[1;36m5.6837\u001B[0m,      \u001B[1;36m4.4976\u001B[0m,       \u001B[1;36m5.673\u001B[0m,      \u001B[1;36m4.4061\u001B[0m,      \u001B[1;36m5.4551\u001B[0m,\n",
       "            \u001B[1;36m4.3637\u001B[0m,      \u001B[1;36m5.6829\u001B[0m,      \u001B[1;36m5.8745\u001B[0m,      \u001B[1;36m5.2035\u001B[0m,      \u001B[1;36m5.1274\u001B[0m,      \u001B[1;36m5.2987\u001B[0m,      \u001B[1;36m5.9818\u001B[0m,      \u001B[1;36m5.5764\u001B[0m,      \u001B[1;36m5.5224\u001B[0m,      \u001B[1;36m5.1852\u001B[0m,      \u001B[1;36m4.7063\u001B[0m,      \u001B[1;36m5.0463\u001B[0m,      \u001B[1;36m5.5292\u001B[0m,      \u001B[1;36m5.4068\u001B[0m,      \u001B[1;36m5.8217\u001B[0m,      \u001B[1;36m5.4078\u001B[0m,      \u001B[1;36m6.0024\u001B[0m,      \u001B[1;36m5.5765\u001B[0m,      \u001B[1;36m5.1885\u001B[0m,      \u001B[1;36m5.1062\u001B[0m,      \u001B[1;36m4.5464\u001B[0m,      \u001B[1;36m4.8567\u001B[0m,       \u001B[1;36m4.299\u001B[0m,        \u001B[1;36m4.84\u001B[0m,\n",
       "            \u001B[1;36m4.9007\u001B[0m,      \u001B[1;36m4.1955\u001B[0m,      \u001B[1;36m3.8785\u001B[0m,      \u001B[1;36m4.1456\u001B[0m,      \u001B[1;36m3.8314\u001B[0m,      \u001B[1;36m3.7361\u001B[0m,      \u001B[1;36m3.6197\u001B[0m,      \u001B[1;36m3.8529\u001B[0m,        \u001B[1;36m3.42\u001B[0m,      \u001B[1;36m3.6455\u001B[0m,      \u001B[1;36m3.4924\u001B[0m,      \u001B[1;36m2.9509\u001B[0m,      \u001B[1;36m3.1374\u001B[0m,      \u001B[1;36m3.1606\u001B[0m,      \u001B[1;36m2.7436\u001B[0m,      \u001B[1;36m2.3833\u001B[0m,      \u001B[1;36m2.4522\u001B[0m,      \u001B[1;36m2.2514\u001B[0m,      \u001B[1;36m1.7627\u001B[0m,      \u001B[1;36m2.7758\u001B[0m,      \u001B[1;36m2.2938\u001B[0m,      \u001B[1;36m2.6875\u001B[0m,      \u001B[1;36m2.2215\u001B[0m,      \u001B[1;36m1.2218\u001B[0m,\n",
       "            \u001B[1;36m1.2189\u001B[0m,     \u001B[1;36m0.45255\u001B[0m,     \u001B[1;36m0.72705\u001B[0m,     \u001B[1;36m0.14572\u001B[0m,      \u001B[1;36m1.1033\u001B[0m,      \u001B[1;36m1.2602\u001B[0m,      \u001B[1;36m1.4002\u001B[0m,     \u001B[1;36m0.29674\u001B[0m,     \u001B[1;36m0.59372\u001B[0m,      \u001B[1;36m0.2334\u001B[0m,     \u001B[1;36m0.22415\u001B[0m,     \u001B[1;36m0.69083\u001B[0m,       \u001B[1;36m0.569\u001B[0m,    \u001B[1;36m0.032517\u001B[0m,   \u001B[1;36m-0.067521\u001B[0m,     \u001B[1;36m0.60842\u001B[0m,     \u001B[1;36m0.12691\u001B[0m,     \u001B[1;36m0.53385\u001B[0m,     \u001B[1;36m0.84466\u001B[0m,     \u001B[1;36m0.25204\u001B[0m,    \u001B[1;36m-0.11404\u001B[0m,    \u001B[1;36m-0.31097\u001B[0m,     \u001B[1;36m0.26367\u001B[0m,    \u001B[1;36m-0.30134\u001B[0m,\n",
       "          \u001B[1;36m-0.51486\u001B[0m,     \u001B[1;36m-0.1554\u001B[0m,     \u001B[1;36m-0.3269\u001B[0m,    \u001B[1;36m0.081336\u001B[0m,    \u001B[1;36m-0.38282\u001B[0m,     \u001B[1;36m0.45433\u001B[0m,    \u001B[1;36m-0.22609\u001B[0m,   \u001B[1;36m-0.069757\u001B[0m,     \u001B[1;36m0.10822\u001B[0m,     \u001B[1;36m0.26333\u001B[0m,     \u001B[1;36m0.40571\u001B[0m,    \u001B[1;36m-0.52932\u001B[0m,    \u001B[1;36m-0.58368\u001B[0m,    \u001B[1;36m-0.49458\u001B[0m,    \u001B[1;36m0.034841\u001B[0m,    \u001B[1;36m-0.18625\u001B[0m,    \u001B[1;36m-0.37453\u001B[0m,    \u001B[1;36m-0.49288\u001B[0m,     \u001B[1;36m0.56839\u001B[0m,    \u001B[1;36m-0.09794\u001B[0m,   \u001B[1;36m-0.018011\u001B[0m\u001B[1m]\u001B[0m, \u001B[33mdtype\u001B[0m=\u001B[35mfloat32\u001B[0m\u001B[1m)\u001B[0m\n"
      ]
     },
     "metadata": {},
     "output_type": "display_data"
    }
   ],
   "source": [
    "test_image_reps_arr = np.concatenate(test_image_reps, axis=0)\n",
    "test_preds = reg.predict(test_image_reps_arr)\n",
    "test_preds"
   ]
  },
  {
   "cell_type": "code",
   "execution_count": 12,
   "id": "e0ba65bb-ddf2-45f3-a121-b66e8fbe3224",
   "metadata": {
    "tags": []
   },
   "outputs": [
    {
     "data": {
      "text/html": [
       "<pre style=\"white-space:pre;overflow-x:auto;line-height:normal;font-family:Menlo,'DejaVu Sans Mono',consolas,'Courier New',monospace\"><span style=\"color: #008080; text-decoration-color: #008080; font-weight: bold\">0.6196759199952936</span>\n",
       "</pre>\n"
      ],
      "text/plain": [
       "\u001B[1;36m0.6196759199952936\u001B[0m\n"
      ]
     },
     "metadata": {},
     "output_type": "display_data"
    }
   ],
   "source": [
    "errors = test_preds - test_flower_counts\n",
    "np.mean(np.abs(errors))"
   ]
  },
  {
   "cell_type": "code",
   "execution_count": 13,
   "id": "2e929358-790f-4dd5-bb00-6e35baf2838b",
   "metadata": {
    "tags": []
   },
   "outputs": [
    {
     "name": "stdout",
     "output_type": "stream",
     "text": [
      "2023-03-07 14:30:30,646 - py.warnings - WARNING - /home/daniel/git/self-supervised-learning/.venv/lib/python3.10/site-packages/seaborn/rcmod.py:400: DeprecationWarning: distutils Version classes are deprecated. Use packaging.version instead.\n",
      "  if LooseVersion(mpl.__version__) >= \"3.0\":\n",
      "\n",
      "2023-03-07 14:30:30,647 - py.warnings - WARNING - /home/daniel/git/self-supervised-learning/.venv/lib/python3.10/site-packages/setuptools/_distutils/version.py:346: DeprecationWarning: distutils Version classes are deprecated. Use packaging.version instead.\n",
      "  other = LooseVersion(other)\n",
      "\n"
     ]
    },
    {
     "data": {
      "image/png": "[encoded data removed]"
     },
     "metadata": {},
     "output_type": "display_data"
    }
   ],
   "source": [
    "%matplotlib inline\n",
    "import seaborn as sns\n",
    "import matplotlib.pyplot as plt\n",
    "\n",
    "sns.set()\n",
    "\n",
    "sns.regplot(x=test_preds, y=test_flower_counts)\n",
    "plt.show()"
   ]
  },
  {
   "cell_type": "code",
   "execution_count": 14,
   "id": "edbe2b6a-40f5-457c-98b9-80735eef556c",
   "metadata": {},
   "outputs": [
    {
     "data": {
      "image/png": "[encoded data removed]"
     },
     "metadata": {},
     "output_type": "display_data"
    }
   ],
   "source": [
    "sns.histplot(x=errors)"
   ]
  },
  {
   "cell_type": "code",
   "execution_count": 15,
   "id": "eca935db-8542-4b2a-93e9-9e88eae781ea",
   "metadata": {},
   "outputs": [
    {
     "data": {
      "text/html": [
       "<pre style=\"white-space:pre;overflow-x:auto;line-height:normal;font-family:Menlo,'DejaVu Sans Mono',consolas,'Courier New',monospace\"><span style=\"color: #008080; text-decoration-color: #008080; font-weight: bold\">149.14087300267488</span>\n",
       "</pre>\n"
      ],
      "text/plain": [
       "\u001B[1;36m149.14087300267488\u001B[0m\n"
      ]
     },
     "metadata": {},
     "output_type": "display_data"
    }
   ],
   "source": [
    "import numpy as np\n",
    "\n",
    "# Use the coefficient of variation of the differences between frames to provide a measure of \"smoothness\".\n",
    "gt_diff = np.diff(test_flower_counts)\n",
    "gt_smoothness = np.std(gt_diff) / np.abs(np.mean(gt_diff))\n",
    "gt_smoothness"
   ]
  },
  {
   "cell_type": "code",
   "execution_count": 16,
   "id": "4184c156-a024-42ce-8bb0-b1a81f1480ea",
   "metadata": {
    "tags": []
   },
   "outputs": [
    {
     "data": {
      "text/html": [
       "<pre style=\"white-space:pre;overflow-x:auto;line-height:normal;font-family:Menlo,'DejaVu Sans Mono',consolas,'Courier New',monospace\"><span style=\"color: #008080; text-decoration-color: #008080; font-weight: bold\">287.2199</span>\n",
       "</pre>\n"
      ],
      "text/plain": [
       "\u001B[1;36m287.2199\u001B[0m\n"
      ]
     },
     "metadata": {},
     "output_type": "display_data"
    }
   ],
   "source": [
    "pred_diff = np.diff(test_preds)\n",
    "pred_smoothness = np.std(pred_diff) / np.abs(np.mean(pred_diff))\n",
    "pred_smoothness"
   ]
  },
  {
   "cell_type": "code",
   "execution_count": 17,
   "id": "da4ca9a6-95c7-4cf8-b188-12ab036b7aa4",
   "metadata": {
    "tags": []
   },
   "outputs": [
    {
     "data": {
      "text/html": [
       "<pre style=\"white-space:pre;overflow-x:auto;line-height:normal;font-family:Menlo,'DejaVu Sans Mono',consolas,'Courier New',monospace\"><span style=\"color: #008080; text-decoration-color: #008080; font-weight: bold\">351.88214</span>\n",
       "</pre>\n"
      ],
      "text/plain": [
       "\u001B[1;36m351.88214\u001B[0m\n"
      ]
     },
     "metadata": {},
     "output_type": "display_data"
    }
   ],
   "source": [
    "reps_diff = np.diff(test_image_reps_arr, axis=0)\n",
    "reps_smoothness = np.std(reps_diff, axis=0) / np.abs(np.mean(reps_diff, axis=0))\n",
    "np.mean(reps_smoothness)"
   ]
  },
  {
   "cell_type": "code",
   "execution_count": null,
   "id": "f17a26f8-e41c-4135-ab35-f47eb1c2be8b",
   "metadata": {},
   "outputs": [],
   "source": []
  }
 ],
 "metadata": {
  "kernelspec": {
   "display_name": "Kedro (self_supervised)",
   "language": "python",
   "name": "kedro_self_supervised"
  },
  "language_info": {
   "codemirror_mode": {
    "name": "ipython",
    "version": 3
   },
   "file_extension": ".py",
   "mimetype": "text/x-python",
   "name": "python",
   "nbconvert_exporter": "python",
   "pygments_lexer": "ipython3",
   "version": "3.10.10"
  }
 },
 "nbformat": 4,
 "nbformat_minor": 5
}
