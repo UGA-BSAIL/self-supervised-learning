{
 "cells": [
  {
   "cell_type": "code",
   "execution_count": 106,
   "id": "acfda911-ae74-4318-a246-949fe66cdd10",
   "metadata": {
    "tags": []
   },
   "outputs": [
    {
     "name": "stdout",
     "output_type": "stream",
     "text": [
      "2023-02-28 14:20:47,761 - kedro.ipython - INFO - Resolved project path as: /home/daniel/git/self-supervised-learning.\n",
      "To set a different path, run '%reload_kedro <project_root>'\n",
      "2023-02-28 14:20:47,763 - py.warnings - WARNING - /home/daniel/git/self-supervised-learning/.venv/lib/python3.8/site-packages/kedro/framework/startup.py:98: DeprecationWarning: project_version in pyproject.toml is deprecated, use kedro_init_version instead\n",
      "  warnings.warn(\n",
      "\n",
      "2023-02-28 14:20:47,938 - kedro.ipython - INFO - Kedro project Self-Supervised Learning\n",
      "2023-02-28 14:20:47,939 - kedro.ipython - INFO - Defined global variable 'context', 'session', 'catalog' and 'pipelines'\n",
      "2023-02-28 14:20:47,944 - kedro.io.data_catalog - INFO - Loading data from 'yolov5_l_description' (YAMLDataSet)...\n",
      "2023-02-28 14:20:47,950 - kedro.io.data_catalog - INFO - Loading data from 'trained_model' (PytorchModelDataSet)...\n"
     ]
    },
    {
     "name": "stderr",
     "output_type": "stream",
     "text": [
      "2023-02-28 14:20:47.950 | WARNING  | self_supervised.extras.datasets.pytorch_model_data_set:_load:42 - CUDA not available, automatically mapping variables to the CPU.\n"
     ]
    }
   ],
   "source": [
    "from self_supervised.pipelines.representation_model import RepresentationModel, YoloEncoder\n",
    "\n",
    "%reload_kedro\n",
    "model_description = catalog.load(\"yolov5_l_description\")\n",
    "trained_model = catalog.load(\"trained_model\", version=\"2023-02-23T00.23.10.001Z\")\n",
    "#encoder = YoloEncoder(model_description=model_description)\n",
    "#trained_model = RepresentationModel(encoder=encoder)\n",
    "trained_model = trained_model.eval()"
   ]
  },
  {
   "cell_type": "code",
   "execution_count": 107,
   "id": "c1878dbc-46f2-463f-b313-6dc1aed75b69",
   "metadata": {
    "tags": []
   },
   "outputs": [],
   "source": [
    "from pathlib import Path\n",
    "\n",
    "dataset_path = Path(\"/home/daniel/lab_share/projects/CottonFlower2021/flower_dataset\")\n",
    "image_dir = dataset_path / \"flower01\" / \"images\""
   ]
  },
  {
   "cell_type": "code",
   "execution_count": 108,
   "id": "5a67e6c7-88c4-40b3-a33d-1a67a76f0d5f",
   "metadata": {
    "tags": []
   },
   "outputs": [
    {
     "name": "stderr",
     "output_type": "stream",
     "text": [
      "100%|██████████████████████████████████████████████████████████████████████████████████████████████████████████████████████████████████████████████████████████████████████████████████████████████████████████████████████████████████████████████████████████████████████████████████████████████████████████████████████████████| 458/458 [01:06<00:00,  6.89it/s]\n"
     ]
    }
   ],
   "source": [
    "from torchvision.io import read_image\n",
    "from torchvision.transforms.functional import resize\n",
    "from tqdm import tqdm\n",
    "import torch\n",
    "\n",
    "image_reps = []\n",
    "\n",
    "image_list = sorted(list(image_dir.iterdir()))\n",
    "for image_path in tqdm(image_list):\n",
    "    image = read_image(image_path.as_posix())\n",
    "    image.requires_grad = False\n",
    "    image = resize(image, (512, 512))\n",
    "    image = image.to(torch.float) / 255\n",
    "    image_ex = image[None, :, :, :]\n",
    "    \n",
    "    image_reps.append(trained_model(image_ex)[0].detach().numpy())"
   ]
  },
  {
   "cell_type": "code",
   "execution_count": 109,
   "id": "43808fe8-1319-464a-8977-4e7f42db135f",
   "metadata": {
    "tags": []
   },
   "outputs": [
    {
     "data": {
      "text/html": [
       "<div>\n",
       "<style scoped>\n",
       "    .dataframe tbody tr th:only-of-type {\n",
       "        vertical-align: middle;\n",
       "    }\n",
       "\n",
       "    .dataframe tbody tr th {\n",
       "        vertical-align: top;\n",
       "    }\n",
       "\n",
       "    .dataframe thead th {\n",
       "        text-align: right;\n",
       "    }\n",
       "</style>\n",
       "<table border=\"1\" class=\"dataframe\">\n",
       "  <thead>\n",
       "    <tr style=\"text-align: right;\">\n",
       "      <th></th>\n",
       "      <th>class</th>\n",
       "      <th>x</th>\n",
       "      <th>y</th>\n",
       "      <th>width</th>\n",
       "      <th>height</th>\n",
       "      <th>frame</th>\n",
       "    </tr>\n",
       "  </thead>\n",
       "  <tbody>\n",
       "    <tr>\n",
       "      <th>0</th>\n",
       "      <td>0</td>\n",
       "      <td>0.635938</td>\n",
       "      <td>0.238889</td>\n",
       "      <td>0.020833</td>\n",
       "      <td>0.037037</td>\n",
       "      <td>000001.txt</td>\n",
       "    </tr>\n",
       "    <tr>\n",
       "      <th>1</th>\n",
       "      <td>0</td>\n",
       "      <td>0.379427</td>\n",
       "      <td>0.065278</td>\n",
       "      <td>0.015104</td>\n",
       "      <td>0.034259</td>\n",
       "      <td>000001.txt</td>\n",
       "    </tr>\n",
       "    <tr>\n",
       "      <th>2</th>\n",
       "      <td>0</td>\n",
       "      <td>0.634375</td>\n",
       "      <td>0.245370</td>\n",
       "      <td>0.020833</td>\n",
       "      <td>0.037037</td>\n",
       "      <td>000002.txt</td>\n",
       "    </tr>\n",
       "    <tr>\n",
       "      <th>3</th>\n",
       "      <td>0</td>\n",
       "      <td>0.379948</td>\n",
       "      <td>0.068981</td>\n",
       "      <td>0.015104</td>\n",
       "      <td>0.034259</td>\n",
       "      <td>000002.txt</td>\n",
       "    </tr>\n",
       "    <tr>\n",
       "      <th>4</th>\n",
       "      <td>0</td>\n",
       "      <td>0.379948</td>\n",
       "      <td>0.069907</td>\n",
       "      <td>0.015104</td>\n",
       "      <td>0.034259</td>\n",
       "      <td>000003.txt</td>\n",
       "    </tr>\n",
       "    <tr>\n",
       "      <th>...</th>\n",
       "      <td>...</td>\n",
       "      <td>...</td>\n",
       "      <td>...</td>\n",
       "      <td>...</td>\n",
       "      <td>...</td>\n",
       "      <td>...</td>\n",
       "    </tr>\n",
       "    <tr>\n",
       "      <th>1987</th>\n",
       "      <td>0</td>\n",
       "      <td>0.495833</td>\n",
       "      <td>0.971759</td>\n",
       "      <td>0.030208</td>\n",
       "      <td>0.052778</td>\n",
       "      <td>000383.txt</td>\n",
       "    </tr>\n",
       "    <tr>\n",
       "      <th>1988</th>\n",
       "      <td>0</td>\n",
       "      <td>0.496875</td>\n",
       "      <td>0.976852</td>\n",
       "      <td>0.030208</td>\n",
       "      <td>0.046296</td>\n",
       "      <td>000384.txt</td>\n",
       "    </tr>\n",
       "    <tr>\n",
       "      <th>1989</th>\n",
       "      <td>0</td>\n",
       "      <td>0.497656</td>\n",
       "      <td>0.980093</td>\n",
       "      <td>0.028646</td>\n",
       "      <td>0.037963</td>\n",
       "      <td>000385.txt</td>\n",
       "    </tr>\n",
       "    <tr>\n",
       "      <th>1990</th>\n",
       "      <td>0</td>\n",
       "      <td>0.497135</td>\n",
       "      <td>0.986111</td>\n",
       "      <td>0.028646</td>\n",
       "      <td>0.027778</td>\n",
       "      <td>000386.txt</td>\n",
       "    </tr>\n",
       "    <tr>\n",
       "      <th>1991</th>\n",
       "      <td>0</td>\n",
       "      <td>0.497656</td>\n",
       "      <td>0.991667</td>\n",
       "      <td>0.028646</td>\n",
       "      <td>0.016667</td>\n",
       "      <td>000387.txt</td>\n",
       "    </tr>\n",
       "  </tbody>\n",
       "</table>\n",
       "<p>1992 rows × 6 columns</p>\n",
       "</div>"
      ]
     },
     "execution_count": 109,
     "metadata": {},
     "output_type": "execute_result"
    }
   ],
   "source": [
    "# Load flower counts.\n",
    "import pandas as pd\n",
    "\n",
    "labels_dir = dataset_path / \"flower01\" / \"labels\"\n",
    "all_labels = []\n",
    "labels_list = sorted(list(labels_dir.iterdir()))\n",
    "for labels_path in labels_list:\n",
    "    frame_labels = pd.read_csv(labels_path, sep=\" \", names=[\"class\", \"x\", \"y\", \"width\", \"height\"])\n",
    "    frame_labels[\"frame\"] = labels_path.name\n",
    "    all_labels.append(frame_labels)\n",
    "    \n",
    "all_labels = pd.concat(all_labels, ignore_index=True)\n",
    "all_labels"
   ]
  },
  {
   "cell_type": "code",
   "execution_count": 110,
   "id": "96a261b8-3343-4c52-a567-4a94fcbc3964",
   "metadata": {
    "tags": []
   },
   "outputs": [],
   "source": [
    "import numpy as np\n",
    "\n",
    "# Create flower counts labels.\n",
    "flower_counts = []\n",
    "for image_path in labels_list:\n",
    "    flower_counts.append(np.count_nonzero(all_labels[\"frame\"] == image_path.name))"
   ]
  },
  {
   "cell_type": "code",
   "execution_count": 178,
   "id": "8ca94b64-b75c-41e7-a3f3-459bd29de228",
   "metadata": {
    "tags": []
   },
   "outputs": [],
   "source": [
    "from sklearn.linear_model import Ridge\n",
    "\n",
    "flower_counts = np.array(flower_counts, dtype=float)\n",
    "image_reps_arr = np.concatenate(image_reps, axis=0)[:387]\n",
    "\n",
    "reg = Ridge(alpha=0.0).fit(image_reps_arr, flower_counts)"
   ]
  },
  {
   "cell_type": "code",
   "execution_count": 138,
   "id": "8cd84dd2-fc0b-482e-b69a-7bed0e95f7e5",
   "metadata": {
    "tags": []
   },
   "outputs": [
    {
     "name": "stderr",
     "output_type": "stream",
     "text": [
      "100%|██████████████████████████████████████████████████████████████████████████████████████████████████████████████████████████████████████████████████████████████████████████████████████████████████████████████████████████████████████████████████████████████████████████████████████████████████████████████████████████████| 333/333 [00:47<00:00,  6.99it/s]\n"
     ]
    }
   ],
   "source": [
    "test_image_dir = dataset_path / \"flower02\" / \"images\"\n",
    "\n",
    "test_image_reps = []\n",
    "\n",
    "image_list = sorted(list(test_image_dir.iterdir()))\n",
    "for image_path in tqdm(image_list):\n",
    "    image = read_image(image_path.as_posix())\n",
    "    image.requires_grad = False\n",
    "    image = resize(image, (512, 512))\n",
    "    image = image.to(torch.float) / 255\n",
    "    image_ex = image[None, :, :, :]\n",
    "    \n",
    "    test_image_reps.append(trained_model(image_ex)[0].detach().numpy())\n",
    "\n",
    "test_image_reps = np.concatenate(test_image_reps, axis=0)"
   ]
  },
  {
   "cell_type": "code",
   "execution_count": 179,
   "id": "23cf629c-e859-47c7-92ac-593d56789b05",
   "metadata": {
    "tags": []
   },
   "outputs": [
    {
     "data": {
      "text/html": [
       "<pre style=\"white-space:pre;overflow-x:auto;line-height:normal;font-family:Menlo,'DejaVu Sans Mono',consolas,'Courier New',monospace\">\n",
       "<span style=\"color: #800080; text-decoration-color: #800080; font-weight: bold\">array</span><span style=\"font-weight: bold\">([</span>    <span style=\"color: #008080; text-decoration-color: #008080; font-weight: bold\">-2.4831</span>,     <span style=\"color: #008080; text-decoration-color: #008080; font-weight: bold\">-2.1934</span>,     <span style=\"color: #008080; text-decoration-color: #008080; font-weight: bold\">-2.0657</span>,     <span style=\"color: #008080; text-decoration-color: #008080; font-weight: bold\">-2.5024</span>,      <span style=\"color: #008080; text-decoration-color: #008080; font-weight: bold\">-1.938</span>,     <span style=\"color: #008080; text-decoration-color: #008080; font-weight: bold\">-2.6965</span>,      <span style=\"color: #008080; text-decoration-color: #008080; font-weight: bold\">-1.538</span>,     <span style=\"color: #008080; text-decoration-color: #008080; font-weight: bold\">-2.1571</span>,     <span style=\"color: #008080; text-decoration-color: #008080; font-weight: bold\">-1.5976</span>,     <span style=\"color: #008080; text-decoration-color: #008080; font-weight: bold\">-1.2941</span>,     <span style=\"color: #008080; text-decoration-color: #008080; font-weight: bold\">-1.7573</span>,     <span style=\"color: #008080; text-decoration-color: #008080; font-weight: bold\">-1.5054</span>,     <span style=\"color: #008080; text-decoration-color: #008080; font-weight: bold\">-2.2616</span>,     <span style=\"color: #008080; text-decoration-color: #008080; font-weight: bold\">-2.7875</span>,     <span style=\"color: #008080; text-decoration-color: #008080; font-weight: bold\">-1.8847</span>,     <span style=\"color: #008080; text-decoration-color: #008080; font-weight: bold\">-1.2749</span>,    <span style=\"color: #008080; text-decoration-color: #008080; font-weight: bold\">-0.87608</span>,     <span style=\"color: #008080; text-decoration-color: #008080; font-weight: bold\">0.28571</span>,     <span style=\"color: #008080; text-decoration-color: #008080; font-weight: bold\">0.11819</span>,    <span style=\"color: #008080; text-decoration-color: #008080; font-weight: bold\">0.099052</span>,    <span style=\"color: #008080; text-decoration-color: #008080; font-weight: bold\">-0.48085</span>,    <span style=\"color: #008080; text-decoration-color: #008080; font-weight: bold\">-0.29381</span>,    <span style=\"color: #008080; text-decoration-color: #008080; font-weight: bold\">-0.66149</span>,     <span style=\"color: #008080; text-decoration-color: #008080; font-weight: bold\">-1.0891</span>,\n",
       "            <span style=\"color: #008080; text-decoration-color: #008080; font-weight: bold\">0.5182</span>,      <span style=\"color: #008080; text-decoration-color: #008080; font-weight: bold\">1.5757</span>,      <span style=\"color: #008080; text-decoration-color: #008080; font-weight: bold\">1.3028</span>,      <span style=\"color: #008080; text-decoration-color: #008080; font-weight: bold\">2.5069</span>,      <span style=\"color: #008080; text-decoration-color: #008080; font-weight: bold\">2.7178</span>,      <span style=\"color: #008080; text-decoration-color: #008080; font-weight: bold\">2.8326</span>,      <span style=\"color: #008080; text-decoration-color: #008080; font-weight: bold\">2.3228</span>,      <span style=\"color: #008080; text-decoration-color: #008080; font-weight: bold\">2.2878</span>,      <span style=\"color: #008080; text-decoration-color: #008080; font-weight: bold\">2.7142</span>,      <span style=\"color: #008080; text-decoration-color: #008080; font-weight: bold\">1.3671</span>,       <span style=\"color: #008080; text-decoration-color: #008080; font-weight: bold\">2.395</span>,      <span style=\"color: #008080; text-decoration-color: #008080; font-weight: bold\">1.7126</span>,      <span style=\"color: #008080; text-decoration-color: #008080; font-weight: bold\">2.8289</span>,      <span style=\"color: #008080; text-decoration-color: #008080; font-weight: bold\">3.7205</span>,      <span style=\"color: #008080; text-decoration-color: #008080; font-weight: bold\">4.2072</span>,      <span style=\"color: #008080; text-decoration-color: #008080; font-weight: bold\">3.7813</span>,      <span style=\"color: #008080; text-decoration-color: #008080; font-weight: bold\">3.2524</span>,      <span style=\"color: #008080; text-decoration-color: #008080; font-weight: bold\">3.1899</span>,      <span style=\"color: #008080; text-decoration-color: #008080; font-weight: bold\">3.4761</span>,      <span style=\"color: #008080; text-decoration-color: #008080; font-weight: bold\">4.1692</span>,      <span style=\"color: #008080; text-decoration-color: #008080; font-weight: bold\">4.2121</span>,      <span style=\"color: #008080; text-decoration-color: #008080; font-weight: bold\">3.3975</span>,       <span style=\"color: #008080; text-decoration-color: #008080; font-weight: bold\">4.074</span>,      <span style=\"color: #008080; text-decoration-color: #008080; font-weight: bold\">4.6567</span>,\n",
       "            <span style=\"color: #008080; text-decoration-color: #008080; font-weight: bold\">5.0211</span>,      <span style=\"color: #008080; text-decoration-color: #008080; font-weight: bold\">4.9922</span>,      <span style=\"color: #008080; text-decoration-color: #008080; font-weight: bold\">4.8022</span>,      <span style=\"color: #008080; text-decoration-color: #008080; font-weight: bold\">5.1558</span>,       <span style=\"color: #008080; text-decoration-color: #008080; font-weight: bold\">4.211</span>,       <span style=\"color: #008080; text-decoration-color: #008080; font-weight: bold\">5.136</span>,      <span style=\"color: #008080; text-decoration-color: #008080; font-weight: bold\">6.8321</span>,      <span style=\"color: #008080; text-decoration-color: #008080; font-weight: bold\">7.7943</span>,      <span style=\"color: #008080; text-decoration-color: #008080; font-weight: bold\">7.3939</span>,      <span style=\"color: #008080; text-decoration-color: #008080; font-weight: bold\">7.0154</span>,      <span style=\"color: #008080; text-decoration-color: #008080; font-weight: bold\">7.7089</span>,      <span style=\"color: #008080; text-decoration-color: #008080; font-weight: bold\">8.1706</span>,      <span style=\"color: #008080; text-decoration-color: #008080; font-weight: bold\">8.4059</span>,      <span style=\"color: #008080; text-decoration-color: #008080; font-weight: bold\">9.7485</span>,      <span style=\"color: #008080; text-decoration-color: #008080; font-weight: bold\">9.7794</span>,      <span style=\"color: #008080; text-decoration-color: #008080; font-weight: bold\">8.7727</span>,      <span style=\"color: #008080; text-decoration-color: #008080; font-weight: bold\">8.6207</span>,       <span style=\"color: #008080; text-decoration-color: #008080; font-weight: bold\">9.321</span>,      <span style=\"color: #008080; text-decoration-color: #008080; font-weight: bold\">9.7748</span>,      <span style=\"color: #008080; text-decoration-color: #008080; font-weight: bold\">10.233</span>,      <span style=\"color: #008080; text-decoration-color: #008080; font-weight: bold\">6.5245</span>,      <span style=\"color: #008080; text-decoration-color: #008080; font-weight: bold\">7.4919</span>,      <span style=\"color: #008080; text-decoration-color: #008080; font-weight: bold\">6.2563</span>,       <span style=\"color: #008080; text-decoration-color: #008080; font-weight: bold\">8.027</span>,\n",
       "             <span style=\"color: #008080; text-decoration-color: #008080; font-weight: bold\">6.331</span>,      <span style=\"color: #008080; text-decoration-color: #008080; font-weight: bold\">6.7641</span>,      <span style=\"color: #008080; text-decoration-color: #008080; font-weight: bold\">6.3113</span>,      <span style=\"color: #008080; text-decoration-color: #008080; font-weight: bold\">6.6072</span>,       <span style=\"color: #008080; text-decoration-color: #008080; font-weight: bold\">7.854</span>,      <span style=\"color: #008080; text-decoration-color: #008080; font-weight: bold\">8.0918</span>,      <span style=\"color: #008080; text-decoration-color: #008080; font-weight: bold\">8.0376</span>,      <span style=\"color: #008080; text-decoration-color: #008080; font-weight: bold\">9.4721</span>,      <span style=\"color: #008080; text-decoration-color: #008080; font-weight: bold\">9.9125</span>,      <span style=\"color: #008080; text-decoration-color: #008080; font-weight: bold\">9.0368</span>,      <span style=\"color: #008080; text-decoration-color: #008080; font-weight: bold\">9.6794</span>,      <span style=\"color: #008080; text-decoration-color: #008080; font-weight: bold\">9.0273</span>,      <span style=\"color: #008080; text-decoration-color: #008080; font-weight: bold\">8.5237</span>,      <span style=\"color: #008080; text-decoration-color: #008080; font-weight: bold\">8.1096</span>,      <span style=\"color: #008080; text-decoration-color: #008080; font-weight: bold\">8.8164</span>,      <span style=\"color: #008080; text-decoration-color: #008080; font-weight: bold\">6.4722</span>,      <span style=\"color: #008080; text-decoration-color: #008080; font-weight: bold\">6.6851</span>,      <span style=\"color: #008080; text-decoration-color: #008080; font-weight: bold\">5.3053</span>,      <span style=\"color: #008080; text-decoration-color: #008080; font-weight: bold\">5.5919</span>,      <span style=\"color: #008080; text-decoration-color: #008080; font-weight: bold\">5.8858</span>,       <span style=\"color: #008080; text-decoration-color: #008080; font-weight: bold\">6.838</span>,      <span style=\"color: #008080; text-decoration-color: #008080; font-weight: bold\">5.2661</span>,      <span style=\"color: #008080; text-decoration-color: #008080; font-weight: bold\">5.0332</span>,      <span style=\"color: #008080; text-decoration-color: #008080; font-weight: bold\">5.8875</span>,\n",
       "            <span style=\"color: #008080; text-decoration-color: #008080; font-weight: bold\">4.9928</span>,      <span style=\"color: #008080; text-decoration-color: #008080; font-weight: bold\">5.3597</span>,      <span style=\"color: #008080; text-decoration-color: #008080; font-weight: bold\">5.7046</span>,      <span style=\"color: #008080; text-decoration-color: #008080; font-weight: bold\">5.3834</span>,      <span style=\"color: #008080; text-decoration-color: #008080; font-weight: bold\">6.8273</span>,      <span style=\"color: #008080; text-decoration-color: #008080; font-weight: bold\">8.2434</span>,      <span style=\"color: #008080; text-decoration-color: #008080; font-weight: bold\">5.8655</span>,      <span style=\"color: #008080; text-decoration-color: #008080; font-weight: bold\">5.8969</span>,      <span style=\"color: #008080; text-decoration-color: #008080; font-weight: bold\">6.5633</span>,      <span style=\"color: #008080; text-decoration-color: #008080; font-weight: bold\">7.3608</span>,      <span style=\"color: #008080; text-decoration-color: #008080; font-weight: bold\">7.0691</span>,      <span style=\"color: #008080; text-decoration-color: #008080; font-weight: bold\">6.5379</span>,      <span style=\"color: #008080; text-decoration-color: #008080; font-weight: bold\">5.2227</span>,      <span style=\"color: #008080; text-decoration-color: #008080; font-weight: bold\">5.6438</span>,      <span style=\"color: #008080; text-decoration-color: #008080; font-weight: bold\">5.5053</span>,      <span style=\"color: #008080; text-decoration-color: #008080; font-weight: bold\">5.1393</span>,       <span style=\"color: #008080; text-decoration-color: #008080; font-weight: bold\">4.469</span>,      <span style=\"color: #008080; text-decoration-color: #008080; font-weight: bold\">4.6052</span>,      <span style=\"color: #008080; text-decoration-color: #008080; font-weight: bold\">4.8908</span>,      <span style=\"color: #008080; text-decoration-color: #008080; font-weight: bold\">5.4548</span>,      <span style=\"color: #008080; text-decoration-color: #008080; font-weight: bold\">5.0062</span>,      <span style=\"color: #008080; text-decoration-color: #008080; font-weight: bold\">4.3988</span>,      <span style=\"color: #008080; text-decoration-color: #008080; font-weight: bold\">4.0183</span>,      <span style=\"color: #008080; text-decoration-color: #008080; font-weight: bold\">5.0556</span>,\n",
       "            <span style=\"color: #008080; text-decoration-color: #008080; font-weight: bold\">6.7169</span>,       <span style=\"color: #008080; text-decoration-color: #008080; font-weight: bold\">6.601</span>,      <span style=\"color: #008080; text-decoration-color: #008080; font-weight: bold\">5.4646</span>,      <span style=\"color: #008080; text-decoration-color: #008080; font-weight: bold\">5.9257</span>,      <span style=\"color: #008080; text-decoration-color: #008080; font-weight: bold\">4.4814</span>,      <span style=\"color: #008080; text-decoration-color: #008080; font-weight: bold\">3.9153</span>,      <span style=\"color: #008080; text-decoration-color: #008080; font-weight: bold\">4.4767</span>,      <span style=\"color: #008080; text-decoration-color: #008080; font-weight: bold\">5.5615</span>,      <span style=\"color: #008080; text-decoration-color: #008080; font-weight: bold\">3.7926</span>,      <span style=\"color: #008080; text-decoration-color: #008080; font-weight: bold\">4.3513</span>,      <span style=\"color: #008080; text-decoration-color: #008080; font-weight: bold\">5.4944</span>,      <span style=\"color: #008080; text-decoration-color: #008080; font-weight: bold\">6.5015</span>,      <span style=\"color: #008080; text-decoration-color: #008080; font-weight: bold\">6.2767</span>,      <span style=\"color: #008080; text-decoration-color: #008080; font-weight: bold\">5.6288</span>,      <span style=\"color: #008080; text-decoration-color: #008080; font-weight: bold\">6.2332</span>,      <span style=\"color: #008080; text-decoration-color: #008080; font-weight: bold\">5.3938</span>,       <span style=\"color: #008080; text-decoration-color: #008080; font-weight: bold\">5.056</span>,      <span style=\"color: #008080; text-decoration-color: #008080; font-weight: bold\">4.6462</span>,      <span style=\"color: #008080; text-decoration-color: #008080; font-weight: bold\">3.7181</span>,      <span style=\"color: #008080; text-decoration-color: #008080; font-weight: bold\">4.1667</span>,      <span style=\"color: #008080; text-decoration-color: #008080; font-weight: bold\">5.1843</span>,      <span style=\"color: #008080; text-decoration-color: #008080; font-weight: bold\">5.6563</span>,      <span style=\"color: #008080; text-decoration-color: #008080; font-weight: bold\">5.7644</span>,      <span style=\"color: #008080; text-decoration-color: #008080; font-weight: bold\">4.7116</span>,\n",
       "            <span style=\"color: #008080; text-decoration-color: #008080; font-weight: bold\">5.7427</span>,      <span style=\"color: #008080; text-decoration-color: #008080; font-weight: bold\">6.2795</span>,      <span style=\"color: #008080; text-decoration-color: #008080; font-weight: bold\">5.2465</span>,      <span style=\"color: #008080; text-decoration-color: #008080; font-weight: bold\">5.1214</span>,      <span style=\"color: #008080; text-decoration-color: #008080; font-weight: bold\">5.4913</span>,       <span style=\"color: #008080; text-decoration-color: #008080; font-weight: bold\">4.462</span>,      <span style=\"color: #008080; text-decoration-color: #008080; font-weight: bold\">4.9848</span>,       <span style=\"color: #008080; text-decoration-color: #008080; font-weight: bold\">5.008</span>,      <span style=\"color: #008080; text-decoration-color: #008080; font-weight: bold\">5.2419</span>,        <span style=\"color: #008080; text-decoration-color: #008080; font-weight: bold\">6.75</span>,      <span style=\"color: #008080; text-decoration-color: #008080; font-weight: bold\">7.0401</span>,      <span style=\"color: #008080; text-decoration-color: #008080; font-weight: bold\">6.5796</span>,      <span style=\"color: #008080; text-decoration-color: #008080; font-weight: bold\">5.6983</span>,      <span style=\"color: #008080; text-decoration-color: #008080; font-weight: bold\">5.7034</span>,      <span style=\"color: #008080; text-decoration-color: #008080; font-weight: bold\">6.2438</span>,      <span style=\"color: #008080; text-decoration-color: #008080; font-weight: bold\">6.2369</span>,      <span style=\"color: #008080; text-decoration-color: #008080; font-weight: bold\">6.5356</span>,      <span style=\"color: #008080; text-decoration-color: #008080; font-weight: bold\">7.7542</span>,       <span style=\"color: #008080; text-decoration-color: #008080; font-weight: bold\">6.756</span>,      <span style=\"color: #008080; text-decoration-color: #008080; font-weight: bold\">7.4895</span>,      <span style=\"color: #008080; text-decoration-color: #008080; font-weight: bold\">8.6775</span>,      <span style=\"color: #008080; text-decoration-color: #008080; font-weight: bold\">6.6637</span>,      <span style=\"color: #008080; text-decoration-color: #008080; font-weight: bold\">7.3058</span>,      <span style=\"color: #008080; text-decoration-color: #008080; font-weight: bold\">6.3084</span>,\n",
       "            <span style=\"color: #008080; text-decoration-color: #008080; font-weight: bold\">7.4172</span>,       <span style=\"color: #008080; text-decoration-color: #008080; font-weight: bold\">8.246</span>,      <span style=\"color: #008080; text-decoration-color: #008080; font-weight: bold\">8.5606</span>,      <span style=\"color: #008080; text-decoration-color: #008080; font-weight: bold\">7.9046</span>,      <span style=\"color: #008080; text-decoration-color: #008080; font-weight: bold\">8.7376</span>,      <span style=\"color: #008080; text-decoration-color: #008080; font-weight: bold\">7.4027</span>,      <span style=\"color: #008080; text-decoration-color: #008080; font-weight: bold\">9.4118</span>,      <span style=\"color: #008080; text-decoration-color: #008080; font-weight: bold\">8.5429</span>,      <span style=\"color: #008080; text-decoration-color: #008080; font-weight: bold\">9.3106</span>,      <span style=\"color: #008080; text-decoration-color: #008080; font-weight: bold\">6.4942</span>,      <span style=\"color: #008080; text-decoration-color: #008080; font-weight: bold\">8.0959</span>,      <span style=\"color: #008080; text-decoration-color: #008080; font-weight: bold\">7.4648</span>,      <span style=\"color: #008080; text-decoration-color: #008080; font-weight: bold\">9.5435</span>,      <span style=\"color: #008080; text-decoration-color: #008080; font-weight: bold\">7.8509</span>,      <span style=\"color: #008080; text-decoration-color: #008080; font-weight: bold\">7.9301</span>,      <span style=\"color: #008080; text-decoration-color: #008080; font-weight: bold\">8.4841</span>,      <span style=\"color: #008080; text-decoration-color: #008080; font-weight: bold\">10.052</span>,      <span style=\"color: #008080; text-decoration-color: #008080; font-weight: bold\">9.0643</span>,      <span style=\"color: #008080; text-decoration-color: #008080; font-weight: bold\">9.0663</span>,      <span style=\"color: #008080; text-decoration-color: #008080; font-weight: bold\">8.8497</span>,      <span style=\"color: #008080; text-decoration-color: #008080; font-weight: bold\">8.1917</span>,      <span style=\"color: #008080; text-decoration-color: #008080; font-weight: bold\">8.0124</span>,      <span style=\"color: #008080; text-decoration-color: #008080; font-weight: bold\">10.244</span>,      <span style=\"color: #008080; text-decoration-color: #008080; font-weight: bold\">11.721</span>,\n",
       "            <span style=\"color: #008080; text-decoration-color: #008080; font-weight: bold\">10.676</span>,      <span style=\"color: #008080; text-decoration-color: #008080; font-weight: bold\">11.675</span>,      <span style=\"color: #008080; text-decoration-color: #008080; font-weight: bold\">10.755</span>,      <span style=\"color: #008080; text-decoration-color: #008080; font-weight: bold\">11.125</span>,       <span style=\"color: #008080; text-decoration-color: #008080; font-weight: bold\">11.41</span>,      <span style=\"color: #008080; text-decoration-color: #008080; font-weight: bold\">8.5497</span>,      <span style=\"color: #008080; text-decoration-color: #008080; font-weight: bold\">8.7545</span>,      <span style=\"color: #008080; text-decoration-color: #008080; font-weight: bold\">10.339</span>,      <span style=\"color: #008080; text-decoration-color: #008080; font-weight: bold\">10.615</span>,      <span style=\"color: #008080; text-decoration-color: #008080; font-weight: bold\">9.9031</span>,       <span style=\"color: #008080; text-decoration-color: #008080; font-weight: bold\">10.28</span>,      <span style=\"color: #008080; text-decoration-color: #008080; font-weight: bold\">9.8273</span>,      <span style=\"color: #008080; text-decoration-color: #008080; font-weight: bold\">10.882</span>,      <span style=\"color: #008080; text-decoration-color: #008080; font-weight: bold\">11.068</span>,      <span style=\"color: #008080; text-decoration-color: #008080; font-weight: bold\">8.4472</span>,      <span style=\"color: #008080; text-decoration-color: #008080; font-weight: bold\">7.1621</span>,      <span style=\"color: #008080; text-decoration-color: #008080; font-weight: bold\">6.6307</span>,       <span style=\"color: #008080; text-decoration-color: #008080; font-weight: bold\">6.818</span>,      <span style=\"color: #008080; text-decoration-color: #008080; font-weight: bold\">8.8335</span>,      <span style=\"color: #008080; text-decoration-color: #008080; font-weight: bold\">9.6649</span>,      <span style=\"color: #008080; text-decoration-color: #008080; font-weight: bold\">9.6228</span>,      <span style=\"color: #008080; text-decoration-color: #008080; font-weight: bold\">10.365</span>,      <span style=\"color: #008080; text-decoration-color: #008080; font-weight: bold\">10.391</span>,      <span style=\"color: #008080; text-decoration-color: #008080; font-weight: bold\">9.7196</span>,\n",
       "            <span style=\"color: #008080; text-decoration-color: #008080; font-weight: bold\">10.344</span>,      <span style=\"color: #008080; text-decoration-color: #008080; font-weight: bold\">11.125</span>,      <span style=\"color: #008080; text-decoration-color: #008080; font-weight: bold\">10.859</span>,      <span style=\"color: #008080; text-decoration-color: #008080; font-weight: bold\">9.2424</span>,      <span style=\"color: #008080; text-decoration-color: #008080; font-weight: bold\">11.765</span>,      <span style=\"color: #008080; text-decoration-color: #008080; font-weight: bold\">11.194</span>,      <span style=\"color: #008080; text-decoration-color: #008080; font-weight: bold\">10.568</span>,      <span style=\"color: #008080; text-decoration-color: #008080; font-weight: bold\">10.558</span>,      <span style=\"color: #008080; text-decoration-color: #008080; font-weight: bold\">9.5558</span>,      <span style=\"color: #008080; text-decoration-color: #008080; font-weight: bold\">10.012</span>,      <span style=\"color: #008080; text-decoration-color: #008080; font-weight: bold\">10.989</span>,      <span style=\"color: #008080; text-decoration-color: #008080; font-weight: bold\">9.8753</span>,      <span style=\"color: #008080; text-decoration-color: #008080; font-weight: bold\">10.889</span>,      <span style=\"color: #008080; text-decoration-color: #008080; font-weight: bold\">9.6224</span>,      <span style=\"color: #008080; text-decoration-color: #008080; font-weight: bold\">8.7011</span>,       <span style=\"color: #008080; text-decoration-color: #008080; font-weight: bold\">8.932</span>,      <span style=\"color: #008080; text-decoration-color: #008080; font-weight: bold\">7.8177</span>,      <span style=\"color: #008080; text-decoration-color: #008080; font-weight: bold\">7.8068</span>,      <span style=\"color: #008080; text-decoration-color: #008080; font-weight: bold\">9.1628</span>,      <span style=\"color: #008080; text-decoration-color: #008080; font-weight: bold\">7.8426</span>,      <span style=\"color: #008080; text-decoration-color: #008080; font-weight: bold\">5.4757</span>,      <span style=\"color: #008080; text-decoration-color: #008080; font-weight: bold\">4.9722</span>,      <span style=\"color: #008080; text-decoration-color: #008080; font-weight: bold\">5.8472</span>,      <span style=\"color: #008080; text-decoration-color: #008080; font-weight: bold\">5.7481</span>,\n",
       "            <span style=\"color: #008080; text-decoration-color: #008080; font-weight: bold\">4.0345</span>,      <span style=\"color: #008080; text-decoration-color: #008080; font-weight: bold\">6.0724</span>,      <span style=\"color: #008080; text-decoration-color: #008080; font-weight: bold\">4.3955</span>,        <span style=\"color: #008080; text-decoration-color: #008080; font-weight: bold\">4.78</span>,      <span style=\"color: #008080; text-decoration-color: #008080; font-weight: bold\">4.7108</span>,      <span style=\"color: #008080; text-decoration-color: #008080; font-weight: bold\">6.5084</span>,       <span style=\"color: #008080; text-decoration-color: #008080; font-weight: bold\">5.327</span>,      <span style=\"color: #008080; text-decoration-color: #008080; font-weight: bold\">6.8048</span>,      <span style=\"color: #008080; text-decoration-color: #008080; font-weight: bold\">6.5597</span>,      <span style=\"color: #008080; text-decoration-color: #008080; font-weight: bold\">4.0661</span>,      <span style=\"color: #008080; text-decoration-color: #008080; font-weight: bold\">4.4289</span>,      <span style=\"color: #008080; text-decoration-color: #008080; font-weight: bold\">5.0454</span>,      <span style=\"color: #008080; text-decoration-color: #008080; font-weight: bold\">4.5314</span>,      <span style=\"color: #008080; text-decoration-color: #008080; font-weight: bold\">4.7796</span>,      <span style=\"color: #008080; text-decoration-color: #008080; font-weight: bold\">4.9207</span>,      <span style=\"color: #008080; text-decoration-color: #008080; font-weight: bold\">5.0321</span>,      <span style=\"color: #008080; text-decoration-color: #008080; font-weight: bold\">4.7855</span>,      <span style=\"color: #008080; text-decoration-color: #008080; font-weight: bold\">5.6501</span>,       <span style=\"color: #008080; text-decoration-color: #008080; font-weight: bold\">4.478</span>,      <span style=\"color: #008080; text-decoration-color: #008080; font-weight: bold\">3.4618</span>,      <span style=\"color: #008080; text-decoration-color: #008080; font-weight: bold\">3.0123</span>,      <span style=\"color: #008080; text-decoration-color: #008080; font-weight: bold\">3.5015</span>,      <span style=\"color: #008080; text-decoration-color: #008080; font-weight: bold\">2.3585</span>,      <span style=\"color: #008080; text-decoration-color: #008080; font-weight: bold\">3.4612</span>,\n",
       "            <span style=\"color: #008080; text-decoration-color: #008080; font-weight: bold\">3.5568</span>,      <span style=\"color: #008080; text-decoration-color: #008080; font-weight: bold\">3.4228</span>,      <span style=\"color: #008080; text-decoration-color: #008080; font-weight: bold\">3.7989</span>,      <span style=\"color: #008080; text-decoration-color: #008080; font-weight: bold\">4.6775</span>,      <span style=\"color: #008080; text-decoration-color: #008080; font-weight: bold\">5.9742</span>,      <span style=\"color: #008080; text-decoration-color: #008080; font-weight: bold\">5.6056</span>,      <span style=\"color: #008080; text-decoration-color: #008080; font-weight: bold\">1.7587</span>,      <span style=\"color: #008080; text-decoration-color: #008080; font-weight: bold\">3.9029</span>,      <span style=\"color: #008080; text-decoration-color: #008080; font-weight: bold\">3.6243</span>,      <span style=\"color: #008080; text-decoration-color: #008080; font-weight: bold\">3.6194</span>,      <span style=\"color: #008080; text-decoration-color: #008080; font-weight: bold\">3.9278</span>,      <span style=\"color: #008080; text-decoration-color: #008080; font-weight: bold\">4.2022</span>,      <span style=\"color: #008080; text-decoration-color: #008080; font-weight: bold\">2.9368</span>,      <span style=\"color: #008080; text-decoration-color: #008080; font-weight: bold\">4.9979</span>,       <span style=\"color: #008080; text-decoration-color: #008080; font-weight: bold\">2.703</span>,      <span style=\"color: #008080; text-decoration-color: #008080; font-weight: bold\">1.4817</span>,      <span style=\"color: #008080; text-decoration-color: #008080; font-weight: bold\">1.2208</span>,      <span style=\"color: #008080; text-decoration-color: #008080; font-weight: bold\">2.0094</span>,      <span style=\"color: #008080; text-decoration-color: #008080; font-weight: bold\">1.0166</span>,      <span style=\"color: #008080; text-decoration-color: #008080; font-weight: bold\">1.4441</span>,      <span style=\"color: #008080; text-decoration-color: #008080; font-weight: bold\">4.0361</span>,      <span style=\"color: #008080; text-decoration-color: #008080; font-weight: bold\">4.2032</span>,      <span style=\"color: #008080; text-decoration-color: #008080; font-weight: bold\">5.1119</span>,      <span style=\"color: #008080; text-decoration-color: #008080; font-weight: bold\">5.3415</span>,\n",
       "              <span style=\"color: #008080; text-decoration-color: #008080; font-weight: bold\">5.99</span>,      <span style=\"color: #008080; text-decoration-color: #008080; font-weight: bold\">2.6625</span>,      <span style=\"color: #008080; text-decoration-color: #008080; font-weight: bold\">3.4475</span>,      <span style=\"color: #008080; text-decoration-color: #008080; font-weight: bold\">2.1277</span>,      <span style=\"color: #008080; text-decoration-color: #008080; font-weight: bold\">1.8049</span>,      <span style=\"color: #008080; text-decoration-color: #008080; font-weight: bold\">2.9368</span>,      <span style=\"color: #008080; text-decoration-color: #008080; font-weight: bold\">2.2673</span>,     <span style=\"color: #008080; text-decoration-color: #008080; font-weight: bold\">0.35088</span>,      <span style=\"color: #008080; text-decoration-color: #008080; font-weight: bold\">1.1393</span>,     <span style=\"color: #008080; text-decoration-color: #008080; font-weight: bold\">0.65226</span>,    <span style=\"color: #008080; text-decoration-color: #008080; font-weight: bold\">-0.25501</span>,    <span style=\"color: #008080; text-decoration-color: #008080; font-weight: bold\">-0.43439</span>,    <span style=\"color: #008080; text-decoration-color: #008080; font-weight: bold\">-0.86371</span>,     <span style=\"color: #008080; text-decoration-color: #008080; font-weight: bold\">0.70129</span>,    <span style=\"color: #008080; text-decoration-color: #008080; font-weight: bold\">-0.23814</span>,    <span style=\"color: #008080; text-decoration-color: #008080; font-weight: bold\">-0.16139</span>,    <span style=\"color: #008080; text-decoration-color: #008080; font-weight: bold\">0.048035</span>,      <span style=\"color: #008080; text-decoration-color: #008080; font-weight: bold\">2.0102</span>,      <span style=\"color: #008080; text-decoration-color: #008080; font-weight: bold\">4.4774</span>,      <span style=\"color: #008080; text-decoration-color: #008080; font-weight: bold\">5.1827</span>,    <span style=\"color: #008080; text-decoration-color: #008080; font-weight: bold\">0.051277</span>,     <span style=\"color: #008080; text-decoration-color: #008080; font-weight: bold\">-1.6806</span>,     <span style=\"color: #008080; text-decoration-color: #008080; font-weight: bold\">-2.8408</span>,     <span style=\"color: #008080; text-decoration-color: #008080; font-weight: bold\">-3.5513</span>,\n",
       "           <span style=\"color: #008080; text-decoration-color: #008080; font-weight: bold\">-2.8163</span>,     <span style=\"color: #008080; text-decoration-color: #008080; font-weight: bold\">-3.6181</span>,     <span style=\"color: #008080; text-decoration-color: #008080; font-weight: bold\">-2.8591</span>,     <span style=\"color: #008080; text-decoration-color: #008080; font-weight: bold\">-3.6231</span>,     <span style=\"color: #008080; text-decoration-color: #008080; font-weight: bold\">-3.5168</span>,       <span style=\"color: #008080; text-decoration-color: #008080; font-weight: bold\">-2.35</span>,     <span style=\"color: #008080; text-decoration-color: #008080; font-weight: bold\">-3.6972</span>,     <span style=\"color: #008080; text-decoration-color: #008080; font-weight: bold\">-3.3644</span>,     <span style=\"color: #008080; text-decoration-color: #008080; font-weight: bold\">-3.3349</span>,     <span style=\"color: #008080; text-decoration-color: #008080; font-weight: bold\">-4.7966</span>,     <span style=\"color: #008080; text-decoration-color: #008080; font-weight: bold\">-4.0132</span>,     <span style=\"color: #008080; text-decoration-color: #008080; font-weight: bold\">-4.3167</span>,     <span style=\"color: #008080; text-decoration-color: #008080; font-weight: bold\">-4.2466</span>,     <span style=\"color: #008080; text-decoration-color: #008080; font-weight: bold\">-4.5125</span>,     <span style=\"color: #008080; text-decoration-color: #008080; font-weight: bold\">-4.7879</span>,     <span style=\"color: #008080; text-decoration-color: #008080; font-weight: bold\">-4.1071</span>,     <span style=\"color: #008080; text-decoration-color: #008080; font-weight: bold\">-4.0601</span>,     <span style=\"color: #008080; text-decoration-color: #008080; font-weight: bold\">-4.7107</span>,      <span style=\"color: #008080; text-decoration-color: #008080; font-weight: bold\">-4.976</span>,     <span style=\"color: #008080; text-decoration-color: #008080; font-weight: bold\">-5.5152</span>,     <span style=\"color: #008080; text-decoration-color: #008080; font-weight: bold\">-5.8159</span><span style=\"font-weight: bold\">]</span>, <span style=\"color: #808000; text-decoration-color: #808000\">dtype</span>=<span style=\"color: #800080; text-decoration-color: #800080\">float32</span><span style=\"font-weight: bold\">)</span>\n",
       "</pre>\n"
      ],
      "text/plain": [
       "\n",
       "\u001B[1;35marray\u001B[0m\u001B[1m(\u001B[0m\u001B[1m[\u001B[0m    \u001B[1;36m-2.4831\u001B[0m,     \u001B[1;36m-2.1934\u001B[0m,     \u001B[1;36m-2.0657\u001B[0m,     \u001B[1;36m-2.5024\u001B[0m,      \u001B[1;36m-1.938\u001B[0m,     \u001B[1;36m-2.6965\u001B[0m,      \u001B[1;36m-1.538\u001B[0m,     \u001B[1;36m-2.1571\u001B[0m,     \u001B[1;36m-1.5976\u001B[0m,     \u001B[1;36m-1.2941\u001B[0m,     \u001B[1;36m-1.7573\u001B[0m,     \u001B[1;36m-1.5054\u001B[0m,     \u001B[1;36m-2.2616\u001B[0m,     \u001B[1;36m-2.7875\u001B[0m,     \u001B[1;36m-1.8847\u001B[0m,     \u001B[1;36m-1.2749\u001B[0m,    \u001B[1;36m-0.87608\u001B[0m,     \u001B[1;36m0.28571\u001B[0m,     \u001B[1;36m0.11819\u001B[0m,    \u001B[1;36m0.099052\u001B[0m,    \u001B[1;36m-0.48085\u001B[0m,    \u001B[1;36m-0.29381\u001B[0m,    \u001B[1;36m-0.66149\u001B[0m,     \u001B[1;36m-1.0891\u001B[0m,\n",
       "            \u001B[1;36m0.5182\u001B[0m,      \u001B[1;36m1.5757\u001B[0m,      \u001B[1;36m1.3028\u001B[0m,      \u001B[1;36m2.5069\u001B[0m,      \u001B[1;36m2.7178\u001B[0m,      \u001B[1;36m2.8326\u001B[0m,      \u001B[1;36m2.3228\u001B[0m,      \u001B[1;36m2.2878\u001B[0m,      \u001B[1;36m2.7142\u001B[0m,      \u001B[1;36m1.3671\u001B[0m,       \u001B[1;36m2.395\u001B[0m,      \u001B[1;36m1.7126\u001B[0m,      \u001B[1;36m2.8289\u001B[0m,      \u001B[1;36m3.7205\u001B[0m,      \u001B[1;36m4.2072\u001B[0m,      \u001B[1;36m3.7813\u001B[0m,      \u001B[1;36m3.2524\u001B[0m,      \u001B[1;36m3.1899\u001B[0m,      \u001B[1;36m3.4761\u001B[0m,      \u001B[1;36m4.1692\u001B[0m,      \u001B[1;36m4.2121\u001B[0m,      \u001B[1;36m3.3975\u001B[0m,       \u001B[1;36m4.074\u001B[0m,      \u001B[1;36m4.6567\u001B[0m,\n",
       "            \u001B[1;36m5.0211\u001B[0m,      \u001B[1;36m4.9922\u001B[0m,      \u001B[1;36m4.8022\u001B[0m,      \u001B[1;36m5.1558\u001B[0m,       \u001B[1;36m4.211\u001B[0m,       \u001B[1;36m5.136\u001B[0m,      \u001B[1;36m6.8321\u001B[0m,      \u001B[1;36m7.7943\u001B[0m,      \u001B[1;36m7.3939\u001B[0m,      \u001B[1;36m7.0154\u001B[0m,      \u001B[1;36m7.7089\u001B[0m,      \u001B[1;36m8.1706\u001B[0m,      \u001B[1;36m8.4059\u001B[0m,      \u001B[1;36m9.7485\u001B[0m,      \u001B[1;36m9.7794\u001B[0m,      \u001B[1;36m8.7727\u001B[0m,      \u001B[1;36m8.6207\u001B[0m,       \u001B[1;36m9.321\u001B[0m,      \u001B[1;36m9.7748\u001B[0m,      \u001B[1;36m10.233\u001B[0m,      \u001B[1;36m6.5245\u001B[0m,      \u001B[1;36m7.4919\u001B[0m,      \u001B[1;36m6.2563\u001B[0m,       \u001B[1;36m8.027\u001B[0m,\n",
       "             \u001B[1;36m6.331\u001B[0m,      \u001B[1;36m6.7641\u001B[0m,      \u001B[1;36m6.3113\u001B[0m,      \u001B[1;36m6.6072\u001B[0m,       \u001B[1;36m7.854\u001B[0m,      \u001B[1;36m8.0918\u001B[0m,      \u001B[1;36m8.0376\u001B[0m,      \u001B[1;36m9.4721\u001B[0m,      \u001B[1;36m9.9125\u001B[0m,      \u001B[1;36m9.0368\u001B[0m,      \u001B[1;36m9.6794\u001B[0m,      \u001B[1;36m9.0273\u001B[0m,      \u001B[1;36m8.5237\u001B[0m,      \u001B[1;36m8.1096\u001B[0m,      \u001B[1;36m8.8164\u001B[0m,      \u001B[1;36m6.4722\u001B[0m,      \u001B[1;36m6.6851\u001B[0m,      \u001B[1;36m5.3053\u001B[0m,      \u001B[1;36m5.5919\u001B[0m,      \u001B[1;36m5.8858\u001B[0m,       \u001B[1;36m6.838\u001B[0m,      \u001B[1;36m5.2661\u001B[0m,      \u001B[1;36m5.0332\u001B[0m,      \u001B[1;36m5.8875\u001B[0m,\n",
       "            \u001B[1;36m4.9928\u001B[0m,      \u001B[1;36m5.3597\u001B[0m,      \u001B[1;36m5.7046\u001B[0m,      \u001B[1;36m5.3834\u001B[0m,      \u001B[1;36m6.8273\u001B[0m,      \u001B[1;36m8.2434\u001B[0m,      \u001B[1;36m5.8655\u001B[0m,      \u001B[1;36m5.8969\u001B[0m,      \u001B[1;36m6.5633\u001B[0m,      \u001B[1;36m7.3608\u001B[0m,      \u001B[1;36m7.0691\u001B[0m,      \u001B[1;36m6.5379\u001B[0m,      \u001B[1;36m5.2227\u001B[0m,      \u001B[1;36m5.6438\u001B[0m,      \u001B[1;36m5.5053\u001B[0m,      \u001B[1;36m5.1393\u001B[0m,       \u001B[1;36m4.469\u001B[0m,      \u001B[1;36m4.6052\u001B[0m,      \u001B[1;36m4.8908\u001B[0m,      \u001B[1;36m5.4548\u001B[0m,      \u001B[1;36m5.0062\u001B[0m,      \u001B[1;36m4.3988\u001B[0m,      \u001B[1;36m4.0183\u001B[0m,      \u001B[1;36m5.0556\u001B[0m,\n",
       "            \u001B[1;36m6.7169\u001B[0m,       \u001B[1;36m6.601\u001B[0m,      \u001B[1;36m5.4646\u001B[0m,      \u001B[1;36m5.9257\u001B[0m,      \u001B[1;36m4.4814\u001B[0m,      \u001B[1;36m3.9153\u001B[0m,      \u001B[1;36m4.4767\u001B[0m,      \u001B[1;36m5.5615\u001B[0m,      \u001B[1;36m3.7926\u001B[0m,      \u001B[1;36m4.3513\u001B[0m,      \u001B[1;36m5.4944\u001B[0m,      \u001B[1;36m6.5015\u001B[0m,      \u001B[1;36m6.2767\u001B[0m,      \u001B[1;36m5.6288\u001B[0m,      \u001B[1;36m6.2332\u001B[0m,      \u001B[1;36m5.3938\u001B[0m,       \u001B[1;36m5.056\u001B[0m,      \u001B[1;36m4.6462\u001B[0m,      \u001B[1;36m3.7181\u001B[0m,      \u001B[1;36m4.1667\u001B[0m,      \u001B[1;36m5.1843\u001B[0m,      \u001B[1;36m5.6563\u001B[0m,      \u001B[1;36m5.7644\u001B[0m,      \u001B[1;36m4.7116\u001B[0m,\n",
       "            \u001B[1;36m5.7427\u001B[0m,      \u001B[1;36m6.2795\u001B[0m,      \u001B[1;36m5.2465\u001B[0m,      \u001B[1;36m5.1214\u001B[0m,      \u001B[1;36m5.4913\u001B[0m,       \u001B[1;36m4.462\u001B[0m,      \u001B[1;36m4.9848\u001B[0m,       \u001B[1;36m5.008\u001B[0m,      \u001B[1;36m5.2419\u001B[0m,        \u001B[1;36m6.75\u001B[0m,      \u001B[1;36m7.0401\u001B[0m,      \u001B[1;36m6.5796\u001B[0m,      \u001B[1;36m5.6983\u001B[0m,      \u001B[1;36m5.7034\u001B[0m,      \u001B[1;36m6.2438\u001B[0m,      \u001B[1;36m6.2369\u001B[0m,      \u001B[1;36m6.5356\u001B[0m,      \u001B[1;36m7.7542\u001B[0m,       \u001B[1;36m6.756\u001B[0m,      \u001B[1;36m7.4895\u001B[0m,      \u001B[1;36m8.6775\u001B[0m,      \u001B[1;36m6.6637\u001B[0m,      \u001B[1;36m7.3058\u001B[0m,      \u001B[1;36m6.3084\u001B[0m,\n",
       "            \u001B[1;36m7.4172\u001B[0m,       \u001B[1;36m8.246\u001B[0m,      \u001B[1;36m8.5606\u001B[0m,      \u001B[1;36m7.9046\u001B[0m,      \u001B[1;36m8.7376\u001B[0m,      \u001B[1;36m7.4027\u001B[0m,      \u001B[1;36m9.4118\u001B[0m,      \u001B[1;36m8.5429\u001B[0m,      \u001B[1;36m9.3106\u001B[0m,      \u001B[1;36m6.4942\u001B[0m,      \u001B[1;36m8.0959\u001B[0m,      \u001B[1;36m7.4648\u001B[0m,      \u001B[1;36m9.5435\u001B[0m,      \u001B[1;36m7.8509\u001B[0m,      \u001B[1;36m7.9301\u001B[0m,      \u001B[1;36m8.4841\u001B[0m,      \u001B[1;36m10.052\u001B[0m,      \u001B[1;36m9.0643\u001B[0m,      \u001B[1;36m9.0663\u001B[0m,      \u001B[1;36m8.8497\u001B[0m,      \u001B[1;36m8.1917\u001B[0m,      \u001B[1;36m8.0124\u001B[0m,      \u001B[1;36m10.244\u001B[0m,      \u001B[1;36m11.721\u001B[0m,\n",
       "            \u001B[1;36m10.676\u001B[0m,      \u001B[1;36m11.675\u001B[0m,      \u001B[1;36m10.755\u001B[0m,      \u001B[1;36m11.125\u001B[0m,       \u001B[1;36m11.41\u001B[0m,      \u001B[1;36m8.5497\u001B[0m,      \u001B[1;36m8.7545\u001B[0m,      \u001B[1;36m10.339\u001B[0m,      \u001B[1;36m10.615\u001B[0m,      \u001B[1;36m9.9031\u001B[0m,       \u001B[1;36m10.28\u001B[0m,      \u001B[1;36m9.8273\u001B[0m,      \u001B[1;36m10.882\u001B[0m,      \u001B[1;36m11.068\u001B[0m,      \u001B[1;36m8.4472\u001B[0m,      \u001B[1;36m7.1621\u001B[0m,      \u001B[1;36m6.6307\u001B[0m,       \u001B[1;36m6.818\u001B[0m,      \u001B[1;36m8.8335\u001B[0m,      \u001B[1;36m9.6649\u001B[0m,      \u001B[1;36m9.6228\u001B[0m,      \u001B[1;36m10.365\u001B[0m,      \u001B[1;36m10.391\u001B[0m,      \u001B[1;36m9.7196\u001B[0m,\n",
       "            \u001B[1;36m10.344\u001B[0m,      \u001B[1;36m11.125\u001B[0m,      \u001B[1;36m10.859\u001B[0m,      \u001B[1;36m9.2424\u001B[0m,      \u001B[1;36m11.765\u001B[0m,      \u001B[1;36m11.194\u001B[0m,      \u001B[1;36m10.568\u001B[0m,      \u001B[1;36m10.558\u001B[0m,      \u001B[1;36m9.5558\u001B[0m,      \u001B[1;36m10.012\u001B[0m,      \u001B[1;36m10.989\u001B[0m,      \u001B[1;36m9.8753\u001B[0m,      \u001B[1;36m10.889\u001B[0m,      \u001B[1;36m9.6224\u001B[0m,      \u001B[1;36m8.7011\u001B[0m,       \u001B[1;36m8.932\u001B[0m,      \u001B[1;36m7.8177\u001B[0m,      \u001B[1;36m7.8068\u001B[0m,      \u001B[1;36m9.1628\u001B[0m,      \u001B[1;36m7.8426\u001B[0m,      \u001B[1;36m5.4757\u001B[0m,      \u001B[1;36m4.9722\u001B[0m,      \u001B[1;36m5.8472\u001B[0m,      \u001B[1;36m5.7481\u001B[0m,\n",
       "            \u001B[1;36m4.0345\u001B[0m,      \u001B[1;36m6.0724\u001B[0m,      \u001B[1;36m4.3955\u001B[0m,        \u001B[1;36m4.78\u001B[0m,      \u001B[1;36m4.7108\u001B[0m,      \u001B[1;36m6.5084\u001B[0m,       \u001B[1;36m5.327\u001B[0m,      \u001B[1;36m6.8048\u001B[0m,      \u001B[1;36m6.5597\u001B[0m,      \u001B[1;36m4.0661\u001B[0m,      \u001B[1;36m4.4289\u001B[0m,      \u001B[1;36m5.0454\u001B[0m,      \u001B[1;36m4.5314\u001B[0m,      \u001B[1;36m4.7796\u001B[0m,      \u001B[1;36m4.9207\u001B[0m,      \u001B[1;36m5.0321\u001B[0m,      \u001B[1;36m4.7855\u001B[0m,      \u001B[1;36m5.6501\u001B[0m,       \u001B[1;36m4.478\u001B[0m,      \u001B[1;36m3.4618\u001B[0m,      \u001B[1;36m3.0123\u001B[0m,      \u001B[1;36m3.5015\u001B[0m,      \u001B[1;36m2.3585\u001B[0m,      \u001B[1;36m3.4612\u001B[0m,\n",
       "            \u001B[1;36m3.5568\u001B[0m,      \u001B[1;36m3.4228\u001B[0m,      \u001B[1;36m3.7989\u001B[0m,      \u001B[1;36m4.6775\u001B[0m,      \u001B[1;36m5.9742\u001B[0m,      \u001B[1;36m5.6056\u001B[0m,      \u001B[1;36m1.7587\u001B[0m,      \u001B[1;36m3.9029\u001B[0m,      \u001B[1;36m3.6243\u001B[0m,      \u001B[1;36m3.6194\u001B[0m,      \u001B[1;36m3.9278\u001B[0m,      \u001B[1;36m4.2022\u001B[0m,      \u001B[1;36m2.9368\u001B[0m,      \u001B[1;36m4.9979\u001B[0m,       \u001B[1;36m2.703\u001B[0m,      \u001B[1;36m1.4817\u001B[0m,      \u001B[1;36m1.2208\u001B[0m,      \u001B[1;36m2.0094\u001B[0m,      \u001B[1;36m1.0166\u001B[0m,      \u001B[1;36m1.4441\u001B[0m,      \u001B[1;36m4.0361\u001B[0m,      \u001B[1;36m4.2032\u001B[0m,      \u001B[1;36m5.1119\u001B[0m,      \u001B[1;36m5.3415\u001B[0m,\n",
       "              \u001B[1;36m5.99\u001B[0m,      \u001B[1;36m2.6625\u001B[0m,      \u001B[1;36m3.4475\u001B[0m,      \u001B[1;36m2.1277\u001B[0m,      \u001B[1;36m1.8049\u001B[0m,      \u001B[1;36m2.9368\u001B[0m,      \u001B[1;36m2.2673\u001B[0m,     \u001B[1;36m0.35088\u001B[0m,      \u001B[1;36m1.1393\u001B[0m,     \u001B[1;36m0.65226\u001B[0m,    \u001B[1;36m-0.25501\u001B[0m,    \u001B[1;36m-0.43439\u001B[0m,    \u001B[1;36m-0.86371\u001B[0m,     \u001B[1;36m0.70129\u001B[0m,    \u001B[1;36m-0.23814\u001B[0m,    \u001B[1;36m-0.16139\u001B[0m,    \u001B[1;36m0.048035\u001B[0m,      \u001B[1;36m2.0102\u001B[0m,      \u001B[1;36m4.4774\u001B[0m,      \u001B[1;36m5.1827\u001B[0m,    \u001B[1;36m0.051277\u001B[0m,     \u001B[1;36m-1.6806\u001B[0m,     \u001B[1;36m-2.8408\u001B[0m,     \u001B[1;36m-3.5513\u001B[0m,\n",
       "           \u001B[1;36m-2.8163\u001B[0m,     \u001B[1;36m-3.6181\u001B[0m,     \u001B[1;36m-2.8591\u001B[0m,     \u001B[1;36m-3.6231\u001B[0m,     \u001B[1;36m-3.5168\u001B[0m,       \u001B[1;36m-2.35\u001B[0m,     \u001B[1;36m-3.6972\u001B[0m,     \u001B[1;36m-3.3644\u001B[0m,     \u001B[1;36m-3.3349\u001B[0m,     \u001B[1;36m-4.7966\u001B[0m,     \u001B[1;36m-4.0132\u001B[0m,     \u001B[1;36m-4.3167\u001B[0m,     \u001B[1;36m-4.2466\u001B[0m,     \u001B[1;36m-4.5125\u001B[0m,     \u001B[1;36m-4.7879\u001B[0m,     \u001B[1;36m-4.1071\u001B[0m,     \u001B[1;36m-4.0601\u001B[0m,     \u001B[1;36m-4.7107\u001B[0m,      \u001B[1;36m-4.976\u001B[0m,     \u001B[1;36m-5.5152\u001B[0m,     \u001B[1;36m-5.8159\u001B[0m\u001B[1m]\u001B[0m, \u001B[33mdtype\u001B[0m=\u001B[35mfloat32\u001B[0m\u001B[1m)\u001B[0m\n"
      ]
     },
     "metadata": {},
     "output_type": "display_data"
    }
   ],
   "source": [
    "test_preds = reg.predict(test_image_reps)\n",
    "test_preds"
   ]
  },
  {
   "cell_type": "code",
   "execution_count": 180,
   "id": "1d4b4cc4-c178-4e22-be2e-d21b0bb5d899",
   "metadata": {
    "tags": []
   },
   "outputs": [
    {
     "data": {
      "text/html": [
       "<div>\n",
       "<style scoped>\n",
       "    .dataframe tbody tr th:only-of-type {\n",
       "        vertical-align: middle;\n",
       "    }\n",
       "\n",
       "    .dataframe tbody tr th {\n",
       "        vertical-align: top;\n",
       "    }\n",
       "\n",
       "    .dataframe thead th {\n",
       "        text-align: right;\n",
       "    }\n",
       "</style>\n",
       "<table border=\"1\" class=\"dataframe\">\n",
       "  <thead>\n",
       "    <tr style=\"text-align: right;\">\n",
       "      <th></th>\n",
       "      <th>class</th>\n",
       "      <th>x</th>\n",
       "      <th>y</th>\n",
       "      <th>width</th>\n",
       "      <th>height</th>\n",
       "      <th>frame</th>\n",
       "    </tr>\n",
       "  </thead>\n",
       "  <tbody>\n",
       "    <tr>\n",
       "      <th>0</th>\n",
       "      <td>0</td>\n",
       "      <td>0.407813</td>\n",
       "      <td>0.032870</td>\n",
       "      <td>0.014583</td>\n",
       "      <td>0.023148</td>\n",
       "      <td>000001.txt</td>\n",
       "    </tr>\n",
       "    <tr>\n",
       "      <th>1</th>\n",
       "      <td>0</td>\n",
       "      <td>0.408854</td>\n",
       "      <td>0.042130</td>\n",
       "      <td>0.014583</td>\n",
       "      <td>0.023148</td>\n",
       "      <td>000002.txt</td>\n",
       "    </tr>\n",
       "    <tr>\n",
       "      <th>2</th>\n",
       "      <td>0</td>\n",
       "      <td>0.408854</td>\n",
       "      <td>0.042130</td>\n",
       "      <td>0.014583</td>\n",
       "      <td>0.023148</td>\n",
       "      <td>000003.txt</td>\n",
       "    </tr>\n",
       "    <tr>\n",
       "      <th>3</th>\n",
       "      <td>0</td>\n",
       "      <td>0.408854</td>\n",
       "      <td>0.042130</td>\n",
       "      <td>0.014583</td>\n",
       "      <td>0.023148</td>\n",
       "      <td>000004.txt</td>\n",
       "    </tr>\n",
       "    <tr>\n",
       "      <th>4</th>\n",
       "      <td>0</td>\n",
       "      <td>0.408854</td>\n",
       "      <td>0.042130</td>\n",
       "      <td>0.014583</td>\n",
       "      <td>0.023148</td>\n",
       "      <td>000005.txt</td>\n",
       "    </tr>\n",
       "    <tr>\n",
       "      <th>...</th>\n",
       "      <td>...</td>\n",
       "      <td>...</td>\n",
       "      <td>...</td>\n",
       "      <td>...</td>\n",
       "      <td>...</td>\n",
       "      <td>...</td>\n",
       "    </tr>\n",
       "    <tr>\n",
       "      <th>1583</th>\n",
       "      <td>0</td>\n",
       "      <td>0.441406</td>\n",
       "      <td>0.814352</td>\n",
       "      <td>0.020313</td>\n",
       "      <td>0.036111</td>\n",
       "      <td>000287.txt</td>\n",
       "    </tr>\n",
       "    <tr>\n",
       "      <th>1584</th>\n",
       "      <td>0</td>\n",
       "      <td>0.437240</td>\n",
       "      <td>0.838426</td>\n",
       "      <td>0.020313</td>\n",
       "      <td>0.036111</td>\n",
       "      <td>000288.txt</td>\n",
       "    </tr>\n",
       "    <tr>\n",
       "      <th>1585</th>\n",
       "      <td>0</td>\n",
       "      <td>0.433073</td>\n",
       "      <td>0.858796</td>\n",
       "      <td>0.020313</td>\n",
       "      <td>0.036111</td>\n",
       "      <td>000289.txt</td>\n",
       "    </tr>\n",
       "    <tr>\n",
       "      <th>1586</th>\n",
       "      <td>0</td>\n",
       "      <td>0.434635</td>\n",
       "      <td>0.871759</td>\n",
       "      <td>0.011979</td>\n",
       "      <td>0.028704</td>\n",
       "      <td>000290.txt</td>\n",
       "    </tr>\n",
       "    <tr>\n",
       "      <th>1587</th>\n",
       "      <td>0</td>\n",
       "      <td>0.439844</td>\n",
       "      <td>0.879167</td>\n",
       "      <td>0.011979</td>\n",
       "      <td>0.028704</td>\n",
       "      <td>000291.txt</td>\n",
       "    </tr>\n",
       "  </tbody>\n",
       "</table>\n",
       "<p>1588 rows × 6 columns</p>\n",
       "</div>"
      ]
     },
     "execution_count": 180,
     "metadata": {},
     "output_type": "execute_result"
    }
   ],
   "source": [
    "test_labels_dir = dataset_path / \"flower02\" / \"labels\"\n",
    "all_labels_test = []\n",
    "labels_list = sorted(list(test_labels_dir.iterdir()))\n",
    "for labels_path in labels_list:\n",
    "    frame_labels = pd.read_csv(labels_path, sep=\" \", names=[\"class\", \"x\", \"y\", \"width\", \"height\"])\n",
    "    frame_labels[\"frame\"] = labels_path.name\n",
    "    all_labels_test.append(frame_labels)\n",
    "    \n",
    "all_labels_test = pd.concat(all_labels_test, ignore_index=True)\n",
    "all_labels_test"
   ]
  },
  {
   "cell_type": "code",
   "execution_count": 181,
   "id": "0543d1a7-4b18-4d0f-8536-3529a2cda92a",
   "metadata": {
    "tags": []
   },
   "outputs": [],
   "source": [
    "# Create flower counts.\n",
    "test_flower_counts = []\n",
    "for image_path in labels_list:\n",
    "    test_flower_counts.append(np.count_nonzero(all_labels_test[\"frame\"] == image_path.name))\n",
    "test_flower_counts = np.array(test_flower_counts, dtype=float)"
   ]
  },
  {
   "cell_type": "code",
   "execution_count": 182,
   "id": "e0ba65bb-ddf2-45f3-a121-b66e8fbe3224",
   "metadata": {
    "tags": []
   },
   "outputs": [
    {
     "data": {
      "text/html": [
       "<pre style=\"white-space:pre;overflow-x:auto;line-height:normal;font-family:Menlo,'DejaVu Sans Mono',consolas,'Courier New',monospace\"><span style=\"color: #008080; text-decoration-color: #008080; font-weight: bold\">1.851853531250839</span>\n",
       "</pre>\n"
      ],
      "text/plain": [
       "\u001B[1;36m1.851853531250839\u001B[0m\n"
      ]
     },
     "metadata": {},
     "output_type": "display_data"
    }
   ],
   "source": [
    "np.mean(np.abs(test_preds[:291] - test_flower_counts))"
   ]
  },
  {
   "cell_type": "code",
   "execution_count": 183,
   "id": "2e929358-790f-4dd5-bb00-6e35baf2838b",
   "metadata": {
    "tags": []
   },
   "outputs": [
    {
     "name": "stdout",
     "output_type": "stream",
     "text": [
      "2023-02-28 14:34:27,378 - py.warnings - WARNING - /home/daniel/git/self-supervised-learning/.venv/lib/python3.8/site-packages/seaborn/rcmod.py:400: DeprecationWarning: distutils Version classes are deprecated. Use packaging.version instead.\n",
      "  if LooseVersion(mpl.__version__) >= \"3.0\":\n",
      "\n",
      "2023-02-28 14:34:27,379 - py.warnings - WARNING - /home/daniel/git/self-supervised-learning/.venv/lib/python3.8/site-packages/setuptools/_distutils/version.py:346: DeprecationWarning: distutils Version classes are deprecated. Use packaging.version instead.\n",
      "  other = LooseVersion(other)\n",
      "\n"
     ]
    },
    {
     "data": {
      "image/png": "[encoded data removed]"
     },
     "metadata": {},
     "output_type": "display_data"
    }
   ],
   "source": [
    "%matplotlib inline\n",
    "import seaborn as sns\n",
    "import matplotlib.pyplot as plt\n",
    "\n",
    "sns.set()\n",
    "\n",
    "sns.regplot(x=test_preds[:291], y=test_flower_counts)\n",
    "plt.show()"
   ]
  },
  {
   "cell_type": "code",
   "execution_count": null,
   "id": "edbe2b6a-40f5-457c-98b9-80735eef556c",
   "metadata": {},
   "outputs": [],
   "source": []
  }
 ],
 "metadata": {
  "kernelspec": {
   "display_name": "Kedro (self_supervised)",
   "language": "python",
   "name": "kedro_self_supervised"
  },
  "language_info": {
   "codemirror_mode": {
    "name": "ipython",
    "version": 3
   },
   "file_extension": ".py",
   "mimetype": "text/x-python",
   "name": "python",
   "nbconvert_exporter": "python",
   "pygments_lexer": "ipython3",
   "version": "3.8.11"
  }
 },
 "nbformat": 4,
 "nbformat_minor": 5
}
