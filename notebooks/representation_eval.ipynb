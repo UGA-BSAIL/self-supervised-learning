{
 "cells": [
  {
   "cell_type": "code",
   "execution_count": 27,
   "id": "acfda911-ae74-4318-a246-949fe66cdd10",
   "metadata": {
    "tags": []
   },
   "outputs": [
    {
     "name": "stdout",
     "output_type": "stream",
     "text": [
      "2024-03-11 15:55:11,997 - kedro.ipython - INFO - Resolved project path as: /home/daniel/git/self-supervised-learning.\n",
      "To set a different path, run '%reload_kedro <project_root>'\n",
      "2024-03-11 15:55:11,999 - py.warnings - WARNING - /home/daniel/git/self-supervised-learning/.venv/lib/python3.10/site-packages/kedro/framework/startup.py:98: DeprecationWarning: project_version in pyproject.toml is deprecated, use kedro_init_version instead\n",
      "  warnings.warn(\n",
      "\n",
      "2024-03-11 15:55:12,112 - kedro.ipython - INFO - Kedro project Self-Supervised Learning\n",
      "2024-03-11 15:55:12,112 - kedro.ipython - INFO - Defined global variable 'context', 'session', 'catalog' and 'pipelines'\n",
      "2024-03-11 15:55:12,117 - kedro.io.data_catalog - INFO - Loading data from 'yolov8_l_description' (YAMLDataSet)...\n",
      "\n",
      "                   from  n    params  module                                       arguments                     \n",
      "  0                  -1  1      1856  ultralytics.nn.modules.conv.Conv             [3, 64, 3, 2]                 \n",
      "  1                  -1  1     73984  ultralytics.nn.modules.conv.Conv             [64, 128, 3, 2]               \n",
      "  2                  -1  3    279808  ultralytics.nn.modules.block.C2f             [128, 128, 3, True]           \n",
      "  3                  -1  1    295424  ultralytics.nn.modules.conv.Conv             [128, 256, 3, 2]              \n",
      "  4                  -1  6   2101248  ultralytics.nn.modules.block.C2f             [256, 256, 6, True]           \n",
      "  5                  -1  1   1180672  ultralytics.nn.modules.conv.Conv             [256, 512, 3, 2]              \n",
      "  6                  -1  6   8396800  ultralytics.nn.modules.block.C2f             [512, 512, 6, True]           \n",
      "  7                  -1  1   2360320  ultralytics.nn.modules.conv.Conv             [512, 512, 3, 2]              \n",
      "  8                  -1  3   4461568  ultralytics.nn.modules.block.C2f             [512, 512, 3, True]           \n",
      "  9                  -1  1    656896  ultralytics.nn.modules.block.SPPF            [512, 512, 5]                 \n",
      " 10                  -1  1         0  torch.nn.modules.upsampling.Upsample         [None, 2, 'nearest']          \n",
      " 11             [-1, 6]  1         0  ultralytics.nn.modules.conv.Concat           [1]                           \n",
      " 12                  -1  3   4723712  ultralytics.nn.modules.block.C2f             [1024, 512, 3]                \n",
      " 13                  -1  1         0  torch.nn.modules.upsampling.Upsample         [None, 2, 'nearest']          \n",
      " 14             [-1, 4]  1         0  ultralytics.nn.modules.conv.Concat           [1]                           \n",
      " 15                  -1  3   1247744  ultralytics.nn.modules.block.C2f             [768, 256, 3]                 \n",
      " 16                  -1  1    590336  ultralytics.nn.modules.conv.Conv             [256, 256, 3, 2]              \n",
      " 17            [-1, 12]  1         0  ultralytics.nn.modules.conv.Concat           [1]                           \n",
      " 18                  -1  3   4592640  ultralytics.nn.modules.block.C2f             [768, 512, 3]                 \n",
      " 19                  -1  1   2360320  ultralytics.nn.modules.conv.Conv             [512, 512, 3, 2]              \n",
      " 20             [-1, 9]  1         0  ultralytics.nn.modules.conv.Concat           [1]                           \n",
      " 21                  -1  3   4723712  ultralytics.nn.modules.block.C2f             [1024, 512, 3]                \n",
      "Model summary: 312 layers, 38047040 parameters, 38047040 gradients, 139.4 GFLOPs\n",
      "\n",
      "2024-03-11 15:55:12,271 - py.warnings - WARNING - /home/daniel/git/self-supervised-learning/.venv/lib/python3.10/site-packages/torch/nn/modules/lazy.py:180: UserWarning: Lazy modules are a new feature under heavy development so changes to the API or functionality can happen at any moment.\n",
      "  warnings.warn('Lazy modules are a new feature under heavy development '\n",
      "\n"
     ]
    }
   ],
   "source": [
    "from self_supervised.pipelines.representation_model import RepresentationModel, YoloEncoder\n",
    "from ultralytics.models.yolo.detect.train import DetectionModel\n",
    "import torch\n",
    "from segment_anything import SamPredictor, sam_model_registry\n",
    "\n",
    "%reload_kedro\n",
    "model_description = catalog.load(\"yolov8_l_description\")\n",
    "# trained_model = catalog.load(\"trained_model\", version=\"2023-03-23T12.37.00.000Z\")\n",
    "# trained_model = torch.load(\"../checkpoints/checkpoint_40586.pt\", map_location=\"cpu\")\n",
    "\n",
    "# Random model\n",
    "encoder = YoloEncoder(model_description=model_description)\n",
    "trained_model = RepresentationModel(encoder=encoder)\n",
    "\n",
    "# CoCO model\n",
    "# model_description[\"head\"] = model_description[\"head\"][:-1]\n",
    "# trained_model = DetectionModel(model_description)\n",
    "# weights_model = torch.load(\"../yolov8l.pt\", map_location=\"cpu\")\n",
    "# state_dict = weights_model[\"model\"].float().state_dict()\n",
    "# trained_model.load_state_dict(state_dict, strict=False)\n",
    "\n",
    "# SAM model\n",
    "#sam = sam_model_registry[\"vit_b\"](checkpoint=\"../sam_vit_b_01ec64.pth\")\n",
    "#predictor = SamPredictor(sam)\n",
    "\n",
    "# def trained_model(image):\n",
    "#     predictor.set_image(image[0])\n",
    "#     rep = predictor.get_image_embedding()\n",
    "#     return torch.mean(rep, dim=(2, 3))\n",
    "\n",
    "projection = trained_model.projection\n",
    "trained_model = trained_model.encoder\n",
    "trained_model = trained_model.eval()\n",
    "projection = projection.eval()"
   ]
  },
  {
   "cell_type": "code",
   "execution_count": 28,
   "id": "c1878dbc-46f2-463f-b313-6dc1aed75b69",
   "metadata": {
    "tags": []
   },
   "outputs": [],
   "source": [
    "from pathlib import Path\n",
    "\n",
    "dataset_path = Path(\"/home/daniel/lab_share/projects/CottonFlower2021/flower_dataset\")\n",
    "image_dir = dataset_path / \"active_1\" / \"images\""
   ]
  },
  {
   "cell_type": "code",
   "execution_count": 29,
   "id": "c41fe7f6-ac26-435f-a8ed-996eacd3b5fd",
   "metadata": {
    "tags": []
   },
   "outputs": [],
   "source": [
    "# import random\n",
    "# random.sample(range(160), 10)\n",
    "\n",
    "# indices = [143, 159, 78, 12, 34, 116, 118, 0, 44, 124]"
   ]
  },
  {
   "cell_type": "code",
   "execution_count": 30,
   "id": "5a67e6c7-88c4-40b3-a33d-1a67a76f0d5f",
   "metadata": {
    "tags": []
   },
   "outputs": [
    {
     "name": "stderr",
     "output_type": "stream",
     "text": [
      "100%|██████████████████████████████████████████████████████████████████████████████████████████████████████████████████████████████████████████████████████████████████████████████████████████████████████████████████████████████████████████████████████████████████████████████████████████████████████████████████████████████| 160/160 [00:24<00:00,  6.47it/s]\n"
     ]
    }
   ],
   "source": [
    "from torchvision.io import read_image\n",
    "from torchvision.transforms.functional import resize\n",
    "from tqdm import tqdm\n",
    "import torch\n",
    "from typing import Tuple, List\n",
    "import numpy as np\n",
    "\n",
    "def extract_image_reps(image_list: List[Path]) -> Tuple[List[np.array], List[np.array]]:\n",
    "    image_reps = []\n",
    "    image_reps_low_dim = []\n",
    "\n",
    "    for image_path in tqdm(image_list):\n",
    "        image = read_image(image_path.as_posix())\n",
    "        image.requires_grad = False\n",
    "        image = resize(image, (512, 512))\n",
    "        image = image.to(torch.float) / 255\n",
    "        image_ex = image[None, :, :, :]\n",
    "\n",
    "        image_rep = trained_model(image_ex).detach()\n",
    "        image_reps.append(image_rep[0].reshape((1, -1)).numpy())\n",
    "                          \n",
    "    return image_reps, image_reps_low_dim\n",
    "\n",
    "\n",
    "def extract_image_reps_dir(image_dir_: Path) -> Tuple[List[np.array], List[np.array]]:\n",
    "    image_list = sorted(list(image_dir_.iterdir()))\n",
    "    return extract_image_reps(image_list)\n",
    "                          \n",
    "image_reps, image_reps_low_dim = extract_image_reps_dir(image_dir)"
   ]
  },
  {
   "cell_type": "code",
   "execution_count": 31,
   "id": "43808fe8-1319-464a-8977-4e7f42db135f",
   "metadata": {
    "tags": []
   },
   "outputs": [
    {
     "data": {
      "text/html": [
       "<div>\n",
       "<style scoped>\n",
       "    .dataframe tbody tr th:only-of-type {\n",
       "        vertical-align: middle;\n",
       "    }\n",
       "\n",
       "    .dataframe tbody tr th {\n",
       "        vertical-align: top;\n",
       "    }\n",
       "\n",
       "    .dataframe thead th {\n",
       "        text-align: right;\n",
       "    }\n",
       "</style>\n",
       "<table border=\"1\" class=\"dataframe\">\n",
       "  <thead>\n",
       "    <tr style=\"text-align: right;\">\n",
       "      <th></th>\n",
       "      <th>class</th>\n",
       "      <th>x</th>\n",
       "      <th>y</th>\n",
       "      <th>width</th>\n",
       "      <th>height</th>\n",
       "      <th>frame</th>\n",
       "    </tr>\n",
       "  </thead>\n",
       "  <tbody>\n",
       "    <tr>\n",
       "      <th>0</th>\n",
       "      <td>0</td>\n",
       "      <td>0.386324</td>\n",
       "      <td>0.308469</td>\n",
       "      <td>0.030488</td>\n",
       "      <td>0.046636</td>\n",
       "      <td>p0_P1090018.txt</td>\n",
       "    </tr>\n",
       "    <tr>\n",
       "      <th>1</th>\n",
       "      <td>0</td>\n",
       "      <td>0.284843</td>\n",
       "      <td>0.252320</td>\n",
       "      <td>0.026132</td>\n",
       "      <td>0.038283</td>\n",
       "      <td>p0_P1090081.txt</td>\n",
       "    </tr>\n",
       "    <tr>\n",
       "      <th>2</th>\n",
       "      <td>0</td>\n",
       "      <td>0.448606</td>\n",
       "      <td>0.327726</td>\n",
       "      <td>0.013937</td>\n",
       "      <td>0.029002</td>\n",
       "      <td>p0_P1090300.txt</td>\n",
       "    </tr>\n",
       "    <tr>\n",
       "      <th>3</th>\n",
       "      <td>0</td>\n",
       "      <td>0.138937</td>\n",
       "      <td>0.221578</td>\n",
       "      <td>0.023519</td>\n",
       "      <td>0.032483</td>\n",
       "      <td>p0_P1090300.txt</td>\n",
       "    </tr>\n",
       "    <tr>\n",
       "      <th>4</th>\n",
       "      <td>0</td>\n",
       "      <td>0.030488</td>\n",
       "      <td>0.099768</td>\n",
       "      <td>0.024390</td>\n",
       "      <td>0.034803</td>\n",
       "      <td>p0_P1090300.txt</td>\n",
       "    </tr>\n",
       "    <tr>\n",
       "      <th>...</th>\n",
       "      <td>...</td>\n",
       "      <td>...</td>\n",
       "      <td>...</td>\n",
       "      <td>...</td>\n",
       "      <td>...</td>\n",
       "      <td>...</td>\n",
       "    </tr>\n",
       "    <tr>\n",
       "      <th>300</th>\n",
       "      <td>0</td>\n",
       "      <td>0.309612</td>\n",
       "      <td>0.294762</td>\n",
       "      <td>0.010253</td>\n",
       "      <td>0.014188</td>\n",
       "      <td>p9_P1680757.txt</td>\n",
       "    </tr>\n",
       "    <tr>\n",
       "      <th>301</th>\n",
       "      <td>0</td>\n",
       "      <td>0.365584</td>\n",
       "      <td>0.297645</td>\n",
       "      <td>0.009460</td>\n",
       "      <td>0.017842</td>\n",
       "      <td>p9_P1680757.txt</td>\n",
       "    </tr>\n",
       "    <tr>\n",
       "      <th>302</th>\n",
       "      <td>0</td>\n",
       "      <td>0.500000</td>\n",
       "      <td>0.379350</td>\n",
       "      <td>0.013937</td>\n",
       "      <td>0.016241</td>\n",
       "      <td>p9_P1680757.txt</td>\n",
       "    </tr>\n",
       "    <tr>\n",
       "      <th>303</th>\n",
       "      <td>0</td>\n",
       "      <td>0.908537</td>\n",
       "      <td>0.736079</td>\n",
       "      <td>0.012195</td>\n",
       "      <td>0.017401</td>\n",
       "      <td>p9_P1680757.txt</td>\n",
       "    </tr>\n",
       "    <tr>\n",
       "      <th>304</th>\n",
       "      <td>0</td>\n",
       "      <td>0.827539</td>\n",
       "      <td>0.119165</td>\n",
       "      <td>0.013406</td>\n",
       "      <td>0.016798</td>\n",
       "      <td>p9_P1780789.txt</td>\n",
       "    </tr>\n",
       "  </tbody>\n",
       "</table>\n",
       "<p>305 rows × 6 columns</p>\n",
       "</div>"
      ]
     },
     "execution_count": 31,
     "metadata": {},
     "output_type": "execute_result"
    }
   ],
   "source": [
    "# Load flower counts.\n",
    "import pandas as pd\n",
    "\n",
    "labels_dir = dataset_path / \"active_1\" / \"labels\"\n",
    "all_labels = []\n",
    "labels_list = sorted(list(labels_dir.iterdir()))\n",
    "# labels_list = [labels_list[i] for i in indices]\n",
    "for labels_path in labels_list:\n",
    "    frame_labels = pd.read_csv(labels_path, sep=\" \", names=[\"class\", \"x\", \"y\", \"width\", \"height\"])\n",
    "    frame_labels[\"frame\"] = labels_path.name\n",
    "    all_labels.append(frame_labels)\n",
    "    \n",
    "all_labels = pd.concat(all_labels, ignore_index=True)\n",
    "all_labels"
   ]
  },
  {
   "cell_type": "code",
   "execution_count": 32,
   "id": "96a261b8-3343-4c52-a567-4a94fcbc3964",
   "metadata": {
    "tags": []
   },
   "outputs": [],
   "source": [
    "import numpy as np\n",
    "\n",
    "# Create flower counts labels.\n",
    "flower_counts = []\n",
    "for image_path in labels_list:\n",
    "    flower_counts.append(np.count_nonzero(all_labels[\"frame\"] == image_path.name))\n",
    "    \n",
    "# Any missing counts are zeros.\n",
    "for _ in range(len(flower_counts), len(image_reps)):\n",
    "    flower_counts.append(0)"
   ]
  },
  {
   "cell_type": "code",
   "execution_count": 33,
   "id": "8cd84dd2-fc0b-482e-b69a-7bed0e95f7e5",
   "metadata": {
    "tags": []
   },
   "outputs": [
    {
     "name": "stderr",
     "output_type": "stream",
     "text": [
      "100%|██████████████████████████████████████████████████████████████████████████████████████████████████████████████████████████████████████████████████████████████████████████████████████████████████████████████████████████████████████████████████████████████████████████████████████████████████████████████████████████████| 160/160 [00:24<00:00,  6.44it/s]\n"
     ]
    }
   ],
   "source": [
    "test_image_dir = dataset_path / \"2018-08-22\" / \"images\"\n",
    "\n",
    "test_image_reps, test_image_reps_low_dim = extract_image_reps_dir(test_image_dir)"
   ]
  },
  {
   "cell_type": "code",
   "execution_count": 34,
   "id": "1d4b4cc4-c178-4e22-be2e-d21b0bb5d899",
   "metadata": {
    "tags": []
   },
   "outputs": [
    {
     "data": {
      "text/html": [
       "<div>\n",
       "<style scoped>\n",
       "    .dataframe tbody tr th:only-of-type {\n",
       "        vertical-align: middle;\n",
       "    }\n",
       "\n",
       "    .dataframe tbody tr th {\n",
       "        vertical-align: top;\n",
       "    }\n",
       "\n",
       "    .dataframe thead th {\n",
       "        text-align: right;\n",
       "    }\n",
       "</style>\n",
       "<table border=\"1\" class=\"dataframe\">\n",
       "  <thead>\n",
       "    <tr style=\"text-align: right;\">\n",
       "      <th></th>\n",
       "      <th>class</th>\n",
       "      <th>x</th>\n",
       "      <th>y</th>\n",
       "      <th>width</th>\n",
       "      <th>height</th>\n",
       "      <th>frame</th>\n",
       "    </tr>\n",
       "  </thead>\n",
       "  <tbody>\n",
       "    <tr>\n",
       "      <th>0</th>\n",
       "      <td>0</td>\n",
       "      <td>0.414497</td>\n",
       "      <td>0.818287</td>\n",
       "      <td>0.039062</td>\n",
       "      <td>0.046296</td>\n",
       "      <td>p0_P2530585.txt</td>\n",
       "    </tr>\n",
       "    <tr>\n",
       "      <th>1</th>\n",
       "      <td>0</td>\n",
       "      <td>0.245660</td>\n",
       "      <td>0.649884</td>\n",
       "      <td>0.019097</td>\n",
       "      <td>0.028935</td>\n",
       "      <td>p0_P2530668.txt</td>\n",
       "    </tr>\n",
       "    <tr>\n",
       "      <th>2</th>\n",
       "      <td>0</td>\n",
       "      <td>0.636719</td>\n",
       "      <td>0.209491</td>\n",
       "      <td>0.018229</td>\n",
       "      <td>0.025463</td>\n",
       "      <td>p0_P2530668.txt</td>\n",
       "    </tr>\n",
       "    <tr>\n",
       "      <th>3</th>\n",
       "      <td>0</td>\n",
       "      <td>0.827691</td>\n",
       "      <td>0.566551</td>\n",
       "      <td>0.019965</td>\n",
       "      <td>0.026620</td>\n",
       "      <td>p0_P2530668.txt</td>\n",
       "    </tr>\n",
       "    <tr>\n",
       "      <th>4</th>\n",
       "      <td>0</td>\n",
       "      <td>0.392734</td>\n",
       "      <td>0.709734</td>\n",
       "      <td>0.022448</td>\n",
       "      <td>0.033588</td>\n",
       "      <td>p0_P2530668.txt</td>\n",
       "    </tr>\n",
       "    <tr>\n",
       "      <th>...</th>\n",
       "      <td>...</td>\n",
       "      <td>...</td>\n",
       "      <td>...</td>\n",
       "      <td>...</td>\n",
       "      <td>...</td>\n",
       "      <td>...</td>\n",
       "    </tr>\n",
       "    <tr>\n",
       "      <th>382</th>\n",
       "      <td>0</td>\n",
       "      <td>0.053385</td>\n",
       "      <td>0.823495</td>\n",
       "      <td>0.021701</td>\n",
       "      <td>0.028935</td>\n",
       "      <td>p9_P2540369.txt</td>\n",
       "    </tr>\n",
       "    <tr>\n",
       "      <th>383</th>\n",
       "      <td>0</td>\n",
       "      <td>0.441840</td>\n",
       "      <td>0.266204</td>\n",
       "      <td>0.019097</td>\n",
       "      <td>0.025463</td>\n",
       "      <td>p9_P2540369.txt</td>\n",
       "    </tr>\n",
       "    <tr>\n",
       "      <th>384</th>\n",
       "      <td>0</td>\n",
       "      <td>0.533854</td>\n",
       "      <td>0.799769</td>\n",
       "      <td>0.032986</td>\n",
       "      <td>0.041667</td>\n",
       "      <td>p9_P2540420.txt</td>\n",
       "    </tr>\n",
       "    <tr>\n",
       "      <th>385</th>\n",
       "      <td>0</td>\n",
       "      <td>0.404948</td>\n",
       "      <td>0.767361</td>\n",
       "      <td>0.019965</td>\n",
       "      <td>0.025463</td>\n",
       "      <td>p9_P2540420.txt</td>\n",
       "    </tr>\n",
       "    <tr>\n",
       "      <th>386</th>\n",
       "      <td>0</td>\n",
       "      <td>0.343316</td>\n",
       "      <td>0.987269</td>\n",
       "      <td>0.016493</td>\n",
       "      <td>0.025463</td>\n",
       "      <td>p9_P2540420.txt</td>\n",
       "    </tr>\n",
       "  </tbody>\n",
       "</table>\n",
       "<p>387 rows × 6 columns</p>\n",
       "</div>"
      ]
     },
     "execution_count": 34,
     "metadata": {},
     "output_type": "execute_result"
    }
   ],
   "source": [
    "test_labels_dir = dataset_path / \"2018-08-22\" / \"labels\"\n",
    "all_labels_test = []\n",
    "labels_list = sorted(list(test_labels_dir.iterdir()))\n",
    "for labels_path in labels_list:\n",
    "    frame_labels = pd.read_csv(labels_path, sep=\" \", names=[\"class\", \"x\", \"y\", \"width\", \"height\"])\n",
    "    frame_labels[\"frame\"] = labels_path.name\n",
    "    all_labels_test.append(frame_labels)\n",
    "    \n",
    "all_labels_test = pd.concat(all_labels_test, ignore_index=True)\n",
    "all_labels_test"
   ]
  },
  {
   "cell_type": "code",
   "execution_count": 35,
   "id": "0543d1a7-4b18-4d0f-8536-3529a2cda92a",
   "metadata": {
    "tags": []
   },
   "outputs": [],
   "source": [
    "# Create flower counts.\n",
    "test_flower_counts = []\n",
    "for image_path in labels_list:\n",
    "    test_flower_counts.append(np.count_nonzero(all_labels_test[\"frame\"] == image_path.name))\n",
    "    \n",
    "# Any missing counts are zeros.\n",
    "for _ in range(len(test_flower_counts), len(test_image_reps)):\n",
    "    test_flower_counts.append(0)"
   ]
  },
  {
   "cell_type": "code",
   "execution_count": 36,
   "id": "1741b680-ed08-476e-9a0f-5cb5f0118805",
   "metadata": {
    "tags": []
   },
   "outputs": [],
   "source": [
    "from sklearn.model_selection import PredefinedSplit\n",
    "\n",
    "# Create combined dataset.\n",
    "all_image_reps = image_reps + test_image_reps\n",
    "all_flower_counts = flower_counts + test_flower_counts\n",
    "train_indices = [-1] * len(image_reps)\n",
    "test_indices = [0] * len(test_image_reps)\n",
    "split = PredefinedSplit(train_indices + test_indices)"
   ]
  },
  {
   "cell_type": "code",
   "execution_count": 37,
   "id": "8ca94b64-b75c-41e7-a3f3-459bd29de228",
   "metadata": {
    "tags": []
   },
   "outputs": [],
   "source": [
    "from sklearn.linear_model import RidgeCV, Ridge\n",
    "\n",
    "all_flower_counts = np.array(all_flower_counts, dtype=float)\n",
    "all_image_reps_arr = np.concatenate(all_image_reps, axis=0)\n",
    "\n",
    "alphas = [1e-6, 1e-4, 0.01, 0.1, 1.0, 2.0, 4.0, 8.0, 16.0, 32.0, 64.0, 128.0]\n",
    "reg_search = RidgeCV(alphas=alphas, cv=split).fit(all_image_reps_arr, all_flower_counts)\n",
    "# RidgeCV is going to go and refit on the whole dataset once it finds the best alpha, which we don't want.\n",
    "# Fit manually with the best alpha on just the training data.\n",
    "reg = Ridge(reg_search.alpha_).fit(np.concatenate(image_reps, axis=0), np.array(flower_counts))"
   ]
  },
  {
   "cell_type": "code",
   "execution_count": 38,
   "id": "23cf629c-e859-47c7-92ac-593d56789b05",
   "metadata": {
    "tags": []
   },
   "outputs": [
    {
     "data": {
      "text/html": [
       "<pre style=\"white-space:pre;overflow-x:auto;line-height:normal;font-family:Menlo,'DejaVu Sans Mono',consolas,'Courier New',monospace\">\n",
       "<span style=\"color: #800080; text-decoration-color: #800080; font-weight: bold\">array</span><span style=\"font-weight: bold\">([</span>     <span style=\"color: #008080; text-decoration-color: #008080; font-weight: bold\">1.9062</span>,      <span style=\"color: #008080; text-decoration-color: #008080; font-weight: bold\">1.9062</span>,      <span style=\"color: #008080; text-decoration-color: #008080; font-weight: bold\">1.9062</span>,      <span style=\"color: #008080; text-decoration-color: #008080; font-weight: bold\">1.9062</span>,      <span style=\"color: #008080; text-decoration-color: #008080; font-weight: bold\">1.9062</span>,      <span style=\"color: #008080; text-decoration-color: #008080; font-weight: bold\">1.9062</span>,      <span style=\"color: #008080; text-decoration-color: #008080; font-weight: bold\">1.9062</span>,      <span style=\"color: #008080; text-decoration-color: #008080; font-weight: bold\">1.9062</span>,      <span style=\"color: #008080; text-decoration-color: #008080; font-weight: bold\">1.9062</span>,      <span style=\"color: #008080; text-decoration-color: #008080; font-weight: bold\">1.9062</span>,      <span style=\"color: #008080; text-decoration-color: #008080; font-weight: bold\">1.9062</span>,      <span style=\"color: #008080; text-decoration-color: #008080; font-weight: bold\">1.9062</span>,      <span style=\"color: #008080; text-decoration-color: #008080; font-weight: bold\">1.9062</span>,      <span style=\"color: #008080; text-decoration-color: #008080; font-weight: bold\">1.9062</span>,      <span style=\"color: #008080; text-decoration-color: #008080; font-weight: bold\">1.9062</span>,      <span style=\"color: #008080; text-decoration-color: #008080; font-weight: bold\">1.9062</span>,      <span style=\"color: #008080; text-decoration-color: #008080; font-weight: bold\">1.9062</span>,      <span style=\"color: #008080; text-decoration-color: #008080; font-weight: bold\">1.9062</span>,      <span style=\"color: #008080; text-decoration-color: #008080; font-weight: bold\">1.9062</span>,      <span style=\"color: #008080; text-decoration-color: #008080; font-weight: bold\">1.9062</span>,      <span style=\"color: #008080; text-decoration-color: #008080; font-weight: bold\">1.9062</span>,      <span style=\"color: #008080; text-decoration-color: #008080; font-weight: bold\">1.9062</span>,      <span style=\"color: #008080; text-decoration-color: #008080; font-weight: bold\">1.9062</span>,      <span style=\"color: #008080; text-decoration-color: #008080; font-weight: bold\">1.9062</span>,\n",
       "            <span style=\"color: #008080; text-decoration-color: #008080; font-weight: bold\">1.9062</span>,      <span style=\"color: #008080; text-decoration-color: #008080; font-weight: bold\">1.9062</span>,      <span style=\"color: #008080; text-decoration-color: #008080; font-weight: bold\">1.9062</span>,      <span style=\"color: #008080; text-decoration-color: #008080; font-weight: bold\">1.9062</span>,      <span style=\"color: #008080; text-decoration-color: #008080; font-weight: bold\">1.9062</span>,      <span style=\"color: #008080; text-decoration-color: #008080; font-weight: bold\">1.9062</span>,      <span style=\"color: #008080; text-decoration-color: #008080; font-weight: bold\">1.9062</span>,      <span style=\"color: #008080; text-decoration-color: #008080; font-weight: bold\">1.9062</span>,      <span style=\"color: #008080; text-decoration-color: #008080; font-weight: bold\">1.9062</span>,      <span style=\"color: #008080; text-decoration-color: #008080; font-weight: bold\">1.9062</span>,      <span style=\"color: #008080; text-decoration-color: #008080; font-weight: bold\">1.9062</span>,      <span style=\"color: #008080; text-decoration-color: #008080; font-weight: bold\">1.9062</span>,      <span style=\"color: #008080; text-decoration-color: #008080; font-weight: bold\">1.9062</span>,      <span style=\"color: #008080; text-decoration-color: #008080; font-weight: bold\">1.9062</span>,      <span style=\"color: #008080; text-decoration-color: #008080; font-weight: bold\">1.9062</span>,      <span style=\"color: #008080; text-decoration-color: #008080; font-weight: bold\">1.9062</span>,      <span style=\"color: #008080; text-decoration-color: #008080; font-weight: bold\">1.9062</span>,      <span style=\"color: #008080; text-decoration-color: #008080; font-weight: bold\">1.9062</span>,      <span style=\"color: #008080; text-decoration-color: #008080; font-weight: bold\">1.9062</span>,      <span style=\"color: #008080; text-decoration-color: #008080; font-weight: bold\">1.9062</span>,      <span style=\"color: #008080; text-decoration-color: #008080; font-weight: bold\">1.9062</span>,      <span style=\"color: #008080; text-decoration-color: #008080; font-weight: bold\">1.9062</span>,      <span style=\"color: #008080; text-decoration-color: #008080; font-weight: bold\">1.9062</span>,      <span style=\"color: #008080; text-decoration-color: #008080; font-weight: bold\">1.9062</span>,\n",
       "            <span style=\"color: #008080; text-decoration-color: #008080; font-weight: bold\">1.9062</span>,      <span style=\"color: #008080; text-decoration-color: #008080; font-weight: bold\">1.9062</span>,      <span style=\"color: #008080; text-decoration-color: #008080; font-weight: bold\">1.9062</span>,      <span style=\"color: #008080; text-decoration-color: #008080; font-weight: bold\">1.9062</span>,      <span style=\"color: #008080; text-decoration-color: #008080; font-weight: bold\">1.9062</span>,      <span style=\"color: #008080; text-decoration-color: #008080; font-weight: bold\">1.9062</span>,      <span style=\"color: #008080; text-decoration-color: #008080; font-weight: bold\">1.9062</span>,      <span style=\"color: #008080; text-decoration-color: #008080; font-weight: bold\">1.9062</span>,      <span style=\"color: #008080; text-decoration-color: #008080; font-weight: bold\">1.9062</span>,      <span style=\"color: #008080; text-decoration-color: #008080; font-weight: bold\">1.9062</span>,      <span style=\"color: #008080; text-decoration-color: #008080; font-weight: bold\">1.9062</span>,      <span style=\"color: #008080; text-decoration-color: #008080; font-weight: bold\">1.9062</span>,      <span style=\"color: #008080; text-decoration-color: #008080; font-weight: bold\">1.9062</span>,      <span style=\"color: #008080; text-decoration-color: #008080; font-weight: bold\">1.9062</span>,      <span style=\"color: #008080; text-decoration-color: #008080; font-weight: bold\">1.9062</span>,      <span style=\"color: #008080; text-decoration-color: #008080; font-weight: bold\">1.9062</span>,      <span style=\"color: #008080; text-decoration-color: #008080; font-weight: bold\">1.9062</span>,      <span style=\"color: #008080; text-decoration-color: #008080; font-weight: bold\">1.9062</span>,      <span style=\"color: #008080; text-decoration-color: #008080; font-weight: bold\">1.9062</span>,      <span style=\"color: #008080; text-decoration-color: #008080; font-weight: bold\">1.9062</span>,      <span style=\"color: #008080; text-decoration-color: #008080; font-weight: bold\">1.9062</span>,      <span style=\"color: #008080; text-decoration-color: #008080; font-weight: bold\">1.9062</span>,      <span style=\"color: #008080; text-decoration-color: #008080; font-weight: bold\">1.9062</span>,      <span style=\"color: #008080; text-decoration-color: #008080; font-weight: bold\">1.9062</span>,\n",
       "            <span style=\"color: #008080; text-decoration-color: #008080; font-weight: bold\">1.9062</span>,      <span style=\"color: #008080; text-decoration-color: #008080; font-weight: bold\">1.9062</span>,      <span style=\"color: #008080; text-decoration-color: #008080; font-weight: bold\">1.9062</span>,      <span style=\"color: #008080; text-decoration-color: #008080; font-weight: bold\">1.9062</span>,      <span style=\"color: #008080; text-decoration-color: #008080; font-weight: bold\">1.9062</span>,      <span style=\"color: #008080; text-decoration-color: #008080; font-weight: bold\">1.9062</span>,      <span style=\"color: #008080; text-decoration-color: #008080; font-weight: bold\">1.9062</span>,      <span style=\"color: #008080; text-decoration-color: #008080; font-weight: bold\">1.9062</span>,      <span style=\"color: #008080; text-decoration-color: #008080; font-weight: bold\">1.9062</span>,      <span style=\"color: #008080; text-decoration-color: #008080; font-weight: bold\">1.9062</span>,      <span style=\"color: #008080; text-decoration-color: #008080; font-weight: bold\">1.9062</span>,      <span style=\"color: #008080; text-decoration-color: #008080; font-weight: bold\">1.9062</span>,      <span style=\"color: #008080; text-decoration-color: #008080; font-weight: bold\">1.9062</span>,      <span style=\"color: #008080; text-decoration-color: #008080; font-weight: bold\">1.9062</span>,      <span style=\"color: #008080; text-decoration-color: #008080; font-weight: bold\">1.9062</span>,      <span style=\"color: #008080; text-decoration-color: #008080; font-weight: bold\">1.9062</span>,      <span style=\"color: #008080; text-decoration-color: #008080; font-weight: bold\">1.9062</span>,      <span style=\"color: #008080; text-decoration-color: #008080; font-weight: bold\">1.9062</span>,      <span style=\"color: #008080; text-decoration-color: #008080; font-weight: bold\">1.9062</span>,      <span style=\"color: #008080; text-decoration-color: #008080; font-weight: bold\">1.9062</span>,      <span style=\"color: #008080; text-decoration-color: #008080; font-weight: bold\">1.9062</span>,      <span style=\"color: #008080; text-decoration-color: #008080; font-weight: bold\">1.9062</span>,      <span style=\"color: #008080; text-decoration-color: #008080; font-weight: bold\">1.9062</span>,      <span style=\"color: #008080; text-decoration-color: #008080; font-weight: bold\">1.9062</span>,\n",
       "            <span style=\"color: #008080; text-decoration-color: #008080; font-weight: bold\">1.9062</span>,      <span style=\"color: #008080; text-decoration-color: #008080; font-weight: bold\">1.9062</span>,      <span style=\"color: #008080; text-decoration-color: #008080; font-weight: bold\">1.9062</span>,      <span style=\"color: #008080; text-decoration-color: #008080; font-weight: bold\">1.9062</span>,      <span style=\"color: #008080; text-decoration-color: #008080; font-weight: bold\">1.9062</span>,      <span style=\"color: #008080; text-decoration-color: #008080; font-weight: bold\">1.9062</span>,      <span style=\"color: #008080; text-decoration-color: #008080; font-weight: bold\">1.9062</span>,      <span style=\"color: #008080; text-decoration-color: #008080; font-weight: bold\">1.9062</span>,      <span style=\"color: #008080; text-decoration-color: #008080; font-weight: bold\">1.9062</span>,      <span style=\"color: #008080; text-decoration-color: #008080; font-weight: bold\">1.9062</span>,      <span style=\"color: #008080; text-decoration-color: #008080; font-weight: bold\">1.9062</span>,      <span style=\"color: #008080; text-decoration-color: #008080; font-weight: bold\">1.9062</span>,      <span style=\"color: #008080; text-decoration-color: #008080; font-weight: bold\">1.9062</span>,      <span style=\"color: #008080; text-decoration-color: #008080; font-weight: bold\">1.9062</span>,      <span style=\"color: #008080; text-decoration-color: #008080; font-weight: bold\">1.9062</span>,      <span style=\"color: #008080; text-decoration-color: #008080; font-weight: bold\">1.9062</span>,      <span style=\"color: #008080; text-decoration-color: #008080; font-weight: bold\">1.9062</span>,      <span style=\"color: #008080; text-decoration-color: #008080; font-weight: bold\">1.9062</span>,      <span style=\"color: #008080; text-decoration-color: #008080; font-weight: bold\">1.9062</span>,      <span style=\"color: #008080; text-decoration-color: #008080; font-weight: bold\">1.9062</span>,      <span style=\"color: #008080; text-decoration-color: #008080; font-weight: bold\">1.9062</span>,      <span style=\"color: #008080; text-decoration-color: #008080; font-weight: bold\">1.9062</span>,      <span style=\"color: #008080; text-decoration-color: #008080; font-weight: bold\">1.9062</span>,      <span style=\"color: #008080; text-decoration-color: #008080; font-weight: bold\">1.9062</span>,\n",
       "            <span style=\"color: #008080; text-decoration-color: #008080; font-weight: bold\">1.9062</span>,      <span style=\"color: #008080; text-decoration-color: #008080; font-weight: bold\">1.9062</span>,      <span style=\"color: #008080; text-decoration-color: #008080; font-weight: bold\">1.9062</span>,      <span style=\"color: #008080; text-decoration-color: #008080; font-weight: bold\">1.9062</span>,      <span style=\"color: #008080; text-decoration-color: #008080; font-weight: bold\">1.9062</span>,      <span style=\"color: #008080; text-decoration-color: #008080; font-weight: bold\">1.9062</span>,      <span style=\"color: #008080; text-decoration-color: #008080; font-weight: bold\">1.9062</span>,      <span style=\"color: #008080; text-decoration-color: #008080; font-weight: bold\">1.9062</span>,      <span style=\"color: #008080; text-decoration-color: #008080; font-weight: bold\">1.9062</span>,      <span style=\"color: #008080; text-decoration-color: #008080; font-weight: bold\">1.9062</span>,      <span style=\"color: #008080; text-decoration-color: #008080; font-weight: bold\">1.9062</span>,      <span style=\"color: #008080; text-decoration-color: #008080; font-weight: bold\">1.9062</span>,      <span style=\"color: #008080; text-decoration-color: #008080; font-weight: bold\">1.9062</span>,      <span style=\"color: #008080; text-decoration-color: #008080; font-weight: bold\">1.9062</span>,      <span style=\"color: #008080; text-decoration-color: #008080; font-weight: bold\">1.9062</span>,      <span style=\"color: #008080; text-decoration-color: #008080; font-weight: bold\">1.9062</span>,      <span style=\"color: #008080; text-decoration-color: #008080; font-weight: bold\">1.9062</span>,      <span style=\"color: #008080; text-decoration-color: #008080; font-weight: bold\">1.9062</span>,      <span style=\"color: #008080; text-decoration-color: #008080; font-weight: bold\">1.9062</span>,      <span style=\"color: #008080; text-decoration-color: #008080; font-weight: bold\">1.9062</span>,      <span style=\"color: #008080; text-decoration-color: #008080; font-weight: bold\">1.9062</span>,      <span style=\"color: #008080; text-decoration-color: #008080; font-weight: bold\">1.9062</span>,      <span style=\"color: #008080; text-decoration-color: #008080; font-weight: bold\">1.9062</span>,      <span style=\"color: #008080; text-decoration-color: #008080; font-weight: bold\">1.9062</span>,\n",
       "            <span style=\"color: #008080; text-decoration-color: #008080; font-weight: bold\">1.9062</span>,      <span style=\"color: #008080; text-decoration-color: #008080; font-weight: bold\">1.9062</span>,      <span style=\"color: #008080; text-decoration-color: #008080; font-weight: bold\">1.9062</span>,      <span style=\"color: #008080; text-decoration-color: #008080; font-weight: bold\">1.9062</span>,      <span style=\"color: #008080; text-decoration-color: #008080; font-weight: bold\">1.9062</span>,      <span style=\"color: #008080; text-decoration-color: #008080; font-weight: bold\">1.9062</span>,      <span style=\"color: #008080; text-decoration-color: #008080; font-weight: bold\">1.9062</span>,      <span style=\"color: #008080; text-decoration-color: #008080; font-weight: bold\">1.9062</span>,      <span style=\"color: #008080; text-decoration-color: #008080; font-weight: bold\">1.9062</span>,      <span style=\"color: #008080; text-decoration-color: #008080; font-weight: bold\">1.9062</span>,      <span style=\"color: #008080; text-decoration-color: #008080; font-weight: bold\">1.9062</span>,      <span style=\"color: #008080; text-decoration-color: #008080; font-weight: bold\">1.9062</span>,      <span style=\"color: #008080; text-decoration-color: #008080; font-weight: bold\">1.9062</span>,      <span style=\"color: #008080; text-decoration-color: #008080; font-weight: bold\">1.9062</span>,      <span style=\"color: #008080; text-decoration-color: #008080; font-weight: bold\">1.9062</span>,      <span style=\"color: #008080; text-decoration-color: #008080; font-weight: bold\">1.9062</span><span style=\"font-weight: bold\">]</span>, <span style=\"color: #808000; text-decoration-color: #808000\">dtype</span>=<span style=\"color: #800080; text-decoration-color: #800080\">float32</span><span style=\"font-weight: bold\">)</span>\n",
       "</pre>\n"
      ],
      "text/plain": [
       "\n",
       "\u001b[1;35marray\u001b[0m\u001b[1m(\u001b[0m\u001b[1m[\u001b[0m     \u001b[1;36m1.9062\u001b[0m,      \u001b[1;36m1.9062\u001b[0m,      \u001b[1;36m1.9062\u001b[0m,      \u001b[1;36m1.9062\u001b[0m,      \u001b[1;36m1.9062\u001b[0m,      \u001b[1;36m1.9062\u001b[0m,      \u001b[1;36m1.9062\u001b[0m,      \u001b[1;36m1.9062\u001b[0m,      \u001b[1;36m1.9062\u001b[0m,      \u001b[1;36m1.9062\u001b[0m,      \u001b[1;36m1.9062\u001b[0m,      \u001b[1;36m1.9062\u001b[0m,      \u001b[1;36m1.9062\u001b[0m,      \u001b[1;36m1.9062\u001b[0m,      \u001b[1;36m1.9062\u001b[0m,      \u001b[1;36m1.9062\u001b[0m,      \u001b[1;36m1.9062\u001b[0m,      \u001b[1;36m1.9062\u001b[0m,      \u001b[1;36m1.9062\u001b[0m,      \u001b[1;36m1.9062\u001b[0m,      \u001b[1;36m1.9062\u001b[0m,      \u001b[1;36m1.9062\u001b[0m,      \u001b[1;36m1.9062\u001b[0m,      \u001b[1;36m1.9062\u001b[0m,\n",
       "            \u001b[1;36m1.9062\u001b[0m,      \u001b[1;36m1.9062\u001b[0m,      \u001b[1;36m1.9062\u001b[0m,      \u001b[1;36m1.9062\u001b[0m,      \u001b[1;36m1.9062\u001b[0m,      \u001b[1;36m1.9062\u001b[0m,      \u001b[1;36m1.9062\u001b[0m,      \u001b[1;36m1.9062\u001b[0m,      \u001b[1;36m1.9062\u001b[0m,      \u001b[1;36m1.9062\u001b[0m,      \u001b[1;36m1.9062\u001b[0m,      \u001b[1;36m1.9062\u001b[0m,      \u001b[1;36m1.9062\u001b[0m,      \u001b[1;36m1.9062\u001b[0m,      \u001b[1;36m1.9062\u001b[0m,      \u001b[1;36m1.9062\u001b[0m,      \u001b[1;36m1.9062\u001b[0m,      \u001b[1;36m1.9062\u001b[0m,      \u001b[1;36m1.9062\u001b[0m,      \u001b[1;36m1.9062\u001b[0m,      \u001b[1;36m1.9062\u001b[0m,      \u001b[1;36m1.9062\u001b[0m,      \u001b[1;36m1.9062\u001b[0m,      \u001b[1;36m1.9062\u001b[0m,\n",
       "            \u001b[1;36m1.9062\u001b[0m,      \u001b[1;36m1.9062\u001b[0m,      \u001b[1;36m1.9062\u001b[0m,      \u001b[1;36m1.9062\u001b[0m,      \u001b[1;36m1.9062\u001b[0m,      \u001b[1;36m1.9062\u001b[0m,      \u001b[1;36m1.9062\u001b[0m,      \u001b[1;36m1.9062\u001b[0m,      \u001b[1;36m1.9062\u001b[0m,      \u001b[1;36m1.9062\u001b[0m,      \u001b[1;36m1.9062\u001b[0m,      \u001b[1;36m1.9062\u001b[0m,      \u001b[1;36m1.9062\u001b[0m,      \u001b[1;36m1.9062\u001b[0m,      \u001b[1;36m1.9062\u001b[0m,      \u001b[1;36m1.9062\u001b[0m,      \u001b[1;36m1.9062\u001b[0m,      \u001b[1;36m1.9062\u001b[0m,      \u001b[1;36m1.9062\u001b[0m,      \u001b[1;36m1.9062\u001b[0m,      \u001b[1;36m1.9062\u001b[0m,      \u001b[1;36m1.9062\u001b[0m,      \u001b[1;36m1.9062\u001b[0m,      \u001b[1;36m1.9062\u001b[0m,\n",
       "            \u001b[1;36m1.9062\u001b[0m,      \u001b[1;36m1.9062\u001b[0m,      \u001b[1;36m1.9062\u001b[0m,      \u001b[1;36m1.9062\u001b[0m,      \u001b[1;36m1.9062\u001b[0m,      \u001b[1;36m1.9062\u001b[0m,      \u001b[1;36m1.9062\u001b[0m,      \u001b[1;36m1.9062\u001b[0m,      \u001b[1;36m1.9062\u001b[0m,      \u001b[1;36m1.9062\u001b[0m,      \u001b[1;36m1.9062\u001b[0m,      \u001b[1;36m1.9062\u001b[0m,      \u001b[1;36m1.9062\u001b[0m,      \u001b[1;36m1.9062\u001b[0m,      \u001b[1;36m1.9062\u001b[0m,      \u001b[1;36m1.9062\u001b[0m,      \u001b[1;36m1.9062\u001b[0m,      \u001b[1;36m1.9062\u001b[0m,      \u001b[1;36m1.9062\u001b[0m,      \u001b[1;36m1.9062\u001b[0m,      \u001b[1;36m1.9062\u001b[0m,      \u001b[1;36m1.9062\u001b[0m,      \u001b[1;36m1.9062\u001b[0m,      \u001b[1;36m1.9062\u001b[0m,\n",
       "            \u001b[1;36m1.9062\u001b[0m,      \u001b[1;36m1.9062\u001b[0m,      \u001b[1;36m1.9062\u001b[0m,      \u001b[1;36m1.9062\u001b[0m,      \u001b[1;36m1.9062\u001b[0m,      \u001b[1;36m1.9062\u001b[0m,      \u001b[1;36m1.9062\u001b[0m,      \u001b[1;36m1.9062\u001b[0m,      \u001b[1;36m1.9062\u001b[0m,      \u001b[1;36m1.9062\u001b[0m,      \u001b[1;36m1.9062\u001b[0m,      \u001b[1;36m1.9062\u001b[0m,      \u001b[1;36m1.9062\u001b[0m,      \u001b[1;36m1.9062\u001b[0m,      \u001b[1;36m1.9062\u001b[0m,      \u001b[1;36m1.9062\u001b[0m,      \u001b[1;36m1.9062\u001b[0m,      \u001b[1;36m1.9062\u001b[0m,      \u001b[1;36m1.9062\u001b[0m,      \u001b[1;36m1.9062\u001b[0m,      \u001b[1;36m1.9062\u001b[0m,      \u001b[1;36m1.9062\u001b[0m,      \u001b[1;36m1.9062\u001b[0m,      \u001b[1;36m1.9062\u001b[0m,\n",
       "            \u001b[1;36m1.9062\u001b[0m,      \u001b[1;36m1.9062\u001b[0m,      \u001b[1;36m1.9062\u001b[0m,      \u001b[1;36m1.9062\u001b[0m,      \u001b[1;36m1.9062\u001b[0m,      \u001b[1;36m1.9062\u001b[0m,      \u001b[1;36m1.9062\u001b[0m,      \u001b[1;36m1.9062\u001b[0m,      \u001b[1;36m1.9062\u001b[0m,      \u001b[1;36m1.9062\u001b[0m,      \u001b[1;36m1.9062\u001b[0m,      \u001b[1;36m1.9062\u001b[0m,      \u001b[1;36m1.9062\u001b[0m,      \u001b[1;36m1.9062\u001b[0m,      \u001b[1;36m1.9062\u001b[0m,      \u001b[1;36m1.9062\u001b[0m,      \u001b[1;36m1.9062\u001b[0m,      \u001b[1;36m1.9062\u001b[0m,      \u001b[1;36m1.9062\u001b[0m,      \u001b[1;36m1.9062\u001b[0m,      \u001b[1;36m1.9062\u001b[0m,      \u001b[1;36m1.9062\u001b[0m,      \u001b[1;36m1.9062\u001b[0m,      \u001b[1;36m1.9062\u001b[0m,\n",
       "            \u001b[1;36m1.9062\u001b[0m,      \u001b[1;36m1.9062\u001b[0m,      \u001b[1;36m1.9062\u001b[0m,      \u001b[1;36m1.9062\u001b[0m,      \u001b[1;36m1.9062\u001b[0m,      \u001b[1;36m1.9062\u001b[0m,      \u001b[1;36m1.9062\u001b[0m,      \u001b[1;36m1.9062\u001b[0m,      \u001b[1;36m1.9062\u001b[0m,      \u001b[1;36m1.9062\u001b[0m,      \u001b[1;36m1.9062\u001b[0m,      \u001b[1;36m1.9062\u001b[0m,      \u001b[1;36m1.9062\u001b[0m,      \u001b[1;36m1.9062\u001b[0m,      \u001b[1;36m1.9062\u001b[0m,      \u001b[1;36m1.9062\u001b[0m\u001b[1m]\u001b[0m, \u001b[33mdtype\u001b[0m=\u001b[35mfloat32\u001b[0m\u001b[1m)\u001b[0m\n"
      ]
     },
     "metadata": {},
     "output_type": "display_data"
    }
   ],
   "source": [
    "test_image_reps_arr = np.concatenate(test_image_reps, axis=0)\n",
    "test_preds = reg.predict(test_image_reps_arr)\n",
    "test_preds"
   ]
  },
  {
   "cell_type": "code",
   "execution_count": 49,
   "id": "e0ba65bb-ddf2-45f3-a121-b66e8fbe3224",
   "metadata": {
    "tags": []
   },
   "outputs": [
    {
     "data": {
      "text/html": [
       "<pre style=\"white-space:pre;overflow-x:auto;line-height:normal;font-family:Menlo,'DejaVu Sans Mono',consolas,'Courier New',monospace\"><span style=\"color: #800000; text-decoration-color: #800000\">╭─────────────────────────────── </span><span style=\"color: #800000; text-decoration-color: #800000; font-weight: bold\">Traceback </span><span style=\"color: #bf7f7f; text-decoration-color: #bf7f7f; font-weight: bold\">(most recent call last)</span><span style=\"color: #800000; text-decoration-color: #800000\"> ────────────────────────────────╮</span>\n",
       "<span style=\"color: #800000; text-decoration-color: #800000\">│</span> in <span style=\"color: #00ff00; text-decoration-color: #00ff00\">&lt;module&gt;</span>                                                                                      <span style=\"color: #800000; text-decoration-color: #800000\">│</span>\n",
       "<span style=\"color: #800000; text-decoration-color: #800000\">│</span>                                                                                                  <span style=\"color: #800000; text-decoration-color: #800000\">│</span>\n",
       "<span style=\"color: #800000; text-decoration-color: #800000\">│</span> <span style=\"color: #800000; text-decoration-color: #800000\">❱ </span>1 errors = test_preds - test_flower_counts                                                     <span style=\"color: #800000; text-decoration-color: #800000\">│</span>\n",
       "<span style=\"color: #800000; text-decoration-color: #800000\">│</span>   <span style=\"color: #7f7f7f; text-decoration-color: #7f7f7f\">2 </span><span style=\"color: #00ffff; text-decoration-color: #00ffff\">print</span>(test_flower_counts)                                                                    <span style=\"color: #800000; text-decoration-color: #800000\">│</span>\n",
       "<span style=\"color: #800000; text-decoration-color: #800000\">│</span>   <span style=\"color: #7f7f7f; text-decoration-color: #7f7f7f\">3 </span>np.mean(np.abs(errors))                                                                      <span style=\"color: #800000; text-decoration-color: #800000\">│</span>\n",
       "<span style=\"color: #800000; text-decoration-color: #800000\">│</span>   <span style=\"color: #7f7f7f; text-decoration-color: #7f7f7f\">4 </span>                                                                                             <span style=\"color: #800000; text-decoration-color: #800000\">│</span>\n",
       "<span style=\"color: #800000; text-decoration-color: #800000\">╰──────────────────────────────────────────────────────────────────────────────────────────────────╯</span>\n",
       "<span style=\"color: #ff0000; text-decoration-color: #ff0000; font-weight: bold\">ValueError: </span>operands could not be broadcast together with shapes <span style=\"font-weight: bold\">(</span><span style=\"color: #008080; text-decoration-color: #008080; font-weight: bold\">20</span>,<span style=\"font-weight: bold\">)</span> <span style=\"font-weight: bold\">(</span><span style=\"color: #008080; text-decoration-color: #008080; font-weight: bold\">160</span>,<span style=\"font-weight: bold\">)</span> \n",
       "</pre>\n"
      ],
      "text/plain": [
       "\u001b[31m╭─\u001b[0m\u001b[31m──────────────────────────────\u001b[0m\u001b[31m \u001b[0m\u001b[1;31mTraceback \u001b[0m\u001b[1;2;31m(most recent call last)\u001b[0m\u001b[31m \u001b[0m\u001b[31m───────────────────────────────\u001b[0m\u001b[31m─╮\u001b[0m\n",
       "\u001b[31m│\u001b[0m in \u001b[92m<module>\u001b[0m                                                                                      \u001b[31m│\u001b[0m\n",
       "\u001b[31m│\u001b[0m                                                                                                  \u001b[31m│\u001b[0m\n",
       "\u001b[31m│\u001b[0m \u001b[31m❱ \u001b[0m1 errors = test_preds - test_flower_counts                                                     \u001b[31m│\u001b[0m\n",
       "\u001b[31m│\u001b[0m   \u001b[2m2 \u001b[0m\u001b[96mprint\u001b[0m(test_flower_counts)                                                                    \u001b[31m│\u001b[0m\n",
       "\u001b[31m│\u001b[0m   \u001b[2m3 \u001b[0mnp.mean(np.abs(errors))                                                                      \u001b[31m│\u001b[0m\n",
       "\u001b[31m│\u001b[0m   \u001b[2m4 \u001b[0m                                                                                             \u001b[31m│\u001b[0m\n",
       "\u001b[31m╰──────────────────────────────────────────────────────────────────────────────────────────────────╯\u001b[0m\n",
       "\u001b[1;91mValueError: \u001b[0moperands could not be broadcast together with shapes \u001b[1m(\u001b[0m\u001b[1;36m20\u001b[0m,\u001b[1m)\u001b[0m \u001b[1m(\u001b[0m\u001b[1;36m160\u001b[0m,\u001b[1m)\u001b[0m \n"
      ]
     },
     "metadata": {},
     "output_type": "display_data"
    }
   ],
   "source": [
    "errors = test_preds - test_flower_counts\n",
    "np.mean(np.abs(errors))"
   ]
  },
  {
   "cell_type": "code",
   "execution_count": 40,
   "id": "2585b7ef-ec03-4d2e-9883-8aaf31e0cb13",
   "metadata": {
    "tags": []
   },
   "outputs": [
    {
     "data": {
      "text/html": [
       "<pre style=\"white-space:pre;overflow-x:auto;line-height:normal;font-family:Menlo,'DejaVu Sans Mono',consolas,'Courier New',monospace\"><span style=\"color: #008080; text-decoration-color: #008080; font-weight: bold\">90.96686932366106</span>\n",
       "</pre>\n"
      ],
      "text/plain": [
       "\u001b[1;36m90.96686932366106\u001b[0m\n"
      ]
     },
     "metadata": {},
     "output_type": "display_data"
    }
   ],
   "source": [
    "# Calculate MAPE.\n",
    "errors = np.abs(test_preds - test_flower_counts) / ((np.abs(test_preds) + np.abs(test_flower_counts)) / 2) * 100\n",
    "np.mean(errors)"
   ]
  },
  {
   "cell_type": "code",
   "execution_count": 41,
   "id": "2e929358-790f-4dd5-bb00-6e35baf2838b",
   "metadata": {
    "tags": []
   },
   "outputs": [
    {
     "name": "stdout",
     "output_type": "stream",
     "text": [
      "2024-03-11 15:56:32,564 - py.warnings - WARNING - /home/daniel/git/self-supervised-learning/.venv/lib/python3.10/site-packages/seaborn/rcmod.py:400: DeprecationWarning: distutils Version classes are deprecated. Use packaging.version instead.\n",
      "  if LooseVersion(mpl.__version__) >= \"3.0\":\n",
      "\n",
      "2024-03-11 15:56:32,565 - py.warnings - WARNING - /home/daniel/git/self-supervised-learning/.venv/lib/python3.10/site-packages/setuptools/_distutils/version.py:346: DeprecationWarning: distutils Version classes are deprecated. Use packaging.version instead.\n",
      "  other = LooseVersion(other)\n",
      "\n"
     ]
    },
    {
     "data": {
      "image/png": "[encoded data removed]"
     },
     "metadata": {},
     "output_type": "display_data"
    }
   ],
   "source": [
    "%matplotlib inline\n",
    "import seaborn as sns\n",
    "import matplotlib.pyplot as plt\n",
    "\n",
    "sns.set()\n",
    "\n",
    "sns.regplot(x=test_flower_counts, y=test_preds)\n",
    "plt.show()"
   ]
  },
  {
   "cell_type": "code",
   "execution_count": 42,
   "id": "edbe2b6a-40f5-457c-98b9-80735eef556c",
   "metadata": {},
   "outputs": [
    {
     "data": {
      "image/png": "[encoded data removed]"
     },
     "metadata": {},
     "output_type": "display_data"
    }
   ],
   "source": [
    "sns.histplot(x=errors)"
   ]
  },
  {
   "cell_type": "code",
   "execution_count": 43,
   "id": "1e37bd3e-ed25-4568-8a73-9f0fd3581293",
   "metadata": {},
   "outputs": [],
   "source": [
    "# Load the plot status data.\n",
    "PLOT_STATUS_DATA_PATH = Path(\"/home/daniel/lab_share/projects/SSL/plot_status_dataset\")\n",
    "train_dir = PLOT_STATUS_DATA_PATH / \"train\"\n",
    "test_dir = PLOT_STATUS_DATA_PATH / \"test\"\n",
    "\n",
    "LABEL_MAP = {\"in_plot\": 0, \"between_plots\": 1, \"headland\": 2}\n",
    "\n",
    "def collect_images_and_labels(data_dir: Path) -> Tuple[List[Path], np.array]:\n",
    "    image_paths = []\n",
    "    labels = []\n",
    "    \n",
    "    for category_dir in data_dir.iterdir():\n",
    "        for image_path in category_dir.iterdir():\n",
    "            image_paths.append(image_path)\n",
    "            labels.append(LABEL_MAP[category_dir.name])\n",
    "            \n",
    "    return image_paths, np.array(labels)\n",
    "\n",
    "train_images, train_labels = collect_images_and_labels(train_dir)\n",
    "test_images, test_labels = collect_images_and_labels(test_dir)"
   ]
  },
  {
   "cell_type": "code",
   "execution_count": 44,
   "id": "679429e9-e336-475e-b244-6e81bd58ab45",
   "metadata": {
    "tags": []
   },
   "outputs": [
    {
     "name": "stderr",
     "output_type": "stream",
     "text": [
      "100%|████████████████████████████████████████████████████████████████████████████████████████████████████████████████████████████████████████████████████████████████████████████████████████████████████████████████████████████████████████████████████████████████████████████████████████████████████████████████████████████████| 50/50 [00:07<00:00,  6.62it/s]\n",
      "100%|████████████████████████████████████████████████████████████████████████████████████████████████████████████████████████████████████████████████████████████████████████████████████████████████████████████████████████████████████████████████████████████████████████████████████████████████████████████████████████████████| 20/20 [00:03<00:00,  6.56it/s]\n"
     ]
    }
   ],
   "source": [
    "# Compute image representations.\n",
    "train_image_reps, _ = extract_image_reps(train_images)\n",
    "test_image_reps, _ = extract_image_reps(test_images)"
   ]
  },
  {
   "cell_type": "code",
   "execution_count": 45,
   "id": "db7c8f1e-4a06-46c9-b37f-da9d630182f8",
   "metadata": {
    "tags": []
   },
   "outputs": [],
   "source": [
    "# Create combined dataset.\n",
    "all_image_reps = np.concatenate(train_image_reps + test_image_reps, axis=0)\n",
    "all_plot_status = np.concatenate([train_labels, test_labels], axis=0)\n",
    "train_indices = [-1] * len(train_image_reps)\n",
    "test_indices = [0] * len(test_image_reps)\n",
    "split = PredefinedSplit(train_indices + test_indices)"
   ]
  },
  {
   "cell_type": "code",
   "execution_count": 46,
   "id": "5c321cf5-df88-4159-a718-6091fa43f727",
   "metadata": {
    "tags": []
   },
   "outputs": [],
   "source": [
    "# Fit the model.\n",
    "from sklearn.linear_model import LogisticRegressionCV, LogisticRegression\n",
    "\n",
    "alphas = [1e-4, 0.01, 0.1, 1.0, 2.0, 8.0, 32.0, 64.0, 128.0]\n",
    "reg_search = LogisticRegressionCV(Cs=alphas, cv=split).fit(all_image_reps, all_plot_status)\n",
    "# LogisticRegressionCV is going to go and refit on the whole dataset once it finds the best alpha, which we don't want.\n",
    "# Fit manually with the best alpha on just the training data.\n",
    "reg = LogisticRegression(C=np.mean(reg_search.C_)).fit(np.concatenate(train_image_reps, axis=0), train_labels)"
   ]
  },
  {
   "cell_type": "code",
   "execution_count": 47,
   "id": "1c41fb6e-8e8f-4548-9d27-2e45397080b9",
   "metadata": {
    "tags": []
   },
   "outputs": [
    {
     "data": {
      "text/html": [
       "<pre style=\"white-space:pre;overflow-x:auto;line-height:normal;font-family:Menlo,'DejaVu Sans Mono',consolas,'Courier New',monospace\"><span style=\"color: #800080; text-decoration-color: #800080; font-weight: bold\">array</span><span style=\"font-weight: bold\">([</span><span style=\"color: #008080; text-decoration-color: #008080; font-weight: bold\">0</span>, <span style=\"color: #008080; text-decoration-color: #008080; font-weight: bold\">0</span>, <span style=\"color: #008080; text-decoration-color: #008080; font-weight: bold\">0</span>, <span style=\"color: #008080; text-decoration-color: #008080; font-weight: bold\">0</span>, <span style=\"color: #008080; text-decoration-color: #008080; font-weight: bold\">0</span>, <span style=\"color: #008080; text-decoration-color: #008080; font-weight: bold\">0</span>, <span style=\"color: #008080; text-decoration-color: #008080; font-weight: bold\">0</span>, <span style=\"color: #008080; text-decoration-color: #008080; font-weight: bold\">0</span>, <span style=\"color: #008080; text-decoration-color: #008080; font-weight: bold\">0</span>, <span style=\"color: #008080; text-decoration-color: #008080; font-weight: bold\">0</span>, <span style=\"color: #008080; text-decoration-color: #008080; font-weight: bold\">0</span>, <span style=\"color: #008080; text-decoration-color: #008080; font-weight: bold\">0</span>, <span style=\"color: #008080; text-decoration-color: #008080; font-weight: bold\">0</span>, <span style=\"color: #008080; text-decoration-color: #008080; font-weight: bold\">0</span>, <span style=\"color: #008080; text-decoration-color: #008080; font-weight: bold\">0</span>, <span style=\"color: #008080; text-decoration-color: #008080; font-weight: bold\">0</span>, <span style=\"color: #008080; text-decoration-color: #008080; font-weight: bold\">0</span>, <span style=\"color: #008080; text-decoration-color: #008080; font-weight: bold\">0</span>, <span style=\"color: #008080; text-decoration-color: #008080; font-weight: bold\">0</span>, <span style=\"color: #008080; text-decoration-color: #008080; font-weight: bold\">0</span><span style=\"font-weight: bold\">])</span>\n",
       "</pre>\n"
      ],
      "text/plain": [
       "\u001b[1;35marray\u001b[0m\u001b[1m(\u001b[0m\u001b[1m[\u001b[0m\u001b[1;36m0\u001b[0m, \u001b[1;36m0\u001b[0m, \u001b[1;36m0\u001b[0m, \u001b[1;36m0\u001b[0m, \u001b[1;36m0\u001b[0m, \u001b[1;36m0\u001b[0m, \u001b[1;36m0\u001b[0m, \u001b[1;36m0\u001b[0m, \u001b[1;36m0\u001b[0m, \u001b[1;36m0\u001b[0m, \u001b[1;36m0\u001b[0m, \u001b[1;36m0\u001b[0m, \u001b[1;36m0\u001b[0m, \u001b[1;36m0\u001b[0m, \u001b[1;36m0\u001b[0m, \u001b[1;36m0\u001b[0m, \u001b[1;36m0\u001b[0m, \u001b[1;36m0\u001b[0m, \u001b[1;36m0\u001b[0m, \u001b[1;36m0\u001b[0m\u001b[1m]\u001b[0m\u001b[1m)\u001b[0m\n"
      ]
     },
     "metadata": {},
     "output_type": "display_data"
    }
   ],
   "source": [
    "# Compute predictions on test set.\n",
    "test_image_reps_arr = np.concatenate(test_image_reps, axis=0)\n",
    "test_preds = reg.predict(test_image_reps_arr)\n",
    "test_preds"
   ]
  },
  {
   "cell_type": "code",
   "execution_count": 48,
   "id": "a6d6d6e0-f1cb-4056-b6ef-c0cafc96fedd",
   "metadata": {
    "tags": []
   },
   "outputs": [
    {
     "data": {
      "text/html": [
       "<pre style=\"white-space:pre;overflow-x:auto;line-height:normal;font-family:Menlo,'DejaVu Sans Mono',consolas,'Courier New',monospace\"><span style=\"color: #008080; text-decoration-color: #008080; font-weight: bold\">0.45</span>\n",
       "</pre>\n"
      ],
      "text/plain": [
       "\u001b[1;36m0.45\u001b[0m\n"
      ]
     },
     "metadata": {},
     "output_type": "display_data"
    }
   ],
   "source": [
    "# Calculate accuracy.\n",
    "test_accuracy = np.sum(test_preds == test_labels) / len(test_labels)\n",
    "test_accuracy"
   ]
  },
  {
   "cell_type": "code",
   "execution_count": null,
   "id": "73b66676-4a8b-4a19-ad5c-a9f484f97f3e",
   "metadata": {},
   "outputs": [],
   "source": []
  }
 ],
 "metadata": {
  "kernelspec": {
   "display_name": "Kedro (self_supervised)",
   "language": "python",
   "name": "kedro_self_supervised"
  },
  "language_info": {
   "codemirror_mode": {
    "name": "ipython",
    "version": 3
   },
   "file_extension": ".py",
   "mimetype": "text/x-python",
   "name": "python",
   "nbconvert_exporter": "python",
   "pygments_lexer": "ipython3",
   "version": "3.10.10"
  }
 },
 "nbformat": 4,
 "nbformat_minor": 5
}
