{
 "cells": [
  {
   "cell_type": "code",
   "execution_count": 1,
   "id": "acfda911-ae74-4318-a246-949fe66cdd10",
   "metadata": {
    "tags": []
   },
   "outputs": [
    {
     "name": "stdout",
     "output_type": "stream",
     "text": [
      "2024-03-20 12:20:26,690 - kedro.ipython - INFO - Resolved project path as: /home/daniel/git/self-supervised-learning.\n",
      "To set a different path, run '%reload_kedro <project_root>'\n",
      "2024-03-20 12:20:26,698 - py.warnings - WARNING - /home/daniel/git/self-supervised-learning/.venv/lib/python3.10/site-packages/kedro/framework/startup.py:99: KedroDeprecationWarning: project_version in pyproject.toml is deprecated, use kedro_init_version instead\n",
      "  warnings.warn(\n",
      "\n",
      "2024-03-20 12:20:26,828 - py.warnings - WARNING - /home/daniel/git/self-supervised-learning/.venv/lib/python3.10/site-packages/kedro/framework/session/session.py:267: KedroDeprecationWarning: TemplatedConfigLoader will be deprecated in Kedro 0.19. Please use the OmegaConfigLoader instead. To consult the documentation for OmegaConfigLoader, see here: https://docs.kedro.org/en/stable/configuration/advanced_configuration.html#omegaconfigloader\n",
      "  warnings.warn(\n",
      "\n",
      "2024-03-20 12:20:26,851 - py.warnings - WARNING - /home/daniel/git/self-supervised-learning/.venv/lib/python3.10/site-packages/kedro/io/__init__.py:44: KedroDeprecationWarning: 'AbstractDataSet' has been renamed to 'AbstractDataset', and the alias will be removed in Kedro 0.19.0\n",
      "  return getattr(kedro.io.core, name)\n",
      "\n",
      "2024-03-20 12:20:26,852 - py.warnings - WARNING - /home/daniel/git/self-supervised-learning/.venv/lib/python3.10/site-packages/kedro/io/__init__.py:44: KedroDeprecationWarning: 'AbstractVersionedDataSet' has been renamed to 'AbstractVersionedDataset', and the alias will be removed in Kedro 0.19.0\n",
      "  return getattr(kedro.io.core, name)\n",
      "\n",
      "2024-03-20 12:20:26,853 - py.warnings - WARNING - /home/daniel/git/self-supervised-learning/.venv/lib/python3.10/site-packages/kedro/io/partitioned_dataset.py:200: KedroDeprecationWarning: 'PartitionedDataset' has been moved to `kedro-datasets` and will be removed in Kedro 0.19.0.\n",
      "  warnings.warn(\n",
      "\n",
      "2024-03-20 12:20:26,978 - kedro.ipython - INFO - Kedro project Self-Supervised Learning\n",
      "2024-03-20 12:20:26,979 - kedro.ipython - INFO - Defined global variable 'context', 'session', 'catalog' and 'pipelines'\n",
      "2024-03-20 12:20:26,985 - kedro.io.data_catalog - INFO - Loading data from 'yolov8_l_description' (YAMLDataSet)...\n"
     ]
    },
    {
     "name": "stderr",
     "output_type": "stream",
     "text": [
      "2024-03-20 12:20:27.105 | INFO     | self_supervised.pipelines.train_simclr.nodes:<module>:43 - Using cpu device.\n"
     ]
    }
   ],
   "source": [
    "from self_supervised.pipelines.representation_model import RepresentationModel, YoloEncoder\n",
    "from ultralytics.models.yolo.detect.train import DetectionModel\n",
    "import torch\n",
    "from segment_anything import SamPredictor, sam_model_registry\n",
    "\n",
    "%reload_kedro\n",
    "model_description = catalog.load(\"yolov8_l_description\")\n",
    "# trained_model = catalog.load(\"trained_model\", version=\"2023-03-23T12.37.00.000Z\")\n",
    "trained_model = torch.load(\"../checkpoints/checkpoint_29898.pt\", map_location=\"cpu\").encoder_q\n",
    "\n",
    "# Random model\n",
    "# encoder = YoloEncoder(model_description=model_description)\n",
    "# trained_model = RepresentationModel(encoder=encoder)\n",
    "\n",
    "# CoCO model\n",
    "# model_description[\"head\"] = model_description[\"head\"][:-1]\n",
    "# trained_model = DetectionModel(model_description)\n",
    "# weights_model = torch.load(\"../yolov8l.pt\", map_location=\"cpu\")\n",
    "# state_dict = weights_model[\"model\"].float().state_dict()\n",
    "# trained_model.load_state_dict(state_dict, strict=False)\n",
    "\n",
    "# SAM model\n",
    "#sam = sam_model_registry[\"vit_b\"](checkpoint=\"../sam_vit_b_01ec64.pth\")\n",
    "#predictor = SamPredictor(sam)\n",
    "\n",
    "# def trained_model(image):\n",
    "#     predictor.set_image(image[0])\n",
    "#     rep = predictor.get_image_embedding()\n",
    "#     return torch.mean(rep, dim=(2, 3))\n",
    "\n",
    "projection = trained_model.projection\n",
    "trained_model = trained_model.encoder\n",
    "trained_model = trained_model.eval()\n",
    "projection = projection.eval()"
   ]
  },
  {
   "cell_type": "code",
   "execution_count": 2,
   "id": "9c417e76-aefa-413d-973a-71b8e77ac00c",
   "metadata": {
    "tags": []
   },
   "outputs": [],
   "source": [
    "# Aerial\n",
    "TRAIN_SPLIT = \"active_1\"\n",
    "TEST_SPLIT = \"2018-08-22\"\n",
    "\n",
    "# Ground\n",
    "# TRAIN_SPLIT = \"ssl_active_3\"\n",
    "# TEST_SPLIT = \"ssl_active_2\""
   ]
  },
  {
   "cell_type": "code",
   "execution_count": 3,
   "id": "c1878dbc-46f2-463f-b313-6dc1aed75b69",
   "metadata": {
    "tags": []
   },
   "outputs": [],
   "source": [
    "from pathlib import Path\n",
    "\n",
    "dataset_path = Path(\"/home/daniel/lab_share/projects/CottonFlower2021/flower_dataset\")\n",
    "image_dir = dataset_path / TRAIN_SPLIT / \"images\""
   ]
  },
  {
   "cell_type": "code",
   "execution_count": 4,
   "id": "c41fe7f6-ac26-435f-a8ed-996eacd3b5fd",
   "metadata": {
    "tags": []
   },
   "outputs": [],
   "source": [
    "# import random\n",
    "# random.sample(range(160), 10)\n",
    "\n",
    "# indices = [143, 159, 78, 12, 34, 116, 118, 0, 44, 124]"
   ]
  },
  {
   "cell_type": "code",
   "execution_count": 5,
   "id": "5a67e6c7-88c4-40b3-a33d-1a67a76f0d5f",
   "metadata": {
    "tags": []
   },
   "outputs": [
    {
     "name": "stderr",
     "output_type": "stream",
     "text": [
      "100%|██████████████████████████████████████████████████████████████████████████████████████████████████████████████████████████████████████████████████████████████████████████████████████████████████████████████████████████████████████████████████████████████████████████████████████████████████████████████████████████████| 160/160 [00:30<00:00,  5.23it/s]\n"
     ]
    }
   ],
   "source": [
    "from torchvision.io import read_image\n",
    "from torchvision.transforms.functional import resize\n",
    "from tqdm import tqdm\n",
    "import torch\n",
    "from typing import Tuple, List\n",
    "import numpy as np\n",
    "\n",
    "def extract_image_reps(image_list: List[Path]) -> Tuple[List[np.array], List[np.array]]:\n",
    "    image_reps = []\n",
    "    image_reps_low_dim = []\n",
    "\n",
    "    for image_path in tqdm(image_list):\n",
    "        image = read_image(image_path.as_posix())\n",
    "        image.requires_grad = False\n",
    "        image = resize(image, (512, 512))\n",
    "        image = image.to(torch.float) / 255\n",
    "        image_ex = image[None, :, :, :]\n",
    "\n",
    "        image_rep = trained_model(image_ex).detach()\n",
    "        image_reps.append(image_rep[0].reshape((1, -1)).numpy())\n",
    "                          \n",
    "    return image_reps, image_reps_low_dim\n",
    "\n",
    "\n",
    "def extract_image_reps_dir(image_dir_: Path) -> Tuple[List[np.array], List[np.array]]:\n",
    "    image_list = sorted(list(image_dir_.iterdir()))\n",
    "    return extract_image_reps(image_list)\n",
    "                          \n",
    "image_reps, image_reps_low_dim = extract_image_reps_dir(image_dir)"
   ]
  },
  {
   "cell_type": "code",
   "execution_count": 6,
   "id": "43808fe8-1319-464a-8977-4e7f42db135f",
   "metadata": {
    "tags": []
   },
   "outputs": [
    {
     "data": {
      "text/html": [
       "<pre style=\"white-space:pre;overflow-x:auto;line-height:normal;font-family:Menlo,'DejaVu Sans Mono',consolas,'Courier New',monospace\"></pre>\n"
      ],
      "text/plain": []
     },
     "metadata": {},
     "output_type": "display_data"
    },
    {
     "data": {
      "text/html": [
       "<div>\n",
       "<style scoped>\n",
       "    .dataframe tbody tr th:only-of-type {\n",
       "        vertical-align: middle;\n",
       "    }\n",
       "\n",
       "    .dataframe tbody tr th {\n",
       "        vertical-align: top;\n",
       "    }\n",
       "\n",
       "    .dataframe thead th {\n",
       "        text-align: right;\n",
       "    }\n",
       "</style>\n",
       "<table border=\"1\" class=\"dataframe\">\n",
       "  <thead>\n",
       "    <tr style=\"text-align: right;\">\n",
       "      <th></th>\n",
       "      <th>class</th>\n",
       "      <th>x</th>\n",
       "      <th>y</th>\n",
       "      <th>width</th>\n",
       "      <th>height</th>\n",
       "      <th>frame</th>\n",
       "    </tr>\n",
       "  </thead>\n",
       "  <tbody>\n",
       "    <tr>\n",
       "      <th>0</th>\n",
       "      <td>0</td>\n",
       "      <td>0.386324</td>\n",
       "      <td>0.308469</td>\n",
       "      <td>0.030488</td>\n",
       "      <td>0.046636</td>\n",
       "      <td>p0_P1090018.txt</td>\n",
       "    </tr>\n",
       "    <tr>\n",
       "      <th>1</th>\n",
       "      <td>0</td>\n",
       "      <td>0.284843</td>\n",
       "      <td>0.252320</td>\n",
       "      <td>0.026132</td>\n",
       "      <td>0.038283</td>\n",
       "      <td>p0_P1090081.txt</td>\n",
       "    </tr>\n",
       "    <tr>\n",
       "      <th>2</th>\n",
       "      <td>0</td>\n",
       "      <td>0.448606</td>\n",
       "      <td>0.327726</td>\n",
       "      <td>0.013937</td>\n",
       "      <td>0.029002</td>\n",
       "      <td>p0_P1090300.txt</td>\n",
       "    </tr>\n",
       "    <tr>\n",
       "      <th>3</th>\n",
       "      <td>0</td>\n",
       "      <td>0.138937</td>\n",
       "      <td>0.221578</td>\n",
       "      <td>0.023519</td>\n",
       "      <td>0.032483</td>\n",
       "      <td>p0_P1090300.txt</td>\n",
       "    </tr>\n",
       "    <tr>\n",
       "      <th>4</th>\n",
       "      <td>0</td>\n",
       "      <td>0.030488</td>\n",
       "      <td>0.099768</td>\n",
       "      <td>0.024390</td>\n",
       "      <td>0.034803</td>\n",
       "      <td>p0_P1090300.txt</td>\n",
       "    </tr>\n",
       "    <tr>\n",
       "      <th>...</th>\n",
       "      <td>...</td>\n",
       "      <td>...</td>\n",
       "      <td>...</td>\n",
       "      <td>...</td>\n",
       "      <td>...</td>\n",
       "      <td>...</td>\n",
       "    </tr>\n",
       "    <tr>\n",
       "      <th>300</th>\n",
       "      <td>0</td>\n",
       "      <td>0.309612</td>\n",
       "      <td>0.294762</td>\n",
       "      <td>0.010253</td>\n",
       "      <td>0.014188</td>\n",
       "      <td>p9_P1680757.txt</td>\n",
       "    </tr>\n",
       "    <tr>\n",
       "      <th>301</th>\n",
       "      <td>0</td>\n",
       "      <td>0.365584</td>\n",
       "      <td>0.297645</td>\n",
       "      <td>0.009460</td>\n",
       "      <td>0.017842</td>\n",
       "      <td>p9_P1680757.txt</td>\n",
       "    </tr>\n",
       "    <tr>\n",
       "      <th>302</th>\n",
       "      <td>0</td>\n",
       "      <td>0.500000</td>\n",
       "      <td>0.379350</td>\n",
       "      <td>0.013937</td>\n",
       "      <td>0.016241</td>\n",
       "      <td>p9_P1680757.txt</td>\n",
       "    </tr>\n",
       "    <tr>\n",
       "      <th>303</th>\n",
       "      <td>0</td>\n",
       "      <td>0.908537</td>\n",
       "      <td>0.736079</td>\n",
       "      <td>0.012195</td>\n",
       "      <td>0.017401</td>\n",
       "      <td>p9_P1680757.txt</td>\n",
       "    </tr>\n",
       "    <tr>\n",
       "      <th>304</th>\n",
       "      <td>0</td>\n",
       "      <td>0.827539</td>\n",
       "      <td>0.119165</td>\n",
       "      <td>0.013406</td>\n",
       "      <td>0.016798</td>\n",
       "      <td>p9_P1780789.txt</td>\n",
       "    </tr>\n",
       "  </tbody>\n",
       "</table>\n",
       "<p>305 rows × 6 columns</p>\n",
       "</div>"
      ],
      "text/plain": [
       "\n",
       "    class         x         y     width    height            frame\n",
       "\u001b[1;36m0\u001b[0m       \u001b[1;36m0\u001b[0m  \u001b[1;36m0.386324\u001b[0m  \u001b[1;36m0.308469\u001b[0m  \u001b[1;36m0.030488\u001b[0m  \u001b[1;36m0.046636\u001b[0m  p0_P1090018.txt\n",
       "\u001b[1;36m1\u001b[0m       \u001b[1;36m0\u001b[0m  \u001b[1;36m0.284843\u001b[0m  \u001b[1;36m0.252320\u001b[0m  \u001b[1;36m0.026132\u001b[0m  \u001b[1;36m0.038283\u001b[0m  p0_P1090081.txt\n",
       "\u001b[1;36m2\u001b[0m       \u001b[1;36m0\u001b[0m  \u001b[1;36m0.448606\u001b[0m  \u001b[1;36m0.327726\u001b[0m  \u001b[1;36m0.013937\u001b[0m  \u001b[1;36m0.029002\u001b[0m  p0_P1090300.txt\n",
       "\u001b[1;36m3\u001b[0m       \u001b[1;36m0\u001b[0m  \u001b[1;36m0.138937\u001b[0m  \u001b[1;36m0.221578\u001b[0m  \u001b[1;36m0.023519\u001b[0m  \u001b[1;36m0.032483\u001b[0m  p0_P1090300.txt\n",
       "\u001b[1;36m4\u001b[0m       \u001b[1;36m0\u001b[0m  \u001b[1;36m0.030488\u001b[0m  \u001b[1;36m0.099768\u001b[0m  \u001b[1;36m0.024390\u001b[0m  \u001b[1;36m0.034803\u001b[0m  p0_P1090300.txt\n",
       "..    \u001b[33m...\u001b[0m       \u001b[33m...\u001b[0m       \u001b[33m...\u001b[0m       \u001b[33m...\u001b[0m       \u001b[33m...\u001b[0m              \u001b[33m...\u001b[0m\n",
       "\u001b[1;36m300\u001b[0m     \u001b[1;36m0\u001b[0m  \u001b[1;36m0.309612\u001b[0m  \u001b[1;36m0.294762\u001b[0m  \u001b[1;36m0.010253\u001b[0m  \u001b[1;36m0.014188\u001b[0m  p9_P1680757.txt\n",
       "\u001b[1;36m301\u001b[0m     \u001b[1;36m0\u001b[0m  \u001b[1;36m0.365584\u001b[0m  \u001b[1;36m0.297645\u001b[0m  \u001b[1;36m0.009460\u001b[0m  \u001b[1;36m0.017842\u001b[0m  p9_P1680757.txt\n",
       "\u001b[1;36m302\u001b[0m     \u001b[1;36m0\u001b[0m  \u001b[1;36m0.500000\u001b[0m  \u001b[1;36m0.379350\u001b[0m  \u001b[1;36m0.013937\u001b[0m  \u001b[1;36m0.016241\u001b[0m  p9_P1680757.txt\n",
       "\u001b[1;36m303\u001b[0m     \u001b[1;36m0\u001b[0m  \u001b[1;36m0.908537\u001b[0m  \u001b[1;36m0.736079\u001b[0m  \u001b[1;36m0.012195\u001b[0m  \u001b[1;36m0.017401\u001b[0m  p9_P1680757.txt\n",
       "\u001b[1;36m304\u001b[0m     \u001b[1;36m0\u001b[0m  \u001b[1;36m0.827539\u001b[0m  \u001b[1;36m0.119165\u001b[0m  \u001b[1;36m0.013406\u001b[0m  \u001b[1;36m0.016798\u001b[0m  p9_P1780789.txt\n",
       "\n",
       "\u001b[1m[\u001b[0m\u001b[1;36m305\u001b[0m rows x \u001b[1;36m6\u001b[0m columns\u001b[1m]\u001b[0m"
      ]
     },
     "execution_count": 6,
     "metadata": {},
     "output_type": "execute_result"
    }
   ],
   "source": [
    "# Load flower counts.\n",
    "import pandas as pd\n",
    "\n",
    "labels_dir = dataset_path / TRAIN_SPLIT / \"labels\"\n",
    "all_labels = []\n",
    "labels_list = sorted(list(labels_dir.iterdir()))\n",
    "# labels_list = [labels_list[i] for i in indices]\n",
    "for labels_path in labels_list:\n",
    "    frame_labels = pd.read_csv(labels_path, sep=\" \", names=[\"class\", \"x\", \"y\", \"width\", \"height\"])\n",
    "    frame_labels[\"frame\"] = labels_path.name\n",
    "    all_labels.append(frame_labels)\n",
    "    \n",
    "all_labels = pd.concat(all_labels, ignore_index=True)\n",
    "all_labels"
   ]
  },
  {
   "cell_type": "code",
   "execution_count": 7,
   "id": "96a261b8-3343-4c52-a567-4a94fcbc3964",
   "metadata": {
    "tags": []
   },
   "outputs": [],
   "source": [
    "import numpy as np\n",
    "\n",
    "# Create flower counts labels.\n",
    "flower_counts = []\n",
    "for image_path in labels_list:\n",
    "    flower_counts.append(np.count_nonzero(all_labels[\"frame\"] == image_path.name))\n",
    "    \n",
    "# Any missing counts are zeros.\n",
    "for _ in range(len(flower_counts), len(image_reps)):\n",
    "    flower_counts.append(0)"
   ]
  },
  {
   "cell_type": "code",
   "execution_count": 8,
   "id": "8cd84dd2-fc0b-482e-b69a-7bed0e95f7e5",
   "metadata": {
    "tags": []
   },
   "outputs": [
    {
     "name": "stderr",
     "output_type": "stream",
     "text": [
      "100%|██████████████████████████████████████████████████████████████████████████████████████████████████████████████████████████████████████████████████████████████████████████████████████████████████████████████████████████████████████████████████████████████████████████████████████████████████████████████████████████████| 160/160 [00:30<00:00,  5.29it/s]\n"
     ]
    }
   ],
   "source": [
    "test_image_dir = dataset_path / TEST_SPLIT / \"images\"\n",
    "\n",
    "test_image_reps, test_image_reps_low_dim = extract_image_reps_dir(test_image_dir)"
   ]
  },
  {
   "cell_type": "code",
   "execution_count": 9,
   "id": "1d4b4cc4-c178-4e22-be2e-d21b0bb5d899",
   "metadata": {
    "tags": []
   },
   "outputs": [
    {
     "data": {
      "text/html": [
       "<pre style=\"white-space:pre;overflow-x:auto;line-height:normal;font-family:Menlo,'DejaVu Sans Mono',consolas,'Courier New',monospace\"></pre>\n"
      ],
      "text/plain": []
     },
     "metadata": {},
     "output_type": "display_data"
    },
    {
     "data": {
      "text/html": [
       "<div>\n",
       "<style scoped>\n",
       "    .dataframe tbody tr th:only-of-type {\n",
       "        vertical-align: middle;\n",
       "    }\n",
       "\n",
       "    .dataframe tbody tr th {\n",
       "        vertical-align: top;\n",
       "    }\n",
       "\n",
       "    .dataframe thead th {\n",
       "        text-align: right;\n",
       "    }\n",
       "</style>\n",
       "<table border=\"1\" class=\"dataframe\">\n",
       "  <thead>\n",
       "    <tr style=\"text-align: right;\">\n",
       "      <th></th>\n",
       "      <th>class</th>\n",
       "      <th>x</th>\n",
       "      <th>y</th>\n",
       "      <th>width</th>\n",
       "      <th>height</th>\n",
       "      <th>frame</th>\n",
       "    </tr>\n",
       "  </thead>\n",
       "  <tbody>\n",
       "    <tr>\n",
       "      <th>0</th>\n",
       "      <td>0</td>\n",
       "      <td>0.414497</td>\n",
       "      <td>0.818287</td>\n",
       "      <td>0.039062</td>\n",
       "      <td>0.046296</td>\n",
       "      <td>p0_P2530585.txt</td>\n",
       "    </tr>\n",
       "    <tr>\n",
       "      <th>1</th>\n",
       "      <td>0</td>\n",
       "      <td>0.245660</td>\n",
       "      <td>0.649884</td>\n",
       "      <td>0.019097</td>\n",
       "      <td>0.028935</td>\n",
       "      <td>p0_P2530668.txt</td>\n",
       "    </tr>\n",
       "    <tr>\n",
       "      <th>2</th>\n",
       "      <td>0</td>\n",
       "      <td>0.636719</td>\n",
       "      <td>0.209491</td>\n",
       "      <td>0.018229</td>\n",
       "      <td>0.025463</td>\n",
       "      <td>p0_P2530668.txt</td>\n",
       "    </tr>\n",
       "    <tr>\n",
       "      <th>3</th>\n",
       "      <td>0</td>\n",
       "      <td>0.827691</td>\n",
       "      <td>0.566551</td>\n",
       "      <td>0.019965</td>\n",
       "      <td>0.026620</td>\n",
       "      <td>p0_P2530668.txt</td>\n",
       "    </tr>\n",
       "    <tr>\n",
       "      <th>4</th>\n",
       "      <td>0</td>\n",
       "      <td>0.392734</td>\n",
       "      <td>0.709734</td>\n",
       "      <td>0.022448</td>\n",
       "      <td>0.033588</td>\n",
       "      <td>p0_P2530668.txt</td>\n",
       "    </tr>\n",
       "    <tr>\n",
       "      <th>...</th>\n",
       "      <td>...</td>\n",
       "      <td>...</td>\n",
       "      <td>...</td>\n",
       "      <td>...</td>\n",
       "      <td>...</td>\n",
       "      <td>...</td>\n",
       "    </tr>\n",
       "    <tr>\n",
       "      <th>382</th>\n",
       "      <td>0</td>\n",
       "      <td>0.053385</td>\n",
       "      <td>0.823495</td>\n",
       "      <td>0.021701</td>\n",
       "      <td>0.028935</td>\n",
       "      <td>p9_P2540369.txt</td>\n",
       "    </tr>\n",
       "    <tr>\n",
       "      <th>383</th>\n",
       "      <td>0</td>\n",
       "      <td>0.441840</td>\n",
       "      <td>0.266204</td>\n",
       "      <td>0.019097</td>\n",
       "      <td>0.025463</td>\n",
       "      <td>p9_P2540369.txt</td>\n",
       "    </tr>\n",
       "    <tr>\n",
       "      <th>384</th>\n",
       "      <td>0</td>\n",
       "      <td>0.533854</td>\n",
       "      <td>0.799769</td>\n",
       "      <td>0.032986</td>\n",
       "      <td>0.041667</td>\n",
       "      <td>p9_P2540420.txt</td>\n",
       "    </tr>\n",
       "    <tr>\n",
       "      <th>385</th>\n",
       "      <td>0</td>\n",
       "      <td>0.404948</td>\n",
       "      <td>0.767361</td>\n",
       "      <td>0.019965</td>\n",
       "      <td>0.025463</td>\n",
       "      <td>p9_P2540420.txt</td>\n",
       "    </tr>\n",
       "    <tr>\n",
       "      <th>386</th>\n",
       "      <td>0</td>\n",
       "      <td>0.343316</td>\n",
       "      <td>0.987269</td>\n",
       "      <td>0.016493</td>\n",
       "      <td>0.025463</td>\n",
       "      <td>p9_P2540420.txt</td>\n",
       "    </tr>\n",
       "  </tbody>\n",
       "</table>\n",
       "<p>387 rows × 6 columns</p>\n",
       "</div>"
      ],
      "text/plain": [
       "\n",
       "    class         x         y     width    height            frame\n",
       "\u001b[1;36m0\u001b[0m       \u001b[1;36m0\u001b[0m  \u001b[1;36m0.414497\u001b[0m  \u001b[1;36m0.818287\u001b[0m  \u001b[1;36m0.039062\u001b[0m  \u001b[1;36m0.046296\u001b[0m  p0_P2530585.txt\n",
       "\u001b[1;36m1\u001b[0m       \u001b[1;36m0\u001b[0m  \u001b[1;36m0.245660\u001b[0m  \u001b[1;36m0.649884\u001b[0m  \u001b[1;36m0.019097\u001b[0m  \u001b[1;36m0.028935\u001b[0m  p0_P2530668.txt\n",
       "\u001b[1;36m2\u001b[0m       \u001b[1;36m0\u001b[0m  \u001b[1;36m0.636719\u001b[0m  \u001b[1;36m0.209491\u001b[0m  \u001b[1;36m0.018229\u001b[0m  \u001b[1;36m0.025463\u001b[0m  p0_P2530668.txt\n",
       "\u001b[1;36m3\u001b[0m       \u001b[1;36m0\u001b[0m  \u001b[1;36m0.827691\u001b[0m  \u001b[1;36m0.566551\u001b[0m  \u001b[1;36m0.019965\u001b[0m  \u001b[1;36m0.026620\u001b[0m  p0_P2530668.txt\n",
       "\u001b[1;36m4\u001b[0m       \u001b[1;36m0\u001b[0m  \u001b[1;36m0.392734\u001b[0m  \u001b[1;36m0.709734\u001b[0m  \u001b[1;36m0.022448\u001b[0m  \u001b[1;36m0.033588\u001b[0m  p0_P2530668.txt\n",
       "..    \u001b[33m...\u001b[0m       \u001b[33m...\u001b[0m       \u001b[33m...\u001b[0m       \u001b[33m...\u001b[0m       \u001b[33m...\u001b[0m              \u001b[33m...\u001b[0m\n",
       "\u001b[1;36m382\u001b[0m     \u001b[1;36m0\u001b[0m  \u001b[1;36m0.053385\u001b[0m  \u001b[1;36m0.823495\u001b[0m  \u001b[1;36m0.021701\u001b[0m  \u001b[1;36m0.028935\u001b[0m  p9_P2540369.txt\n",
       "\u001b[1;36m383\u001b[0m     \u001b[1;36m0\u001b[0m  \u001b[1;36m0.441840\u001b[0m  \u001b[1;36m0.266204\u001b[0m  \u001b[1;36m0.019097\u001b[0m  \u001b[1;36m0.025463\u001b[0m  p9_P2540369.txt\n",
       "\u001b[1;36m384\u001b[0m     \u001b[1;36m0\u001b[0m  \u001b[1;36m0.533854\u001b[0m  \u001b[1;36m0.799769\u001b[0m  \u001b[1;36m0.032986\u001b[0m  \u001b[1;36m0.041667\u001b[0m  p9_P2540420.txt\n",
       "\u001b[1;36m385\u001b[0m     \u001b[1;36m0\u001b[0m  \u001b[1;36m0.404948\u001b[0m  \u001b[1;36m0.767361\u001b[0m  \u001b[1;36m0.019965\u001b[0m  \u001b[1;36m0.025463\u001b[0m  p9_P2540420.txt\n",
       "\u001b[1;36m386\u001b[0m     \u001b[1;36m0\u001b[0m  \u001b[1;36m0.343316\u001b[0m  \u001b[1;36m0.987269\u001b[0m  \u001b[1;36m0.016493\u001b[0m  \u001b[1;36m0.025463\u001b[0m  p9_P2540420.txt\n",
       "\n",
       "\u001b[1m[\u001b[0m\u001b[1;36m387\u001b[0m rows x \u001b[1;36m6\u001b[0m columns\u001b[1m]\u001b[0m"
      ]
     },
     "execution_count": 9,
     "metadata": {},
     "output_type": "execute_result"
    }
   ],
   "source": [
    "test_labels_dir = dataset_path / TEST_SPLIT / \"labels\"\n",
    "all_labels_test = []\n",
    "labels_list = sorted(list(test_labels_dir.iterdir()))\n",
    "for labels_path in labels_list:\n",
    "    frame_labels = pd.read_csv(labels_path, sep=\" \", names=[\"class\", \"x\", \"y\", \"width\", \"height\"])\n",
    "    frame_labels[\"frame\"] = labels_path.name\n",
    "    all_labels_test.append(frame_labels)\n",
    "    \n",
    "all_labels_test = pd.concat(all_labels_test, ignore_index=True)\n",
    "all_labels_test"
   ]
  },
  {
   "cell_type": "code",
   "execution_count": 10,
   "id": "0543d1a7-4b18-4d0f-8536-3529a2cda92a",
   "metadata": {
    "tags": []
   },
   "outputs": [],
   "source": [
    "# Create flower counts.\n",
    "test_flower_counts = []\n",
    "for image_path in labels_list:\n",
    "    test_flower_counts.append(np.count_nonzero(all_labels_test[\"frame\"] == image_path.name))\n",
    "    \n",
    "# Any missing counts are zeros.\n",
    "for _ in range(len(test_flower_counts), len(test_image_reps)):\n",
    "    test_flower_counts.append(0)"
   ]
  },
  {
   "cell_type": "code",
   "execution_count": 11,
   "id": "1741b680-ed08-476e-9a0f-5cb5f0118805",
   "metadata": {
    "tags": []
   },
   "outputs": [],
   "source": [
    "from sklearn.model_selection import PredefinedSplit\n",
    "\n",
    "# Create combined dataset.\n",
    "all_image_reps = image_reps + test_image_reps\n",
    "all_flower_counts = flower_counts + test_flower_counts\n",
    "train_indices = [-1] * len(image_reps)\n",
    "test_indices = [0] * len(test_image_reps)\n",
    "split = PredefinedSplit(train_indices + test_indices)"
   ]
  },
  {
   "cell_type": "code",
   "execution_count": 12,
   "id": "8ca94b64-b75c-41e7-a3f3-459bd29de228",
   "metadata": {
    "tags": []
   },
   "outputs": [
    {
     "name": "stdout",
     "output_type": "stream",
     "text": [
      "2024-03-20 12:21:46,336 - py.warnings - WARNING - /home/daniel/git/self-supervised-learning/.venv/lib/python3.10/site-packages/sklearn/linear_model/_ridge.py:243: UserWarning: Singular matrix in solving dual problem. Using least-squares solution instead.\n",
      "  warnings.warn(\n",
      "\n",
      "2024-03-20 12:21:47,462 - py.warnings - WARNING - /home/daniel/git/self-supervised-learning/.venv/lib/python3.10/site-packages/sklearn/linear_model/_ridge.py:243: UserWarning: Singular matrix in solving dual problem. Using least-squares solution instead.\n",
      "  warnings.warn(\n",
      "\n",
      "2024-03-20 12:21:48,322 - py.warnings - WARNING - /home/daniel/git/self-supervised-learning/.venv/lib/python3.10/site-packages/sklearn/linear_model/_ridge.py:243: UserWarning: Singular matrix in solving dual problem. Using least-squares solution instead.\n",
      "  warnings.warn(\n",
      "\n",
      "2024-03-20 12:21:49,163 - py.warnings - WARNING - /home/daniel/git/self-supervised-learning/.venv/lib/python3.10/site-packages/sklearn/linear_model/_ridge.py:243: UserWarning: Singular matrix in solving dual problem. Using least-squares solution instead.\n",
      "  warnings.warn(\n",
      "\n",
      "2024-03-20 12:21:50,109 - py.warnings - WARNING - /home/daniel/git/self-supervised-learning/.venv/lib/python3.10/site-packages/sklearn/linear_model/_ridge.py:241: LinAlgWarning: Ill-conditioned matrix (rcond=1.87934e-08): result may not be accurate.\n",
      "  dual_coef = linalg.solve(K, y, assume_a=\"pos\", overwrite_a=False)\n",
      "\n",
      "2024-03-20 12:21:50,994 - py.warnings - WARNING - /home/daniel/git/self-supervised-learning/.venv/lib/python3.10/site-packages/sklearn/linear_model/_ridge.py:241: LinAlgWarning: Ill-conditioned matrix (rcond=3.81421e-08): result may not be accurate.\n",
      "  dual_coef = linalg.solve(K, y, assume_a=\"pos\", overwrite_a=False)\n",
      "\n"
     ]
    }
   ],
   "source": [
    "from sklearn.linear_model import RidgeCV, Ridge\n",
    "\n",
    "all_flower_counts = np.array(all_flower_counts, dtype=float)\n",
    "all_image_reps_arr = np.concatenate(all_image_reps, axis=0)\n",
    "\n",
    "alphas = [1e-6, 1e-4, 0.01, 0.1, 1.0, 2.0, 4.0, 8.0, 16.0, 32.0, 64.0, 128.0]\n",
    "reg_search = RidgeCV(alphas=alphas, cv=split).fit(all_image_reps_arr, all_flower_counts)\n",
    "# RidgeCV is going to go and refit on the whole dataset once it finds the best alpha, which we don't want.\n",
    "# Fit manually with the best alpha on just the training data.\n",
    "reg = Ridge(reg_search.alpha_).fit(np.concatenate(image_reps, axis=0), np.array(flower_counts))"
   ]
  },
  {
   "cell_type": "code",
   "execution_count": 13,
   "id": "23cf629c-e859-47c7-92ac-593d56789b05",
   "metadata": {
    "tags": []
   },
   "outputs": [
    {
     "data": {
      "text/html": [
       "<pre style=\"white-space:pre;overflow-x:auto;line-height:normal;font-family:Menlo,'DejaVu Sans Mono',consolas,'Courier New',monospace\"></pre>\n"
      ],
      "text/plain": []
     },
     "metadata": {},
     "output_type": "display_data"
    },
    {
     "data": {
      "text/plain": [
       "\n",
       "\u001b[1;35marray\u001b[0m\u001b[1m(\u001b[0m\u001b[1m[\u001b[0m    \u001b[1;36m-1.5774\u001b[0m,      \u001b[1;36m1.0937\u001b[0m,      \u001b[1;36m2.7306\u001b[0m,     \u001b[1;36m-1.0515\u001b[0m,      \u001b[1;36m3.7797\u001b[0m,    \u001b[1;36m0.027911\u001b[0m,      \u001b[1;36m2.5561\u001b[0m,      \u001b[1;36m2.0173\u001b[0m,     \u001b[1;36m0.28612\u001b[0m,      \u001b[1;36m1.9315\u001b[0m,     \u001b[1;36m-1.0073\u001b[0m,      \u001b[1;36m1.5845\u001b[0m,       \u001b[1;36m2.416\u001b[0m,      \u001b[1;36m2.4085\u001b[0m,      \u001b[1;36m3.1128\u001b[0m,    \u001b[1;36m-0.78856\u001b[0m,     \u001b[1;36m0.20985\u001b[0m,      \u001b[1;36m1.1091\u001b[0m,      \u001b[1;36m2.8706\u001b[0m,     \u001b[1;36m0.46938\u001b[0m,     \u001b[1;36m-1.2454\u001b[0m,   \u001b[1;36m-0.037429\u001b[0m,      \u001b[1;36m1.1809\u001b[0m,     \u001b[1;36m-1.1009\u001b[0m,\n",
       "           \u001b[1;36m-1.1328\u001b[0m,     \u001b[1;36m-0.9167\u001b[0m,      \u001b[1;36m1.6602\u001b[0m,    \u001b[1;36m-0.87337\u001b[0m,      \u001b[1;36m2.5874\u001b[0m,   \u001b[1;36m-0.077473\u001b[0m,      \u001b[1;36m1.5467\u001b[0m,    \u001b[1;36m-0.46785\u001b[0m,    \u001b[1;36m-0.75359\u001b[0m,      \u001b[1;36m2.1399\u001b[0m,      \u001b[1;36m3.9959\u001b[0m,    \u001b[1;36m-0.25144\u001b[0m,      \u001b[1;36m2.1956\u001b[0m,      \u001b[1;36m2.4707\u001b[0m,      \u001b[1;36m1.8555\u001b[0m,      \u001b[1;36m3.2427\u001b[0m,      \u001b[1;36m1.7025\u001b[0m,     \u001b[1;36m-1.3343\u001b[0m,      \u001b[1;36m2.8264\u001b[0m,      \u001b[1;36m2.2246\u001b[0m,      \u001b[1;36m2.3457\u001b[0m,      \u001b[1;36m2.0227\u001b[0m,     \u001b[1;36m0.32712\u001b[0m,      \u001b[1;36m1.7839\u001b[0m,\n",
       "             \u001b[1;36m1.926\u001b[0m,     \u001b[1;36m0.93659\u001b[0m,     \u001b[1;36m0.96119\u001b[0m,      \u001b[1;36m1.2069\u001b[0m,      \u001b[1;36m1.6827\u001b[0m,      \u001b[1;36m1.6105\u001b[0m,     \u001b[1;36m0.20735\u001b[0m,     \u001b[1;36m-1.2284\u001b[0m,    \u001b[1;36m-0.61842\u001b[0m,      \u001b[1;36m1.3986\u001b[0m,      \u001b[1;36m1.2216\u001b[0m,    \u001b[1;36m0.018692\u001b[0m,    \u001b[1;36m-0.94131\u001b[0m,      \u001b[1;36m2.3871\u001b[0m,    \u001b[1;36m-0.68806\u001b[0m,     \u001b[1;36m0.53706\u001b[0m,      \u001b[1;36m1.9916\u001b[0m,      \u001b[1;36m2.0782\u001b[0m,      \u001b[1;36m1.9148\u001b[0m,      \u001b[1;36m1.7612\u001b[0m,    \u001b[1;36m0.035034\u001b[0m,   \u001b[1;36m-0.078513\u001b[0m,     \u001b[1;36m0.63644\u001b[0m,     \u001b[1;36m0.73519\u001b[0m,\n",
       "            \u001b[1;36m3.6213\u001b[0m,      \u001b[1;36m2.1655\u001b[0m,      \u001b[1;36m1.1579\u001b[0m,       \u001b[1;36m1.638\u001b[0m,      \u001b[1;36m2.3448\u001b[0m,       \u001b[1;36m1.868\u001b[0m,      \u001b[1;36m3.1201\u001b[0m,     \u001b[1;36m0.40623\u001b[0m,    \u001b[1;36m-0.82843\u001b[0m,    \u001b[1;36m-0.87596\u001b[0m,      \u001b[1;36m1.4807\u001b[0m,       \u001b[1;36m1.041\u001b[0m,      \u001b[1;36m2.6001\u001b[0m,    \u001b[1;36m-0.15308\u001b[0m,       \u001b[1;36m0.732\u001b[0m,     \u001b[1;36m0.96838\u001b[0m,      \u001b[1;36m3.2813\u001b[0m,   \u001b[1;36m-0.047671\u001b[0m,     \u001b[1;36m-0.8467\u001b[0m,    \u001b[1;36m-0.36375\u001b[0m,     \u001b[1;36m-0.4986\u001b[0m,      \u001b[1;36m1.3524\u001b[0m,      \u001b[1;36m3.1036\u001b[0m,      \u001b[1;36m2.2391\u001b[0m,\n",
       "           \u001b[1;36m0.90821\u001b[0m,      \u001b[1;36m1.8441\u001b[0m,      \u001b[1;36m3.2166\u001b[0m,    \u001b[1;36m-0.18302\u001b[0m,     \u001b[1;36m0.15998\u001b[0m,   \u001b[1;36m0.0098979\u001b[0m,       \u001b[1;36m1.851\u001b[0m,      \u001b[1;36m1.2147\u001b[0m,      \u001b[1;36m2.7672\u001b[0m,    \u001b[1;36m-0.18205\u001b[0m,      \u001b[1;36m2.4641\u001b[0m,      \u001b[1;36m3.3407\u001b[0m,      \u001b[1;36m3.4735\u001b[0m,      \u001b[1;36m1.1046\u001b[0m,     \u001b[1;36m-1.0183\u001b[0m,    \u001b[1;36m-0.53858\u001b[0m,      \u001b[1;36m0.6314\u001b[0m,      \u001b[1;36m3.1304\u001b[0m,      \u001b[1;36m1.4427\u001b[0m,    \u001b[1;36m-0.11744\u001b[0m,     \u001b[1;36m0.17147\u001b[0m,      \u001b[1;36m1.2798\u001b[0m,     \u001b[1;36m0.84271\u001b[0m,      \u001b[1;36m2.5103\u001b[0m,\n",
       "         \u001b[1;36m-0.069733\u001b[0m,  \u001b[1;36m-0.0076661\u001b[0m,      \u001b[1;36m1.5641\u001b[0m,       \u001b[1;36m1.761\u001b[0m,      \u001b[1;36m1.5285\u001b[0m,    \u001b[1;36m-0.32107\u001b[0m,    \u001b[1;36m-0.49719\u001b[0m,      \u001b[1;36m3.3003\u001b[0m,      \u001b[1;36m1.9075\u001b[0m,     \u001b[1;36m0.58593\u001b[0m,      \u001b[1;36m1.8196\u001b[0m,      \u001b[1;36m1.0703\u001b[0m,      \u001b[1;36m2.1692\u001b[0m,     \u001b[1;36m0.54821\u001b[0m,     \u001b[1;36m0.91832\u001b[0m,     \u001b[1;36m0.88022\u001b[0m,    \u001b[1;36m-0.72114\u001b[0m,     \u001b[1;36m0.83759\u001b[0m,      \u001b[1;36m3.3415\u001b[0m,     \u001b[1;36m0.26534\u001b[0m,      \u001b[1;36m1.1734\u001b[0m,      \u001b[1;36m1.2071\u001b[0m,      \u001b[1;36m2.4409\u001b[0m,     \u001b[1;36m0.65763\u001b[0m,\n",
       "            \u001b[1;36m1.2584\u001b[0m,    \u001b[1;36m-0.26408\u001b[0m,      \u001b[1;36m0.3337\u001b[0m,      \u001b[1;36m2.8863\u001b[0m,      \u001b[1;36m4.9871\u001b[0m,     \u001b[1;36m0.88515\u001b[0m,     \u001b[1;36m0.26929\u001b[0m,      \u001b[1;36m0.6699\u001b[0m,      \u001b[1;36m1.7393\u001b[0m,      \u001b[1;36m1.9379\u001b[0m,      \u001b[1;36m4.2368\u001b[0m,      \u001b[1;36m1.0171\u001b[0m,       \u001b[1;36m1.676\u001b[0m,       \u001b[1;36m1.224\u001b[0m,      \u001b[1;36m1.1815\u001b[0m,      \u001b[1;36m1.6621\u001b[0m\u001b[1m]\u001b[0m, \u001b[33mdtype\u001b[0m=\u001b[35mfloat32\u001b[0m\u001b[1m)\u001b[0m"
      ]
     },
     "execution_count": 13,
     "metadata": {},
     "output_type": "execute_result"
    }
   ],
   "source": [
    "test_image_reps_arr = np.concatenate(test_image_reps, axis=0)\n",
    "test_preds = reg.predict(test_image_reps_arr)\n",
    "test_preds"
   ]
  },
  {
   "cell_type": "code",
   "execution_count": 14,
   "id": "e0ba65bb-ddf2-45f3-a121-b66e8fbe3224",
   "metadata": {
    "tags": []
   },
   "outputs": [
    {
     "data": {
      "text/html": [
       "<pre style=\"white-space:pre;overflow-x:auto;line-height:normal;font-family:Menlo,'DejaVu Sans Mono',consolas,'Courier New',monospace\"></pre>\n"
      ],
      "text/plain": []
     },
     "metadata": {},
     "output_type": "display_data"
    },
    {
     "data": {
      "text/plain": [
       "\u001b[1;36m1.8864404633641243\u001b[0m"
      ]
     },
     "execution_count": 14,
     "metadata": {},
     "output_type": "execute_result"
    }
   ],
   "source": [
    "errors = test_preds - test_flower_counts\n",
    "np.mean(np.abs(errors))"
   ]
  },
  {
   "cell_type": "code",
   "execution_count": 15,
   "id": "2585b7ef-ec03-4d2e-9883-8aaf31e0cb13",
   "metadata": {
    "tags": []
   },
   "outputs": [
    {
     "data": {
      "text/html": [
       "<pre style=\"white-space:pre;overflow-x:auto;line-height:normal;font-family:Menlo,'DejaVu Sans Mono',consolas,'Courier New',monospace\"></pre>\n"
      ],
      "text/plain": []
     },
     "metadata": {},
     "output_type": "display_data"
    },
    {
     "data": {
      "text/plain": [
       "\u001b[1;36m118.95807716531081\u001b[0m"
      ]
     },
     "execution_count": 15,
     "metadata": {},
     "output_type": "execute_result"
    }
   ],
   "source": [
    "# Calculate MAPE.\n",
    "errors = np.abs(test_preds - test_flower_counts) / ((np.abs(test_preds) + np.abs(test_flower_counts)) / 2) * 100\n",
    "np.mean(errors)"
   ]
  },
  {
   "cell_type": "code",
   "execution_count": 40,
   "id": "2e929358-790f-4dd5-bb00-6e35baf2838b",
   "metadata": {
    "tags": []
   },
   "outputs": [
    {
     "data": {
      "text/html": [
       "<pre style=\"white-space:pre;overflow-x:auto;line-height:normal;font-family:Menlo,'DejaVu Sans Mono',consolas,'Courier New',monospace\"></pre>\n"
      ],
      "text/plain": []
     },
     "metadata": {},
     "output_type": "display_data"
    },
    {
     "data": {
      "image/png": "[encoded data removed]",
      "text/plain": [
       "\u001b[1m<\u001b[0m\u001b[1;95mFigure\u001b[0m\u001b[39m size 64\u001b[0m\u001b[1;36m0x480\u001b[0m\u001b[39m with \u001b[0m\u001b[1;36m1\u001b[0m\u001b[39m Axes\u001b[0m\u001b[1m>\u001b[0m"
      ]
     },
     "metadata": {},
     "output_type": "display_data"
    }
   ],
   "source": [
    "%matplotlib inline\n",
    "import seaborn as sns\n",
    "import matplotlib.pyplot as plt\n",
    "\n",
    "sns.set()\n",
    "\n",
    "sns.regplot(x=test_flower_counts, y=test_preds)\n",
    "plt.show()"
   ]
  },
  {
   "cell_type": "code",
   "execution_count": 41,
   "id": "edbe2b6a-40f5-457c-98b9-80735eef556c",
   "metadata": {},
   "outputs": [
    {
     "data": {
      "text/html": [
       "<pre style=\"white-space:pre;overflow-x:auto;line-height:normal;font-family:Menlo,'DejaVu Sans Mono',consolas,'Courier New',monospace\"></pre>\n"
      ],
      "text/plain": []
     },
     "metadata": {},
     "output_type": "display_data"
    },
    {
     "data": {
      "text/plain": [
       "\u001b[1m<\u001b[0m\u001b[1;95mAxes:\u001b[0m\u001b[39m \u001b[0m\u001b[33mylabel\u001b[0m\u001b[39m=\u001b[0m\u001b[32m'Count'\u001b[0m\u001b[1m>\u001b[0m"
      ]
     },
     "execution_count": 41,
     "metadata": {},
     "output_type": "execute_result"
    },
    {
     "data": {
      "text/html": [
       "<pre style=\"white-space:pre;overflow-x:auto;line-height:normal;font-family:Menlo,'DejaVu Sans Mono',consolas,'Courier New',monospace\"></pre>\n"
      ],
      "text/plain": []
     },
     "metadata": {},
     "output_type": "display_data"
    },
    {
     "data": {
      "image/png": "[encoded data removed]",
      "text/plain": [
       "\u001b[1m<\u001b[0m\u001b[1;95mFigure\u001b[0m\u001b[39m size 64\u001b[0m\u001b[1;36m0x480\u001b[0m\u001b[39m with \u001b[0m\u001b[1;36m1\u001b[0m\u001b[39m Axes\u001b[0m\u001b[1m>\u001b[0m"
      ]
     },
     "metadata": {},
     "output_type": "display_data"
    }
   ],
   "source": [
    "sns.histplot(x=errors)"
   ]
  },
  {
   "cell_type": "code",
   "execution_count": 42,
   "id": "1e37bd3e-ed25-4568-8a73-9f0fd3581293",
   "metadata": {},
   "outputs": [],
   "source": [
    "# Load the plot status data.\n",
    "PLOT_STATUS_DATA_PATH = Path(\"/home/daniel/lab_share/projects/SSL/plot_status_dataset\")\n",
    "train_dir = PLOT_STATUS_DATA_PATH / \"train\"\n",
    "test_dir = PLOT_STATUS_DATA_PATH / \"test\"\n",
    "\n",
    "LABEL_MAP = {\"in_plot\": 0, \"between_plots\": 1, \"headland\": 2}\n",
    "\n",
    "def collect_images_and_labels(data_dir: Path) -> Tuple[List[Path], np.array]:\n",
    "    image_paths = []\n",
    "    labels = []\n",
    "    \n",
    "    for category_dir in data_dir.iterdir():\n",
    "        for image_path in category_dir.iterdir():\n",
    "            image_paths.append(image_path)\n",
    "            labels.append(LABEL_MAP[category_dir.name])\n",
    "            \n",
    "    return image_paths, np.array(labels)\n",
    "\n",
    "train_images, train_labels = collect_images_and_labels(train_dir)\n",
    "test_images, test_labels = collect_images_and_labels(test_dir)"
   ]
  },
  {
   "cell_type": "code",
   "execution_count": 43,
   "id": "679429e9-e336-475e-b244-6e81bd58ab45",
   "metadata": {
    "tags": []
   },
   "outputs": [
    {
     "name": "stderr",
     "output_type": "stream",
     "text": [
      "100%|████████████████████████████████████████████████████████████████████████████████████████████████████████████████████████████████████████████████████████████████████████████████████████████████████████████████████████████████████████████████████████████████████████████████████████████████████████████████████████████████| 50/50 [00:08<00:00,  5.81it/s]\n",
      "100%|████████████████████████████████████████████████████████████████████████████████████████████████████████████████████████████████████████████████████████████████████████████████████████████████████████████████████████████████████████████████████████████████████████████████████████████████████████████████████████████████| 20/20 [00:03<00:00,  5.57it/s]\n"
     ]
    }
   ],
   "source": [
    "# Compute image representations.\n",
    "train_image_reps, _ = extract_image_reps(train_images)\n",
    "test_image_reps, _ = extract_image_reps(test_images)"
   ]
  },
  {
   "cell_type": "code",
   "execution_count": 44,
   "id": "db7c8f1e-4a06-46c9-b37f-da9d630182f8",
   "metadata": {
    "tags": []
   },
   "outputs": [],
   "source": [
    "# Create combined dataset.\n",
    "all_image_reps = np.concatenate(train_image_reps + test_image_reps, axis=0)\n",
    "all_plot_status = np.concatenate([train_labels, test_labels], axis=0)\n",
    "train_indices = [-1] * len(train_image_reps)\n",
    "test_indices = [0] * len(test_image_reps)\n",
    "split = PredefinedSplit(train_indices + test_indices)"
   ]
  },
  {
   "cell_type": "code",
   "execution_count": 45,
   "id": "5c321cf5-df88-4159-a718-6091fa43f727",
   "metadata": {
    "tags": []
   },
   "outputs": [],
   "source": [
    "# Fit the model.\n",
    "from sklearn.linear_model import LogisticRegressionCV, LogisticRegression\n",
    "\n",
    "alphas = [1e-4, 0.01, 0.1, 1.0, 2.0, 8.0, 32.0, 64.0, 128.0]\n",
    "reg_search = LogisticRegressionCV(Cs=alphas, cv=split).fit(all_image_reps, all_plot_status)\n",
    "# LogisticRegressionCV is going to go and refit on the whole dataset once it finds the best alpha, which we don't want.\n",
    "# Fit manually with the best alpha on just the training data.\n",
    "reg = LogisticRegression(C=np.mean(reg_search.C_)).fit(np.concatenate(train_image_reps, axis=0), train_labels)"
   ]
  },
  {
   "cell_type": "code",
   "execution_count": 46,
   "id": "1c41fb6e-8e8f-4548-9d27-2e45397080b9",
   "metadata": {
    "tags": []
   },
   "outputs": [
    {
     "data": {
      "text/html": [
       "<pre style=\"white-space:pre;overflow-x:auto;line-height:normal;font-family:Menlo,'DejaVu Sans Mono',consolas,'Courier New',monospace\"></pre>\n"
      ],
      "text/plain": []
     },
     "metadata": {},
     "output_type": "display_data"
    },
    {
     "data": {
      "text/plain": [
       "\u001b[1;35marray\u001b[0m\u001b[1m(\u001b[0m\u001b[1m[\u001b[0m\u001b[1;36m1\u001b[0m, \u001b[1;36m2\u001b[0m, \u001b[1;36m2\u001b[0m, \u001b[1;36m2\u001b[0m, \u001b[1;36m2\u001b[0m, \u001b[1;36m1\u001b[0m, \u001b[1;36m1\u001b[0m, \u001b[1;36m1\u001b[0m, \u001b[1;36m1\u001b[0m, \u001b[1;36m1\u001b[0m, \u001b[1;36m0\u001b[0m, \u001b[1;36m0\u001b[0m, \u001b[1;36m0\u001b[0m, \u001b[1;36m1\u001b[0m, \u001b[1;36m0\u001b[0m, \u001b[1;36m0\u001b[0m, \u001b[1;36m0\u001b[0m, \u001b[1;36m0\u001b[0m, \u001b[1;36m0\u001b[0m, \u001b[1;36m0\u001b[0m\u001b[1m]\u001b[0m\u001b[1m)\u001b[0m"
      ]
     },
     "execution_count": 46,
     "metadata": {},
     "output_type": "execute_result"
    }
   ],
   "source": [
    "# Compute predictions on test set.\n",
    "test_image_reps_arr = np.concatenate(test_image_reps, axis=0)\n",
    "test_preds = reg.predict(test_image_reps_arr)\n",
    "test_preds"
   ]
  },
  {
   "cell_type": "code",
   "execution_count": 47,
   "id": "a6d6d6e0-f1cb-4056-b6ef-c0cafc96fedd",
   "metadata": {
    "tags": []
   },
   "outputs": [
    {
     "data": {
      "text/html": [
       "<pre style=\"white-space:pre;overflow-x:auto;line-height:normal;font-family:Menlo,'DejaVu Sans Mono',consolas,'Courier New',monospace\"></pre>\n"
      ],
      "text/plain": []
     },
     "metadata": {},
     "output_type": "display_data"
    },
    {
     "data": {
      "text/plain": [
       "\u001b[1;36m0.85\u001b[0m"
      ]
     },
     "execution_count": 47,
     "metadata": {},
     "output_type": "execute_result"
    }
   ],
   "source": [
    "# Calculate accuracy.\n",
    "test_accuracy = np.sum(test_preds == test_labels) / len(test_labels)\n",
    "test_accuracy"
   ]
  },
  {
   "cell_type": "code",
   "execution_count": null,
   "id": "fd22c020-80b2-4e9b-ad24-d6aea79a7ed6",
   "metadata": {},
   "outputs": [],
   "source": []
  }
 ],
 "metadata": {
  "kernelspec": {
   "display_name": "Kedro (self_supervised)",
   "language": "python",
   "name": "kedro_self_supervised"
  },
  "language_info": {
   "codemirror_mode": {
    "name": "ipython",
    "version": 3
   },
   "file_extension": ".py",
   "mimetype": "text/x-python",
   "name": "python",
   "nbconvert_exporter": "python",
   "pygments_lexer": "ipython3",
   "version": "3.10.10"
  }
 },
 "nbformat": 4,
 "nbformat_minor": 5
}
