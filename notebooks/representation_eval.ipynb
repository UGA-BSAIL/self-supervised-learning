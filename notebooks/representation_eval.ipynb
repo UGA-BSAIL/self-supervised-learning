{
 "cells": [
  {
   "cell_type": "code",
   "execution_count": 7,
   "id": "acfda911-ae74-4318-a246-949fe66cdd10",
   "metadata": {
    "tags": []
   },
   "outputs": [
    {
     "name": "stdout",
     "output_type": "stream",
     "text": [
      "2023-03-09 10:08:15,162 - kedro.ipython - INFO - Resolved project path as: /home/daniel/git/self-supervised-learning.\n",
      "To set a different path, run '%reload_kedro <project_root>'\n",
      "2023-03-09 10:08:15,163 - py.warnings - WARNING - /home/daniel/git/self-supervised-learning/.venv/lib/python3.10/site-packages/kedro/framework/startup.py:98: DeprecationWarning: project_version in pyproject.toml is deprecated, use kedro_init_version instead\n",
      "  warnings.warn(\n",
      "\n",
      "2023-03-09 10:08:15,273 - kedro.ipython - INFO - Kedro project Self-Supervised Learning\n",
      "2023-03-09 10:08:15,274 - kedro.ipython - INFO - Defined global variable 'context', 'session', 'catalog' and 'pipelines'\n",
      "2023-03-09 10:08:15,279 - kedro.io.data_catalog - INFO - Loading data from 'yolov5_l_description' (YAMLDataSet)...\n",
      "2023-03-09 10:08:15,284 - kedro.io.data_catalog - INFO - Loading data from 'trained_model' (PytorchModelDataSet)...\n"
     ]
    },
    {
     "name": "stderr",
     "output_type": "stream",
     "text": [
      "2023-03-09 10:08:15.284 | WARNING  | self_supervised.extras.datasets.pytorch_model_data_set:_load:42 - CUDA not available, automatically mapping variables to the CPU.\n",
      "\n",
      "                 from  n    params  module                                  arguments                     \n",
      "  0                -1  1      7040  yolov5.models.common.Conv               [3, 64, 6, 2, 2]              \n",
      "  1                -1  1     73984  yolov5.models.common.Conv               [64, 128, 3, 2]               \n",
      "  2                -1  3    156928  yolov5.models.common.C3                 [128, 128, 3]                 \n",
      "  3                -1  1    295424  yolov5.models.common.Conv               [128, 256, 3, 2]              \n",
      "  4                -1  6   1118208  yolov5.models.common.C3                 [256, 256, 6]                 \n",
      "  5                -1  1   1180672  yolov5.models.common.Conv               [256, 512, 3, 2]              \n",
      "  6                -1  9   6433792  yolov5.models.common.C3                 [512, 512, 9]                 \n",
      "  7                -1  1   4720640  yolov5.models.common.Conv               [512, 1024, 3, 2]             \n",
      "  8                -1  3   9971712  yolov5.models.common.C3                 [1024, 1024, 3]               \n",
      "  9                -1  1   2624512  yolov5.models.common.SPPF               [1024, 1024, 5]               \n",
      " 10                -1  1    525312  yolov5.models.common.Conv               [1024, 512, 1, 1]             \n",
      " 11                -1  1         0  torch.nn.modules.upsampling.Upsample    [None, 2, 'nearest']          \n",
      " 12           [-1, 6]  1         0  yolov5.models.common.Concat             [1]                           \n",
      " 13                -1  3   2757632  yolov5.models.common.C3                 [1024, 512, 3, False]         \n",
      " 14                -1  1    131584  yolov5.models.common.Conv               [512, 256, 1, 1]              \n",
      " 15                -1  1         0  torch.nn.modules.upsampling.Upsample    [None, 2, 'nearest']          \n",
      " 16           [-1, 4]  1         0  yolov5.models.common.Concat             [1]                           \n",
      " 17                -1  3    690688  yolov5.models.common.C3                 [512, 256, 3, False]          \n",
      " 18                -1  1    590336  yolov5.models.common.Conv               [256, 256, 3, 2]              \n",
      " 19          [-1, 14]  1         0  yolov5.models.common.Concat             [1]                           \n",
      " 20                -1  3   2495488  yolov5.models.common.C3                 [512, 512, 3, False]          \n",
      " 21                -1  1   2360320  yolov5.models.common.Conv               [512, 512, 3, 2]              \n",
      " 22          [-1, 10]  1         0  yolov5.models.common.Concat             [1]                           \n",
      " 23                -1  3   9971712  yolov5.models.common.C3                 [1024, 1024, 3, False]        \n",
      "Model summary: 363 layers, 46105984 parameters, 46105984 gradients, 108.1 GFLOPs\n",
      "\n"
     ]
    }
   ],
   "source": [
    "from self_supervised.pipelines.representation_model import RepresentationModel, YoloEncoder\n",
    "from yolov5.models.yolo import DetectionModel\n",
    "import torch\n",
    "\n",
    "%reload_kedro\n",
    "model_description = catalog.load(\"yolov5_l_description\")\n",
    "trained_model = catalog.load(\"trained_model\")\n",
    "\n",
    "# Random model\n",
    "#encoder = YoloEncoder(model_description=model_description)\n",
    "#trained_model = RepresentationModel(encoder=encoder)\n",
    "\n",
    "# CoCO model\n",
    "model_description[\"head\"] = model_description[\"head\"][:-1]\n",
    "trained_model = DetectionModel(model_description)\n",
    "weights_model = torch.load(\"../yolov5l.pt\", map_location=\"cpu\")\n",
    "state_dict = weights_model[\"model\"].float().state_dict()\n",
    "trained_model.load_state_dict(state_dict, strict=False)\n",
    "\n",
    "trained_model = trained_model.eval()"
   ]
  },
  {
   "cell_type": "code",
   "execution_count": 9,
   "id": "c1878dbc-46f2-463f-b313-6dc1aed75b69",
   "metadata": {
    "tags": []
   },
   "outputs": [],
   "source": [
    "from pathlib import Path\n",
    "\n",
    "dataset_path = Path(\"/home/daniel/lab_share/projects/CottonFlower2021/flower_dataset\")\n",
    "image_dir = dataset_path / \"flower01\" / \"images\""
   ]
  },
  {
   "cell_type": "code",
   "execution_count": 24,
   "id": "5a67e6c7-88c4-40b3-a33d-1a67a76f0d5f",
   "metadata": {
    "tags": []
   },
   "outputs": [
    {
     "name": "stderr",
     "output_type": "stream",
     "text": [
      "100%|██████████████████████████████████████████████████████████████████████████████████████████████████████████████████████████████████████████████████████████████████████████████████████████████████████████████████████████████████████████████████████████████████████████████████████████████████████████████████████████████| 458/458 [01:06<00:00,  6.90it/s]\n"
     ]
    }
   ],
   "source": [
    "from torchvision.io import read_image\n",
    "from torchvision.transforms.functional import resize\n",
    "from tqdm import tqdm\n",
    "import torch\n",
    "\n",
    "image_reps = []\n",
    "\n",
    "image_list = sorted(list(image_dir.iterdir()))\n",
    "for image_path in tqdm(image_list):\n",
    "    image = read_image(image_path.as_posix())\n",
    "    image.requires_grad = False\n",
    "    image = resize(image, (512, 512))\n",
    "    image = image.to(torch.float) / 255\n",
    "    image_ex = image[None, :, :, :]\n",
    "    \n",
    "    image_reps.append(trained_model(image_ex)[0].detach().reshape((1, -1)).numpy())"
   ]
  },
  {
   "cell_type": "code",
   "execution_count": 25,
   "id": "43808fe8-1319-464a-8977-4e7f42db135f",
   "metadata": {
    "tags": []
   },
   "outputs": [
    {
     "data": {
      "text/html": [
       "<div>\n",
       "<style scoped>\n",
       "    .dataframe tbody tr th:only-of-type {\n",
       "        vertical-align: middle;\n",
       "    }\n",
       "\n",
       "    .dataframe tbody tr th {\n",
       "        vertical-align: top;\n",
       "    }\n",
       "\n",
       "    .dataframe thead th {\n",
       "        text-align: right;\n",
       "    }\n",
       "</style>\n",
       "<table border=\"1\" class=\"dataframe\">\n",
       "  <thead>\n",
       "    <tr style=\"text-align: right;\">\n",
       "      <th></th>\n",
       "      <th>class</th>\n",
       "      <th>x</th>\n",
       "      <th>y</th>\n",
       "      <th>width</th>\n",
       "      <th>height</th>\n",
       "      <th>frame</th>\n",
       "    </tr>\n",
       "  </thead>\n",
       "  <tbody>\n",
       "    <tr>\n",
       "      <th>0</th>\n",
       "      <td>0</td>\n",
       "      <td>0.635938</td>\n",
       "      <td>0.238889</td>\n",
       "      <td>0.020833</td>\n",
       "      <td>0.037037</td>\n",
       "      <td>000001.txt</td>\n",
       "    </tr>\n",
       "    <tr>\n",
       "      <th>1</th>\n",
       "      <td>0</td>\n",
       "      <td>0.379427</td>\n",
       "      <td>0.065278</td>\n",
       "      <td>0.015104</td>\n",
       "      <td>0.034259</td>\n",
       "      <td>000001.txt</td>\n",
       "    </tr>\n",
       "    <tr>\n",
       "      <th>2</th>\n",
       "      <td>0</td>\n",
       "      <td>0.634375</td>\n",
       "      <td>0.245370</td>\n",
       "      <td>0.020833</td>\n",
       "      <td>0.037037</td>\n",
       "      <td>000002.txt</td>\n",
       "    </tr>\n",
       "    <tr>\n",
       "      <th>3</th>\n",
       "      <td>0</td>\n",
       "      <td>0.379948</td>\n",
       "      <td>0.068981</td>\n",
       "      <td>0.015104</td>\n",
       "      <td>0.034259</td>\n",
       "      <td>000002.txt</td>\n",
       "    </tr>\n",
       "    <tr>\n",
       "      <th>4</th>\n",
       "      <td>0</td>\n",
       "      <td>0.379948</td>\n",
       "      <td>0.069907</td>\n",
       "      <td>0.015104</td>\n",
       "      <td>0.034259</td>\n",
       "      <td>000003.txt</td>\n",
       "    </tr>\n",
       "    <tr>\n",
       "      <th>...</th>\n",
       "      <td>...</td>\n",
       "      <td>...</td>\n",
       "      <td>...</td>\n",
       "      <td>...</td>\n",
       "      <td>...</td>\n",
       "      <td>...</td>\n",
       "    </tr>\n",
       "    <tr>\n",
       "      <th>1987</th>\n",
       "      <td>0</td>\n",
       "      <td>0.495833</td>\n",
       "      <td>0.971759</td>\n",
       "      <td>0.030208</td>\n",
       "      <td>0.052778</td>\n",
       "      <td>000383.txt</td>\n",
       "    </tr>\n",
       "    <tr>\n",
       "      <th>1988</th>\n",
       "      <td>0</td>\n",
       "      <td>0.496875</td>\n",
       "      <td>0.976852</td>\n",
       "      <td>0.030208</td>\n",
       "      <td>0.046296</td>\n",
       "      <td>000384.txt</td>\n",
       "    </tr>\n",
       "    <tr>\n",
       "      <th>1989</th>\n",
       "      <td>0</td>\n",
       "      <td>0.497656</td>\n",
       "      <td>0.980093</td>\n",
       "      <td>0.028646</td>\n",
       "      <td>0.037963</td>\n",
       "      <td>000385.txt</td>\n",
       "    </tr>\n",
       "    <tr>\n",
       "      <th>1990</th>\n",
       "      <td>0</td>\n",
       "      <td>0.497135</td>\n",
       "      <td>0.986111</td>\n",
       "      <td>0.028646</td>\n",
       "      <td>0.027778</td>\n",
       "      <td>000386.txt</td>\n",
       "    </tr>\n",
       "    <tr>\n",
       "      <th>1991</th>\n",
       "      <td>0</td>\n",
       "      <td>0.497656</td>\n",
       "      <td>0.991667</td>\n",
       "      <td>0.028646</td>\n",
       "      <td>0.016667</td>\n",
       "      <td>000387.txt</td>\n",
       "    </tr>\n",
       "  </tbody>\n",
       "</table>\n",
       "<p>1992 rows × 6 columns</p>\n",
       "</div>"
      ]
     },
     "execution_count": 25,
     "metadata": {},
     "output_type": "execute_result"
    }
   ],
   "source": [
    "# Load flower counts.\n",
    "import pandas as pd\n",
    "\n",
    "labels_dir = dataset_path / \"flower01\" / \"labels\"\n",
    "all_labels = []\n",
    "labels_list = sorted(list(labels_dir.iterdir()))\n",
    "for labels_path in labels_list:\n",
    "    frame_labels = pd.read_csv(labels_path, sep=\" \", names=[\"class\", \"x\", \"y\", \"width\", \"height\"])\n",
    "    frame_labels[\"frame\"] = labels_path.name\n",
    "    all_labels.append(frame_labels)\n",
    "    \n",
    "all_labels = pd.concat(all_labels, ignore_index=True)\n",
    "all_labels"
   ]
  },
  {
   "cell_type": "code",
   "execution_count": 26,
   "id": "96a261b8-3343-4c52-a567-4a94fcbc3964",
   "metadata": {
    "tags": []
   },
   "outputs": [],
   "source": [
    "import numpy as np\n",
    "\n",
    "# Create flower counts labels.\n",
    "flower_counts = []\n",
    "for image_path in labels_list:\n",
    "    flower_counts.append(np.count_nonzero(all_labels[\"frame\"] == image_path.name))\n",
    "    \n",
    "# Any missing counts are zeros.\n",
    "for _ in range(len(flower_counts), len(image_reps)):\n",
    "    flower_counts.append(0)"
   ]
  },
  {
   "cell_type": "code",
   "execution_count": 27,
   "id": "8cd84dd2-fc0b-482e-b69a-7bed0e95f7e5",
   "metadata": {
    "tags": []
   },
   "outputs": [
    {
     "name": "stderr",
     "output_type": "stream",
     "text": [
      "100%|██████████████████████████████████████████████████████████████████████████████████████████████████████████████████████████████████████████████████████████████████████████████████████████████████████████████████████████████████████████████████████████████████████████████████████████████████████████████████████████████| 333/333 [00:48<00:00,  6.82it/s]\n"
     ]
    }
   ],
   "source": [
    "test_image_dir = dataset_path / \"flower02\" / \"images\"\n",
    "\n",
    "test_image_reps = []\n",
    "\n",
    "image_list = sorted(list(test_image_dir.iterdir()))\n",
    "for image_path in tqdm(image_list):\n",
    "    image = read_image(image_path.as_posix())\n",
    "    image.requires_grad = False\n",
    "    image = resize(image, (512, 512))\n",
    "    image = image.to(torch.float) / 255\n",
    "    image_ex = image[None, :, :, :]\n",
    "    \n",
    "    test_image_reps.append(trained_model(image_ex)[0].detach().reshape((1, -1)).numpy())"
   ]
  },
  {
   "cell_type": "code",
   "execution_count": 28,
   "id": "1d4b4cc4-c178-4e22-be2e-d21b0bb5d899",
   "metadata": {
    "tags": []
   },
   "outputs": [
    {
     "data": {
      "text/html": [
       "<div>\n",
       "<style scoped>\n",
       "    .dataframe tbody tr th:only-of-type {\n",
       "        vertical-align: middle;\n",
       "    }\n",
       "\n",
       "    .dataframe tbody tr th {\n",
       "        vertical-align: top;\n",
       "    }\n",
       "\n",
       "    .dataframe thead th {\n",
       "        text-align: right;\n",
       "    }\n",
       "</style>\n",
       "<table border=\"1\" class=\"dataframe\">\n",
       "  <thead>\n",
       "    <tr style=\"text-align: right;\">\n",
       "      <th></th>\n",
       "      <th>class</th>\n",
       "      <th>x</th>\n",
       "      <th>y</th>\n",
       "      <th>width</th>\n",
       "      <th>height</th>\n",
       "      <th>frame</th>\n",
       "    </tr>\n",
       "  </thead>\n",
       "  <tbody>\n",
       "    <tr>\n",
       "      <th>0</th>\n",
       "      <td>0</td>\n",
       "      <td>0.407813</td>\n",
       "      <td>0.032870</td>\n",
       "      <td>0.014583</td>\n",
       "      <td>0.023148</td>\n",
       "      <td>000001.txt</td>\n",
       "    </tr>\n",
       "    <tr>\n",
       "      <th>1</th>\n",
       "      <td>0</td>\n",
       "      <td>0.408854</td>\n",
       "      <td>0.042130</td>\n",
       "      <td>0.014583</td>\n",
       "      <td>0.023148</td>\n",
       "      <td>000002.txt</td>\n",
       "    </tr>\n",
       "    <tr>\n",
       "      <th>2</th>\n",
       "      <td>0</td>\n",
       "      <td>0.408854</td>\n",
       "      <td>0.042130</td>\n",
       "      <td>0.014583</td>\n",
       "      <td>0.023148</td>\n",
       "      <td>000003.txt</td>\n",
       "    </tr>\n",
       "    <tr>\n",
       "      <th>3</th>\n",
       "      <td>0</td>\n",
       "      <td>0.408854</td>\n",
       "      <td>0.042130</td>\n",
       "      <td>0.014583</td>\n",
       "      <td>0.023148</td>\n",
       "      <td>000004.txt</td>\n",
       "    </tr>\n",
       "    <tr>\n",
       "      <th>4</th>\n",
       "      <td>0</td>\n",
       "      <td>0.408854</td>\n",
       "      <td>0.042130</td>\n",
       "      <td>0.014583</td>\n",
       "      <td>0.023148</td>\n",
       "      <td>000005.txt</td>\n",
       "    </tr>\n",
       "    <tr>\n",
       "      <th>...</th>\n",
       "      <td>...</td>\n",
       "      <td>...</td>\n",
       "      <td>...</td>\n",
       "      <td>...</td>\n",
       "      <td>...</td>\n",
       "      <td>...</td>\n",
       "    </tr>\n",
       "    <tr>\n",
       "      <th>1583</th>\n",
       "      <td>0</td>\n",
       "      <td>0.441406</td>\n",
       "      <td>0.814352</td>\n",
       "      <td>0.020313</td>\n",
       "      <td>0.036111</td>\n",
       "      <td>000287.txt</td>\n",
       "    </tr>\n",
       "    <tr>\n",
       "      <th>1584</th>\n",
       "      <td>0</td>\n",
       "      <td>0.437240</td>\n",
       "      <td>0.838426</td>\n",
       "      <td>0.020313</td>\n",
       "      <td>0.036111</td>\n",
       "      <td>000288.txt</td>\n",
       "    </tr>\n",
       "    <tr>\n",
       "      <th>1585</th>\n",
       "      <td>0</td>\n",
       "      <td>0.433073</td>\n",
       "      <td>0.858796</td>\n",
       "      <td>0.020313</td>\n",
       "      <td>0.036111</td>\n",
       "      <td>000289.txt</td>\n",
       "    </tr>\n",
       "    <tr>\n",
       "      <th>1586</th>\n",
       "      <td>0</td>\n",
       "      <td>0.434635</td>\n",
       "      <td>0.871759</td>\n",
       "      <td>0.011979</td>\n",
       "      <td>0.028704</td>\n",
       "      <td>000290.txt</td>\n",
       "    </tr>\n",
       "    <tr>\n",
       "      <th>1587</th>\n",
       "      <td>0</td>\n",
       "      <td>0.439844</td>\n",
       "      <td>0.879167</td>\n",
       "      <td>0.011979</td>\n",
       "      <td>0.028704</td>\n",
       "      <td>000291.txt</td>\n",
       "    </tr>\n",
       "  </tbody>\n",
       "</table>\n",
       "<p>1588 rows × 6 columns</p>\n",
       "</div>"
      ]
     },
     "execution_count": 28,
     "metadata": {},
     "output_type": "execute_result"
    }
   ],
   "source": [
    "test_labels_dir = dataset_path / \"flower02\" / \"labels\"\n",
    "all_labels_test = []\n",
    "labels_list = sorted(list(test_labels_dir.iterdir()))\n",
    "for labels_path in labels_list:\n",
    "    frame_labels = pd.read_csv(labels_path, sep=\" \", names=[\"class\", \"x\", \"y\", \"width\", \"height\"])\n",
    "    frame_labels[\"frame\"] = labels_path.name\n",
    "    all_labels_test.append(frame_labels)\n",
    "    \n",
    "all_labels_test = pd.concat(all_labels_test, ignore_index=True)\n",
    "all_labels_test"
   ]
  },
  {
   "cell_type": "code",
   "execution_count": 29,
   "id": "0543d1a7-4b18-4d0f-8536-3529a2cda92a",
   "metadata": {
    "tags": []
   },
   "outputs": [],
   "source": [
    "# Create flower counts.\n",
    "test_flower_counts = []\n",
    "for image_path in labels_list:\n",
    "    test_flower_counts.append(np.count_nonzero(all_labels_test[\"frame\"] == image_path.name))\n",
    "    \n",
    "# Any missing counts are zeros.\n",
    "for _ in range(len(test_flower_counts), len(test_image_reps)):\n",
    "    test_flower_counts.append(0)"
   ]
  },
  {
   "cell_type": "code",
   "execution_count": 30,
   "id": "1741b680-ed08-476e-9a0f-5cb5f0118805",
   "metadata": {
    "tags": []
   },
   "outputs": [],
   "source": [
    "# Create combined dataset.\n",
    "all_image_reps = image_reps + test_image_reps\n",
    "all_flower_counts = flower_counts + test_flower_counts\n",
    "train_indices = np.arange(len(image_reps))\n",
    "test_indices = np.arange(len(image_reps), len(all_image_reps))"
   ]
  },
  {
   "cell_type": "code",
   "execution_count": 31,
   "id": "8ca94b64-b75c-41e7-a3f3-459bd29de228",
   "metadata": {
    "tags": []
   },
   "outputs": [
    {
     "name": "stdout",
     "output_type": "stream",
     "text": [
      "2023-03-09 10:18:04,084 - py.warnings - WARNING - /home/daniel/git/self-supervised-learning/.venv/lib/python3.10/site-packages/sklearn/linear_model/_ridge.py:255: UserWarning: Singular matrix in solving dual problem. Using least-squares solution instead.\n",
      "  warnings.warn(\n",
      "\n",
      "2023-03-09 10:18:07,355 - py.warnings - WARNING - /home/daniel/git/self-supervised-learning/.venv/lib/python3.10/site-packages/sklearn/linear_model/_ridge.py:255: UserWarning: Singular matrix in solving dual problem. Using least-squares solution instead.\n",
      "  warnings.warn(\n",
      "\n",
      "2023-03-09 10:18:08,228 - py.warnings - WARNING - /home/daniel/git/self-supervised-learning/.venv/lib/python3.10/site-packages/sklearn/linear_model/_ridge.py:253: LinAlgWarning: Ill-conditioned matrix (rcond=2.07901e-09): result may not be accurate.\n",
      "  dual_coef = linalg.solve(K, y, assume_a=\"pos\", overwrite_a=False)\n",
      "\n",
      "2023-03-09 10:18:08,740 - py.warnings - WARNING - /home/daniel/git/self-supervised-learning/.venv/lib/python3.10/site-packages/sklearn/linear_model/_ridge.py:253: LinAlgWarning: Ill-conditioned matrix (rcond=2.07234e-08): result may not be accurate.\n",
      "  dual_coef = linalg.solve(K, y, assume_a=\"pos\", overwrite_a=False)\n",
      "\n"
     ]
    }
   ],
   "source": [
    "from sklearn.linear_model import RidgeCV\n",
    "\n",
    "all_flower_counts = np.array(all_flower_counts, dtype=float)\n",
    "all_image_reps_arr = np.concatenate(all_image_reps, axis=0)\n",
    "\n",
    "alphas = [1e-6, 1e-4, 0.01, 0.1, 1.0, 2.0, 4.0, 8.0, 16.0, 32.0, 64.0, 128.0]\n",
    "reg = RidgeCV(alphas=alphas, cv=((train_indices, test_indices),)).fit(all_image_reps_arr, all_flower_counts)"
   ]
  },
  {
   "cell_type": "code",
   "execution_count": 32,
   "id": "23cf629c-e859-47c7-92ac-593d56789b05",
   "metadata": {
    "tags": []
   },
   "outputs": [
    {
     "data": {
      "text/html": [
       "<pre style=\"white-space:pre;overflow-x:auto;line-height:normal;font-family:Menlo,'DejaVu Sans Mono',consolas,'Courier New',monospace\">\n",
       "<span style=\"color: #800080; text-decoration-color: #800080; font-weight: bold\">array</span><span style=\"font-weight: bold\">([</span>     <span style=\"color: #008080; text-decoration-color: #008080; font-weight: bold\">1.0128</span>,      <span style=\"color: #008080; text-decoration-color: #008080; font-weight: bold\">0.9918</span>,      <span style=\"color: #008080; text-decoration-color: #008080; font-weight: bold\">1.0032</span>,      <span style=\"color: #008080; text-decoration-color: #008080; font-weight: bold\">1.0098</span>,     <span style=\"color: #008080; text-decoration-color: #008080; font-weight: bold\">0.99642</span>,     <span style=\"color: #008080; text-decoration-color: #008080; font-weight: bold\">0.99263</span>,      <span style=\"color: #008080; text-decoration-color: #008080; font-weight: bold\">1.0116</span>,      <span style=\"color: #008080; text-decoration-color: #008080; font-weight: bold\">1.0042</span>,     <span style=\"color: #008080; text-decoration-color: #008080; font-weight: bold\">0.98511</span>,        <span style=\"color: #008080; text-decoration-color: #008080; font-weight: bold\">1.01</span>,     <span style=\"color: #008080; text-decoration-color: #008080; font-weight: bold\">0.99239</span>,      <span style=\"color: #008080; text-decoration-color: #008080; font-weight: bold\">1.0013</span>,     <span style=\"color: #008080; text-decoration-color: #008080; font-weight: bold\">0.99926</span>,     <span style=\"color: #008080; text-decoration-color: #008080; font-weight: bold\">0.99437</span>,      <span style=\"color: #008080; text-decoration-color: #008080; font-weight: bold\">1.0099</span>,        <span style=\"color: #008080; text-decoration-color: #008080; font-weight: bold\">1.01</span>,      <span style=\"color: #008080; text-decoration-color: #008080; font-weight: bold\">1.0158</span>,      <span style=\"color: #008080; text-decoration-color: #008080; font-weight: bold\">1.0016</span>,      <span style=\"color: #008080; text-decoration-color: #008080; font-weight: bold\">1.0159</span>,     <span style=\"color: #008080; text-decoration-color: #008080; font-weight: bold\">0.98782</span>,      <span style=\"color: #008080; text-decoration-color: #008080; font-weight: bold\">1.0047</span>,      <span style=\"color: #008080; text-decoration-color: #008080; font-weight: bold\">1.0259</span>,      <span style=\"color: #008080; text-decoration-color: #008080; font-weight: bold\">2.0111</span>,      <span style=\"color: #008080; text-decoration-color: #008080; font-weight: bold\">2.9686</span>,\n",
       "            <span style=\"color: #008080; text-decoration-color: #008080; font-weight: bold\">2.9761</span>,        <span style=\"color: #008080; text-decoration-color: #008080; font-weight: bold\">2.98</span>,      <span style=\"color: #008080; text-decoration-color: #008080; font-weight: bold\">3.0643</span>,      <span style=\"color: #008080; text-decoration-color: #008080; font-weight: bold\">3.9655</span>,      <span style=\"color: #008080; text-decoration-color: #008080; font-weight: bold\">3.9838</span>,      <span style=\"color: #008080; text-decoration-color: #008080; font-weight: bold\">4.0036</span>,      <span style=\"color: #008080; text-decoration-color: #008080; font-weight: bold\">3.9918</span>,      <span style=\"color: #008080; text-decoration-color: #008080; font-weight: bold\">3.9902</span>,      <span style=\"color: #008080; text-decoration-color: #008080; font-weight: bold\">4.0096</span>,      <span style=\"color: #008080; text-decoration-color: #008080; font-weight: bold\">3.9935</span>,       <span style=\"color: #008080; text-decoration-color: #008080; font-weight: bold\">3.987</span>,      <span style=\"color: #008080; text-decoration-color: #008080; font-weight: bold\">3.9937</span>,      <span style=\"color: #008080; text-decoration-color: #008080; font-weight: bold\">3.0303</span>,      <span style=\"color: #008080; text-decoration-color: #008080; font-weight: bold\">2.9997</span>,      <span style=\"color: #008080; text-decoration-color: #008080; font-weight: bold\">3.0101</span>,      <span style=\"color: #008080; text-decoration-color: #008080; font-weight: bold\">2.9977</span>,      <span style=\"color: #008080; text-decoration-color: #008080; font-weight: bold\">3.0163</span>,      <span style=\"color: #008080; text-decoration-color: #008080; font-weight: bold\">2.9997</span>,      <span style=\"color: #008080; text-decoration-color: #008080; font-weight: bold\">3.0019</span>,      <span style=\"color: #008080; text-decoration-color: #008080; font-weight: bold\">3.0195</span>,      <span style=\"color: #008080; text-decoration-color: #008080; font-weight: bold\">3.9937</span>,      <span style=\"color: #008080; text-decoration-color: #008080; font-weight: bold\">4.9914</span>,      <span style=\"color: #008080; text-decoration-color: #008080; font-weight: bold\">5.9664</span>,      <span style=\"color: #008080; text-decoration-color: #008080; font-weight: bold\">5.9853</span>,\n",
       "            <span style=\"color: #008080; text-decoration-color: #008080; font-weight: bold\">5.9637</span>,      <span style=\"color: #008080; text-decoration-color: #008080; font-weight: bold\">5.0278</span>,      <span style=\"color: #008080; text-decoration-color: #008080; font-weight: bold\">5.0143</span>,       <span style=\"color: #008080; text-decoration-color: #008080; font-weight: bold\">5.022</span>,      <span style=\"color: #008080; text-decoration-color: #008080; font-weight: bold\">5.0022</span>,      <span style=\"color: #008080; text-decoration-color: #008080; font-weight: bold\">5.9708</span>,      <span style=\"color: #008080; text-decoration-color: #008080; font-weight: bold\">5.9734</span>,      <span style=\"color: #008080; text-decoration-color: #008080; font-weight: bold\">5.0285</span>,      <span style=\"color: #008080; text-decoration-color: #008080; font-weight: bold\">4.9933</span>,      <span style=\"color: #008080; text-decoration-color: #008080; font-weight: bold\">5.0013</span>,      <span style=\"color: #008080; text-decoration-color: #008080; font-weight: bold\">5.0094</span>,      <span style=\"color: #008080; text-decoration-color: #008080; font-weight: bold\">4.9892</span>,      <span style=\"color: #008080; text-decoration-color: #008080; font-weight: bold\">5.0121</span>,      <span style=\"color: #008080; text-decoration-color: #008080; font-weight: bold\">5.0026</span>,       <span style=\"color: #008080; text-decoration-color: #008080; font-weight: bold\">4.993</span>,      <span style=\"color: #008080; text-decoration-color: #008080; font-weight: bold\">4.9783</span>,      <span style=\"color: #008080; text-decoration-color: #008080; font-weight: bold\">4.0464</span>,      <span style=\"color: #008080; text-decoration-color: #008080; font-weight: bold\">4.0622</span>,      <span style=\"color: #008080; text-decoration-color: #008080; font-weight: bold\">5.9405</span>,      <span style=\"color: #008080; text-decoration-color: #008080; font-weight: bold\">5.9922</span>,      <span style=\"color: #008080; text-decoration-color: #008080; font-weight: bold\">6.0144</span>,      <span style=\"color: #008080; text-decoration-color: #008080; font-weight: bold\">5.9817</span>,      <span style=\"color: #008080; text-decoration-color: #008080; font-weight: bold\">6.0039</span>,      <span style=\"color: #008080; text-decoration-color: #008080; font-weight: bold\">6.0026</span>,\n",
       "            <span style=\"color: #008080; text-decoration-color: #008080; font-weight: bold\">5.9731</span>,      <span style=\"color: #008080; text-decoration-color: #008080; font-weight: bold\">6.0242</span>,       <span style=\"color: #008080; text-decoration-color: #008080; font-weight: bold\">6.975</span>,      <span style=\"color: #008080; text-decoration-color: #008080; font-weight: bold\">6.9819</span>,      <span style=\"color: #008080; text-decoration-color: #008080; font-weight: bold\">6.9896</span>,      <span style=\"color: #008080; text-decoration-color: #008080; font-weight: bold\">6.9979</span>,      <span style=\"color: #008080; text-decoration-color: #008080; font-weight: bold\">7.0062</span>,      <span style=\"color: #008080; text-decoration-color: #008080; font-weight: bold\">7.0041</span>,      <span style=\"color: #008080; text-decoration-color: #008080; font-weight: bold\">7.0164</span>,      <span style=\"color: #008080; text-decoration-color: #008080; font-weight: bold\">6.9886</span>,      <span style=\"color: #008080; text-decoration-color: #008080; font-weight: bold\">6.9821</span>,      <span style=\"color: #008080; text-decoration-color: #008080; font-weight: bold\">7.0239</span>,      <span style=\"color: #008080; text-decoration-color: #008080; font-weight: bold\">7.0022</span>,      <span style=\"color: #008080; text-decoration-color: #008080; font-weight: bold\">6.9831</span>,      <span style=\"color: #008080; text-decoration-color: #008080; font-weight: bold\">7.0231</span>,      <span style=\"color: #008080; text-decoration-color: #008080; font-weight: bold\">7.9587</span>,      <span style=\"color: #008080; text-decoration-color: #008080; font-weight: bold\">8.0086</span>,      <span style=\"color: #008080; text-decoration-color: #008080; font-weight: bold\">7.9771</span>,      <span style=\"color: #008080; text-decoration-color: #008080; font-weight: bold\">8.0008</span>,      <span style=\"color: #008080; text-decoration-color: #008080; font-weight: bold\">8.0053</span>,      <span style=\"color: #008080; text-decoration-color: #008080; font-weight: bold\">8.0199</span>,      <span style=\"color: #008080; text-decoration-color: #008080; font-weight: bold\">8.0074</span>,      <span style=\"color: #008080; text-decoration-color: #008080; font-weight: bold\">8.9494</span>,      <span style=\"color: #008080; text-decoration-color: #008080; font-weight: bold\">8.9968</span>,\n",
       "            <span style=\"color: #008080; text-decoration-color: #008080; font-weight: bold\">8.9424</span>,       <span style=\"color: #008080; text-decoration-color: #008080; font-weight: bold\">8.024</span>,      <span style=\"color: #008080; text-decoration-color: #008080; font-weight: bold\">8.0067</span>,      <span style=\"color: #008080; text-decoration-color: #008080; font-weight: bold\">8.0068</span>,      <span style=\"color: #008080; text-decoration-color: #008080; font-weight: bold\">8.0017</span>,      <span style=\"color: #008080; text-decoration-color: #008080; font-weight: bold\">8.0033</span>,      <span style=\"color: #008080; text-decoration-color: #008080; font-weight: bold\">7.9682</span>,      <span style=\"color: #008080; text-decoration-color: #008080; font-weight: bold\">7.9792</span>,      <span style=\"color: #008080; text-decoration-color: #008080; font-weight: bold\">7.9914</span>,      <span style=\"color: #008080; text-decoration-color: #008080; font-weight: bold\">7.0174</span>,      <span style=\"color: #008080; text-decoration-color: #008080; font-weight: bold\">7.0163</span>,      <span style=\"color: #008080; text-decoration-color: #008080; font-weight: bold\">6.9718</span>,      <span style=\"color: #008080; text-decoration-color: #008080; font-weight: bold\">5.9984</span>,      <span style=\"color: #008080; text-decoration-color: #008080; font-weight: bold\">5.9714</span>,      <span style=\"color: #008080; text-decoration-color: #008080; font-weight: bold\">5.1169</span>,      <span style=\"color: #008080; text-decoration-color: #008080; font-weight: bold\">5.9558</span>,      <span style=\"color: #008080; text-decoration-color: #008080; font-weight: bold\">6.0036</span>,      <span style=\"color: #008080; text-decoration-color: #008080; font-weight: bold\">5.9913</span>,      <span style=\"color: #008080; text-decoration-color: #008080; font-weight: bold\">6.0316</span>,      <span style=\"color: #008080; text-decoration-color: #008080; font-weight: bold\">6.0197</span>,      <span style=\"color: #008080; text-decoration-color: #008080; font-weight: bold\">6.9466</span>,      <span style=\"color: #008080; text-decoration-color: #008080; font-weight: bold\">6.9699</span>,      <span style=\"color: #008080; text-decoration-color: #008080; font-weight: bold\">6.0431</span>,      <span style=\"color: #008080; text-decoration-color: #008080; font-weight: bold\">5.9935</span>,\n",
       "            <span style=\"color: #008080; text-decoration-color: #008080; font-weight: bold\">6.0146</span>,      <span style=\"color: #008080; text-decoration-color: #008080; font-weight: bold\">5.9828</span>,      <span style=\"color: #008080; text-decoration-color: #008080; font-weight: bold\">5.9604</span>,      <span style=\"color: #008080; text-decoration-color: #008080; font-weight: bold\">5.9888</span>,      <span style=\"color: #008080; text-decoration-color: #008080; font-weight: bold\">5.0903</span>,      <span style=\"color: #008080; text-decoration-color: #008080; font-weight: bold\">5.9759</span>,      <span style=\"color: #008080; text-decoration-color: #008080; font-weight: bold\">5.9935</span>,       <span style=\"color: #008080; text-decoration-color: #008080; font-weight: bold\">6.005</span>,      <span style=\"color: #008080; text-decoration-color: #008080; font-weight: bold\">6.0144</span>,        <span style=\"color: #008080; text-decoration-color: #008080; font-weight: bold\">6.03</span>,      <span style=\"color: #008080; text-decoration-color: #008080; font-weight: bold\">6.0425</span>,      <span style=\"color: #008080; text-decoration-color: #008080; font-weight: bold\">6.9439</span>,      <span style=\"color: #008080; text-decoration-color: #008080; font-weight: bold\">7.0108</span>,      <span style=\"color: #008080; text-decoration-color: #008080; font-weight: bold\">7.8984</span>,      <span style=\"color: #008080; text-decoration-color: #008080; font-weight: bold\">7.0504</span>,      <span style=\"color: #008080; text-decoration-color: #008080; font-weight: bold\">6.9833</span>,      <span style=\"color: #008080; text-decoration-color: #008080; font-weight: bold\">6.9893</span>,      <span style=\"color: #008080; text-decoration-color: #008080; font-weight: bold\">7.0087</span>,      <span style=\"color: #008080; text-decoration-color: #008080; font-weight: bold\">7.0025</span>,      <span style=\"color: #008080; text-decoration-color: #008080; font-weight: bold\">6.9761</span>,      <span style=\"color: #008080; text-decoration-color: #008080; font-weight: bold\">6.9848</span>,      <span style=\"color: #008080; text-decoration-color: #008080; font-weight: bold\">7.0188</span>,      <span style=\"color: #008080; text-decoration-color: #008080; font-weight: bold\">6.9359</span>,      <span style=\"color: #008080; text-decoration-color: #008080; font-weight: bold\">6.0397</span>,\n",
       "             <span style=\"color: #008080; text-decoration-color: #008080; font-weight: bold\">6.033</span>,      <span style=\"color: #008080; text-decoration-color: #008080; font-weight: bold\">5.9877</span>,      <span style=\"color: #008080; text-decoration-color: #008080; font-weight: bold\">5.9836</span>,      <span style=\"color: #008080; text-decoration-color: #008080; font-weight: bold\">6.0123</span>,      <span style=\"color: #008080; text-decoration-color: #008080; font-weight: bold\">6.0202</span>,       <span style=\"color: #008080; text-decoration-color: #008080; font-weight: bold\">5.986</span>,      <span style=\"color: #008080; text-decoration-color: #008080; font-weight: bold\">6.0224</span>,      <span style=\"color: #008080; text-decoration-color: #008080; font-weight: bold\">6.0217</span>,      <span style=\"color: #008080; text-decoration-color: #008080; font-weight: bold\">6.9689</span>,      <span style=\"color: #008080; text-decoration-color: #008080; font-weight: bold\">7.0282</span>,      <span style=\"color: #008080; text-decoration-color: #008080; font-weight: bold\">6.9742</span>,      <span style=\"color: #008080; text-decoration-color: #008080; font-weight: bold\">7.0033</span>,      <span style=\"color: #008080; text-decoration-color: #008080; font-weight: bold\">6.9821</span>,       <span style=\"color: #008080; text-decoration-color: #008080; font-weight: bold\">7.012</span>,       <span style=\"color: #008080; text-decoration-color: #008080; font-weight: bold\">7.951</span>,       <span style=\"color: #008080; text-decoration-color: #008080; font-weight: bold\">7.956</span>,      <span style=\"color: #008080; text-decoration-color: #008080; font-weight: bold\">7.0055</span>,      <span style=\"color: #008080; text-decoration-color: #008080; font-weight: bold\">6.9905</span>,       <span style=\"color: #008080; text-decoration-color: #008080; font-weight: bold\">6.963</span>,      <span style=\"color: #008080; text-decoration-color: #008080; font-weight: bold\">6.0321</span>,      <span style=\"color: #008080; text-decoration-color: #008080; font-weight: bold\">6.0214</span>,      <span style=\"color: #008080; text-decoration-color: #008080; font-weight: bold\">5.9979</span>,      <span style=\"color: #008080; text-decoration-color: #008080; font-weight: bold\">6.0011</span>,      <span style=\"color: #008080; text-decoration-color: #008080; font-weight: bold\">6.0062</span>,\n",
       "            <span style=\"color: #008080; text-decoration-color: #008080; font-weight: bold\">6.0012</span>,      <span style=\"color: #008080; text-decoration-color: #008080; font-weight: bold\">6.0138</span>,      <span style=\"color: #008080; text-decoration-color: #008080; font-weight: bold\">5.9733</span>,      <span style=\"color: #008080; text-decoration-color: #008080; font-weight: bold\">6.0137</span>,      <span style=\"color: #008080; text-decoration-color: #008080; font-weight: bold\">6.0017</span>,        <span style=\"color: #008080; text-decoration-color: #008080; font-weight: bold\">6.02</span>,      <span style=\"color: #008080; text-decoration-color: #008080; font-weight: bold\">5.9993</span>,      <span style=\"color: #008080; text-decoration-color: #008080; font-weight: bold\">5.9879</span>,      <span style=\"color: #008080; text-decoration-color: #008080; font-weight: bold\">6.0049</span>,      <span style=\"color: #008080; text-decoration-color: #008080; font-weight: bold\">5.9952</span>,       <span style=\"color: #008080; text-decoration-color: #008080; font-weight: bold\">5.979</span>,      <span style=\"color: #008080; text-decoration-color: #008080; font-weight: bold\">6.0092</span>,      <span style=\"color: #008080; text-decoration-color: #008080; font-weight: bold\">5.9997</span>,      <span style=\"color: #008080; text-decoration-color: #008080; font-weight: bold\">5.9954</span>,      <span style=\"color: #008080; text-decoration-color: #008080; font-weight: bold\">6.0069</span>,      <span style=\"color: #008080; text-decoration-color: #008080; font-weight: bold\">6.0021</span>,       <span style=\"color: #008080; text-decoration-color: #008080; font-weight: bold\">6.027</span>,      <span style=\"color: #008080; text-decoration-color: #008080; font-weight: bold\">6.0006</span>,      <span style=\"color: #008080; text-decoration-color: #008080; font-weight: bold\">6.0262</span>,      <span style=\"color: #008080; text-decoration-color: #008080; font-weight: bold\">6.9906</span>,      <span style=\"color: #008080; text-decoration-color: #008080; font-weight: bold\">7.0067</span>,      <span style=\"color: #008080; text-decoration-color: #008080; font-weight: bold\">6.9992</span>,      <span style=\"color: #008080; text-decoration-color: #008080; font-weight: bold\">6.9943</span>,      <span style=\"color: #008080; text-decoration-color: #008080; font-weight: bold\">6.9966</span>,\n",
       "            <span style=\"color: #008080; text-decoration-color: #008080; font-weight: bold\">6.9855</span>,      <span style=\"color: #008080; text-decoration-color: #008080; font-weight: bold\">7.0298</span>,      <span style=\"color: #008080; text-decoration-color: #008080; font-weight: bold\">6.9894</span>,      <span style=\"color: #008080; text-decoration-color: #008080; font-weight: bold\">6.9869</span>,      <span style=\"color: #008080; text-decoration-color: #008080; font-weight: bold\">6.0557</span>,      <span style=\"color: #008080; text-decoration-color: #008080; font-weight: bold\">7.9726</span>,      <span style=\"color: #008080; text-decoration-color: #008080; font-weight: bold\">8.0203</span>,      <span style=\"color: #008080; text-decoration-color: #008080; font-weight: bold\">8.9749</span>,      <span style=\"color: #008080; text-decoration-color: #008080; font-weight: bold\">8.9887</span>,      <span style=\"color: #008080; text-decoration-color: #008080; font-weight: bold\">8.9572</span>,      <span style=\"color: #008080; text-decoration-color: #008080; font-weight: bold\">9.0087</span>,      <span style=\"color: #008080; text-decoration-color: #008080; font-weight: bold\">8.9753</span>,      <span style=\"color: #008080; text-decoration-color: #008080; font-weight: bold\">8.0213</span>,      <span style=\"color: #008080; text-decoration-color: #008080; font-weight: bold\">8.0137</span>,      <span style=\"color: #008080; text-decoration-color: #008080; font-weight: bold\">7.9885</span>,       <span style=\"color: #008080; text-decoration-color: #008080; font-weight: bold\">8.003</span>,      <span style=\"color: #008080; text-decoration-color: #008080; font-weight: bold\">7.9772</span>,      <span style=\"color: #008080; text-decoration-color: #008080; font-weight: bold\">7.9953</span>,        <span style=\"color: #008080; text-decoration-color: #008080; font-weight: bold\">7.99</span>,      <span style=\"color: #008080; text-decoration-color: #008080; font-weight: bold\">7.9873</span>,      <span style=\"color: #008080; text-decoration-color: #008080; font-weight: bold\">7.9818</span>,      <span style=\"color: #008080; text-decoration-color: #008080; font-weight: bold\">7.0502</span>,       <span style=\"color: #008080; text-decoration-color: #008080; font-weight: bold\">7.964</span>,      <span style=\"color: #008080; text-decoration-color: #008080; font-weight: bold\">8.0001</span>,\n",
       "            <span style=\"color: #008080; text-decoration-color: #008080; font-weight: bold\">8.0046</span>,      <span style=\"color: #008080; text-decoration-color: #008080; font-weight: bold\">6.9934</span>,      <span style=\"color: #008080; text-decoration-color: #008080; font-weight: bold\">6.9909</span>,      <span style=\"color: #008080; text-decoration-color: #008080; font-weight: bold\">6.0733</span>,      <span style=\"color: #008080; text-decoration-color: #008080; font-weight: bold\">6.9898</span>,      <span style=\"color: #008080; text-decoration-color: #008080; font-weight: bold\">7.0196</span>,      <span style=\"color: #008080; text-decoration-color: #008080; font-weight: bold\">6.9584</span>,       <span style=\"color: #008080; text-decoration-color: #008080; font-weight: bold\">6.989</span>,      <span style=\"color: #008080; text-decoration-color: #008080; font-weight: bold\">7.0315</span>,       <span style=\"color: #008080; text-decoration-color: #008080; font-weight: bold\">7.989</span>,      <span style=\"color: #008080; text-decoration-color: #008080; font-weight: bold\">7.9937</span>,       <span style=\"color: #008080; text-decoration-color: #008080; font-weight: bold\">7.964</span>,      <span style=\"color: #008080; text-decoration-color: #008080; font-weight: bold\">6.9665</span>,      <span style=\"color: #008080; text-decoration-color: #008080; font-weight: bold\">5.0354</span>,      <span style=\"color: #008080; text-decoration-color: #008080; font-weight: bold\">4.9776</span>,      <span style=\"color: #008080; text-decoration-color: #008080; font-weight: bold\">4.0303</span>,       <span style=\"color: #008080; text-decoration-color: #008080; font-weight: bold\">4.015</span>,      <span style=\"color: #008080; text-decoration-color: #008080; font-weight: bold\">4.0048</span>,      <span style=\"color: #008080; text-decoration-color: #008080; font-weight: bold\">4.0427</span>,      <span style=\"color: #008080; text-decoration-color: #008080; font-weight: bold\">4.0122</span>,      <span style=\"color: #008080; text-decoration-color: #008080; font-weight: bold\">4.0311</span>,      <span style=\"color: #008080; text-decoration-color: #008080; font-weight: bold\">4.0072</span>,      <span style=\"color: #008080; text-decoration-color: #008080; font-weight: bold\">3.9903</span>,      <span style=\"color: #008080; text-decoration-color: #008080; font-weight: bold\">4.0513</span>,\n",
       "            <span style=\"color: #008080; text-decoration-color: #008080; font-weight: bold\">4.9719</span>,      <span style=\"color: #008080; text-decoration-color: #008080; font-weight: bold\">4.9778</span>,      <span style=\"color: #008080; text-decoration-color: #008080; font-weight: bold\">5.0161</span>,      <span style=\"color: #008080; text-decoration-color: #008080; font-weight: bold\">4.9998</span>,      <span style=\"color: #008080; text-decoration-color: #008080; font-weight: bold\">4.9986</span>,      <span style=\"color: #008080; text-decoration-color: #008080; font-weight: bold\">5.0402</span>,      <span style=\"color: #008080; text-decoration-color: #008080; font-weight: bold\">4.9822</span>,      <span style=\"color: #008080; text-decoration-color: #008080; font-weight: bold\">4.9865</span>,      <span style=\"color: #008080; text-decoration-color: #008080; font-weight: bold\">5.0139</span>,       <span style=\"color: #008080; text-decoration-color: #008080; font-weight: bold\">4.992</span>,      <span style=\"color: #008080; text-decoration-color: #008080; font-weight: bold\">4.9937</span>,      <span style=\"color: #008080; text-decoration-color: #008080; font-weight: bold\">5.0071</span>,       <span style=\"color: #008080; text-decoration-color: #008080; font-weight: bold\">5.032</span>,       <span style=\"color: #008080; text-decoration-color: #008080; font-weight: bold\">4.994</span>,      <span style=\"color: #008080; text-decoration-color: #008080; font-weight: bold\">5.0075</span>,      <span style=\"color: #008080; text-decoration-color: #008080; font-weight: bold\">5.0243</span>,      <span style=\"color: #008080; text-decoration-color: #008080; font-weight: bold\">5.0008</span>,       <span style=\"color: #008080; text-decoration-color: #008080; font-weight: bold\">4.977</span>,      <span style=\"color: #008080; text-decoration-color: #008080; font-weight: bold\">4.9967</span>,      <span style=\"color: #008080; text-decoration-color: #008080; font-weight: bold\">4.9982</span>,      <span style=\"color: #008080; text-decoration-color: #008080; font-weight: bold\">5.0447</span>,      <span style=\"color: #008080; text-decoration-color: #008080; font-weight: bold\">5.0605</span>,      <span style=\"color: #008080; text-decoration-color: #008080; font-weight: bold\">6.9171</span>,      <span style=\"color: #008080; text-decoration-color: #008080; font-weight: bold\">6.9916</span>,\n",
       "            <span style=\"color: #008080; text-decoration-color: #008080; font-weight: bold\">6.9657</span>,       <span style=\"color: #008080; text-decoration-color: #008080; font-weight: bold\">5.996</span>,      <span style=\"color: #008080; text-decoration-color: #008080; font-weight: bold\">5.9734</span>,      <span style=\"color: #008080; text-decoration-color: #008080; font-weight: bold\">5.0194</span>,      <span style=\"color: #008080; text-decoration-color: #008080; font-weight: bold\">4.9977</span>,      <span style=\"color: #008080; text-decoration-color: #008080; font-weight: bold\">4.9862</span>,      <span style=\"color: #008080; text-decoration-color: #008080; font-weight: bold\">4.9949</span>,      <span style=\"color: #008080; text-decoration-color: #008080; font-weight: bold\">4.9827</span>,        <span style=\"color: #008080; text-decoration-color: #008080; font-weight: bold\">4.02</span>,      <span style=\"color: #008080; text-decoration-color: #008080; font-weight: bold\">3.9873</span>,      <span style=\"color: #008080; text-decoration-color: #008080; font-weight: bold\">3.0263</span>,      <span style=\"color: #008080; text-decoration-color: #008080; font-weight: bold\">3.0057</span>,       <span style=\"color: #008080; text-decoration-color: #008080; font-weight: bold\">3.003</span>,      <span style=\"color: #008080; text-decoration-color: #008080; font-weight: bold\">2.9713</span>,      <span style=\"color: #008080; text-decoration-color: #008080; font-weight: bold\">2.0107</span>,       <span style=\"color: #008080; text-decoration-color: #008080; font-weight: bold\">2.015</span>,      <span style=\"color: #008080; text-decoration-color: #008080; font-weight: bold\">2.0042</span>,       <span style=\"color: #008080; text-decoration-color: #008080; font-weight: bold\">2.003</span>,      <span style=\"color: #008080; text-decoration-color: #008080; font-weight: bold\">1.9931</span>,      <span style=\"color: #008080; text-decoration-color: #008080; font-weight: bold\">1.9936</span>,      <span style=\"color: #008080; text-decoration-color: #008080; font-weight: bold\">1.9856</span>,      <span style=\"color: #008080; text-decoration-color: #008080; font-weight: bold\">1.0091</span>,      <span style=\"color: #008080; text-decoration-color: #008080; font-weight: bold\">1.0008</span>,     <span style=\"color: #008080; text-decoration-color: #008080; font-weight: bold\">0.99551</span>,\n",
       "           <span style=\"color: #008080; text-decoration-color: #008080; font-weight: bold\">0.99456</span>,     <span style=\"color: #008080; text-decoration-color: #008080; font-weight: bold\">0.99647</span>,     <span style=\"color: #008080; text-decoration-color: #008080; font-weight: bold\">0.98186</span>,    <span style=\"color: #008080; text-decoration-color: #008080; font-weight: bold\">0.018243</span>,   <span style=\"color: #008080; text-decoration-color: #008080; font-weight: bold\">0.0077655</span>,    <span style=\"color: #008080; text-decoration-color: #008080; font-weight: bold\">0.011389</span>,   <span style=\"color: #008080; text-decoration-color: #008080; font-weight: bold\">0.0055568</span>,   <span style=\"color: #008080; text-decoration-color: #008080; font-weight: bold\">0.0036895</span>,    <span style=\"color: #008080; text-decoration-color: #008080; font-weight: bold\">0.022546</span>,   <span style=\"color: #008080; text-decoration-color: #008080; font-weight: bold\">-0.018575</span>,  <span style=\"color: #008080; text-decoration-color: #008080; font-weight: bold\">-0.0050275</span>,   <span style=\"color: #008080; text-decoration-color: #008080; font-weight: bold\">0.0073333</span>,    <span style=\"color: #008080; text-decoration-color: #008080; font-weight: bold\">0.010978</span>,  <span style=\"color: #008080; text-decoration-color: #008080; font-weight: bold\">-0.0045445</span>,   <span style=\"color: #008080; text-decoration-color: #008080; font-weight: bold\">0.0072546</span>,  <span style=\"color: #008080; text-decoration-color: #008080; font-weight: bold\">-0.0036211</span>,   <span style=\"color: #008080; text-decoration-color: #008080; font-weight: bold\">-0.011805</span>,  <span style=\"color: #008080; text-decoration-color: #008080; font-weight: bold\">-0.0044086</span>,  <span style=\"color: #008080; text-decoration-color: #008080; font-weight: bold\">-0.0013626</span>,    <span style=\"color: #008080; text-decoration-color: #008080; font-weight: bold\">0.025637</span>,   <span style=\"color: #008080; text-decoration-color: #008080; font-weight: bold\">0.0062704</span>,   <span style=\"color: #008080; text-decoration-color: #008080; font-weight: bold\">-0.017565</span>,    <span style=\"color: #008080; text-decoration-color: #008080; font-weight: bold\">0.015397</span>,   <span style=\"color: #008080; text-decoration-color: #008080; font-weight: bold\">0.0007658</span>,\n",
       "         <span style=\"color: #008080; text-decoration-color: #008080; font-weight: bold\">-0.013567</span>,  <span style=\"color: #008080; text-decoration-color: #008080; font-weight: bold\">-0.0033567</span>,  <span style=\"color: #008080; text-decoration-color: #008080; font-weight: bold\">0.00066018</span>,   <span style=\"color: #008080; text-decoration-color: #008080; font-weight: bold\">-0.011751</span>,   <span style=\"color: #008080; text-decoration-color: #008080; font-weight: bold\">0.0050383</span>,     <span style=\"color: #008080; text-decoration-color: #008080; font-weight: bold\">0.01312</span>,   <span style=\"color: #008080; text-decoration-color: #008080; font-weight: bold\">-0.002718</span>,  <span style=\"color: #008080; text-decoration-color: #008080; font-weight: bold\">0.00089788</span>,  <span style=\"color: #008080; text-decoration-color: #008080; font-weight: bold\">-0.0010288</span>,   <span style=\"color: #008080; text-decoration-color: #008080; font-weight: bold\">0.0013189</span>,   <span style=\"color: #008080; text-decoration-color: #008080; font-weight: bold\">0.0020144</span>,  <span style=\"color: #008080; text-decoration-color: #008080; font-weight: bold\">-0.0023324</span>,    <span style=\"color: #008080; text-decoration-color: #008080; font-weight: bold\">0.010186</span>,   <span style=\"color: #008080; text-decoration-color: #008080; font-weight: bold\">-0.018842</span>,    <span style=\"color: #008080; text-decoration-color: #008080; font-weight: bold\">0.015308</span>,   <span style=\"color: #008080; text-decoration-color: #008080; font-weight: bold\">-0.016125</span>,   <span style=\"color: #008080; text-decoration-color: #008080; font-weight: bold\">0.0023828</span>,    <span style=\"color: #008080; text-decoration-color: #008080; font-weight: bold\">0.014067</span>,   <span style=\"color: #008080; text-decoration-color: #008080; font-weight: bold\">0.0054164</span>,   <span style=\"color: #008080; text-decoration-color: #008080; font-weight: bold\">0.0068514</span>,  <span style=\"color: #008080; text-decoration-color: #008080; font-weight: bold\">-0.0037608</span><span style=\"font-weight: bold\">]</span>, <span style=\"color: #808000; text-decoration-color: #808000\">dtype</span>=<span style=\"color: #800080; text-decoration-color: #800080\">float32</span><span style=\"font-weight: bold\">)</span>\n",
       "</pre>\n"
      ],
      "text/plain": [
       "\n",
       "\u001B[1;35marray\u001B[0m\u001B[1m(\u001B[0m\u001B[1m[\u001B[0m     \u001B[1;36m1.0128\u001B[0m,      \u001B[1;36m0.9918\u001B[0m,      \u001B[1;36m1.0032\u001B[0m,      \u001B[1;36m1.0098\u001B[0m,     \u001B[1;36m0.99642\u001B[0m,     \u001B[1;36m0.99263\u001B[0m,      \u001B[1;36m1.0116\u001B[0m,      \u001B[1;36m1.0042\u001B[0m,     \u001B[1;36m0.98511\u001B[0m,        \u001B[1;36m1.01\u001B[0m,     \u001B[1;36m0.99239\u001B[0m,      \u001B[1;36m1.0013\u001B[0m,     \u001B[1;36m0.99926\u001B[0m,     \u001B[1;36m0.99437\u001B[0m,      \u001B[1;36m1.0099\u001B[0m,        \u001B[1;36m1.01\u001B[0m,      \u001B[1;36m1.0158\u001B[0m,      \u001B[1;36m1.0016\u001B[0m,      \u001B[1;36m1.0159\u001B[0m,     \u001B[1;36m0.98782\u001B[0m,      \u001B[1;36m1.0047\u001B[0m,      \u001B[1;36m1.0259\u001B[0m,      \u001B[1;36m2.0111\u001B[0m,      \u001B[1;36m2.9686\u001B[0m,\n",
       "            \u001B[1;36m2.9761\u001B[0m,        \u001B[1;36m2.98\u001B[0m,      \u001B[1;36m3.0643\u001B[0m,      \u001B[1;36m3.9655\u001B[0m,      \u001B[1;36m3.9838\u001B[0m,      \u001B[1;36m4.0036\u001B[0m,      \u001B[1;36m3.9918\u001B[0m,      \u001B[1;36m3.9902\u001B[0m,      \u001B[1;36m4.0096\u001B[0m,      \u001B[1;36m3.9935\u001B[0m,       \u001B[1;36m3.987\u001B[0m,      \u001B[1;36m3.9937\u001B[0m,      \u001B[1;36m3.0303\u001B[0m,      \u001B[1;36m2.9997\u001B[0m,      \u001B[1;36m3.0101\u001B[0m,      \u001B[1;36m2.9977\u001B[0m,      \u001B[1;36m3.0163\u001B[0m,      \u001B[1;36m2.9997\u001B[0m,      \u001B[1;36m3.0019\u001B[0m,      \u001B[1;36m3.0195\u001B[0m,      \u001B[1;36m3.9937\u001B[0m,      \u001B[1;36m4.9914\u001B[0m,      \u001B[1;36m5.9664\u001B[0m,      \u001B[1;36m5.9853\u001B[0m,\n",
       "            \u001B[1;36m5.9637\u001B[0m,      \u001B[1;36m5.0278\u001B[0m,      \u001B[1;36m5.0143\u001B[0m,       \u001B[1;36m5.022\u001B[0m,      \u001B[1;36m5.0022\u001B[0m,      \u001B[1;36m5.9708\u001B[0m,      \u001B[1;36m5.9734\u001B[0m,      \u001B[1;36m5.0285\u001B[0m,      \u001B[1;36m4.9933\u001B[0m,      \u001B[1;36m5.0013\u001B[0m,      \u001B[1;36m5.0094\u001B[0m,      \u001B[1;36m4.9892\u001B[0m,      \u001B[1;36m5.0121\u001B[0m,      \u001B[1;36m5.0026\u001B[0m,       \u001B[1;36m4.993\u001B[0m,      \u001B[1;36m4.9783\u001B[0m,      \u001B[1;36m4.0464\u001B[0m,      \u001B[1;36m4.0622\u001B[0m,      \u001B[1;36m5.9405\u001B[0m,      \u001B[1;36m5.9922\u001B[0m,      \u001B[1;36m6.0144\u001B[0m,      \u001B[1;36m5.9817\u001B[0m,      \u001B[1;36m6.0039\u001B[0m,      \u001B[1;36m6.0026\u001B[0m,\n",
       "            \u001B[1;36m5.9731\u001B[0m,      \u001B[1;36m6.0242\u001B[0m,       \u001B[1;36m6.975\u001B[0m,      \u001B[1;36m6.9819\u001B[0m,      \u001B[1;36m6.9896\u001B[0m,      \u001B[1;36m6.9979\u001B[0m,      \u001B[1;36m7.0062\u001B[0m,      \u001B[1;36m7.0041\u001B[0m,      \u001B[1;36m7.0164\u001B[0m,      \u001B[1;36m6.9886\u001B[0m,      \u001B[1;36m6.9821\u001B[0m,      \u001B[1;36m7.0239\u001B[0m,      \u001B[1;36m7.0022\u001B[0m,      \u001B[1;36m6.9831\u001B[0m,      \u001B[1;36m7.0231\u001B[0m,      \u001B[1;36m7.9587\u001B[0m,      \u001B[1;36m8.0086\u001B[0m,      \u001B[1;36m7.9771\u001B[0m,      \u001B[1;36m8.0008\u001B[0m,      \u001B[1;36m8.0053\u001B[0m,      \u001B[1;36m8.0199\u001B[0m,      \u001B[1;36m8.0074\u001B[0m,      \u001B[1;36m8.9494\u001B[0m,      \u001B[1;36m8.9968\u001B[0m,\n",
       "            \u001B[1;36m8.9424\u001B[0m,       \u001B[1;36m8.024\u001B[0m,      \u001B[1;36m8.0067\u001B[0m,      \u001B[1;36m8.0068\u001B[0m,      \u001B[1;36m8.0017\u001B[0m,      \u001B[1;36m8.0033\u001B[0m,      \u001B[1;36m7.9682\u001B[0m,      \u001B[1;36m7.9792\u001B[0m,      \u001B[1;36m7.9914\u001B[0m,      \u001B[1;36m7.0174\u001B[0m,      \u001B[1;36m7.0163\u001B[0m,      \u001B[1;36m6.9718\u001B[0m,      \u001B[1;36m5.9984\u001B[0m,      \u001B[1;36m5.9714\u001B[0m,      \u001B[1;36m5.1169\u001B[0m,      \u001B[1;36m5.9558\u001B[0m,      \u001B[1;36m6.0036\u001B[0m,      \u001B[1;36m5.9913\u001B[0m,      \u001B[1;36m6.0316\u001B[0m,      \u001B[1;36m6.0197\u001B[0m,      \u001B[1;36m6.9466\u001B[0m,      \u001B[1;36m6.9699\u001B[0m,      \u001B[1;36m6.0431\u001B[0m,      \u001B[1;36m5.9935\u001B[0m,\n",
       "            \u001B[1;36m6.0146\u001B[0m,      \u001B[1;36m5.9828\u001B[0m,      \u001B[1;36m5.9604\u001B[0m,      \u001B[1;36m5.9888\u001B[0m,      \u001B[1;36m5.0903\u001B[0m,      \u001B[1;36m5.9759\u001B[0m,      \u001B[1;36m5.9935\u001B[0m,       \u001B[1;36m6.005\u001B[0m,      \u001B[1;36m6.0144\u001B[0m,        \u001B[1;36m6.03\u001B[0m,      \u001B[1;36m6.0425\u001B[0m,      \u001B[1;36m6.9439\u001B[0m,      \u001B[1;36m7.0108\u001B[0m,      \u001B[1;36m7.8984\u001B[0m,      \u001B[1;36m7.0504\u001B[0m,      \u001B[1;36m6.9833\u001B[0m,      \u001B[1;36m6.9893\u001B[0m,      \u001B[1;36m7.0087\u001B[0m,      \u001B[1;36m7.0025\u001B[0m,      \u001B[1;36m6.9761\u001B[0m,      \u001B[1;36m6.9848\u001B[0m,      \u001B[1;36m7.0188\u001B[0m,      \u001B[1;36m6.9359\u001B[0m,      \u001B[1;36m6.0397\u001B[0m,\n",
       "             \u001B[1;36m6.033\u001B[0m,      \u001B[1;36m5.9877\u001B[0m,      \u001B[1;36m5.9836\u001B[0m,      \u001B[1;36m6.0123\u001B[0m,      \u001B[1;36m6.0202\u001B[0m,       \u001B[1;36m5.986\u001B[0m,      \u001B[1;36m6.0224\u001B[0m,      \u001B[1;36m6.0217\u001B[0m,      \u001B[1;36m6.9689\u001B[0m,      \u001B[1;36m7.0282\u001B[0m,      \u001B[1;36m6.9742\u001B[0m,      \u001B[1;36m7.0033\u001B[0m,      \u001B[1;36m6.9821\u001B[0m,       \u001B[1;36m7.012\u001B[0m,       \u001B[1;36m7.951\u001B[0m,       \u001B[1;36m7.956\u001B[0m,      \u001B[1;36m7.0055\u001B[0m,      \u001B[1;36m6.9905\u001B[0m,       \u001B[1;36m6.963\u001B[0m,      \u001B[1;36m6.0321\u001B[0m,      \u001B[1;36m6.0214\u001B[0m,      \u001B[1;36m5.9979\u001B[0m,      \u001B[1;36m6.0011\u001B[0m,      \u001B[1;36m6.0062\u001B[0m,\n",
       "            \u001B[1;36m6.0012\u001B[0m,      \u001B[1;36m6.0138\u001B[0m,      \u001B[1;36m5.9733\u001B[0m,      \u001B[1;36m6.0137\u001B[0m,      \u001B[1;36m6.0017\u001B[0m,        \u001B[1;36m6.02\u001B[0m,      \u001B[1;36m5.9993\u001B[0m,      \u001B[1;36m5.9879\u001B[0m,      \u001B[1;36m6.0049\u001B[0m,      \u001B[1;36m5.9952\u001B[0m,       \u001B[1;36m5.979\u001B[0m,      \u001B[1;36m6.0092\u001B[0m,      \u001B[1;36m5.9997\u001B[0m,      \u001B[1;36m5.9954\u001B[0m,      \u001B[1;36m6.0069\u001B[0m,      \u001B[1;36m6.0021\u001B[0m,       \u001B[1;36m6.027\u001B[0m,      \u001B[1;36m6.0006\u001B[0m,      \u001B[1;36m6.0262\u001B[0m,      \u001B[1;36m6.9906\u001B[0m,      \u001B[1;36m7.0067\u001B[0m,      \u001B[1;36m6.9992\u001B[0m,      \u001B[1;36m6.9943\u001B[0m,      \u001B[1;36m6.9966\u001B[0m,\n",
       "            \u001B[1;36m6.9855\u001B[0m,      \u001B[1;36m7.0298\u001B[0m,      \u001B[1;36m6.9894\u001B[0m,      \u001B[1;36m6.9869\u001B[0m,      \u001B[1;36m6.0557\u001B[0m,      \u001B[1;36m7.9726\u001B[0m,      \u001B[1;36m8.0203\u001B[0m,      \u001B[1;36m8.9749\u001B[0m,      \u001B[1;36m8.9887\u001B[0m,      \u001B[1;36m8.9572\u001B[0m,      \u001B[1;36m9.0087\u001B[0m,      \u001B[1;36m8.9753\u001B[0m,      \u001B[1;36m8.0213\u001B[0m,      \u001B[1;36m8.0137\u001B[0m,      \u001B[1;36m7.9885\u001B[0m,       \u001B[1;36m8.003\u001B[0m,      \u001B[1;36m7.9772\u001B[0m,      \u001B[1;36m7.9953\u001B[0m,        \u001B[1;36m7.99\u001B[0m,      \u001B[1;36m7.9873\u001B[0m,      \u001B[1;36m7.9818\u001B[0m,      \u001B[1;36m7.0502\u001B[0m,       \u001B[1;36m7.964\u001B[0m,      \u001B[1;36m8.0001\u001B[0m,\n",
       "            \u001B[1;36m8.0046\u001B[0m,      \u001B[1;36m6.9934\u001B[0m,      \u001B[1;36m6.9909\u001B[0m,      \u001B[1;36m6.0733\u001B[0m,      \u001B[1;36m6.9898\u001B[0m,      \u001B[1;36m7.0196\u001B[0m,      \u001B[1;36m6.9584\u001B[0m,       \u001B[1;36m6.989\u001B[0m,      \u001B[1;36m7.0315\u001B[0m,       \u001B[1;36m7.989\u001B[0m,      \u001B[1;36m7.9937\u001B[0m,       \u001B[1;36m7.964\u001B[0m,      \u001B[1;36m6.9665\u001B[0m,      \u001B[1;36m5.0354\u001B[0m,      \u001B[1;36m4.9776\u001B[0m,      \u001B[1;36m4.0303\u001B[0m,       \u001B[1;36m4.015\u001B[0m,      \u001B[1;36m4.0048\u001B[0m,      \u001B[1;36m4.0427\u001B[0m,      \u001B[1;36m4.0122\u001B[0m,      \u001B[1;36m4.0311\u001B[0m,      \u001B[1;36m4.0072\u001B[0m,      \u001B[1;36m3.9903\u001B[0m,      \u001B[1;36m4.0513\u001B[0m,\n",
       "            \u001B[1;36m4.9719\u001B[0m,      \u001B[1;36m4.9778\u001B[0m,      \u001B[1;36m5.0161\u001B[0m,      \u001B[1;36m4.9998\u001B[0m,      \u001B[1;36m4.9986\u001B[0m,      \u001B[1;36m5.0402\u001B[0m,      \u001B[1;36m4.9822\u001B[0m,      \u001B[1;36m4.9865\u001B[0m,      \u001B[1;36m5.0139\u001B[0m,       \u001B[1;36m4.992\u001B[0m,      \u001B[1;36m4.9937\u001B[0m,      \u001B[1;36m5.0071\u001B[0m,       \u001B[1;36m5.032\u001B[0m,       \u001B[1;36m4.994\u001B[0m,      \u001B[1;36m5.0075\u001B[0m,      \u001B[1;36m5.0243\u001B[0m,      \u001B[1;36m5.0008\u001B[0m,       \u001B[1;36m4.977\u001B[0m,      \u001B[1;36m4.9967\u001B[0m,      \u001B[1;36m4.9982\u001B[0m,      \u001B[1;36m5.0447\u001B[0m,      \u001B[1;36m5.0605\u001B[0m,      \u001B[1;36m6.9171\u001B[0m,      \u001B[1;36m6.9916\u001B[0m,\n",
       "            \u001B[1;36m6.9657\u001B[0m,       \u001B[1;36m5.996\u001B[0m,      \u001B[1;36m5.9734\u001B[0m,      \u001B[1;36m5.0194\u001B[0m,      \u001B[1;36m4.9977\u001B[0m,      \u001B[1;36m4.9862\u001B[0m,      \u001B[1;36m4.9949\u001B[0m,      \u001B[1;36m4.9827\u001B[0m,        \u001B[1;36m4.02\u001B[0m,      \u001B[1;36m3.9873\u001B[0m,      \u001B[1;36m3.0263\u001B[0m,      \u001B[1;36m3.0057\u001B[0m,       \u001B[1;36m3.003\u001B[0m,      \u001B[1;36m2.9713\u001B[0m,      \u001B[1;36m2.0107\u001B[0m,       \u001B[1;36m2.015\u001B[0m,      \u001B[1;36m2.0042\u001B[0m,       \u001B[1;36m2.003\u001B[0m,      \u001B[1;36m1.9931\u001B[0m,      \u001B[1;36m1.9936\u001B[0m,      \u001B[1;36m1.9856\u001B[0m,      \u001B[1;36m1.0091\u001B[0m,      \u001B[1;36m1.0008\u001B[0m,     \u001B[1;36m0.99551\u001B[0m,\n",
       "           \u001B[1;36m0.99456\u001B[0m,     \u001B[1;36m0.99647\u001B[0m,     \u001B[1;36m0.98186\u001B[0m,    \u001B[1;36m0.018243\u001B[0m,   \u001B[1;36m0.0077655\u001B[0m,    \u001B[1;36m0.011389\u001B[0m,   \u001B[1;36m0.0055568\u001B[0m,   \u001B[1;36m0.0036895\u001B[0m,    \u001B[1;36m0.022546\u001B[0m,   \u001B[1;36m-0.018575\u001B[0m,  \u001B[1;36m-0.0050275\u001B[0m,   \u001B[1;36m0.0073333\u001B[0m,    \u001B[1;36m0.010978\u001B[0m,  \u001B[1;36m-0.0045445\u001B[0m,   \u001B[1;36m0.0072546\u001B[0m,  \u001B[1;36m-0.0036211\u001B[0m,   \u001B[1;36m-0.011805\u001B[0m,  \u001B[1;36m-0.0044086\u001B[0m,  \u001B[1;36m-0.0013626\u001B[0m,    \u001B[1;36m0.025637\u001B[0m,   \u001B[1;36m0.0062704\u001B[0m,   \u001B[1;36m-0.017565\u001B[0m,    \u001B[1;36m0.015397\u001B[0m,   \u001B[1;36m0.0007658\u001B[0m,\n",
       "         \u001B[1;36m-0.013567\u001B[0m,  \u001B[1;36m-0.0033567\u001B[0m,  \u001B[1;36m0.00066018\u001B[0m,   \u001B[1;36m-0.011751\u001B[0m,   \u001B[1;36m0.0050383\u001B[0m,     \u001B[1;36m0.01312\u001B[0m,   \u001B[1;36m-0.002718\u001B[0m,  \u001B[1;36m0.00089788\u001B[0m,  \u001B[1;36m-0.0010288\u001B[0m,   \u001B[1;36m0.0013189\u001B[0m,   \u001B[1;36m0.0020144\u001B[0m,  \u001B[1;36m-0.0023324\u001B[0m,    \u001B[1;36m0.010186\u001B[0m,   \u001B[1;36m-0.018842\u001B[0m,    \u001B[1;36m0.015308\u001B[0m,   \u001B[1;36m-0.016125\u001B[0m,   \u001B[1;36m0.0023828\u001B[0m,    \u001B[1;36m0.014067\u001B[0m,   \u001B[1;36m0.0054164\u001B[0m,   \u001B[1;36m0.0068514\u001B[0m,  \u001B[1;36m-0.0037608\u001B[0m\u001B[1m]\u001B[0m, \u001B[33mdtype\u001B[0m=\u001B[35mfloat32\u001B[0m\u001B[1m)\u001B[0m\n"
      ]
     },
     "metadata": {},
     "output_type": "display_data"
    }
   ],
   "source": [
    "test_image_reps_arr = np.concatenate(test_image_reps, axis=0)\n",
    "test_preds = reg.predict(test_image_reps_arr)\n",
    "test_preds"
   ]
  },
  {
   "cell_type": "code",
   "execution_count": 33,
   "id": "e0ba65bb-ddf2-45f3-a121-b66e8fbe3224",
   "metadata": {
    "tags": []
   },
   "outputs": [
    {
     "data": {
      "text/html": [
       "<pre style=\"white-space:pre;overflow-x:auto;line-height:normal;font-family:Menlo,'DejaVu Sans Mono',consolas,'Courier New',monospace\"><span style=\"color: #008080; text-decoration-color: #008080; font-weight: bold\">0.01707723226633158</span>\n",
       "</pre>\n"
      ],
      "text/plain": [
       "\u001B[1;36m0.01707723226633158\u001B[0m\n"
      ]
     },
     "metadata": {},
     "output_type": "display_data"
    }
   ],
   "source": [
    "errors = test_preds - test_flower_counts\n",
    "np.mean(np.abs(errors))"
   ]
  },
  {
   "cell_type": "code",
   "execution_count": 34,
   "id": "2e929358-790f-4dd5-bb00-6e35baf2838b",
   "metadata": {
    "tags": []
   },
   "outputs": [
    {
     "name": "stdout",
     "output_type": "stream",
     "text": [
      "2023-03-09 10:18:35,858 - py.warnings - WARNING - /home/daniel/git/self-supervised-learning/.venv/lib/python3.10/site-packages/seaborn/rcmod.py:400: DeprecationWarning: distutils Version classes are deprecated. Use packaging.version instead.\n",
      "  if LooseVersion(mpl.__version__) >= \"3.0\":\n",
      "\n",
      "2023-03-09 10:18:35,858 - py.warnings - WARNING - /home/daniel/git/self-supervised-learning/.venv/lib/python3.10/site-packages/setuptools/_distutils/version.py:346: DeprecationWarning: distutils Version classes are deprecated. Use packaging.version instead.\n",
      "  other = LooseVersion(other)\n",
      "\n"
     ]
    },
    {
     "data": {
      "image/png": "[encoded data removed]"
     },
     "metadata": {},
     "output_type": "display_data"
    }
   ],
   "source": [
    "%matplotlib inline\n",
    "import seaborn as sns\n",
    "import matplotlib.pyplot as plt\n",
    "\n",
    "sns.set()\n",
    "\n",
    "sns.regplot(x=test_preds, y=test_flower_counts)\n",
    "plt.show()"
   ]
  },
  {
   "cell_type": "code",
   "execution_count": 35,
   "id": "edbe2b6a-40f5-457c-98b9-80735eef556c",
   "metadata": {},
   "outputs": [
    {
     "data": {
      "image/png": "[encoded data removed]"
     },
     "metadata": {},
     "output_type": "display_data"
    }
   ],
   "source": [
    "sns.histplot(x=errors)"
   ]
  },
  {
   "cell_type": "code",
   "execution_count": 36,
   "id": "eca935db-8542-4b2a-93e9-9e88eae781ea",
   "metadata": {},
   "outputs": [
    {
     "data": {
      "text/html": [
       "<pre style=\"white-space:pre;overflow-x:auto;line-height:normal;font-family:Menlo,'DejaVu Sans Mono',consolas,'Courier New',monospace\"><span style=\"color: #008080; text-decoration-color: #008080; font-weight: bold\">149.14087300267488</span>\n",
       "</pre>\n"
      ],
      "text/plain": [
       "\u001B[1;36m149.14087300267488\u001B[0m\n"
      ]
     },
     "metadata": {},
     "output_type": "display_data"
    }
   ],
   "source": [
    "import numpy as np\n",
    "\n",
    "# Use the coefficient of variation of the differences between frames to provide a measure of \"smoothness\".\n",
    "gt_diff = np.diff(test_flower_counts)\n",
    "gt_smoothness = np.std(gt_diff) / np.abs(np.mean(gt_diff))\n",
    "gt_smoothness"
   ]
  },
  {
   "cell_type": "code",
   "execution_count": 37,
   "id": "4184c156-a024-42ce-8bb0-b1a81f1480ea",
   "metadata": {
    "tags": []
   },
   "outputs": [
    {
     "data": {
      "text/html": [
       "<pre style=\"white-space:pre;overflow-x:auto;line-height:normal;font-family:Menlo,'DejaVu Sans Mono',consolas,'Courier New',monospace\"><span style=\"color: #008080; text-decoration-color: #008080; font-weight: bold\">138.44113</span>\n",
       "</pre>\n"
      ],
      "text/plain": [
       "\u001B[1;36m138.44113\u001B[0m\n"
      ]
     },
     "metadata": {},
     "output_type": "display_data"
    }
   ],
   "source": [
    "pred_diff = np.diff(test_preds)\n",
    "pred_smoothness = np.std(pred_diff) / np.abs(np.mean(pred_diff))\n",
    "pred_smoothness"
   ]
  },
  {
   "cell_type": "code",
   "execution_count": 38,
   "id": "da4ca9a6-95c7-4cf8-b188-12ab036b7aa4",
   "metadata": {
    "tags": []
   },
   "outputs": [
    {
     "data": {
      "text/html": [
       "<pre style=\"white-space:pre;overflow-x:auto;line-height:normal;font-family:Menlo,'DejaVu Sans Mono',consolas,'Courier New',monospace\"><span style=\"color: #008080; text-decoration-color: #008080; font-weight: bold\">3037.406</span>\n",
       "</pre>\n"
      ],
      "text/plain": [
       "\u001B[1;36m3037.406\u001B[0m\n"
      ]
     },
     "metadata": {},
     "output_type": "display_data"
    }
   ],
   "source": [
    "reps_diff = np.diff(test_image_reps_arr, axis=0)\n",
    "reps_smoothness = np.std(reps_diff, axis=0) / np.abs(np.mean(reps_diff, axis=0))\n",
    "np.mean(reps_smoothness)"
   ]
  },
  {
   "cell_type": "code",
   "execution_count": null,
   "id": "188b9381-72fe-4df0-b337-be48cca9c078",
   "metadata": {},
   "outputs": [],
   "source": []
  }
 ],
 "metadata": {
  "kernelspec": {
   "display_name": "Kedro (self_supervised)",
   "language": "python",
   "name": "kedro_self_supervised"
  },
  "language_info": {
   "codemirror_mode": {
    "name": "ipython",
    "version": 3
   },
   "file_extension": ".py",
   "mimetype": "text/x-python",
   "name": "python",
   "nbconvert_exporter": "python",
   "pygments_lexer": "ipython3",
   "version": "3.10.10"
  }
 },
 "nbformat": 4,
 "nbformat_minor": 5
}
