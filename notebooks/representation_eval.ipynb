{
 "cells": [
  {
   "cell_type": "code",
   "execution_count": 194,
   "id": "acfda911-ae74-4318-a246-949fe66cdd10",
   "metadata": {
    "tags": []
   },
   "outputs": [
    {
     "name": "stdout",
     "output_type": "stream",
     "text": [
      "2023-03-14 11:12:23,733 - kedro.ipython - INFO - Resolved project path as: /home/daniel/git/self-supervised-learning.\n",
      "To set a different path, run '%reload_kedro <project_root>'\n",
      "2023-03-14 11:12:23,735 - py.warnings - WARNING - /home/daniel/git/self-supervised-learning/.venv/lib/python3.10/site-packages/kedro/framework/startup.py:98: DeprecationWarning: project_version in pyproject.toml is deprecated, use kedro_init_version instead\n",
      "  warnings.warn(\n",
      "\n",
      "2023-03-14 11:12:23,837 - kedro.ipython - INFO - Kedro project Self-Supervised Learning\n",
      "2023-03-14 11:12:23,838 - kedro.ipython - INFO - Defined global variable 'context', 'session', 'catalog' and 'pipelines'\n",
      "2023-03-14 11:12:23,843 - kedro.io.data_catalog - INFO - Loading data from 'yolov5_l_description' (YAMLDataSet)...\n",
      "2023-03-14 11:12:23,848 - kedro.io.data_catalog - INFO - Loading data from 'trained_model' (PytorchModelDataSet)...\n"
     ]
    },
    {
     "name": "stderr",
     "output_type": "stream",
     "text": [
      "2023-03-14 11:12:23.848 | WARNING  | self_supervised.extras.datasets.pytorch_model_data_set:_load:42 - CUDA not available, automatically mapping variables to the CPU.\n"
     ]
    }
   ],
   "source": [
    "from self_supervised.pipelines.representation_model import RepresentationModel, YoloEncoder\n",
    "from yolov5.models.yolo import DetectionModel\n",
    "import torch\n",
    "\n",
    "%reload_kedro\n",
    "model_description = catalog.load(\"yolov5_l_description\")\n",
    "trained_model = catalog.load(\"trained_model\")\n",
    "\n",
    "# Random model\n",
    "# encoder = YoloEncoder(model_description=model_description)\n",
    "# trained_model = RepresentationModel(encoder=encoder)\n",
    "\n",
    "# CoCO model\n",
    "# model_description[\"head\"] = model_description[\"head\"][:-1]\n",
    "# trained_model = DetectionModel(model_description)\n",
    "# weights_model = torch.load(\"../yolov5l.pt\", map_location=\"cpu\")\n",
    "# state_dict = weights_model[\"model\"].float().state_dict()\n",
    "# trained_model.load_state_dict(state_dict, strict=False)\n",
    "\n",
    "trained_model = trained_model.encoder\n",
    "trained_model = trained_model.eval()"
   ]
  },
  {
   "cell_type": "code",
   "execution_count": 195,
   "id": "c1878dbc-46f2-463f-b313-6dc1aed75b69",
   "metadata": {
    "tags": []
   },
   "outputs": [],
   "source": [
    "from pathlib import Path\n",
    "\n",
    "dataset_path = Path(\"/home/daniel/lab_share/projects/CottonFlower2021/flower_dataset\")\n",
    "image_dir = dataset_path / \"flower01\" / \"images\""
   ]
  },
  {
   "cell_type": "code",
   "execution_count": 196,
   "id": "c41fe7f6-ac26-435f-a8ed-996eacd3b5fd",
   "metadata": {
    "tags": []
   },
   "outputs": [],
   "source": [
    "# import random\n",
    "# random.sample(range(160), 10)\n",
    "\n",
    "# indices = [143, 159, 78, 12, 34, 116, 118, 0, 44, 124]"
   ]
  },
  {
   "cell_type": "code",
   "execution_count": 197,
   "id": "5a67e6c7-88c4-40b3-a33d-1a67a76f0d5f",
   "metadata": {
    "tags": []
   },
   "outputs": [
    {
     "name": "stderr",
     "output_type": "stream",
     "text": [
      "100%|████████████████████████████████████████████████████| 458/458 [01:09<00:00,  6.64it/s]\n"
     ]
    }
   ],
   "source": [
    "from torchvision.io import read_image\n",
    "from torchvision.transforms.functional import resize\n",
    "from tqdm import tqdm\n",
    "import torch\n",
    "\n",
    "image_reps = []\n",
    "\n",
    "image_list = sorted(list(image_dir.iterdir()))\n",
    "# image_list = [image_list[i] for i in indices]\n",
    "for image_path in tqdm(image_list):\n",
    "    image = read_image(image_path.as_posix())\n",
    "    image.requires_grad = False\n",
    "    image = resize(image, (512, 512))\n",
    "    image = image.to(torch.float) / 255\n",
    "    image_ex = image[None, :, :, :]\n",
    "    \n",
    "    image_reps.append(trained_model(image_ex)[0].detach().reshape((1, -1)).numpy())"
   ]
  },
  {
   "cell_type": "code",
   "execution_count": 198,
   "id": "43808fe8-1319-464a-8977-4e7f42db135f",
   "metadata": {
    "tags": []
   },
   "outputs": [
    {
     "data": {
      "text/html": [
       "<div>\n",
       "<style scoped>\n",
       "    .dataframe tbody tr th:only-of-type {\n",
       "        vertical-align: middle;\n",
       "    }\n",
       "\n",
       "    .dataframe tbody tr th {\n",
       "        vertical-align: top;\n",
       "    }\n",
       "\n",
       "    .dataframe thead th {\n",
       "        text-align: right;\n",
       "    }\n",
       "</style>\n",
       "<table border=\"1\" class=\"dataframe\">\n",
       "  <thead>\n",
       "    <tr style=\"text-align: right;\">\n",
       "      <th></th>\n",
       "      <th>class</th>\n",
       "      <th>x</th>\n",
       "      <th>y</th>\n",
       "      <th>width</th>\n",
       "      <th>height</th>\n",
       "      <th>frame</th>\n",
       "    </tr>\n",
       "  </thead>\n",
       "  <tbody>\n",
       "    <tr>\n",
       "      <th>0</th>\n",
       "      <td>0</td>\n",
       "      <td>0.635938</td>\n",
       "      <td>0.238889</td>\n",
       "      <td>0.020833</td>\n",
       "      <td>0.037037</td>\n",
       "      <td>000001.txt</td>\n",
       "    </tr>\n",
       "    <tr>\n",
       "      <th>1</th>\n",
       "      <td>0</td>\n",
       "      <td>0.379427</td>\n",
       "      <td>0.065278</td>\n",
       "      <td>0.015104</td>\n",
       "      <td>0.034259</td>\n",
       "      <td>000001.txt</td>\n",
       "    </tr>\n",
       "    <tr>\n",
       "      <th>2</th>\n",
       "      <td>0</td>\n",
       "      <td>0.634375</td>\n",
       "      <td>0.245370</td>\n",
       "      <td>0.020833</td>\n",
       "      <td>0.037037</td>\n",
       "      <td>000002.txt</td>\n",
       "    </tr>\n",
       "    <tr>\n",
       "      <th>3</th>\n",
       "      <td>0</td>\n",
       "      <td>0.379948</td>\n",
       "      <td>0.068981</td>\n",
       "      <td>0.015104</td>\n",
       "      <td>0.034259</td>\n",
       "      <td>000002.txt</td>\n",
       "    </tr>\n",
       "    <tr>\n",
       "      <th>4</th>\n",
       "      <td>0</td>\n",
       "      <td>0.379948</td>\n",
       "      <td>0.069907</td>\n",
       "      <td>0.015104</td>\n",
       "      <td>0.034259</td>\n",
       "      <td>000003.txt</td>\n",
       "    </tr>\n",
       "    <tr>\n",
       "      <th>...</th>\n",
       "      <td>...</td>\n",
       "      <td>...</td>\n",
       "      <td>...</td>\n",
       "      <td>...</td>\n",
       "      <td>...</td>\n",
       "      <td>...</td>\n",
       "    </tr>\n",
       "    <tr>\n",
       "      <th>1987</th>\n",
       "      <td>0</td>\n",
       "      <td>0.495833</td>\n",
       "      <td>0.971759</td>\n",
       "      <td>0.030208</td>\n",
       "      <td>0.052778</td>\n",
       "      <td>000383.txt</td>\n",
       "    </tr>\n",
       "    <tr>\n",
       "      <th>1988</th>\n",
       "      <td>0</td>\n",
       "      <td>0.496875</td>\n",
       "      <td>0.976852</td>\n",
       "      <td>0.030208</td>\n",
       "      <td>0.046296</td>\n",
       "      <td>000384.txt</td>\n",
       "    </tr>\n",
       "    <tr>\n",
       "      <th>1989</th>\n",
       "      <td>0</td>\n",
       "      <td>0.497656</td>\n",
       "      <td>0.980093</td>\n",
       "      <td>0.028646</td>\n",
       "      <td>0.037963</td>\n",
       "      <td>000385.txt</td>\n",
       "    </tr>\n",
       "    <tr>\n",
       "      <th>1990</th>\n",
       "      <td>0</td>\n",
       "      <td>0.497135</td>\n",
       "      <td>0.986111</td>\n",
       "      <td>0.028646</td>\n",
       "      <td>0.027778</td>\n",
       "      <td>000386.txt</td>\n",
       "    </tr>\n",
       "    <tr>\n",
       "      <th>1991</th>\n",
       "      <td>0</td>\n",
       "      <td>0.497656</td>\n",
       "      <td>0.991667</td>\n",
       "      <td>0.028646</td>\n",
       "      <td>0.016667</td>\n",
       "      <td>000387.txt</td>\n",
       "    </tr>\n",
       "  </tbody>\n",
       "</table>\n",
       "<p>1992 rows × 6 columns</p>\n",
       "</div>"
      ]
     },
     "execution_count": 198,
     "metadata": {},
     "output_type": "execute_result"
    }
   ],
   "source": [
    "# Load flower counts.\n",
    "import pandas as pd\n",
    "\n",
    "labels_dir = dataset_path / \"flower01\" / \"labels\"\n",
    "all_labels = []\n",
    "labels_list = sorted(list(labels_dir.iterdir()))\n",
    "# labels_list = [labels_list[i] for i in indices]\n",
    "for labels_path in labels_list:\n",
    "    frame_labels = pd.read_csv(labels_path, sep=\" \", names=[\"class\", \"x\", \"y\", \"width\", \"height\"])\n",
    "    frame_labels[\"frame\"] = labels_path.name\n",
    "    all_labels.append(frame_labels)\n",
    "    \n",
    "all_labels = pd.concat(all_labels, ignore_index=True)\n",
    "all_labels"
   ]
  },
  {
   "cell_type": "code",
   "execution_count": 199,
   "id": "96a261b8-3343-4c52-a567-4a94fcbc3964",
   "metadata": {
    "tags": []
   },
   "outputs": [],
   "source": [
    "import numpy as np\n",
    "\n",
    "# Create flower counts labels.\n",
    "flower_counts = []\n",
    "for image_path in labels_list:\n",
    "    flower_counts.append(np.count_nonzero(all_labels[\"frame\"] == image_path.name))\n",
    "    \n",
    "# Any missing counts are zeros.\n",
    "for _ in range(len(flower_counts), len(image_reps)):\n",
    "    flower_counts.append(0)"
   ]
  },
  {
   "cell_type": "code",
   "execution_count": 200,
   "id": "8cd84dd2-fc0b-482e-b69a-7bed0e95f7e5",
   "metadata": {
    "tags": []
   },
   "outputs": [
    {
     "name": "stderr",
     "output_type": "stream",
     "text": [
      "100%|████████████████████████████████████████████████████| 333/333 [00:49<00:00,  6.67it/s]\n"
     ]
    }
   ],
   "source": [
    "test_image_dir = dataset_path / \"flower02\" / \"images\"\n",
    "\n",
    "test_image_reps = []\n",
    "\n",
    "image_list = sorted(list(test_image_dir.iterdir()))\n",
    "for image_path in tqdm(image_list):\n",
    "    image = read_image(image_path.as_posix())\n",
    "    image.requires_grad = False\n",
    "    image = resize(image, (512, 512))\n",
    "    image = image.to(torch.float) / 255\n",
    "    image_ex = image[None, :, :, :]\n",
    "    \n",
    "    test_image_reps.append(trained_model(image_ex)[0].detach().reshape((1, -1)).numpy())"
   ]
  },
  {
   "cell_type": "code",
   "execution_count": 201,
   "id": "1d4b4cc4-c178-4e22-be2e-d21b0bb5d899",
   "metadata": {
    "tags": []
   },
   "outputs": [
    {
     "data": {
      "text/html": [
       "<div>\n",
       "<style scoped>\n",
       "    .dataframe tbody tr th:only-of-type {\n",
       "        vertical-align: middle;\n",
       "    }\n",
       "\n",
       "    .dataframe tbody tr th {\n",
       "        vertical-align: top;\n",
       "    }\n",
       "\n",
       "    .dataframe thead th {\n",
       "        text-align: right;\n",
       "    }\n",
       "</style>\n",
       "<table border=\"1\" class=\"dataframe\">\n",
       "  <thead>\n",
       "    <tr style=\"text-align: right;\">\n",
       "      <th></th>\n",
       "      <th>class</th>\n",
       "      <th>x</th>\n",
       "      <th>y</th>\n",
       "      <th>width</th>\n",
       "      <th>height</th>\n",
       "      <th>frame</th>\n",
       "    </tr>\n",
       "  </thead>\n",
       "  <tbody>\n",
       "    <tr>\n",
       "      <th>0</th>\n",
       "      <td>0</td>\n",
       "      <td>0.407813</td>\n",
       "      <td>0.032870</td>\n",
       "      <td>0.014583</td>\n",
       "      <td>0.023148</td>\n",
       "      <td>000001.txt</td>\n",
       "    </tr>\n",
       "    <tr>\n",
       "      <th>1</th>\n",
       "      <td>0</td>\n",
       "      <td>0.408854</td>\n",
       "      <td>0.042130</td>\n",
       "      <td>0.014583</td>\n",
       "      <td>0.023148</td>\n",
       "      <td>000002.txt</td>\n",
       "    </tr>\n",
       "    <tr>\n",
       "      <th>2</th>\n",
       "      <td>0</td>\n",
       "      <td>0.408854</td>\n",
       "      <td>0.042130</td>\n",
       "      <td>0.014583</td>\n",
       "      <td>0.023148</td>\n",
       "      <td>000003.txt</td>\n",
       "    </tr>\n",
       "    <tr>\n",
       "      <th>3</th>\n",
       "      <td>0</td>\n",
       "      <td>0.408854</td>\n",
       "      <td>0.042130</td>\n",
       "      <td>0.014583</td>\n",
       "      <td>0.023148</td>\n",
       "      <td>000004.txt</td>\n",
       "    </tr>\n",
       "    <tr>\n",
       "      <th>4</th>\n",
       "      <td>0</td>\n",
       "      <td>0.408854</td>\n",
       "      <td>0.042130</td>\n",
       "      <td>0.014583</td>\n",
       "      <td>0.023148</td>\n",
       "      <td>000005.txt</td>\n",
       "    </tr>\n",
       "    <tr>\n",
       "      <th>...</th>\n",
       "      <td>...</td>\n",
       "      <td>...</td>\n",
       "      <td>...</td>\n",
       "      <td>...</td>\n",
       "      <td>...</td>\n",
       "      <td>...</td>\n",
       "    </tr>\n",
       "    <tr>\n",
       "      <th>1583</th>\n",
       "      <td>0</td>\n",
       "      <td>0.441406</td>\n",
       "      <td>0.814352</td>\n",
       "      <td>0.020313</td>\n",
       "      <td>0.036111</td>\n",
       "      <td>000287.txt</td>\n",
       "    </tr>\n",
       "    <tr>\n",
       "      <th>1584</th>\n",
       "      <td>0</td>\n",
       "      <td>0.437240</td>\n",
       "      <td>0.838426</td>\n",
       "      <td>0.020313</td>\n",
       "      <td>0.036111</td>\n",
       "      <td>000288.txt</td>\n",
       "    </tr>\n",
       "    <tr>\n",
       "      <th>1585</th>\n",
       "      <td>0</td>\n",
       "      <td>0.433073</td>\n",
       "      <td>0.858796</td>\n",
       "      <td>0.020313</td>\n",
       "      <td>0.036111</td>\n",
       "      <td>000289.txt</td>\n",
       "    </tr>\n",
       "    <tr>\n",
       "      <th>1586</th>\n",
       "      <td>0</td>\n",
       "      <td>0.434635</td>\n",
       "      <td>0.871759</td>\n",
       "      <td>0.011979</td>\n",
       "      <td>0.028704</td>\n",
       "      <td>000290.txt</td>\n",
       "    </tr>\n",
       "    <tr>\n",
       "      <th>1587</th>\n",
       "      <td>0</td>\n",
       "      <td>0.439844</td>\n",
       "      <td>0.879167</td>\n",
       "      <td>0.011979</td>\n",
       "      <td>0.028704</td>\n",
       "      <td>000291.txt</td>\n",
       "    </tr>\n",
       "  </tbody>\n",
       "</table>\n",
       "<p>1588 rows × 6 columns</p>\n",
       "</div>"
      ]
     },
     "execution_count": 201,
     "metadata": {},
     "output_type": "execute_result"
    }
   ],
   "source": [
    "test_labels_dir = dataset_path / \"flower02\" / \"labels\"\n",
    "all_labels_test = []\n",
    "labels_list = sorted(list(test_labels_dir.iterdir()))\n",
    "for labels_path in labels_list:\n",
    "    frame_labels = pd.read_csv(labels_path, sep=\" \", names=[\"class\", \"x\", \"y\", \"width\", \"height\"])\n",
    "    frame_labels[\"frame\"] = labels_path.name\n",
    "    all_labels_test.append(frame_labels)\n",
    "    \n",
    "all_labels_test = pd.concat(all_labels_test, ignore_index=True)\n",
    "all_labels_test"
   ]
  },
  {
   "cell_type": "code",
   "execution_count": 202,
   "id": "0543d1a7-4b18-4d0f-8536-3529a2cda92a",
   "metadata": {
    "tags": []
   },
   "outputs": [],
   "source": [
    "# Create flower counts.\n",
    "test_flower_counts = []\n",
    "for image_path in labels_list:\n",
    "    test_flower_counts.append(np.count_nonzero(all_labels_test[\"frame\"] == image_path.name))\n",
    "    \n",
    "# Any missing counts are zeros.\n",
    "for _ in range(len(test_flower_counts), len(test_image_reps)):\n",
    "    test_flower_counts.append(0)"
   ]
  },
  {
   "cell_type": "code",
   "execution_count": 203,
   "id": "1741b680-ed08-476e-9a0f-5cb5f0118805",
   "metadata": {
    "tags": []
   },
   "outputs": [],
   "source": [
    "from sklearn.model_selection import PredefinedSplit\n",
    "\n",
    "# Create combined dataset.\n",
    "all_image_reps = image_reps + test_image_reps\n",
    "all_flower_counts = flower_counts + test_flower_counts\n",
    "train_indices = [-1] * len(image_reps)\n",
    "test_indices = [0] * len(test_image_reps)\n",
    "split = PredefinedSplit(train_indices + test_indices)"
   ]
  },
  {
   "cell_type": "code",
   "execution_count": 204,
   "id": "8ca94b64-b75c-41e7-a3f3-459bd29de228",
   "metadata": {
    "tags": []
   },
   "outputs": [
    {
     "name": "stdout",
     "output_type": "stream",
     "text": [
      "2023-03-14 11:15:00,128 - py.warnings - WARNING - /home/daniel/git/self-supervised-learning/.venv/lib/python3.10/site-packages/sklearn/linear_model/_ridge.py:253: LinAlgWarning: Ill-conditioned matrix (rcond=3.24723e-09): result may not be accurate.\n",
      "  dual_coef = linalg.solve(K, y, assume_a=\"pos\", overwrite_a=False)\n",
      "\n",
      "2023-03-14 11:15:01,079 - py.warnings - WARNING - /home/daniel/git/self-supervised-learning/.venv/lib/python3.10/site-packages/sklearn/linear_model/_ridge.py:253: LinAlgWarning: Ill-conditioned matrix (rcond=3.24723e-09): result may not be accurate.\n",
      "  dual_coef = linalg.solve(K, y, assume_a=\"pos\", overwrite_a=False)\n",
      "\n",
      "2023-03-14 11:15:02,067 - py.warnings - WARNING - /home/daniel/git/self-supervised-learning/.venv/lib/python3.10/site-packages/sklearn/linear_model/_ridge.py:253: LinAlgWarning: Ill-conditioned matrix (rcond=3.24723e-09): result may not be accurate.\n",
      "  dual_coef = linalg.solve(K, y, assume_a=\"pos\", overwrite_a=False)\n",
      "\n",
      "2023-03-14 11:15:03,024 - py.warnings - WARNING - /home/daniel/git/self-supervised-learning/.venv/lib/python3.10/site-packages/sklearn/linear_model/_ridge.py:253: LinAlgWarning: Ill-conditioned matrix (rcond=3.24723e-09): result may not be accurate.\n",
      "  dual_coef = linalg.solve(K, y, assume_a=\"pos\", overwrite_a=False)\n",
      "\n",
      "2023-03-14 11:15:04,009 - py.warnings - WARNING - /home/daniel/git/self-supervised-learning/.venv/lib/python3.10/site-packages/sklearn/linear_model/_ridge.py:253: LinAlgWarning: Ill-conditioned matrix (rcond=5.01225e-09): result may not be accurate.\n",
      "  dual_coef = linalg.solve(K, y, assume_a=\"pos\", overwrite_a=False)\n",
      "\n",
      "2023-03-14 11:15:04,976 - py.warnings - WARNING - /home/daniel/git/self-supervised-learning/.venv/lib/python3.10/site-packages/sklearn/linear_model/_ridge.py:253: LinAlgWarning: Ill-conditioned matrix (rcond=7.22038e-09): result may not be accurate.\n",
      "  dual_coef = linalg.solve(K, y, assume_a=\"pos\", overwrite_a=False)\n",
      "\n",
      "2023-03-14 11:15:05,950 - py.warnings - WARNING - /home/daniel/git/self-supervised-learning/.venv/lib/python3.10/site-packages/sklearn/linear_model/_ridge.py:253: LinAlgWarning: Ill-conditioned matrix (rcond=1.08325e-08): result may not be accurate.\n",
      "  dual_coef = linalg.solve(K, y, assume_a=\"pos\", overwrite_a=False)\n",
      "\n",
      "2023-03-14 11:15:06,943 - py.warnings - WARNING - /home/daniel/git/self-supervised-learning/.venv/lib/python3.10/site-packages/sklearn/linear_model/_ridge.py:253: LinAlgWarning: Ill-conditioned matrix (rcond=1.84661e-08): result may not be accurate.\n",
      "  dual_coef = linalg.solve(K, y, assume_a=\"pos\", overwrite_a=False)\n",
      "\n",
      "2023-03-14 11:15:07,921 - py.warnings - WARNING - /home/daniel/git/self-supervised-learning/.venv/lib/python3.10/site-packages/sklearn/linear_model/_ridge.py:253: LinAlgWarning: Ill-conditioned matrix (rcond=3.40777e-08): result may not be accurate.\n",
      "  dual_coef = linalg.solve(K, y, assume_a=\"pos\", overwrite_a=False)\n",
      "\n"
     ]
    }
   ],
   "source": [
    "from sklearn.linear_model import RidgeCV, Ridge\n",
    "\n",
    "all_flower_counts = np.array(all_flower_counts, dtype=float)\n",
    "all_image_reps_arr = np.concatenate(all_image_reps, axis=0)\n",
    "\n",
    "alphas = [1e-6, 1e-4, 0.01, 0.1, 1.0, 2.0, 4.0, 8.0, 16.0, 32.0, 64.0, 128.0]\n",
    "reg_search = RidgeCV(alphas=alphas, cv=split).fit(all_image_reps_arr, all_flower_counts)\n",
    "# RidgeCV is going to go and refit on the whole dataset once it finds the best alpha, which we don't want.\n",
    "# Fit manually with the best alpha on just the training data.\n",
    "reg = Ridge(reg_search.alpha_).fit(np.concatenate(image_reps, axis=0), np.array(flower_counts))"
   ]
  },
  {
   "cell_type": "code",
   "execution_count": 205,
   "id": "23cf629c-e859-47c7-92ac-593d56789b05",
   "metadata": {
    "tags": []
   },
   "outputs": [
    {
     "data": {
      "text/html": [
       "<pre style=\"white-space:pre;overflow-x:auto;line-height:normal;font-family:Menlo,'DejaVu Sans Mono',consolas,'Courier New',monospace\">\n",
       "<span style=\"color: #800080; text-decoration-color: #800080; font-weight: bold\">array</span><span style=\"font-weight: bold\">([</span>     <span style=\"color: #008080; text-decoration-color: #008080; font-weight: bold\">1.6924</span>,      <span style=\"color: #008080; text-decoration-color: #008080; font-weight: bold\">1.8198</span>,      <span style=\"color: #008080; text-decoration-color: #008080; font-weight: bold\">1.8391</span>,      <span style=\"color: #008080; text-decoration-color: #008080; font-weight: bold\">1.8559</span>,      <span style=\"color: #008080; text-decoration-color: #008080; font-weight: bold\">1.9801</span>,      <span style=\"color: #008080; text-decoration-color: #008080; font-weight: bold\">2.0676</span>,      <span style=\"color: #008080; text-decoration-color: #008080; font-weight: bold\">1.9549</span>,      <span style=\"color: #008080; text-decoration-color: #008080; font-weight: bold\">2.0169</span>,      <span style=\"color: #008080; text-decoration-color: #008080; font-weight: bold\">2.2519</span>,      <span style=\"color: #008080; text-decoration-color: #008080; font-weight: bold\">2.6322</span>,      <span style=\"color: #008080; text-decoration-color: #008080; font-weight: bold\">2.5831</span>,      <span style=\"color: #008080; text-decoration-color: #008080; font-weight: bold\">2.5665</span>,       <span style=\"color: #008080; text-decoration-color: #008080; font-weight: bold\">2.594</span>,      <span style=\"color: #008080; text-decoration-color: #008080; font-weight: bold\">2.4063</span>,      <span style=\"color: #008080; text-decoration-color: #008080; font-weight: bold\">2.1243</span>,       <span style=\"color: #008080; text-decoration-color: #008080; font-weight: bold\">2.518</span>,       <span style=\"color: #008080; text-decoration-color: #008080; font-weight: bold\">2.748</span>,      <span style=\"color: #008080; text-decoration-color: #008080; font-weight: bold\">3.0247</span>,      <span style=\"color: #008080; text-decoration-color: #008080; font-weight: bold\">2.9599</span>,      <span style=\"color: #008080; text-decoration-color: #008080; font-weight: bold\">2.7449</span>,      <span style=\"color: #008080; text-decoration-color: #008080; font-weight: bold\">2.7372</span>,      <span style=\"color: #008080; text-decoration-color: #008080; font-weight: bold\">2.7771</span>,      <span style=\"color: #008080; text-decoration-color: #008080; font-weight: bold\">2.9823</span>,      <span style=\"color: #008080; text-decoration-color: #008080; font-weight: bold\">2.8451</span>,\n",
       "             <span style=\"color: #008080; text-decoration-color: #008080; font-weight: bold\">2.733</span>,      <span style=\"color: #008080; text-decoration-color: #008080; font-weight: bold\">3.2844</span>,      <span style=\"color: #008080; text-decoration-color: #008080; font-weight: bold\">3.2896</span>,      <span style=\"color: #008080; text-decoration-color: #008080; font-weight: bold\">3.2399</span>,      <span style=\"color: #008080; text-decoration-color: #008080; font-weight: bold\">3.4068</span>,      <span style=\"color: #008080; text-decoration-color: #008080; font-weight: bold\">3.4572</span>,      <span style=\"color: #008080; text-decoration-color: #008080; font-weight: bold\">3.5502</span>,      <span style=\"color: #008080; text-decoration-color: #008080; font-weight: bold\">3.4855</span>,      <span style=\"color: #008080; text-decoration-color: #008080; font-weight: bold\">3.5517</span>,      <span style=\"color: #008080; text-decoration-color: #008080; font-weight: bold\">3.1828</span>,      <span style=\"color: #008080; text-decoration-color: #008080; font-weight: bold\">3.0682</span>,      <span style=\"color: #008080; text-decoration-color: #008080; font-weight: bold\">3.0915</span>,      <span style=\"color: #008080; text-decoration-color: #008080; font-weight: bold\">3.1076</span>,      <span style=\"color: #008080; text-decoration-color: #008080; font-weight: bold\">3.4288</span>,      <span style=\"color: #008080; text-decoration-color: #008080; font-weight: bold\">3.6437</span>,       <span style=\"color: #008080; text-decoration-color: #008080; font-weight: bold\">3.366</span>,      <span style=\"color: #008080; text-decoration-color: #008080; font-weight: bold\">3.4762</span>,      <span style=\"color: #008080; text-decoration-color: #008080; font-weight: bold\">3.3918</span>,      <span style=\"color: #008080; text-decoration-color: #008080; font-weight: bold\">3.3209</span>,      <span style=\"color: #008080; text-decoration-color: #008080; font-weight: bold\">3.3816</span>,      <span style=\"color: #008080; text-decoration-color: #008080; font-weight: bold\">3.5456</span>,       <span style=\"color: #008080; text-decoration-color: #008080; font-weight: bold\">3.211</span>,      <span style=\"color: #008080; text-decoration-color: #008080; font-weight: bold\">3.1888</span>,      <span style=\"color: #008080; text-decoration-color: #008080; font-weight: bold\">3.2684</span>,\n",
       "            <span style=\"color: #008080; text-decoration-color: #008080; font-weight: bold\">3.2421</span>,      <span style=\"color: #008080; text-decoration-color: #008080; font-weight: bold\">3.4476</span>,      <span style=\"color: #008080; text-decoration-color: #008080; font-weight: bold\">3.4745</span>,      <span style=\"color: #008080; text-decoration-color: #008080; font-weight: bold\">3.9538</span>,      <span style=\"color: #008080; text-decoration-color: #008080; font-weight: bold\">4.1597</span>,      <span style=\"color: #008080; text-decoration-color: #008080; font-weight: bold\">4.2592</span>,      <span style=\"color: #008080; text-decoration-color: #008080; font-weight: bold\">4.5214</span>,      <span style=\"color: #008080; text-decoration-color: #008080; font-weight: bold\">4.5979</span>,      <span style=\"color: #008080; text-decoration-color: #008080; font-weight: bold\">4.5221</span>,      <span style=\"color: #008080; text-decoration-color: #008080; font-weight: bold\">4.6152</span>,      <span style=\"color: #008080; text-decoration-color: #008080; font-weight: bold\">4.5763</span>,      <span style=\"color: #008080; text-decoration-color: #008080; font-weight: bold\">5.1657</span>,      <span style=\"color: #008080; text-decoration-color: #008080; font-weight: bold\">4.9912</span>,      <span style=\"color: #008080; text-decoration-color: #008080; font-weight: bold\">5.2897</span>,      <span style=\"color: #008080; text-decoration-color: #008080; font-weight: bold\">5.3194</span>,      <span style=\"color: #008080; text-decoration-color: #008080; font-weight: bold\">5.4894</span>,      <span style=\"color: #008080; text-decoration-color: #008080; font-weight: bold\">5.3901</span>,      <span style=\"color: #008080; text-decoration-color: #008080; font-weight: bold\">5.5784</span>,        <span style=\"color: #008080; text-decoration-color: #008080; font-weight: bold\">6.05</span>,      <span style=\"color: #008080; text-decoration-color: #008080; font-weight: bold\">5.9667</span>,      <span style=\"color: #008080; text-decoration-color: #008080; font-weight: bold\">6.2408</span>,      <span style=\"color: #008080; text-decoration-color: #008080; font-weight: bold\">5.7569</span>,      <span style=\"color: #008080; text-decoration-color: #008080; font-weight: bold\">6.2338</span>,      <span style=\"color: #008080; text-decoration-color: #008080; font-weight: bold\">5.4316</span>,\n",
       "            <span style=\"color: #008080; text-decoration-color: #008080; font-weight: bold\">5.7353</span>,      <span style=\"color: #008080; text-decoration-color: #008080; font-weight: bold\">6.3581</span>,      <span style=\"color: #008080; text-decoration-color: #008080; font-weight: bold\">5.7672</span>,      <span style=\"color: #008080; text-decoration-color: #008080; font-weight: bold\">5.6639</span>,      <span style=\"color: #008080; text-decoration-color: #008080; font-weight: bold\">5.9648</span>,      <span style=\"color: #008080; text-decoration-color: #008080; font-weight: bold\">5.8422</span>,      <span style=\"color: #008080; text-decoration-color: #008080; font-weight: bold\">5.3474</span>,      <span style=\"color: #008080; text-decoration-color: #008080; font-weight: bold\">5.7125</span>,      <span style=\"color: #008080; text-decoration-color: #008080; font-weight: bold\">5.4731</span>,      <span style=\"color: #008080; text-decoration-color: #008080; font-weight: bold\">5.6215</span>,      <span style=\"color: #008080; text-decoration-color: #008080; font-weight: bold\">5.4751</span>,       <span style=\"color: #008080; text-decoration-color: #008080; font-weight: bold\">5.802</span>,      <span style=\"color: #008080; text-decoration-color: #008080; font-weight: bold\">6.0657</span>,      <span style=\"color: #008080; text-decoration-color: #008080; font-weight: bold\">5.9871</span>,      <span style=\"color: #008080; text-decoration-color: #008080; font-weight: bold\">6.1741</span>,      <span style=\"color: #008080; text-decoration-color: #008080; font-weight: bold\">5.9811</span>,      <span style=\"color: #008080; text-decoration-color: #008080; font-weight: bold\">5.9848</span>,      <span style=\"color: #008080; text-decoration-color: #008080; font-weight: bold\">5.7724</span>,      <span style=\"color: #008080; text-decoration-color: #008080; font-weight: bold\">5.6859</span>,      <span style=\"color: #008080; text-decoration-color: #008080; font-weight: bold\">5.2278</span>,      <span style=\"color: #008080; text-decoration-color: #008080; font-weight: bold\">5.4041</span>,      <span style=\"color: #008080; text-decoration-color: #008080; font-weight: bold\">5.3849</span>,      <span style=\"color: #008080; text-decoration-color: #008080; font-weight: bold\">5.3402</span>,      <span style=\"color: #008080; text-decoration-color: #008080; font-weight: bold\">4.9738</span>,\n",
       "            <span style=\"color: #008080; text-decoration-color: #008080; font-weight: bold\">4.7912</span>,      <span style=\"color: #008080; text-decoration-color: #008080; font-weight: bold\">4.6143</span>,      <span style=\"color: #008080; text-decoration-color: #008080; font-weight: bold\">4.5126</span>,      <span style=\"color: #008080; text-decoration-color: #008080; font-weight: bold\">4.7156</span>,      <span style=\"color: #008080; text-decoration-color: #008080; font-weight: bold\">4.9229</span>,      <span style=\"color: #008080; text-decoration-color: #008080; font-weight: bold\">4.5995</span>,      <span style=\"color: #008080; text-decoration-color: #008080; font-weight: bold\">5.0421</span>,      <span style=\"color: #008080; text-decoration-color: #008080; font-weight: bold\">5.1552</span>,      <span style=\"color: #008080; text-decoration-color: #008080; font-weight: bold\">4.9197</span>,      <span style=\"color: #008080; text-decoration-color: #008080; font-weight: bold\">4.8761</span>,       <span style=\"color: #008080; text-decoration-color: #008080; font-weight: bold\">5.029</span>,      <span style=\"color: #008080; text-decoration-color: #008080; font-weight: bold\">4.8514</span>,      <span style=\"color: #008080; text-decoration-color: #008080; font-weight: bold\">4.4949</span>,      <span style=\"color: #008080; text-decoration-color: #008080; font-weight: bold\">4.1833</span>,      <span style=\"color: #008080; text-decoration-color: #008080; font-weight: bold\">4.1422</span>,      <span style=\"color: #008080; text-decoration-color: #008080; font-weight: bold\">3.8414</span>,      <span style=\"color: #008080; text-decoration-color: #008080; font-weight: bold\">4.4366</span>,      <span style=\"color: #008080; text-decoration-color: #008080; font-weight: bold\">4.2215</span>,      <span style=\"color: #008080; text-decoration-color: #008080; font-weight: bold\">4.5009</span>,      <span style=\"color: #008080; text-decoration-color: #008080; font-weight: bold\">4.8429</span>,      <span style=\"color: #008080; text-decoration-color: #008080; font-weight: bold\">4.9789</span>,      <span style=\"color: #008080; text-decoration-color: #008080; font-weight: bold\">4.9084</span>,      <span style=\"color: #008080; text-decoration-color: #008080; font-weight: bold\">5.2463</span>,      <span style=\"color: #008080; text-decoration-color: #008080; font-weight: bold\">5.4233</span>,\n",
       "            <span style=\"color: #008080; text-decoration-color: #008080; font-weight: bold\">4.8877</span>,      <span style=\"color: #008080; text-decoration-color: #008080; font-weight: bold\">4.9131</span>,       <span style=\"color: #008080; text-decoration-color: #008080; font-weight: bold\">4.256</span>,      <span style=\"color: #008080; text-decoration-color: #008080; font-weight: bold\">3.9497</span>,      <span style=\"color: #008080; text-decoration-color: #008080; font-weight: bold\">3.4554</span>,      <span style=\"color: #008080; text-decoration-color: #008080; font-weight: bold\">3.3496</span>,      <span style=\"color: #008080; text-decoration-color: #008080; font-weight: bold\">3.6135</span>,      <span style=\"color: #008080; text-decoration-color: #008080; font-weight: bold\">3.4917</span>,      <span style=\"color: #008080; text-decoration-color: #008080; font-weight: bold\">3.4486</span>,      <span style=\"color: #008080; text-decoration-color: #008080; font-weight: bold\">3.5898</span>,      <span style=\"color: #008080; text-decoration-color: #008080; font-weight: bold\">3.8897</span>,      <span style=\"color: #008080; text-decoration-color: #008080; font-weight: bold\">4.3415</span>,      <span style=\"color: #008080; text-decoration-color: #008080; font-weight: bold\">4.7736</span>,      <span style=\"color: #008080; text-decoration-color: #008080; font-weight: bold\">4.7839</span>,      <span style=\"color: #008080; text-decoration-color: #008080; font-weight: bold\">4.5688</span>,      <span style=\"color: #008080; text-decoration-color: #008080; font-weight: bold\">4.4866</span>,      <span style=\"color: #008080; text-decoration-color: #008080; font-weight: bold\">4.3002</span>,      <span style=\"color: #008080; text-decoration-color: #008080; font-weight: bold\">4.7535</span>,      <span style=\"color: #008080; text-decoration-color: #008080; font-weight: bold\">4.4741</span>,      <span style=\"color: #008080; text-decoration-color: #008080; font-weight: bold\">4.0272</span>,      <span style=\"color: #008080; text-decoration-color: #008080; font-weight: bold\">4.1024</span>,      <span style=\"color: #008080; text-decoration-color: #008080; font-weight: bold\">3.9888</span>,      <span style=\"color: #008080; text-decoration-color: #008080; font-weight: bold\">3.5437</span>,      <span style=\"color: #008080; text-decoration-color: #008080; font-weight: bold\">3.4416</span>,\n",
       "             <span style=\"color: #008080; text-decoration-color: #008080; font-weight: bold\">3.173</span>,      <span style=\"color: #008080; text-decoration-color: #008080; font-weight: bold\">3.2289</span>,      <span style=\"color: #008080; text-decoration-color: #008080; font-weight: bold\">3.2174</span>,      <span style=\"color: #008080; text-decoration-color: #008080; font-weight: bold\">3.1418</span>,      <span style=\"color: #008080; text-decoration-color: #008080; font-weight: bold\">3.3667</span>,      <span style=\"color: #008080; text-decoration-color: #008080; font-weight: bold\">3.9381</span>,      <span style=\"color: #008080; text-decoration-color: #008080; font-weight: bold\">3.7031</span>,      <span style=\"color: #008080; text-decoration-color: #008080; font-weight: bold\">4.5042</span>,      <span style=\"color: #008080; text-decoration-color: #008080; font-weight: bold\">4.6313</span>,      <span style=\"color: #008080; text-decoration-color: #008080; font-weight: bold\">4.2298</span>,      <span style=\"color: #008080; text-decoration-color: #008080; font-weight: bold\">3.9373</span>,      <span style=\"color: #008080; text-decoration-color: #008080; font-weight: bold\">4.2197</span>,      <span style=\"color: #008080; text-decoration-color: #008080; font-weight: bold\">3.7028</span>,      <span style=\"color: #008080; text-decoration-color: #008080; font-weight: bold\">3.6303</span>,      <span style=\"color: #008080; text-decoration-color: #008080; font-weight: bold\">4.0152</span>,      <span style=\"color: #008080; text-decoration-color: #008080; font-weight: bold\">3.9325</span>,      <span style=\"color: #008080; text-decoration-color: #008080; font-weight: bold\">4.1615</span>,      <span style=\"color: #008080; text-decoration-color: #008080; font-weight: bold\">4.3514</span>,      <span style=\"color: #008080; text-decoration-color: #008080; font-weight: bold\">3.8635</span>,      <span style=\"color: #008080; text-decoration-color: #008080; font-weight: bold\">4.1403</span>,      <span style=\"color: #008080; text-decoration-color: #008080; font-weight: bold\">3.8619</span>,        <span style=\"color: #008080; text-decoration-color: #008080; font-weight: bold\">3.94</span>,      <span style=\"color: #008080; text-decoration-color: #008080; font-weight: bold\">4.3934</span>,      <span style=\"color: #008080; text-decoration-color: #008080; font-weight: bold\">4.7576</span>,\n",
       "            <span style=\"color: #008080; text-decoration-color: #008080; font-weight: bold\">4.3832</span>,      <span style=\"color: #008080; text-decoration-color: #008080; font-weight: bold\">4.5856</span>,      <span style=\"color: #008080; text-decoration-color: #008080; font-weight: bold\">4.9591</span>,       <span style=\"color: #008080; text-decoration-color: #008080; font-weight: bold\">4.778</span>,      <span style=\"color: #008080; text-decoration-color: #008080; font-weight: bold\">4.9169</span>,      <span style=\"color: #008080; text-decoration-color: #008080; font-weight: bold\">5.4117</span>,      <span style=\"color: #008080; text-decoration-color: #008080; font-weight: bold\">4.9228</span>,      <span style=\"color: #008080; text-decoration-color: #008080; font-weight: bold\">5.3862</span>,      <span style=\"color: #008080; text-decoration-color: #008080; font-weight: bold\">4.7266</span>,      <span style=\"color: #008080; text-decoration-color: #008080; font-weight: bold\">4.2655</span>,      <span style=\"color: #008080; text-decoration-color: #008080; font-weight: bold\">4.2419</span>,      <span style=\"color: #008080; text-decoration-color: #008080; font-weight: bold\">4.2928</span>,      <span style=\"color: #008080; text-decoration-color: #008080; font-weight: bold\">3.7235</span>,      <span style=\"color: #008080; text-decoration-color: #008080; font-weight: bold\">3.7536</span>,      <span style=\"color: #008080; text-decoration-color: #008080; font-weight: bold\">3.6274</span>,      <span style=\"color: #008080; text-decoration-color: #008080; font-weight: bold\">4.2549</span>,      <span style=\"color: #008080; text-decoration-color: #008080; font-weight: bold\">3.9464</span>,      <span style=\"color: #008080; text-decoration-color: #008080; font-weight: bold\">4.0947</span>,      <span style=\"color: #008080; text-decoration-color: #008080; font-weight: bold\">4.0708</span>,      <span style=\"color: #008080; text-decoration-color: #008080; font-weight: bold\">4.2728</span>,      <span style=\"color: #008080; text-decoration-color: #008080; font-weight: bold\">4.4639</span>,      <span style=\"color: #008080; text-decoration-color: #008080; font-weight: bold\">4.6828</span>,       <span style=\"color: #008080; text-decoration-color: #008080; font-weight: bold\">4.616</span>,      <span style=\"color: #008080; text-decoration-color: #008080; font-weight: bold\">4.6369</span>,\n",
       "            <span style=\"color: #008080; text-decoration-color: #008080; font-weight: bold\">4.5059</span>,      <span style=\"color: #008080; text-decoration-color: #008080; font-weight: bold\">4.5219</span>,      <span style=\"color: #008080; text-decoration-color: #008080; font-weight: bold\">4.6149</span>,        <span style=\"color: #008080; text-decoration-color: #008080; font-weight: bold\">3.68</span>,      <span style=\"color: #008080; text-decoration-color: #008080; font-weight: bold\">4.3243</span>,      <span style=\"color: #008080; text-decoration-color: #008080; font-weight: bold\">5.1756</span>,      <span style=\"color: #008080; text-decoration-color: #008080; font-weight: bold\">4.5578</span>,      <span style=\"color: #008080; text-decoration-color: #008080; font-weight: bold\">4.9482</span>,      <span style=\"color: #008080; text-decoration-color: #008080; font-weight: bold\">4.7937</span>,       <span style=\"color: #008080; text-decoration-color: #008080; font-weight: bold\">5.232</span>,      <span style=\"color: #008080; text-decoration-color: #008080; font-weight: bold\">4.9123</span>,      <span style=\"color: #008080; text-decoration-color: #008080; font-weight: bold\">4.7019</span>,      <span style=\"color: #008080; text-decoration-color: #008080; font-weight: bold\">5.0396</span>,      <span style=\"color: #008080; text-decoration-color: #008080; font-weight: bold\">4.7606</span>,      <span style=\"color: #008080; text-decoration-color: #008080; font-weight: bold\">4.3194</span>,      <span style=\"color: #008080; text-decoration-color: #008080; font-weight: bold\">4.1927</span>,      <span style=\"color: #008080; text-decoration-color: #008080; font-weight: bold\">4.7748</span>,      <span style=\"color: #008080; text-decoration-color: #008080; font-weight: bold\">5.2443</span>,      <span style=\"color: #008080; text-decoration-color: #008080; font-weight: bold\">5.7859</span>,      <span style=\"color: #008080; text-decoration-color: #008080; font-weight: bold\">5.9924</span>,      <span style=\"color: #008080; text-decoration-color: #008080; font-weight: bold\">5.6643</span>,      <span style=\"color: #008080; text-decoration-color: #008080; font-weight: bold\">5.5967</span>,      <span style=\"color: #008080; text-decoration-color: #008080; font-weight: bold\">5.7331</span>,      <span style=\"color: #008080; text-decoration-color: #008080; font-weight: bold\">5.2394</span>,\n",
       "            <span style=\"color: #008080; text-decoration-color: #008080; font-weight: bold\">5.2482</span>,      <span style=\"color: #008080; text-decoration-color: #008080; font-weight: bold\">4.9834</span>,      <span style=\"color: #008080; text-decoration-color: #008080; font-weight: bold\">5.5435</span>,      <span style=\"color: #008080; text-decoration-color: #008080; font-weight: bold\">5.0571</span>,      <span style=\"color: #008080; text-decoration-color: #008080; font-weight: bold\">5.2592</span>,       <span style=\"color: #008080; text-decoration-color: #008080; font-weight: bold\">5.811</span>,       <span style=\"color: #008080; text-decoration-color: #008080; font-weight: bold\">5.999</span>,      <span style=\"color: #008080; text-decoration-color: #008080; font-weight: bold\">5.5037</span>,      <span style=\"color: #008080; text-decoration-color: #008080; font-weight: bold\">5.2623</span>,      <span style=\"color: #008080; text-decoration-color: #008080; font-weight: bold\">5.3511</span>,       <span style=\"color: #008080; text-decoration-color: #008080; font-weight: bold\">5.296</span>,      <span style=\"color: #008080; text-decoration-color: #008080; font-weight: bold\">4.8624</span>,      <span style=\"color: #008080; text-decoration-color: #008080; font-weight: bold\">4.9241</span>,      <span style=\"color: #008080; text-decoration-color: #008080; font-weight: bold\">5.2452</span>,      <span style=\"color: #008080; text-decoration-color: #008080; font-weight: bold\">5.6729</span>,      <span style=\"color: #008080; text-decoration-color: #008080; font-weight: bold\">5.9596</span>,      <span style=\"color: #008080; text-decoration-color: #008080; font-weight: bold\">5.5135</span>,       <span style=\"color: #008080; text-decoration-color: #008080; font-weight: bold\">5.526</span>,      <span style=\"color: #008080; text-decoration-color: #008080; font-weight: bold\">5.8262</span>,      <span style=\"color: #008080; text-decoration-color: #008080; font-weight: bold\">5.7494</span>,      <span style=\"color: #008080; text-decoration-color: #008080; font-weight: bold\">5.3743</span>,      <span style=\"color: #008080; text-decoration-color: #008080; font-weight: bold\">5.2673</span>,      <span style=\"color: #008080; text-decoration-color: #008080; font-weight: bold\">4.9049</span>,      <span style=\"color: #008080; text-decoration-color: #008080; font-weight: bold\">4.8259</span>,\n",
       "            <span style=\"color: #008080; text-decoration-color: #008080; font-weight: bold\">4.5701</span>,      <span style=\"color: #008080; text-decoration-color: #008080; font-weight: bold\">4.7623</span>,      <span style=\"color: #008080; text-decoration-color: #008080; font-weight: bold\">4.8795</span>,      <span style=\"color: #008080; text-decoration-color: #008080; font-weight: bold\">4.8542</span>,      <span style=\"color: #008080; text-decoration-color: #008080; font-weight: bold\">4.8398</span>,      <span style=\"color: #008080; text-decoration-color: #008080; font-weight: bold\">5.3498</span>,      <span style=\"color: #008080; text-decoration-color: #008080; font-weight: bold\">4.9224</span>,       <span style=\"color: #008080; text-decoration-color: #008080; font-weight: bold\">4.519</span>,      <span style=\"color: #008080; text-decoration-color: #008080; font-weight: bold\">4.2981</span>,      <span style=\"color: #008080; text-decoration-color: #008080; font-weight: bold\">4.4281</span>,      <span style=\"color: #008080; text-decoration-color: #008080; font-weight: bold\">4.6817</span>,      <span style=\"color: #008080; text-decoration-color: #008080; font-weight: bold\">4.6138</span>,      <span style=\"color: #008080; text-decoration-color: #008080; font-weight: bold\">4.6202</span>,      <span style=\"color: #008080; text-decoration-color: #008080; font-weight: bold\">4.7636</span>,      <span style=\"color: #008080; text-decoration-color: #008080; font-weight: bold\">4.2975</span>,      <span style=\"color: #008080; text-decoration-color: #008080; font-weight: bold\">4.2098</span>,      <span style=\"color: #008080; text-decoration-color: #008080; font-weight: bold\">4.0983</span>,      <span style=\"color: #008080; text-decoration-color: #008080; font-weight: bold\">3.5589</span>,      <span style=\"color: #008080; text-decoration-color: #008080; font-weight: bold\">3.5674</span>,      <span style=\"color: #008080; text-decoration-color: #008080; font-weight: bold\">3.3014</span>,      <span style=\"color: #008080; text-decoration-color: #008080; font-weight: bold\">3.4522</span>,      <span style=\"color: #008080; text-decoration-color: #008080; font-weight: bold\">3.2316</span>,      <span style=\"color: #008080; text-decoration-color: #008080; font-weight: bold\">3.3832</span>,      <span style=\"color: #008080; text-decoration-color: #008080; font-weight: bold\">3.1741</span>,\n",
       "            <span style=\"color: #008080; text-decoration-color: #008080; font-weight: bold\">3.3512</span>,      <span style=\"color: #008080; text-decoration-color: #008080; font-weight: bold\">3.3954</span>,      <span style=\"color: #008080; text-decoration-color: #008080; font-weight: bold\">2.9876</span>,      <span style=\"color: #008080; text-decoration-color: #008080; font-weight: bold\">3.0771</span>,      <span style=\"color: #008080; text-decoration-color: #008080; font-weight: bold\">2.9341</span>,      <span style=\"color: #008080; text-decoration-color: #008080; font-weight: bold\">2.6883</span>,      <span style=\"color: #008080; text-decoration-color: #008080; font-weight: bold\">2.6697</span>,       <span style=\"color: #008080; text-decoration-color: #008080; font-weight: bold\">2.445</span>,      <span style=\"color: #008080; text-decoration-color: #008080; font-weight: bold\">2.6477</span>,      <span style=\"color: #008080; text-decoration-color: #008080; font-weight: bold\">2.0592</span>,      <span style=\"color: #008080; text-decoration-color: #008080; font-weight: bold\">2.1338</span>,      <span style=\"color: #008080; text-decoration-color: #008080; font-weight: bold\">1.8642</span>,      <span style=\"color: #008080; text-decoration-color: #008080; font-weight: bold\">2.2638</span>,      <span style=\"color: #008080; text-decoration-color: #008080; font-weight: bold\">1.5696</span>,      <span style=\"color: #008080; text-decoration-color: #008080; font-weight: bold\">1.7706</span>,      <span style=\"color: #008080; text-decoration-color: #008080; font-weight: bold\">1.6433</span>,      <span style=\"color: #008080; text-decoration-color: #008080; font-weight: bold\">1.7256</span>,      <span style=\"color: #008080; text-decoration-color: #008080; font-weight: bold\">1.6345</span>,      <span style=\"color: #008080; text-decoration-color: #008080; font-weight: bold\">1.6909</span>,      <span style=\"color: #008080; text-decoration-color: #008080; font-weight: bold\">1.7581</span>,      <span style=\"color: #008080; text-decoration-color: #008080; font-weight: bold\">1.7705</span>,      <span style=\"color: #008080; text-decoration-color: #008080; font-weight: bold\">1.6725</span>,      <span style=\"color: #008080; text-decoration-color: #008080; font-weight: bold\">1.4896</span>,     <span style=\"color: #008080; text-decoration-color: #008080; font-weight: bold\">0.97424</span>,\n",
       "           <span style=\"color: #008080; text-decoration-color: #008080; font-weight: bold\">0.80646</span>,     <span style=\"color: #008080; text-decoration-color: #008080; font-weight: bold\">0.88177</span>,     <span style=\"color: #008080; text-decoration-color: #008080; font-weight: bold\">0.85935</span>,      <span style=\"color: #008080; text-decoration-color: #008080; font-weight: bold\">1.1362</span>,     <span style=\"color: #008080; text-decoration-color: #008080; font-weight: bold\">0.68893</span>,     <span style=\"color: #008080; text-decoration-color: #008080; font-weight: bold\">0.95585</span>,     <span style=\"color: #008080; text-decoration-color: #008080; font-weight: bold\">0.96339</span>,     <span style=\"color: #008080; text-decoration-color: #008080; font-weight: bold\">0.84161</span>,     <span style=\"color: #008080; text-decoration-color: #008080; font-weight: bold\">0.39746</span>,     <span style=\"color: #008080; text-decoration-color: #008080; font-weight: bold\">0.28421</span>,     <span style=\"color: #008080; text-decoration-color: #008080; font-weight: bold\">0.30498</span>,     <span style=\"color: #008080; text-decoration-color: #008080; font-weight: bold\">0.19874</span>,     <span style=\"color: #008080; text-decoration-color: #008080; font-weight: bold\">0.48345</span>,     <span style=\"color: #008080; text-decoration-color: #008080; font-weight: bold\">0.25691</span>,     <span style=\"color: #008080; text-decoration-color: #008080; font-weight: bold\">0.14909</span>,     <span style=\"color: #008080; text-decoration-color: #008080; font-weight: bold\">0.63793</span>,      <span style=\"color: #008080; text-decoration-color: #008080; font-weight: bold\">0.4002</span>,    <span style=\"color: #008080; text-decoration-color: #008080; font-weight: bold\">0.069214</span>,     <span style=\"color: #008080; text-decoration-color: #008080; font-weight: bold\">0.47712</span>,     <span style=\"color: #008080; text-decoration-color: #008080; font-weight: bold\">0.31431</span>,     <span style=\"color: #008080; text-decoration-color: #008080; font-weight: bold\">0.48233</span>,     <span style=\"color: #008080; text-decoration-color: #008080; font-weight: bold\">0.46898</span>,     <span style=\"color: #008080; text-decoration-color: #008080; font-weight: bold\">0.66387</span>,     <span style=\"color: #008080; text-decoration-color: #008080; font-weight: bold\">0.51215</span>,\n",
       "           <span style=\"color: #008080; text-decoration-color: #008080; font-weight: bold\">0.52565</span>,     <span style=\"color: #008080; text-decoration-color: #008080; font-weight: bold\">0.84615</span>,     <span style=\"color: #008080; text-decoration-color: #008080; font-weight: bold\">0.41799</span>,     <span style=\"color: #008080; text-decoration-color: #008080; font-weight: bold\">0.46933</span>,     <span style=\"color: #008080; text-decoration-color: #008080; font-weight: bold\">0.58221</span>,      <span style=\"color: #008080; text-decoration-color: #008080; font-weight: bold\">0.6709</span>,      <span style=\"color: #008080; text-decoration-color: #008080; font-weight: bold\">0.4999</span>,    <span style=\"color: #008080; text-decoration-color: #008080; font-weight: bold\">0.073716</span>,    <span style=\"color: #008080; text-decoration-color: #008080; font-weight: bold\">0.059008</span>,   <span style=\"color: #008080; text-decoration-color: #008080; font-weight: bold\">0.0090265</span>,    <span style=\"color: #008080; text-decoration-color: #008080; font-weight: bold\">0.064883</span>,    <span style=\"color: #008080; text-decoration-color: #008080; font-weight: bold\">0.044334</span>,     <span style=\"color: #008080; text-decoration-color: #008080; font-weight: bold\">-0.1379</span>,    <span style=\"color: #008080; text-decoration-color: #008080; font-weight: bold\">0.051151</span>,     <span style=\"color: #008080; text-decoration-color: #008080; font-weight: bold\">0.10463</span>,     <span style=\"color: #008080; text-decoration-color: #008080; font-weight: bold\">0.21269</span>,     <span style=\"color: #008080; text-decoration-color: #008080; font-weight: bold\">0.56218</span>,     <span style=\"color: #008080; text-decoration-color: #008080; font-weight: bold\">0.55843</span>,     <span style=\"color: #008080; text-decoration-color: #008080; font-weight: bold\">0.66345</span>,     <span style=\"color: #008080; text-decoration-color: #008080; font-weight: bold\">0.69607</span>,     <span style=\"color: #008080; text-decoration-color: #008080; font-weight: bold\">0.91171</span><span style=\"font-weight: bold\">]</span>, <span style=\"color: #808000; text-decoration-color: #808000\">dtype</span>=<span style=\"color: #800080; text-decoration-color: #800080\">float32</span><span style=\"font-weight: bold\">)</span>\n",
       "</pre>\n"
      ],
      "text/plain": [
       "\n",
       "\u001B[1;35marray\u001B[0m\u001B[1m(\u001B[0m\u001B[1m[\u001B[0m     \u001B[1;36m1.6924\u001B[0m,      \u001B[1;36m1.8198\u001B[0m,      \u001B[1;36m1.8391\u001B[0m,      \u001B[1;36m1.8559\u001B[0m,      \u001B[1;36m1.9801\u001B[0m,      \u001B[1;36m2.0676\u001B[0m,      \u001B[1;36m1.9549\u001B[0m,      \u001B[1;36m2.0169\u001B[0m,      \u001B[1;36m2.2519\u001B[0m,      \u001B[1;36m2.6322\u001B[0m,      \u001B[1;36m2.5831\u001B[0m,      \u001B[1;36m2.5665\u001B[0m,       \u001B[1;36m2.594\u001B[0m,      \u001B[1;36m2.4063\u001B[0m,      \u001B[1;36m2.1243\u001B[0m,       \u001B[1;36m2.518\u001B[0m,       \u001B[1;36m2.748\u001B[0m,      \u001B[1;36m3.0247\u001B[0m,      \u001B[1;36m2.9599\u001B[0m,      \u001B[1;36m2.7449\u001B[0m,      \u001B[1;36m2.7372\u001B[0m,      \u001B[1;36m2.7771\u001B[0m,      \u001B[1;36m2.9823\u001B[0m,      \u001B[1;36m2.8451\u001B[0m,\n",
       "             \u001B[1;36m2.733\u001B[0m,      \u001B[1;36m3.2844\u001B[0m,      \u001B[1;36m3.2896\u001B[0m,      \u001B[1;36m3.2399\u001B[0m,      \u001B[1;36m3.4068\u001B[0m,      \u001B[1;36m3.4572\u001B[0m,      \u001B[1;36m3.5502\u001B[0m,      \u001B[1;36m3.4855\u001B[0m,      \u001B[1;36m3.5517\u001B[0m,      \u001B[1;36m3.1828\u001B[0m,      \u001B[1;36m3.0682\u001B[0m,      \u001B[1;36m3.0915\u001B[0m,      \u001B[1;36m3.1076\u001B[0m,      \u001B[1;36m3.4288\u001B[0m,      \u001B[1;36m3.6437\u001B[0m,       \u001B[1;36m3.366\u001B[0m,      \u001B[1;36m3.4762\u001B[0m,      \u001B[1;36m3.3918\u001B[0m,      \u001B[1;36m3.3209\u001B[0m,      \u001B[1;36m3.3816\u001B[0m,      \u001B[1;36m3.5456\u001B[0m,       \u001B[1;36m3.211\u001B[0m,      \u001B[1;36m3.1888\u001B[0m,      \u001B[1;36m3.2684\u001B[0m,\n",
       "            \u001B[1;36m3.2421\u001B[0m,      \u001B[1;36m3.4476\u001B[0m,      \u001B[1;36m3.4745\u001B[0m,      \u001B[1;36m3.9538\u001B[0m,      \u001B[1;36m4.1597\u001B[0m,      \u001B[1;36m4.2592\u001B[0m,      \u001B[1;36m4.5214\u001B[0m,      \u001B[1;36m4.5979\u001B[0m,      \u001B[1;36m4.5221\u001B[0m,      \u001B[1;36m4.6152\u001B[0m,      \u001B[1;36m4.5763\u001B[0m,      \u001B[1;36m5.1657\u001B[0m,      \u001B[1;36m4.9912\u001B[0m,      \u001B[1;36m5.2897\u001B[0m,      \u001B[1;36m5.3194\u001B[0m,      \u001B[1;36m5.4894\u001B[0m,      \u001B[1;36m5.3901\u001B[0m,      \u001B[1;36m5.5784\u001B[0m,        \u001B[1;36m6.05\u001B[0m,      \u001B[1;36m5.9667\u001B[0m,      \u001B[1;36m6.2408\u001B[0m,      \u001B[1;36m5.7569\u001B[0m,      \u001B[1;36m6.2338\u001B[0m,      \u001B[1;36m5.4316\u001B[0m,\n",
       "            \u001B[1;36m5.7353\u001B[0m,      \u001B[1;36m6.3581\u001B[0m,      \u001B[1;36m5.7672\u001B[0m,      \u001B[1;36m5.6639\u001B[0m,      \u001B[1;36m5.9648\u001B[0m,      \u001B[1;36m5.8422\u001B[0m,      \u001B[1;36m5.3474\u001B[0m,      \u001B[1;36m5.7125\u001B[0m,      \u001B[1;36m5.4731\u001B[0m,      \u001B[1;36m5.6215\u001B[0m,      \u001B[1;36m5.4751\u001B[0m,       \u001B[1;36m5.802\u001B[0m,      \u001B[1;36m6.0657\u001B[0m,      \u001B[1;36m5.9871\u001B[0m,      \u001B[1;36m6.1741\u001B[0m,      \u001B[1;36m5.9811\u001B[0m,      \u001B[1;36m5.9848\u001B[0m,      \u001B[1;36m5.7724\u001B[0m,      \u001B[1;36m5.6859\u001B[0m,      \u001B[1;36m5.2278\u001B[0m,      \u001B[1;36m5.4041\u001B[0m,      \u001B[1;36m5.3849\u001B[0m,      \u001B[1;36m5.3402\u001B[0m,      \u001B[1;36m4.9738\u001B[0m,\n",
       "            \u001B[1;36m4.7912\u001B[0m,      \u001B[1;36m4.6143\u001B[0m,      \u001B[1;36m4.5126\u001B[0m,      \u001B[1;36m4.7156\u001B[0m,      \u001B[1;36m4.9229\u001B[0m,      \u001B[1;36m4.5995\u001B[0m,      \u001B[1;36m5.0421\u001B[0m,      \u001B[1;36m5.1552\u001B[0m,      \u001B[1;36m4.9197\u001B[0m,      \u001B[1;36m4.8761\u001B[0m,       \u001B[1;36m5.029\u001B[0m,      \u001B[1;36m4.8514\u001B[0m,      \u001B[1;36m4.4949\u001B[0m,      \u001B[1;36m4.1833\u001B[0m,      \u001B[1;36m4.1422\u001B[0m,      \u001B[1;36m3.8414\u001B[0m,      \u001B[1;36m4.4366\u001B[0m,      \u001B[1;36m4.2215\u001B[0m,      \u001B[1;36m4.5009\u001B[0m,      \u001B[1;36m4.8429\u001B[0m,      \u001B[1;36m4.9789\u001B[0m,      \u001B[1;36m4.9084\u001B[0m,      \u001B[1;36m5.2463\u001B[0m,      \u001B[1;36m5.4233\u001B[0m,\n",
       "            \u001B[1;36m4.8877\u001B[0m,      \u001B[1;36m4.9131\u001B[0m,       \u001B[1;36m4.256\u001B[0m,      \u001B[1;36m3.9497\u001B[0m,      \u001B[1;36m3.4554\u001B[0m,      \u001B[1;36m3.3496\u001B[0m,      \u001B[1;36m3.6135\u001B[0m,      \u001B[1;36m3.4917\u001B[0m,      \u001B[1;36m3.4486\u001B[0m,      \u001B[1;36m3.5898\u001B[0m,      \u001B[1;36m3.8897\u001B[0m,      \u001B[1;36m4.3415\u001B[0m,      \u001B[1;36m4.7736\u001B[0m,      \u001B[1;36m4.7839\u001B[0m,      \u001B[1;36m4.5688\u001B[0m,      \u001B[1;36m4.4866\u001B[0m,      \u001B[1;36m4.3002\u001B[0m,      \u001B[1;36m4.7535\u001B[0m,      \u001B[1;36m4.4741\u001B[0m,      \u001B[1;36m4.0272\u001B[0m,      \u001B[1;36m4.1024\u001B[0m,      \u001B[1;36m3.9888\u001B[0m,      \u001B[1;36m3.5437\u001B[0m,      \u001B[1;36m3.4416\u001B[0m,\n",
       "             \u001B[1;36m3.173\u001B[0m,      \u001B[1;36m3.2289\u001B[0m,      \u001B[1;36m3.2174\u001B[0m,      \u001B[1;36m3.1418\u001B[0m,      \u001B[1;36m3.3667\u001B[0m,      \u001B[1;36m3.9381\u001B[0m,      \u001B[1;36m3.7031\u001B[0m,      \u001B[1;36m4.5042\u001B[0m,      \u001B[1;36m4.6313\u001B[0m,      \u001B[1;36m4.2298\u001B[0m,      \u001B[1;36m3.9373\u001B[0m,      \u001B[1;36m4.2197\u001B[0m,      \u001B[1;36m3.7028\u001B[0m,      \u001B[1;36m3.6303\u001B[0m,      \u001B[1;36m4.0152\u001B[0m,      \u001B[1;36m3.9325\u001B[0m,      \u001B[1;36m4.1615\u001B[0m,      \u001B[1;36m4.3514\u001B[0m,      \u001B[1;36m3.8635\u001B[0m,      \u001B[1;36m4.1403\u001B[0m,      \u001B[1;36m3.8619\u001B[0m,        \u001B[1;36m3.94\u001B[0m,      \u001B[1;36m4.3934\u001B[0m,      \u001B[1;36m4.7576\u001B[0m,\n",
       "            \u001B[1;36m4.3832\u001B[0m,      \u001B[1;36m4.5856\u001B[0m,      \u001B[1;36m4.9591\u001B[0m,       \u001B[1;36m4.778\u001B[0m,      \u001B[1;36m4.9169\u001B[0m,      \u001B[1;36m5.4117\u001B[0m,      \u001B[1;36m4.9228\u001B[0m,      \u001B[1;36m5.3862\u001B[0m,      \u001B[1;36m4.7266\u001B[0m,      \u001B[1;36m4.2655\u001B[0m,      \u001B[1;36m4.2419\u001B[0m,      \u001B[1;36m4.2928\u001B[0m,      \u001B[1;36m3.7235\u001B[0m,      \u001B[1;36m3.7536\u001B[0m,      \u001B[1;36m3.6274\u001B[0m,      \u001B[1;36m4.2549\u001B[0m,      \u001B[1;36m3.9464\u001B[0m,      \u001B[1;36m4.0947\u001B[0m,      \u001B[1;36m4.0708\u001B[0m,      \u001B[1;36m4.2728\u001B[0m,      \u001B[1;36m4.4639\u001B[0m,      \u001B[1;36m4.6828\u001B[0m,       \u001B[1;36m4.616\u001B[0m,      \u001B[1;36m4.6369\u001B[0m,\n",
       "            \u001B[1;36m4.5059\u001B[0m,      \u001B[1;36m4.5219\u001B[0m,      \u001B[1;36m4.6149\u001B[0m,        \u001B[1;36m3.68\u001B[0m,      \u001B[1;36m4.3243\u001B[0m,      \u001B[1;36m5.1756\u001B[0m,      \u001B[1;36m4.5578\u001B[0m,      \u001B[1;36m4.9482\u001B[0m,      \u001B[1;36m4.7937\u001B[0m,       \u001B[1;36m5.232\u001B[0m,      \u001B[1;36m4.9123\u001B[0m,      \u001B[1;36m4.7019\u001B[0m,      \u001B[1;36m5.0396\u001B[0m,      \u001B[1;36m4.7606\u001B[0m,      \u001B[1;36m4.3194\u001B[0m,      \u001B[1;36m4.1927\u001B[0m,      \u001B[1;36m4.7748\u001B[0m,      \u001B[1;36m5.2443\u001B[0m,      \u001B[1;36m5.7859\u001B[0m,      \u001B[1;36m5.9924\u001B[0m,      \u001B[1;36m5.6643\u001B[0m,      \u001B[1;36m5.5967\u001B[0m,      \u001B[1;36m5.7331\u001B[0m,      \u001B[1;36m5.2394\u001B[0m,\n",
       "            \u001B[1;36m5.2482\u001B[0m,      \u001B[1;36m4.9834\u001B[0m,      \u001B[1;36m5.5435\u001B[0m,      \u001B[1;36m5.0571\u001B[0m,      \u001B[1;36m5.2592\u001B[0m,       \u001B[1;36m5.811\u001B[0m,       \u001B[1;36m5.999\u001B[0m,      \u001B[1;36m5.5037\u001B[0m,      \u001B[1;36m5.2623\u001B[0m,      \u001B[1;36m5.3511\u001B[0m,       \u001B[1;36m5.296\u001B[0m,      \u001B[1;36m4.8624\u001B[0m,      \u001B[1;36m4.9241\u001B[0m,      \u001B[1;36m5.2452\u001B[0m,      \u001B[1;36m5.6729\u001B[0m,      \u001B[1;36m5.9596\u001B[0m,      \u001B[1;36m5.5135\u001B[0m,       \u001B[1;36m5.526\u001B[0m,      \u001B[1;36m5.8262\u001B[0m,      \u001B[1;36m5.7494\u001B[0m,      \u001B[1;36m5.3743\u001B[0m,      \u001B[1;36m5.2673\u001B[0m,      \u001B[1;36m4.9049\u001B[0m,      \u001B[1;36m4.8259\u001B[0m,\n",
       "            \u001B[1;36m4.5701\u001B[0m,      \u001B[1;36m4.7623\u001B[0m,      \u001B[1;36m4.8795\u001B[0m,      \u001B[1;36m4.8542\u001B[0m,      \u001B[1;36m4.8398\u001B[0m,      \u001B[1;36m5.3498\u001B[0m,      \u001B[1;36m4.9224\u001B[0m,       \u001B[1;36m4.519\u001B[0m,      \u001B[1;36m4.2981\u001B[0m,      \u001B[1;36m4.4281\u001B[0m,      \u001B[1;36m4.6817\u001B[0m,      \u001B[1;36m4.6138\u001B[0m,      \u001B[1;36m4.6202\u001B[0m,      \u001B[1;36m4.7636\u001B[0m,      \u001B[1;36m4.2975\u001B[0m,      \u001B[1;36m4.2098\u001B[0m,      \u001B[1;36m4.0983\u001B[0m,      \u001B[1;36m3.5589\u001B[0m,      \u001B[1;36m3.5674\u001B[0m,      \u001B[1;36m3.3014\u001B[0m,      \u001B[1;36m3.4522\u001B[0m,      \u001B[1;36m3.2316\u001B[0m,      \u001B[1;36m3.3832\u001B[0m,      \u001B[1;36m3.1741\u001B[0m,\n",
       "            \u001B[1;36m3.3512\u001B[0m,      \u001B[1;36m3.3954\u001B[0m,      \u001B[1;36m2.9876\u001B[0m,      \u001B[1;36m3.0771\u001B[0m,      \u001B[1;36m2.9341\u001B[0m,      \u001B[1;36m2.6883\u001B[0m,      \u001B[1;36m2.6697\u001B[0m,       \u001B[1;36m2.445\u001B[0m,      \u001B[1;36m2.6477\u001B[0m,      \u001B[1;36m2.0592\u001B[0m,      \u001B[1;36m2.1338\u001B[0m,      \u001B[1;36m1.8642\u001B[0m,      \u001B[1;36m2.2638\u001B[0m,      \u001B[1;36m1.5696\u001B[0m,      \u001B[1;36m1.7706\u001B[0m,      \u001B[1;36m1.6433\u001B[0m,      \u001B[1;36m1.7256\u001B[0m,      \u001B[1;36m1.6345\u001B[0m,      \u001B[1;36m1.6909\u001B[0m,      \u001B[1;36m1.7581\u001B[0m,      \u001B[1;36m1.7705\u001B[0m,      \u001B[1;36m1.6725\u001B[0m,      \u001B[1;36m1.4896\u001B[0m,     \u001B[1;36m0.97424\u001B[0m,\n",
       "           \u001B[1;36m0.80646\u001B[0m,     \u001B[1;36m0.88177\u001B[0m,     \u001B[1;36m0.85935\u001B[0m,      \u001B[1;36m1.1362\u001B[0m,     \u001B[1;36m0.68893\u001B[0m,     \u001B[1;36m0.95585\u001B[0m,     \u001B[1;36m0.96339\u001B[0m,     \u001B[1;36m0.84161\u001B[0m,     \u001B[1;36m0.39746\u001B[0m,     \u001B[1;36m0.28421\u001B[0m,     \u001B[1;36m0.30498\u001B[0m,     \u001B[1;36m0.19874\u001B[0m,     \u001B[1;36m0.48345\u001B[0m,     \u001B[1;36m0.25691\u001B[0m,     \u001B[1;36m0.14909\u001B[0m,     \u001B[1;36m0.63793\u001B[0m,      \u001B[1;36m0.4002\u001B[0m,    \u001B[1;36m0.069214\u001B[0m,     \u001B[1;36m0.47712\u001B[0m,     \u001B[1;36m0.31431\u001B[0m,     \u001B[1;36m0.48233\u001B[0m,     \u001B[1;36m0.46898\u001B[0m,     \u001B[1;36m0.66387\u001B[0m,     \u001B[1;36m0.51215\u001B[0m,\n",
       "           \u001B[1;36m0.52565\u001B[0m,     \u001B[1;36m0.84615\u001B[0m,     \u001B[1;36m0.41799\u001B[0m,     \u001B[1;36m0.46933\u001B[0m,     \u001B[1;36m0.58221\u001B[0m,      \u001B[1;36m0.6709\u001B[0m,      \u001B[1;36m0.4999\u001B[0m,    \u001B[1;36m0.073716\u001B[0m,    \u001B[1;36m0.059008\u001B[0m,   \u001B[1;36m0.0090265\u001B[0m,    \u001B[1;36m0.064883\u001B[0m,    \u001B[1;36m0.044334\u001B[0m,     \u001B[1;36m-0.1379\u001B[0m,    \u001B[1;36m0.051151\u001B[0m,     \u001B[1;36m0.10463\u001B[0m,     \u001B[1;36m0.21269\u001B[0m,     \u001B[1;36m0.56218\u001B[0m,     \u001B[1;36m0.55843\u001B[0m,     \u001B[1;36m0.66345\u001B[0m,     \u001B[1;36m0.69607\u001B[0m,     \u001B[1;36m0.91171\u001B[0m\u001B[1m]\u001B[0m, \u001B[33mdtype\u001B[0m=\u001B[35mfloat32\u001B[0m\u001B[1m)\u001B[0m\n"
      ]
     },
     "metadata": {},
     "output_type": "display_data"
    }
   ],
   "source": [
    "test_image_reps_arr = np.concatenate(test_image_reps, axis=0)\n",
    "test_preds = reg.predict(test_image_reps_arr)\n",
    "test_preds"
   ]
  },
  {
   "cell_type": "code",
   "execution_count": 206,
   "id": "e0ba65bb-ddf2-45f3-a121-b66e8fbe3224",
   "metadata": {
    "tags": []
   },
   "outputs": [
    {
     "data": {
      "text/html": [
       "<pre style=\"white-space:pre;overflow-x:auto;line-height:normal;font-family:Menlo,'DejaVu Sans Mono',consolas,'Courier New',monospace\"><span style=\"color: #008080; text-decoration-color: #008080; font-weight: bold\">1.5237297542818315</span>\n",
       "</pre>\n"
      ],
      "text/plain": [
       "\u001B[1;36m1.5237297542818315\u001B[0m\n"
      ]
     },
     "metadata": {},
     "output_type": "display_data"
    }
   ],
   "source": [
    "errors = test_preds - test_flower_counts\n",
    "np.mean(np.abs(errors))"
   ]
  },
  {
   "cell_type": "code",
   "execution_count": 207,
   "id": "2e929358-790f-4dd5-bb00-6e35baf2838b",
   "metadata": {
    "tags": []
   },
   "outputs": [
    {
     "name": "stdout",
     "output_type": "stream",
     "text": [
      "2023-03-14 11:15:18,529 - py.warnings - WARNING - /home/daniel/git/self-supervised-learning/.venv/lib/python3.10/site-packages/seaborn/rcmod.py:400: DeprecationWarning: distutils Version classes are deprecated. Use packaging.version instead.\n",
      "  if LooseVersion(mpl.__version__) >= \"3.0\":\n",
      "\n",
      "2023-03-14 11:15:18,530 - py.warnings - WARNING - /home/daniel/git/self-supervised-learning/.venv/lib/python3.10/site-packages/setuptools/_distutils/version.py:346: DeprecationWarning: distutils Version classes are deprecated. Use packaging.version instead.\n",
      "  other = LooseVersion(other)\n",
      "\n"
     ]
    },
    {
     "data": {
      "image/png": "[encoded data removed]"
     },
     "metadata": {},
     "output_type": "display_data"
    }
   ],
   "source": [
    "%matplotlib inline\n",
    "import seaborn as sns\n",
    "import matplotlib.pyplot as plt\n",
    "\n",
    "sns.set()\n",
    "\n",
    "sns.regplot(x=test_preds, y=test_flower_counts)\n",
    "plt.show()"
   ]
  },
  {
   "cell_type": "code",
   "execution_count": 208,
   "id": "edbe2b6a-40f5-457c-98b9-80735eef556c",
   "metadata": {},
   "outputs": [
    {
     "data": {
      "image/png": "[encoded data removed]"
     },
     "metadata": {},
     "output_type": "display_data"
    }
   ],
   "source": [
    "sns.histplot(x=errors)"
   ]
  },
  {
   "cell_type": "code",
   "execution_count": 209,
   "id": "eca935db-8542-4b2a-93e9-9e88eae781ea",
   "metadata": {},
   "outputs": [
    {
     "data": {
      "text/html": [
       "<pre style=\"white-space:pre;overflow-x:auto;line-height:normal;font-family:Menlo,'DejaVu Sans Mono',consolas,'Courier New',monospace\"><span style=\"color: #008080; text-decoration-color: #008080; font-weight: bold\">149.14087300267488</span>\n",
       "</pre>\n"
      ],
      "text/plain": [
       "\u001B[1;36m149.14087300267488\u001B[0m\n"
      ]
     },
     "metadata": {},
     "output_type": "display_data"
    }
   ],
   "source": [
    "import numpy as np\n",
    "\n",
    "# Use the coefficient of variation of the differences between frames to provide a measure of \"smoothness\".\n",
    "gt_diff = np.diff(test_flower_counts)\n",
    "gt_smoothness = np.std(gt_diff) / np.abs(np.mean(gt_diff))\n",
    "gt_smoothness"
   ]
  },
  {
   "cell_type": "code",
   "execution_count": 210,
   "id": "4184c156-a024-42ce-8bb0-b1a81f1480ea",
   "metadata": {
    "tags": []
   },
   "outputs": [
    {
     "data": {
      "text/html": [
       "<pre style=\"white-space:pre;overflow-x:auto;line-height:normal;font-family:Menlo,'DejaVu Sans Mono',consolas,'Courier New',monospace\"><span style=\"color: #008080; text-decoration-color: #008080; font-weight: bold\">124.59188</span>\n",
       "</pre>\n"
      ],
      "text/plain": [
       "\u001B[1;36m124.59188\u001B[0m\n"
      ]
     },
     "metadata": {},
     "output_type": "display_data"
    }
   ],
   "source": [
    "pred_diff = np.diff(test_preds)\n",
    "pred_smoothness = np.std(pred_diff) / np.abs(np.mean(pred_diff))\n",
    "pred_smoothness"
   ]
  },
  {
   "cell_type": "code",
   "execution_count": 211,
   "id": "da4ca9a6-95c7-4cf8-b188-12ab036b7aa4",
   "metadata": {
    "tags": []
   },
   "outputs": [
    {
     "data": {
      "text/html": [
       "<pre style=\"white-space:pre;overflow-x:auto;line-height:normal;font-family:Menlo,'DejaVu Sans Mono',consolas,'Courier New',monospace\"><span style=\"color: #008080; text-decoration-color: #008080; font-weight: bold\">3826.997</span>\n",
       "</pre>\n"
      ],
      "text/plain": [
       "\u001B[1;36m3826.997\u001B[0m\n"
      ]
     },
     "metadata": {},
     "output_type": "display_data"
    }
   ],
   "source": [
    "reps_diff = np.diff(test_image_reps_arr, axis=0)\n",
    "reps_smoothness = np.std(reps_diff, axis=0) / np.abs(np.mean(reps_diff, axis=0))\n",
    "np.mean(reps_smoothness)"
   ]
  },
  {
   "cell_type": "code",
   "execution_count": null,
   "id": "188b9381-72fe-4df0-b337-be48cca9c078",
   "metadata": {},
   "outputs": [],
   "source": []
  }
 ],
 "metadata": {
  "kernelspec": {
   "display_name": "Kedro (self_supervised)",
   "language": "python",
   "name": "kedro_self_supervised"
  },
  "language_info": {
   "codemirror_mode": {
    "name": "ipython",
    "version": 3
   },
   "file_extension": ".py",
   "mimetype": "text/x-python",
   "name": "python",
   "nbconvert_exporter": "python",
   "pygments_lexer": "ipython3",
   "version": "3.10.10"
  }
 },
 "nbformat": 4,
 "nbformat_minor": 5
}
