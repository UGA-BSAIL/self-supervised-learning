{
 "cells": [
  {
   "cell_type": "code",
   "execution_count": 68,
   "id": "acfda911-ae74-4318-a246-949fe66cdd10",
   "metadata": {
    "tags": []
   },
   "outputs": [
    {
     "name": "stdout",
     "output_type": "stream",
     "text": [
      "2023-03-13 10:21:29,967 - kedro.ipython - INFO - Resolved project path as: /home/daniel/git/self-supervised-learning.\n",
      "To set a different path, run '%reload_kedro <project_root>'\n",
      "2023-03-13 10:21:29,971 - py.warnings - WARNING - /home/daniel/git/self-supervised-learning/.venv/lib/python3.10/site-packages/kedro/framework/startup.py:98: DeprecationWarning: project_version in pyproject.toml is deprecated, use kedro_init_version instead\n",
      "  warnings.warn(\n",
      "\n",
      "2023-03-13 10:21:30,074 - kedro.ipython - INFO - Kedro project Self-Supervised Learning\n",
      "2023-03-13 10:21:30,074 - kedro.ipython - INFO - Defined global variable 'context', 'session', 'catalog' and 'pipelines'\n",
      "2023-03-13 10:21:30,079 - kedro.io.data_catalog - INFO - Loading data from 'yolov5_l_description' (YAMLDataSet)...\n",
      "2023-03-13 10:21:30,084 - kedro.io.data_catalog - INFO - Loading data from 'trained_model' (PytorchModelDataSet)...\n"
     ]
    },
    {
     "name": "stderr",
     "output_type": "stream",
     "text": [
      "2023-03-13 10:21:30.085 | WARNING  | self_supervised.extras.datasets.pytorch_model_data_set:_load:42 - CUDA not available, automatically mapping variables to the CPU.\n"
     ]
    }
   ],
   "source": [
    "from self_supervised.pipelines.representation_model import RepresentationModel, YoloEncoder\n",
    "from yolov5.models.yolo import DetectionModel\n",
    "import torch\n",
    "\n",
    "%reload_kedro\n",
    "model_description = catalog.load(\"yolov5_l_description\")\n",
    "trained_model = catalog.load(\"trained_model\")\n",
    "\n",
    "# Random model\n",
    "#encoder = YoloEncoder(model_description=model_description)\n",
    "#trained_model = RepresentationModel(encoder=encoder)\n",
    "\n",
    "# CoCO model\n",
    "#model_description[\"head\"] = model_description[\"head\"][:-1]\n",
    "#trained_model = DetectionModel(model_description)\n",
    "#weights_model = torch.load(\"../yolov5l.pt\", map_location=\"cpu\")\n",
    "#state_dict = weights_model[\"model\"].float().state_dict()\n",
    "#trained_model.load_state_dict(state_dict, strict=False)\n",
    "\n",
    "trained_model = trained_model.encoder\n",
    "trained_model = trained_model.eval()"
   ]
  },
  {
   "cell_type": "code",
   "execution_count": 69,
   "id": "c1878dbc-46f2-463f-b313-6dc1aed75b69",
   "metadata": {
    "tags": []
   },
   "outputs": [],
   "source": [
    "from pathlib import Path\n",
    "\n",
    "dataset_path = Path(\"/home/daniel/lab_share/projects/CottonFlower2021/flower_dataset\")\n",
    "image_dir = dataset_path / \"active_1\" / \"images\""
   ]
  },
  {
   "cell_type": "code",
   "execution_count": 70,
   "id": "5a67e6c7-88c4-40b3-a33d-1a67a76f0d5f",
   "metadata": {
    "tags": []
   },
   "outputs": [
    {
     "name": "stderr",
     "output_type": "stream",
     "text": [
      "100%|████████████████████████████████████████████████████| 160/160 [00:22<00:00,  7.03it/s]\n"
     ]
    }
   ],
   "source": [
    "from torchvision.io import read_image\n",
    "from torchvision.transforms.functional import resize\n",
    "from tqdm import tqdm\n",
    "import torch\n",
    "\n",
    "image_reps = []\n",
    "\n",
    "image_list = sorted(list(image_dir.iterdir()))\n",
    "for image_path in tqdm(image_list):\n",
    "    image = read_image(image_path.as_posix())\n",
    "    image.requires_grad = False\n",
    "    image = resize(image, (512, 512))\n",
    "    image = image.to(torch.float) / 255\n",
    "    image_ex = image[None, :, :, :]\n",
    "    \n",
    "    image_reps.append(trained_model(image_ex)[0].detach().reshape((1, -1)).numpy())"
   ]
  },
  {
   "cell_type": "code",
   "execution_count": 71,
   "id": "43808fe8-1319-464a-8977-4e7f42db135f",
   "metadata": {
    "tags": []
   },
   "outputs": [
    {
     "data": {
      "text/html": [
       "<div>\n",
       "<style scoped>\n",
       "    .dataframe tbody tr th:only-of-type {\n",
       "        vertical-align: middle;\n",
       "    }\n",
       "\n",
       "    .dataframe tbody tr th {\n",
       "        vertical-align: top;\n",
       "    }\n",
       "\n",
       "    .dataframe thead th {\n",
       "        text-align: right;\n",
       "    }\n",
       "</style>\n",
       "<table border=\"1\" class=\"dataframe\">\n",
       "  <thead>\n",
       "    <tr style=\"text-align: right;\">\n",
       "      <th></th>\n",
       "      <th>class</th>\n",
       "      <th>x</th>\n",
       "      <th>y</th>\n",
       "      <th>width</th>\n",
       "      <th>height</th>\n",
       "      <th>frame</th>\n",
       "    </tr>\n",
       "  </thead>\n",
       "  <tbody>\n",
       "    <tr>\n",
       "      <th>0</th>\n",
       "      <td>0</td>\n",
       "      <td>0.386324</td>\n",
       "      <td>0.308469</td>\n",
       "      <td>0.030488</td>\n",
       "      <td>0.046636</td>\n",
       "      <td>p0_P1090018.txt</td>\n",
       "    </tr>\n",
       "    <tr>\n",
       "      <th>1</th>\n",
       "      <td>0</td>\n",
       "      <td>0.284843</td>\n",
       "      <td>0.252320</td>\n",
       "      <td>0.026132</td>\n",
       "      <td>0.038283</td>\n",
       "      <td>p0_P1090081.txt</td>\n",
       "    </tr>\n",
       "    <tr>\n",
       "      <th>2</th>\n",
       "      <td>0</td>\n",
       "      <td>0.448606</td>\n",
       "      <td>0.327726</td>\n",
       "      <td>0.013937</td>\n",
       "      <td>0.029002</td>\n",
       "      <td>p0_P1090300.txt</td>\n",
       "    </tr>\n",
       "    <tr>\n",
       "      <th>3</th>\n",
       "      <td>0</td>\n",
       "      <td>0.138937</td>\n",
       "      <td>0.221578</td>\n",
       "      <td>0.023519</td>\n",
       "      <td>0.032483</td>\n",
       "      <td>p0_P1090300.txt</td>\n",
       "    </tr>\n",
       "    <tr>\n",
       "      <th>4</th>\n",
       "      <td>0</td>\n",
       "      <td>0.030488</td>\n",
       "      <td>0.099768</td>\n",
       "      <td>0.024390</td>\n",
       "      <td>0.034803</td>\n",
       "      <td>p0_P1090300.txt</td>\n",
       "    </tr>\n",
       "    <tr>\n",
       "      <th>...</th>\n",
       "      <td>...</td>\n",
       "      <td>...</td>\n",
       "      <td>...</td>\n",
       "      <td>...</td>\n",
       "      <td>...</td>\n",
       "      <td>...</td>\n",
       "    </tr>\n",
       "    <tr>\n",
       "      <th>300</th>\n",
       "      <td>0</td>\n",
       "      <td>0.309612</td>\n",
       "      <td>0.294762</td>\n",
       "      <td>0.010253</td>\n",
       "      <td>0.014188</td>\n",
       "      <td>p9_P1680757.txt</td>\n",
       "    </tr>\n",
       "    <tr>\n",
       "      <th>301</th>\n",
       "      <td>0</td>\n",
       "      <td>0.365584</td>\n",
       "      <td>0.297645</td>\n",
       "      <td>0.009460</td>\n",
       "      <td>0.017842</td>\n",
       "      <td>p9_P1680757.txt</td>\n",
       "    </tr>\n",
       "    <tr>\n",
       "      <th>302</th>\n",
       "      <td>0</td>\n",
       "      <td>0.500000</td>\n",
       "      <td>0.379350</td>\n",
       "      <td>0.013937</td>\n",
       "      <td>0.016241</td>\n",
       "      <td>p9_P1680757.txt</td>\n",
       "    </tr>\n",
       "    <tr>\n",
       "      <th>303</th>\n",
       "      <td>0</td>\n",
       "      <td>0.908537</td>\n",
       "      <td>0.736079</td>\n",
       "      <td>0.012195</td>\n",
       "      <td>0.017401</td>\n",
       "      <td>p9_P1680757.txt</td>\n",
       "    </tr>\n",
       "    <tr>\n",
       "      <th>304</th>\n",
       "      <td>0</td>\n",
       "      <td>0.827539</td>\n",
       "      <td>0.119165</td>\n",
       "      <td>0.013406</td>\n",
       "      <td>0.016798</td>\n",
       "      <td>p9_P1780789.txt</td>\n",
       "    </tr>\n",
       "  </tbody>\n",
       "</table>\n",
       "<p>305 rows × 6 columns</p>\n",
       "</div>"
      ]
     },
     "execution_count": 71,
     "metadata": {},
     "output_type": "execute_result"
    }
   ],
   "source": [
    "# Load flower counts.\n",
    "import pandas as pd\n",
    "\n",
    "labels_dir = dataset_path / \"active_1\" / \"labels\"\n",
    "all_labels = []\n",
    "labels_list = sorted(list(labels_dir.iterdir()))\n",
    "for labels_path in labels_list:\n",
    "    frame_labels = pd.read_csv(labels_path, sep=\" \", names=[\"class\", \"x\", \"y\", \"width\", \"height\"])\n",
    "    frame_labels[\"frame\"] = labels_path.name\n",
    "    all_labels.append(frame_labels)\n",
    "    \n",
    "all_labels = pd.concat(all_labels, ignore_index=True)\n",
    "all_labels"
   ]
  },
  {
   "cell_type": "code",
   "execution_count": 72,
   "id": "96a261b8-3343-4c52-a567-4a94fcbc3964",
   "metadata": {
    "tags": []
   },
   "outputs": [],
   "source": [
    "import numpy as np\n",
    "\n",
    "# Create flower counts labels.\n",
    "flower_counts = []\n",
    "for image_path in labels_list:\n",
    "    flower_counts.append(np.count_nonzero(all_labels[\"frame\"] == image_path.name))\n",
    "    \n",
    "# Any missing counts are zeros.\n",
    "for _ in range(len(flower_counts), len(image_reps)):\n",
    "    flower_counts.append(0)"
   ]
  },
  {
   "cell_type": "code",
   "execution_count": 73,
   "id": "8cd84dd2-fc0b-482e-b69a-7bed0e95f7e5",
   "metadata": {
    "tags": []
   },
   "outputs": [
    {
     "name": "stderr",
     "output_type": "stream",
     "text": [
      "100%|████████████████████████████████████████████████████| 160/160 [00:23<00:00,  6.87it/s]\n"
     ]
    }
   ],
   "source": [
    "test_image_dir = dataset_path / \"2018-08-22\" / \"images\"\n",
    "\n",
    "test_image_reps = []\n",
    "\n",
    "image_list = sorted(list(test_image_dir.iterdir()))\n",
    "for image_path in tqdm(image_list):\n",
    "    image = read_image(image_path.as_posix())\n",
    "    image.requires_grad = False\n",
    "    image = resize(image, (512, 512))\n",
    "    image = image.to(torch.float) / 255\n",
    "    image_ex = image[None, :, :, :]\n",
    "    \n",
    "    test_image_reps.append(trained_model(image_ex)[0].detach().reshape((1, -1)).numpy())"
   ]
  },
  {
   "cell_type": "code",
   "execution_count": 74,
   "id": "1d4b4cc4-c178-4e22-be2e-d21b0bb5d899",
   "metadata": {
    "tags": []
   },
   "outputs": [
    {
     "data": {
      "text/html": [
       "<div>\n",
       "<style scoped>\n",
       "    .dataframe tbody tr th:only-of-type {\n",
       "        vertical-align: middle;\n",
       "    }\n",
       "\n",
       "    .dataframe tbody tr th {\n",
       "        vertical-align: top;\n",
       "    }\n",
       "\n",
       "    .dataframe thead th {\n",
       "        text-align: right;\n",
       "    }\n",
       "</style>\n",
       "<table border=\"1\" class=\"dataframe\">\n",
       "  <thead>\n",
       "    <tr style=\"text-align: right;\">\n",
       "      <th></th>\n",
       "      <th>class</th>\n",
       "      <th>x</th>\n",
       "      <th>y</th>\n",
       "      <th>width</th>\n",
       "      <th>height</th>\n",
       "      <th>frame</th>\n",
       "    </tr>\n",
       "  </thead>\n",
       "  <tbody>\n",
       "    <tr>\n",
       "      <th>0</th>\n",
       "      <td>0</td>\n",
       "      <td>0.414497</td>\n",
       "      <td>0.818287</td>\n",
       "      <td>0.039062</td>\n",
       "      <td>0.046296</td>\n",
       "      <td>p0_P2530585.txt</td>\n",
       "    </tr>\n",
       "    <tr>\n",
       "      <th>1</th>\n",
       "      <td>0</td>\n",
       "      <td>0.245660</td>\n",
       "      <td>0.649884</td>\n",
       "      <td>0.019097</td>\n",
       "      <td>0.028935</td>\n",
       "      <td>p0_P2530668.txt</td>\n",
       "    </tr>\n",
       "    <tr>\n",
       "      <th>2</th>\n",
       "      <td>0</td>\n",
       "      <td>0.636719</td>\n",
       "      <td>0.209491</td>\n",
       "      <td>0.018229</td>\n",
       "      <td>0.025463</td>\n",
       "      <td>p0_P2530668.txt</td>\n",
       "    </tr>\n",
       "    <tr>\n",
       "      <th>3</th>\n",
       "      <td>0</td>\n",
       "      <td>0.827691</td>\n",
       "      <td>0.566551</td>\n",
       "      <td>0.019965</td>\n",
       "      <td>0.026620</td>\n",
       "      <td>p0_P2530668.txt</td>\n",
       "    </tr>\n",
       "    <tr>\n",
       "      <th>4</th>\n",
       "      <td>0</td>\n",
       "      <td>0.392734</td>\n",
       "      <td>0.709734</td>\n",
       "      <td>0.022448</td>\n",
       "      <td>0.033588</td>\n",
       "      <td>p0_P2530668.txt</td>\n",
       "    </tr>\n",
       "    <tr>\n",
       "      <th>...</th>\n",
       "      <td>...</td>\n",
       "      <td>...</td>\n",
       "      <td>...</td>\n",
       "      <td>...</td>\n",
       "      <td>...</td>\n",
       "      <td>...</td>\n",
       "    </tr>\n",
       "    <tr>\n",
       "      <th>382</th>\n",
       "      <td>0</td>\n",
       "      <td>0.053385</td>\n",
       "      <td>0.823495</td>\n",
       "      <td>0.021701</td>\n",
       "      <td>0.028935</td>\n",
       "      <td>p9_P2540369.txt</td>\n",
       "    </tr>\n",
       "    <tr>\n",
       "      <th>383</th>\n",
       "      <td>0</td>\n",
       "      <td>0.441840</td>\n",
       "      <td>0.266204</td>\n",
       "      <td>0.019097</td>\n",
       "      <td>0.025463</td>\n",
       "      <td>p9_P2540369.txt</td>\n",
       "    </tr>\n",
       "    <tr>\n",
       "      <th>384</th>\n",
       "      <td>0</td>\n",
       "      <td>0.533854</td>\n",
       "      <td>0.799769</td>\n",
       "      <td>0.032986</td>\n",
       "      <td>0.041667</td>\n",
       "      <td>p9_P2540420.txt</td>\n",
       "    </tr>\n",
       "    <tr>\n",
       "      <th>385</th>\n",
       "      <td>0</td>\n",
       "      <td>0.404948</td>\n",
       "      <td>0.767361</td>\n",
       "      <td>0.019965</td>\n",
       "      <td>0.025463</td>\n",
       "      <td>p9_P2540420.txt</td>\n",
       "    </tr>\n",
       "    <tr>\n",
       "      <th>386</th>\n",
       "      <td>0</td>\n",
       "      <td>0.343316</td>\n",
       "      <td>0.987269</td>\n",
       "      <td>0.016493</td>\n",
       "      <td>0.025463</td>\n",
       "      <td>p9_P2540420.txt</td>\n",
       "    </tr>\n",
       "  </tbody>\n",
       "</table>\n",
       "<p>387 rows × 6 columns</p>\n",
       "</div>"
      ]
     },
     "execution_count": 74,
     "metadata": {},
     "output_type": "execute_result"
    }
   ],
   "source": [
    "test_labels_dir = dataset_path / \"2018-08-22\" / \"labels\"\n",
    "all_labels_test = []\n",
    "labels_list = sorted(list(test_labels_dir.iterdir()))\n",
    "for labels_path in labels_list:\n",
    "    frame_labels = pd.read_csv(labels_path, sep=\" \", names=[\"class\", \"x\", \"y\", \"width\", \"height\"])\n",
    "    frame_labels[\"frame\"] = labels_path.name\n",
    "    all_labels_test.append(frame_labels)\n",
    "    \n",
    "all_labels_test = pd.concat(all_labels_test, ignore_index=True)\n",
    "all_labels_test"
   ]
  },
  {
   "cell_type": "code",
   "execution_count": 75,
   "id": "0543d1a7-4b18-4d0f-8536-3529a2cda92a",
   "metadata": {
    "tags": []
   },
   "outputs": [],
   "source": [
    "# Create flower counts.\n",
    "test_flower_counts = []\n",
    "for image_path in labels_list:\n",
    "    test_flower_counts.append(np.count_nonzero(all_labels_test[\"frame\"] == image_path.name))\n",
    "    \n",
    "# Any missing counts are zeros.\n",
    "for _ in range(len(test_flower_counts), len(test_image_reps)):\n",
    "    test_flower_counts.append(0)"
   ]
  },
  {
   "cell_type": "code",
   "execution_count": 76,
   "id": "1741b680-ed08-476e-9a0f-5cb5f0118805",
   "metadata": {
    "tags": []
   },
   "outputs": [],
   "source": [
    "# Create combined dataset.\n",
    "all_image_reps = image_reps + test_image_reps\n",
    "all_flower_counts = flower_counts + test_flower_counts\n",
    "train_indices = np.arange(len(image_reps))\n",
    "test_indices = np.arange(len(image_reps), len(all_image_reps))"
   ]
  },
  {
   "cell_type": "code",
   "execution_count": 77,
   "id": "8ca94b64-b75c-41e7-a3f3-459bd29de228",
   "metadata": {
    "tags": []
   },
   "outputs": [
    {
     "name": "stdout",
     "output_type": "stream",
     "text": [
      "2023-03-13 10:23:03,938 - py.warnings - WARNING - /home/daniel/git/self-supervised-learning/.venv/lib/python3.10/site-packages/sklearn/linear_model/_ridge.py:253: LinAlgWarning: Ill-conditioned matrix (rcond=2.41405e-08): result may not be accurate.\n",
      "  dual_coef = linalg.solve(K, y, assume_a=\"pos\", overwrite_a=False)\n",
      "\n"
     ]
    }
   ],
   "source": [
    "from sklearn.linear_model import RidgeCV\n",
    "\n",
    "all_flower_counts = np.array(all_flower_counts, dtype=float)\n",
    "all_image_reps_arr = np.concatenate(all_image_reps, axis=0)\n",
    "\n",
    "alphas = [1e-6, 1e-4, 0.01, 0.1, 1.0, 2.0, 4.0, 8.0, 16.0, 32.0, 64.0, 128.0]\n",
    "reg = RidgeCV(alphas=alphas, cv=((train_indices, test_indices),)).fit(all_image_reps_arr, all_flower_counts)"
   ]
  },
  {
   "cell_type": "code",
   "execution_count": 78,
   "id": "23cf629c-e859-47c7-92ac-593d56789b05",
   "metadata": {
    "tags": []
   },
   "outputs": [
    {
     "data": {
      "text/html": [
       "<pre style=\"white-space:pre;overflow-x:auto;line-height:normal;font-family:Menlo,'DejaVu Sans Mono',consolas,'Courier New',monospace\">\n",
       "<span style=\"color: #800080; text-decoration-color: #800080; font-weight: bold\">array</span><span style=\"font-weight: bold\">([</span>     <span style=\"color: #008080; text-decoration-color: #008080; font-weight: bold\">1.0002</span>,      <span style=\"color: #008080; text-decoration-color: #008080; font-weight: bold\">6.9982</span>,      <span style=\"color: #008080; text-decoration-color: #008080; font-weight: bold\">4.0006</span>,  <span style=\"color: #008080; text-decoration-color: #008080; font-weight: bold\">-0.0015793</span>,      <span style=\"color: #008080; text-decoration-color: #008080; font-weight: bold\">3.0002</span>,  <span style=\"color: #008080; text-decoration-color: #008080; font-weight: bold\">0.00068855</span>,      <span style=\"color: #008080; text-decoration-color: #008080; font-weight: bold\">1.0063</span>,       <span style=\"color: #008080; text-decoration-color: #008080; font-weight: bold\">3.001</span>,      <span style=\"color: #008080; text-decoration-color: #008080; font-weight: bold\">4.9929</span>,   <span style=\"color: #008080; text-decoration-color: #008080; font-weight: bold\">0.0017452</span>,  <span style=\"color: #008080; text-decoration-color: #008080; font-weight: bold\">0.00057411</span>, <span style=\"color: #008080; text-decoration-color: #008080; font-weight: bold\">-0.00019264</span>,      <span style=\"color: #008080; text-decoration-color: #008080; font-weight: bold\">5.9938</span>,      <span style=\"color: #008080; text-decoration-color: #008080; font-weight: bold\">1.0022</span>,      <span style=\"color: #008080; text-decoration-color: #008080; font-weight: bold\">5.9962</span>,      <span style=\"color: #008080; text-decoration-color: #008080; font-weight: bold\">3.9995</span>,     <span style=\"color: #008080; text-decoration-color: #008080; font-weight: bold\">0.99976</span>,   <span style=\"color: #008080; text-decoration-color: #008080; font-weight: bold\">0.0048294</span>,      <span style=\"color: #008080; text-decoration-color: #008080; font-weight: bold\">4.9961</span>, <span style=\"color: #008080; text-decoration-color: #008080; font-weight: bold\">-0.00087929</span>,  <span style=\"color: #008080; text-decoration-color: #008080; font-weight: bold\">-0.0018845</span>,  <span style=\"color: #008080; text-decoration-color: #008080; font-weight: bold\">-0.0003624</span>,      <span style=\"color: #008080; text-decoration-color: #008080; font-weight: bold\">5.9895</span>,       <span style=\"color: #008080; text-decoration-color: #008080; font-weight: bold\">2.003</span>,\n",
       "            <span style=\"color: #008080; text-decoration-color: #008080; font-weight: bold\">2.0127</span>,      <span style=\"color: #008080; text-decoration-color: #008080; font-weight: bold\">1.0043</span>,       <span style=\"color: #008080; text-decoration-color: #008080; font-weight: bold\">2.004</span>,      <span style=\"color: #008080; text-decoration-color: #008080; font-weight: bold\">1.0057</span>,      <span style=\"color: #008080; text-decoration-color: #008080; font-weight: bold\">2.9999</span>,   <span style=\"color: #008080; text-decoration-color: #008080; font-weight: bold\">0.0024185</span>,      <span style=\"color: #008080; text-decoration-color: #008080; font-weight: bold\">2.0003</span>,      <span style=\"color: #008080; text-decoration-color: #008080; font-weight: bold\">7.9967</span>,      <span style=\"color: #008080; text-decoration-color: #008080; font-weight: bold\">2.9965</span>,       <span style=\"color: #008080; text-decoration-color: #008080; font-weight: bold\">3.002</span>,      <span style=\"color: #008080; text-decoration-color: #008080; font-weight: bold\">2.0037</span>,      <span style=\"color: #008080; text-decoration-color: #008080; font-weight: bold\">2.9994</span>,      <span style=\"color: #008080; text-decoration-color: #008080; font-weight: bold\">2.0005</span>,      <span style=\"color: #008080; text-decoration-color: #008080; font-weight: bold\">2.0006</span>,      <span style=\"color: #008080; text-decoration-color: #008080; font-weight: bold\">1.9988</span>,      <span style=\"color: #008080; text-decoration-color: #008080; font-weight: bold\">1.0063</span>,      <span style=\"color: #008080; text-decoration-color: #008080; font-weight: bold\">2.0005</span>,   <span style=\"color: #008080; text-decoration-color: #008080; font-weight: bold\">0.0009861</span>,      <span style=\"color: #008080; text-decoration-color: #008080; font-weight: bold\">7.9933</span>,      <span style=\"color: #008080; text-decoration-color: #008080; font-weight: bold\">2.0033</span>,      <span style=\"color: #008080; text-decoration-color: #008080; font-weight: bold\">1.0049</span>,      <span style=\"color: #008080; text-decoration-color: #008080; font-weight: bold\">12.989</span>,      <span style=\"color: #008080; text-decoration-color: #008080; font-weight: bold\">2.0018</span>,      <span style=\"color: #008080; text-decoration-color: #008080; font-weight: bold\">1.0012</span>,\n",
       "            <span style=\"color: #008080; text-decoration-color: #008080; font-weight: bold\">1.0012</span>,  <span style=\"color: #008080; text-decoration-color: #008080; font-weight: bold\">0.00083542</span>,           <span style=\"color: #008080; text-decoration-color: #008080; font-weight: bold\">1</span>, <span style=\"color: #008080; text-decoration-color: #008080; font-weight: bold\">-0.00049973</span>,      <span style=\"color: #008080; text-decoration-color: #008080; font-weight: bold\">4.9885</span>,      <span style=\"color: #008080; text-decoration-color: #008080; font-weight: bold\">3.0026</span>,      <span style=\"color: #008080; text-decoration-color: #008080; font-weight: bold\">2.0041</span>,      <span style=\"color: #008080; text-decoration-color: #008080; font-weight: bold\">5.9991</span>,      <span style=\"color: #008080; text-decoration-color: #008080; font-weight: bold\">1.0012</span>,    <span style=\"color: #008080; text-decoration-color: #008080; font-weight: bold\">0.015297</span>,      <span style=\"color: #008080; text-decoration-color: #008080; font-weight: bold\">1.0059</span>,      <span style=\"color: #008080; text-decoration-color: #008080; font-weight: bold\">1.9978</span>,  <span style=\"color: #008080; text-decoration-color: #008080; font-weight: bold\">-0.0010071</span>,  <span style=\"color: #008080; text-decoration-color: #008080; font-weight: bold\">-0.0003624</span>,       <span style=\"color: #008080; text-decoration-color: #008080; font-weight: bold\">3.008</span>,      <span style=\"color: #008080; text-decoration-color: #008080; font-weight: bold\">2.9995</span>,      <span style=\"color: #008080; text-decoration-color: #008080; font-weight: bold\">2.0173</span>,      <span style=\"color: #008080; text-decoration-color: #008080; font-weight: bold\">13.981</span>,      <span style=\"color: #008080; text-decoration-color: #008080; font-weight: bold\">2.9955</span>,      <span style=\"color: #008080; text-decoration-color: #008080; font-weight: bold\">1.9994</span>,      <span style=\"color: #008080; text-decoration-color: #008080; font-weight: bold\">2.0004</span>,      <span style=\"color: #008080; text-decoration-color: #008080; font-weight: bold\">4.9953</span>,      <span style=\"color: #008080; text-decoration-color: #008080; font-weight: bold\">1.0021</span>,      <span style=\"color: #008080; text-decoration-color: #008080; font-weight: bold\">3.0007</span>,\n",
       "            <span style=\"color: #008080; text-decoration-color: #008080; font-weight: bold\">5.0015</span>,      <span style=\"color: #008080; text-decoration-color: #008080; font-weight: bold\">2.9998</span>,      <span style=\"color: #008080; text-decoration-color: #008080; font-weight: bold\">2.0006</span>,       <span style=\"color: #008080; text-decoration-color: #008080; font-weight: bold\">2.005</span>,      <span style=\"color: #008080; text-decoration-color: #008080; font-weight: bold\">13.984</span>,      <span style=\"color: #008080; text-decoration-color: #008080; font-weight: bold\">2.9979</span>,      <span style=\"color: #008080; text-decoration-color: #008080; font-weight: bold\">2.0012</span>, <span style=\"color: #008080; text-decoration-color: #008080; font-weight: bold\">-4.3869e-05</span>,   <span style=\"color: #008080; text-decoration-color: #008080; font-weight: bold\">0.0017319</span>,  <span style=\"color: #008080; text-decoration-color: #008080; font-weight: bold\">-9.346e-05</span>,      <span style=\"color: #008080; text-decoration-color: #008080; font-weight: bold\">5.0012</span>,      <span style=\"color: #008080; text-decoration-color: #008080; font-weight: bold\">1.0014</span>,      <span style=\"color: #008080; text-decoration-color: #008080; font-weight: bold\">2.0106</span>,      <span style=\"color: #008080; text-decoration-color: #008080; font-weight: bold\">2.9973</span>,       <span style=\"color: #008080; text-decoration-color: #008080; font-weight: bold\">4.004</span>,   <span style=\"color: #008080; text-decoration-color: #008080; font-weight: bold\">0.0024452</span>,      <span style=\"color: #008080; text-decoration-color: #008080; font-weight: bold\">3.9962</span>,  <span style=\"color: #008080; text-decoration-color: #008080; font-weight: bold\">0.00037003</span>,   <span style=\"color: #008080; text-decoration-color: #008080; font-weight: bold\">0.0003376</span>,  <span style=\"color: #008080; text-decoration-color: #008080; font-weight: bold\">-0.0026245</span>,       <span style=\"color: #008080; text-decoration-color: #008080; font-weight: bold\">5.971</span>,  <span style=\"color: #008080; text-decoration-color: #008080; font-weight: bold\">0.00069046</span>,      <span style=\"color: #008080; text-decoration-color: #008080; font-weight: bold\">3.9886</span>,           <span style=\"color: #008080; text-decoration-color: #008080; font-weight: bold\">3</span>,\n",
       "            <span style=\"color: #008080; text-decoration-color: #008080; font-weight: bold\">3.9887</span>,      <span style=\"color: #008080; text-decoration-color: #008080; font-weight: bold\">2.0011</span>,       <span style=\"color: #008080; text-decoration-color: #008080; font-weight: bold\">2.004</span>,  <span style=\"color: #008080; text-decoration-color: #008080; font-weight: bold\">-0.0012741</span>,      <span style=\"color: #008080; text-decoration-color: #008080; font-weight: bold\">1.0022</span>,      <span style=\"color: #008080; text-decoration-color: #008080; font-weight: bold\">11.988</span>,      <span style=\"color: #008080; text-decoration-color: #008080; font-weight: bold\">2.9978</span>,      <span style=\"color: #008080; text-decoration-color: #008080; font-weight: bold\">2.9991</span>,      <span style=\"color: #008080; text-decoration-color: #008080; font-weight: bold\">2.9992</span>,   <span style=\"color: #008080; text-decoration-color: #008080; font-weight: bold\">0.0016384</span>,      <span style=\"color: #008080; text-decoration-color: #008080; font-weight: bold\">4.0008</span>,      <span style=\"color: #008080; text-decoration-color: #008080; font-weight: bold\">2.0014</span>,      <span style=\"color: #008080; text-decoration-color: #008080; font-weight: bold\">5.9799</span>,  <span style=\"color: #008080; text-decoration-color: #008080; font-weight: bold\">0.00098038</span>,  <span style=\"color: #008080; text-decoration-color: #008080; font-weight: bold\">0.00035858</span>,      <span style=\"color: #008080; text-decoration-color: #008080; font-weight: bold\">4.9981</span>,      <span style=\"color: #008080; text-decoration-color: #008080; font-weight: bold\">1.9973</span>,      <span style=\"color: #008080; text-decoration-color: #008080; font-weight: bold\">2.0026</span>,      <span style=\"color: #008080; text-decoration-color: #008080; font-weight: bold\">2.0019</span>,     <span style=\"color: #008080; text-decoration-color: #008080; font-weight: bold\">0.99874</span>,      <span style=\"color: #008080; text-decoration-color: #008080; font-weight: bold\">1.0075</span>,      <span style=\"color: #008080; text-decoration-color: #008080; font-weight: bold\">3.9995</span>,   <span style=\"color: #008080; text-decoration-color: #008080; font-weight: bold\">0.0019207</span>,  <span style=\"color: #008080; text-decoration-color: #008080; font-weight: bold\">0.00052071</span>,\n",
       "         <span style=\"color: #008080; text-decoration-color: #008080; font-weight: bold\">0.0018368</span>, <span style=\"color: #008080; text-decoration-color: #008080; font-weight: bold\">-0.00029182</span>,      <span style=\"color: #008080; text-decoration-color: #008080; font-weight: bold\">2.0003</span>,      <span style=\"color: #008080; text-decoration-color: #008080; font-weight: bold\">3.0031</span>,      <span style=\"color: #008080; text-decoration-color: #008080; font-weight: bold\">4.0032</span>,   <span style=\"color: #008080; text-decoration-color: #008080; font-weight: bold\">0.0015011</span>,      <span style=\"color: #008080; text-decoration-color: #008080; font-weight: bold\">4.9952</span>,      <span style=\"color: #008080; text-decoration-color: #008080; font-weight: bold\">1.0026</span>,      <span style=\"color: #008080; text-decoration-color: #008080; font-weight: bold\">4.9961</span>,  <span style=\"color: #008080; text-decoration-color: #008080; font-weight: bold\">0.00073624</span>,   <span style=\"color: #008080; text-decoration-color: #008080; font-weight: bold\">0.0012112</span>, <span style=\"color: #008080; text-decoration-color: #008080; font-weight: bold\">-0.00096321</span>,      <span style=\"color: #008080; text-decoration-color: #008080; font-weight: bold\">6.9916</span>,      <span style=\"color: #008080; text-decoration-color: #008080; font-weight: bold\">2.0012</span>,      <span style=\"color: #008080; text-decoration-color: #008080; font-weight: bold\">2.0022</span>,      <span style=\"color: #008080; text-decoration-color: #008080; font-weight: bold\">4.9992</span>,   <span style=\"color: #008080; text-decoration-color: #008080; font-weight: bold\">0.0067654</span>,      <span style=\"color: #008080; text-decoration-color: #008080; font-weight: bold\">1.0003</span>,      <span style=\"color: #008080; text-decoration-color: #008080; font-weight: bold\">2.0018</span>, <span style=\"color: #008080; text-decoration-color: #008080; font-weight: bold\">-0.00080109</span>,      <span style=\"color: #008080; text-decoration-color: #008080; font-weight: bold\">2.9992</span>,      <span style=\"color: #008080; text-decoration-color: #008080; font-weight: bold\">3.9989</span>,      <span style=\"color: #008080; text-decoration-color: #008080; font-weight: bold\">2.0021</span>,  <span style=\"color: #008080; text-decoration-color: #008080; font-weight: bold\">0.00086212</span>,\n",
       "            <span style=\"color: #008080; text-decoration-color: #008080; font-weight: bold\">2.9992</span>,     <span style=\"color: #008080; text-decoration-color: #008080; font-weight: bold\">0.00214</span>,   <span style=\"color: #008080; text-decoration-color: #008080; font-weight: bold\">0.0040684</span>,      <span style=\"color: #008080; text-decoration-color: #008080; font-weight: bold\">1.9997</span>,      <span style=\"color: #008080; text-decoration-color: #008080; font-weight: bold\">3.9997</span>,      <span style=\"color: #008080; text-decoration-color: #008080; font-weight: bold\">1.0021</span>,  <span style=\"color: #008080; text-decoration-color: #008080; font-weight: bold\">-0.0018311</span>,      <span style=\"color: #008080; text-decoration-color: #008080; font-weight: bold\">1.9987</span>,      <span style=\"color: #008080; text-decoration-color: #008080; font-weight: bold\">4.0008</span>,      <span style=\"color: #008080; text-decoration-color: #008080; font-weight: bold\">2.9994</span>,      <span style=\"color: #008080; text-decoration-color: #008080; font-weight: bold\">2.0016</span>,      <span style=\"color: #008080; text-decoration-color: #008080; font-weight: bold\">6.0007</span>,      <span style=\"color: #008080; text-decoration-color: #008080; font-weight: bold\">2.0042</span>,      <span style=\"color: #008080; text-decoration-color: #008080; font-weight: bold\">1.0015</span>,      <span style=\"color: #008080; text-decoration-color: #008080; font-weight: bold\">2.9992</span>,      <span style=\"color: #008080; text-decoration-color: #008080; font-weight: bold\">2.9993</span><span style=\"font-weight: bold\">]</span>, <span style=\"color: #808000; text-decoration-color: #808000\">dtype</span>=<span style=\"color: #800080; text-decoration-color: #800080\">float32</span><span style=\"font-weight: bold\">)</span>\n",
       "</pre>\n"
      ],
      "text/plain": [
       "\n",
       "\u001B[1;35marray\u001B[0m\u001B[1m(\u001B[0m\u001B[1m[\u001B[0m     \u001B[1;36m1.0002\u001B[0m,      \u001B[1;36m6.9982\u001B[0m,      \u001B[1;36m4.0006\u001B[0m,  \u001B[1;36m-0.0015793\u001B[0m,      \u001B[1;36m3.0002\u001B[0m,  \u001B[1;36m0.00068855\u001B[0m,      \u001B[1;36m1.0063\u001B[0m,       \u001B[1;36m3.001\u001B[0m,      \u001B[1;36m4.9929\u001B[0m,   \u001B[1;36m0.0017452\u001B[0m,  \u001B[1;36m0.00057411\u001B[0m, \u001B[1;36m-0.00019264\u001B[0m,      \u001B[1;36m5.9938\u001B[0m,      \u001B[1;36m1.0022\u001B[0m,      \u001B[1;36m5.9962\u001B[0m,      \u001B[1;36m3.9995\u001B[0m,     \u001B[1;36m0.99976\u001B[0m,   \u001B[1;36m0.0048294\u001B[0m,      \u001B[1;36m4.9961\u001B[0m, \u001B[1;36m-0.00087929\u001B[0m,  \u001B[1;36m-0.0018845\u001B[0m,  \u001B[1;36m-0.0003624\u001B[0m,      \u001B[1;36m5.9895\u001B[0m,       \u001B[1;36m2.003\u001B[0m,\n",
       "            \u001B[1;36m2.0127\u001B[0m,      \u001B[1;36m1.0043\u001B[0m,       \u001B[1;36m2.004\u001B[0m,      \u001B[1;36m1.0057\u001B[0m,      \u001B[1;36m2.9999\u001B[0m,   \u001B[1;36m0.0024185\u001B[0m,      \u001B[1;36m2.0003\u001B[0m,      \u001B[1;36m7.9967\u001B[0m,      \u001B[1;36m2.9965\u001B[0m,       \u001B[1;36m3.002\u001B[0m,      \u001B[1;36m2.0037\u001B[0m,      \u001B[1;36m2.9994\u001B[0m,      \u001B[1;36m2.0005\u001B[0m,      \u001B[1;36m2.0006\u001B[0m,      \u001B[1;36m1.9988\u001B[0m,      \u001B[1;36m1.0063\u001B[0m,      \u001B[1;36m2.0005\u001B[0m,   \u001B[1;36m0.0009861\u001B[0m,      \u001B[1;36m7.9933\u001B[0m,      \u001B[1;36m2.0033\u001B[0m,      \u001B[1;36m1.0049\u001B[0m,      \u001B[1;36m12.989\u001B[0m,      \u001B[1;36m2.0018\u001B[0m,      \u001B[1;36m1.0012\u001B[0m,\n",
       "            \u001B[1;36m1.0012\u001B[0m,  \u001B[1;36m0.00083542\u001B[0m,           \u001B[1;36m1\u001B[0m, \u001B[1;36m-0.00049973\u001B[0m,      \u001B[1;36m4.9885\u001B[0m,      \u001B[1;36m3.0026\u001B[0m,      \u001B[1;36m2.0041\u001B[0m,      \u001B[1;36m5.9991\u001B[0m,      \u001B[1;36m1.0012\u001B[0m,    \u001B[1;36m0.015297\u001B[0m,      \u001B[1;36m1.0059\u001B[0m,      \u001B[1;36m1.9978\u001B[0m,  \u001B[1;36m-0.0010071\u001B[0m,  \u001B[1;36m-0.0003624\u001B[0m,       \u001B[1;36m3.008\u001B[0m,      \u001B[1;36m2.9995\u001B[0m,      \u001B[1;36m2.0173\u001B[0m,      \u001B[1;36m13.981\u001B[0m,      \u001B[1;36m2.9955\u001B[0m,      \u001B[1;36m1.9994\u001B[0m,      \u001B[1;36m2.0004\u001B[0m,      \u001B[1;36m4.9953\u001B[0m,      \u001B[1;36m1.0021\u001B[0m,      \u001B[1;36m3.0007\u001B[0m,\n",
       "            \u001B[1;36m5.0015\u001B[0m,      \u001B[1;36m2.9998\u001B[0m,      \u001B[1;36m2.0006\u001B[0m,       \u001B[1;36m2.005\u001B[0m,      \u001B[1;36m13.984\u001B[0m,      \u001B[1;36m2.9979\u001B[0m,      \u001B[1;36m2.0012\u001B[0m, \u001B[1;36m-4.3869e-05\u001B[0m,   \u001B[1;36m0.0017319\u001B[0m,  \u001B[1;36m-9.346e-05\u001B[0m,      \u001B[1;36m5.0012\u001B[0m,      \u001B[1;36m1.0014\u001B[0m,      \u001B[1;36m2.0106\u001B[0m,      \u001B[1;36m2.9973\u001B[0m,       \u001B[1;36m4.004\u001B[0m,   \u001B[1;36m0.0024452\u001B[0m,      \u001B[1;36m3.9962\u001B[0m,  \u001B[1;36m0.00037003\u001B[0m,   \u001B[1;36m0.0003376\u001B[0m,  \u001B[1;36m-0.0026245\u001B[0m,       \u001B[1;36m5.971\u001B[0m,  \u001B[1;36m0.00069046\u001B[0m,      \u001B[1;36m3.9886\u001B[0m,           \u001B[1;36m3\u001B[0m,\n",
       "            \u001B[1;36m3.9887\u001B[0m,      \u001B[1;36m2.0011\u001B[0m,       \u001B[1;36m2.004\u001B[0m,  \u001B[1;36m-0.0012741\u001B[0m,      \u001B[1;36m1.0022\u001B[0m,      \u001B[1;36m11.988\u001B[0m,      \u001B[1;36m2.9978\u001B[0m,      \u001B[1;36m2.9991\u001B[0m,      \u001B[1;36m2.9992\u001B[0m,   \u001B[1;36m0.0016384\u001B[0m,      \u001B[1;36m4.0008\u001B[0m,      \u001B[1;36m2.0014\u001B[0m,      \u001B[1;36m5.9799\u001B[0m,  \u001B[1;36m0.00098038\u001B[0m,  \u001B[1;36m0.00035858\u001B[0m,      \u001B[1;36m4.9981\u001B[0m,      \u001B[1;36m1.9973\u001B[0m,      \u001B[1;36m2.0026\u001B[0m,      \u001B[1;36m2.0019\u001B[0m,     \u001B[1;36m0.99874\u001B[0m,      \u001B[1;36m1.0075\u001B[0m,      \u001B[1;36m3.9995\u001B[0m,   \u001B[1;36m0.0019207\u001B[0m,  \u001B[1;36m0.00052071\u001B[0m,\n",
       "         \u001B[1;36m0.0018368\u001B[0m, \u001B[1;36m-0.00029182\u001B[0m,      \u001B[1;36m2.0003\u001B[0m,      \u001B[1;36m3.0031\u001B[0m,      \u001B[1;36m4.0032\u001B[0m,   \u001B[1;36m0.0015011\u001B[0m,      \u001B[1;36m4.9952\u001B[0m,      \u001B[1;36m1.0026\u001B[0m,      \u001B[1;36m4.9961\u001B[0m,  \u001B[1;36m0.00073624\u001B[0m,   \u001B[1;36m0.0012112\u001B[0m, \u001B[1;36m-0.00096321\u001B[0m,      \u001B[1;36m6.9916\u001B[0m,      \u001B[1;36m2.0012\u001B[0m,      \u001B[1;36m2.0022\u001B[0m,      \u001B[1;36m4.9992\u001B[0m,   \u001B[1;36m0.0067654\u001B[0m,      \u001B[1;36m1.0003\u001B[0m,      \u001B[1;36m2.0018\u001B[0m, \u001B[1;36m-0.00080109\u001B[0m,      \u001B[1;36m2.9992\u001B[0m,      \u001B[1;36m3.9989\u001B[0m,      \u001B[1;36m2.0021\u001B[0m,  \u001B[1;36m0.00086212\u001B[0m,\n",
       "            \u001B[1;36m2.9992\u001B[0m,     \u001B[1;36m0.00214\u001B[0m,   \u001B[1;36m0.0040684\u001B[0m,      \u001B[1;36m1.9997\u001B[0m,      \u001B[1;36m3.9997\u001B[0m,      \u001B[1;36m1.0021\u001B[0m,  \u001B[1;36m-0.0018311\u001B[0m,      \u001B[1;36m1.9987\u001B[0m,      \u001B[1;36m4.0008\u001B[0m,      \u001B[1;36m2.9994\u001B[0m,      \u001B[1;36m2.0016\u001B[0m,      \u001B[1;36m6.0007\u001B[0m,      \u001B[1;36m2.0042\u001B[0m,      \u001B[1;36m1.0015\u001B[0m,      \u001B[1;36m2.9992\u001B[0m,      \u001B[1;36m2.9993\u001B[0m\u001B[1m]\u001B[0m, \u001B[33mdtype\u001B[0m=\u001B[35mfloat32\u001B[0m\u001B[1m)\u001B[0m\n"
      ]
     },
     "metadata": {},
     "output_type": "display_data"
    }
   ],
   "source": [
    "test_image_reps_arr = np.concatenate(test_image_reps, axis=0)\n",
    "test_preds = reg.predict(test_image_reps_arr)\n",
    "test_preds"
   ]
  },
  {
   "cell_type": "code",
   "execution_count": 79,
   "id": "e0ba65bb-ddf2-45f3-a121-b66e8fbe3224",
   "metadata": {
    "tags": []
   },
   "outputs": [
    {
     "data": {
      "text/html": [
       "<pre style=\"white-space:pre;overflow-x:auto;line-height:normal;font-family:Menlo,'DejaVu Sans Mono',consolas,'Courier New',monospace\"><span style=\"color: #008080; text-decoration-color: #008080; font-weight: bold\">0.003145742416381836</span>\n",
       "</pre>\n"
      ],
      "text/plain": [
       "\u001B[1;36m0.003145742416381836\u001B[0m\n"
      ]
     },
     "metadata": {},
     "output_type": "display_data"
    }
   ],
   "source": [
    "errors = test_preds - test_flower_counts\n",
    "np.mean(np.abs(errors))"
   ]
  },
  {
   "cell_type": "code",
   "execution_count": 80,
   "id": "2e929358-790f-4dd5-bb00-6e35baf2838b",
   "metadata": {
    "tags": []
   },
   "outputs": [
    {
     "name": "stdout",
     "output_type": "stream",
     "text": [
      "2023-03-13 10:23:44,007 - py.warnings - WARNING - /home/daniel/git/self-supervised-learning/.venv/lib/python3.10/site-packages/seaborn/rcmod.py:400: DeprecationWarning: distutils Version classes are deprecated. Use packaging.version instead.\n",
      "  if LooseVersion(mpl.__version__) >= \"3.0\":\n",
      "\n",
      "2023-03-13 10:23:44,007 - py.warnings - WARNING - /home/daniel/git/self-supervised-learning/.venv/lib/python3.10/site-packages/setuptools/_distutils/version.py:346: DeprecationWarning: distutils Version classes are deprecated. Use packaging.version instead.\n",
      "  other = LooseVersion(other)\n",
      "\n"
     ]
    },
    {
     "data": {
      "image/png": "[encoded data removed]"
     },
     "metadata": {},
     "output_type": "display_data"
    }
   ],
   "source": [
    "%matplotlib inline\n",
    "import seaborn as sns\n",
    "import matplotlib.pyplot as plt\n",
    "\n",
    "sns.set()\n",
    "\n",
    "sns.regplot(x=test_preds, y=test_flower_counts)\n",
    "plt.show()"
   ]
  },
  {
   "cell_type": "code",
   "execution_count": 81,
   "id": "edbe2b6a-40f5-457c-98b9-80735eef556c",
   "metadata": {},
   "outputs": [
    {
     "data": {
      "image/png": "[encoded data removed]"
     },
     "metadata": {},
     "output_type": "display_data"
    }
   ],
   "source": [
    "sns.histplot(x=errors)"
   ]
  },
  {
   "cell_type": "code",
   "execution_count": 82,
   "id": "eca935db-8542-4b2a-93e9-9e88eae781ea",
   "metadata": {},
   "outputs": [
    {
     "data": {
      "text/html": [
       "<pre style=\"white-space:pre;overflow-x:auto;line-height:normal;font-family:Menlo,'DejaVu Sans Mono',consolas,'Courier New',monospace\"><span style=\"color: #008080; text-decoration-color: #008080; font-weight: bold\">301.705982705017</span>\n",
       "</pre>\n"
      ],
      "text/plain": [
       "\u001B[1;36m301.705982705017\u001B[0m\n"
      ]
     },
     "metadata": {},
     "output_type": "display_data"
    }
   ],
   "source": [
    "import numpy as np\n",
    "\n",
    "# Use the coefficient of variation of the differences between frames to provide a measure of \"smoothness\".\n",
    "gt_diff = np.diff(test_flower_counts)\n",
    "gt_smoothness = np.std(gt_diff) / np.abs(np.mean(gt_diff))\n",
    "gt_smoothness"
   ]
  },
  {
   "cell_type": "code",
   "execution_count": 83,
   "id": "4184c156-a024-42ce-8bb0-b1a81f1480ea",
   "metadata": {
    "tags": []
   },
   "outputs": [
    {
     "data": {
      "text/html": [
       "<pre style=\"white-space:pre;overflow-x:auto;line-height:normal;font-family:Menlo,'DejaVu Sans Mono',consolas,'Courier New',monospace\"><span style=\"color: #008080; text-decoration-color: #008080; font-weight: bold\">301.40784</span>\n",
       "</pre>\n"
      ],
      "text/plain": [
       "\u001B[1;36m301.40784\u001B[0m\n"
      ]
     },
     "metadata": {},
     "output_type": "display_data"
    }
   ],
   "source": [
    "pred_diff = np.diff(test_preds)\n",
    "pred_smoothness = np.std(pred_diff) / np.abs(np.mean(pred_diff))\n",
    "pred_smoothness"
   ]
  },
  {
   "cell_type": "code",
   "execution_count": 84,
   "id": "da4ca9a6-95c7-4cf8-b188-12ab036b7aa4",
   "metadata": {
    "tags": []
   },
   "outputs": [
    {
     "data": {
      "text/html": [
       "<pre style=\"white-space:pre;overflow-x:auto;line-height:normal;font-family:Menlo,'DejaVu Sans Mono',consolas,'Courier New',monospace\"><span style=\"color: #008080; text-decoration-color: #008080; font-weight: bold\">3815.266</span>\n",
       "</pre>\n"
      ],
      "text/plain": [
       "\u001B[1;36m3815.266\u001B[0m\n"
      ]
     },
     "metadata": {},
     "output_type": "display_data"
    }
   ],
   "source": [
    "reps_diff = np.diff(test_image_reps_arr, axis=0)\n",
    "reps_smoothness = np.std(reps_diff, axis=0) / np.abs(np.mean(reps_diff, axis=0))\n",
    "np.mean(reps_smoothness)"
   ]
  },
  {
   "cell_type": "code",
   "execution_count": null,
   "id": "188b9381-72fe-4df0-b337-be48cca9c078",
   "metadata": {},
   "outputs": [],
   "source": []
  }
 ],
 "metadata": {
  "kernelspec": {
   "display_name": "Kedro (self_supervised)",
   "language": "python",
   "name": "kedro_self_supervised"
  },
  "language_info": {
   "codemirror_mode": {
    "name": "ipython",
    "version": 3
   },
   "file_extension": ".py",
   "mimetype": "text/x-python",
   "name": "python",
   "nbconvert_exporter": "python",
   "pygments_lexer": "ipython3",
   "version": "3.10.10"
  }
 },
 "nbformat": 4,
 "nbformat_minor": 5
}
