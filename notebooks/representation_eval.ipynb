{
 "cells": [
  {
   "cell_type": "code",
   "execution_count": 1,
   "id": "acfda911-ae74-4318-a246-949fe66cdd10",
   "metadata": {
    "tags": []
   },
   "outputs": [
    {
     "name": "stdout",
     "output_type": "stream",
     "text": [
      "2024-04-18 16:06:34,238 - kedro.ipython - INFO - Resolved project path as: /home/daniel/git/self-supervised-learning.\n",
      "To set a different path, run '%reload_kedro <project_root>'\n",
      "2024-04-18 16:06:34,246 - py.warnings - WARNING - /home/daniel/git/self-supervised-learning/.venv/lib/python3.10/site-packages/kedro/framework/startup.py:99: KedroDeprecationWarning: project_version in pyproject.toml is deprecated, use kedro_init_version instead\n",
      "  warnings.warn(\n",
      "\n",
      "2024-04-18 16:06:34,378 - py.warnings - WARNING - /home/daniel/git/self-supervised-learning/.venv/lib/python3.10/site-packages/kedro/framework/session/session.py:267: KedroDeprecationWarning: TemplatedConfigLoader will be deprecated in Kedro 0.19. Please use the OmegaConfigLoader instead. To consult the documentation for OmegaConfigLoader, see here: https://docs.kedro.org/en/stable/configuration/advanced_configuration.html#omegaconfigloader\n",
      "  warnings.warn(\n",
      "\n",
      "2024-04-18 16:06:34,400 - py.warnings - WARNING - /home/daniel/git/self-supervised-learning/.venv/lib/python3.10/site-packages/kedro/io/__init__.py:44: KedroDeprecationWarning: 'AbstractDataSet' has been renamed to 'AbstractDataset', and the alias will be removed in Kedro 0.19.0\n",
      "  return getattr(kedro.io.core, name)\n",
      "\n",
      "2024-04-18 16:06:34,401 - py.warnings - WARNING - /home/daniel/git/self-supervised-learning/.venv/lib/python3.10/site-packages/kedro/io/__init__.py:44: KedroDeprecationWarning: 'AbstractVersionedDataSet' has been renamed to 'AbstractVersionedDataset', and the alias will be removed in Kedro 0.19.0\n",
      "  return getattr(kedro.io.core, name)\n",
      "\n",
      "2024-04-18 16:06:34,402 - py.warnings - WARNING - /home/daniel/git/self-supervised-learning/.venv/lib/python3.10/site-packages/kedro/io/partitioned_dataset.py:200: KedroDeprecationWarning: 'PartitionedDataset' has been moved to `kedro-datasets` and will be removed in Kedro 0.19.0.\n",
      "  warnings.warn(\n",
      "\n",
      "2024-04-18 16:06:34,537 - kedro.ipython - INFO - Kedro project Self-Supervised Learning\n",
      "2024-04-18 16:06:34,538 - kedro.ipython - INFO - Defined global variable 'context', 'session', 'catalog' and 'pipelines'\n",
      "2024-04-18 16:06:34,545 - kedro.io.data_catalog - INFO - Loading data from 'yolov8_l_description' (YAMLDataSet)...\n"
     ]
    }
   ],
   "source": [
    "from self_supervised.pipelines.representation_model import RepresentationModel, YoloEncoder\n",
    "from ultralytics.models.yolo.detect.train import DetectionModel\n",
    "import torch\n",
    "from segment_anything import SamPredictor, sam_model_registry\n",
    "\n",
    "%reload_kedro\n",
    "model_description = catalog.load(\"yolov8_l_description\")\n",
    "# trained_model = catalog.load(\"trained_model\", version=\"2023-03-23T12.37.00.000Z\")\n",
    "trained_model = torch.load(\"../checkpoints/checkpoint_52360.pt\", map_location=\"cpu\")\n",
    "\n",
    "# Random model\n",
    "# encoder = YoloEncoder(model_description=model_description)\n",
    "# trained_model = RepresentationModel(encoder=encoder)\n",
    "\n",
    "# CoCO model\n",
    "# model_description[\"head\"] = model_description[\"head\"][:-1]\n",
    "# trained_model = DetectionModel(model_description)\n",
    "# weights_model = torch.load(\"../yolov8l.pt\", map_location=\"cpu\")\n",
    "# state_dict = weights_model[\"model\"].float().state_dict()\n",
    "# trained_model.load_state_dict(state_dict, strict=False)\n",
    "\n",
    "# SAM model\n",
    "#sam = sam_model_registry[\"vit_b\"](checkpoint=\"../sam_vit_b_01ec64.pth\")\n",
    "#predictor = SamPredictor(sam)\n",
    "\n",
    "# def trained_model(image):\n",
    "#     predictor.set_image(image[0])\n",
    "#     rep = predictor.get_image_embedding()\n",
    "#     return torch.mean(rep, dim=(2, 3))\n",
    "\n",
    "projection = trained_model.projection\n",
    "trained_model = trained_model.encoder\n",
    "trained_model = trained_model.eval()\n",
    "projection = projection.eval()"
   ]
  },
  {
   "cell_type": "code",
   "execution_count": 5,
   "id": "9c417e76-aefa-413d-973a-71b8e77ac00c",
   "metadata": {
    "tags": []
   },
   "outputs": [],
   "source": [
    "# Aerial\n",
    "# TRAIN_SPLIT = \"active_1\"\n",
    "# TEST_SPLIT = \"2018-08-22\"\n",
    "\n",
    "# Ground\n",
    "TRAIN_SPLIT = \"ssl_active_3\"\n",
    "TEST_SPLIT = \"ssl_active_2\""
   ]
  },
  {
   "cell_type": "code",
   "execution_count": 6,
   "id": "c1878dbc-46f2-463f-b313-6dc1aed75b69",
   "metadata": {
    "tags": []
   },
   "outputs": [],
   "source": [
    "from pathlib import Path\n",
    "\n",
    "dataset_path = Path(\"/home/daniel/lab_share/projects/CottonFlower2021/flower_dataset\")\n",
    "image_dir = dataset_path / TRAIN_SPLIT / \"images\""
   ]
  },
  {
   "cell_type": "code",
   "execution_count": 7,
   "id": "c41fe7f6-ac26-435f-a8ed-996eacd3b5fd",
   "metadata": {
    "tags": []
   },
   "outputs": [],
   "source": [
    "# import random\n",
    "# random.sample(range(160), 10)\n",
    "\n",
    "# indices = [143, 159, 78, 12, 34, 116, 118, 0, 44, 124]"
   ]
  },
  {
   "cell_type": "code",
   "execution_count": 8,
   "id": "5a67e6c7-88c4-40b3-a33d-1a67a76f0d5f",
   "metadata": {
    "tags": []
   },
   "outputs": [],
   "source": [
    "from torchvision.io import read_image\n",
    "from torchvision.transforms.functional import resize\n",
    "from tqdm import tqdm\n",
    "import torch\n",
    "from typing import Tuple, List\n",
    "import numpy as np\n",
    "\n",
    "def extract_image_reps(image_list: List[Path]) -> Tuple[List[np.array], List[np.array]]:\n",
    "    image_reps = []\n",
    "    image_reps_low_dim = []\n",
    "\n",
    "    for image_path in tqdm(image_list):\n",
    "        image = read_image(image_path.as_posix())\n",
    "        image.requires_grad = False\n",
    "        image = resize(image, (512, 512))\n",
    "        image = image.to(torch.float) / 255\n",
    "        image_ex = image[None, :, :, :]\n",
    "\n",
    "        image_rep = trained_model(image_ex).detach()\n",
    "        image_reps.append(image_rep[0].reshape((1, -1)).numpy())\n",
    "                          \n",
    "    return image_reps, image_reps_low_dim\n",
    "\n",
    "\n",
    "def extract_image_reps_dir(image_dir_: Path) -> Tuple[List[np.array], List[np.array]]:\n",
    "    image_list = sorted(list(image_dir_.iterdir()))\n",
    "    return extract_image_reps(image_list)\n",
    "                          \n"
   ]
  },
  {
   "cell_type": "code",
   "execution_count": 9,
   "id": "bf1b6923-0ae7-4a00-84c2-7f35d60fc88a",
   "metadata": {},
   "outputs": [
    {
     "name": "stderr",
     "output_type": "stream",
     "text": [
      "100%|████████████████████████████████████████████████████████████████████████████████████████████████████████████████████████████████████████████████████████████████████████████████████████████████████████████████████████████████████████████████████████████████████████████████████████████████████████████████████████████████| 40/40 [00:06<00:00,  6.06it/s]\n"
     ]
    }
   ],
   "source": [
    "image_reps, image_reps_low_dim = extract_image_reps_dir(image_dir)"
   ]
  },
  {
   "cell_type": "code",
   "execution_count": 10,
   "id": "43808fe8-1319-464a-8977-4e7f42db135f",
   "metadata": {
    "tags": []
   },
   "outputs": [
    {
     "data": {
      "text/html": [
       "<pre style=\"white-space:pre;overflow-x:auto;line-height:normal;font-family:Menlo,'DejaVu Sans Mono',consolas,'Courier New',monospace\"></pre>\n"
      ],
      "text/plain": []
     },
     "metadata": {},
     "output_type": "display_data"
    },
    {
     "data": {
      "text/html": [
       "<div>\n",
       "<style scoped>\n",
       "    .dataframe tbody tr th:only-of-type {\n",
       "        vertical-align: middle;\n",
       "    }\n",
       "\n",
       "    .dataframe tbody tr th {\n",
       "        vertical-align: top;\n",
       "    }\n",
       "\n",
       "    .dataframe thead th {\n",
       "        text-align: right;\n",
       "    }\n",
       "</style>\n",
       "<table border=\"1\" class=\"dataframe\">\n",
       "  <thead>\n",
       "    <tr style=\"text-align: right;\">\n",
       "      <th></th>\n",
       "      <th>class</th>\n",
       "      <th>x</th>\n",
       "      <th>y</th>\n",
       "      <th>width</th>\n",
       "      <th>height</th>\n",
       "      <th>frame</th>\n",
       "    </tr>\n",
       "  </thead>\n",
       "  <tbody>\n",
       "    <tr>\n",
       "      <th>0</th>\n",
       "      <td>0</td>\n",
       "      <td>0.486813</td>\n",
       "      <td>0.601333</td>\n",
       "      <td>0.023875</td>\n",
       "      <td>0.044778</td>\n",
       "      <td>clip1022_cam0_frame281.txt</td>\n",
       "    </tr>\n",
       "    <tr>\n",
       "      <th>1</th>\n",
       "      <td>0</td>\n",
       "      <td>0.382328</td>\n",
       "      <td>0.692620</td>\n",
       "      <td>0.018302</td>\n",
       "      <td>0.033500</td>\n",
       "      <td>clip1022_cam0_frame281.txt</td>\n",
       "    </tr>\n",
       "    <tr>\n",
       "      <th>2</th>\n",
       "      <td>0</td>\n",
       "      <td>0.395656</td>\n",
       "      <td>0.468602</td>\n",
       "      <td>0.026604</td>\n",
       "      <td>0.049463</td>\n",
       "      <td>clip1022_cam0_frame281.txt</td>\n",
       "    </tr>\n",
       "    <tr>\n",
       "      <th>3</th>\n",
       "      <td>0</td>\n",
       "      <td>0.126042</td>\n",
       "      <td>0.211667</td>\n",
       "      <td>0.022583</td>\n",
       "      <td>0.053519</td>\n",
       "      <td>clip1066_cam1_frame889.txt</td>\n",
       "    </tr>\n",
       "    <tr>\n",
       "      <th>4</th>\n",
       "      <td>0</td>\n",
       "      <td>0.979370</td>\n",
       "      <td>0.137454</td>\n",
       "      <td>0.033531</td>\n",
       "      <td>0.058389</td>\n",
       "      <td>clip1066_cam1_frame889.txt</td>\n",
       "    </tr>\n",
       "    <tr>\n",
       "      <th>5</th>\n",
       "      <td>0</td>\n",
       "      <td>0.381969</td>\n",
       "      <td>0.055343</td>\n",
       "      <td>0.021208</td>\n",
       "      <td>0.042574</td>\n",
       "      <td>clip1066_cam1_frame902.txt</td>\n",
       "    </tr>\n",
       "    <tr>\n",
       "      <th>6</th>\n",
       "      <td>0</td>\n",
       "      <td>0.803849</td>\n",
       "      <td>0.091833</td>\n",
       "      <td>0.038323</td>\n",
       "      <td>0.088815</td>\n",
       "      <td>clip1066_cam1_frame902.txt</td>\n",
       "    </tr>\n",
       "    <tr>\n",
       "      <th>7</th>\n",
       "      <td>0</td>\n",
       "      <td>0.031260</td>\n",
       "      <td>0.313241</td>\n",
       "      <td>0.057479</td>\n",
       "      <td>0.093667</td>\n",
       "      <td>clip1240_cam0_frame626.txt</td>\n",
       "    </tr>\n",
       "    <tr>\n",
       "      <th>8</th>\n",
       "      <td>0</td>\n",
       "      <td>0.142120</td>\n",
       "      <td>0.593657</td>\n",
       "      <td>0.046531</td>\n",
       "      <td>0.124093</td>\n",
       "      <td>clip1240_cam0_frame626.txt</td>\n",
       "    </tr>\n",
       "    <tr>\n",
       "      <th>9</th>\n",
       "      <td>0</td>\n",
       "      <td>0.017688</td>\n",
       "      <td>0.347917</td>\n",
       "      <td>0.035375</td>\n",
       "      <td>0.072981</td>\n",
       "      <td>clip1240_cam0_frame626.txt</td>\n",
       "    </tr>\n",
       "    <tr>\n",
       "      <th>10</th>\n",
       "      <td>0</td>\n",
       "      <td>0.230396</td>\n",
       "      <td>0.951935</td>\n",
       "      <td>0.054750</td>\n",
       "      <td>0.096130</td>\n",
       "      <td>clip1240_cam0_frame626.txt</td>\n",
       "    </tr>\n",
       "    <tr>\n",
       "      <th>11</th>\n",
       "      <td>0</td>\n",
       "      <td>0.353911</td>\n",
       "      <td>0.694019</td>\n",
       "      <td>0.069115</td>\n",
       "      <td>0.093667</td>\n",
       "      <td>clip1240_cam0_frame626.txt</td>\n",
       "    </tr>\n",
       "    <tr>\n",
       "      <th>12</th>\n",
       "      <td>0</td>\n",
       "      <td>0.953026</td>\n",
       "      <td>0.273102</td>\n",
       "      <td>0.023260</td>\n",
       "      <td>0.069352</td>\n",
       "      <td>clip1308_cam1_frame138.txt</td>\n",
       "    </tr>\n",
       "    <tr>\n",
       "      <th>13</th>\n",
       "      <td>0</td>\n",
       "      <td>0.556094</td>\n",
       "      <td>0.670296</td>\n",
       "      <td>0.027438</td>\n",
       "      <td>0.063259</td>\n",
       "      <td>clip1308_cam1_frame138.txt</td>\n",
       "    </tr>\n",
       "    <tr>\n",
       "      <th>14</th>\n",
       "      <td>0</td>\n",
       "      <td>0.209870</td>\n",
       "      <td>0.805343</td>\n",
       "      <td>0.047906</td>\n",
       "      <td>0.082722</td>\n",
       "      <td>clip1308_cam1_frame236.txt</td>\n",
       "    </tr>\n",
       "    <tr>\n",
       "      <th>15</th>\n",
       "      <td>0</td>\n",
       "      <td>0.851062</td>\n",
       "      <td>0.535259</td>\n",
       "      <td>0.043792</td>\n",
       "      <td>0.102185</td>\n",
       "      <td>clip1324_cam2_frame1704.txt</td>\n",
       "    </tr>\n",
       "    <tr>\n",
       "      <th>16</th>\n",
       "      <td>0</td>\n",
       "      <td>0.172573</td>\n",
       "      <td>0.456185</td>\n",
       "      <td>0.026687</td>\n",
       "      <td>0.031630</td>\n",
       "      <td>clip1367_cam1_frame2773.txt</td>\n",
       "    </tr>\n",
       "    <tr>\n",
       "      <th>17</th>\n",
       "      <td>0</td>\n",
       "      <td>0.076766</td>\n",
       "      <td>0.416648</td>\n",
       "      <td>0.033531</td>\n",
       "      <td>0.054741</td>\n",
       "      <td>clip1367_cam1_frame2773.txt</td>\n",
       "    </tr>\n",
       "    <tr>\n",
       "      <th>18</th>\n",
       "      <td>0</td>\n",
       "      <td>0.809318</td>\n",
       "      <td>0.504241</td>\n",
       "      <td>0.019156</td>\n",
       "      <td>0.037704</td>\n",
       "      <td>clip1367_cam2_frame2624.txt</td>\n",
       "    </tr>\n",
       "    <tr>\n",
       "      <th>19</th>\n",
       "      <td>0</td>\n",
       "      <td>0.746708</td>\n",
       "      <td>0.363120</td>\n",
       "      <td>0.048583</td>\n",
       "      <td>0.074204</td>\n",
       "      <td>clip1367_cam2_frame2624.txt</td>\n",
       "    </tr>\n",
       "    <tr>\n",
       "      <th>20</th>\n",
       "      <td>0</td>\n",
       "      <td>0.867146</td>\n",
       "      <td>0.177593</td>\n",
       "      <td>0.060896</td>\n",
       "      <td>0.094889</td>\n",
       "      <td>clip1367_cam2_frame2624.txt</td>\n",
       "    </tr>\n",
       "    <tr>\n",
       "      <th>21</th>\n",
       "      <td>0</td>\n",
       "      <td>0.015151</td>\n",
       "      <td>0.910676</td>\n",
       "      <td>0.025073</td>\n",
       "      <td>0.041685</td>\n",
       "      <td>clip1367_cam2_frame2624.txt</td>\n",
       "    </tr>\n",
       "    <tr>\n",
       "      <th>22</th>\n",
       "      <td>0</td>\n",
       "      <td>0.847646</td>\n",
       "      <td>0.648407</td>\n",
       "      <td>0.021896</td>\n",
       "      <td>0.053519</td>\n",
       "      <td>clip1367_cam2_frame2624.txt</td>\n",
       "    </tr>\n",
       "    <tr>\n",
       "      <th>23</th>\n",
       "      <td>0</td>\n",
       "      <td>0.885625</td>\n",
       "      <td>0.917259</td>\n",
       "      <td>0.022500</td>\n",
       "      <td>0.082741</td>\n",
       "      <td>clip1471_cam1_frame291.txt</td>\n",
       "    </tr>\n",
       "    <tr>\n",
       "      <th>24</th>\n",
       "      <td>0</td>\n",
       "      <td>0.078479</td>\n",
       "      <td>0.921519</td>\n",
       "      <td>0.041062</td>\n",
       "      <td>0.066926</td>\n",
       "      <td>clip1618_cam0_frame881.txt</td>\n",
       "    </tr>\n",
       "    <tr>\n",
       "      <th>25</th>\n",
       "      <td>0</td>\n",
       "      <td>0.161625</td>\n",
       "      <td>0.529185</td>\n",
       "      <td>0.066375</td>\n",
       "      <td>0.128963</td>\n",
       "      <td>clip1695_cam1_frame1320.txt</td>\n",
       "    </tr>\n",
       "    <tr>\n",
       "      <th>26</th>\n",
       "      <td>0</td>\n",
       "      <td>0.173536</td>\n",
       "      <td>0.226611</td>\n",
       "      <td>0.040281</td>\n",
       "      <td>0.080593</td>\n",
       "      <td>clip860_cam2_frame294.txt</td>\n",
       "    </tr>\n",
       "    <tr>\n",
       "      <th>27</th>\n",
       "      <td>0</td>\n",
       "      <td>0.384099</td>\n",
       "      <td>0.727750</td>\n",
       "      <td>0.046260</td>\n",
       "      <td>0.080981</td>\n",
       "      <td>clip860_cam2_frame294.txt</td>\n",
       "    </tr>\n",
       "    <tr>\n",
       "      <th>28</th>\n",
       "      <td>0</td>\n",
       "      <td>0.041526</td>\n",
       "      <td>0.777352</td>\n",
       "      <td>0.046531</td>\n",
       "      <td>0.077852</td>\n",
       "      <td>clip860_cam2_frame294.txt</td>\n",
       "    </tr>\n",
       "    <tr>\n",
       "      <th>29</th>\n",
       "      <td>0</td>\n",
       "      <td>0.073682</td>\n",
       "      <td>0.359472</td>\n",
       "      <td>0.054719</td>\n",
       "      <td>0.093685</td>\n",
       "      <td>clip860_cam2_frame294.txt</td>\n",
       "    </tr>\n",
       "    <tr>\n",
       "      <th>30</th>\n",
       "      <td>0</td>\n",
       "      <td>0.861635</td>\n",
       "      <td>0.027972</td>\n",
       "      <td>0.050021</td>\n",
       "      <td>0.055944</td>\n",
       "      <td>clip873_cam1_frame328.txt</td>\n",
       "    </tr>\n",
       "    <tr>\n",
       "      <th>31</th>\n",
       "      <td>0</td>\n",
       "      <td>0.415271</td>\n",
       "      <td>0.146556</td>\n",
       "      <td>0.009021</td>\n",
       "      <td>0.025222</td>\n",
       "      <td>clip887_cam0_frame236.txt</td>\n",
       "    </tr>\n",
       "    <tr>\n",
       "      <th>32</th>\n",
       "      <td>0</td>\n",
       "      <td>0.380854</td>\n",
       "      <td>0.973370</td>\n",
       "      <td>0.009937</td>\n",
       "      <td>0.033037</td>\n",
       "      <td>clip887_cam0_frame236.txt</td>\n",
       "    </tr>\n",
       "    <tr>\n",
       "      <th>33</th>\n",
       "      <td>0</td>\n",
       "      <td>0.416578</td>\n",
       "      <td>0.476991</td>\n",
       "      <td>0.024760</td>\n",
       "      <td>0.047093</td>\n",
       "      <td>clip887_cam0_frame236.txt</td>\n",
       "    </tr>\n",
       "    <tr>\n",
       "      <th>34</th>\n",
       "      <td>0</td>\n",
       "      <td>0.441984</td>\n",
       "      <td>0.890241</td>\n",
       "      <td>0.022469</td>\n",
       "      <td>0.016519</td>\n",
       "      <td>clip887_cam0_frame236.txt</td>\n",
       "    </tr>\n",
       "    <tr>\n",
       "      <th>35</th>\n",
       "      <td>0</td>\n",
       "      <td>0.282318</td>\n",
       "      <td>0.554759</td>\n",
       "      <td>0.022552</td>\n",
       "      <td>0.041926</td>\n",
       "      <td>clip887_cam0_frame236.txt</td>\n",
       "    </tr>\n",
       "    <tr>\n",
       "      <th>36</th>\n",
       "      <td>0</td>\n",
       "      <td>0.513672</td>\n",
       "      <td>0.282139</td>\n",
       "      <td>0.018760</td>\n",
       "      <td>0.032500</td>\n",
       "      <td>clip887_cam0_frame236.txt</td>\n",
       "    </tr>\n",
       "    <tr>\n",
       "      <th>37</th>\n",
       "      <td>0</td>\n",
       "      <td>0.640687</td>\n",
       "      <td>0.076509</td>\n",
       "      <td>0.011000</td>\n",
       "      <td>0.022389</td>\n",
       "      <td>clip887_cam0_frame236.txt</td>\n",
       "    </tr>\n",
       "    <tr>\n",
       "      <th>38</th>\n",
       "      <td>0</td>\n",
       "      <td>0.592656</td>\n",
       "      <td>0.568593</td>\n",
       "      <td>0.021604</td>\n",
       "      <td>0.039370</td>\n",
       "      <td>clip887_cam0_frame236.txt</td>\n",
       "    </tr>\n",
       "    <tr>\n",
       "      <th>39</th>\n",
       "      <td>0</td>\n",
       "      <td>0.416010</td>\n",
       "      <td>0.624639</td>\n",
       "      <td>0.027458</td>\n",
       "      <td>0.047204</td>\n",
       "      <td>clip887_cam0_frame236.txt</td>\n",
       "    </tr>\n",
       "    <tr>\n",
       "      <th>40</th>\n",
       "      <td>0</td>\n",
       "      <td>0.351849</td>\n",
       "      <td>0.722194</td>\n",
       "      <td>0.036740</td>\n",
       "      <td>0.060241</td>\n",
       "      <td>clip959_cam1_frame331.txt</td>\n",
       "    </tr>\n",
       "    <tr>\n",
       "      <th>41</th>\n",
       "      <td>0</td>\n",
       "      <td>0.642443</td>\n",
       "      <td>0.302426</td>\n",
       "      <td>0.039406</td>\n",
       "      <td>0.077296</td>\n",
       "      <td>clip959_cam1_frame331.txt</td>\n",
       "    </tr>\n",
       "    <tr>\n",
       "      <th>42</th>\n",
       "      <td>0</td>\n",
       "      <td>0.758531</td>\n",
       "      <td>0.706546</td>\n",
       "      <td>0.043104</td>\n",
       "      <td>0.068759</td>\n",
       "      <td>clip971_cam2_frame173.txt</td>\n",
       "    </tr>\n",
       "    <tr>\n",
       "      <th>43</th>\n",
       "      <td>0</td>\n",
       "      <td>0.313880</td>\n",
       "      <td>0.535870</td>\n",
       "      <td>0.050635</td>\n",
       "      <td>0.074222</td>\n",
       "      <td>clip971_cam2_frame173.txt</td>\n",
       "    </tr>\n",
       "  </tbody>\n",
       "</table>\n",
       "</div>"
      ],
      "text/plain": [
       "\n",
       "   class         x         y     width    height                        frame\n",
       "\u001b[1;36m0\u001b[0m      \u001b[1;36m0\u001b[0m  \u001b[1;36m0.486813\u001b[0m  \u001b[1;36m0.601333\u001b[0m  \u001b[1;36m0.023875\u001b[0m  \u001b[1;36m0.044778\u001b[0m   clip1022_cam0_frame281.txt\n",
       "\u001b[1;36m1\u001b[0m      \u001b[1;36m0\u001b[0m  \u001b[1;36m0.382328\u001b[0m  \u001b[1;36m0.692620\u001b[0m  \u001b[1;36m0.018302\u001b[0m  \u001b[1;36m0.033500\u001b[0m   clip1022_cam0_frame281.txt\n",
       "\u001b[1;36m2\u001b[0m      \u001b[1;36m0\u001b[0m  \u001b[1;36m0.395656\u001b[0m  \u001b[1;36m0.468602\u001b[0m  \u001b[1;36m0.026604\u001b[0m  \u001b[1;36m0.049463\u001b[0m   clip1022_cam0_frame281.txt\n",
       "\u001b[1;36m3\u001b[0m      \u001b[1;36m0\u001b[0m  \u001b[1;36m0.126042\u001b[0m  \u001b[1;36m0.211667\u001b[0m  \u001b[1;36m0.022583\u001b[0m  \u001b[1;36m0.053519\u001b[0m   clip1066_cam1_frame889.txt\n",
       "\u001b[1;36m4\u001b[0m      \u001b[1;36m0\u001b[0m  \u001b[1;36m0.979370\u001b[0m  \u001b[1;36m0.137454\u001b[0m  \u001b[1;36m0.033531\u001b[0m  \u001b[1;36m0.058389\u001b[0m   clip1066_cam1_frame889.txt\n",
       "\u001b[1;36m5\u001b[0m      \u001b[1;36m0\u001b[0m  \u001b[1;36m0.381969\u001b[0m  \u001b[1;36m0.055343\u001b[0m  \u001b[1;36m0.021208\u001b[0m  \u001b[1;36m0.042574\u001b[0m   clip1066_cam1_frame902.txt\n",
       "\u001b[1;36m6\u001b[0m      \u001b[1;36m0\u001b[0m  \u001b[1;36m0.803849\u001b[0m  \u001b[1;36m0.091833\u001b[0m  \u001b[1;36m0.038323\u001b[0m  \u001b[1;36m0.088815\u001b[0m   clip1066_cam1_frame902.txt\n",
       "\u001b[1;36m7\u001b[0m      \u001b[1;36m0\u001b[0m  \u001b[1;36m0.031260\u001b[0m  \u001b[1;36m0.313241\u001b[0m  \u001b[1;36m0.057479\u001b[0m  \u001b[1;36m0.093667\u001b[0m   clip1240_cam0_frame626.txt\n",
       "\u001b[1;36m8\u001b[0m      \u001b[1;36m0\u001b[0m  \u001b[1;36m0.142120\u001b[0m  \u001b[1;36m0.593657\u001b[0m  \u001b[1;36m0.046531\u001b[0m  \u001b[1;36m0.124093\u001b[0m   clip1240_cam0_frame626.txt\n",
       "\u001b[1;36m9\u001b[0m      \u001b[1;36m0\u001b[0m  \u001b[1;36m0.017688\u001b[0m  \u001b[1;36m0.347917\u001b[0m  \u001b[1;36m0.035375\u001b[0m  \u001b[1;36m0.072981\u001b[0m   clip1240_cam0_frame626.txt\n",
       "\u001b[1;36m10\u001b[0m     \u001b[1;36m0\u001b[0m  \u001b[1;36m0.230396\u001b[0m  \u001b[1;36m0.951935\u001b[0m  \u001b[1;36m0.054750\u001b[0m  \u001b[1;36m0.096130\u001b[0m   clip1240_cam0_frame626.txt\n",
       "\u001b[1;36m11\u001b[0m     \u001b[1;36m0\u001b[0m  \u001b[1;36m0.353911\u001b[0m  \u001b[1;36m0.694019\u001b[0m  \u001b[1;36m0.069115\u001b[0m  \u001b[1;36m0.093667\u001b[0m   clip1240_cam0_frame626.txt\n",
       "\u001b[1;36m12\u001b[0m     \u001b[1;36m0\u001b[0m  \u001b[1;36m0.953026\u001b[0m  \u001b[1;36m0.273102\u001b[0m  \u001b[1;36m0.023260\u001b[0m  \u001b[1;36m0.069352\u001b[0m   clip1308_cam1_frame138.txt\n",
       "\u001b[1;36m13\u001b[0m     \u001b[1;36m0\u001b[0m  \u001b[1;36m0.556094\u001b[0m  \u001b[1;36m0.670296\u001b[0m  \u001b[1;36m0.027438\u001b[0m  \u001b[1;36m0.063259\u001b[0m   clip1308_cam1_frame138.txt\n",
       "\u001b[1;36m14\u001b[0m     \u001b[1;36m0\u001b[0m  \u001b[1;36m0.209870\u001b[0m  \u001b[1;36m0.805343\u001b[0m  \u001b[1;36m0.047906\u001b[0m  \u001b[1;36m0.082722\u001b[0m   clip1308_cam1_frame236.txt\n",
       "\u001b[1;36m15\u001b[0m     \u001b[1;36m0\u001b[0m  \u001b[1;36m0.851062\u001b[0m  \u001b[1;36m0.535259\u001b[0m  \u001b[1;36m0.043792\u001b[0m  \u001b[1;36m0.102185\u001b[0m  clip1324_cam2_frame1704.txt\n",
       "\u001b[1;36m16\u001b[0m     \u001b[1;36m0\u001b[0m  \u001b[1;36m0.172573\u001b[0m  \u001b[1;36m0.456185\u001b[0m  \u001b[1;36m0.026687\u001b[0m  \u001b[1;36m0.031630\u001b[0m  clip1367_cam1_frame2773.txt\n",
       "\u001b[1;36m17\u001b[0m     \u001b[1;36m0\u001b[0m  \u001b[1;36m0.076766\u001b[0m  \u001b[1;36m0.416648\u001b[0m  \u001b[1;36m0.033531\u001b[0m  \u001b[1;36m0.054741\u001b[0m  clip1367_cam1_frame2773.txt\n",
       "\u001b[1;36m18\u001b[0m     \u001b[1;36m0\u001b[0m  \u001b[1;36m0.809318\u001b[0m  \u001b[1;36m0.504241\u001b[0m  \u001b[1;36m0.019156\u001b[0m  \u001b[1;36m0.037704\u001b[0m  clip1367_cam2_frame2624.txt\n",
       "\u001b[1;36m19\u001b[0m     \u001b[1;36m0\u001b[0m  \u001b[1;36m0.746708\u001b[0m  \u001b[1;36m0.363120\u001b[0m  \u001b[1;36m0.048583\u001b[0m  \u001b[1;36m0.074204\u001b[0m  clip1367_cam2_frame2624.txt\n",
       "\u001b[1;36m20\u001b[0m     \u001b[1;36m0\u001b[0m  \u001b[1;36m0.867146\u001b[0m  \u001b[1;36m0.177593\u001b[0m  \u001b[1;36m0.060896\u001b[0m  \u001b[1;36m0.094889\u001b[0m  clip1367_cam2_frame2624.txt\n",
       "\u001b[1;36m21\u001b[0m     \u001b[1;36m0\u001b[0m  \u001b[1;36m0.015151\u001b[0m  \u001b[1;36m0.910676\u001b[0m  \u001b[1;36m0.025073\u001b[0m  \u001b[1;36m0.041685\u001b[0m  clip1367_cam2_frame2624.txt\n",
       "\u001b[1;36m22\u001b[0m     \u001b[1;36m0\u001b[0m  \u001b[1;36m0.847646\u001b[0m  \u001b[1;36m0.648407\u001b[0m  \u001b[1;36m0.021896\u001b[0m  \u001b[1;36m0.053519\u001b[0m  clip1367_cam2_frame2624.txt\n",
       "\u001b[1;36m23\u001b[0m     \u001b[1;36m0\u001b[0m  \u001b[1;36m0.885625\u001b[0m  \u001b[1;36m0.917259\u001b[0m  \u001b[1;36m0.022500\u001b[0m  \u001b[1;36m0.082741\u001b[0m   clip1471_cam1_frame291.txt\n",
       "\u001b[1;36m24\u001b[0m     \u001b[1;36m0\u001b[0m  \u001b[1;36m0.078479\u001b[0m  \u001b[1;36m0.921519\u001b[0m  \u001b[1;36m0.041062\u001b[0m  \u001b[1;36m0.066926\u001b[0m   clip1618_cam0_frame881.txt\n",
       "\u001b[1;36m25\u001b[0m     \u001b[1;36m0\u001b[0m  \u001b[1;36m0.161625\u001b[0m  \u001b[1;36m0.529185\u001b[0m  \u001b[1;36m0.066375\u001b[0m  \u001b[1;36m0.128963\u001b[0m  clip1695_cam1_frame1320.txt\n",
       "\u001b[1;36m26\u001b[0m     \u001b[1;36m0\u001b[0m  \u001b[1;36m0.173536\u001b[0m  \u001b[1;36m0.226611\u001b[0m  \u001b[1;36m0.040281\u001b[0m  \u001b[1;36m0.080593\u001b[0m    clip860_cam2_frame294.txt\n",
       "\u001b[1;36m27\u001b[0m     \u001b[1;36m0\u001b[0m  \u001b[1;36m0.384099\u001b[0m  \u001b[1;36m0.727750\u001b[0m  \u001b[1;36m0.046260\u001b[0m  \u001b[1;36m0.080981\u001b[0m    clip860_cam2_frame294.txt\n",
       "\u001b[1;36m28\u001b[0m     \u001b[1;36m0\u001b[0m  \u001b[1;36m0.041526\u001b[0m  \u001b[1;36m0.777352\u001b[0m  \u001b[1;36m0.046531\u001b[0m  \u001b[1;36m0.077852\u001b[0m    clip860_cam2_frame294.txt\n",
       "\u001b[1;36m29\u001b[0m     \u001b[1;36m0\u001b[0m  \u001b[1;36m0.073682\u001b[0m  \u001b[1;36m0.359472\u001b[0m  \u001b[1;36m0.054719\u001b[0m  \u001b[1;36m0.093685\u001b[0m    clip860_cam2_frame294.txt\n",
       "\u001b[1;36m30\u001b[0m     \u001b[1;36m0\u001b[0m  \u001b[1;36m0.861635\u001b[0m  \u001b[1;36m0.027972\u001b[0m  \u001b[1;36m0.050021\u001b[0m  \u001b[1;36m0.055944\u001b[0m    clip873_cam1_frame328.txt\n",
       "\u001b[1;36m31\u001b[0m     \u001b[1;36m0\u001b[0m  \u001b[1;36m0.415271\u001b[0m  \u001b[1;36m0.146556\u001b[0m  \u001b[1;36m0.009021\u001b[0m  \u001b[1;36m0.025222\u001b[0m    clip887_cam0_frame236.txt\n",
       "\u001b[1;36m32\u001b[0m     \u001b[1;36m0\u001b[0m  \u001b[1;36m0.380854\u001b[0m  \u001b[1;36m0.973370\u001b[0m  \u001b[1;36m0.009937\u001b[0m  \u001b[1;36m0.033037\u001b[0m    clip887_cam0_frame236.txt\n",
       "\u001b[1;36m33\u001b[0m     \u001b[1;36m0\u001b[0m  \u001b[1;36m0.416578\u001b[0m  \u001b[1;36m0.476991\u001b[0m  \u001b[1;36m0.024760\u001b[0m  \u001b[1;36m0.047093\u001b[0m    clip887_cam0_frame236.txt\n",
       "\u001b[1;36m34\u001b[0m     \u001b[1;36m0\u001b[0m  \u001b[1;36m0.441984\u001b[0m  \u001b[1;36m0.890241\u001b[0m  \u001b[1;36m0.022469\u001b[0m  \u001b[1;36m0.016519\u001b[0m    clip887_cam0_frame236.txt\n",
       "\u001b[1;36m35\u001b[0m     \u001b[1;36m0\u001b[0m  \u001b[1;36m0.282318\u001b[0m  \u001b[1;36m0.554759\u001b[0m  \u001b[1;36m0.022552\u001b[0m  \u001b[1;36m0.041926\u001b[0m    clip887_cam0_frame236.txt\n",
       "\u001b[1;36m36\u001b[0m     \u001b[1;36m0\u001b[0m  \u001b[1;36m0.513672\u001b[0m  \u001b[1;36m0.282139\u001b[0m  \u001b[1;36m0.018760\u001b[0m  \u001b[1;36m0.032500\u001b[0m    clip887_cam0_frame236.txt\n",
       "\u001b[1;36m37\u001b[0m     \u001b[1;36m0\u001b[0m  \u001b[1;36m0.640687\u001b[0m  \u001b[1;36m0.076509\u001b[0m  \u001b[1;36m0.011000\u001b[0m  \u001b[1;36m0.022389\u001b[0m    clip887_cam0_frame236.txt\n",
       "\u001b[1;36m38\u001b[0m     \u001b[1;36m0\u001b[0m  \u001b[1;36m0.592656\u001b[0m  \u001b[1;36m0.568593\u001b[0m  \u001b[1;36m0.021604\u001b[0m  \u001b[1;36m0.039370\u001b[0m    clip887_cam0_frame236.txt\n",
       "\u001b[1;36m39\u001b[0m     \u001b[1;36m0\u001b[0m  \u001b[1;36m0.416010\u001b[0m  \u001b[1;36m0.624639\u001b[0m  \u001b[1;36m0.027458\u001b[0m  \u001b[1;36m0.047204\u001b[0m    clip887_cam0_frame236.txt\n",
       "\u001b[1;36m40\u001b[0m     \u001b[1;36m0\u001b[0m  \u001b[1;36m0.351849\u001b[0m  \u001b[1;36m0.722194\u001b[0m  \u001b[1;36m0.036740\u001b[0m  \u001b[1;36m0.060241\u001b[0m    clip959_cam1_frame331.txt\n",
       "\u001b[1;36m41\u001b[0m     \u001b[1;36m0\u001b[0m  \u001b[1;36m0.642443\u001b[0m  \u001b[1;36m0.302426\u001b[0m  \u001b[1;36m0.039406\u001b[0m  \u001b[1;36m0.077296\u001b[0m    clip959_cam1_frame331.txt\n",
       "\u001b[1;36m42\u001b[0m     \u001b[1;36m0\u001b[0m  \u001b[1;36m0.758531\u001b[0m  \u001b[1;36m0.706546\u001b[0m  \u001b[1;36m0.043104\u001b[0m  \u001b[1;36m0.068759\u001b[0m    clip971_cam2_frame173.txt\n",
       "\u001b[1;36m43\u001b[0m     \u001b[1;36m0\u001b[0m  \u001b[1;36m0.313880\u001b[0m  \u001b[1;36m0.535870\u001b[0m  \u001b[1;36m0.050635\u001b[0m  \u001b[1;36m0.074222\u001b[0m    clip971_cam2_frame173.txt"
      ]
     },
     "execution_count": 10,
     "metadata": {},
     "output_type": "execute_result"
    }
   ],
   "source": [
    "# Load flower counts.\n",
    "import pandas as pd\n",
    "\n",
    "labels_dir = dataset_path / TRAIN_SPLIT / \"labels\"\n",
    "all_labels = []\n",
    "labels_list = sorted(list(labels_dir.iterdir()))\n",
    "# labels_list = [labels_list[i] for i in indices]\n",
    "for labels_path in labels_list:\n",
    "    frame_labels = pd.read_csv(labels_path, sep=\" \", names=[\"class\", \"x\", \"y\", \"width\", \"height\"])\n",
    "    frame_labels[\"frame\"] = labels_path.name\n",
    "    all_labels.append(frame_labels)\n",
    "    \n",
    "all_labels = pd.concat(all_labels, ignore_index=True)\n",
    "all_labels"
   ]
  },
  {
   "cell_type": "code",
   "execution_count": 11,
   "id": "96a261b8-3343-4c52-a567-4a94fcbc3964",
   "metadata": {
    "tags": []
   },
   "outputs": [],
   "source": [
    "import numpy as np\n",
    "\n",
    "# Create flower counts labels.\n",
    "flower_counts = []\n",
    "for image_path in labels_list:\n",
    "    flower_counts.append(np.count_nonzero(all_labels[\"frame\"] == image_path.name))\n",
    "    \n",
    "# Any missing counts are zeros.\n",
    "for _ in range(len(flower_counts), len(image_reps)):\n",
    "    flower_counts.append(0)"
   ]
  },
  {
   "cell_type": "code",
   "execution_count": 12,
   "id": "8cd84dd2-fc0b-482e-b69a-7bed0e95f7e5",
   "metadata": {
    "tags": []
   },
   "outputs": [
    {
     "name": "stderr",
     "output_type": "stream",
     "text": [
      "100%|████████████████████████████████████████████████████████████████████████████████████████████████████████████████████████████████████████████████████████████████████████████████████████████████████████████████████████████████████████████████████████████████████████████████████████████████████████████████████████████████| 20/20 [00:03<00:00,  5.89it/s]\n"
     ]
    }
   ],
   "source": [
    "test_image_dir = dataset_path / TEST_SPLIT / \"images\"\n",
    "\n",
    "test_image_reps, test_image_reps_low_dim = extract_image_reps_dir(test_image_dir)"
   ]
  },
  {
   "cell_type": "code",
   "execution_count": 13,
   "id": "1d4b4cc4-c178-4e22-be2e-d21b0bb5d899",
   "metadata": {
    "tags": []
   },
   "outputs": [
    {
     "data": {
      "text/html": [
       "<pre style=\"white-space:pre;overflow-x:auto;line-height:normal;font-family:Menlo,'DejaVu Sans Mono',consolas,'Courier New',monospace\"></pre>\n"
      ],
      "text/plain": []
     },
     "metadata": {},
     "output_type": "display_data"
    },
    {
     "data": {
      "text/html": [
       "<div>\n",
       "<style scoped>\n",
       "    .dataframe tbody tr th:only-of-type {\n",
       "        vertical-align: middle;\n",
       "    }\n",
       "\n",
       "    .dataframe tbody tr th {\n",
       "        vertical-align: top;\n",
       "    }\n",
       "\n",
       "    .dataframe thead th {\n",
       "        text-align: right;\n",
       "    }\n",
       "</style>\n",
       "<table border=\"1\" class=\"dataframe\">\n",
       "  <thead>\n",
       "    <tr style=\"text-align: right;\">\n",
       "      <th></th>\n",
       "      <th>class</th>\n",
       "      <th>x</th>\n",
       "      <th>y</th>\n",
       "      <th>width</th>\n",
       "      <th>height</th>\n",
       "      <th>frame</th>\n",
       "    </tr>\n",
       "  </thead>\n",
       "  <tbody>\n",
       "    <tr>\n",
       "      <th>0</th>\n",
       "      <td>0</td>\n",
       "      <td>0.232073</td>\n",
       "      <td>0.450046</td>\n",
       "      <td>0.051396</td>\n",
       "      <td>0.087981</td>\n",
       "      <td>clip1022_cam2_frame303.txt</td>\n",
       "    </tr>\n",
       "    <tr>\n",
       "      <th>1</th>\n",
       "      <td>0</td>\n",
       "      <td>0.031250</td>\n",
       "      <td>0.700046</td>\n",
       "      <td>0.039021</td>\n",
       "      <td>0.068537</td>\n",
       "      <td>clip1022_cam2_frame303.txt</td>\n",
       "    </tr>\n",
       "    <tr>\n",
       "      <th>2</th>\n",
       "      <td>0</td>\n",
       "      <td>0.735323</td>\n",
       "      <td>0.259694</td>\n",
       "      <td>0.025229</td>\n",
       "      <td>0.043981</td>\n",
       "      <td>clip1022_cam2_frame303.txt</td>\n",
       "    </tr>\n",
       "    <tr>\n",
       "      <th>3</th>\n",
       "      <td>0</td>\n",
       "      <td>0.609214</td>\n",
       "      <td>0.966546</td>\n",
       "      <td>0.033781</td>\n",
       "      <td>0.058389</td>\n",
       "      <td>clip1030_cam2_frame225.txt</td>\n",
       "    </tr>\n",
       "    <tr>\n",
       "      <th>4</th>\n",
       "      <td>0</td>\n",
       "      <td>0.810750</td>\n",
       "      <td>0.796917</td>\n",
       "      <td>0.024750</td>\n",
       "      <td>0.050759</td>\n",
       "      <td>clip1030_cam2_frame225.txt</td>\n",
       "    </tr>\n",
       "    <tr>\n",
       "      <th>5</th>\n",
       "      <td>0</td>\n",
       "      <td>0.817891</td>\n",
       "      <td>0.397602</td>\n",
       "      <td>0.026656</td>\n",
       "      <td>0.057537</td>\n",
       "      <td>clip1044_cam2_frame119.txt</td>\n",
       "    </tr>\n",
       "    <tr>\n",
       "      <th>6</th>\n",
       "      <td>0</td>\n",
       "      <td>0.140938</td>\n",
       "      <td>0.296065</td>\n",
       "      <td>0.038542</td>\n",
       "      <td>0.045685</td>\n",
       "      <td>clip1076_cam1_frame518.txt</td>\n",
       "    </tr>\n",
       "    <tr>\n",
       "      <th>7</th>\n",
       "      <td>0</td>\n",
       "      <td>0.175677</td>\n",
       "      <td>0.643370</td>\n",
       "      <td>0.049021</td>\n",
       "      <td>0.095593</td>\n",
       "      <td>clip1356_cam2_frame44.txt</td>\n",
       "    </tr>\n",
       "    <tr>\n",
       "      <th>8</th>\n",
       "      <td>0</td>\n",
       "      <td>0.465021</td>\n",
       "      <td>0.310454</td>\n",
       "      <td>0.039500</td>\n",
       "      <td>0.089685</td>\n",
       "      <td>clip1365_cam2_frame3097.txt</td>\n",
       "    </tr>\n",
       "    <tr>\n",
       "      <th>9</th>\n",
       "      <td>0</td>\n",
       "      <td>0.847870</td>\n",
       "      <td>0.398861</td>\n",
       "      <td>0.027594</td>\n",
       "      <td>0.029611</td>\n",
       "      <td>clip1367_cam1_frame3117.txt</td>\n",
       "    </tr>\n",
       "    <tr>\n",
       "      <th>10</th>\n",
       "      <td>0</td>\n",
       "      <td>0.008484</td>\n",
       "      <td>0.780843</td>\n",
       "      <td>0.016969</td>\n",
       "      <td>0.076130</td>\n",
       "      <td>clip1636_cam0_frame1032.txt</td>\n",
       "    </tr>\n",
       "    <tr>\n",
       "      <th>11</th>\n",
       "      <td>0</td>\n",
       "      <td>0.068365</td>\n",
       "      <td>0.239806</td>\n",
       "      <td>0.019042</td>\n",
       "      <td>0.034685</td>\n",
       "      <td>clip1636_cam0_frame1032.txt</td>\n",
       "    </tr>\n",
       "    <tr>\n",
       "      <th>12</th>\n",
       "      <td>0</td>\n",
       "      <td>0.279901</td>\n",
       "      <td>0.406481</td>\n",
       "      <td>0.016656</td>\n",
       "      <td>0.041444</td>\n",
       "      <td>clip903_cam1_frame140.txt</td>\n",
       "    </tr>\n",
       "  </tbody>\n",
       "</table>\n",
       "</div>"
      ],
      "text/plain": [
       "\n",
       "   class         x         y     width    height                        frame\n",
       "\u001b[1;36m0\u001b[0m      \u001b[1;36m0\u001b[0m  \u001b[1;36m0.232073\u001b[0m  \u001b[1;36m0.450046\u001b[0m  \u001b[1;36m0.051396\u001b[0m  \u001b[1;36m0.087981\u001b[0m   clip1022_cam2_frame303.txt\n",
       "\u001b[1;36m1\u001b[0m      \u001b[1;36m0\u001b[0m  \u001b[1;36m0.031250\u001b[0m  \u001b[1;36m0.700046\u001b[0m  \u001b[1;36m0.039021\u001b[0m  \u001b[1;36m0.068537\u001b[0m   clip1022_cam2_frame303.txt\n",
       "\u001b[1;36m2\u001b[0m      \u001b[1;36m0\u001b[0m  \u001b[1;36m0.735323\u001b[0m  \u001b[1;36m0.259694\u001b[0m  \u001b[1;36m0.025229\u001b[0m  \u001b[1;36m0.043981\u001b[0m   clip1022_cam2_frame303.txt\n",
       "\u001b[1;36m3\u001b[0m      \u001b[1;36m0\u001b[0m  \u001b[1;36m0.609214\u001b[0m  \u001b[1;36m0.966546\u001b[0m  \u001b[1;36m0.033781\u001b[0m  \u001b[1;36m0.058389\u001b[0m   clip1030_cam2_frame225.txt\n",
       "\u001b[1;36m4\u001b[0m      \u001b[1;36m0\u001b[0m  \u001b[1;36m0.810750\u001b[0m  \u001b[1;36m0.796917\u001b[0m  \u001b[1;36m0.024750\u001b[0m  \u001b[1;36m0.050759\u001b[0m   clip1030_cam2_frame225.txt\n",
       "\u001b[1;36m5\u001b[0m      \u001b[1;36m0\u001b[0m  \u001b[1;36m0.817891\u001b[0m  \u001b[1;36m0.397602\u001b[0m  \u001b[1;36m0.026656\u001b[0m  \u001b[1;36m0.057537\u001b[0m   clip1044_cam2_frame119.txt\n",
       "\u001b[1;36m6\u001b[0m      \u001b[1;36m0\u001b[0m  \u001b[1;36m0.140938\u001b[0m  \u001b[1;36m0.296065\u001b[0m  \u001b[1;36m0.038542\u001b[0m  \u001b[1;36m0.045685\u001b[0m   clip1076_cam1_frame518.txt\n",
       "\u001b[1;36m7\u001b[0m      \u001b[1;36m0\u001b[0m  \u001b[1;36m0.175677\u001b[0m  \u001b[1;36m0.643370\u001b[0m  \u001b[1;36m0.049021\u001b[0m  \u001b[1;36m0.095593\u001b[0m    clip1356_cam2_frame44.txt\n",
       "\u001b[1;36m8\u001b[0m      \u001b[1;36m0\u001b[0m  \u001b[1;36m0.465021\u001b[0m  \u001b[1;36m0.310454\u001b[0m  \u001b[1;36m0.039500\u001b[0m  \u001b[1;36m0.089685\u001b[0m  clip1365_cam2_frame3097.txt\n",
       "\u001b[1;36m9\u001b[0m      \u001b[1;36m0\u001b[0m  \u001b[1;36m0.847870\u001b[0m  \u001b[1;36m0.398861\u001b[0m  \u001b[1;36m0.027594\u001b[0m  \u001b[1;36m0.029611\u001b[0m  clip1367_cam1_frame3117.txt\n",
       "\u001b[1;36m10\u001b[0m     \u001b[1;36m0\u001b[0m  \u001b[1;36m0.008484\u001b[0m  \u001b[1;36m0.780843\u001b[0m  \u001b[1;36m0.016969\u001b[0m  \u001b[1;36m0.076130\u001b[0m  clip1636_cam0_frame1032.txt\n",
       "\u001b[1;36m11\u001b[0m     \u001b[1;36m0\u001b[0m  \u001b[1;36m0.068365\u001b[0m  \u001b[1;36m0.239806\u001b[0m  \u001b[1;36m0.019042\u001b[0m  \u001b[1;36m0.034685\u001b[0m  clip1636_cam0_frame1032.txt\n",
       "\u001b[1;36m12\u001b[0m     \u001b[1;36m0\u001b[0m  \u001b[1;36m0.279901\u001b[0m  \u001b[1;36m0.406481\u001b[0m  \u001b[1;36m0.016656\u001b[0m  \u001b[1;36m0.041444\u001b[0m    clip903_cam1_frame140.txt"
      ]
     },
     "execution_count": 13,
     "metadata": {},
     "output_type": "execute_result"
    }
   ],
   "source": [
    "test_labels_dir = dataset_path / TEST_SPLIT / \"labels\"\n",
    "all_labels_test = []\n",
    "labels_list = sorted(list(test_labels_dir.iterdir()))\n",
    "for labels_path in labels_list:\n",
    "    frame_labels = pd.read_csv(labels_path, sep=\" \", names=[\"class\", \"x\", \"y\", \"width\", \"height\"])\n",
    "    frame_labels[\"frame\"] = labels_path.name\n",
    "    all_labels_test.append(frame_labels)\n",
    "    \n",
    "all_labels_test = pd.concat(all_labels_test, ignore_index=True)\n",
    "all_labels_test"
   ]
  },
  {
   "cell_type": "code",
   "execution_count": 14,
   "id": "0543d1a7-4b18-4d0f-8536-3529a2cda92a",
   "metadata": {
    "tags": []
   },
   "outputs": [],
   "source": [
    "# Create flower counts.\n",
    "test_flower_counts = []\n",
    "for image_path in labels_list:\n",
    "    test_flower_counts.append(np.count_nonzero(all_labels_test[\"frame\"] == image_path.name))\n",
    "    \n",
    "# Any missing counts are zeros.\n",
    "for _ in range(len(test_flower_counts), len(test_image_reps)):\n",
    "    test_flower_counts.append(0)"
   ]
  },
  {
   "cell_type": "code",
   "execution_count": 15,
   "id": "1741b680-ed08-476e-9a0f-5cb5f0118805",
   "metadata": {
    "tags": []
   },
   "outputs": [],
   "source": [
    "from sklearn.model_selection import PredefinedSplit\n",
    "\n",
    "# Create combined dataset.\n",
    "all_image_reps = image_reps + test_image_reps\n",
    "all_flower_counts = flower_counts + test_flower_counts\n",
    "train_indices = [-1] * len(image_reps)\n",
    "test_indices = [0] * len(test_image_reps)\n",
    "split = PredefinedSplit(train_indices + test_indices)"
   ]
  },
  {
   "cell_type": "code",
   "execution_count": 16,
   "id": "8ca94b64-b75c-41e7-a3f3-459bd29de228",
   "metadata": {
    "tags": []
   },
   "outputs": [
    {
     "name": "stdout",
     "output_type": "stream",
     "text": [
      "2024-04-18 16:07:02,845 - py.warnings - WARNING - /home/daniel/git/self-supervised-learning/.venv/lib/python3.10/site-packages/sklearn/linear_model/_ridge.py:243: UserWarning: Singular matrix in solving dual problem. Using least-squares solution instead.\n",
      "  warnings.warn(\n",
      "\n",
      "2024-04-18 16:07:03,117 - py.warnings - WARNING - /home/daniel/git/self-supervised-learning/.venv/lib/python3.10/site-packages/sklearn/linear_model/_ridge.py:243: UserWarning: Singular matrix in solving dual problem. Using least-squares solution instead.\n",
      "  warnings.warn(\n",
      "\n",
      "2024-04-18 16:07:03,343 - py.warnings - WARNING - /home/daniel/git/self-supervised-learning/.venv/lib/python3.10/site-packages/sklearn/linear_model/_ridge.py:243: UserWarning: Singular matrix in solving dual problem. Using least-squares solution instead.\n",
      "  warnings.warn(\n",
      "\n",
      "2024-04-18 16:07:03,596 - py.warnings - WARNING - /home/daniel/git/self-supervised-learning/.venv/lib/python3.10/site-packages/sklearn/linear_model/_ridge.py:243: UserWarning: Singular matrix in solving dual problem. Using least-squares solution instead.\n",
      "  warnings.warn(\n",
      "\n",
      "2024-04-18 16:07:03,824 - py.warnings - WARNING - /home/daniel/git/self-supervised-learning/.venv/lib/python3.10/site-packages/sklearn/linear_model/_ridge.py:243: UserWarning: Singular matrix in solving dual problem. Using least-squares solution instead.\n",
      "  warnings.warn(\n",
      "\n",
      "2024-04-18 16:07:04,084 - py.warnings - WARNING - /home/daniel/git/self-supervised-learning/.venv/lib/python3.10/site-packages/sklearn/linear_model/_ridge.py:241: LinAlgWarning: Ill-conditioned matrix (rcond=5.29268e-09): result may not be accurate.\n",
      "  dual_coef = linalg.solve(K, y, assume_a=\"pos\", overwrite_a=False)\n",
      "\n",
      "2024-04-18 16:07:04,258 - py.warnings - WARNING - /home/daniel/git/self-supervised-learning/.venv/lib/python3.10/site-packages/sklearn/linear_model/_ridge.py:241: LinAlgWarning: Ill-conditioned matrix (rcond=5.11632e-08): result may not be accurate.\n",
      "  dual_coef = linalg.solve(K, y, assume_a=\"pos\", overwrite_a=False)\n",
      "\n"
     ]
    }
   ],
   "source": [
    "from sklearn.linear_model import RidgeCV, Ridge\n",
    "\n",
    "all_flower_counts = np.array(all_flower_counts, dtype=float)\n",
    "all_image_reps_arr = np.concatenate(all_image_reps, axis=0)\n",
    "\n",
    "alphas = [1e-6, 1e-4, 0.01, 0.1, 1.0, 2.0, 4.0, 8.0, 16.0, 32.0, 64.0, 128.0]\n",
    "reg_search = RidgeCV(alphas=alphas, cv=split).fit(all_image_reps_arr, all_flower_counts)\n",
    "# RidgeCV is going to go and refit on the whole dataset once it finds the best alpha, which we don't want.\n",
    "# Fit manually with the best alpha on just the training data.\n",
    "reg = Ridge(reg_search.alpha_).fit(np.concatenate(image_reps, axis=0), np.array(flower_counts))"
   ]
  },
  {
   "cell_type": "code",
   "execution_count": 17,
   "id": "23cf629c-e859-47c7-92ac-593d56789b05",
   "metadata": {
    "tags": []
   },
   "outputs": [
    {
     "data": {
      "text/html": [
       "<pre style=\"white-space:pre;overflow-x:auto;line-height:normal;font-family:Menlo,'DejaVu Sans Mono',consolas,'Courier New',monospace\"></pre>\n"
      ],
      "text/plain": []
     },
     "metadata": {},
     "output_type": "display_data"
    },
    {
     "data": {
      "text/plain": [
       "\u001b[1;35marray\u001b[0m\u001b[1m(\u001b[0m\u001b[1m[\u001b[0m     \u001b[1;36m1.9748\u001b[0m,      \u001b[1;36m2.1231\u001b[0m,      \u001b[1;36m1.8337\u001b[0m,      \u001b[1;36m1.9812\u001b[0m,     \u001b[1;36m0.71473\u001b[0m,      \u001b[1;36m1.8293\u001b[0m,     \u001b[1;36m0.61843\u001b[0m,       \u001b[1;36m1.297\u001b[0m,     \u001b[1;36m0.83767\u001b[0m,      \u001b[1;36m1.1994\u001b[0m,      \u001b[1;36m1.0726\u001b[0m,     \u001b[1;36m0.94229\u001b[0m,     \u001b[1;36m0.80765\u001b[0m,     \u001b[1;36m0.59542\u001b[0m,       \u001b[1;36m1.033\u001b[0m,     \u001b[1;36m0.49398\u001b[0m,      \u001b[1;36m2.2474\u001b[0m,      \u001b[1;36m0.8104\u001b[0m,     \u001b[1;36m0.79924\u001b[0m,     \u001b[1;36m0.63422\u001b[0m\u001b[1m]\u001b[0m, \u001b[33mdtype\u001b[0m=\u001b[35mfloat32\u001b[0m\u001b[1m)\u001b[0m"
      ]
     },
     "execution_count": 17,
     "metadata": {},
     "output_type": "execute_result"
    }
   ],
   "source": [
    "test_image_reps_arr = np.concatenate(test_image_reps, axis=0)\n",
    "test_preds = reg.predict(test_image_reps_arr)\n",
    "test_preds"
   ]
  },
  {
   "cell_type": "code",
   "execution_count": 18,
   "id": "e0ba65bb-ddf2-45f3-a121-b66e8fbe3224",
   "metadata": {
    "tags": []
   },
   "outputs": [
    {
     "data": {
      "text/html": [
       "<pre style=\"white-space:pre;overflow-x:auto;line-height:normal;font-family:Menlo,'DejaVu Sans Mono',consolas,'Courier New',monospace\"></pre>\n"
      ],
      "text/plain": []
     },
     "metadata": {},
     "output_type": "display_data"
    },
    {
     "data": {
      "text/plain": [
       "\u001b[1;36m0.8768546253442764\u001b[0m"
      ]
     },
     "execution_count": 18,
     "metadata": {},
     "output_type": "execute_result"
    }
   ],
   "source": [
    "errors = test_preds - test_flower_counts\n",
    "np.mean(np.abs(errors))"
   ]
  },
  {
   "cell_type": "code",
   "execution_count": 19,
   "id": "2585b7ef-ec03-4d2e-9883-8aaf31e0cb13",
   "metadata": {
    "tags": []
   },
   "outputs": [
    {
     "data": {
      "text/html": [
       "<pre style=\"white-space:pre;overflow-x:auto;line-height:normal;font-family:Menlo,'DejaVu Sans Mono',consolas,'Courier New',monospace\"></pre>\n"
      ],
      "text/plain": []
     },
     "metadata": {},
     "output_type": "display_data"
    },
    {
     "data": {
      "text/plain": [
       "\u001b[1;36m130.46109137123725\u001b[0m"
      ]
     },
     "execution_count": 19,
     "metadata": {},
     "output_type": "execute_result"
    }
   ],
   "source": [
    "# Calculate MAPE.\n",
    "errors = np.abs(test_preds - test_flower_counts) / ((np.abs(test_preds) + np.abs(test_flower_counts)) / 2) * 100\n",
    "np.mean(errors)"
   ]
  },
  {
   "cell_type": "code",
   "execution_count": 20,
   "id": "2e929358-790f-4dd5-bb00-6e35baf2838b",
   "metadata": {
    "tags": []
   },
   "outputs": [
    {
     "data": {
      "text/html": [
       "<pre style=\"white-space:pre;overflow-x:auto;line-height:normal;font-family:Menlo,'DejaVu Sans Mono',consolas,'Courier New',monospace\"></pre>\n"
      ],
      "text/plain": []
     },
     "metadata": {},
     "output_type": "display_data"
    },
    {
     "data": {
      "image/png": "[encoded data removed]",
      "text/plain": [
       "\u001b[1m<\u001b[0m\u001b[1;95mFigure\u001b[0m\u001b[39m size 64\u001b[0m\u001b[1;36m0x480\u001b[0m\u001b[39m with \u001b[0m\u001b[1;36m1\u001b[0m\u001b[39m Axes\u001b[0m\u001b[1m>\u001b[0m"
      ]
     },
     "metadata": {},
     "output_type": "display_data"
    }
   ],
   "source": [
    "%matplotlib inline\n",
    "import seaborn as sns\n",
    "import matplotlib.pyplot as plt\n",
    "\n",
    "sns.set()\n",
    "\n",
    "sns.regplot(x=test_flower_counts, y=test_preds)\n",
    "plt.show()"
   ]
  },
  {
   "cell_type": "code",
   "execution_count": 21,
   "id": "edbe2b6a-40f5-457c-98b9-80735eef556c",
   "metadata": {},
   "outputs": [
    {
     "data": {
      "text/html": [
       "<pre style=\"white-space:pre;overflow-x:auto;line-height:normal;font-family:Menlo,'DejaVu Sans Mono',consolas,'Courier New',monospace\"></pre>\n"
      ],
      "text/plain": []
     },
     "metadata": {},
     "output_type": "display_data"
    },
    {
     "data": {
      "text/plain": [
       "\u001b[1m<\u001b[0m\u001b[1;95mAxes:\u001b[0m\u001b[39m \u001b[0m\u001b[33mylabel\u001b[0m\u001b[39m=\u001b[0m\u001b[32m'Count'\u001b[0m\u001b[1m>\u001b[0m"
      ]
     },
     "execution_count": 21,
     "metadata": {},
     "output_type": "execute_result"
    },
    {
     "data": {
      "text/html": [
       "<pre style=\"white-space:pre;overflow-x:auto;line-height:normal;font-family:Menlo,'DejaVu Sans Mono',consolas,'Courier New',monospace\"></pre>\n"
      ],
      "text/plain": []
     },
     "metadata": {},
     "output_type": "display_data"
    },
    {
     "data": {
      "image/png": "[encoded data removed]",
      "text/plain": [
       "\u001b[1m<\u001b[0m\u001b[1;95mFigure\u001b[0m\u001b[39m size 64\u001b[0m\u001b[1;36m0x480\u001b[0m\u001b[39m with \u001b[0m\u001b[1;36m1\u001b[0m\u001b[39m Axes\u001b[0m\u001b[1m>\u001b[0m"
      ]
     },
     "metadata": {},
     "output_type": "display_data"
    }
   ],
   "source": [
    "sns.histplot(x=errors)"
   ]
  },
  {
   "cell_type": "code",
   "execution_count": 19,
   "id": "1e37bd3e-ed25-4568-8a73-9f0fd3581293",
   "metadata": {},
   "outputs": [],
   "source": [
    "from pathlib import Path\n",
    "from typing import Tuple, List\n",
    "import numpy as np\n",
    "\n",
    "# Load the plot status data.\n",
    "PLOT_STATUS_DATA_PATH = Path(\"/home/daniel/lab_share/projects/SSL/plot_status_dataset\")\n",
    "train_dir = PLOT_STATUS_DATA_PATH / \"train\"\n",
    "test_dir = PLOT_STATUS_DATA_PATH / \"test\"\n",
    "\n",
    "LABEL_MAP = {\"in_plot\": 0, \"between_plots\": 1, \"headland\": 2}\n",
    "\n",
    "def collect_images_and_labels(data_dir: Path) -> Tuple[List[Path], np.array]:\n",
    "    image_paths = []\n",
    "    labels = []\n",
    "    \n",
    "    for category_dir in data_dir.iterdir():\n",
    "        for image_path in category_dir.iterdir():\n",
    "            image_paths.append(image_path)\n",
    "            labels.append(LABEL_MAP[category_dir.name])\n",
    "            \n",
    "    return image_paths, np.array(labels)\n",
    "\n",
    "train_images, train_labels = collect_images_and_labels(train_dir)\n",
    "test_images, test_labels = collect_images_and_labels(test_dir)"
   ]
  },
  {
   "cell_type": "code",
   "execution_count": 20,
   "id": "679429e9-e336-475e-b244-6e81bd58ab45",
   "metadata": {
    "tags": []
   },
   "outputs": [
    {
     "name": "stderr",
     "output_type": "stream",
     "text": [
      "100%|████████████████████████████████████████████████████████████████████████████████████████████████████████████████████████████████████████████████████████████████████████████████████████████████████████████████████████████████████████████████████████████████████████████████████████████████████████████████████████████████| 50/50 [00:08<00:00,  6.01it/s]\n",
      "100%|████████████████████████████████████████████████████████████████████████████████████████████████████████████████████████████████████████████████████████████████████████████████████████████████████████████████████████████████████████████████████████████████████████████████████████████████████████████████████████████████| 20/20 [00:03<00:00,  5.74it/s]\n"
     ]
    }
   ],
   "source": [
    "# Compute image representations.\n",
    "train_image_reps, _ = extract_image_reps(train_images)\n",
    "test_image_reps, _ = extract_image_reps(test_images)"
   ]
  },
  {
   "cell_type": "code",
   "execution_count": 21,
   "id": "db7c8f1e-4a06-46c9-b37f-da9d630182f8",
   "metadata": {
    "tags": []
   },
   "outputs": [],
   "source": [
    "from sklearn.model_selection import PredefinedSplit\n",
    "\n",
    "# Create combined dataset.\n",
    "all_image_reps = np.concatenate(train_image_reps + test_image_reps, axis=0)\n",
    "all_plot_status = np.concatenate([train_labels, test_labels], axis=0)\n",
    "train_indices = [-1] * len(train_image_reps)\n",
    "test_indices = [0] * len(test_image_reps)\n",
    "split = PredefinedSplit(train_indices + test_indices)"
   ]
  },
  {
   "cell_type": "code",
   "execution_count": 22,
   "id": "5c321cf5-df88-4159-a718-6091fa43f727",
   "metadata": {
    "tags": []
   },
   "outputs": [],
   "source": [
    "# Fit the model.\n",
    "from sklearn.linear_model import LogisticRegressionCV, LogisticRegression\n",
    "\n",
    "alphas = [1e-4, 0.01, 0.1, 1.0, 2.0, 8.0, 32.0, 64.0, 128.0]\n",
    "reg_search = LogisticRegressionCV(Cs=alphas, cv=split).fit(all_image_reps, all_plot_status)\n",
    "# LogisticRegressionCV is going to go and refit on the whole dataset once it finds the best alpha, which we don't want.\n",
    "# Fit manually with the best alpha on just the training data.\n",
    "reg = LogisticRegression(C=np.mean(reg_search.C_)).fit(np.concatenate(train_image_reps, axis=0), train_labels)"
   ]
  },
  {
   "cell_type": "code",
   "execution_count": 23,
   "id": "1c41fb6e-8e8f-4548-9d27-2e45397080b9",
   "metadata": {
    "tags": []
   },
   "outputs": [
    {
     "data": {
      "text/html": [
       "<pre style=\"white-space:pre;overflow-x:auto;line-height:normal;font-family:Menlo,'DejaVu Sans Mono',consolas,'Courier New',monospace\"></pre>\n"
      ],
      "text/plain": []
     },
     "metadata": {},
     "output_type": "display_data"
    },
    {
     "data": {
      "text/plain": [
       "\u001b[1;35marray\u001b[0m\u001b[1m(\u001b[0m\u001b[1m[\u001b[0m\u001b[1;36m2\u001b[0m, \u001b[1;36m2\u001b[0m, \u001b[1;36m2\u001b[0m, \u001b[1;36m2\u001b[0m, \u001b[1;36m2\u001b[0m, \u001b[1;36m1\u001b[0m, \u001b[1;36m1\u001b[0m, \u001b[1;36m1\u001b[0m, \u001b[1;36m1\u001b[0m, \u001b[1;36m1\u001b[0m, \u001b[1;36m1\u001b[0m, \u001b[1;36m0\u001b[0m, \u001b[1;36m0\u001b[0m, \u001b[1;36m0\u001b[0m, \u001b[1;36m0\u001b[0m, \u001b[1;36m0\u001b[0m, \u001b[1;36m0\u001b[0m, \u001b[1;36m0\u001b[0m, \u001b[1;36m0\u001b[0m, \u001b[1;36m0\u001b[0m\u001b[1m]\u001b[0m\u001b[1m)\u001b[0m"
      ]
     },
     "execution_count": 23,
     "metadata": {},
     "output_type": "execute_result"
    }
   ],
   "source": [
    "# Compute predictions on test set.\n",
    "test_image_reps_arr = np.concatenate(test_image_reps, axis=0)\n",
    "test_preds = reg.predict(test_image_reps_arr)\n",
    "test_preds"
   ]
  },
  {
   "cell_type": "code",
   "execution_count": 24,
   "id": "a6d6d6e0-f1cb-4056-b6ef-c0cafc96fedd",
   "metadata": {
    "tags": []
   },
   "outputs": [
    {
     "data": {
      "text/html": [
       "<pre style=\"white-space:pre;overflow-x:auto;line-height:normal;font-family:Menlo,'DejaVu Sans Mono',consolas,'Courier New',monospace\"></pre>\n"
      ],
      "text/plain": []
     },
     "metadata": {},
     "output_type": "display_data"
    },
    {
     "data": {
      "text/plain": [
       "\u001b[1;36m1.0\u001b[0m"
      ]
     },
     "execution_count": 24,
     "metadata": {},
     "output_type": "execute_result"
    }
   ],
   "source": [
    "# Calculate accuracy.\n",
    "test_accuracy = np.sum(test_preds == test_labels) / len(test_labels)\n",
    "test_accuracy"
   ]
  },
  {
   "cell_type": "code",
   "execution_count": null,
   "id": "fd22c020-80b2-4e9b-ad24-d6aea79a7ed6",
   "metadata": {},
   "outputs": [],
   "source": []
  }
 ],
 "metadata": {
  "kernelspec": {
   "display_name": "Kedro (self_supervised)",
   "language": "python",
   "name": "kedro_self_supervised"
  },
  "language_info": {
   "codemirror_mode": {
    "name": "ipython",
    "version": 3
   },
   "file_extension": ".py",
   "mimetype": "text/x-python",
   "name": "python",
   "nbconvert_exporter": "python",
   "pygments_lexer": "ipython3",
   "version": "3.10.10"
  }
 },
 "nbformat": 4,
 "nbformat_minor": 5
}
