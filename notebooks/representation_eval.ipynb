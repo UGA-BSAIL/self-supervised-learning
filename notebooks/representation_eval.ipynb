{
 "cells": [
  {
   "cell_type": "code",
   "execution_count": 1,
   "id": "acfda911-ae74-4318-a246-949fe66cdd10",
   "metadata": {
    "tags": []
   },
   "outputs": [
    {
     "name": "stdout",
     "output_type": "stream",
     "text": [
      "2023-03-21 10:22:34,857 - py.warnings - WARNING - /home/daniel/git/self-supervised-learning/.venv/lib/python3.10/site-packages/thop/profile.py:12: DeprecationWarning: distutils Version classes are deprecated. Use packaging.version instead.\n",
      "  if LooseVersion(torch.__version__) < LooseVersion(\"1.0.0\"):\n",
      "\n",
      "2023-03-21 10:22:34,857 - py.warnings - WARNING - /home/daniel/git/self-supervised-learning/.venv/lib/python3.10/site-packages/thop/profile.py:68: DeprecationWarning: distutils Version classes are deprecated. Use packaging.version instead.\n",
      "  if LooseVersion(torch.__version__) >= LooseVersion(\"1.1.0\"):\n",
      "\n",
      "2023-03-21 10:22:34,974 - py.warnings - WARNING - /home/daniel/git/self-supervised-learning/.venv/lib/python3.10/site-packages/seaborn/rcmod.py:82: DeprecationWarning: distutils Version classes are deprecated. Use packaging.version instead.\n",
      "  if LooseVersion(mpl.__version__) >= \"3.0\":\n",
      "\n",
      "2023-03-21 10:22:34,975 - py.warnings - WARNING - /home/daniel/git/self-supervised-learning/.venv/lib/python3.10/site-packages/setuptools/_distutils/version.py:346: DeprecationWarning: distutils Version classes are deprecated. Use packaging.version instead.\n",
      "  other = LooseVersion(other)\n",
      "\n",
      "2023-03-21 10:22:34,983 - py.warnings - WARNING - /home/daniel/git/self-supervised-learning/.venv/lib/python3.10/site-packages/seaborn/cm.py:1582: MatplotlibDeprecationWarning: The register_cmap function was deprecated in Matplotlib 3.7 and will be removed two minor releases later. Use ``matplotlib.colormaps.register(name)`` instead.\n",
      "  mpl_cm.register_cmap(_name, _cmap)\n",
      "\n",
      "2023-03-21 10:22:34,983 - py.warnings - WARNING - /home/daniel/git/self-supervised-learning/.venv/lib/python3.10/site-packages/seaborn/cm.py:1583: MatplotlibDeprecationWarning: The register_cmap function was deprecated in Matplotlib 3.7 and will be removed two minor releases later. Use ``matplotlib.colormaps.register(name)`` instead.\n",
      "  mpl_cm.register_cmap(_name + \"_r\", _cmap_r)\n",
      "\n",
      "2023-03-21 10:22:34,987 - kedro.ipython - INFO - Resolved project path as: /home/daniel/git/self-supervised-learning.\n",
      "To set a different path, run '%reload_kedro <project_root>'\n",
      "2023-03-21 10:22:34,988 - py.warnings - WARNING - /home/daniel/git/self-supervised-learning/.venv/lib/python3.10/site-packages/kedro/framework/startup.py:98: DeprecationWarning: project_version in pyproject.toml is deprecated, use kedro_init_version instead\n",
      "  warnings.warn(\n",
      "\n",
      "2023-03-21 10:22:35,202 - kedro.ipython - INFO - Kedro project Self-Supervised Learning\n",
      "2023-03-21 10:22:35,203 - kedro.ipython - INFO - Defined global variable 'context', 'session', 'catalog' and 'pipelines'\n",
      "2023-03-21 10:22:35,207 - kedro.io.data_catalog - INFO - Loading data from 'yolov5_l_description' (YAMLDataSet)...\n",
      "2023-03-21 10:22:35,212 - kedro.io.data_catalog - INFO - Loading data from 'trained_model' (PytorchModelDataSet)...\n"
     ]
    },
    {
     "name": "stderr",
     "output_type": "stream",
     "text": [
      "2023-03-21 10:22:35.213 | WARNING  | self_supervised.extras.datasets.pytorch_model_data_set:_load:42 - CUDA not available, automatically mapping variables to the CPU.\n"
     ]
    }
   ],
   "source": [
    "from self_supervised.pipelines.representation_model import RepresentationModel, YoloEncoder\n",
    "from yolov5.models.yolo import DetectionModel\n",
    "import torch\n",
    "\n",
    "%reload_kedro\n",
    "model_description = catalog.load(\"yolov5_l_description\")\n",
    "trained_model = catalog.load(\"trained_model\", version=\"2023-03-21T10.06.00.000Z\")\n",
    "\n",
    "# Random model\n",
    "# encoder = YoloEncoder(model_description=model_description)\n",
    "# trained_model = RepresentationModel(encoder=encoder)\n",
    "\n",
    "# CoCO model\n",
    "# model_description[\"head\"] = model_description[\"head\"][:-1]\n",
    "# trained_model = DetectionModel(model_description)\n",
    "# weights_model = torch.load(\"../yolov5l.pt\", map_location=\"cpu\")\n",
    "# state_dict = weights_model[\"model\"].float().state_dict()\n",
    "# trained_model.load_state_dict(state_dict, strict=False)\n",
    "\n",
    "trained_model = trained_model.encoder\n",
    "trained_model = trained_model.eval()"
   ]
  },
  {
   "cell_type": "code",
   "execution_count": 4,
   "id": "c1878dbc-46f2-463f-b313-6dc1aed75b69",
   "metadata": {
    "tags": []
   },
   "outputs": [],
   "source": [
    "from pathlib import Path\n",
    "\n",
    "dataset_path = Path(\"/home/daniel/lab_share/projects/CottonFlower2021/flower_dataset\")\n",
    "image_dir = dataset_path / \"active_1\" / \"images\""
   ]
  },
  {
   "cell_type": "code",
   "execution_count": 5,
   "id": "c41fe7f6-ac26-435f-a8ed-996eacd3b5fd",
   "metadata": {
    "tags": []
   },
   "outputs": [],
   "source": [
    "# import random\n",
    "# random.sample(range(160), 10)\n",
    "\n",
    "# indices = [143, 159, 78, 12, 34, 116, 118, 0, 44, 124]"
   ]
  },
  {
   "cell_type": "code",
   "execution_count": 6,
   "id": "5a67e6c7-88c4-40b3-a33d-1a67a76f0d5f",
   "metadata": {
    "tags": []
   },
   "outputs": [
    {
     "name": "stderr",
     "output_type": "stream",
     "text": [
      "100%|████████████████████████████████████████████████████| 160/160 [00:24<00:00,  6.63it/s]\n"
     ]
    }
   ],
   "source": [
    "from torchvision.io import read_image\n",
    "from torchvision.transforms.functional import resize\n",
    "from tqdm import tqdm\n",
    "import torch\n",
    "\n",
    "image_reps = []\n",
    "\n",
    "image_list = sorted(list(image_dir.iterdir()))\n",
    "# image_list = [image_list[i] for i in indices]\n",
    "for image_path in tqdm(image_list):\n",
    "    image = read_image(image_path.as_posix())\n",
    "    image.requires_grad = False\n",
    "    image = resize(image, (512, 512))\n",
    "    image = image.to(torch.float) / 255\n",
    "    image_ex = image[None, :, :, :]\n",
    "    \n",
    "    image_reps.append(trained_model(image_ex)[0].detach().reshape((1, -1)).numpy())"
   ]
  },
  {
   "cell_type": "code",
   "execution_count": 7,
   "id": "43808fe8-1319-464a-8977-4e7f42db135f",
   "metadata": {
    "tags": []
   },
   "outputs": [
    {
     "data": {
      "text/html": [
       "<div>\n",
       "<style scoped>\n",
       "    .dataframe tbody tr th:only-of-type {\n",
       "        vertical-align: middle;\n",
       "    }\n",
       "\n",
       "    .dataframe tbody tr th {\n",
       "        vertical-align: top;\n",
       "    }\n",
       "\n",
       "    .dataframe thead th {\n",
       "        text-align: right;\n",
       "    }\n",
       "</style>\n",
       "<table border=\"1\" class=\"dataframe\">\n",
       "  <thead>\n",
       "    <tr style=\"text-align: right;\">\n",
       "      <th></th>\n",
       "      <th>class</th>\n",
       "      <th>x</th>\n",
       "      <th>y</th>\n",
       "      <th>width</th>\n",
       "      <th>height</th>\n",
       "      <th>frame</th>\n",
       "    </tr>\n",
       "  </thead>\n",
       "  <tbody>\n",
       "    <tr>\n",
       "      <th>0</th>\n",
       "      <td>0</td>\n",
       "      <td>0.386324</td>\n",
       "      <td>0.308469</td>\n",
       "      <td>0.030488</td>\n",
       "      <td>0.046636</td>\n",
       "      <td>p0_P1090018.txt</td>\n",
       "    </tr>\n",
       "    <tr>\n",
       "      <th>1</th>\n",
       "      <td>0</td>\n",
       "      <td>0.284843</td>\n",
       "      <td>0.252320</td>\n",
       "      <td>0.026132</td>\n",
       "      <td>0.038283</td>\n",
       "      <td>p0_P1090081.txt</td>\n",
       "    </tr>\n",
       "    <tr>\n",
       "      <th>2</th>\n",
       "      <td>0</td>\n",
       "      <td>0.448606</td>\n",
       "      <td>0.327726</td>\n",
       "      <td>0.013937</td>\n",
       "      <td>0.029002</td>\n",
       "      <td>p0_P1090300.txt</td>\n",
       "    </tr>\n",
       "    <tr>\n",
       "      <th>3</th>\n",
       "      <td>0</td>\n",
       "      <td>0.138937</td>\n",
       "      <td>0.221578</td>\n",
       "      <td>0.023519</td>\n",
       "      <td>0.032483</td>\n",
       "      <td>p0_P1090300.txt</td>\n",
       "    </tr>\n",
       "    <tr>\n",
       "      <th>4</th>\n",
       "      <td>0</td>\n",
       "      <td>0.030488</td>\n",
       "      <td>0.099768</td>\n",
       "      <td>0.024390</td>\n",
       "      <td>0.034803</td>\n",
       "      <td>p0_P1090300.txt</td>\n",
       "    </tr>\n",
       "    <tr>\n",
       "      <th>...</th>\n",
       "      <td>...</td>\n",
       "      <td>...</td>\n",
       "      <td>...</td>\n",
       "      <td>...</td>\n",
       "      <td>...</td>\n",
       "      <td>...</td>\n",
       "    </tr>\n",
       "    <tr>\n",
       "      <th>300</th>\n",
       "      <td>0</td>\n",
       "      <td>0.309612</td>\n",
       "      <td>0.294762</td>\n",
       "      <td>0.010253</td>\n",
       "      <td>0.014188</td>\n",
       "      <td>p9_P1680757.txt</td>\n",
       "    </tr>\n",
       "    <tr>\n",
       "      <th>301</th>\n",
       "      <td>0</td>\n",
       "      <td>0.365584</td>\n",
       "      <td>0.297645</td>\n",
       "      <td>0.009460</td>\n",
       "      <td>0.017842</td>\n",
       "      <td>p9_P1680757.txt</td>\n",
       "    </tr>\n",
       "    <tr>\n",
       "      <th>302</th>\n",
       "      <td>0</td>\n",
       "      <td>0.500000</td>\n",
       "      <td>0.379350</td>\n",
       "      <td>0.013937</td>\n",
       "      <td>0.016241</td>\n",
       "      <td>p9_P1680757.txt</td>\n",
       "    </tr>\n",
       "    <tr>\n",
       "      <th>303</th>\n",
       "      <td>0</td>\n",
       "      <td>0.908537</td>\n",
       "      <td>0.736079</td>\n",
       "      <td>0.012195</td>\n",
       "      <td>0.017401</td>\n",
       "      <td>p9_P1680757.txt</td>\n",
       "    </tr>\n",
       "    <tr>\n",
       "      <th>304</th>\n",
       "      <td>0</td>\n",
       "      <td>0.827539</td>\n",
       "      <td>0.119165</td>\n",
       "      <td>0.013406</td>\n",
       "      <td>0.016798</td>\n",
       "      <td>p9_P1780789.txt</td>\n",
       "    </tr>\n",
       "  </tbody>\n",
       "</table>\n",
       "<p>305 rows × 6 columns</p>\n",
       "</div>"
      ]
     },
     "execution_count": 7,
     "metadata": {},
     "output_type": "execute_result"
    }
   ],
   "source": [
    "# Load flower counts.\n",
    "import pandas as pd\n",
    "\n",
    "labels_dir = dataset_path / \"active_1\" / \"labels\"\n",
    "all_labels = []\n",
    "labels_list = sorted(list(labels_dir.iterdir()))\n",
    "# labels_list = [labels_list[i] for i in indices]\n",
    "for labels_path in labels_list:\n",
    "    frame_labels = pd.read_csv(labels_path, sep=\" \", names=[\"class\", \"x\", \"y\", \"width\", \"height\"])\n",
    "    frame_labels[\"frame\"] = labels_path.name\n",
    "    all_labels.append(frame_labels)\n",
    "    \n",
    "all_labels = pd.concat(all_labels, ignore_index=True)\n",
    "all_labels"
   ]
  },
  {
   "cell_type": "code",
   "execution_count": 8,
   "id": "96a261b8-3343-4c52-a567-4a94fcbc3964",
   "metadata": {
    "tags": []
   },
   "outputs": [],
   "source": [
    "import numpy as np\n",
    "\n",
    "# Create flower counts labels.\n",
    "flower_counts = []\n",
    "for image_path in labels_list:\n",
    "    flower_counts.append(np.count_nonzero(all_labels[\"frame\"] == image_path.name))\n",
    "    \n",
    "# Any missing counts are zeros.\n",
    "for _ in range(len(flower_counts), len(image_reps)):\n",
    "    flower_counts.append(0)"
   ]
  },
  {
   "cell_type": "code",
   "execution_count": 9,
   "id": "8cd84dd2-fc0b-482e-b69a-7bed0e95f7e5",
   "metadata": {
    "tags": []
   },
   "outputs": [
    {
     "name": "stderr",
     "output_type": "stream",
     "text": [
      "100%|████████████████████████████████████████████████████| 160/160 [00:25<00:00,  6.33it/s]\n"
     ]
    }
   ],
   "source": [
    "test_image_dir = dataset_path / \"2018-08-22\" / \"images\"\n",
    "\n",
    "test_image_reps = []\n",
    "\n",
    "image_list = sorted(list(test_image_dir.iterdir()))\n",
    "for image_path in tqdm(image_list):\n",
    "    image = read_image(image_path.as_posix())\n",
    "    image.requires_grad = False\n",
    "    image = resize(image, (512, 512))\n",
    "    image = image.to(torch.float) / 255\n",
    "    image_ex = image[None, :, :, :]\n",
    "    \n",
    "    test_image_reps.append(trained_model(image_ex)[0].detach().reshape((1, -1)).numpy())"
   ]
  },
  {
   "cell_type": "code",
   "execution_count": 10,
   "id": "1d4b4cc4-c178-4e22-be2e-d21b0bb5d899",
   "metadata": {
    "tags": []
   },
   "outputs": [
    {
     "data": {
      "text/html": [
       "<div>\n",
       "<style scoped>\n",
       "    .dataframe tbody tr th:only-of-type {\n",
       "        vertical-align: middle;\n",
       "    }\n",
       "\n",
       "    .dataframe tbody tr th {\n",
       "        vertical-align: top;\n",
       "    }\n",
       "\n",
       "    .dataframe thead th {\n",
       "        text-align: right;\n",
       "    }\n",
       "</style>\n",
       "<table border=\"1\" class=\"dataframe\">\n",
       "  <thead>\n",
       "    <tr style=\"text-align: right;\">\n",
       "      <th></th>\n",
       "      <th>class</th>\n",
       "      <th>x</th>\n",
       "      <th>y</th>\n",
       "      <th>width</th>\n",
       "      <th>height</th>\n",
       "      <th>frame</th>\n",
       "    </tr>\n",
       "  </thead>\n",
       "  <tbody>\n",
       "    <tr>\n",
       "      <th>0</th>\n",
       "      <td>0</td>\n",
       "      <td>0.414497</td>\n",
       "      <td>0.818287</td>\n",
       "      <td>0.039062</td>\n",
       "      <td>0.046296</td>\n",
       "      <td>p0_P2530585.txt</td>\n",
       "    </tr>\n",
       "    <tr>\n",
       "      <th>1</th>\n",
       "      <td>0</td>\n",
       "      <td>0.245660</td>\n",
       "      <td>0.649884</td>\n",
       "      <td>0.019097</td>\n",
       "      <td>0.028935</td>\n",
       "      <td>p0_P2530668.txt</td>\n",
       "    </tr>\n",
       "    <tr>\n",
       "      <th>2</th>\n",
       "      <td>0</td>\n",
       "      <td>0.636719</td>\n",
       "      <td>0.209491</td>\n",
       "      <td>0.018229</td>\n",
       "      <td>0.025463</td>\n",
       "      <td>p0_P2530668.txt</td>\n",
       "    </tr>\n",
       "    <tr>\n",
       "      <th>3</th>\n",
       "      <td>0</td>\n",
       "      <td>0.827691</td>\n",
       "      <td>0.566551</td>\n",
       "      <td>0.019965</td>\n",
       "      <td>0.026620</td>\n",
       "      <td>p0_P2530668.txt</td>\n",
       "    </tr>\n",
       "    <tr>\n",
       "      <th>4</th>\n",
       "      <td>0</td>\n",
       "      <td>0.392734</td>\n",
       "      <td>0.709734</td>\n",
       "      <td>0.022448</td>\n",
       "      <td>0.033588</td>\n",
       "      <td>p0_P2530668.txt</td>\n",
       "    </tr>\n",
       "    <tr>\n",
       "      <th>...</th>\n",
       "      <td>...</td>\n",
       "      <td>...</td>\n",
       "      <td>...</td>\n",
       "      <td>...</td>\n",
       "      <td>...</td>\n",
       "      <td>...</td>\n",
       "    </tr>\n",
       "    <tr>\n",
       "      <th>382</th>\n",
       "      <td>0</td>\n",
       "      <td>0.053385</td>\n",
       "      <td>0.823495</td>\n",
       "      <td>0.021701</td>\n",
       "      <td>0.028935</td>\n",
       "      <td>p9_P2540369.txt</td>\n",
       "    </tr>\n",
       "    <tr>\n",
       "      <th>383</th>\n",
       "      <td>0</td>\n",
       "      <td>0.441840</td>\n",
       "      <td>0.266204</td>\n",
       "      <td>0.019097</td>\n",
       "      <td>0.025463</td>\n",
       "      <td>p9_P2540369.txt</td>\n",
       "    </tr>\n",
       "    <tr>\n",
       "      <th>384</th>\n",
       "      <td>0</td>\n",
       "      <td>0.533854</td>\n",
       "      <td>0.799769</td>\n",
       "      <td>0.032986</td>\n",
       "      <td>0.041667</td>\n",
       "      <td>p9_P2540420.txt</td>\n",
       "    </tr>\n",
       "    <tr>\n",
       "      <th>385</th>\n",
       "      <td>0</td>\n",
       "      <td>0.404948</td>\n",
       "      <td>0.767361</td>\n",
       "      <td>0.019965</td>\n",
       "      <td>0.025463</td>\n",
       "      <td>p9_P2540420.txt</td>\n",
       "    </tr>\n",
       "    <tr>\n",
       "      <th>386</th>\n",
       "      <td>0</td>\n",
       "      <td>0.343316</td>\n",
       "      <td>0.987269</td>\n",
       "      <td>0.016493</td>\n",
       "      <td>0.025463</td>\n",
       "      <td>p9_P2540420.txt</td>\n",
       "    </tr>\n",
       "  </tbody>\n",
       "</table>\n",
       "<p>387 rows × 6 columns</p>\n",
       "</div>"
      ]
     },
     "execution_count": 10,
     "metadata": {},
     "output_type": "execute_result"
    }
   ],
   "source": [
    "test_labels_dir = dataset_path / \"2018-08-22\" / \"labels\"\n",
    "all_labels_test = []\n",
    "labels_list = sorted(list(test_labels_dir.iterdir()))\n",
    "for labels_path in labels_list:\n",
    "    frame_labels = pd.read_csv(labels_path, sep=\" \", names=[\"class\", \"x\", \"y\", \"width\", \"height\"])\n",
    "    frame_labels[\"frame\"] = labels_path.name\n",
    "    all_labels_test.append(frame_labels)\n",
    "    \n",
    "all_labels_test = pd.concat(all_labels_test, ignore_index=True)\n",
    "all_labels_test"
   ]
  },
  {
   "cell_type": "code",
   "execution_count": 11,
   "id": "0543d1a7-4b18-4d0f-8536-3529a2cda92a",
   "metadata": {
    "tags": []
   },
   "outputs": [],
   "source": [
    "# Create flower counts.\n",
    "test_flower_counts = []\n",
    "for image_path in labels_list:\n",
    "    test_flower_counts.append(np.count_nonzero(all_labels_test[\"frame\"] == image_path.name))\n",
    "    \n",
    "# Any missing counts are zeros.\n",
    "for _ in range(len(test_flower_counts), len(test_image_reps)):\n",
    "    test_flower_counts.append(0)"
   ]
  },
  {
   "cell_type": "code",
   "execution_count": 12,
   "id": "1741b680-ed08-476e-9a0f-5cb5f0118805",
   "metadata": {
    "tags": []
   },
   "outputs": [],
   "source": [
    "from sklearn.model_selection import PredefinedSplit\n",
    "\n",
    "# Create combined dataset.\n",
    "all_image_reps = image_reps + test_image_reps\n",
    "all_flower_counts = flower_counts + test_flower_counts\n",
    "train_indices = [-1] * len(image_reps)\n",
    "test_indices = [0] * len(test_image_reps)\n",
    "split = PredefinedSplit(train_indices + test_indices)"
   ]
  },
  {
   "cell_type": "code",
   "execution_count": 13,
   "id": "8ca94b64-b75c-41e7-a3f3-459bd29de228",
   "metadata": {
    "tags": []
   },
   "outputs": [
    {
     "name": "stdout",
     "output_type": "stream",
     "text": [
      "2023-03-21 10:23:44,787 - py.warnings - WARNING - /home/daniel/git/self-supervised-learning/.venv/lib/python3.10/site-packages/sklearn/linear_model/_ridge.py:253: LinAlgWarning: Ill-conditioned matrix (rcond=6.10134e-09): result may not be accurate.\n",
      "  dual_coef = linalg.solve(K, y, assume_a=\"pos\", overwrite_a=False)\n",
      "\n"
     ]
    }
   ],
   "source": [
    "from sklearn.linear_model import RidgeCV, Ridge\n",
    "\n",
    "all_flower_counts = np.array(all_flower_counts, dtype=float)\n",
    "all_image_reps_arr = np.concatenate(all_image_reps, axis=0)\n",
    "\n",
    "alphas = [1e-6, 1e-4, 0.01, 0.1, 1.0, 2.0, 4.0, 8.0, 16.0, 32.0, 64.0, 128.0]\n",
    "reg_search = RidgeCV(alphas=alphas, cv=split).fit(all_image_reps_arr, all_flower_counts)\n",
    "# RidgeCV is going to go and refit on the whole dataset once it finds the best alpha, which we don't want.\n",
    "# Fit manually with the best alpha on just the training data.\n",
    "reg = Ridge(reg_search.alpha_).fit(np.concatenate(image_reps, axis=0), np.array(flower_counts))"
   ]
  },
  {
   "cell_type": "code",
   "execution_count": 14,
   "id": "23cf629c-e859-47c7-92ac-593d56789b05",
   "metadata": {
    "tags": []
   },
   "outputs": [
    {
     "data": {
      "text/html": [
       "<pre style=\"white-space:pre;overflow-x:auto;line-height:normal;font-family:Menlo,'DejaVu Sans Mono',consolas,'Courier New',monospace\">\n",
       "<span style=\"color: #800080; text-decoration-color: #800080; font-weight: bold\">array</span><span style=\"font-weight: bold\">([</span>    <span style=\"color: #008080; text-decoration-color: #008080; font-weight: bold\">0.28491</span>,      <span style=\"color: #008080; text-decoration-color: #008080; font-weight: bold\">1.9021</span>,      <span style=\"color: #008080; text-decoration-color: #008080; font-weight: bold\">2.0839</span>,      <span style=\"color: #008080; text-decoration-color: #008080; font-weight: bold\">0.9008</span>,      <span style=\"color: #008080; text-decoration-color: #008080; font-weight: bold\">1.6565</span>,      <span style=\"color: #008080; text-decoration-color: #008080; font-weight: bold\">1.5279</span>,      <span style=\"color: #008080; text-decoration-color: #008080; font-weight: bold\">1.6445</span>,      <span style=\"color: #008080; text-decoration-color: #008080; font-weight: bold\">1.5614</span>,      <span style=\"color: #008080; text-decoration-color: #008080; font-weight: bold\">1.6811</span>,      <span style=\"color: #008080; text-decoration-color: #008080; font-weight: bold\">2.2809</span>,    <span style=\"color: #008080; text-decoration-color: #008080; font-weight: bold\">0.061582</span>,     <span style=\"color: #008080; text-decoration-color: #008080; font-weight: bold\">0.84533</span>,      <span style=\"color: #008080; text-decoration-color: #008080; font-weight: bold\">1.7768</span>,      <span style=\"color: #008080; text-decoration-color: #008080; font-weight: bold\">1.5124</span>,      <span style=\"color: #008080; text-decoration-color: #008080; font-weight: bold\">2.8554</span>,     <span style=\"color: #008080; text-decoration-color: #008080; font-weight: bold\">0.69078</span>,      <span style=\"color: #008080; text-decoration-color: #008080; font-weight: bold\">1.1657</span>,      <span style=\"color: #008080; text-decoration-color: #008080; font-weight: bold\">1.9429</span>,      <span style=\"color: #008080; text-decoration-color: #008080; font-weight: bold\">1.9026</span>,      <span style=\"color: #008080; text-decoration-color: #008080; font-weight: bold\">1.0011</span>,      <span style=\"color: #008080; text-decoration-color: #008080; font-weight: bold\">1.7339</span>,      <span style=\"color: #008080; text-decoration-color: #008080; font-weight: bold\">1.9658</span>,      <span style=\"color: #008080; text-decoration-color: #008080; font-weight: bold\">2.2125</span>,      <span style=\"color: #008080; text-decoration-color: #008080; font-weight: bold\">2.7372</span>,\n",
       "            <span style=\"color: #008080; text-decoration-color: #008080; font-weight: bold\">2.2213</span>,      <span style=\"color: #008080; text-decoration-color: #008080; font-weight: bold\">1.4645</span>,       <span style=\"color: #008080; text-decoration-color: #008080; font-weight: bold\">1.883</span>,       <span style=\"color: #008080; text-decoration-color: #008080; font-weight: bold\">1.424</span>,       <span style=\"color: #008080; text-decoration-color: #008080; font-weight: bold\">2.033</span>,      <span style=\"color: #008080; text-decoration-color: #008080; font-weight: bold\">1.0651</span>,     <span style=\"color: #008080; text-decoration-color: #008080; font-weight: bold\">0.27459</span>,      <span style=\"color: #008080; text-decoration-color: #008080; font-weight: bold\">1.7655</span>,      <span style=\"color: #008080; text-decoration-color: #008080; font-weight: bold\">2.4646</span>,      <span style=\"color: #008080; text-decoration-color: #008080; font-weight: bold\">2.3028</span>,      <span style=\"color: #008080; text-decoration-color: #008080; font-weight: bold\">4.0761</span>,     <span style=\"color: #008080; text-decoration-color: #008080; font-weight: bold\">0.79255</span>,      <span style=\"color: #008080; text-decoration-color: #008080; font-weight: bold\">1.4088</span>,      <span style=\"color: #008080; text-decoration-color: #008080; font-weight: bold\">2.0491</span>,      <span style=\"color: #008080; text-decoration-color: #008080; font-weight: bold\">1.9222</span>,      <span style=\"color: #008080; text-decoration-color: #008080; font-weight: bold\">2.5441</span>,     <span style=\"color: #008080; text-decoration-color: #008080; font-weight: bold\">0.59771</span>,      <span style=\"color: #008080; text-decoration-color: #008080; font-weight: bold\">1.3189</span>,      <span style=\"color: #008080; text-decoration-color: #008080; font-weight: bold\">4.1298</span>,      <span style=\"color: #008080; text-decoration-color: #008080; font-weight: bold\">2.2416</span>,      <span style=\"color: #008080; text-decoration-color: #008080; font-weight: bold\">2.8411</span>,      <span style=\"color: #008080; text-decoration-color: #008080; font-weight: bold\">3.8799</span>,      <span style=\"color: #008080; text-decoration-color: #008080; font-weight: bold\">1.2145</span>,      <span style=\"color: #008080; text-decoration-color: #008080; font-weight: bold\">1.9339</span>,\n",
       "            <span style=\"color: #008080; text-decoration-color: #008080; font-weight: bold\">2.8766</span>,      <span style=\"color: #008080; text-decoration-color: #008080; font-weight: bold\">1.0682</span>,     <span style=\"color: #008080; text-decoration-color: #008080; font-weight: bold\">0.88703</span>,      <span style=\"color: #008080; text-decoration-color: #008080; font-weight: bold\">1.1475</span>,      <span style=\"color: #008080; text-decoration-color: #008080; font-weight: bold\">3.7509</span>,      <span style=\"color: #008080; text-decoration-color: #008080; font-weight: bold\">1.9848</span>,      <span style=\"color: #008080; text-decoration-color: #008080; font-weight: bold\">2.4563</span>,      <span style=\"color: #008080; text-decoration-color: #008080; font-weight: bold\">1.4446</span>,      <span style=\"color: #008080; text-decoration-color: #008080; font-weight: bold\">1.4688</span>,      <span style=\"color: #008080; text-decoration-color: #008080; font-weight: bold\">2.7353</span>,      <span style=\"color: #008080; text-decoration-color: #008080; font-weight: bold\">2.2019</span>,     <span style=\"color: #008080; text-decoration-color: #008080; font-weight: bold\">0.43708</span>,     <span style=\"color: #008080; text-decoration-color: #008080; font-weight: bold\">0.76763</span>,      <span style=\"color: #008080; text-decoration-color: #008080; font-weight: bold\">2.4085</span>,      <span style=\"color: #008080; text-decoration-color: #008080; font-weight: bold\">3.4112</span>,      <span style=\"color: #008080; text-decoration-color: #008080; font-weight: bold\">2.3823</span>,      <span style=\"color: #008080; text-decoration-color: #008080; font-weight: bold\">2.2169</span>,       <span style=\"color: #008080; text-decoration-color: #008080; font-weight: bold\">3.392</span>,      <span style=\"color: #008080; text-decoration-color: #008080; font-weight: bold\">1.3955</span>,      <span style=\"color: #008080; text-decoration-color: #008080; font-weight: bold\">1.0435</span>,      <span style=\"color: #008080; text-decoration-color: #008080; font-weight: bold\">1.9578</span>,     <span style=\"color: #008080; text-decoration-color: #008080; font-weight: bold\">0.78807</span>,      <span style=\"color: #008080; text-decoration-color: #008080; font-weight: bold\">1.9106</span>,      <span style=\"color: #008080; text-decoration-color: #008080; font-weight: bold\">2.0723</span>,\n",
       "            <span style=\"color: #008080; text-decoration-color: #008080; font-weight: bold\">2.3488</span>,      <span style=\"color: #008080; text-decoration-color: #008080; font-weight: bold\">1.8037</span>,      <span style=\"color: #008080; text-decoration-color: #008080; font-weight: bold\">1.8233</span>,      <span style=\"color: #008080; text-decoration-color: #008080; font-weight: bold\">1.7092</span>,      <span style=\"color: #008080; text-decoration-color: #008080; font-weight: bold\">1.9362</span>,      <span style=\"color: #008080; text-decoration-color: #008080; font-weight: bold\">2.7852</span>,      <span style=\"color: #008080; text-decoration-color: #008080; font-weight: bold\">1.1447</span>,     <span style=\"color: #008080; text-decoration-color: #008080; font-weight: bold\">0.87262</span>,     <span style=\"color: #008080; text-decoration-color: #008080; font-weight: bold\">0.87691</span>,       <span style=\"color: #008080; text-decoration-color: #008080; font-weight: bold\">1.717</span>,       <span style=\"color: #008080; text-decoration-color: #008080; font-weight: bold\">2.068</span>,      <span style=\"color: #008080; text-decoration-color: #008080; font-weight: bold\">2.3992</span>,       <span style=\"color: #008080; text-decoration-color: #008080; font-weight: bold\">2.897</span>,      <span style=\"color: #008080; text-decoration-color: #008080; font-weight: bold\">1.4291</span>,      <span style=\"color: #008080; text-decoration-color: #008080; font-weight: bold\">1.8668</span>,     <span style=\"color: #008080; text-decoration-color: #008080; font-weight: bold\">0.89353</span>,      <span style=\"color: #008080; text-decoration-color: #008080; font-weight: bold\">1.4496</span>,      <span style=\"color: #008080; text-decoration-color: #008080; font-weight: bold\">1.3859</span>,     <span style=\"color: #008080; text-decoration-color: #008080; font-weight: bold\">0.71974</span>,      <span style=\"color: #008080; text-decoration-color: #008080; font-weight: bold\">1.5695</span>,      <span style=\"color: #008080; text-decoration-color: #008080; font-weight: bold\">2.0916</span>,      <span style=\"color: #008080; text-decoration-color: #008080; font-weight: bold\">1.1213</span>,      <span style=\"color: #008080; text-decoration-color: #008080; font-weight: bold\">1.9139</span>,      <span style=\"color: #008080; text-decoration-color: #008080; font-weight: bold\">1.7815</span>,\n",
       "             <span style=\"color: #008080; text-decoration-color: #008080; font-weight: bold\">1.809</span>,      <span style=\"color: #008080; text-decoration-color: #008080; font-weight: bold\">1.9883</span>,     <span style=\"color: #008080; text-decoration-color: #008080; font-weight: bold\">0.64937</span>,      <span style=\"color: #008080; text-decoration-color: #008080; font-weight: bold\">1.1227</span>,      <span style=\"color: #008080; text-decoration-color: #008080; font-weight: bold\">0.6461</span>,      <span style=\"color: #008080; text-decoration-color: #008080; font-weight: bold\">1.9638</span>,      <span style=\"color: #008080; text-decoration-color: #008080; font-weight: bold\">1.4514</span>,     <span style=\"color: #008080; text-decoration-color: #008080; font-weight: bold\">0.20721</span>,      <span style=\"color: #008080; text-decoration-color: #008080; font-weight: bold\">2.5004</span>,      <span style=\"color: #008080; text-decoration-color: #008080; font-weight: bold\">2.5304</span>,      <span style=\"color: #008080; text-decoration-color: #008080; font-weight: bold\">2.2991</span>,      <span style=\"color: #008080; text-decoration-color: #008080; font-weight: bold\">1.7614</span>,      <span style=\"color: #008080; text-decoration-color: #008080; font-weight: bold\">1.8243</span>,      <span style=\"color: #008080; text-decoration-color: #008080; font-weight: bold\">1.6211</span>,   <span style=\"color: #008080; text-decoration-color: #008080; font-weight: bold\">-0.036905</span>,      <span style=\"color: #008080; text-decoration-color: #008080; font-weight: bold\">1.5785</span>,       <span style=\"color: #008080; text-decoration-color: #008080; font-weight: bold\">1.464</span>,      <span style=\"color: #008080; text-decoration-color: #008080; font-weight: bold\">1.6201</span>,      <span style=\"color: #008080; text-decoration-color: #008080; font-weight: bold\">2.2612</span>,     <span style=\"color: #008080; text-decoration-color: #008080; font-weight: bold\">0.93694</span>,      <span style=\"color: #008080; text-decoration-color: #008080; font-weight: bold\">1.3185</span>,     <span style=\"color: #008080; text-decoration-color: #008080; font-weight: bold\">0.13522</span>,      <span style=\"color: #008080; text-decoration-color: #008080; font-weight: bold\">1.2985</span>,      <span style=\"color: #008080; text-decoration-color: #008080; font-weight: bold\">1.9234</span>,\n",
       "            <span style=\"color: #008080; text-decoration-color: #008080; font-weight: bold\">1.9752</span>,      <span style=\"color: #008080; text-decoration-color: #008080; font-weight: bold\">1.2795</span>,      <span style=\"color: #008080; text-decoration-color: #008080; font-weight: bold\">2.0563</span>,      <span style=\"color: #008080; text-decoration-color: #008080; font-weight: bold\">2.1494</span>,      <span style=\"color: #008080; text-decoration-color: #008080; font-weight: bold\">2.6883</span>,     <span style=\"color: #008080; text-decoration-color: #008080; font-weight: bold\">0.39026</span>,       <span style=\"color: #008080; text-decoration-color: #008080; font-weight: bold\">1.365</span>,      <span style=\"color: #008080; text-decoration-color: #008080; font-weight: bold\">1.7789</span>,      <span style=\"color: #008080; text-decoration-color: #008080; font-weight: bold\">1.8845</span>,       <span style=\"color: #008080; text-decoration-color: #008080; font-weight: bold\">1.486</span>,      <span style=\"color: #008080; text-decoration-color: #008080; font-weight: bold\">1.4403</span>,      <span style=\"color: #008080; text-decoration-color: #008080; font-weight: bold\">2.5191</span>,      <span style=\"color: #008080; text-decoration-color: #008080; font-weight: bold\">3.8557</span>,      <span style=\"color: #008080; text-decoration-color: #008080; font-weight: bold\">2.5494</span>,      <span style=\"color: #008080; text-decoration-color: #008080; font-weight: bold\">1.4234</span>,      <span style=\"color: #008080; text-decoration-color: #008080; font-weight: bold\">1.8495</span>,       <span style=\"color: #008080; text-decoration-color: #008080; font-weight: bold\">1.356</span>,      <span style=\"color: #008080; text-decoration-color: #008080; font-weight: bold\">1.2928</span>,      <span style=\"color: #008080; text-decoration-color: #008080; font-weight: bold\">0.5046</span>,      <span style=\"color: #008080; text-decoration-color: #008080; font-weight: bold\">1.1288</span>,      <span style=\"color: #008080; text-decoration-color: #008080; font-weight: bold\">1.0275</span>,       <span style=\"color: #008080; text-decoration-color: #008080; font-weight: bold\">2.198</span>,      <span style=\"color: #008080; text-decoration-color: #008080; font-weight: bold\">2.4909</span>,      <span style=\"color: #008080; text-decoration-color: #008080; font-weight: bold\">1.1391</span>,\n",
       "            <span style=\"color: #008080; text-decoration-color: #008080; font-weight: bold\">2.2275</span>,      <span style=\"color: #008080; text-decoration-color: #008080; font-weight: bold\">1.9921</span>,      <span style=\"color: #008080; text-decoration-color: #008080; font-weight: bold\">2.3212</span>,      <span style=\"color: #008080; text-decoration-color: #008080; font-weight: bold\">1.8515</span>,      <span style=\"color: #008080; text-decoration-color: #008080; font-weight: bold\">2.5046</span>,     <span style=\"color: #008080; text-decoration-color: #008080; font-weight: bold\">0.84916</span>,     <span style=\"color: #008080; text-decoration-color: #008080; font-weight: bold\">0.22854</span>,      <span style=\"color: #008080; text-decoration-color: #008080; font-weight: bold\">1.2239</span>,      <span style=\"color: #008080; text-decoration-color: #008080; font-weight: bold\">1.2233</span>,      <span style=\"color: #008080; text-decoration-color: #008080; font-weight: bold\">0.8324</span>,      <span style=\"color: #008080; text-decoration-color: #008080; font-weight: bold\">1.3546</span>,       <span style=\"color: #008080; text-decoration-color: #008080; font-weight: bold\">2.143</span>,      <span style=\"color: #008080; text-decoration-color: #008080; font-weight: bold\">2.5389</span>,      <span style=\"color: #008080; text-decoration-color: #008080; font-weight: bold\">1.4749</span>,     <span style=\"color: #008080; text-decoration-color: #008080; font-weight: bold\">0.93217</span>,      <span style=\"color: #008080; text-decoration-color: #008080; font-weight: bold\">1.4113</span><span style=\"font-weight: bold\">]</span>, <span style=\"color: #808000; text-decoration-color: #808000\">dtype</span>=<span style=\"color: #800080; text-decoration-color: #800080\">float32</span><span style=\"font-weight: bold\">)</span>\n",
       "</pre>\n"
      ],
      "text/plain": [
       "\n",
       "\u001B[1;35marray\u001B[0m\u001B[1m(\u001B[0m\u001B[1m[\u001B[0m    \u001B[1;36m0.28491\u001B[0m,      \u001B[1;36m1.9021\u001B[0m,      \u001B[1;36m2.0839\u001B[0m,      \u001B[1;36m0.9008\u001B[0m,      \u001B[1;36m1.6565\u001B[0m,      \u001B[1;36m1.5279\u001B[0m,      \u001B[1;36m1.6445\u001B[0m,      \u001B[1;36m1.5614\u001B[0m,      \u001B[1;36m1.6811\u001B[0m,      \u001B[1;36m2.2809\u001B[0m,    \u001B[1;36m0.061582\u001B[0m,     \u001B[1;36m0.84533\u001B[0m,      \u001B[1;36m1.7768\u001B[0m,      \u001B[1;36m1.5124\u001B[0m,      \u001B[1;36m2.8554\u001B[0m,     \u001B[1;36m0.69078\u001B[0m,      \u001B[1;36m1.1657\u001B[0m,      \u001B[1;36m1.9429\u001B[0m,      \u001B[1;36m1.9026\u001B[0m,      \u001B[1;36m1.0011\u001B[0m,      \u001B[1;36m1.7339\u001B[0m,      \u001B[1;36m1.9658\u001B[0m,      \u001B[1;36m2.2125\u001B[0m,      \u001B[1;36m2.7372\u001B[0m,\n",
       "            \u001B[1;36m2.2213\u001B[0m,      \u001B[1;36m1.4645\u001B[0m,       \u001B[1;36m1.883\u001B[0m,       \u001B[1;36m1.424\u001B[0m,       \u001B[1;36m2.033\u001B[0m,      \u001B[1;36m1.0651\u001B[0m,     \u001B[1;36m0.27459\u001B[0m,      \u001B[1;36m1.7655\u001B[0m,      \u001B[1;36m2.4646\u001B[0m,      \u001B[1;36m2.3028\u001B[0m,      \u001B[1;36m4.0761\u001B[0m,     \u001B[1;36m0.79255\u001B[0m,      \u001B[1;36m1.4088\u001B[0m,      \u001B[1;36m2.0491\u001B[0m,      \u001B[1;36m1.9222\u001B[0m,      \u001B[1;36m2.5441\u001B[0m,     \u001B[1;36m0.59771\u001B[0m,      \u001B[1;36m1.3189\u001B[0m,      \u001B[1;36m4.1298\u001B[0m,      \u001B[1;36m2.2416\u001B[0m,      \u001B[1;36m2.8411\u001B[0m,      \u001B[1;36m3.8799\u001B[0m,      \u001B[1;36m1.2145\u001B[0m,      \u001B[1;36m1.9339\u001B[0m,\n",
       "            \u001B[1;36m2.8766\u001B[0m,      \u001B[1;36m1.0682\u001B[0m,     \u001B[1;36m0.88703\u001B[0m,      \u001B[1;36m1.1475\u001B[0m,      \u001B[1;36m3.7509\u001B[0m,      \u001B[1;36m1.9848\u001B[0m,      \u001B[1;36m2.4563\u001B[0m,      \u001B[1;36m1.4446\u001B[0m,      \u001B[1;36m1.4688\u001B[0m,      \u001B[1;36m2.7353\u001B[0m,      \u001B[1;36m2.2019\u001B[0m,     \u001B[1;36m0.43708\u001B[0m,     \u001B[1;36m0.76763\u001B[0m,      \u001B[1;36m2.4085\u001B[0m,      \u001B[1;36m3.4112\u001B[0m,      \u001B[1;36m2.3823\u001B[0m,      \u001B[1;36m2.2169\u001B[0m,       \u001B[1;36m3.392\u001B[0m,      \u001B[1;36m1.3955\u001B[0m,      \u001B[1;36m1.0435\u001B[0m,      \u001B[1;36m1.9578\u001B[0m,     \u001B[1;36m0.78807\u001B[0m,      \u001B[1;36m1.9106\u001B[0m,      \u001B[1;36m2.0723\u001B[0m,\n",
       "            \u001B[1;36m2.3488\u001B[0m,      \u001B[1;36m1.8037\u001B[0m,      \u001B[1;36m1.8233\u001B[0m,      \u001B[1;36m1.7092\u001B[0m,      \u001B[1;36m1.9362\u001B[0m,      \u001B[1;36m2.7852\u001B[0m,      \u001B[1;36m1.1447\u001B[0m,     \u001B[1;36m0.87262\u001B[0m,     \u001B[1;36m0.87691\u001B[0m,       \u001B[1;36m1.717\u001B[0m,       \u001B[1;36m2.068\u001B[0m,      \u001B[1;36m2.3992\u001B[0m,       \u001B[1;36m2.897\u001B[0m,      \u001B[1;36m1.4291\u001B[0m,      \u001B[1;36m1.8668\u001B[0m,     \u001B[1;36m0.89353\u001B[0m,      \u001B[1;36m1.4496\u001B[0m,      \u001B[1;36m1.3859\u001B[0m,     \u001B[1;36m0.71974\u001B[0m,      \u001B[1;36m1.5695\u001B[0m,      \u001B[1;36m2.0916\u001B[0m,      \u001B[1;36m1.1213\u001B[0m,      \u001B[1;36m1.9139\u001B[0m,      \u001B[1;36m1.7815\u001B[0m,\n",
       "             \u001B[1;36m1.809\u001B[0m,      \u001B[1;36m1.9883\u001B[0m,     \u001B[1;36m0.64937\u001B[0m,      \u001B[1;36m1.1227\u001B[0m,      \u001B[1;36m0.6461\u001B[0m,      \u001B[1;36m1.9638\u001B[0m,      \u001B[1;36m1.4514\u001B[0m,     \u001B[1;36m0.20721\u001B[0m,      \u001B[1;36m2.5004\u001B[0m,      \u001B[1;36m2.5304\u001B[0m,      \u001B[1;36m2.2991\u001B[0m,      \u001B[1;36m1.7614\u001B[0m,      \u001B[1;36m1.8243\u001B[0m,      \u001B[1;36m1.6211\u001B[0m,   \u001B[1;36m-0.036905\u001B[0m,      \u001B[1;36m1.5785\u001B[0m,       \u001B[1;36m1.464\u001B[0m,      \u001B[1;36m1.6201\u001B[0m,      \u001B[1;36m2.2612\u001B[0m,     \u001B[1;36m0.93694\u001B[0m,      \u001B[1;36m1.3185\u001B[0m,     \u001B[1;36m0.13522\u001B[0m,      \u001B[1;36m1.2985\u001B[0m,      \u001B[1;36m1.9234\u001B[0m,\n",
       "            \u001B[1;36m1.9752\u001B[0m,      \u001B[1;36m1.2795\u001B[0m,      \u001B[1;36m2.0563\u001B[0m,      \u001B[1;36m2.1494\u001B[0m,      \u001B[1;36m2.6883\u001B[0m,     \u001B[1;36m0.39026\u001B[0m,       \u001B[1;36m1.365\u001B[0m,      \u001B[1;36m1.7789\u001B[0m,      \u001B[1;36m1.8845\u001B[0m,       \u001B[1;36m1.486\u001B[0m,      \u001B[1;36m1.4403\u001B[0m,      \u001B[1;36m2.5191\u001B[0m,      \u001B[1;36m3.8557\u001B[0m,      \u001B[1;36m2.5494\u001B[0m,      \u001B[1;36m1.4234\u001B[0m,      \u001B[1;36m1.8495\u001B[0m,       \u001B[1;36m1.356\u001B[0m,      \u001B[1;36m1.2928\u001B[0m,      \u001B[1;36m0.5046\u001B[0m,      \u001B[1;36m1.1288\u001B[0m,      \u001B[1;36m1.0275\u001B[0m,       \u001B[1;36m2.198\u001B[0m,      \u001B[1;36m2.4909\u001B[0m,      \u001B[1;36m1.1391\u001B[0m,\n",
       "            \u001B[1;36m2.2275\u001B[0m,      \u001B[1;36m1.9921\u001B[0m,      \u001B[1;36m2.3212\u001B[0m,      \u001B[1;36m1.8515\u001B[0m,      \u001B[1;36m2.5046\u001B[0m,     \u001B[1;36m0.84916\u001B[0m,     \u001B[1;36m0.22854\u001B[0m,      \u001B[1;36m1.2239\u001B[0m,      \u001B[1;36m1.2233\u001B[0m,      \u001B[1;36m0.8324\u001B[0m,      \u001B[1;36m1.3546\u001B[0m,       \u001B[1;36m2.143\u001B[0m,      \u001B[1;36m2.5389\u001B[0m,      \u001B[1;36m1.4749\u001B[0m,     \u001B[1;36m0.93217\u001B[0m,      \u001B[1;36m1.4113\u001B[0m\u001B[1m]\u001B[0m, \u001B[33mdtype\u001B[0m=\u001B[35mfloat32\u001B[0m\u001B[1m)\u001B[0m\n"
      ]
     },
     "metadata": {},
     "output_type": "display_data"
    }
   ],
   "source": [
    "test_image_reps_arr = np.concatenate(test_image_reps, axis=0)\n",
    "test_preds = reg.predict(test_image_reps_arr)\n",
    "test_preds"
   ]
  },
  {
   "cell_type": "code",
   "execution_count": 15,
   "id": "e0ba65bb-ddf2-45f3-a121-b66e8fbe3224",
   "metadata": {
    "tags": []
   },
   "outputs": [
    {
     "data": {
      "text/html": [
       "<pre style=\"white-space:pre;overflow-x:auto;line-height:normal;font-family:Menlo,'DejaVu Sans Mono',consolas,'Courier New',monospace\"><span style=\"color: #008080; text-decoration-color: #008080; font-weight: bold\">1.6929579496383667</span>\n",
       "</pre>\n"
      ],
      "text/plain": [
       "\u001B[1;36m1.6929579496383667\u001B[0m\n"
      ]
     },
     "metadata": {},
     "output_type": "display_data"
    }
   ],
   "source": [
    "errors = test_preds - test_flower_counts\n",
    "np.mean(np.abs(errors))"
   ]
  },
  {
   "cell_type": "code",
   "execution_count": 16,
   "id": "2e929358-790f-4dd5-bb00-6e35baf2838b",
   "metadata": {
    "tags": []
   },
   "outputs": [
    {
     "name": "stdout",
     "output_type": "stream",
     "text": [
      "2023-03-21 10:23:59,717 - py.warnings - WARNING - /home/daniel/git/self-supervised-learning/.venv/lib/python3.10/site-packages/seaborn/rcmod.py:400: DeprecationWarning: distutils Version classes are deprecated. Use packaging.version instead.\n",
      "  if LooseVersion(mpl.__version__) >= \"3.0\":\n",
      "\n",
      "2023-03-21 10:23:59,717 - py.warnings - WARNING - /home/daniel/git/self-supervised-learning/.venv/lib/python3.10/site-packages/setuptools/_distutils/version.py:346: DeprecationWarning: distutils Version classes are deprecated. Use packaging.version instead.\n",
      "  other = LooseVersion(other)\n",
      "\n"
     ]
    },
    {
     "data": {
      "image/png": "[encoded data removed]"
     },
     "metadata": {},
     "output_type": "display_data"
    }
   ],
   "source": [
    "%matplotlib inline\n",
    "import seaborn as sns\n",
    "import matplotlib.pyplot as plt\n",
    "\n",
    "sns.set()\n",
    "\n",
    "sns.regplot(x=test_preds, y=test_flower_counts)\n",
    "plt.show()"
   ]
  },
  {
   "cell_type": "code",
   "execution_count": 17,
   "id": "edbe2b6a-40f5-457c-98b9-80735eef556c",
   "metadata": {},
   "outputs": [
    {
     "data": {
      "image/png": "[encoded data removed]"
     },
     "metadata": {},
     "output_type": "display_data"
    }
   ],
   "source": [
    "sns.histplot(x=errors)"
   ]
  },
  {
   "cell_type": "code",
   "execution_count": 18,
   "id": "eca935db-8542-4b2a-93e9-9e88eae781ea",
   "metadata": {},
   "outputs": [
    {
     "data": {
      "text/html": [
       "<pre style=\"white-space:pre;overflow-x:auto;line-height:normal;font-family:Menlo,'DejaVu Sans Mono',consolas,'Courier New',monospace\"><span style=\"color: #008080; text-decoration-color: #008080; font-weight: bold\">301.705982705017</span>\n",
       "</pre>\n"
      ],
      "text/plain": [
       "\u001B[1;36m301.705982705017\u001B[0m\n"
      ]
     },
     "metadata": {},
     "output_type": "display_data"
    }
   ],
   "source": [
    "import numpy as np\n",
    "\n",
    "# Use the coefficient of variation of the differences between frames to provide a measure of \"smoothness\".\n",
    "gt_diff = np.diff(test_flower_counts)\n",
    "gt_smoothness = np.std(gt_diff) / np.abs(np.mean(gt_diff))\n",
    "gt_smoothness"
   ]
  },
  {
   "cell_type": "code",
   "execution_count": 19,
   "id": "4184c156-a024-42ce-8bb0-b1a81f1480ea",
   "metadata": {
    "tags": []
   },
   "outputs": [
    {
     "data": {
      "text/html": [
       "<pre style=\"white-space:pre;overflow-x:auto;line-height:normal;font-family:Menlo,'DejaVu Sans Mono',consolas,'Courier New',monospace\"><span style=\"color: #008080; text-decoration-color: #008080; font-weight: bold\">142.63403</span>\n",
       "</pre>\n"
      ],
      "text/plain": [
       "\u001B[1;36m142.63403\u001B[0m\n"
      ]
     },
     "metadata": {},
     "output_type": "display_data"
    }
   ],
   "source": [
    "pred_diff = np.diff(test_preds)\n",
    "pred_smoothness = np.std(pred_diff) / np.abs(np.mean(pred_diff))\n",
    "pred_smoothness"
   ]
  },
  {
   "cell_type": "code",
   "execution_count": 20,
   "id": "da4ca9a6-95c7-4cf8-b188-12ab036b7aa4",
   "metadata": {
    "tags": []
   },
   "outputs": [
    {
     "data": {
      "text/html": [
       "<pre style=\"white-space:pre;overflow-x:auto;line-height:normal;font-family:Menlo,'DejaVu Sans Mono',consolas,'Courier New',monospace\"><span style=\"color: #008080; text-decoration-color: #008080; font-weight: bold\">2136.0547</span>\n",
       "</pre>\n"
      ],
      "text/plain": [
       "\u001B[1;36m2136.0547\u001B[0m\n"
      ]
     },
     "metadata": {},
     "output_type": "display_data"
    }
   ],
   "source": [
    "reps_diff = np.diff(test_image_reps_arr, axis=0)\n",
    "reps_smoothness = np.std(reps_diff, axis=0) / np.abs(np.mean(reps_diff, axis=0))\n",
    "np.mean(reps_smoothness)"
   ]
  },
  {
   "cell_type": "code",
   "execution_count": null,
   "id": "188b9381-72fe-4df0-b337-be48cca9c078",
   "metadata": {},
   "outputs": [],
   "source": []
  }
 ],
 "metadata": {
  "kernelspec": {
   "display_name": "Kedro (self_supervised)",
   "language": "python",
   "name": "kedro_self_supervised"
  },
  "language_info": {
   "codemirror_mode": {
    "name": "ipython",
    "version": 3
   },
   "file_extension": ".py",
   "mimetype": "text/x-python",
   "name": "python",
   "nbconvert_exporter": "python",
   "pygments_lexer": "ipython3",
   "version": "3.10.10"
  }
 },
 "nbformat": 4,
 "nbformat_minor": 5
}
