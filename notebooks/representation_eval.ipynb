{
 "cells": [
  {
   "cell_type": "code",
   "execution_count": 1,
   "id": "acfda911-ae74-4318-a246-949fe66cdd10",
   "metadata": {
    "tags": []
   },
   "outputs": [
    {
     "name": "stdout",
     "output_type": "stream",
     "text": [
      "2023-04-24 14:22:41,617 - py.warnings - WARNING - /home/daniel/git/self-supervised-learning/.venv/lib/python3.10/site-packages/thop/profile.py:12: DeprecationWarning: distutils Version classes are deprecated. Use packaging.version instead.\n",
      "  if LooseVersion(torch.__version__) < LooseVersion(\"1.0.0\"):\n",
      "\n",
      "2023-04-24 14:22:41,617 - py.warnings - WARNING - /home/daniel/git/self-supervised-learning/.venv/lib/python3.10/site-packages/thop/profile.py:68: DeprecationWarning: distutils Version classes are deprecated. Use packaging.version instead.\n",
      "  if LooseVersion(torch.__version__) >= LooseVersion(\"1.1.0\"):\n",
      "\n",
      "2023-04-24 14:22:41,749 - py.warnings - WARNING - /home/daniel/git/self-supervised-learning/.venv/lib/python3.10/site-packages/seaborn/rcmod.py:82: DeprecationWarning: distutils Version classes are deprecated. Use packaging.version instead.\n",
      "  if LooseVersion(mpl.__version__) >= \"3.0\":\n",
      "\n",
      "2023-04-24 14:22:41,749 - py.warnings - WARNING - /home/daniel/git/self-supervised-learning/.venv/lib/python3.10/site-packages/setuptools/_distutils/version.py:346: DeprecationWarning: distutils Version classes are deprecated. Use packaging.version instead.\n",
      "  other = LooseVersion(other)\n",
      "\n",
      "2023-04-24 14:22:41,757 - py.warnings - WARNING - /home/daniel/git/self-supervised-learning/.venv/lib/python3.10/site-packages/seaborn/cm.py:1582: MatplotlibDeprecationWarning: The register_cmap function was deprecated in Matplotlib 3.7 and will be removed two minor releases later. Use ``matplotlib.colormaps.register(name)`` instead.\n",
      "  mpl_cm.register_cmap(_name, _cmap)\n",
      "\n",
      "2023-04-24 14:22:41,758 - py.warnings - WARNING - /home/daniel/git/self-supervised-learning/.venv/lib/python3.10/site-packages/seaborn/cm.py:1583: MatplotlibDeprecationWarning: The register_cmap function was deprecated in Matplotlib 3.7 and will be removed two minor releases later. Use ``matplotlib.colormaps.register(name)`` instead.\n",
      "  mpl_cm.register_cmap(_name + \"_r\", _cmap_r)\n",
      "\n",
      "2023-04-24 14:22:41,761 - kedro.ipython - INFO - Resolved project path as: /home/daniel/git/self-supervised-learning.\n",
      "To set a different path, run '%reload_kedro <project_root>'\n",
      "2023-04-24 14:22:41,762 - py.warnings - WARNING - /home/daniel/git/self-supervised-learning/.venv/lib/python3.10/site-packages/kedro/framework/startup.py:98: DeprecationWarning: project_version in pyproject.toml is deprecated, use kedro_init_version instead\n",
      "  warnings.warn(\n",
      "\n",
      "2023-04-24 14:22:41,979 - kedro.ipython - INFO - Kedro project Self-Supervised Learning\n",
      "2023-04-24 14:22:41,979 - kedro.ipython - INFO - Defined global variable 'context', 'session', 'catalog' and 'pipelines'\n",
      "2023-04-24 14:22:41,984 - kedro.io.data_catalog - INFO - Loading data from 'yolov5_l_description' (YAMLDataSet)...\n"
     ]
    },
    {
     "name": "stderr",
     "output_type": "stream",
     "text": [
      "\n",
      "                 from  n    params  module                                  arguments                     \n",
      "  0                -1  1      7040  yolov5.models.common.Conv               [3, 64, 6, 2, 2]              \n",
      "  1                -1  1     73984  yolov5.models.common.Conv               [64, 128, 3, 2]               \n",
      "  2                -1  3    156928  yolov5.models.common.C3                 [128, 128, 3]                 \n",
      "  3                -1  1    295424  yolov5.models.common.Conv               [128, 256, 3, 2]              \n",
      "  4                -1  6   1118208  yolov5.models.common.C3                 [256, 256, 6]                 \n",
      "  5                -1  1   1180672  yolov5.models.common.Conv               [256, 512, 3, 2]              \n",
      "  6                -1  9   6433792  yolov5.models.common.C3                 [512, 512, 9]                 \n",
      "  7                -1  1   4720640  yolov5.models.common.Conv               [512, 1024, 3, 2]             \n",
      "  8                -1  3   9971712  yolov5.models.common.C3                 [1024, 1024, 3]               \n",
      "  9                -1  1   2624512  yolov5.models.common.SPPF               [1024, 1024, 5]               \n",
      " 10                -1  1    525312  yolov5.models.common.Conv               [1024, 512, 1, 1]             \n",
      " 11                -1  1         0  torch.nn.modules.upsampling.Upsample    [None, 2, 'nearest']          \n",
      " 12           [-1, 6]  1         0  yolov5.models.common.Concat             [1]                           \n",
      " 13                -1  3   2757632  yolov5.models.common.C3                 [1024, 512, 3, False]         \n",
      " 14                -1  1    131584  yolov5.models.common.Conv               [512, 256, 1, 1]              \n",
      " 15                -1  1         0  torch.nn.modules.upsampling.Upsample    [None, 2, 'nearest']          \n",
      " 16           [-1, 4]  1         0  yolov5.models.common.Concat             [1]                           \n",
      " 17                -1  3    690688  yolov5.models.common.C3                 [512, 256, 3, False]          \n",
      " 18                -1  1    590336  yolov5.models.common.Conv               [256, 256, 3, 2]              \n",
      " 19          [-1, 14]  1         0  yolov5.models.common.Concat             [1]                           \n",
      " 20                -1  3   2495488  yolov5.models.common.C3                 [512, 512, 3, False]          \n",
      " 21                -1  1   2360320  yolov5.models.common.Conv               [512, 512, 3, 2]              \n",
      " 22          [-1, 10]  1         0  yolov5.models.common.Concat             [1]                           \n",
      " 23                -1  3   9971712  yolov5.models.common.C3                 [1024, 1024, 3, False]        \n",
      "Model summary: 363 layers, 46105984 parameters, 46105984 gradients, 108.1 GFLOPs\n",
      "\n"
     ]
    }
   ],
   "source": [
    "from self_supervised.pipelines.representation_model import RepresentationModel, YoloEncoder\n",
    "from yolov5.models.yolo import DetectionModel\n",
    "import torch\n",
    "\n",
    "%reload_kedro\n",
    "model_description = catalog.load(\"yolov5_l_description\")\n",
    "#trained_model = catalog.load(\"trained_model\", version=\"2023-03-23T12.37.00.000Z\")\n",
    "#trained_model = torch.load(\"../checkpoints/checkpoint_80017.pt\", map_location=\"cpu\")\n",
    "\n",
    "# Random model\n",
    "# encoder = YoloEncoder(model_description=model_description)\n",
    "# trained_model = RepresentationModel(encoder=encoder)\n",
    "\n",
    "# CoCO model\n",
    "model_description[\"head\"] = model_description[\"head\"][:-1]\n",
    "trained_model = DetectionModel(model_description)\n",
    "weights_model = torch.load(\"../yolov5l.pt\", map_location=\"cpu\")\n",
    "state_dict = weights_model[\"model\"].float().state_dict()\n",
    "trained_model.load_state_dict(state_dict, strict=False)\n",
    "\n",
    "# projection = trained_model.projection\n",
    "# trained_model = trained_model.encoder\n",
    "trained_model = trained_model.eval()\n",
    "# projection = projection.eval()"
   ]
  },
  {
   "cell_type": "code",
   "execution_count": 2,
   "id": "c1878dbc-46f2-463f-b313-6dc1aed75b69",
   "metadata": {
    "tags": []
   },
   "outputs": [],
   "source": [
    "from pathlib import Path\n",
    "\n",
    "dataset_path = Path(\"/home/daniel/lab_share/projects/CottonFlower2021/flower_dataset\")\n",
    "image_dir = dataset_path / \"active_1\" / \"images\""
   ]
  },
  {
   "cell_type": "code",
   "execution_count": 3,
   "id": "c41fe7f6-ac26-435f-a8ed-996eacd3b5fd",
   "metadata": {
    "tags": []
   },
   "outputs": [],
   "source": [
    "# import random\n",
    "# random.sample(range(160), 10)\n",
    "\n",
    "# indices = [143, 159, 78, 12, 34, 116, 118, 0, 44, 124]"
   ]
  },
  {
   "cell_type": "code",
   "execution_count": 4,
   "id": "5a67e6c7-88c4-40b3-a33d-1a67a76f0d5f",
   "metadata": {
    "tags": []
   },
   "outputs": [
    {
     "name": "stderr",
     "output_type": "stream",
     "text": [
      "100%|████████████████████████████████████████████████████| 160/160 [00:21<00:00,  7.35it/s]\n"
     ]
    }
   ],
   "source": [
    "from torchvision.io import read_image\n",
    "from torchvision.transforms.functional import resize\n",
    "from tqdm import tqdm\n",
    "import torch\n",
    "from typing import Tuple, List\n",
    "import numpy as np\n",
    "\n",
    "def extract_image_reps(image_dir_: Path) -> Tuple[List[np.array], List[np.array]]:\n",
    "    image_reps = []\n",
    "    image_reps_low_dim = []\n",
    "\n",
    "    image_list = sorted(list(image_dir_.iterdir()))\n",
    "    for image_path in tqdm(image_list):\n",
    "        image = read_image(image_path.as_posix())\n",
    "        image.requires_grad = False\n",
    "        image = resize(image, (512, 512))\n",
    "        image = image.to(torch.float) / 255\n",
    "        image_ex = image[None, :, :, :]\n",
    "\n",
    "        image_rep = trained_model(image_ex).detach()\n",
    "        image_reps.append(image_rep[0].reshape((1, -1)).numpy())\n",
    "                          \n",
    "    return image_reps, image_reps_low_dim\n",
    "                          \n",
    "image_reps, image_reps_low_dim = extract_image_reps(image_dir)"
   ]
  },
  {
   "cell_type": "code",
   "execution_count": 5,
   "id": "43808fe8-1319-464a-8977-4e7f42db135f",
   "metadata": {
    "tags": []
   },
   "outputs": [
    {
     "data": {
      "text/html": [
       "<div>\n",
       "<style scoped>\n",
       "    .dataframe tbody tr th:only-of-type {\n",
       "        vertical-align: middle;\n",
       "    }\n",
       "\n",
       "    .dataframe tbody tr th {\n",
       "        vertical-align: top;\n",
       "    }\n",
       "\n",
       "    .dataframe thead th {\n",
       "        text-align: right;\n",
       "    }\n",
       "</style>\n",
       "<table border=\"1\" class=\"dataframe\">\n",
       "  <thead>\n",
       "    <tr style=\"text-align: right;\">\n",
       "      <th></th>\n",
       "      <th>class</th>\n",
       "      <th>x</th>\n",
       "      <th>y</th>\n",
       "      <th>width</th>\n",
       "      <th>height</th>\n",
       "      <th>frame</th>\n",
       "    </tr>\n",
       "  </thead>\n",
       "  <tbody>\n",
       "    <tr>\n",
       "      <th>0</th>\n",
       "      <td>0</td>\n",
       "      <td>0.386324</td>\n",
       "      <td>0.308469</td>\n",
       "      <td>0.030488</td>\n",
       "      <td>0.046636</td>\n",
       "      <td>p0_P1090018.txt</td>\n",
       "    </tr>\n",
       "    <tr>\n",
       "      <th>1</th>\n",
       "      <td>0</td>\n",
       "      <td>0.284843</td>\n",
       "      <td>0.252320</td>\n",
       "      <td>0.026132</td>\n",
       "      <td>0.038283</td>\n",
       "      <td>p0_P1090081.txt</td>\n",
       "    </tr>\n",
       "    <tr>\n",
       "      <th>2</th>\n",
       "      <td>0</td>\n",
       "      <td>0.448606</td>\n",
       "      <td>0.327726</td>\n",
       "      <td>0.013937</td>\n",
       "      <td>0.029002</td>\n",
       "      <td>p0_P1090300.txt</td>\n",
       "    </tr>\n",
       "    <tr>\n",
       "      <th>3</th>\n",
       "      <td>0</td>\n",
       "      <td>0.138937</td>\n",
       "      <td>0.221578</td>\n",
       "      <td>0.023519</td>\n",
       "      <td>0.032483</td>\n",
       "      <td>p0_P1090300.txt</td>\n",
       "    </tr>\n",
       "    <tr>\n",
       "      <th>4</th>\n",
       "      <td>0</td>\n",
       "      <td>0.030488</td>\n",
       "      <td>0.099768</td>\n",
       "      <td>0.024390</td>\n",
       "      <td>0.034803</td>\n",
       "      <td>p0_P1090300.txt</td>\n",
       "    </tr>\n",
       "    <tr>\n",
       "      <th>...</th>\n",
       "      <td>...</td>\n",
       "      <td>...</td>\n",
       "      <td>...</td>\n",
       "      <td>...</td>\n",
       "      <td>...</td>\n",
       "      <td>...</td>\n",
       "    </tr>\n",
       "    <tr>\n",
       "      <th>300</th>\n",
       "      <td>0</td>\n",
       "      <td>0.309612</td>\n",
       "      <td>0.294762</td>\n",
       "      <td>0.010253</td>\n",
       "      <td>0.014188</td>\n",
       "      <td>p9_P1680757.txt</td>\n",
       "    </tr>\n",
       "    <tr>\n",
       "      <th>301</th>\n",
       "      <td>0</td>\n",
       "      <td>0.365584</td>\n",
       "      <td>0.297645</td>\n",
       "      <td>0.009460</td>\n",
       "      <td>0.017842</td>\n",
       "      <td>p9_P1680757.txt</td>\n",
       "    </tr>\n",
       "    <tr>\n",
       "      <th>302</th>\n",
       "      <td>0</td>\n",
       "      <td>0.500000</td>\n",
       "      <td>0.379350</td>\n",
       "      <td>0.013937</td>\n",
       "      <td>0.016241</td>\n",
       "      <td>p9_P1680757.txt</td>\n",
       "    </tr>\n",
       "    <tr>\n",
       "      <th>303</th>\n",
       "      <td>0</td>\n",
       "      <td>0.908537</td>\n",
       "      <td>0.736079</td>\n",
       "      <td>0.012195</td>\n",
       "      <td>0.017401</td>\n",
       "      <td>p9_P1680757.txt</td>\n",
       "    </tr>\n",
       "    <tr>\n",
       "      <th>304</th>\n",
       "      <td>0</td>\n",
       "      <td>0.827539</td>\n",
       "      <td>0.119165</td>\n",
       "      <td>0.013406</td>\n",
       "      <td>0.016798</td>\n",
       "      <td>p9_P1780789.txt</td>\n",
       "    </tr>\n",
       "  </tbody>\n",
       "</table>\n",
       "<p>305 rows × 6 columns</p>\n",
       "</div>"
      ]
     },
     "execution_count": 5,
     "metadata": {},
     "output_type": "execute_result"
    }
   ],
   "source": [
    "# Load flower counts.\n",
    "import pandas as pd\n",
    "\n",
    "labels_dir = dataset_path / \"active_1\" / \"labels\"\n",
    "all_labels = []\n",
    "labels_list = sorted(list(labels_dir.iterdir()))\n",
    "# labels_list = [labels_list[i] for i in indices]\n",
    "for labels_path in labels_list:\n",
    "    frame_labels = pd.read_csv(labels_path, sep=\" \", names=[\"class\", \"x\", \"y\", \"width\", \"height\"])\n",
    "    frame_labels[\"frame\"] = labels_path.name\n",
    "    all_labels.append(frame_labels)\n",
    "    \n",
    "all_labels = pd.concat(all_labels, ignore_index=True)\n",
    "all_labels"
   ]
  },
  {
   "cell_type": "code",
   "execution_count": 6,
   "id": "96a261b8-3343-4c52-a567-4a94fcbc3964",
   "metadata": {
    "tags": []
   },
   "outputs": [],
   "source": [
    "import numpy as np\n",
    "\n",
    "# Create flower counts labels.\n",
    "flower_counts = []\n",
    "for image_path in labels_list:\n",
    "    flower_counts.append(np.count_nonzero(all_labels[\"frame\"] == image_path.name))\n",
    "    \n",
    "# Any missing counts are zeros.\n",
    "for _ in range(len(flower_counts), len(image_reps)):\n",
    "    flower_counts.append(0)"
   ]
  },
  {
   "cell_type": "code",
   "execution_count": 7,
   "id": "8cd84dd2-fc0b-482e-b69a-7bed0e95f7e5",
   "metadata": {
    "tags": []
   },
   "outputs": [
    {
     "name": "stderr",
     "output_type": "stream",
     "text": [
      "100%|████████████████████████████████████████████████████| 160/160 [00:21<00:00,  7.42it/s]\n"
     ]
    }
   ],
   "source": [
    "test_image_dir = dataset_path / \"2018-08-22\" / \"images\"\n",
    "\n",
    "test_image_reps, test_image_reps_low_dim = extract_image_reps(test_image_dir)"
   ]
  },
  {
   "cell_type": "code",
   "execution_count": 8,
   "id": "1d4b4cc4-c178-4e22-be2e-d21b0bb5d899",
   "metadata": {
    "tags": []
   },
   "outputs": [
    {
     "data": {
      "text/html": [
       "<div>\n",
       "<style scoped>\n",
       "    .dataframe tbody tr th:only-of-type {\n",
       "        vertical-align: middle;\n",
       "    }\n",
       "\n",
       "    .dataframe tbody tr th {\n",
       "        vertical-align: top;\n",
       "    }\n",
       "\n",
       "    .dataframe thead th {\n",
       "        text-align: right;\n",
       "    }\n",
       "</style>\n",
       "<table border=\"1\" class=\"dataframe\">\n",
       "  <thead>\n",
       "    <tr style=\"text-align: right;\">\n",
       "      <th></th>\n",
       "      <th>class</th>\n",
       "      <th>x</th>\n",
       "      <th>y</th>\n",
       "      <th>width</th>\n",
       "      <th>height</th>\n",
       "      <th>frame</th>\n",
       "    </tr>\n",
       "  </thead>\n",
       "  <tbody>\n",
       "    <tr>\n",
       "      <th>0</th>\n",
       "      <td>0</td>\n",
       "      <td>0.414497</td>\n",
       "      <td>0.818287</td>\n",
       "      <td>0.039062</td>\n",
       "      <td>0.046296</td>\n",
       "      <td>p0_P2530585.txt</td>\n",
       "    </tr>\n",
       "    <tr>\n",
       "      <th>1</th>\n",
       "      <td>0</td>\n",
       "      <td>0.245660</td>\n",
       "      <td>0.649884</td>\n",
       "      <td>0.019097</td>\n",
       "      <td>0.028935</td>\n",
       "      <td>p0_P2530668.txt</td>\n",
       "    </tr>\n",
       "    <tr>\n",
       "      <th>2</th>\n",
       "      <td>0</td>\n",
       "      <td>0.636719</td>\n",
       "      <td>0.209491</td>\n",
       "      <td>0.018229</td>\n",
       "      <td>0.025463</td>\n",
       "      <td>p0_P2530668.txt</td>\n",
       "    </tr>\n",
       "    <tr>\n",
       "      <th>3</th>\n",
       "      <td>0</td>\n",
       "      <td>0.827691</td>\n",
       "      <td>0.566551</td>\n",
       "      <td>0.019965</td>\n",
       "      <td>0.026620</td>\n",
       "      <td>p0_P2530668.txt</td>\n",
       "    </tr>\n",
       "    <tr>\n",
       "      <th>4</th>\n",
       "      <td>0</td>\n",
       "      <td>0.392734</td>\n",
       "      <td>0.709734</td>\n",
       "      <td>0.022448</td>\n",
       "      <td>0.033588</td>\n",
       "      <td>p0_P2530668.txt</td>\n",
       "    </tr>\n",
       "    <tr>\n",
       "      <th>...</th>\n",
       "      <td>...</td>\n",
       "      <td>...</td>\n",
       "      <td>...</td>\n",
       "      <td>...</td>\n",
       "      <td>...</td>\n",
       "      <td>...</td>\n",
       "    </tr>\n",
       "    <tr>\n",
       "      <th>382</th>\n",
       "      <td>0</td>\n",
       "      <td>0.053385</td>\n",
       "      <td>0.823495</td>\n",
       "      <td>0.021701</td>\n",
       "      <td>0.028935</td>\n",
       "      <td>p9_P2540369.txt</td>\n",
       "    </tr>\n",
       "    <tr>\n",
       "      <th>383</th>\n",
       "      <td>0</td>\n",
       "      <td>0.441840</td>\n",
       "      <td>0.266204</td>\n",
       "      <td>0.019097</td>\n",
       "      <td>0.025463</td>\n",
       "      <td>p9_P2540369.txt</td>\n",
       "    </tr>\n",
       "    <tr>\n",
       "      <th>384</th>\n",
       "      <td>0</td>\n",
       "      <td>0.533854</td>\n",
       "      <td>0.799769</td>\n",
       "      <td>0.032986</td>\n",
       "      <td>0.041667</td>\n",
       "      <td>p9_P2540420.txt</td>\n",
       "    </tr>\n",
       "    <tr>\n",
       "      <th>385</th>\n",
       "      <td>0</td>\n",
       "      <td>0.404948</td>\n",
       "      <td>0.767361</td>\n",
       "      <td>0.019965</td>\n",
       "      <td>0.025463</td>\n",
       "      <td>p9_P2540420.txt</td>\n",
       "    </tr>\n",
       "    <tr>\n",
       "      <th>386</th>\n",
       "      <td>0</td>\n",
       "      <td>0.343316</td>\n",
       "      <td>0.987269</td>\n",
       "      <td>0.016493</td>\n",
       "      <td>0.025463</td>\n",
       "      <td>p9_P2540420.txt</td>\n",
       "    </tr>\n",
       "  </tbody>\n",
       "</table>\n",
       "<p>387 rows × 6 columns</p>\n",
       "</div>"
      ]
     },
     "execution_count": 8,
     "metadata": {},
     "output_type": "execute_result"
    }
   ],
   "source": [
    "test_labels_dir = dataset_path / \"2018-08-22\" / \"labels\"\n",
    "all_labels_test = []\n",
    "labels_list = sorted(list(test_labels_dir.iterdir()))\n",
    "for labels_path in labels_list:\n",
    "    frame_labels = pd.read_csv(labels_path, sep=\" \", names=[\"class\", \"x\", \"y\", \"width\", \"height\"])\n",
    "    frame_labels[\"frame\"] = labels_path.name\n",
    "    all_labels_test.append(frame_labels)\n",
    "    \n",
    "all_labels_test = pd.concat(all_labels_test, ignore_index=True)\n",
    "all_labels_test"
   ]
  },
  {
   "cell_type": "code",
   "execution_count": 9,
   "id": "0543d1a7-4b18-4d0f-8536-3529a2cda92a",
   "metadata": {
    "tags": []
   },
   "outputs": [],
   "source": [
    "# Create flower counts.\n",
    "test_flower_counts = []\n",
    "for image_path in labels_list:\n",
    "    test_flower_counts.append(np.count_nonzero(all_labels_test[\"frame\"] == image_path.name))\n",
    "    \n",
    "# Any missing counts are zeros.\n",
    "for _ in range(len(test_flower_counts), len(test_image_reps)):\n",
    "    test_flower_counts.append(0)"
   ]
  },
  {
   "cell_type": "code",
   "execution_count": 10,
   "id": "1741b680-ed08-476e-9a0f-5cb5f0118805",
   "metadata": {
    "tags": []
   },
   "outputs": [],
   "source": [
    "from sklearn.model_selection import PredefinedSplit\n",
    "\n",
    "# Create combined dataset.\n",
    "all_image_reps = image_reps + test_image_reps\n",
    "all_flower_counts = flower_counts + test_flower_counts\n",
    "train_indices = [-1] * len(image_reps)\n",
    "test_indices = [0] * len(test_image_reps)\n",
    "split = PredefinedSplit(train_indices + test_indices)"
   ]
  },
  {
   "cell_type": "code",
   "execution_count": 11,
   "id": "8ca94b64-b75c-41e7-a3f3-459bd29de228",
   "metadata": {
    "tags": []
   },
   "outputs": [
    {
     "name": "stdout",
     "output_type": "stream",
     "text": [
      "2023-04-24 14:23:48,874 - py.warnings - WARNING - /home/daniel/git/self-supervised-learning/.venv/lib/python3.10/site-packages/sklearn/linear_model/_ridge.py:253: LinAlgWarning: Ill-conditioned matrix (rcond=2.86958e-09): result may not be accurate.\n",
      "  dual_coef = linalg.solve(K, y, assume_a=\"pos\", overwrite_a=False)\n",
      "\n",
      "2023-04-24 14:23:49,150 - py.warnings - WARNING - /home/daniel/git/self-supervised-learning/.venv/lib/python3.10/site-packages/sklearn/linear_model/_ridge.py:253: LinAlgWarning: Ill-conditioned matrix (rcond=2.86958e-09): result may not be accurate.\n",
      "  dual_coef = linalg.solve(K, y, assume_a=\"pos\", overwrite_a=False)\n",
      "\n",
      "2023-04-24 14:23:49,429 - py.warnings - WARNING - /home/daniel/git/self-supervised-learning/.venv/lib/python3.10/site-packages/sklearn/linear_model/_ridge.py:253: LinAlgWarning: Ill-conditioned matrix (rcond=9.20253e-09): result may not be accurate.\n",
      "  dual_coef = linalg.solve(K, y, assume_a=\"pos\", overwrite_a=False)\n",
      "\n",
      "2023-04-24 14:23:49,710 - py.warnings - WARNING - /home/daniel/git/self-supervised-learning/.venv/lib/python3.10/site-packages/sklearn/linear_model/_ridge.py:253: LinAlgWarning: Ill-conditioned matrix (rcond=5.48523e-08): result may not be accurate.\n",
      "  dual_coef = linalg.solve(K, y, assume_a=\"pos\", overwrite_a=False)\n",
      "\n"
     ]
    }
   ],
   "source": [
    "from sklearn.linear_model import RidgeCV, Ridge\n",
    "\n",
    "all_flower_counts = np.array(all_flower_counts, dtype=float)\n",
    "all_image_reps_arr = np.concatenate(all_image_reps, axis=0)\n",
    "\n",
    "alphas = [1e-6, 1e-4, 0.01, 0.1, 1.0, 2.0, 4.0, 8.0, 16.0, 32.0, 64.0, 128.0]\n",
    "reg_search = RidgeCV(alphas=alphas, cv=split).fit(all_image_reps_arr, all_flower_counts)\n",
    "# RidgeCV is going to go and refit on the whole dataset once it finds the best alpha, which we don't want.\n",
    "# Fit manually with the best alpha on just the training data.\n",
    "reg = Ridge(reg_search.alpha_).fit(np.concatenate(image_reps, axis=0), np.array(flower_counts))"
   ]
  },
  {
   "cell_type": "code",
   "execution_count": 12,
   "id": "23cf629c-e859-47c7-92ac-593d56789b05",
   "metadata": {
    "tags": []
   },
   "outputs": [
    {
     "data": {
      "text/html": [
       "<pre style=\"white-space:pre;overflow-x:auto;line-height:normal;font-family:Menlo,'DejaVu Sans Mono',consolas,'Courier New',monospace\">\n",
       "<span style=\"color: #800080; text-decoration-color: #800080; font-weight: bold\">array</span><span style=\"font-weight: bold\">([</span>     <span style=\"color: #008080; text-decoration-color: #008080; font-weight: bold\">2.4218</span>,      <span style=\"color: #008080; text-decoration-color: #008080; font-weight: bold\">2.2707</span>,      <span style=\"color: #008080; text-decoration-color: #008080; font-weight: bold\">2.3939</span>,    <span style=\"color: #008080; text-decoration-color: #008080; font-weight: bold\">0.019762</span>,      <span style=\"color: #008080; text-decoration-color: #008080; font-weight: bold\">1.7386</span>,      <span style=\"color: #008080; text-decoration-color: #008080; font-weight: bold\">0.1487</span>,      <span style=\"color: #008080; text-decoration-color: #008080; font-weight: bold\">2.1223</span>,     <span style=\"color: #008080; text-decoration-color: #008080; font-weight: bold\">0.86518</span>,     <span style=\"color: #008080; text-decoration-color: #008080; font-weight: bold\">0.16843</span>,     <span style=\"color: #008080; text-decoration-color: #008080; font-weight: bold\">0.89909</span>,     <span style=\"color: #008080; text-decoration-color: #008080; font-weight: bold\">-3.5984</span>,     <span style=\"color: #008080; text-decoration-color: #008080; font-weight: bold\">-2.9314</span>,      <span style=\"color: #008080; text-decoration-color: #008080; font-weight: bold\">1.8763</span>,      <span style=\"color: #008080; text-decoration-color: #008080; font-weight: bold\">2.9121</span>,      <span style=\"color: #008080; text-decoration-color: #008080; font-weight: bold\">3.7543</span>,      <span style=\"color: #008080; text-decoration-color: #008080; font-weight: bold\">1.0975</span>,       <span style=\"color: #008080; text-decoration-color: #008080; font-weight: bold\">4.017</span>,      <span style=\"color: #008080; text-decoration-color: #008080; font-weight: bold\">1.4625</span>,    <span style=\"color: #008080; text-decoration-color: #008080; font-weight: bold\">-0.37332</span>,     <span style=\"color: #008080; text-decoration-color: #008080; font-weight: bold\">-2.7424</span>,      <span style=\"color: #008080; text-decoration-color: #008080; font-weight: bold\">-1.482</span>,     <span style=\"color: #008080; text-decoration-color: #008080; font-weight: bold\">0.27281</span>,      <span style=\"color: #008080; text-decoration-color: #008080; font-weight: bold\">1.7591</span>,      <span style=\"color: #008080; text-decoration-color: #008080; font-weight: bold\">1.0394</span>,\n",
       "            <span style=\"color: #008080; text-decoration-color: #008080; font-weight: bold\">2.3921</span>,      <span style=\"color: #008080; text-decoration-color: #008080; font-weight: bold\">2.7473</span>,      <span style=\"color: #008080; text-decoration-color: #008080; font-weight: bold\">2.4231</span>,      <span style=\"color: #008080; text-decoration-color: #008080; font-weight: bold\">3.7083</span>,      <span style=\"color: #008080; text-decoration-color: #008080; font-weight: bold\">3.4113</span>,     <span style=\"color: #008080; text-decoration-color: #008080; font-weight: bold\">-1.0995</span>,      <span style=\"color: #008080; text-decoration-color: #008080; font-weight: bold\">1.6944</span>,      <span style=\"color: #008080; text-decoration-color: #008080; font-weight: bold\">2.4992</span>,    <span style=\"color: #008080; text-decoration-color: #008080; font-weight: bold\">-0.26996</span>,      <span style=\"color: #008080; text-decoration-color: #008080; font-weight: bold\">2.9979</span>,      <span style=\"color: #008080; text-decoration-color: #008080; font-weight: bold\">5.4921</span>,       <span style=\"color: #008080; text-decoration-color: #008080; font-weight: bold\">1.047</span>,      <span style=\"color: #008080; text-decoration-color: #008080; font-weight: bold\">1.1633</span>,      <span style=\"color: #008080; text-decoration-color: #008080; font-weight: bold\">1.1867</span>,       <span style=\"color: #008080; text-decoration-color: #008080; font-weight: bold\">2.118</span>,      <span style=\"color: #008080; text-decoration-color: #008080; font-weight: bold\">4.0033</span>,     <span style=\"color: #008080; text-decoration-color: #008080; font-weight: bold\">0.69521</span>,     <span style=\"color: #008080; text-decoration-color: #008080; font-weight: bold\">0.46487</span>,     <span style=\"color: #008080; text-decoration-color: #008080; font-weight: bold\">0.63624</span>,     <span style=\"color: #008080; text-decoration-color: #008080; font-weight: bold\">0.28985</span>,      <span style=\"color: #008080; text-decoration-color: #008080; font-weight: bold\">3.8605</span>,       <span style=\"color: #008080; text-decoration-color: #008080; font-weight: bold\">2.134</span>,     <span style=\"color: #008080; text-decoration-color: #008080; font-weight: bold\">0.83634</span>,      <span style=\"color: #008080; text-decoration-color: #008080; font-weight: bold\">2.2919</span>,\n",
       "          <span style=\"color: #008080; text-decoration-color: #008080; font-weight: bold\">-0.83681</span>,     <span style=\"color: #008080; text-decoration-color: #008080; font-weight: bold\">-1.2936</span>,    <span style=\"color: #008080; text-decoration-color: #008080; font-weight: bold\">-0.74409</span>,     <span style=\"color: #008080; text-decoration-color: #008080; font-weight: bold\">-2.0289</span>,      <span style=\"color: #008080; text-decoration-color: #008080; font-weight: bold\">0.6596</span>,      <span style=\"color: #008080; text-decoration-color: #008080; font-weight: bold\">2.5013</span>,      <span style=\"color: #008080; text-decoration-color: #008080; font-weight: bold\">1.6923</span>,      <span style=\"color: #008080; text-decoration-color: #008080; font-weight: bold\">4.0008</span>,      <span style=\"color: #008080; text-decoration-color: #008080; font-weight: bold\">1.2025</span>,      <span style=\"color: #008080; text-decoration-color: #008080; font-weight: bold\">1.5024</span>,      <span style=\"color: #008080; text-decoration-color: #008080; font-weight: bold\">2.3993</span>,    <span style=\"color: #008080; text-decoration-color: #008080; font-weight: bold\">-0.87239</span>,     <span style=\"color: #008080; text-decoration-color: #008080; font-weight: bold\">-1.8398</span>,     <span style=\"color: #008080; text-decoration-color: #008080; font-weight: bold\">-1.8986</span>,      <span style=\"color: #008080; text-decoration-color: #008080; font-weight: bold\">2.9922</span>,      <span style=\"color: #008080; text-decoration-color: #008080; font-weight: bold\">2.9099</span>,     <span style=\"color: #008080; text-decoration-color: #008080; font-weight: bold\">0.16979</span>,      <span style=\"color: #008080; text-decoration-color: #008080; font-weight: bold\">2.4454</span>,    <span style=\"color: #008080; text-decoration-color: #008080; font-weight: bold\">-0.31578</span>,      <span style=\"color: #008080; text-decoration-color: #008080; font-weight: bold\">1.7119</span>,      <span style=\"color: #008080; text-decoration-color: #008080; font-weight: bold\">1.9642</span>,     <span style=\"color: #008080; text-decoration-color: #008080; font-weight: bold\">0.72102</span>,      <span style=\"color: #008080; text-decoration-color: #008080; font-weight: bold\">2.1663</span>,     <span style=\"color: #008080; text-decoration-color: #008080; font-weight: bold\">0.89697</span>,\n",
       "            <span style=\"color: #008080; text-decoration-color: #008080; font-weight: bold\">3.5403</span>,      <span style=\"color: #008080; text-decoration-color: #008080; font-weight: bold\">2.2383</span>,      <span style=\"color: #008080; text-decoration-color: #008080; font-weight: bold\">4.1807</span>,      <span style=\"color: #008080; text-decoration-color: #008080; font-weight: bold\">4.1804</span>,      <span style=\"color: #008080; text-decoration-color: #008080; font-weight: bold\">4.6527</span>,      <span style=\"color: #008080; text-decoration-color: #008080; font-weight: bold\">2.3941</span>,     <span style=\"color: #008080; text-decoration-color: #008080; font-weight: bold\">-0.1098</span>,     <span style=\"color: #008080; text-decoration-color: #008080; font-weight: bold\">-3.0797</span>,     <span style=\"color: #008080; text-decoration-color: #008080; font-weight: bold\">0.40373</span>,     <span style=\"color: #008080; text-decoration-color: #008080; font-weight: bold\">0.27032</span>,       <span style=\"color: #008080; text-decoration-color: #008080; font-weight: bold\">3.106</span>,      <span style=\"color: #008080; text-decoration-color: #008080; font-weight: bold\">1.5779</span>,      <span style=\"color: #008080; text-decoration-color: #008080; font-weight: bold\">2.3549</span>,     <span style=\"color: #008080; text-decoration-color: #008080; font-weight: bold\">0.54317</span>,      <span style=\"color: #008080; text-decoration-color: #008080; font-weight: bold\">1.9719</span>,     <span style=\"color: #008080; text-decoration-color: #008080; font-weight: bold\">-1.9132</span>,      <span style=\"color: #008080; text-decoration-color: #008080; font-weight: bold\">0.9023</span>,     <span style=\"color: #008080; text-decoration-color: #008080; font-weight: bold\">-1.4394</span>,      <span style=\"color: #008080; text-decoration-color: #008080; font-weight: bold\">1.4141</span>,     <span style=\"color: #008080; text-decoration-color: #008080; font-weight: bold\">-0.8358</span>,      <span style=\"color: #008080; text-decoration-color: #008080; font-weight: bold\">1.7725</span>,    <span style=\"color: #008080; text-decoration-color: #008080; font-weight: bold\">-0.43574</span>,       <span style=\"color: #008080; text-decoration-color: #008080; font-weight: bold\">1.412</span>,      <span style=\"color: #008080; text-decoration-color: #008080; font-weight: bold\">1.6349</span>,\n",
       "            <span style=\"color: #008080; text-decoration-color: #008080; font-weight: bold\">1.2579</span>,      <span style=\"color: #008080; text-decoration-color: #008080; font-weight: bold\">1.3588</span>,     <span style=\"color: #008080; text-decoration-color: #008080; font-weight: bold\">0.63567</span>,     <span style=\"color: #008080; text-decoration-color: #008080; font-weight: bold\">0.02127</span>,      <span style=\"color: #008080; text-decoration-color: #008080; font-weight: bold\">1.4889</span>,      <span style=\"color: #008080; text-decoration-color: #008080; font-weight: bold\">3.8618</span>,      <span style=\"color: #008080; text-decoration-color: #008080; font-weight: bold\">2.0431</span>,      <span style=\"color: #008080; text-decoration-color: #008080; font-weight: bold\">1.9035</span>,      <span style=\"color: #008080; text-decoration-color: #008080; font-weight: bold\">1.1469</span>,    <span style=\"color: #008080; text-decoration-color: #008080; font-weight: bold\">-0.14373</span>,      <span style=\"color: #008080; text-decoration-color: #008080; font-weight: bold\">4.2648</span>,     <span style=\"color: #008080; text-decoration-color: #008080; font-weight: bold\">0.65135</span>,     <span style=\"color: #008080; text-decoration-color: #008080; font-weight: bold\">0.20609</span>,     <span style=\"color: #008080; text-decoration-color: #008080; font-weight: bold\">-1.8603</span>,     <span style=\"color: #008080; text-decoration-color: #008080; font-weight: bold\">-1.2712</span>,      <span style=\"color: #008080; text-decoration-color: #008080; font-weight: bold\">2.9932</span>,      <span style=\"color: #008080; text-decoration-color: #008080; font-weight: bold\">2.3767</span>,      <span style=\"color: #008080; text-decoration-color: #008080; font-weight: bold\">1.8486</span>,      <span style=\"color: #008080; text-decoration-color: #008080; font-weight: bold\">3.0369</span>,   <span style=\"color: #008080; text-decoration-color: #008080; font-weight: bold\">-0.048565</span>,     <span style=\"color: #008080; text-decoration-color: #008080; font-weight: bold\">0.99146</span>,      <span style=\"color: #008080; text-decoration-color: #008080; font-weight: bold\">3.5327</span>,      <span style=\"color: #008080; text-decoration-color: #008080; font-weight: bold\">2.3295</span>,     <span style=\"color: #008080; text-decoration-color: #008080; font-weight: bold\">-1.6027</span>,\n",
       "          <span style=\"color: #008080; text-decoration-color: #008080; font-weight: bold\">-0.43229</span>,     <span style=\"color: #008080; text-decoration-color: #008080; font-weight: bold\">-1.6726</span>,     <span style=\"color: #008080; text-decoration-color: #008080; font-weight: bold\">0.84018</span>,      <span style=\"color: #008080; text-decoration-color: #008080; font-weight: bold\">1.6646</span>,      <span style=\"color: #008080; text-decoration-color: #008080; font-weight: bold\">3.1993</span>,     <span style=\"color: #008080; text-decoration-color: #008080; font-weight: bold\">0.51017</span>,      <span style=\"color: #008080; text-decoration-color: #008080; font-weight: bold\">1.2067</span>,     <span style=\"color: #008080; text-decoration-color: #008080; font-weight: bold\">0.55285</span>,     <span style=\"color: #008080; text-decoration-color: #008080; font-weight: bold\">-1.0601</span>,     <span style=\"color: #008080; text-decoration-color: #008080; font-weight: bold\">-1.4144</span>,      <span style=\"color: #008080; text-decoration-color: #008080; font-weight: bold\">1.0348</span>,    <span style=\"color: #008080; text-decoration-color: #008080; font-weight: bold\">-0.49801</span>,       <span style=\"color: #008080; text-decoration-color: #008080; font-weight: bold\">3.057</span>,    <span style=\"color: #008080; text-decoration-color: #008080; font-weight: bold\">-0.11028</span>,     <span style=\"color: #008080; text-decoration-color: #008080; font-weight: bold\">0.59238</span>,      <span style=\"color: #008080; text-decoration-color: #008080; font-weight: bold\">1.3002</span>,     <span style=\"color: #008080; text-decoration-color: #008080; font-weight: bold\">0.69085</span>,     <span style=\"color: #008080; text-decoration-color: #008080; font-weight: bold\">0.55303</span>,      <span style=\"color: #008080; text-decoration-color: #008080; font-weight: bold\">2.8939</span>,     <span style=\"color: #008080; text-decoration-color: #008080; font-weight: bold\">0.56574</span>,      <span style=\"color: #008080; text-decoration-color: #008080; font-weight: bold\">2.1942</span>,      <span style=\"color: #008080; text-decoration-color: #008080; font-weight: bold\">4.8834</span>,      <span style=\"color: #008080; text-decoration-color: #008080; font-weight: bold\">2.4357</span>,   <span style=\"color: #008080; text-decoration-color: #008080; font-weight: bold\">-0.040903</span>,\n",
       "            <span style=\"color: #008080; text-decoration-color: #008080; font-weight: bold\">2.5554</span>,    <span style=\"color: #008080; text-decoration-color: #008080; font-weight: bold\">0.043509</span>,      <span style=\"color: #008080; text-decoration-color: #008080; font-weight: bold\">2.1737</span>,       <span style=\"color: #008080; text-decoration-color: #008080; font-weight: bold\">1.509</span>,      <span style=\"color: #008080; text-decoration-color: #008080; font-weight: bold\">1.4465</span>,     <span style=\"color: #008080; text-decoration-color: #008080; font-weight: bold\">0.64567</span>,     <span style=\"color: #008080; text-decoration-color: #008080; font-weight: bold\">-1.9183</span>,    <span style=\"color: #008080; text-decoration-color: #008080; font-weight: bold\">-0.83629</span>,       <span style=\"color: #008080; text-decoration-color: #008080; font-weight: bold\">2.251</span>,      <span style=\"color: #008080; text-decoration-color: #008080; font-weight: bold\">2.5205</span>,      <span style=\"color: #008080; text-decoration-color: #008080; font-weight: bold\">3.5259</span>,    <span style=\"color: #008080; text-decoration-color: #008080; font-weight: bold\">-0.82132</span>,      <span style=\"color: #008080; text-decoration-color: #008080; font-weight: bold\">2.1975</span>,      <span style=\"color: #008080; text-decoration-color: #008080; font-weight: bold\">3.1543</span>,      <span style=\"color: #008080; text-decoration-color: #008080; font-weight: bold\">1.9978</span>,      <span style=\"color: #008080; text-decoration-color: #008080; font-weight: bold\">1.2271</span><span style=\"font-weight: bold\">]</span>, <span style=\"color: #808000; text-decoration-color: #808000\">dtype</span>=<span style=\"color: #800080; text-decoration-color: #800080\">float32</span><span style=\"font-weight: bold\">)</span>\n",
       "</pre>\n"
      ],
      "text/plain": [
       "\n",
       "\u001b[1;35marray\u001b[0m\u001b[1m(\u001b[0m\u001b[1m[\u001b[0m     \u001b[1;36m2.4218\u001b[0m,      \u001b[1;36m2.2707\u001b[0m,      \u001b[1;36m2.3939\u001b[0m,    \u001b[1;36m0.019762\u001b[0m,      \u001b[1;36m1.7386\u001b[0m,      \u001b[1;36m0.1487\u001b[0m,      \u001b[1;36m2.1223\u001b[0m,     \u001b[1;36m0.86518\u001b[0m,     \u001b[1;36m0.16843\u001b[0m,     \u001b[1;36m0.89909\u001b[0m,     \u001b[1;36m-3.5984\u001b[0m,     \u001b[1;36m-2.9314\u001b[0m,      \u001b[1;36m1.8763\u001b[0m,      \u001b[1;36m2.9121\u001b[0m,      \u001b[1;36m3.7543\u001b[0m,      \u001b[1;36m1.0975\u001b[0m,       \u001b[1;36m4.017\u001b[0m,      \u001b[1;36m1.4625\u001b[0m,    \u001b[1;36m-0.37332\u001b[0m,     \u001b[1;36m-2.7424\u001b[0m,      \u001b[1;36m-1.482\u001b[0m,     \u001b[1;36m0.27281\u001b[0m,      \u001b[1;36m1.7591\u001b[0m,      \u001b[1;36m1.0394\u001b[0m,\n",
       "            \u001b[1;36m2.3921\u001b[0m,      \u001b[1;36m2.7473\u001b[0m,      \u001b[1;36m2.4231\u001b[0m,      \u001b[1;36m3.7083\u001b[0m,      \u001b[1;36m3.4113\u001b[0m,     \u001b[1;36m-1.0995\u001b[0m,      \u001b[1;36m1.6944\u001b[0m,      \u001b[1;36m2.4992\u001b[0m,    \u001b[1;36m-0.26996\u001b[0m,      \u001b[1;36m2.9979\u001b[0m,      \u001b[1;36m5.4921\u001b[0m,       \u001b[1;36m1.047\u001b[0m,      \u001b[1;36m1.1633\u001b[0m,      \u001b[1;36m1.1867\u001b[0m,       \u001b[1;36m2.118\u001b[0m,      \u001b[1;36m4.0033\u001b[0m,     \u001b[1;36m0.69521\u001b[0m,     \u001b[1;36m0.46487\u001b[0m,     \u001b[1;36m0.63624\u001b[0m,     \u001b[1;36m0.28985\u001b[0m,      \u001b[1;36m3.8605\u001b[0m,       \u001b[1;36m2.134\u001b[0m,     \u001b[1;36m0.83634\u001b[0m,      \u001b[1;36m2.2919\u001b[0m,\n",
       "          \u001b[1;36m-0.83681\u001b[0m,     \u001b[1;36m-1.2936\u001b[0m,    \u001b[1;36m-0.74409\u001b[0m,     \u001b[1;36m-2.0289\u001b[0m,      \u001b[1;36m0.6596\u001b[0m,      \u001b[1;36m2.5013\u001b[0m,      \u001b[1;36m1.6923\u001b[0m,      \u001b[1;36m4.0008\u001b[0m,      \u001b[1;36m1.2025\u001b[0m,      \u001b[1;36m1.5024\u001b[0m,      \u001b[1;36m2.3993\u001b[0m,    \u001b[1;36m-0.87239\u001b[0m,     \u001b[1;36m-1.8398\u001b[0m,     \u001b[1;36m-1.8986\u001b[0m,      \u001b[1;36m2.9922\u001b[0m,      \u001b[1;36m2.9099\u001b[0m,     \u001b[1;36m0.16979\u001b[0m,      \u001b[1;36m2.4454\u001b[0m,    \u001b[1;36m-0.31578\u001b[0m,      \u001b[1;36m1.7119\u001b[0m,      \u001b[1;36m1.9642\u001b[0m,     \u001b[1;36m0.72102\u001b[0m,      \u001b[1;36m2.1663\u001b[0m,     \u001b[1;36m0.89697\u001b[0m,\n",
       "            \u001b[1;36m3.5403\u001b[0m,      \u001b[1;36m2.2383\u001b[0m,      \u001b[1;36m4.1807\u001b[0m,      \u001b[1;36m4.1804\u001b[0m,      \u001b[1;36m4.6527\u001b[0m,      \u001b[1;36m2.3941\u001b[0m,     \u001b[1;36m-0.1098\u001b[0m,     \u001b[1;36m-3.0797\u001b[0m,     \u001b[1;36m0.40373\u001b[0m,     \u001b[1;36m0.27032\u001b[0m,       \u001b[1;36m3.106\u001b[0m,      \u001b[1;36m1.5779\u001b[0m,      \u001b[1;36m2.3549\u001b[0m,     \u001b[1;36m0.54317\u001b[0m,      \u001b[1;36m1.9719\u001b[0m,     \u001b[1;36m-1.9132\u001b[0m,      \u001b[1;36m0.9023\u001b[0m,     \u001b[1;36m-1.4394\u001b[0m,      \u001b[1;36m1.4141\u001b[0m,     \u001b[1;36m-0.8358\u001b[0m,      \u001b[1;36m1.7725\u001b[0m,    \u001b[1;36m-0.43574\u001b[0m,       \u001b[1;36m1.412\u001b[0m,      \u001b[1;36m1.6349\u001b[0m,\n",
       "            \u001b[1;36m1.2579\u001b[0m,      \u001b[1;36m1.3588\u001b[0m,     \u001b[1;36m0.63567\u001b[0m,     \u001b[1;36m0.02127\u001b[0m,      \u001b[1;36m1.4889\u001b[0m,      \u001b[1;36m3.8618\u001b[0m,      \u001b[1;36m2.0431\u001b[0m,      \u001b[1;36m1.9035\u001b[0m,      \u001b[1;36m1.1469\u001b[0m,    \u001b[1;36m-0.14373\u001b[0m,      \u001b[1;36m4.2648\u001b[0m,     \u001b[1;36m0.65135\u001b[0m,     \u001b[1;36m0.20609\u001b[0m,     \u001b[1;36m-1.8603\u001b[0m,     \u001b[1;36m-1.2712\u001b[0m,      \u001b[1;36m2.9932\u001b[0m,      \u001b[1;36m2.3767\u001b[0m,      \u001b[1;36m1.8486\u001b[0m,      \u001b[1;36m3.0369\u001b[0m,   \u001b[1;36m-0.048565\u001b[0m,     \u001b[1;36m0.99146\u001b[0m,      \u001b[1;36m3.5327\u001b[0m,      \u001b[1;36m2.3295\u001b[0m,     \u001b[1;36m-1.6027\u001b[0m,\n",
       "          \u001b[1;36m-0.43229\u001b[0m,     \u001b[1;36m-1.6726\u001b[0m,     \u001b[1;36m0.84018\u001b[0m,      \u001b[1;36m1.6646\u001b[0m,      \u001b[1;36m3.1993\u001b[0m,     \u001b[1;36m0.51017\u001b[0m,      \u001b[1;36m1.2067\u001b[0m,     \u001b[1;36m0.55285\u001b[0m,     \u001b[1;36m-1.0601\u001b[0m,     \u001b[1;36m-1.4144\u001b[0m,      \u001b[1;36m1.0348\u001b[0m,    \u001b[1;36m-0.49801\u001b[0m,       \u001b[1;36m3.057\u001b[0m,    \u001b[1;36m-0.11028\u001b[0m,     \u001b[1;36m0.59238\u001b[0m,      \u001b[1;36m1.3002\u001b[0m,     \u001b[1;36m0.69085\u001b[0m,     \u001b[1;36m0.55303\u001b[0m,      \u001b[1;36m2.8939\u001b[0m,     \u001b[1;36m0.56574\u001b[0m,      \u001b[1;36m2.1942\u001b[0m,      \u001b[1;36m4.8834\u001b[0m,      \u001b[1;36m2.4357\u001b[0m,   \u001b[1;36m-0.040903\u001b[0m,\n",
       "            \u001b[1;36m2.5554\u001b[0m,    \u001b[1;36m0.043509\u001b[0m,      \u001b[1;36m2.1737\u001b[0m,       \u001b[1;36m1.509\u001b[0m,      \u001b[1;36m1.4465\u001b[0m,     \u001b[1;36m0.64567\u001b[0m,     \u001b[1;36m-1.9183\u001b[0m,    \u001b[1;36m-0.83629\u001b[0m,       \u001b[1;36m2.251\u001b[0m,      \u001b[1;36m2.5205\u001b[0m,      \u001b[1;36m3.5259\u001b[0m,    \u001b[1;36m-0.82132\u001b[0m,      \u001b[1;36m2.1975\u001b[0m,      \u001b[1;36m3.1543\u001b[0m,      \u001b[1;36m1.9978\u001b[0m,      \u001b[1;36m1.2271\u001b[0m\u001b[1m]\u001b[0m, \u001b[33mdtype\u001b[0m=\u001b[35mfloat32\u001b[0m\u001b[1m)\u001b[0m\n"
      ]
     },
     "metadata": {},
     "output_type": "display_data"
    }
   ],
   "source": [
    "test_image_reps_arr = np.concatenate(test_image_reps, axis=0)\n",
    "test_preds = reg.predict(test_image_reps_arr)\n",
    "test_preds"
   ]
  },
  {
   "cell_type": "code",
   "execution_count": 13,
   "id": "e0ba65bb-ddf2-45f3-a121-b66e8fbe3224",
   "metadata": {
    "tags": []
   },
   "outputs": [
    {
     "data": {
      "text/html": [
       "<pre style=\"white-space:pre;overflow-x:auto;line-height:normal;font-family:Menlo,'DejaVu Sans Mono',consolas,'Courier New',monospace\"><span style=\"color: #008080; text-decoration-color: #008080; font-weight: bold\">1.8913672603666782</span>\n",
       "</pre>\n"
      ],
      "text/plain": [
       "\u001b[1;36m1.8913672603666782\u001b[0m\n"
      ]
     },
     "metadata": {},
     "output_type": "display_data"
    }
   ],
   "source": [
    "errors = test_preds - test_flower_counts\n",
    "np.mean(np.abs(errors))"
   ]
  },
  {
   "cell_type": "code",
   "execution_count": 14,
   "id": "2585b7ef-ec03-4d2e-9883-8aaf31e0cb13",
   "metadata": {
    "tags": []
   },
   "outputs": [
    {
     "data": {
      "text/html": [
       "<pre style=\"white-space:pre;overflow-x:auto;line-height:normal;font-family:Menlo,'DejaVu Sans Mono',consolas,'Courier New',monospace\"><span style=\"color: #008080; text-decoration-color: #008080; font-weight: bold\">113.20608501580023</span>\n",
       "</pre>\n"
      ],
      "text/plain": [
       "\u001b[1;36m113.20608501580023\u001b[0m\n"
      ]
     },
     "metadata": {},
     "output_type": "display_data"
    }
   ],
   "source": [
    "# Calculate MAPE.\n",
    "errors = np.abs(test_preds - test_flower_counts) / ((np.abs(test_preds) + np.abs(test_flower_counts)) / 2) * 100\n",
    "np.mean(errors)"
   ]
  },
  {
   "cell_type": "code",
   "execution_count": 14,
   "id": "2e929358-790f-4dd5-bb00-6e35baf2838b",
   "metadata": {
    "tags": []
   },
   "outputs": [
    {
     "name": "stdout",
     "output_type": "stream",
     "text": [
      "2023-04-05 10:30:38,090 - py.warnings - WARNING - /home/daniel/git/self-supervised-learning/.venv/lib/python3.10/site-packages/seaborn/rcmod.py:400: DeprecationWarning: distutils Version classes are deprecated. Use packaging.version instead.\n",
      "  if LooseVersion(mpl.__version__) >= \"3.0\":\n",
      "\n",
      "2023-04-05 10:30:38,090 - py.warnings - WARNING - /home/daniel/git/self-supervised-learning/.venv/lib/python3.10/site-packages/setuptools/_distutils/version.py:346: DeprecationWarning: distutils Version classes are deprecated. Use packaging.version instead.\n",
      "  other = LooseVersion(other)\n",
      "\n"
     ]
    },
    {
     "data": {
      "image/png": "[encoded data removed]"
     },
     "metadata": {},
     "output_type": "display_data"
    }
   ],
   "source": [
    "%matplotlib inline\n",
    "import seaborn as sns\n",
    "import matplotlib.pyplot as plt\n",
    "\n",
    "sns.set()\n",
    "\n",
    "sns.regplot(x=test_preds, y=test_flower_counts)\n",
    "plt.show()"
   ]
  },
  {
   "cell_type": "code",
   "execution_count": 15,
   "id": "edbe2b6a-40f5-457c-98b9-80735eef556c",
   "metadata": {},
   "outputs": [
    {
     "data": {
      "image/png": "[encoded data removed]"
     },
     "metadata": {},
     "output_type": "display_data"
    }
   ],
   "source": [
    "sns.histplot(x=errors)"
   ]
  },
  {
   "cell_type": "code",
   "execution_count": 16,
   "id": "eca935db-8542-4b2a-93e9-9e88eae781ea",
   "metadata": {},
   "outputs": [
    {
     "data": {
      "text/html": [
       "<pre style=\"white-space:pre;overflow-x:auto;line-height:normal;font-family:Menlo,'DejaVu Sans Mono',consolas,'Courier New',monospace\"><span style=\"color: #008080; text-decoration-color: #008080; font-weight: bold\">149.14087300267488</span>\n",
       "</pre>\n"
      ],
      "text/plain": [
       "\u001b[1;36m149.14087300267488\u001b[0m\n"
      ]
     },
     "metadata": {},
     "output_type": "display_data"
    }
   ],
   "source": [
    "import numpy as np\n",
    "\n",
    "# Use the coefficient of variation of the differences between frames to provide a measure of \"smoothness\".\n",
    "gt_diff = np.diff(test_flower_counts)\n",
    "gt_smoothness = np.std(gt_diff) / np.abs(np.mean(gt_diff))\n",
    "gt_smoothness"
   ]
  },
  {
   "cell_type": "code",
   "execution_count": 17,
   "id": "4184c156-a024-42ce-8bb0-b1a81f1480ea",
   "metadata": {
    "tags": []
   },
   "outputs": [
    {
     "data": {
      "text/html": [
       "<pre style=\"white-space:pre;overflow-x:auto;line-height:normal;font-family:Menlo,'DejaVu Sans Mono',consolas,'Courier New',monospace\"><span style=\"color: #008080; text-decoration-color: #008080; font-weight: bold\">787.24805</span>\n",
       "</pre>\n"
      ],
      "text/plain": [
       "\u001b[1;36m787.24805\u001b[0m\n"
      ]
     },
     "metadata": {},
     "output_type": "display_data"
    }
   ],
   "source": [
    "pred_diff = np.diff(test_preds)\n",
    "pred_smoothness = np.std(pred_diff) / np.abs(np.mean(pred_diff))\n",
    "pred_smoothness"
   ]
  },
  {
   "cell_type": "code",
   "execution_count": 18,
   "id": "da4ca9a6-95c7-4cf8-b188-12ab036b7aa4",
   "metadata": {
    "tags": []
   },
   "outputs": [
    {
     "data": {
      "text/html": [
       "<pre style=\"white-space:pre;overflow-x:auto;line-height:normal;font-family:Menlo,'DejaVu Sans Mono',consolas,'Courier New',monospace\"><span style=\"color: #008080; text-decoration-color: #008080; font-weight: bold\">1533.3885</span>\n",
       "</pre>\n"
      ],
      "text/plain": [
       "\u001b[1;36m1533.3885\u001b[0m\n"
      ]
     },
     "metadata": {},
     "output_type": "display_data"
    }
   ],
   "source": [
    "reps_diff = np.diff(test_image_reps_arr, axis=0)\n",
    "reps_smoothness = np.std(reps_diff, axis=0) / np.abs(np.mean(reps_diff, axis=0))\n",
    "np.mean(reps_smoothness)"
   ]
  },
  {
   "cell_type": "code",
   "execution_count": null,
   "id": "1e37bd3e-ed25-4568-8a73-9f0fd3581293",
   "metadata": {},
   "outputs": [],
   "source": []
  }
 ],
 "metadata": {
  "kernelspec": {
   "display_name": "Kedro (self_supervised)",
   "language": "python",
   "name": "kedro_self_supervised"
  },
  "language_info": {
   "codemirror_mode": {
    "name": "ipython",
    "version": 3
   },
   "file_extension": ".py",
   "mimetype": "text/x-python",
   "name": "python",
   "nbconvert_exporter": "python",
   "pygments_lexer": "ipython3",
   "version": "3.10.10"
  }
 },
 "nbformat": 4,
 "nbformat_minor": 5
}
