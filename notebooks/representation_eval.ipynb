{
 "cells": [
  {
   "cell_type": "code",
   "execution_count": 1,
   "id": "acfda911-ae74-4318-a246-949fe66cdd10",
   "metadata": {
    "tags": []
   },
   "outputs": [
    {
     "name": "stdout",
     "output_type": "stream",
     "text": [
      "2023-03-02 09:15:38,567 - py.warnings - WARNING - /home/daniel/git/self-supervised-learning/.venv/lib/python3.8/site-packages/thop/profile.py:12: DeprecationWarning: distutils Version classes are deprecated. Use packaging.version instead.\n",
      "  if LooseVersion(torch.__version__) < LooseVersion(\"1.0.0\"):\n",
      "\n",
      "2023-03-02 09:15:38,567 - py.warnings - WARNING - /home/daniel/git/self-supervised-learning/.venv/lib/python3.8/site-packages/thop/profile.py:68: DeprecationWarning: distutils Version classes are deprecated. Use packaging.version instead.\n",
      "  if LooseVersion(torch.__version__) >= LooseVersion(\"1.1.0\"):\n",
      "\n",
      "2023-03-02 09:15:38,762 - py.warnings - WARNING - /home/daniel/git/self-supervised-learning/.venv/lib/python3.8/site-packages/seaborn/rcmod.py:82: DeprecationWarning: distutils Version classes are deprecated. Use packaging.version instead.\n",
      "  if LooseVersion(mpl.__version__) >= \"3.0\":\n",
      "\n",
      "2023-03-02 09:15:38,763 - py.warnings - WARNING - /home/daniel/git/self-supervised-learning/.venv/lib/python3.8/site-packages/setuptools/_distutils/version.py:346: DeprecationWarning: distutils Version classes are deprecated. Use packaging.version instead.\n",
      "  other = LooseVersion(other)\n",
      "\n",
      "2023-03-02 09:15:38,774 - py.warnings - WARNING - /home/daniel/git/self-supervised-learning/.venv/lib/python3.8/site-packages/seaborn/cm.py:1582: MatplotlibDeprecationWarning: The register_cmap function was deprecated in Matplotlib 3.7 and will be removed two minor releases later. Use ``matplotlib.colormaps.register(name)`` instead.\n",
      "  mpl_cm.register_cmap(_name, _cmap)\n",
      "\n",
      "2023-03-02 09:15:38,774 - py.warnings - WARNING - /home/daniel/git/self-supervised-learning/.venv/lib/python3.8/site-packages/seaborn/cm.py:1583: MatplotlibDeprecationWarning: The register_cmap function was deprecated in Matplotlib 3.7 and will be removed two minor releases later. Use ``matplotlib.colormaps.register(name)`` instead.\n",
      "  mpl_cm.register_cmap(_name + \"_r\", _cmap_r)\n",
      "\n",
      "2023-03-02 09:15:38,779 - kedro.ipython - INFO - Resolved project path as: /home/daniel/git/self-supervised-learning.\n",
      "To set a different path, run '%reload_kedro <project_root>'\n",
      "2023-03-02 09:15:38,781 - py.warnings - WARNING - /home/daniel/git/self-supervised-learning/.venv/lib/python3.8/site-packages/kedro/framework/startup.py:98: DeprecationWarning: project_version in pyproject.toml is deprecated, use kedro_init_version instead\n",
      "  warnings.warn(\n",
      "\n",
      "2023-03-02 09:15:39,015 - kedro.ipython - INFO - Kedro project Self-Supervised Learning\n",
      "2023-03-02 09:15:39,015 - kedro.ipython - INFO - Defined global variable 'context', 'session', 'catalog' and 'pipelines'\n",
      "2023-03-02 09:15:39,020 - kedro.io.data_catalog - INFO - Loading data from 'yolov5_l_description' (YAMLDataSet)...\n",
      "2023-03-02 09:15:39,035 - kedro.io.data_catalog - INFO - Loading data from 'trained_model' (PytorchModelDataSet)...\n"
     ]
    },
    {
     "name": "stderr",
     "output_type": "stream",
     "text": [
      "2023-03-02 09:15:39.036 | WARNING  | self_supervised.extras.datasets.pytorch_model_data_set:_load:42 - CUDA not available, automatically mapping variables to the CPU.\n"
     ]
    }
   ],
   "source": [
    "from self_supervised.pipelines.representation_model import RepresentationModel, YoloEncoder\n",
    "\n",
    "%reload_kedro\n",
    "model_description = catalog.load(\"yolov5_l_description\")\n",
    "trained_model = catalog.load(\"trained_model\")\n",
    "#encoder = YoloEncoder(model_description=model_description)\n",
    "#trained_model = RepresentationModel(encoder=encoder)\n",
    "trained_model = trained_model.eval()"
   ]
  },
  {
   "cell_type": "code",
   "execution_count": 2,
   "id": "c1878dbc-46f2-463f-b313-6dc1aed75b69",
   "metadata": {
    "tags": []
   },
   "outputs": [],
   "source": [
    "from pathlib import Path\n",
    "\n",
    "dataset_path = Path(\"/home/daniel/lab_share/projects/CottonFlower2021/flower_dataset\")\n",
    "image_dir = dataset_path / \"flower01\" / \"images\""
   ]
  },
  {
   "cell_type": "code",
   "execution_count": 3,
   "id": "5a67e6c7-88c4-40b3-a33d-1a67a76f0d5f",
   "metadata": {
    "tags": []
   },
   "outputs": [
    {
     "name": "stderr",
     "output_type": "stream",
     "text": [
      "100%|██████████████████████████████████████████████████████████████████████████████████████████████████████████████████████████████████████████████████████████████████████████████████████████████████████████████████████████████████████████████████████████████████████████████████████████████████████████████████████████████| 458/458 [01:11<00:00,  6.39it/s]\n"
     ]
    }
   ],
   "source": [
    "from torchvision.io import read_image\n",
    "from torchvision.transforms.functional import resize\n",
    "from tqdm import tqdm\n",
    "import torch\n",
    "\n",
    "image_reps = []\n",
    "\n",
    "image_list = sorted(list(image_dir.iterdir()))\n",
    "for image_path in tqdm(image_list):\n",
    "    image = read_image(image_path.as_posix())\n",
    "    image.requires_grad = False\n",
    "    image = resize(image, (512, 512))\n",
    "    image = image.to(torch.float) / 255\n",
    "    image_ex = image[None, :, :, :]\n",
    "    \n",
    "    image_reps.append(trained_model(image_ex)[0].detach().numpy())"
   ]
  },
  {
   "cell_type": "code",
   "execution_count": 4,
   "id": "43808fe8-1319-464a-8977-4e7f42db135f",
   "metadata": {
    "tags": []
   },
   "outputs": [
    {
     "data": {
      "text/html": [
       "<div>\n",
       "<style scoped>\n",
       "    .dataframe tbody tr th:only-of-type {\n",
       "        vertical-align: middle;\n",
       "    }\n",
       "\n",
       "    .dataframe tbody tr th {\n",
       "        vertical-align: top;\n",
       "    }\n",
       "\n",
       "    .dataframe thead th {\n",
       "        text-align: right;\n",
       "    }\n",
       "</style>\n",
       "<table border=\"1\" class=\"dataframe\">\n",
       "  <thead>\n",
       "    <tr style=\"text-align: right;\">\n",
       "      <th></th>\n",
       "      <th>class</th>\n",
       "      <th>x</th>\n",
       "      <th>y</th>\n",
       "      <th>width</th>\n",
       "      <th>height</th>\n",
       "      <th>frame</th>\n",
       "    </tr>\n",
       "  </thead>\n",
       "  <tbody>\n",
       "    <tr>\n",
       "      <th>0</th>\n",
       "      <td>0</td>\n",
       "      <td>0.635938</td>\n",
       "      <td>0.238889</td>\n",
       "      <td>0.020833</td>\n",
       "      <td>0.037037</td>\n",
       "      <td>000001.txt</td>\n",
       "    </tr>\n",
       "    <tr>\n",
       "      <th>1</th>\n",
       "      <td>0</td>\n",
       "      <td>0.379427</td>\n",
       "      <td>0.065278</td>\n",
       "      <td>0.015104</td>\n",
       "      <td>0.034259</td>\n",
       "      <td>000001.txt</td>\n",
       "    </tr>\n",
       "    <tr>\n",
       "      <th>2</th>\n",
       "      <td>0</td>\n",
       "      <td>0.634375</td>\n",
       "      <td>0.245370</td>\n",
       "      <td>0.020833</td>\n",
       "      <td>0.037037</td>\n",
       "      <td>000002.txt</td>\n",
       "    </tr>\n",
       "    <tr>\n",
       "      <th>3</th>\n",
       "      <td>0</td>\n",
       "      <td>0.379948</td>\n",
       "      <td>0.068981</td>\n",
       "      <td>0.015104</td>\n",
       "      <td>0.034259</td>\n",
       "      <td>000002.txt</td>\n",
       "    </tr>\n",
       "    <tr>\n",
       "      <th>4</th>\n",
       "      <td>0</td>\n",
       "      <td>0.379948</td>\n",
       "      <td>0.069907</td>\n",
       "      <td>0.015104</td>\n",
       "      <td>0.034259</td>\n",
       "      <td>000003.txt</td>\n",
       "    </tr>\n",
       "    <tr>\n",
       "      <th>...</th>\n",
       "      <td>...</td>\n",
       "      <td>...</td>\n",
       "      <td>...</td>\n",
       "      <td>...</td>\n",
       "      <td>...</td>\n",
       "      <td>...</td>\n",
       "    </tr>\n",
       "    <tr>\n",
       "      <th>1987</th>\n",
       "      <td>0</td>\n",
       "      <td>0.495833</td>\n",
       "      <td>0.971759</td>\n",
       "      <td>0.030208</td>\n",
       "      <td>0.052778</td>\n",
       "      <td>000383.txt</td>\n",
       "    </tr>\n",
       "    <tr>\n",
       "      <th>1988</th>\n",
       "      <td>0</td>\n",
       "      <td>0.496875</td>\n",
       "      <td>0.976852</td>\n",
       "      <td>0.030208</td>\n",
       "      <td>0.046296</td>\n",
       "      <td>000384.txt</td>\n",
       "    </tr>\n",
       "    <tr>\n",
       "      <th>1989</th>\n",
       "      <td>0</td>\n",
       "      <td>0.497656</td>\n",
       "      <td>0.980093</td>\n",
       "      <td>0.028646</td>\n",
       "      <td>0.037963</td>\n",
       "      <td>000385.txt</td>\n",
       "    </tr>\n",
       "    <tr>\n",
       "      <th>1990</th>\n",
       "      <td>0</td>\n",
       "      <td>0.497135</td>\n",
       "      <td>0.986111</td>\n",
       "      <td>0.028646</td>\n",
       "      <td>0.027778</td>\n",
       "      <td>000386.txt</td>\n",
       "    </tr>\n",
       "    <tr>\n",
       "      <th>1991</th>\n",
       "      <td>0</td>\n",
       "      <td>0.497656</td>\n",
       "      <td>0.991667</td>\n",
       "      <td>0.028646</td>\n",
       "      <td>0.016667</td>\n",
       "      <td>000387.txt</td>\n",
       "    </tr>\n",
       "  </tbody>\n",
       "</table>\n",
       "<p>1992 rows × 6 columns</p>\n",
       "</div>"
      ]
     },
     "execution_count": 4,
     "metadata": {},
     "output_type": "execute_result"
    }
   ],
   "source": [
    "# Load flower counts.\n",
    "import pandas as pd\n",
    "\n",
    "labels_dir = dataset_path / \"flower01\" / \"labels\"\n",
    "all_labels = []\n",
    "labels_list = sorted(list(labels_dir.iterdir()))\n",
    "for labels_path in labels_list:\n",
    "    frame_labels = pd.read_csv(labels_path, sep=\" \", names=[\"class\", \"x\", \"y\", \"width\", \"height\"])\n",
    "    frame_labels[\"frame\"] = labels_path.name\n",
    "    all_labels.append(frame_labels)\n",
    "    \n",
    "all_labels = pd.concat(all_labels, ignore_index=True)\n",
    "all_labels"
   ]
  },
  {
   "cell_type": "code",
   "execution_count": 5,
   "id": "96a261b8-3343-4c52-a567-4a94fcbc3964",
   "metadata": {
    "tags": []
   },
   "outputs": [],
   "source": [
    "import numpy as np\n",
    "\n",
    "# Create flower counts labels.\n",
    "flower_counts = []\n",
    "for image_path in labels_list:\n",
    "    flower_counts.append(np.count_nonzero(all_labels[\"frame\"] == image_path.name))\n",
    "    \n",
    "# Any missing counts are zeros.\n",
    "for _ in range(len(flower_counts), len(image_reps)):\n",
    "    flower_counts.append(0)"
   ]
  },
  {
   "cell_type": "code",
   "execution_count": 6,
   "id": "8cd84dd2-fc0b-482e-b69a-7bed0e95f7e5",
   "metadata": {
    "tags": []
   },
   "outputs": [
    {
     "name": "stderr",
     "output_type": "stream",
     "text": [
      "100%|██████████████████████████████████████████████████████████████████████████████████████████████████████████████████████████████████████████████████████████████████████████████████████████████████████████████████████████████████████████████████████████████████████████████████████████████████████████████████████████████| 333/333 [00:49<00:00,  6.68it/s]\n"
     ]
    }
   ],
   "source": [
    "test_image_dir = dataset_path / \"flower02\" / \"images\"\n",
    "\n",
    "test_image_reps = []\n",
    "\n",
    "image_list = sorted(list(test_image_dir.iterdir()))\n",
    "for image_path in tqdm(image_list):\n",
    "    image = read_image(image_path.as_posix())\n",
    "    image.requires_grad = False\n",
    "    image = resize(image, (512, 512))\n",
    "    image = image.to(torch.float) / 255\n",
    "    image_ex = image[None, :, :, :]\n",
    "    \n",
    "    test_image_reps.append(trained_model(image_ex)[0].detach().numpy())"
   ]
  },
  {
   "cell_type": "code",
   "execution_count": 7,
   "id": "1d4b4cc4-c178-4e22-be2e-d21b0bb5d899",
   "metadata": {
    "tags": []
   },
   "outputs": [
    {
     "data": {
      "text/html": [
       "<div>\n",
       "<style scoped>\n",
       "    .dataframe tbody tr th:only-of-type {\n",
       "        vertical-align: middle;\n",
       "    }\n",
       "\n",
       "    .dataframe tbody tr th {\n",
       "        vertical-align: top;\n",
       "    }\n",
       "\n",
       "    .dataframe thead th {\n",
       "        text-align: right;\n",
       "    }\n",
       "</style>\n",
       "<table border=\"1\" class=\"dataframe\">\n",
       "  <thead>\n",
       "    <tr style=\"text-align: right;\">\n",
       "      <th></th>\n",
       "      <th>class</th>\n",
       "      <th>x</th>\n",
       "      <th>y</th>\n",
       "      <th>width</th>\n",
       "      <th>height</th>\n",
       "      <th>frame</th>\n",
       "    </tr>\n",
       "  </thead>\n",
       "  <tbody>\n",
       "    <tr>\n",
       "      <th>0</th>\n",
       "      <td>0</td>\n",
       "      <td>0.407813</td>\n",
       "      <td>0.032870</td>\n",
       "      <td>0.014583</td>\n",
       "      <td>0.023148</td>\n",
       "      <td>000001.txt</td>\n",
       "    </tr>\n",
       "    <tr>\n",
       "      <th>1</th>\n",
       "      <td>0</td>\n",
       "      <td>0.408854</td>\n",
       "      <td>0.042130</td>\n",
       "      <td>0.014583</td>\n",
       "      <td>0.023148</td>\n",
       "      <td>000002.txt</td>\n",
       "    </tr>\n",
       "    <tr>\n",
       "      <th>2</th>\n",
       "      <td>0</td>\n",
       "      <td>0.408854</td>\n",
       "      <td>0.042130</td>\n",
       "      <td>0.014583</td>\n",
       "      <td>0.023148</td>\n",
       "      <td>000003.txt</td>\n",
       "    </tr>\n",
       "    <tr>\n",
       "      <th>3</th>\n",
       "      <td>0</td>\n",
       "      <td>0.408854</td>\n",
       "      <td>0.042130</td>\n",
       "      <td>0.014583</td>\n",
       "      <td>0.023148</td>\n",
       "      <td>000004.txt</td>\n",
       "    </tr>\n",
       "    <tr>\n",
       "      <th>4</th>\n",
       "      <td>0</td>\n",
       "      <td>0.408854</td>\n",
       "      <td>0.042130</td>\n",
       "      <td>0.014583</td>\n",
       "      <td>0.023148</td>\n",
       "      <td>000005.txt</td>\n",
       "    </tr>\n",
       "    <tr>\n",
       "      <th>...</th>\n",
       "      <td>...</td>\n",
       "      <td>...</td>\n",
       "      <td>...</td>\n",
       "      <td>...</td>\n",
       "      <td>...</td>\n",
       "      <td>...</td>\n",
       "    </tr>\n",
       "    <tr>\n",
       "      <th>1583</th>\n",
       "      <td>0</td>\n",
       "      <td>0.441406</td>\n",
       "      <td>0.814352</td>\n",
       "      <td>0.020313</td>\n",
       "      <td>0.036111</td>\n",
       "      <td>000287.txt</td>\n",
       "    </tr>\n",
       "    <tr>\n",
       "      <th>1584</th>\n",
       "      <td>0</td>\n",
       "      <td>0.437240</td>\n",
       "      <td>0.838426</td>\n",
       "      <td>0.020313</td>\n",
       "      <td>0.036111</td>\n",
       "      <td>000288.txt</td>\n",
       "    </tr>\n",
       "    <tr>\n",
       "      <th>1585</th>\n",
       "      <td>0</td>\n",
       "      <td>0.433073</td>\n",
       "      <td>0.858796</td>\n",
       "      <td>0.020313</td>\n",
       "      <td>0.036111</td>\n",
       "      <td>000289.txt</td>\n",
       "    </tr>\n",
       "    <tr>\n",
       "      <th>1586</th>\n",
       "      <td>0</td>\n",
       "      <td>0.434635</td>\n",
       "      <td>0.871759</td>\n",
       "      <td>0.011979</td>\n",
       "      <td>0.028704</td>\n",
       "      <td>000290.txt</td>\n",
       "    </tr>\n",
       "    <tr>\n",
       "      <th>1587</th>\n",
       "      <td>0</td>\n",
       "      <td>0.439844</td>\n",
       "      <td>0.879167</td>\n",
       "      <td>0.011979</td>\n",
       "      <td>0.028704</td>\n",
       "      <td>000291.txt</td>\n",
       "    </tr>\n",
       "  </tbody>\n",
       "</table>\n",
       "<p>1588 rows × 6 columns</p>\n",
       "</div>"
      ]
     },
     "execution_count": 7,
     "metadata": {},
     "output_type": "execute_result"
    }
   ],
   "source": [
    "test_labels_dir = dataset_path / \"flower02\" / \"labels\"\n",
    "all_labels_test = []\n",
    "labels_list = sorted(list(test_labels_dir.iterdir()))\n",
    "for labels_path in labels_list:\n",
    "    frame_labels = pd.read_csv(labels_path, sep=\" \", names=[\"class\", \"x\", \"y\", \"width\", \"height\"])\n",
    "    frame_labels[\"frame\"] = labels_path.name\n",
    "    all_labels_test.append(frame_labels)\n",
    "    \n",
    "all_labels_test = pd.concat(all_labels_test, ignore_index=True)\n",
    "all_labels_test"
   ]
  },
  {
   "cell_type": "code",
   "execution_count": 8,
   "id": "0543d1a7-4b18-4d0f-8536-3529a2cda92a",
   "metadata": {
    "tags": []
   },
   "outputs": [],
   "source": [
    "# Create flower counts.\n",
    "test_flower_counts = []\n",
    "for image_path in labels_list:\n",
    "    test_flower_counts.append(np.count_nonzero(all_labels_test[\"frame\"] == image_path.name))\n",
    "    \n",
    "# Any missing counts are zeros.\n",
    "for _ in range(len(test_flower_counts), len(test_image_reps)):\n",
    "    test_flower_counts.append(0)"
   ]
  },
  {
   "cell_type": "code",
   "execution_count": 9,
   "id": "1741b680-ed08-476e-9a0f-5cb5f0118805",
   "metadata": {
    "tags": []
   },
   "outputs": [],
   "source": [
    "# Create combined dataset.\n",
    "all_image_reps = image_reps + test_image_reps\n",
    "all_flower_counts = flower_counts + test_flower_counts\n",
    "train_indices = np.arange(len(image_reps))\n",
    "test_indices = np.arange(len(image_reps), len(all_image_reps))"
   ]
  },
  {
   "cell_type": "code",
   "execution_count": 10,
   "id": "8ca94b64-b75c-41e7-a3f3-459bd29de228",
   "metadata": {
    "tags": []
   },
   "outputs": [
    {
     "name": "stdout",
     "output_type": "stream",
     "text": [
      "2023-03-02 09:17:58,855 - py.warnings - WARNING - /home/daniel/git/self-supervised-learning/.venv/lib/python3.8/site-packages/sklearn/linear_model/_ridge.py:216: LinAlgWarning: Ill-conditioned matrix (rcond=7.01319e-09): result may not be accurate.\n",
      "  return linalg.solve(A, Xy, assume_a=\"pos\", overwrite_a=True).T\n",
      "\n"
     ]
    }
   ],
   "source": [
    "from sklearn.linear_model import RidgeCV\n",
    "\n",
    "all_flower_counts = np.array(all_flower_counts, dtype=float)\n",
    "all_image_reps_arr = np.concatenate(all_image_reps, axis=0)\n",
    "\n",
    "alphas = [1e-6, 1e-4, 0.01, 0.1, 1.0, 2.0, 4.0, 8.0, 16.0, 32.0, 64.0, 128.0]\n",
    "reg = RidgeCV(alphas=alphas, cv=((train_indices, test_indices),)).fit(all_image_reps_arr, all_flower_counts)"
   ]
  },
  {
   "cell_type": "code",
   "execution_count": 11,
   "id": "23cf629c-e859-47c7-92ac-593d56789b05",
   "metadata": {
    "tags": []
   },
   "outputs": [
    {
     "data": {
      "text/html": [
       "<pre style=\"white-space:pre;overflow-x:auto;line-height:normal;font-family:Menlo,'DejaVu Sans Mono',consolas,'Courier New',monospace\">\n",
       "<span style=\"color: #800080; text-decoration-color: #800080; font-weight: bold\">array</span><span style=\"font-weight: bold\">([</span>    <span style=\"color: #008080; text-decoration-color: #008080; font-weight: bold\">0.49759</span>,      <span style=\"color: #008080; text-decoration-color: #008080; font-weight: bold\">1.0678</span>,      <span style=\"color: #008080; text-decoration-color: #008080; font-weight: bold\">1.2484</span>,      <span style=\"color: #008080; text-decoration-color: #008080; font-weight: bold\">1.0432</span>,     <span style=\"color: #008080; text-decoration-color: #008080; font-weight: bold\">0.78541</span>,     <span style=\"color: #008080; text-decoration-color: #008080; font-weight: bold\">0.53449</span>,      <span style=\"color: #008080; text-decoration-color: #008080; font-weight: bold\">1.3449</span>,      <span style=\"color: #008080; text-decoration-color: #008080; font-weight: bold\">1.1995</span>,      <span style=\"color: #008080; text-decoration-color: #008080; font-weight: bold\">1.2364</span>,      <span style=\"color: #008080; text-decoration-color: #008080; font-weight: bold\">1.2267</span>,      <span style=\"color: #008080; text-decoration-color: #008080; font-weight: bold\">1.4107</span>,       <span style=\"color: #008080; text-decoration-color: #008080; font-weight: bold\">1.481</span>,      <span style=\"color: #008080; text-decoration-color: #008080; font-weight: bold\">1.9401</span>,      <span style=\"color: #008080; text-decoration-color: #008080; font-weight: bold\">1.8896</span>,      <span style=\"color: #008080; text-decoration-color: #008080; font-weight: bold\">1.6845</span>,      <span style=\"color: #008080; text-decoration-color: #008080; font-weight: bold\">1.7975</span>,      <span style=\"color: #008080; text-decoration-color: #008080; font-weight: bold\">1.6495</span>,      <span style=\"color: #008080; text-decoration-color: #008080; font-weight: bold\">1.2223</span>,      <span style=\"color: #008080; text-decoration-color: #008080; font-weight: bold\">1.2426</span>,      <span style=\"color: #008080; text-decoration-color: #008080; font-weight: bold\">1.0381</span>,     <span style=\"color: #008080; text-decoration-color: #008080; font-weight: bold\">0.87396</span>,      <span style=\"color: #008080; text-decoration-color: #008080; font-weight: bold\">1.2143</span>,      <span style=\"color: #008080; text-decoration-color: #008080; font-weight: bold\">1.4723</span>,      <span style=\"color: #008080; text-decoration-color: #008080; font-weight: bold\">1.0823</span>,\n",
       "            <span style=\"color: #008080; text-decoration-color: #008080; font-weight: bold\">1.7961</span>,      <span style=\"color: #008080; text-decoration-color: #008080; font-weight: bold\">2.2523</span>,       <span style=\"color: #008080; text-decoration-color: #008080; font-weight: bold\">2.304</span>,      <span style=\"color: #008080; text-decoration-color: #008080; font-weight: bold\">2.6779</span>,       <span style=\"color: #008080; text-decoration-color: #008080; font-weight: bold\">2.867</span>,      <span style=\"color: #008080; text-decoration-color: #008080; font-weight: bold\">2.8852</span>,      <span style=\"color: #008080; text-decoration-color: #008080; font-weight: bold\">3.1542</span>,      <span style=\"color: #008080; text-decoration-color: #008080; font-weight: bold\">3.1213</span>,      <span style=\"color: #008080; text-decoration-color: #008080; font-weight: bold\">2.9332</span>,      <span style=\"color: #008080; text-decoration-color: #008080; font-weight: bold\">3.0002</span>,      <span style=\"color: #008080; text-decoration-color: #008080; font-weight: bold\">3.0859</span>,      <span style=\"color: #008080; text-decoration-color: #008080; font-weight: bold\">3.3025</span>,      <span style=\"color: #008080; text-decoration-color: #008080; font-weight: bold\">4.0604</span>,      <span style=\"color: #008080; text-decoration-color: #008080; font-weight: bold\">3.6692</span>,      <span style=\"color: #008080; text-decoration-color: #008080; font-weight: bold\">3.6551</span>,      <span style=\"color: #008080; text-decoration-color: #008080; font-weight: bold\">4.0142</span>,      <span style=\"color: #008080; text-decoration-color: #008080; font-weight: bold\">3.9652</span>,      <span style=\"color: #008080; text-decoration-color: #008080; font-weight: bold\">4.0276</span>,      <span style=\"color: #008080; text-decoration-color: #008080; font-weight: bold\">3.8822</span>,      <span style=\"color: #008080; text-decoration-color: #008080; font-weight: bold\">4.1185</span>,      <span style=\"color: #008080; text-decoration-color: #008080; font-weight: bold\">4.1709</span>,      <span style=\"color: #008080; text-decoration-color: #008080; font-weight: bold\">4.5433</span>,      <span style=\"color: #008080; text-decoration-color: #008080; font-weight: bold\">4.2756</span>,      <span style=\"color: #008080; text-decoration-color: #008080; font-weight: bold\">4.3596</span>,\n",
       "            <span style=\"color: #008080; text-decoration-color: #008080; font-weight: bold\">4.3811</span>,      <span style=\"color: #008080; text-decoration-color: #008080; font-weight: bold\">4.5571</span>,      <span style=\"color: #008080; text-decoration-color: #008080; font-weight: bold\">4.3595</span>,      <span style=\"color: #008080; text-decoration-color: #008080; font-weight: bold\">4.2403</span>,      <span style=\"color: #008080; text-decoration-color: #008080; font-weight: bold\">4.4815</span>,      <span style=\"color: #008080; text-decoration-color: #008080; font-weight: bold\">4.7614</span>,      <span style=\"color: #008080; text-decoration-color: #008080; font-weight: bold\">4.8183</span>,      <span style=\"color: #008080; text-decoration-color: #008080; font-weight: bold\">4.8666</span>,      <span style=\"color: #008080; text-decoration-color: #008080; font-weight: bold\">4.8949</span>,      <span style=\"color: #008080; text-decoration-color: #008080; font-weight: bold\">5.0354</span>,      <span style=\"color: #008080; text-decoration-color: #008080; font-weight: bold\">4.6892</span>,      <span style=\"color: #008080; text-decoration-color: #008080; font-weight: bold\">4.9237</span>,       <span style=\"color: #008080; text-decoration-color: #008080; font-weight: bold\">4.684</span>,      <span style=\"color: #008080; text-decoration-color: #008080; font-weight: bold\">4.8853</span>,      <span style=\"color: #008080; text-decoration-color: #008080; font-weight: bold\">4.7242</span>,      <span style=\"color: #008080; text-decoration-color: #008080; font-weight: bold\">5.0466</span>,      <span style=\"color: #008080; text-decoration-color: #008080; font-weight: bold\">4.9225</span>,      <span style=\"color: #008080; text-decoration-color: #008080; font-weight: bold\">5.1637</span>,      <span style=\"color: #008080; text-decoration-color: #008080; font-weight: bold\">5.0373</span>,      <span style=\"color: #008080; text-decoration-color: #008080; font-weight: bold\">4.9809</span>,      <span style=\"color: #008080; text-decoration-color: #008080; font-weight: bold\">4.9261</span>,      <span style=\"color: #008080; text-decoration-color: #008080; font-weight: bold\">4.8481</span>,      <span style=\"color: #008080; text-decoration-color: #008080; font-weight: bold\">4.8639</span>,      <span style=\"color: #008080; text-decoration-color: #008080; font-weight: bold\">4.9465</span>,\n",
       "            <span style=\"color: #008080; text-decoration-color: #008080; font-weight: bold\">4.9813</span>,       <span style=\"color: #008080; text-decoration-color: #008080; font-weight: bold\">5.264</span>,      <span style=\"color: #008080; text-decoration-color: #008080; font-weight: bold\">5.1266</span>,      <span style=\"color: #008080; text-decoration-color: #008080; font-weight: bold\">5.4901</span>,      <span style=\"color: #008080; text-decoration-color: #008080; font-weight: bold\">5.4814</span>,      <span style=\"color: #008080; text-decoration-color: #008080; font-weight: bold\">5.3073</span>,      <span style=\"color: #008080; text-decoration-color: #008080; font-weight: bold\">5.1699</span>,      <span style=\"color: #008080; text-decoration-color: #008080; font-weight: bold\">5.4768</span>,      <span style=\"color: #008080; text-decoration-color: #008080; font-weight: bold\">5.7182</span>,      <span style=\"color: #008080; text-decoration-color: #008080; font-weight: bold\">5.5085</span>,      <span style=\"color: #008080; text-decoration-color: #008080; font-weight: bold\">5.4737</span>,      <span style=\"color: #008080; text-decoration-color: #008080; font-weight: bold\">6.1986</span>,      <span style=\"color: #008080; text-decoration-color: #008080; font-weight: bold\">5.8078</span>,      <span style=\"color: #008080; text-decoration-color: #008080; font-weight: bold\">5.6905</span>,      <span style=\"color: #008080; text-decoration-color: #008080; font-weight: bold\">5.7233</span>,      <span style=\"color: #008080; text-decoration-color: #008080; font-weight: bold\">5.9107</span>,      <span style=\"color: #008080; text-decoration-color: #008080; font-weight: bold\">5.6984</span>,      <span style=\"color: #008080; text-decoration-color: #008080; font-weight: bold\">5.9788</span>,      <span style=\"color: #008080; text-decoration-color: #008080; font-weight: bold\">6.2569</span>,      <span style=\"color: #008080; text-decoration-color: #008080; font-weight: bold\">5.9059</span>,      <span style=\"color: #008080; text-decoration-color: #008080; font-weight: bold\">5.8732</span>,      <span style=\"color: #008080; text-decoration-color: #008080; font-weight: bold\">6.2131</span>,      <span style=\"color: #008080; text-decoration-color: #008080; font-weight: bold\">6.3789</span>,      <span style=\"color: #008080; text-decoration-color: #008080; font-weight: bold\">5.5186</span>,\n",
       "            <span style=\"color: #008080; text-decoration-color: #008080; font-weight: bold\">5.9135</span>,      <span style=\"color: #008080; text-decoration-color: #008080; font-weight: bold\">5.8957</span>,      <span style=\"color: #008080; text-decoration-color: #008080; font-weight: bold\">6.4956</span>,      <span style=\"color: #008080; text-decoration-color: #008080; font-weight: bold\">6.5214</span>,      <span style=\"color: #008080; text-decoration-color: #008080; font-weight: bold\">5.9139</span>,      <span style=\"color: #008080; text-decoration-color: #008080; font-weight: bold\">5.6238</span>,      <span style=\"color: #008080; text-decoration-color: #008080; font-weight: bold\">5.7202</span>,      <span style=\"color: #008080; text-decoration-color: #008080; font-weight: bold\">5.3481</span>,      <span style=\"color: #008080; text-decoration-color: #008080; font-weight: bold\">5.7517</span>,      <span style=\"color: #008080; text-decoration-color: #008080; font-weight: bold\">5.7976</span>,      <span style=\"color: #008080; text-decoration-color: #008080; font-weight: bold\">5.7407</span>,      <span style=\"color: #008080; text-decoration-color: #008080; font-weight: bold\">5.3318</span>,      <span style=\"color: #008080; text-decoration-color: #008080; font-weight: bold\">5.7618</span>,      <span style=\"color: #008080; text-decoration-color: #008080; font-weight: bold\">5.5726</span>,      <span style=\"color: #008080; text-decoration-color: #008080; font-weight: bold\">5.4776</span>,      <span style=\"color: #008080; text-decoration-color: #008080; font-weight: bold\">5.5169</span>,      <span style=\"color: #008080; text-decoration-color: #008080; font-weight: bold\">5.3864</span>,      <span style=\"color: #008080; text-decoration-color: #008080; font-weight: bold\">5.4281</span>,      <span style=\"color: #008080; text-decoration-color: #008080; font-weight: bold\">5.1242</span>,      <span style=\"color: #008080; text-decoration-color: #008080; font-weight: bold\">4.9673</span>,      <span style=\"color: #008080; text-decoration-color: #008080; font-weight: bold\">4.8882</span>,      <span style=\"color: #008080; text-decoration-color: #008080; font-weight: bold\">5.4127</span>,      <span style=\"color: #008080; text-decoration-color: #008080; font-weight: bold\">5.7294</span>,      <span style=\"color: #008080; text-decoration-color: #008080; font-weight: bold\">5.6738</span>,\n",
       "            <span style=\"color: #008080; text-decoration-color: #008080; font-weight: bold\">5.4055</span>,       <span style=\"color: #008080; text-decoration-color: #008080; font-weight: bold\">5.369</span>,      <span style=\"color: #008080; text-decoration-color: #008080; font-weight: bold\">5.4034</span>,      <span style=\"color: #008080; text-decoration-color: #008080; font-weight: bold\">5.2892</span>,      <span style=\"color: #008080; text-decoration-color: #008080; font-weight: bold\">5.2903</span>,       <span style=\"color: #008080; text-decoration-color: #008080; font-weight: bold\">5.685</span>,      <span style=\"color: #008080; text-decoration-color: #008080; font-weight: bold\">5.2546</span>,      <span style=\"color: #008080; text-decoration-color: #008080; font-weight: bold\">5.5193</span>,      <span style=\"color: #008080; text-decoration-color: #008080; font-weight: bold\">5.8184</span>,      <span style=\"color: #008080; text-decoration-color: #008080; font-weight: bold\">5.7972</span>,      <span style=\"color: #008080; text-decoration-color: #008080; font-weight: bold\">5.4523</span>,      <span style=\"color: #008080; text-decoration-color: #008080; font-weight: bold\">5.4329</span>,      <span style=\"color: #008080; text-decoration-color: #008080; font-weight: bold\">5.6183</span>,       <span style=\"color: #008080; text-decoration-color: #008080; font-weight: bold\">5.373</span>,      <span style=\"color: #008080; text-decoration-color: #008080; font-weight: bold\">5.7325</span>,      <span style=\"color: #008080; text-decoration-color: #008080; font-weight: bold\">5.8098</span>,      <span style=\"color: #008080; text-decoration-color: #008080; font-weight: bold\">5.6431</span>,      <span style=\"color: #008080; text-decoration-color: #008080; font-weight: bold\">5.9654</span>,      <span style=\"color: #008080; text-decoration-color: #008080; font-weight: bold\">6.3878</span>,      <span style=\"color: #008080; text-decoration-color: #008080; font-weight: bold\">5.9426</span>,      <span style=\"color: #008080; text-decoration-color: #008080; font-weight: bold\">6.1297</span>,      <span style=\"color: #008080; text-decoration-color: #008080; font-weight: bold\">5.9832</span>,      <span style=\"color: #008080; text-decoration-color: #008080; font-weight: bold\">5.9361</span>,      <span style=\"color: #008080; text-decoration-color: #008080; font-weight: bold\">5.6171</span>,\n",
       "            <span style=\"color: #008080; text-decoration-color: #008080; font-weight: bold\">6.4246</span>,      <span style=\"color: #008080; text-decoration-color: #008080; font-weight: bold\">6.1412</span>,      <span style=\"color: #008080; text-decoration-color: #008080; font-weight: bold\">5.8513</span>,      <span style=\"color: #008080; text-decoration-color: #008080; font-weight: bold\">5.9508</span>,      <span style=\"color: #008080; text-decoration-color: #008080; font-weight: bold\">5.9234</span>,      <span style=\"color: #008080; text-decoration-color: #008080; font-weight: bold\">5.9017</span>,      <span style=\"color: #008080; text-decoration-color: #008080; font-weight: bold\">6.2011</span>,       <span style=\"color: #008080; text-decoration-color: #008080; font-weight: bold\">6.184</span>,       <span style=\"color: #008080; text-decoration-color: #008080; font-weight: bold\">5.684</span>,      <span style=\"color: #008080; text-decoration-color: #008080; font-weight: bold\">6.0194</span>,      <span style=\"color: #008080; text-decoration-color: #008080; font-weight: bold\">6.0469</span>,      <span style=\"color: #008080; text-decoration-color: #008080; font-weight: bold\">5.5601</span>,      <span style=\"color: #008080; text-decoration-color: #008080; font-weight: bold\">6.1541</span>,      <span style=\"color: #008080; text-decoration-color: #008080; font-weight: bold\">5.9663</span>,      <span style=\"color: #008080; text-decoration-color: #008080; font-weight: bold\">6.1995</span>,      <span style=\"color: #008080; text-decoration-color: #008080; font-weight: bold\">6.1947</span>,      <span style=\"color: #008080; text-decoration-color: #008080; font-weight: bold\">5.8931</span>,      <span style=\"color: #008080; text-decoration-color: #008080; font-weight: bold\">5.8914</span>,      <span style=\"color: #008080; text-decoration-color: #008080; font-weight: bold\">5.7027</span>,      <span style=\"color: #008080; text-decoration-color: #008080; font-weight: bold\">5.5856</span>,      <span style=\"color: #008080; text-decoration-color: #008080; font-weight: bold\">5.6362</span>,      <span style=\"color: #008080; text-decoration-color: #008080; font-weight: bold\">5.5201</span>,      <span style=\"color: #008080; text-decoration-color: #008080; font-weight: bold\">5.6932</span>,      <span style=\"color: #008080; text-decoration-color: #008080; font-weight: bold\">6.2422</span>,\n",
       "             <span style=\"color: #008080; text-decoration-color: #008080; font-weight: bold\">6.315</span>,      <span style=\"color: #008080; text-decoration-color: #008080; font-weight: bold\">6.2847</span>,      <span style=\"color: #008080; text-decoration-color: #008080; font-weight: bold\">6.3165</span>,      <span style=\"color: #008080; text-decoration-color: #008080; font-weight: bold\">6.3568</span>,      <span style=\"color: #008080; text-decoration-color: #008080; font-weight: bold\">6.0438</span>,      <span style=\"color: #008080; text-decoration-color: #008080; font-weight: bold\">5.7395</span>,      <span style=\"color: #008080; text-decoration-color: #008080; font-weight: bold\">6.1133</span>,      <span style=\"color: #008080; text-decoration-color: #008080; font-weight: bold\">6.0202</span>,      <span style=\"color: #008080; text-decoration-color: #008080; font-weight: bold\">5.8706</span>,      <span style=\"color: #008080; text-decoration-color: #008080; font-weight: bold\">6.4054</span>,      <span style=\"color: #008080; text-decoration-color: #008080; font-weight: bold\">6.1929</span>,      <span style=\"color: #008080; text-decoration-color: #008080; font-weight: bold\">6.0743</span>,      <span style=\"color: #008080; text-decoration-color: #008080; font-weight: bold\">6.3588</span>,      <span style=\"color: #008080; text-decoration-color: #008080; font-weight: bold\">6.3253</span>,      <span style=\"color: #008080; text-decoration-color: #008080; font-weight: bold\">6.2342</span>,      <span style=\"color: #008080; text-decoration-color: #008080; font-weight: bold\">6.0552</span>,      <span style=\"color: #008080; text-decoration-color: #008080; font-weight: bold\">6.1037</span>,      <span style=\"color: #008080; text-decoration-color: #008080; font-weight: bold\">6.1536</span>,      <span style=\"color: #008080; text-decoration-color: #008080; font-weight: bold\">6.6118</span>,      <span style=\"color: #008080; text-decoration-color: #008080; font-weight: bold\">6.6619</span>,      <span style=\"color: #008080; text-decoration-color: #008080; font-weight: bold\">6.6647</span>,        <span style=\"color: #008080; text-decoration-color: #008080; font-weight: bold\">6.72</span>,      <span style=\"color: #008080; text-decoration-color: #008080; font-weight: bold\">6.4739</span>,        <span style=\"color: #008080; text-decoration-color: #008080; font-weight: bold\">6.65</span>,\n",
       "            <span style=\"color: #008080; text-decoration-color: #008080; font-weight: bold\">6.2713</span>,       <span style=\"color: #008080; text-decoration-color: #008080; font-weight: bold\">6.613</span>,      <span style=\"color: #008080; text-decoration-color: #008080; font-weight: bold\">6.3869</span>,       <span style=\"color: #008080; text-decoration-color: #008080; font-weight: bold\">6.509</span>,      <span style=\"color: #008080; text-decoration-color: #008080; font-weight: bold\">6.4279</span>,      <span style=\"color: #008080; text-decoration-color: #008080; font-weight: bold\">6.5906</span>,      <span style=\"color: #008080; text-decoration-color: #008080; font-weight: bold\">6.6307</span>,      <span style=\"color: #008080; text-decoration-color: #008080; font-weight: bold\">6.5033</span>,       <span style=\"color: #008080; text-decoration-color: #008080; font-weight: bold\">6.438</span>,      <span style=\"color: #008080; text-decoration-color: #008080; font-weight: bold\">6.2265</span>,      <span style=\"color: #008080; text-decoration-color: #008080; font-weight: bold\">6.2651</span>,       <span style=\"color: #008080; text-decoration-color: #008080; font-weight: bold\">6.529</span>,      <span style=\"color: #008080; text-decoration-color: #008080; font-weight: bold\">6.6639</span>,      <span style=\"color: #008080; text-decoration-color: #008080; font-weight: bold\">6.7529</span>,      <span style=\"color: #008080; text-decoration-color: #008080; font-weight: bold\">7.2065</span>,      <span style=\"color: #008080; text-decoration-color: #008080; font-weight: bold\">7.1421</span>,      <span style=\"color: #008080; text-decoration-color: #008080; font-weight: bold\">7.2392</span>,      <span style=\"color: #008080; text-decoration-color: #008080; font-weight: bold\">7.1734</span>,       <span style=\"color: #008080; text-decoration-color: #008080; font-weight: bold\">6.819</span>,      <span style=\"color: #008080; text-decoration-color: #008080; font-weight: bold\">6.7234</span>,      <span style=\"color: #008080; text-decoration-color: #008080; font-weight: bold\">6.5267</span>,      <span style=\"color: #008080; text-decoration-color: #008080; font-weight: bold\">6.7304</span>,      <span style=\"color: #008080; text-decoration-color: #008080; font-weight: bold\">6.4075</span>,      <span style=\"color: #008080; text-decoration-color: #008080; font-weight: bold\">6.6398</span>,\n",
       "            <span style=\"color: #008080; text-decoration-color: #008080; font-weight: bold\">6.9388</span>,      <span style=\"color: #008080; text-decoration-color: #008080; font-weight: bold\">6.7748</span>,      <span style=\"color: #008080; text-decoration-color: #008080; font-weight: bold\">7.1448</span>,      <span style=\"color: #008080; text-decoration-color: #008080; font-weight: bold\">7.2942</span>,      <span style=\"color: #008080; text-decoration-color: #008080; font-weight: bold\">7.1756</span>,       <span style=\"color: #008080; text-decoration-color: #008080; font-weight: bold\">7.052</span>,      <span style=\"color: #008080; text-decoration-color: #008080; font-weight: bold\">7.1742</span>,       <span style=\"color: #008080; text-decoration-color: #008080; font-weight: bold\">6.911</span>,      <span style=\"color: #008080; text-decoration-color: #008080; font-weight: bold\">6.8921</span>,      <span style=\"color: #008080; text-decoration-color: #008080; font-weight: bold\">7.3625</span>,      <span style=\"color: #008080; text-decoration-color: #008080; font-weight: bold\">7.4697</span>,      <span style=\"color: #008080; text-decoration-color: #008080; font-weight: bold\">7.7507</span>,      <span style=\"color: #008080; text-decoration-color: #008080; font-weight: bold\">7.3554</span>,      <span style=\"color: #008080; text-decoration-color: #008080; font-weight: bold\">7.3544</span>,       <span style=\"color: #008080; text-decoration-color: #008080; font-weight: bold\">6.936</span>,      <span style=\"color: #008080; text-decoration-color: #008080; font-weight: bold\">6.5157</span>,      <span style=\"color: #008080; text-decoration-color: #008080; font-weight: bold\">6.0727</span>,      <span style=\"color: #008080; text-decoration-color: #008080; font-weight: bold\">6.3486</span>,      <span style=\"color: #008080; text-decoration-color: #008080; font-weight: bold\">6.3386</span>,      <span style=\"color: #008080; text-decoration-color: #008080; font-weight: bold\">7.0399</span>,      <span style=\"color: #008080; text-decoration-color: #008080; font-weight: bold\">7.4991</span>,      <span style=\"color: #008080; text-decoration-color: #008080; font-weight: bold\">7.0502</span>,      <span style=\"color: #008080; text-decoration-color: #008080; font-weight: bold\">6.6279</span>,      <span style=\"color: #008080; text-decoration-color: #008080; font-weight: bold\">6.3622</span>,\n",
       "            <span style=\"color: #008080; text-decoration-color: #008080; font-weight: bold\">5.5594</span>,       <span style=\"color: #008080; text-decoration-color: #008080; font-weight: bold\">5.672</span>,      <span style=\"color: #008080; text-decoration-color: #008080; font-weight: bold\">5.9024</span>,      <span style=\"color: #008080; text-decoration-color: #008080; font-weight: bold\">6.1993</span>,      <span style=\"color: #008080; text-decoration-color: #008080; font-weight: bold\">6.1318</span>,      <span style=\"color: #008080; text-decoration-color: #008080; font-weight: bold\">6.5091</span>,      <span style=\"color: #008080; text-decoration-color: #008080; font-weight: bold\">6.5951</span>,      <span style=\"color: #008080; text-decoration-color: #008080; font-weight: bold\">6.7338</span>,      <span style=\"color: #008080; text-decoration-color: #008080; font-weight: bold\">5.9634</span>,      <span style=\"color: #008080; text-decoration-color: #008080; font-weight: bold\">5.1864</span>,      <span style=\"color: #008080; text-decoration-color: #008080; font-weight: bold\">5.2366</span>,      <span style=\"color: #008080; text-decoration-color: #008080; font-weight: bold\">5.4133</span>,      <span style=\"color: #008080; text-decoration-color: #008080; font-weight: bold\">5.0492</span>,      <span style=\"color: #008080; text-decoration-color: #008080; font-weight: bold\">5.2633</span>,      <span style=\"color: #008080; text-decoration-color: #008080; font-weight: bold\">5.6593</span>,      <span style=\"color: #008080; text-decoration-color: #008080; font-weight: bold\">5.9756</span>,      <span style=\"color: #008080; text-decoration-color: #008080; font-weight: bold\">5.9142</span>,      <span style=\"color: #008080; text-decoration-color: #008080; font-weight: bold\">5.3176</span>,       <span style=\"color: #008080; text-decoration-color: #008080; font-weight: bold\">5.083</span>,      <span style=\"color: #008080; text-decoration-color: #008080; font-weight: bold\">5.3422</span>,       <span style=\"color: #008080; text-decoration-color: #008080; font-weight: bold\">5.306</span>,      <span style=\"color: #008080; text-decoration-color: #008080; font-weight: bold\">5.0657</span>,      <span style=\"color: #008080; text-decoration-color: #008080; font-weight: bold\">5.3592</span>,      <span style=\"color: #008080; text-decoration-color: #008080; font-weight: bold\">5.2051</span>,\n",
       "            <span style=\"color: #008080; text-decoration-color: #008080; font-weight: bold\">5.8645</span>,      <span style=\"color: #008080; text-decoration-color: #008080; font-weight: bold\">6.2789</span>,      <span style=\"color: #008080; text-decoration-color: #008080; font-weight: bold\">5.9625</span>,      <span style=\"color: #008080; text-decoration-color: #008080; font-weight: bold\">5.5747</span>,      <span style=\"color: #008080; text-decoration-color: #008080; font-weight: bold\">5.4456</span>,      <span style=\"color: #008080; text-decoration-color: #008080; font-weight: bold\">5.1084</span>,      <span style=\"color: #008080; text-decoration-color: #008080; font-weight: bold\">4.7279</span>,      <span style=\"color: #008080; text-decoration-color: #008080; font-weight: bold\">4.9205</span>,      <span style=\"color: #008080; text-decoration-color: #008080; font-weight: bold\">4.6915</span>,      <span style=\"color: #008080; text-decoration-color: #008080; font-weight: bold\">4.2744</span>,      <span style=\"color: #008080; text-decoration-color: #008080; font-weight: bold\">4.8426</span>,      <span style=\"color: #008080; text-decoration-color: #008080; font-weight: bold\">5.0962</span>,      <span style=\"color: #008080; text-decoration-color: #008080; font-weight: bold\">5.2512</span>,      <span style=\"color: #008080; text-decoration-color: #008080; font-weight: bold\">4.4476</span>,      <span style=\"color: #008080; text-decoration-color: #008080; font-weight: bold\">4.6556</span>,      <span style=\"color: #008080; text-decoration-color: #008080; font-weight: bold\">4.2321</span>,      <span style=\"color: #008080; text-decoration-color: #008080; font-weight: bold\">4.6587</span>,      <span style=\"color: #008080; text-decoration-color: #008080; font-weight: bold\">4.5228</span>,      <span style=\"color: #008080; text-decoration-color: #008080; font-weight: bold\">4.0928</span>,        <span style=\"color: #008080; text-decoration-color: #008080; font-weight: bold\">4.41</span>,       <span style=\"color: #008080; text-decoration-color: #008080; font-weight: bold\">4.247</span>,      <span style=\"color: #008080; text-decoration-color: #008080; font-weight: bold\">4.8476</span>,      <span style=\"color: #008080; text-decoration-color: #008080; font-weight: bold\">4.0678</span>,       <span style=\"color: #008080; text-decoration-color: #008080; font-weight: bold\">3.823</span>,\n",
       "            <span style=\"color: #008080; text-decoration-color: #008080; font-weight: bold\">3.2594</span>,      <span style=\"color: #008080; text-decoration-color: #008080; font-weight: bold\">3.1101</span>,      <span style=\"color: #008080; text-decoration-color: #008080; font-weight: bold\">2.9669</span>,      <span style=\"color: #008080; text-decoration-color: #008080; font-weight: bold\">2.3989</span>,      <span style=\"color: #008080; text-decoration-color: #008080; font-weight: bold\">2.5081</span>,      <span style=\"color: #008080; text-decoration-color: #008080; font-weight: bold\">1.8713</span>,      <span style=\"color: #008080; text-decoration-color: #008080; font-weight: bold\">2.7954</span>,      <span style=\"color: #008080; text-decoration-color: #008080; font-weight: bold\">2.2496</span>,      <span style=\"color: #008080; text-decoration-color: #008080; font-weight: bold\">2.8987</span>,      <span style=\"color: #008080; text-decoration-color: #008080; font-weight: bold\">2.6922</span>,      <span style=\"color: #008080; text-decoration-color: #008080; font-weight: bold\">2.7921</span>,      <span style=\"color: #008080; text-decoration-color: #008080; font-weight: bold\">2.4721</span>,      <span style=\"color: #008080; text-decoration-color: #008080; font-weight: bold\">2.3201</span>,      <span style=\"color: #008080; text-decoration-color: #008080; font-weight: bold\">2.0924</span>,      <span style=\"color: #008080; text-decoration-color: #008080; font-weight: bold\">1.3021</span>,      <span style=\"color: #008080; text-decoration-color: #008080; font-weight: bold\">1.4877</span>,      <span style=\"color: #008080; text-decoration-color: #008080; font-weight: bold\">1.0282</span>,      <span style=\"color: #008080; text-decoration-color: #008080; font-weight: bold\">1.7926</span>,      <span style=\"color: #008080; text-decoration-color: #008080; font-weight: bold\">2.0394</span>,      <span style=\"color: #008080; text-decoration-color: #008080; font-weight: bold\">2.1037</span>,      <span style=\"color: #008080; text-decoration-color: #008080; font-weight: bold\">1.4147</span>,      <span style=\"color: #008080; text-decoration-color: #008080; font-weight: bold\">1.5286</span>,      <span style=\"color: #008080; text-decoration-color: #008080; font-weight: bold\">1.0797</span>,      <span style=\"color: #008080; text-decoration-color: #008080; font-weight: bold\">1.3387</span>,\n",
       "            <span style=\"color: #008080; text-decoration-color: #008080; font-weight: bold\">1.0858</span>,      <span style=\"color: #008080; text-decoration-color: #008080; font-weight: bold\">1.0286</span>,      <span style=\"color: #008080; text-decoration-color: #008080; font-weight: bold\">1.2453</span>,       <span style=\"color: #008080; text-decoration-color: #008080; font-weight: bold\">1.765</span>,      <span style=\"color: #008080; text-decoration-color: #008080; font-weight: bold\">1.6814</span>,     <span style=\"color: #008080; text-decoration-color: #008080; font-weight: bold\">0.92873</span>,     <span style=\"color: #008080; text-decoration-color: #008080; font-weight: bold\">0.40643</span>,    <span style=\"color: #008080; text-decoration-color: #008080; font-weight: bold\">-0.35772</span>,    <span style=\"color: #008080; text-decoration-color: #008080; font-weight: bold\">-0.11645</span>,       <span style=\"color: #008080; text-decoration-color: #008080; font-weight: bold\">1.153</span>,      <span style=\"color: #008080; text-decoration-color: #008080; font-weight: bold\">1.0115</span>,     <span style=\"color: #008080; text-decoration-color: #008080; font-weight: bold\">0.96511</span>,     <span style=\"color: #008080; text-decoration-color: #008080; font-weight: bold\">0.99547</span>,      <span style=\"color: #008080; text-decoration-color: #008080; font-weight: bold\">1.4168</span>,       <span style=\"color: #008080; text-decoration-color: #008080; font-weight: bold\">1.018</span>,      <span style=\"color: #008080; text-decoration-color: #008080; font-weight: bold\">1.5561</span>,      <span style=\"color: #008080; text-decoration-color: #008080; font-weight: bold\">1.2102</span>,       <span style=\"color: #008080; text-decoration-color: #008080; font-weight: bold\">0.447</span>,      <span style=\"color: #008080; text-decoration-color: #008080; font-weight: bold\">1.1455</span>,      <span style=\"color: #008080; text-decoration-color: #008080; font-weight: bold\">1.3273</span>,      <span style=\"color: #008080; text-decoration-color: #008080; font-weight: bold\">1.4815</span><span style=\"font-weight: bold\">]</span>, <span style=\"color: #808000; text-decoration-color: #808000\">dtype</span>=<span style=\"color: #800080; text-decoration-color: #800080\">float32</span><span style=\"font-weight: bold\">)</span>\n",
       "</pre>\n"
      ],
      "text/plain": [
       "\n",
       "\u001B[1;35marray\u001B[0m\u001B[1m(\u001B[0m\u001B[1m[\u001B[0m    \u001B[1;36m0.49759\u001B[0m,      \u001B[1;36m1.0678\u001B[0m,      \u001B[1;36m1.2484\u001B[0m,      \u001B[1;36m1.0432\u001B[0m,     \u001B[1;36m0.78541\u001B[0m,     \u001B[1;36m0.53449\u001B[0m,      \u001B[1;36m1.3449\u001B[0m,      \u001B[1;36m1.1995\u001B[0m,      \u001B[1;36m1.2364\u001B[0m,      \u001B[1;36m1.2267\u001B[0m,      \u001B[1;36m1.4107\u001B[0m,       \u001B[1;36m1.481\u001B[0m,      \u001B[1;36m1.9401\u001B[0m,      \u001B[1;36m1.8896\u001B[0m,      \u001B[1;36m1.6845\u001B[0m,      \u001B[1;36m1.7975\u001B[0m,      \u001B[1;36m1.6495\u001B[0m,      \u001B[1;36m1.2223\u001B[0m,      \u001B[1;36m1.2426\u001B[0m,      \u001B[1;36m1.0381\u001B[0m,     \u001B[1;36m0.87396\u001B[0m,      \u001B[1;36m1.2143\u001B[0m,      \u001B[1;36m1.4723\u001B[0m,      \u001B[1;36m1.0823\u001B[0m,\n",
       "            \u001B[1;36m1.7961\u001B[0m,      \u001B[1;36m2.2523\u001B[0m,       \u001B[1;36m2.304\u001B[0m,      \u001B[1;36m2.6779\u001B[0m,       \u001B[1;36m2.867\u001B[0m,      \u001B[1;36m2.8852\u001B[0m,      \u001B[1;36m3.1542\u001B[0m,      \u001B[1;36m3.1213\u001B[0m,      \u001B[1;36m2.9332\u001B[0m,      \u001B[1;36m3.0002\u001B[0m,      \u001B[1;36m3.0859\u001B[0m,      \u001B[1;36m3.3025\u001B[0m,      \u001B[1;36m4.0604\u001B[0m,      \u001B[1;36m3.6692\u001B[0m,      \u001B[1;36m3.6551\u001B[0m,      \u001B[1;36m4.0142\u001B[0m,      \u001B[1;36m3.9652\u001B[0m,      \u001B[1;36m4.0276\u001B[0m,      \u001B[1;36m3.8822\u001B[0m,      \u001B[1;36m4.1185\u001B[0m,      \u001B[1;36m4.1709\u001B[0m,      \u001B[1;36m4.5433\u001B[0m,      \u001B[1;36m4.2756\u001B[0m,      \u001B[1;36m4.3596\u001B[0m,\n",
       "            \u001B[1;36m4.3811\u001B[0m,      \u001B[1;36m4.5571\u001B[0m,      \u001B[1;36m4.3595\u001B[0m,      \u001B[1;36m4.2403\u001B[0m,      \u001B[1;36m4.4815\u001B[0m,      \u001B[1;36m4.7614\u001B[0m,      \u001B[1;36m4.8183\u001B[0m,      \u001B[1;36m4.8666\u001B[0m,      \u001B[1;36m4.8949\u001B[0m,      \u001B[1;36m5.0354\u001B[0m,      \u001B[1;36m4.6892\u001B[0m,      \u001B[1;36m4.9237\u001B[0m,       \u001B[1;36m4.684\u001B[0m,      \u001B[1;36m4.8853\u001B[0m,      \u001B[1;36m4.7242\u001B[0m,      \u001B[1;36m5.0466\u001B[0m,      \u001B[1;36m4.9225\u001B[0m,      \u001B[1;36m5.1637\u001B[0m,      \u001B[1;36m5.0373\u001B[0m,      \u001B[1;36m4.9809\u001B[0m,      \u001B[1;36m4.9261\u001B[0m,      \u001B[1;36m4.8481\u001B[0m,      \u001B[1;36m4.8639\u001B[0m,      \u001B[1;36m4.9465\u001B[0m,\n",
       "            \u001B[1;36m4.9813\u001B[0m,       \u001B[1;36m5.264\u001B[0m,      \u001B[1;36m5.1266\u001B[0m,      \u001B[1;36m5.4901\u001B[0m,      \u001B[1;36m5.4814\u001B[0m,      \u001B[1;36m5.3073\u001B[0m,      \u001B[1;36m5.1699\u001B[0m,      \u001B[1;36m5.4768\u001B[0m,      \u001B[1;36m5.7182\u001B[0m,      \u001B[1;36m5.5085\u001B[0m,      \u001B[1;36m5.4737\u001B[0m,      \u001B[1;36m6.1986\u001B[0m,      \u001B[1;36m5.8078\u001B[0m,      \u001B[1;36m5.6905\u001B[0m,      \u001B[1;36m5.7233\u001B[0m,      \u001B[1;36m5.9107\u001B[0m,      \u001B[1;36m5.6984\u001B[0m,      \u001B[1;36m5.9788\u001B[0m,      \u001B[1;36m6.2569\u001B[0m,      \u001B[1;36m5.9059\u001B[0m,      \u001B[1;36m5.8732\u001B[0m,      \u001B[1;36m6.2131\u001B[0m,      \u001B[1;36m6.3789\u001B[0m,      \u001B[1;36m5.5186\u001B[0m,\n",
       "            \u001B[1;36m5.9135\u001B[0m,      \u001B[1;36m5.8957\u001B[0m,      \u001B[1;36m6.4956\u001B[0m,      \u001B[1;36m6.5214\u001B[0m,      \u001B[1;36m5.9139\u001B[0m,      \u001B[1;36m5.6238\u001B[0m,      \u001B[1;36m5.7202\u001B[0m,      \u001B[1;36m5.3481\u001B[0m,      \u001B[1;36m5.7517\u001B[0m,      \u001B[1;36m5.7976\u001B[0m,      \u001B[1;36m5.7407\u001B[0m,      \u001B[1;36m5.3318\u001B[0m,      \u001B[1;36m5.7618\u001B[0m,      \u001B[1;36m5.5726\u001B[0m,      \u001B[1;36m5.4776\u001B[0m,      \u001B[1;36m5.5169\u001B[0m,      \u001B[1;36m5.3864\u001B[0m,      \u001B[1;36m5.4281\u001B[0m,      \u001B[1;36m5.1242\u001B[0m,      \u001B[1;36m4.9673\u001B[0m,      \u001B[1;36m4.8882\u001B[0m,      \u001B[1;36m5.4127\u001B[0m,      \u001B[1;36m5.7294\u001B[0m,      \u001B[1;36m5.6738\u001B[0m,\n",
       "            \u001B[1;36m5.4055\u001B[0m,       \u001B[1;36m5.369\u001B[0m,      \u001B[1;36m5.4034\u001B[0m,      \u001B[1;36m5.2892\u001B[0m,      \u001B[1;36m5.2903\u001B[0m,       \u001B[1;36m5.685\u001B[0m,      \u001B[1;36m5.2546\u001B[0m,      \u001B[1;36m5.5193\u001B[0m,      \u001B[1;36m5.8184\u001B[0m,      \u001B[1;36m5.7972\u001B[0m,      \u001B[1;36m5.4523\u001B[0m,      \u001B[1;36m5.4329\u001B[0m,      \u001B[1;36m5.6183\u001B[0m,       \u001B[1;36m5.373\u001B[0m,      \u001B[1;36m5.7325\u001B[0m,      \u001B[1;36m5.8098\u001B[0m,      \u001B[1;36m5.6431\u001B[0m,      \u001B[1;36m5.9654\u001B[0m,      \u001B[1;36m6.3878\u001B[0m,      \u001B[1;36m5.9426\u001B[0m,      \u001B[1;36m6.1297\u001B[0m,      \u001B[1;36m5.9832\u001B[0m,      \u001B[1;36m5.9361\u001B[0m,      \u001B[1;36m5.6171\u001B[0m,\n",
       "            \u001B[1;36m6.4246\u001B[0m,      \u001B[1;36m6.1412\u001B[0m,      \u001B[1;36m5.8513\u001B[0m,      \u001B[1;36m5.9508\u001B[0m,      \u001B[1;36m5.9234\u001B[0m,      \u001B[1;36m5.9017\u001B[0m,      \u001B[1;36m6.2011\u001B[0m,       \u001B[1;36m6.184\u001B[0m,       \u001B[1;36m5.684\u001B[0m,      \u001B[1;36m6.0194\u001B[0m,      \u001B[1;36m6.0469\u001B[0m,      \u001B[1;36m5.5601\u001B[0m,      \u001B[1;36m6.1541\u001B[0m,      \u001B[1;36m5.9663\u001B[0m,      \u001B[1;36m6.1995\u001B[0m,      \u001B[1;36m6.1947\u001B[0m,      \u001B[1;36m5.8931\u001B[0m,      \u001B[1;36m5.8914\u001B[0m,      \u001B[1;36m5.7027\u001B[0m,      \u001B[1;36m5.5856\u001B[0m,      \u001B[1;36m5.6362\u001B[0m,      \u001B[1;36m5.5201\u001B[0m,      \u001B[1;36m5.6932\u001B[0m,      \u001B[1;36m6.2422\u001B[0m,\n",
       "             \u001B[1;36m6.315\u001B[0m,      \u001B[1;36m6.2847\u001B[0m,      \u001B[1;36m6.3165\u001B[0m,      \u001B[1;36m6.3568\u001B[0m,      \u001B[1;36m6.0438\u001B[0m,      \u001B[1;36m5.7395\u001B[0m,      \u001B[1;36m6.1133\u001B[0m,      \u001B[1;36m6.0202\u001B[0m,      \u001B[1;36m5.8706\u001B[0m,      \u001B[1;36m6.4054\u001B[0m,      \u001B[1;36m6.1929\u001B[0m,      \u001B[1;36m6.0743\u001B[0m,      \u001B[1;36m6.3588\u001B[0m,      \u001B[1;36m6.3253\u001B[0m,      \u001B[1;36m6.2342\u001B[0m,      \u001B[1;36m6.0552\u001B[0m,      \u001B[1;36m6.1037\u001B[0m,      \u001B[1;36m6.1536\u001B[0m,      \u001B[1;36m6.6118\u001B[0m,      \u001B[1;36m6.6619\u001B[0m,      \u001B[1;36m6.6647\u001B[0m,        \u001B[1;36m6.72\u001B[0m,      \u001B[1;36m6.4739\u001B[0m,        \u001B[1;36m6.65\u001B[0m,\n",
       "            \u001B[1;36m6.2713\u001B[0m,       \u001B[1;36m6.613\u001B[0m,      \u001B[1;36m6.3869\u001B[0m,       \u001B[1;36m6.509\u001B[0m,      \u001B[1;36m6.4279\u001B[0m,      \u001B[1;36m6.5906\u001B[0m,      \u001B[1;36m6.6307\u001B[0m,      \u001B[1;36m6.5033\u001B[0m,       \u001B[1;36m6.438\u001B[0m,      \u001B[1;36m6.2265\u001B[0m,      \u001B[1;36m6.2651\u001B[0m,       \u001B[1;36m6.529\u001B[0m,      \u001B[1;36m6.6639\u001B[0m,      \u001B[1;36m6.7529\u001B[0m,      \u001B[1;36m7.2065\u001B[0m,      \u001B[1;36m7.1421\u001B[0m,      \u001B[1;36m7.2392\u001B[0m,      \u001B[1;36m7.1734\u001B[0m,       \u001B[1;36m6.819\u001B[0m,      \u001B[1;36m6.7234\u001B[0m,      \u001B[1;36m6.5267\u001B[0m,      \u001B[1;36m6.7304\u001B[0m,      \u001B[1;36m6.4075\u001B[0m,      \u001B[1;36m6.6398\u001B[0m,\n",
       "            \u001B[1;36m6.9388\u001B[0m,      \u001B[1;36m6.7748\u001B[0m,      \u001B[1;36m7.1448\u001B[0m,      \u001B[1;36m7.2942\u001B[0m,      \u001B[1;36m7.1756\u001B[0m,       \u001B[1;36m7.052\u001B[0m,      \u001B[1;36m7.1742\u001B[0m,       \u001B[1;36m6.911\u001B[0m,      \u001B[1;36m6.8921\u001B[0m,      \u001B[1;36m7.3625\u001B[0m,      \u001B[1;36m7.4697\u001B[0m,      \u001B[1;36m7.7507\u001B[0m,      \u001B[1;36m7.3554\u001B[0m,      \u001B[1;36m7.3544\u001B[0m,       \u001B[1;36m6.936\u001B[0m,      \u001B[1;36m6.5157\u001B[0m,      \u001B[1;36m6.0727\u001B[0m,      \u001B[1;36m6.3486\u001B[0m,      \u001B[1;36m6.3386\u001B[0m,      \u001B[1;36m7.0399\u001B[0m,      \u001B[1;36m7.4991\u001B[0m,      \u001B[1;36m7.0502\u001B[0m,      \u001B[1;36m6.6279\u001B[0m,      \u001B[1;36m6.3622\u001B[0m,\n",
       "            \u001B[1;36m5.5594\u001B[0m,       \u001B[1;36m5.672\u001B[0m,      \u001B[1;36m5.9024\u001B[0m,      \u001B[1;36m6.1993\u001B[0m,      \u001B[1;36m6.1318\u001B[0m,      \u001B[1;36m6.5091\u001B[0m,      \u001B[1;36m6.5951\u001B[0m,      \u001B[1;36m6.7338\u001B[0m,      \u001B[1;36m5.9634\u001B[0m,      \u001B[1;36m5.1864\u001B[0m,      \u001B[1;36m5.2366\u001B[0m,      \u001B[1;36m5.4133\u001B[0m,      \u001B[1;36m5.0492\u001B[0m,      \u001B[1;36m5.2633\u001B[0m,      \u001B[1;36m5.6593\u001B[0m,      \u001B[1;36m5.9756\u001B[0m,      \u001B[1;36m5.9142\u001B[0m,      \u001B[1;36m5.3176\u001B[0m,       \u001B[1;36m5.083\u001B[0m,      \u001B[1;36m5.3422\u001B[0m,       \u001B[1;36m5.306\u001B[0m,      \u001B[1;36m5.0657\u001B[0m,      \u001B[1;36m5.3592\u001B[0m,      \u001B[1;36m5.2051\u001B[0m,\n",
       "            \u001B[1;36m5.8645\u001B[0m,      \u001B[1;36m6.2789\u001B[0m,      \u001B[1;36m5.9625\u001B[0m,      \u001B[1;36m5.5747\u001B[0m,      \u001B[1;36m5.4456\u001B[0m,      \u001B[1;36m5.1084\u001B[0m,      \u001B[1;36m4.7279\u001B[0m,      \u001B[1;36m4.9205\u001B[0m,      \u001B[1;36m4.6915\u001B[0m,      \u001B[1;36m4.2744\u001B[0m,      \u001B[1;36m4.8426\u001B[0m,      \u001B[1;36m5.0962\u001B[0m,      \u001B[1;36m5.2512\u001B[0m,      \u001B[1;36m4.4476\u001B[0m,      \u001B[1;36m4.6556\u001B[0m,      \u001B[1;36m4.2321\u001B[0m,      \u001B[1;36m4.6587\u001B[0m,      \u001B[1;36m4.5228\u001B[0m,      \u001B[1;36m4.0928\u001B[0m,        \u001B[1;36m4.41\u001B[0m,       \u001B[1;36m4.247\u001B[0m,      \u001B[1;36m4.8476\u001B[0m,      \u001B[1;36m4.0678\u001B[0m,       \u001B[1;36m3.823\u001B[0m,\n",
       "            \u001B[1;36m3.2594\u001B[0m,      \u001B[1;36m3.1101\u001B[0m,      \u001B[1;36m2.9669\u001B[0m,      \u001B[1;36m2.3989\u001B[0m,      \u001B[1;36m2.5081\u001B[0m,      \u001B[1;36m1.8713\u001B[0m,      \u001B[1;36m2.7954\u001B[0m,      \u001B[1;36m2.2496\u001B[0m,      \u001B[1;36m2.8987\u001B[0m,      \u001B[1;36m2.6922\u001B[0m,      \u001B[1;36m2.7921\u001B[0m,      \u001B[1;36m2.4721\u001B[0m,      \u001B[1;36m2.3201\u001B[0m,      \u001B[1;36m2.0924\u001B[0m,      \u001B[1;36m1.3021\u001B[0m,      \u001B[1;36m1.4877\u001B[0m,      \u001B[1;36m1.0282\u001B[0m,      \u001B[1;36m1.7926\u001B[0m,      \u001B[1;36m2.0394\u001B[0m,      \u001B[1;36m2.1037\u001B[0m,      \u001B[1;36m1.4147\u001B[0m,      \u001B[1;36m1.5286\u001B[0m,      \u001B[1;36m1.0797\u001B[0m,      \u001B[1;36m1.3387\u001B[0m,\n",
       "            \u001B[1;36m1.0858\u001B[0m,      \u001B[1;36m1.0286\u001B[0m,      \u001B[1;36m1.2453\u001B[0m,       \u001B[1;36m1.765\u001B[0m,      \u001B[1;36m1.6814\u001B[0m,     \u001B[1;36m0.92873\u001B[0m,     \u001B[1;36m0.40643\u001B[0m,    \u001B[1;36m-0.35772\u001B[0m,    \u001B[1;36m-0.11645\u001B[0m,       \u001B[1;36m1.153\u001B[0m,      \u001B[1;36m1.0115\u001B[0m,     \u001B[1;36m0.96511\u001B[0m,     \u001B[1;36m0.99547\u001B[0m,      \u001B[1;36m1.4168\u001B[0m,       \u001B[1;36m1.018\u001B[0m,      \u001B[1;36m1.5561\u001B[0m,      \u001B[1;36m1.2102\u001B[0m,       \u001B[1;36m0.447\u001B[0m,      \u001B[1;36m1.1455\u001B[0m,      \u001B[1;36m1.3273\u001B[0m,      \u001B[1;36m1.4815\u001B[0m\u001B[1m]\u001B[0m, \u001B[33mdtype\u001B[0m=\u001B[35mfloat32\u001B[0m\u001B[1m)\u001B[0m\n"
      ]
     },
     "metadata": {},
     "output_type": "display_data"
    }
   ],
   "source": [
    "test_image_reps_arr = np.concatenate(test_image_reps, axis=0)\n",
    "test_preds = reg.predict(test_image_reps_arr)\n",
    "test_preds"
   ]
  },
  {
   "cell_type": "code",
   "execution_count": 12,
   "id": "e0ba65bb-ddf2-45f3-a121-b66e8fbe3224",
   "metadata": {
    "tags": []
   },
   "outputs": [
    {
     "data": {
      "text/html": [
       "<pre style=\"white-space:pre;overflow-x:auto;line-height:normal;font-family:Menlo,'DejaVu Sans Mono',consolas,'Courier New',monospace\"><span style=\"color: #008080; text-decoration-color: #008080; font-weight: bold\">1.080203086406261</span>\n",
       "</pre>\n"
      ],
      "text/plain": [
       "\u001B[1;36m1.080203086406261\u001B[0m\n"
      ]
     },
     "metadata": {},
     "output_type": "display_data"
    }
   ],
   "source": [
    "errors = test_preds - test_flower_counts\n",
    "np.mean(np.abs(errors))"
   ]
  },
  {
   "cell_type": "code",
   "execution_count": 13,
   "id": "2e929358-790f-4dd5-bb00-6e35baf2838b",
   "metadata": {
    "tags": []
   },
   "outputs": [
    {
     "name": "stdout",
     "output_type": "stream",
     "text": [
      "2023-03-02 09:18:17,045 - py.warnings - WARNING - /home/daniel/git/self-supervised-learning/.venv/lib/python3.8/site-packages/seaborn/rcmod.py:400: DeprecationWarning: distutils Version classes are deprecated. Use packaging.version instead.\n",
      "  if LooseVersion(mpl.__version__) >= \"3.0\":\n",
      "\n",
      "2023-03-02 09:18:17,045 - py.warnings - WARNING - /home/daniel/git/self-supervised-learning/.venv/lib/python3.8/site-packages/setuptools/_distutils/version.py:346: DeprecationWarning: distutils Version classes are deprecated. Use packaging.version instead.\n",
      "  other = LooseVersion(other)\n",
      "\n"
     ]
    },
    {
     "data": {
      "image/png": "[encoded data removed]"
     },
     "metadata": {},
     "output_type": "display_data"
    }
   ],
   "source": [
    "%matplotlib inline\n",
    "import seaborn as sns\n",
    "import matplotlib.pyplot as plt\n",
    "\n",
    "sns.set()\n",
    "\n",
    "sns.regplot(x=test_preds, y=test_flower_counts)\n",
    "plt.show()"
   ]
  },
  {
   "cell_type": "code",
   "execution_count": 14,
   "id": "edbe2b6a-40f5-457c-98b9-80735eef556c",
   "metadata": {},
   "outputs": [
    {
     "data": {
      "image/png": "[encoded data removed]"
     },
     "metadata": {},
     "output_type": "display_data"
    }
   ],
   "source": [
    "sns.histplot(x=errors)"
   ]
  },
  {
   "cell_type": "code",
   "execution_count": null,
   "id": "0e8dd73c-0f3b-4e13-ad22-636b0f095cac",
   "metadata": {},
   "outputs": [],
   "source": []
  }
 ],
 "metadata": {
  "kernelspec": {
   "display_name": "Kedro (self_supervised)",
   "language": "python",
   "name": "kedro_self_supervised"
  },
  "language_info": {
   "codemirror_mode": {
    "name": "ipython",
    "version": 3
   },
   "file_extension": ".py",
   "mimetype": "text/x-python",
   "name": "python",
   "nbconvert_exporter": "python",
   "pygments_lexer": "ipython3",
   "version": "3.8.11"
  }
 },
 "nbformat": 4,
 "nbformat_minor": 5
}
