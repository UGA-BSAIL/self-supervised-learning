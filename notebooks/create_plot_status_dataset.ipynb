{
 "cells": [
  {
   "cell_type": "code",
   "execution_count": 28,
   "id": "2abc8906-79dc-4c7b-a761-e19a4bca5660",
   "metadata": {
    "tags": []
   },
   "outputs": [],
   "source": [
    "from xml.etree import ElementTree\n",
    "\n",
    "annotations = ElementTree.parse(\"annotations_40.xml\").getroot()\n",
    "image_info = annotations.findall(\"image\")"
   ]
  },
  {
   "cell_type": "code",
   "execution_count": 29,
   "id": "7a049adb-8361-4631-a730-812dd2bacf54",
   "metadata": {
    "tags": []
   },
   "outputs": [],
   "source": [
    "from pathlib import Path\n",
    "\n",
    "SPLIT = \"train\"\n",
    "\n",
    "# Create the dataset structure.\n",
    "root_dir = Path(\"plot_status_dataset\") / SPLIT\n",
    "root_dir.mkdir(exist_ok=True, parents=True)\n",
    "headland_dir = root_dir / \"headland\"\n",
    "headland_dir.mkdir(exist_ok=True)\n",
    "in_plot_dir = root_dir / \"in_plot\"\n",
    "in_plot_dir.mkdir(exist_ok=True)\n",
    "between_plots_dir = root_dir / \"between_plots\"\n",
    "between_plots_dir.mkdir(exist_ok=True)\n",
    "    "
   ]
  },
  {
   "cell_type": "code",
   "execution_count": 30,
   "id": "4a2811e0-c3bc-434d-b871-ef94c5724737",
   "metadata": {
    "tags": []
   },
   "outputs": [],
   "source": [
    "import shutil\n",
    "\n",
    "IMAGE_DIR = Path(\"/home/daniel/lab_share/scratch/mars_multi_camera\")\n",
    "\n",
    "def _copy_image(image: str, class_dir: Path) -> None:\n",
    "    # Copies an image into the directory for a class.\n",
    "    source_path = IMAGE_DIR / image\n",
    "    shutil.copyfile(source_path, class_dir / image)\n",
    "\n",
    "for image_node in image_info:\n",
    "    image_name = image_node.get(\"name\")\n",
    "    tag = image_node.find(\"tag\")\n",
    "    if tag is None:\n",
    "        # No tags means its in the headland.\n",
    "        _copy_image(image_name, headland_dir)\n",
    "    elif tag.find(\"attribute\").text == \"in_plot\":\n",
    "        # It is inside a plot.\n",
    "        _copy_image(image_name, in_plot_dir)\n",
    "    elif tag.find(\"attribute\").text == \"between_plots\":\n",
    "        # It is between plots.\n",
    "        _copy_image(image_name, between_plots_dir)\n",
    "    else:\n",
    "        raise ValueError(f\"Unexpected image attribute value {tag.find('attribute').text}\")\n",
    "        "
   ]
  },
  {
   "cell_type": "code",
   "execution_count": null,
   "id": "1891876c-6031-4075-9f89-87afb6e252da",
   "metadata": {},
   "outputs": [],
   "source": []
  }
 ],
 "metadata": {
  "kernelspec": {
   "display_name": "Kedro (self_supervised)",
   "language": "python",
   "name": "kedro_self_supervised"
  },
  "language_info": {
   "codemirror_mode": {
    "name": "ipython",
    "version": 3
   },
   "file_extension": ".py",
   "mimetype": "text/x-python",
   "name": "python",
   "nbconvert_exporter": "python",
   "pygments_lexer": "ipython3",
   "version": "3.10.10"
  }
 },
 "nbformat": 4,
 "nbformat_minor": 5
}
