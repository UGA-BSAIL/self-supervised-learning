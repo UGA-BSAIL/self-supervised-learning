{
 "cells": [
  {
   "cell_type": "code",
   "execution_count": 1,
   "id": "00c76205-50b7-43ba-b733-d5f59c343003",
   "metadata": {},
   "outputs": [
    {
     "name": "stdout",
     "output_type": "stream",
     "text": [
      "2024-05-14 09:37:23,388 - kedro.ipython - INFO - Resolved project path as: /home/daniel/git/self-supervised-learning.\n",
      "To set a different path, run '%reload_kedro <project_root>'\n",
      "2024-05-14 09:37:23,406 - py.warnings - WARNING - /home/daniel/git/self-supervised-learning/.venv/lib/python3.10/site-packages/kedro/framework/startup.py:99: KedroDeprecationWarning: project_version in pyproject.toml is deprecated, use kedro_init_version instead\n",
      "  warnings.warn(\n",
      "\n",
      "2024-05-14 09:37:23,543 - py.warnings - WARNING - /home/daniel/git/self-supervised-learning/.venv/lib/python3.10/site-packages/kedro/framework/session/session.py:267: KedroDeprecationWarning: TemplatedConfigLoader will be deprecated in Kedro 0.19. Please use the OmegaConfigLoader instead. To consult the documentation for OmegaConfigLoader, see here: https://docs.kedro.org/en/stable/configuration/advanced_configuration.html#omegaconfigloader\n",
      "  warnings.warn(\n",
      "\n",
      "2024-05-14 09:37:23,567 - py.warnings - WARNING - /home/daniel/git/self-supervised-learning/.venv/lib/python3.10/site-packages/kedro/io/__init__.py:44: KedroDeprecationWarning: 'AbstractDataSet' has been renamed to 'AbstractDataset', and the alias will be removed in Kedro 0.19.0\n",
      "  return getattr(kedro.io.core, name)\n",
      "\n",
      "2024-05-14 09:37:23,568 - py.warnings - WARNING - /home/daniel/git/self-supervised-learning/.venv/lib/python3.10/site-packages/kedro/io/__init__.py:44: KedroDeprecationWarning: 'AbstractVersionedDataSet' has been renamed to 'AbstractVersionedDataset', and the alias will be removed in Kedro 0.19.0\n",
      "  return getattr(kedro.io.core, name)\n",
      "\n",
      "2024-05-14 09:37:23,569 - py.warnings - WARNING - /home/daniel/git/self-supervised-learning/.venv/lib/python3.10/site-packages/kedro/io/partitioned_dataset.py:200: KedroDeprecationWarning: 'PartitionedDataset' has been moved to `kedro-datasets` and will be removed in Kedro 0.19.0.\n",
      "  warnings.warn(\n",
      "\n",
      "2024-05-14 09:37:23,705 - kedro.ipython - INFO - Kedro project Self-Supervised Learning\n",
      "2024-05-14 09:37:23,706 - kedro.ipython - INFO - Defined global variable 'context', 'session', 'catalog' and 'pipelines'\n",
      "2024-05-14 09:37:23,713 - kedro.io.data_catalog - INFO - Loading data from 'yolov8_l_description' (YAMLDataSet)...\n"
     ]
    },
    {
     "name": "stderr",
     "output_type": "stream",
     "text": [
      "2024-05-14 09:37:23.835 | INFO     | self_supervised.pipelines.train_simclr.nodes:<module>:44 - Using cpu device.\n"
     ]
    }
   ],
   "source": [
    "import torch\n",
    "\n",
    "%reload_kedro\n",
    "# trained_model = catalog.load(\"trained_model\", version=\"2023-03-29T11.37.00.000Z\")\n",
    "model_config = catalog.load(\"yolov8_l_description\")\n",
    "trained_model = torch.load(\"../checkpoints/checkpoint_30000.pt\", map_location=\"cpu\")"
   ]
  },
  {
   "cell_type": "code",
   "execution_count": 2,
   "id": "0d4dda4c-0ab2-40a5-99f9-24c3767ebcf1",
   "metadata": {},
   "outputs": [
    {
     "name": "stdout",
     "output_type": "stream",
     "text": [
      "\n",
      "                   from  n    params  module                                       arguments                     \n",
      "  0                  -1  1      2240  ultralytics.nn.modules.conv.Conv             [3, 64, 3, 2]                 \n",
      "  1                  -1  1     74752  ultralytics.nn.modules.conv.Conv             [64, 128, 3, 2]               \n",
      "  2                  -1  3    283648  ultralytics.nn.modules.block.C2f             [128, 128, 3, True]           \n",
      "  3                  -1  1    296960  ultralytics.nn.modules.conv.Conv             [128, 256, 3, 2]              \n",
      "  4                  -1  6   2113536  ultralytics.nn.modules.block.C2f             [256, 256, 6, True]           \n",
      "  5                  -1  1   1183744  ultralytics.nn.modules.conv.Conv             [256, 512, 3, 2]              \n",
      "  6                  -1  6   8421376  ultralytics.nn.modules.block.C2f             [512, 512, 6, True]           \n",
      "  7                  -1  1   2363392  ultralytics.nn.modules.conv.Conv             [512, 512, 3, 2]              \n",
      "  8                  -1  3   4476928  ultralytics.nn.modules.block.C2f             [512, 512, 3, True]           \n",
      "  9                  -1  1    661504  ultralytics.nn.modules.block.SPPF            [512, 512, 5]                 \n",
      " 10                  -1  1         0  torch.nn.modules.upsampling.Upsample         [None, 2, 'nearest']          \n",
      " 11             [-1, 6]  1         0  ultralytics.nn.modules.conv.Concat           [1]                           \n",
      " 12                  -1  3   4739072  ultralytics.nn.modules.block.C2f             [1024, 512, 3]                \n",
      " 13                  -1  1         0  torch.nn.modules.upsampling.Upsample         [None, 2, 'nearest']          \n",
      " 14             [-1, 4]  1         0  ultralytics.nn.modules.conv.Concat           [1]                           \n",
      " 15                  -1  3   1255424  ultralytics.nn.modules.block.C2f             [768, 256, 3]                 \n",
      " 16                  -1  1    591872  ultralytics.nn.modules.conv.Conv             [256, 256, 3, 2]              \n",
      " 17            [-1, 12]  1         0  ultralytics.nn.modules.conv.Concat           [1]                           \n",
      " 18                  -1  3   4608000  ultralytics.nn.modules.block.C2f             [768, 512, 3]                 \n",
      " 19                  -1  1   2363392  ultralytics.nn.modules.conv.Conv             [512, 512, 3, 2]              \n",
      " 20             [-1, 9]  1         0  ultralytics.nn.modules.conv.Concat           [1]                           \n",
      " 21                  -1  3   4739072  ultralytics.nn.modules.block.C2f             [1024, 512, 3]                \n",
      " 22        [15, 18, 21]  1   5656000  ultralytics.nn.modules.head.Detect           [80, [256, 512, 512]]         \n",
      "Model summary: 754 layers, 43830912 parameters, 43830896 gradients, 165.7 GFLOPs\n",
      "\n"
     ]
    }
   ],
   "source": [
    "import re\n",
    "from ultralytics.models.yolo.detect.train import DetectionModel\n",
    "from self_supervised.pipelines.train_simclr.moco import MoCo\n",
    "\n",
    "# Reset lower layers in the model.\n",
    "if isinstance(trained_model, MoCo):\n",
    "    yolo = trained_model.encoder_q.encoder.yolo\n",
    "    # yolo.model.wrapped = yolo.model._module\n",
    "    # del yolo.model._module\n",
    "else:\n",
    "    yolo = trained_model.encoder.yolo\n",
    "model_config[\"scale\"] = \"l\"\n",
    "new_yolo = DetectionModel(model_config)\n",
    "\n",
    "state_dict = yolo.state_dict()\n",
    "layer_num_re = re.compile(r\"model\\.(wrapped\\.)?(\\d*)\\..*\")\n",
    "pruned_state_dict = {}\n",
    "for key, params in state_dict.items():\n",
    "    layer_num = int(layer_num_re.match(key).groups()[1])\n",
    "    if layer_num < 10:\n",
    "        pruned_state_dict[key] = params\n",
    "        \n",
    "incompatible_keys = new_yolo.load_state_dict(pruned_state_dict, strict=False)\n",
    "assert len(incompatible_keys.unexpected_keys) == 0"
   ]
  },
  {
   "cell_type": "code",
   "execution_count": 3,
   "id": "c38d423e-318d-4eb5-8233-54be41e27d1b",
   "metadata": {},
   "outputs": [],
   "source": [
    "import numpy as np\n",
    "\n",
    "assert not np.all(new_yolo.state_dict()[\"model.wrapped.12.m.0.cv2.conv.weight\"].numpy() == yolo.state_dict()[\"model.wrapped.12.m.0.cv2.conv.weight\"].numpy())\n",
    "assert np.all(new_yolo.state_dict()[\"model.wrapped.9.cv2.conv.weight\"].numpy() == yolo.state_dict()[\"model.wrapped.9.cv2.conv.weight\"].numpy())"
   ]
  },
  {
   "cell_type": "code",
   "execution_count": 4,
   "id": "454a7de2-bacc-4b7c-bb1a-c74d6a9178f7",
   "metadata": {},
   "outputs": [],
   "source": [
    "import torch\n",
    "\n",
    "torch.save({\"model\": new_yolo}, \"../yolov8l_ssl_moco.pt\")"
   ]
  },
  {
   "cell_type": "code",
   "execution_count": null,
   "id": "a86dc7da-5571-4e41-a06e-2e04fe7f89e2",
   "metadata": {},
   "outputs": [],
   "source": []
  }
 ],
 "metadata": {
  "kernelspec": {
   "display_name": "Kedro (self_supervised)",
   "language": "python",
   "name": "kedro_self_supervised"
  },
  "language_info": {
   "codemirror_mode": {
    "name": "ipython",
    "version": 3
   },
   "file_extension": ".py",
   "mimetype": "text/x-python",
   "name": "python",
   "nbconvert_exporter": "python",
   "pygments_lexer": "ipython3",
   "version": "3.10.10"
  }
 },
 "nbformat": 4,
 "nbformat_minor": 5
}
